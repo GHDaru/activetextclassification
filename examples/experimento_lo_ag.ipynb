{
 "cells": [
  {
   "cell_type": "code",
   "execution_count": 14,
   "id": "bdc4210a",
   "metadata": {},
   "outputs": [
    {
     "name": "stdout",
     "output_type": "stream",
     "text": [
      "Módulos da biblioteca activetextclassification importados.\n",
      "The autoreload extension is already loaded. To reload it, use:\n",
      "  %reload_ext autoreload\n",
      "Autoreload ativado.\n",
      "Experimento de Otimização de L0 com Algoritmo Genético\n",
      "Dataset: ../data/dataset.csv, L0 Size: 100\n",
      "Classificador para Fitness: PVBin\n",
      "AG Params: Pop=20, Gens=100\n"
     ]
    }
   ],
   "source": [
    "# %%\n",
    "# =============================================================================\n",
    "# Célula 1: Imports e Configurações Globais\n",
    "# =============================================================================\n",
    "import pandas as pd\n",
    "import numpy as np\n",
    "import time\n",
    "import os \n",
    "import matplotlib.pyplot as plt\n",
    "import seaborn as sns # Para plots melhores (opcional)\n",
    "import json # Para configs, embora não usado diretamente aqui\n",
    "import traceback\n",
    "\n",
    "# --- Imports da Biblioteca ---\n",
    "try:\n",
    "    from activetextclassification.data_preparation import load_and_prepare_data\n",
    "    from activetextclassification.models import get_model, BaseTextClassifier, BaseFeatureClassifier\n",
    "    from activetextclassification.embeddings import get_embedder, BaseEmbedder # Para embedder global\n",
    "    from activetextclassification.optimization.genetic_l0_optimizer import GeneticL0Optimizer\n",
    "    from activetextclassification.utils import preprocess_label # Para pré-processamento do df_full\n",
    "    print(\"Módulos da biblioteca activetextclassification importados.\")\n",
    "except ModuleNotFoundError as e:\n",
    "    print(f\"ERRO CRÍTICO: Falha ao importar módulos: {e}. Verifique a instalação e o PYTHONPATH.\")\n",
    "    raise e\n",
    "except Exception as e:\n",
    "    print(f\"ERRO inesperado durante importação: {e}\")\n",
    "    raise e\n",
    "\n",
    "\n",
    "# --- Autoreload (Opcional, útil durante desenvolvimento) ---\n",
    "try:\n",
    "    %load_ext autoreload\n",
    "    %autoreload 2\n",
    "    print(\"Autoreload ativado.\")\n",
    "except Exception as e:\n",
    "    print(f\"Não foi possível ativar autoreload: {e}\")\n",
    "\n",
    "\n",
    "# --- Parâmetros do Experimento de Otimização ---\n",
    "# <<< MUDE AQUI CONFORME NECESSÁRIO >>>\n",
    "DATA_FILE = r'../data/dataset.csv'\n",
    "TEXT_COLUMN = 'nm_item'\n",
    "LABEL_COLUMN = 'nm_product' # Label \"perfeito\" original\n",
    "MIN_SAMPLES_PREPROC = 5     # Mínimo de amostras para uma classe não ser agrupada\n",
    "RARE_LABEL_PREPROC = \"_RARE_\" # Rótulo para classes raras\n",
    "\n",
    "# Configuração do Classificador (o mesmo usado na função de fitness do AG)\n",
    "CLASSIFIER_CONFIG_AG = {\n",
    "    'type': 'PVBin', # ProductVectorizer Binário\n",
    "    'params': {'method':'binary', 'query':'binary', 'norm':None, 'query_norm':None, 'ngram_range': [1,2]}\n",
    "}\n",
    "# Se o classificador for baseado em features (ex: 'GNB', 'LSVC'), defina o GLOBAL_EMBEDDER_CONFIG_AG\n",
    "GLOBAL_EMBEDDER_CONFIG_AG = None # Exemplo:\n",
    "# GLOBAL_EMBEDDER_CONFIG_AG = {\n",
    "#     'type': 'PVProb', # Usar ProductVectorizerEmbedder para gerar features\n",
    "#     'params': {\n",
    "#         'vectorizer_params': {'method':'tfidf', 'query':'tfidf', 'norm':'l2', 'query_norm':'l2', 'ngram_range': (1,1)},\n",
    "#         'cache_dir': \".pv_cache_ag_embedder\"\n",
    "#     }\n",
    "# }\n",
    "\n",
    "# Parâmetros do Algoritmo Genético\n",
    "L0_SIZE_TO_OPTIMIZE = 100 # Tamanho do L0 que queremos encontrar (ex: 100, 500, 1000)\n",
    "POPULATION_SIZE_AG = 20    # Número de indivíduos na população (ex: 20-50)\n",
    "N_GENERATIONS_AG = 100      # Número de gerações (ex: 10-100)\n",
    "CROSSOVER_RATE_AG = 0.8\n",
    "MUTATION_RATE_AG = 0.2    # Probabilidade de um indivíduo sofrer mutação\n",
    "MUTATION_STRENGTH_AG = 4  # Quantos \"genes\" (índices) trocar na mutação\n",
    "ELITISM_RATE_AG = 0.2     # 10% da elite passa para a próxima geração\n",
    "TOURNAMENT_SIZE_AG = 3    # Tamanho do torneio para seleção\n",
    "\n",
    "# Arquivos de Saída (searão prefixados com MAX_ ou MIN_)\n",
    "OPTIMIZATION_HISTORY_BASE_FILE = f\"ag_l0_opt_history_size{L0_SIZE_TO_OPTIMIZE}minmax\"\n",
    "BEST_L0_BASE_FILE = f\"ag_l0_opt_best_l0_size{L0_SIZE_TO_OPTIMIZE}minmax\"\n",
    "DETAILED_FITNESS_LOG_BASE_FILE = f\"ag_detailed_fitness_size{L0_SIZE_TO_OPTIMIZE}minmax\"\n",
    "# <<< FIM MUDE AQUI >>>\n",
    "\n",
    "print(f\"Experimento de Otimização de L0 com Algoritmo Genético\")\n",
    "print(f\"Dataset: {DATA_FILE}, L0 Size: {L0_SIZE_TO_OPTIMIZE}\")\n",
    "print(f\"Classificador para Fitness: {CLASSIFIER_CONFIG_AG['type']}\")\n",
    "if GLOBAL_EMBEDDER_CONFIG_AG: print(f\"Embedder Global para Fitness: {GLOBAL_EMBEDDER_CONFIG_AG['type']}\")\n",
    "print(f\"AG Params: Pop={POPULATION_SIZE_AG}, Gens={N_GENERATIONS_AG}\")"
   ]
  },
  {
   "cell_type": "code",
   "execution_count": 15,
   "id": "5ab065fc",
   "metadata": {},
   "outputs": [
    {
     "name": "stdout",
     "output_type": "stream",
     "text": [
      "\n",
      "--- Carregando e Preparando Dataset Completo para AG ---\n",
      "--- Iniciando Preparação de Dados ---\n",
      "Carregando dados de: ../data/dataset.csv\n",
      "Shape inicial: (250365, 2)\n",
      "Shape após remover NaNs: (250365, 2) (0 linhas removidas)\n",
      "Pré-processando rótulos...\n",
      "Verificando classes com menos de 5 amostras...\n",
      "Agrupando 174 classes raras em '_RARE_': ['soquete', 'jabuticaba', 'jogo de carta', 'farinha sem gluten', 'escada', 'maria mole', 'impressora', 'analgesico veterinario', 'estojo', 'quadro']...\n",
      "Distribuição de classes após agrupamento:\n",
      "nm_product\n",
      "biscoito                                 14292\n",
      "iogurte                                   7520\n",
      "chocolate                                 6732\n",
      "padaria e confeitaria industrializado     6046\n",
      "aperitivo                                 5186\n",
      "Name: count, dtype: int64\n",
      "Mapeamento de rótulos finalizado: 622 classes (incluindo '_RARE_' se criado).\n",
      "Dividindo em População (P = 99%) e Pool (U)...\n",
      "Tamanho População P: 247861\n",
      "Tamanho Pool U inicial: 2504\n",
      "--- Preparação de Dados Concluída ---\n",
      "Labels únicos finais (622): ['apresuntado', 'carne suina', 'whisky', 'leite condensado', 'bebida lactea', 'achocolatado', 'alimento pet', 'sabonete infantil', 'absorvente', 'shampoo infantil']...\n",
      "Recarregando DataFrame completo de: ../data/dataset.csv\n",
      "Aplicando agrupamento de 174 classes raras em '_RARE_' no DF completo...\n",
      "Dataset AG preparado. Total de amostras: 250365\n"
     ]
    }
   ],
   "source": [
    "# %%\n",
    "# =============================================================================\n",
    "# Célula 2: Carregar Dados e Preparar Embedder Global (se necessário)\n",
    "# =============================================================================\n",
    "print(\"\\n--- Carregando e Preparando Dataset Completo para AG ---\")\n",
    "df_full_ag = None\n",
    "all_possible_labels_ag = []\n",
    "embedder_instance_ag = None # Para guardar o embedder global se usado\n",
    "\n",
    "try:\n",
    "    # Usar load_and_prepare para obter labels únicos e fazer pré-proc inicial\n",
    "    _, _, _, _, all_possible_labels_ag = load_and_prepare_data(\n",
    "        file_path=DATA_FILE, text_column=TEXT_COLUMN, label_column=LABEL_COLUMN,\n",
    "        min_samples_per_class=MIN_SAMPLES_PREPROC, rare_group_label=RARE_LABEL_PREPROC,\n",
    "        population_size=0.99 # Apenas para carregar e processar quase tudo\n",
    "    )\n",
    "    if not all_possible_labels_ag: raise ValueError(\"Nenhum label encontrado após preparação inicial.\")\n",
    "    print(f\"Labels únicos finais ({len(all_possible_labels_ag)}): {all_possible_labels_ag[:10]}...\")\n",
    "\n",
    "    # Recarregar o DF completo e aplicar o mesmo pré-processamento de labels\n",
    "    print(f\"Recarregando DataFrame completo de: {DATA_FILE}\")\n",
    "    file_ext_ag = os.path.splitext(DATA_FILE)[1].lower()\n",
    "    if file_ext_ag == '.csv': df_full_ag = pd.read_csv(DATA_FILE)\n",
    "    elif file_ext_ag in ['.xlsx', '.xls']: df_full_ag = pd.read_excel(DATA_FILE)\n",
    "    else: raise ValueError(f\"Extensão de arquivo não suportada: {file_ext_ag}\")\n",
    "\n",
    "    df_full_ag.dropna(subset=[TEXT_COLUMN, LABEL_COLUMN], inplace=True)\n",
    "    # Aplicar preprocess_label e agrupamento de raros consistentemente\n",
    "    df_full_ag[LABEL_COLUMN] = df_full_ag[LABEL_COLUMN].apply(preprocess_label).astype(str)\n",
    "    if MIN_SAMPLES_PREPROC > 1:\n",
    "        label_counts_ag = df_full_ag[LABEL_COLUMN].value_counts()\n",
    "        rare_labels_ag = label_counts_ag[label_counts_ag < MIN_SAMPLES_PREPROC].index.tolist()\n",
    "        if rare_labels_ag:\n",
    "            print(f\"Aplicando agrupamento de {len(rare_labels_ag)} classes raras em '{RARE_LABEL_PREPROC}' no DF completo...\")\n",
    "            df_full_ag[LABEL_COLUMN] = df_full_ag[LABEL_COLUMN].replace(rare_labels_ag, RARE_LABEL_PREPROC)\n",
    "\n",
    "    # Filtrar o DF completo para conter apenas os labels finais válidos\n",
    "    df_full_ag = df_full_ag[df_full_ag[LABEL_COLUMN].isin(all_possible_labels_ag)].copy()\n",
    "    df_full_ag.reset_index(drop=True, inplace=True) # Crucial para AG usar índices de 0 a N-1\n",
    "\n",
    "    print(f\"Dataset AG preparado. Total de amostras: {len(df_full_ag)}\")\n",
    "    if df_full_ag.empty: raise ValueError(\"Dataset AG vazio após preparação.\")\n",
    "    if L0_SIZE_TO_OPTIMIZE > len(df_full_ag):\n",
    "         raise ValueError(f\"L0_SIZE_TO_OPTIMIZE ({L0_SIZE_TO_OPTIMIZE}) é maior que o dataset filtrado ({len(df_full_ag)}).\")\n",
    "\n",
    "\n",
    "    # Preparar embedder global SE o classificador AG for BaseFeatureClassifier\n",
    "    clf_type_ag = CLASSIFIER_CONFIG_AG.get('type')\n",
    "    if clf_type_ag in ['GNB', 'LSVC', 'LR', 'SGD'] and GLOBAL_EMBEDDER_CONFIG_AG:\n",
    "        print(\"\\nPreparando embedder global para AG (usado pela função de fitness)...\")\n",
    "        embedder_instance_ag = get_embedder(GLOBAL_EMBEDDER_CONFIG_AG)\n",
    "        # O fit do embedder precisa de todos os textos e labels para consistência\n",
    "        # (especialmente para PVProbEmbedder)\n",
    "        embedder_instance_ag.fit(df_full_ag[TEXT_COLUMN].tolist(), df_full_ag[LABEL_COLUMN].tolist())\n",
    "        print(\"Embedder global para AG ajustado.\")\n",
    "    elif clf_type_ag in ['GNB', 'LSVC', 'LR', 'SGD'] and not GLOBAL_EMBEDDER_CONFIG_AG:\n",
    "        raise ValueError(f\"Classificador AG '{clf_type_ag}' requer GLOBAL_EMBEDDER_CONFIG_AG, mas não foi fornecido.\")\n",
    "\n",
    "\n",
    "except Exception as e:\n",
    "    print(f\"ERRO CRÍTICO ao carregar/preparar dados para AG: {e}\")\n",
    "    traceback.print_exc()\n",
    "    # Parar o notebook se os dados não puderem ser carregados\n",
    "    raise SystemExit(\"Falha na preparação dos dados para o AG.\")"
   ]
  },
  {
   "cell_type": "code",
   "execution_count": 10,
   "id": "5cf5a91a",
   "metadata": {},
   "outputs": [],
   "source": [
    "def run_and_save_optimization(df_full, optimization_goal, fitness_metric_to_optimize, seed_offset=0):\n",
    "    \"\"\"\n",
    "    Executa o AG para um dado objetivo e salva os resultados.\n",
    "    \"\"\"\n",
    "    print(f\"\\n{'='*15} Iniciando Otimização de L0 (Tamanho: {L0_SIZE_TO_OPTIMIZE}) com AG - Objetivo: {optimization_goal.upper()} - Métrica: {fitness_metric_to_optimize} {'='*15}\")\n",
    "\n",
    "    ag_optimizer = GeneticL0Optimizer(\n",
    "        df_full=df_full,\n",
    "        text_column=TEXT_COLUMN,\n",
    "        label_column=LABEL_COLUMN,\n",
    "        classifier_config=CLASSIFIER_CONFIG_AG,\n",
    "        initial_l0_size=L0_SIZE_TO_OPTIMIZE,\n",
    "        all_possible_labels=all_possible_labels_ag,\n",
    "        population_size=POPULATION_SIZE_AG,\n",
    "        n_generations=N_GENERATIONS_AG,\n",
    "        crossover_rate=CROSSOVER_RATE_AG,\n",
    "        mutation_rate=MUTATION_RATE_AG,\n",
    "        mutation_strength=MUTATION_STRENGTH_AG,\n",
    "        elitism_rate=ELITISM_RATE_AG,\n",
    "        fitness_metric=fitness_metric_to_optimize, # Métrica alvo\n",
    "        optimization_goal=optimization_goal,       # 'maximize' ou 'minimize'\n",
    "        tournament_size=TOURNAMENT_SIZE_AG,\n",
    "        random_seed=42 + seed_offset, # Seed diferente para cada otimização\n",
    "        embedder=embedder_instance_ag,\n",
    "        log_detailed_fitness=True,\n",
    "        detailed_log_file=f\"{DETAILED_FITNESS_LOG_BASE_FILE}_{fitness_metric_to_optimize.split('_')[0].upper()}_{optimization_goal.upper()}.csv\"\n",
    "    )\n",
    "\n",
    "    best_l0_indices, best_actual_perf, history_df = ag_optimizer.run_optimization()\n",
    "\n",
    "    # --- Salvar Resultados da Otimização ---\n",
    "    goal_suffix = f\"_{fitness_metric_to_optimize.split('_')[0].upper()}_{optimization_goal.upper()}\"\n",
    "\n",
    "    # 1. Salvar Histórico da Otimização (fitness por geração)\n",
    "    if history_df is not None and not history_df.empty:\n",
    "        file_hist = f\"{OPTIMIZATION_HISTORY_BASE_FILE}{goal_suffix}.xlsx\"\n",
    "        print(f\"Salvando histórico da otimização ({goal_suffix}) em: {file_hist}\")\n",
    "        try: history_df.to_excel(file_hist, index=False)\n",
    "        except Exception as e: print(f\"Erro ao salvar histórico AG ({goal_suffix}): {e}\")\n",
    "    else:\n",
    "        print(f\"Nenhum histórico de otimização para salvar ({goal_suffix}).\")\n",
    "\n",
    "    # 2. Salvar o Melhor/Pior L0 Encontrado\n",
    "    if best_l0_indices is not None and len(best_l0_indices) > 0:\n",
    "        file_best_l0 = f\"{BEST_L0_BASE_FILE}{goal_suffix}.csv\"\n",
    "        print(f\"Salvando L0 (Objetivo: {optimization_goal}, Perf: {best_actual_perf:.4f}) em: {file_best_l0}\")\n",
    "        best_l0_df = df_full.iloc[best_l0_indices][[TEXT_COLUMN, LABEL_COLUMN]].copy()\n",
    "        best_l0_df['metric_value'] = best_actual_perf # Performance real\n",
    "        best_l0_df['metric_type'] = fitness_metric_to_optimize\n",
    "        best_l0_df['optimization_goal'] = optimization_goal\n",
    "        try: best_l0_df.to_csv(file_best_l0, index=False, encoding='utf-8-sig')\n",
    "        except Exception as e: print(f\"Erro ao salvar melhor/pior L0 ({goal_suffix}): {e}\")\n",
    "    else:\n",
    "        print(f\"Nenhum L0 encontrado para o objetivo '{optimization_goal}' ({goal_suffix}).\")\n",
    "\n",
    "    return best_l0_indices, best_actual_perf, history_df\n",
    "\n"
   ]
  },
  {
   "cell_type": "code",
   "execution_count": null,
   "id": "0e3b4786",
   "metadata": {},
   "outputs": [
    {
     "name": "stdout",
     "output_type": "stream",
     "text": [
      "\n",
      "=============== Iniciando Otimização de L0 (Tamanho: 100) com AG - Objetivo: MAXIMIZE - Métrica: accuracy_on_full ===============\n",
      "GeneticL0Optimizer inicializado.\n",
      " - População: 20, Gerações: 100, L0 Size: 100\n",
      " - Objetivo: maximize, Métrica: accuracy_on_full\n",
      " - Log Detalhado ATIVADO em: d:\\Nuvem\\ghdaru\\OneDrive\\030_DOUTORADO\\120_TESE\\130_TESEGIT\\Tese-Vers-o-Draft\\code\\codigos\\falco_library\\examples\\ag_detailed_fitness_size100minmax_ACCURACY_MAXIMIZE.csv\n",
      "\n",
      "--- Iniciando Otimização Genética (Tam: 100, Obj: maximize, Métrica: accuracy_on_full) ---\n",
      "Inicializando população...\n"
     ]
    },
    {
     "data": {
      "application/vnd.jupyter.widget-view+json": {
       "model_id": "22431d16c81a41a09ab7190853698c24",
       "version_major": 2,
       "version_minor": 0
      },
      "text/plain": [
       "Criando População Inicial:   0%|          | 0/20 [00:00<?, ?it/s]"
      ]
     },
     "metadata": {},
     "output_type": "display_data"
    },
    {
     "data": {
      "application/vnd.jupyter.widget-view+json": {
       "model_id": "5bc955933c614e81abd92f1e637baf05",
       "version_major": 2,
       "version_minor": 0
      },
      "text/plain": [
       "Gerações AG:   0%|          | 0/100 [00:00<?, ?it/s]"
      ]
     },
     "metadata": {},
     "output_type": "display_data"
    },
    {
     "name": "stdout",
     "output_type": "stream",
     "text": [
      "\n",
      "  Geração 1/100\n"
     ]
    },
    {
     "data": {
      "application/vnd.jupyter.widget-view+json": {
       "model_id": "812a7ed7ece44a43a15816e3edbec8ed",
       "version_major": 2,
       "version_minor": 0
      },
      "text/plain": [
       "Fitness Calc Gen 1:   0%|          | 0/20 [00:00<?, ?it/s]"
      ]
     },
     "metadata": {},
     "output_type": "display_data"
    },
    {
     "name": "stdout",
     "output_type": "stream",
     "text": [
      "Model Factory: Criando tipo 'PVBin' com params: {'method': 'binary', 'query': 'binary', 'norm': None, 'query_norm': None, 'ngram_range': [1, 2]}\n",
      "Model Factory (PVBin): Convertido ngram_range [1, 2] para tupla (1, 2)\n",
      "Fitting ProductVectorizerClassifier com 100 amostras...\n",
      "Fit concluído.\n",
      "Model Factory: Criando tipo 'PVBin' com params: {'method': 'binary', 'query': 'binary', 'norm': None, 'query_norm': None, 'ngram_range': [1, 2]}\n",
      "Model Factory (PVBin): Convertido ngram_range [1, 2] para tupla (1, 2)\n",
      "Fitting ProductVectorizerClassifier com 100 amostras...\n",
      "Fit concluído.\n",
      "Model Factory: Criando tipo 'PVBin' com params: {'method': 'binary', 'query': 'binary', 'norm': None, 'query_norm': None, 'ngram_range': [1, 2]}\n",
      "Model Factory (PVBin): Convertido ngram_range [1, 2] para tupla (1, 2)\n",
      "Fitting ProductVectorizerClassifier com 100 amostras...\n",
      "Fit concluído.\n",
      "Model Factory: Criando tipo 'PVBin' com params: {'method': 'binary', 'query': 'binary', 'norm': None, 'query_norm': None, 'ngram_range': [1, 2]}\n",
      "Model Factory (PVBin): Convertido ngram_range [1, 2] para tupla (1, 2)\n",
      "Fitting ProductVectorizerClassifier com 100 amostras...\n",
      "Fit concluído.\n",
      "Model Factory: Criando tipo 'PVBin' com params: {'method': 'binary', 'query': 'binary', 'norm': None, 'query_norm': None, 'ngram_range': [1, 2]}\n",
      "Model Factory (PVBin): Convertido ngram_range [1, 2] para tupla (1, 2)\n",
      "Fitting ProductVectorizerClassifier com 100 amostras...\n",
      "Fit concluído.\n",
      "Model Factory: Criando tipo 'PVBin' com params: {'method': 'binary', 'query': 'binary', 'norm': None, 'query_norm': None, 'ngram_range': [1, 2]}\n",
      "Model Factory (PVBin): Convertido ngram_range [1, 2] para tupla (1, 2)\n",
      "Fitting ProductVectorizerClassifier com 100 amostras...\n",
      "Fit concluído.\n",
      "Model Factory: Criando tipo 'PVBin' com params: {'method': 'binary', 'query': 'binary', 'norm': None, 'query_norm': None, 'ngram_range': [1, 2]}\n",
      "Model Factory (PVBin): Convertido ngram_range [1, 2] para tupla (1, 2)\n",
      "Fitting ProductVectorizerClassifier com 100 amostras...\n",
      "Fit concluído.\n",
      "Model Factory: Criando tipo 'PVBin' com params: {'method': 'binary', 'query': 'binary', 'norm': None, 'query_norm': None, 'ngram_range': [1, 2]}\n",
      "Model Factory (PVBin): Convertido ngram_range [1, 2] para tupla (1, 2)\n",
      "Fitting ProductVectorizerClassifier com 100 amostras...\n",
      "Fit concluído.\n",
      "Model Factory: Criando tipo 'PVBin' com params: {'method': 'binary', 'query': 'binary', 'norm': None, 'query_norm': None, 'ngram_range': [1, 2]}\n",
      "Model Factory (PVBin): Convertido ngram_range [1, 2] para tupla (1, 2)\n",
      "Fitting ProductVectorizerClassifier com 100 amostras...\n",
      "Fit concluído.\n",
      "Model Factory: Criando tipo 'PVBin' com params: {'method': 'binary', 'query': 'binary', 'norm': None, 'query_norm': None, 'ngram_range': [1, 2]}\n",
      "Model Factory (PVBin): Convertido ngram_range [1, 2] para tupla (1, 2)\n",
      "Fitting ProductVectorizerClassifier com 100 amostras...\n",
      "Fit concluído.\n",
      "Model Factory: Criando tipo 'PVBin' com params: {'method': 'binary', 'query': 'binary', 'norm': None, 'query_norm': None, 'ngram_range': [1, 2]}\n",
      "Model Factory (PVBin): Convertido ngram_range [1, 2] para tupla (1, 2)\n",
      "Fitting ProductVectorizerClassifier com 100 amostras...\n",
      "Fit concluído.\n",
      "Model Factory: Criando tipo 'PVBin' com params: {'method': 'binary', 'query': 'binary', 'norm': None, 'query_norm': None, 'ngram_range': [1, 2]}\n",
      "Model Factory (PVBin): Convertido ngram_range [1, 2] para tupla (1, 2)\n",
      "Fitting ProductVectorizerClassifier com 100 amostras...\n",
      "Fit concluído.\n",
      "Model Factory: Criando tipo 'PVBin' com params: {'method': 'binary', 'query': 'binary', 'norm': None, 'query_norm': None, 'ngram_range': [1, 2]}\n",
      "Model Factory (PVBin): Convertido ngram_range [1, 2] para tupla (1, 2)\n",
      "Fitting ProductVectorizerClassifier com 100 amostras...\n",
      "Fit concluído.\n",
      "Model Factory: Criando tipo 'PVBin' com params: {'method': 'binary', 'query': 'binary', 'norm': None, 'query_norm': None, 'ngram_range': [1, 2]}\n",
      "Model Factory (PVBin): Convertido ngram_range [1, 2] para tupla (1, 2)\n",
      "Fitting ProductVectorizerClassifier com 100 amostras...\n",
      "Fit concluído.\n",
      "Model Factory: Criando tipo 'PVBin' com params: {'method': 'binary', 'query': 'binary', 'norm': None, 'query_norm': None, 'ngram_range': [1, 2]}\n",
      "Model Factory (PVBin): Convertido ngram_range [1, 2] para tupla (1, 2)\n",
      "Fitting ProductVectorizerClassifier com 100 amostras...\n",
      "Fit concluído.\n",
      "Model Factory: Criando tipo 'PVBin' com params: {'method': 'binary', 'query': 'binary', 'norm': None, 'query_norm': None, 'ngram_range': [1, 2]}\n",
      "Model Factory (PVBin): Convertido ngram_range [1, 2] para tupla (1, 2)\n",
      "Fitting ProductVectorizerClassifier com 100 amostras...\n",
      "Fit concluído.\n",
      "Model Factory: Criando tipo 'PVBin' com params: {'method': 'binary', 'query': 'binary', 'norm': None, 'query_norm': None, 'ngram_range': [1, 2]}\n",
      "Model Factory (PVBin): Convertido ngram_range [1, 2] para tupla (1, 2)\n",
      "Fitting ProductVectorizerClassifier com 100 amostras...\n",
      "Fit concluído.\n",
      "Model Factory: Criando tipo 'PVBin' com params: {'method': 'binary', 'query': 'binary', 'norm': None, 'query_norm': None, 'ngram_range': [1, 2]}\n",
      "Model Factory (PVBin): Convertido ngram_range [1, 2] para tupla (1, 2)\n",
      "Fitting ProductVectorizerClassifier com 100 amostras...\n",
      "Fit concluído.\n",
      "Model Factory: Criando tipo 'PVBin' com params: {'method': 'binary', 'query': 'binary', 'norm': None, 'query_norm': None, 'ngram_range': [1, 2]}\n",
      "Model Factory (PVBin): Convertido ngram_range [1, 2] para tupla (1, 2)\n",
      "Fitting ProductVectorizerClassifier com 100 amostras...\n",
      "Fit concluído.\n",
      "Model Factory: Criando tipo 'PVBin' com params: {'method': 'binary', 'query': 'binary', 'norm': None, 'query_norm': None, 'ngram_range': [1, 2]}\n",
      "Model Factory (PVBin): Convertido ngram_range [1, 2] para tupla (1, 2)\n",
      "Fitting ProductVectorizerClassifier com 100 amostras...\n",
      "Fit concluído.\n",
      "    Novo melhor (Obj: maximize): Perf Real=0.2738\n",
      "    Acc Real Geração 1: Max=0.2738, Avg=0.2482, Min=0.1936\n",
      "    F1 Real Geração  1: Max=0.0391, Avg=0.0337, Min=0.0274\n",
      "    Duração Geração 1: 110.19s\n",
      "\n",
      "  Geração 2/100\n"
     ]
    },
    {
     "data": {
      "application/vnd.jupyter.widget-view+json": {
       "model_id": "5c080e335db9466aa756f0efe1172e5b",
       "version_major": 2,
       "version_minor": 0
      },
      "text/plain": [
       "Fitness Calc Gen 2:   0%|          | 0/20 [00:00<?, ?it/s]"
      ]
     },
     "metadata": {},
     "output_type": "display_data"
    },
    {
     "name": "stdout",
     "output_type": "stream",
     "text": [
      "Model Factory: Criando tipo 'PVBin' com params: {'method': 'binary', 'query': 'binary', 'norm': None, 'query_norm': None, 'ngram_range': [1, 2]}\n",
      "Model Factory (PVBin): Convertido ngram_range [1, 2] para tupla (1, 2)\n",
      "Fitting ProductVectorizerClassifier com 100 amostras...\n",
      "Fit concluído.\n",
      "Model Factory: Criando tipo 'PVBin' com params: {'method': 'binary', 'query': 'binary', 'norm': None, 'query_norm': None, 'ngram_range': [1, 2]}\n",
      "Model Factory (PVBin): Convertido ngram_range [1, 2] para tupla (1, 2)\n",
      "Fitting ProductVectorizerClassifier com 100 amostras...\n",
      "Fit concluído.\n",
      "Model Factory: Criando tipo 'PVBin' com params: {'method': 'binary', 'query': 'binary', 'norm': None, 'query_norm': None, 'ngram_range': [1, 2]}\n",
      "Model Factory (PVBin): Convertido ngram_range [1, 2] para tupla (1, 2)\n",
      "Fitting ProductVectorizerClassifier com 100 amostras...\n",
      "Fit concluído.\n",
      "Model Factory: Criando tipo 'PVBin' com params: {'method': 'binary', 'query': 'binary', 'norm': None, 'query_norm': None, 'ngram_range': [1, 2]}\n",
      "Model Factory (PVBin): Convertido ngram_range [1, 2] para tupla (1, 2)\n",
      "Fitting ProductVectorizerClassifier com 100 amostras...\n",
      "Fit concluído.\n",
      "Model Factory: Criando tipo 'PVBin' com params: {'method': 'binary', 'query': 'binary', 'norm': None, 'query_norm': None, 'ngram_range': [1, 2]}\n",
      "Model Factory (PVBin): Convertido ngram_range [1, 2] para tupla (1, 2)\n",
      "Fitting ProductVectorizerClassifier com 100 amostras...\n",
      "Fit concluído.\n",
      "Model Factory: Criando tipo 'PVBin' com params: {'method': 'binary', 'query': 'binary', 'norm': None, 'query_norm': None, 'ngram_range': [1, 2]}\n",
      "Model Factory (PVBin): Convertido ngram_range [1, 2] para tupla (1, 2)\n",
      "Fitting ProductVectorizerClassifier com 100 amostras...\n",
      "Fit concluído.\n",
      "Model Factory: Criando tipo 'PVBin' com params: {'method': 'binary', 'query': 'binary', 'norm': None, 'query_norm': None, 'ngram_range': [1, 2]}\n",
      "Model Factory (PVBin): Convertido ngram_range [1, 2] para tupla (1, 2)\n",
      "Fitting ProductVectorizerClassifier com 100 amostras...\n",
      "Fit concluído.\n",
      "Model Factory: Criando tipo 'PVBin' com params: {'method': 'binary', 'query': 'binary', 'norm': None, 'query_norm': None, 'ngram_range': [1, 2]}\n",
      "Model Factory (PVBin): Convertido ngram_range [1, 2] para tupla (1, 2)\n",
      "Fitting ProductVectorizerClassifier com 100 amostras...\n",
      "Fit concluído.\n",
      "Model Factory: Criando tipo 'PVBin' com params: {'method': 'binary', 'query': 'binary', 'norm': None, 'query_norm': None, 'ngram_range': [1, 2]}\n",
      "Model Factory (PVBin): Convertido ngram_range [1, 2] para tupla (1, 2)\n",
      "Fitting ProductVectorizerClassifier com 100 amostras...\n",
      "Fit concluído.\n",
      "Model Factory: Criando tipo 'PVBin' com params: {'method': 'binary', 'query': 'binary', 'norm': None, 'query_norm': None, 'ngram_range': [1, 2]}\n",
      "Model Factory (PVBin): Convertido ngram_range [1, 2] para tupla (1, 2)\n",
      "Fitting ProductVectorizerClassifier com 100 amostras...\n",
      "Fit concluído.\n",
      "Model Factory: Criando tipo 'PVBin' com params: {'method': 'binary', 'query': 'binary', 'norm': None, 'query_norm': None, 'ngram_range': [1, 2]}\n",
      "Model Factory (PVBin): Convertido ngram_range [1, 2] para tupla (1, 2)\n",
      "Fitting ProductVectorizerClassifier com 100 amostras...\n",
      "Fit concluído.\n",
      "Model Factory: Criando tipo 'PVBin' com params: {'method': 'binary', 'query': 'binary', 'norm': None, 'query_norm': None, 'ngram_range': [1, 2]}\n",
      "Model Factory (PVBin): Convertido ngram_range [1, 2] para tupla (1, 2)\n",
      "Fitting ProductVectorizerClassifier com 100 amostras...\n",
      "Fit concluído.\n",
      "Model Factory: Criando tipo 'PVBin' com params: {'method': 'binary', 'query': 'binary', 'norm': None, 'query_norm': None, 'ngram_range': [1, 2]}\n",
      "Model Factory (PVBin): Convertido ngram_range [1, 2] para tupla (1, 2)\n",
      "Fitting ProductVectorizerClassifier com 100 amostras...\n",
      "Fit concluído.\n",
      "Model Factory: Criando tipo 'PVBin' com params: {'method': 'binary', 'query': 'binary', 'norm': None, 'query_norm': None, 'ngram_range': [1, 2]}\n",
      "Model Factory (PVBin): Convertido ngram_range [1, 2] para tupla (1, 2)\n",
      "Fitting ProductVectorizerClassifier com 100 amostras...\n",
      "Fit concluído.\n",
      "Model Factory: Criando tipo 'PVBin' com params: {'method': 'binary', 'query': 'binary', 'norm': None, 'query_norm': None, 'ngram_range': [1, 2]}\n",
      "Model Factory (PVBin): Convertido ngram_range [1, 2] para tupla (1, 2)\n",
      "Fitting ProductVectorizerClassifier com 100 amostras...\n",
      "Fit concluído.\n",
      "    Novo melhor (Obj: maximize): Perf Real=0.3072\n",
      "    Acc Real Geração 2: Max=0.3072, Avg=0.2639, Min=0.2102\n",
      "    F1 Real Geração  2: Max=0.0426, Avg=0.0345, Min=0.0293\n",
      "    Duração Geração 2: 82.95s\n",
      "\n",
      "  Geração 3/100\n"
     ]
    },
    {
     "data": {
      "application/vnd.jupyter.widget-view+json": {
       "model_id": "a4fb837c4e2c4d2a9a9693dec136d189",
       "version_major": 2,
       "version_minor": 0
      },
      "text/plain": [
       "Fitness Calc Gen 3:   0%|          | 0/20 [00:00<?, ?it/s]"
      ]
     },
     "metadata": {},
     "output_type": "display_data"
    },
    {
     "name": "stdout",
     "output_type": "stream",
     "text": [
      "Model Factory: Criando tipo 'PVBin' com params: {'method': 'binary', 'query': 'binary', 'norm': None, 'query_norm': None, 'ngram_range': [1, 2]}\n",
      "Model Factory (PVBin): Convertido ngram_range [1, 2] para tupla (1, 2)\n",
      "Fitting ProductVectorizerClassifier com 100 amostras...\n",
      "Fit concluído.\n",
      "Model Factory: Criando tipo 'PVBin' com params: {'method': 'binary', 'query': 'binary', 'norm': None, 'query_norm': None, 'ngram_range': [1, 2]}\n",
      "Model Factory (PVBin): Convertido ngram_range [1, 2] para tupla (1, 2)\n",
      "Fitting ProductVectorizerClassifier com 100 amostras...\n",
      "Fit concluído.\n",
      "Model Factory: Criando tipo 'PVBin' com params: {'method': 'binary', 'query': 'binary', 'norm': None, 'query_norm': None, 'ngram_range': [1, 2]}\n",
      "Model Factory (PVBin): Convertido ngram_range [1, 2] para tupla (1, 2)\n",
      "Fitting ProductVectorizerClassifier com 100 amostras...\n",
      "Fit concluído.\n",
      "Model Factory: Criando tipo 'PVBin' com params: {'method': 'binary', 'query': 'binary', 'norm': None, 'query_norm': None, 'ngram_range': [1, 2]}\n",
      "Model Factory (PVBin): Convertido ngram_range [1, 2] para tupla (1, 2)\n",
      "Fitting ProductVectorizerClassifier com 100 amostras...\n",
      "Fit concluído.\n",
      "Model Factory: Criando tipo 'PVBin' com params: {'method': 'binary', 'query': 'binary', 'norm': None, 'query_norm': None, 'ngram_range': [1, 2]}\n",
      "Model Factory (PVBin): Convertido ngram_range [1, 2] para tupla (1, 2)\n",
      "Fitting ProductVectorizerClassifier com 100 amostras...\n",
      "Fit concluído.\n",
      "Model Factory: Criando tipo 'PVBin' com params: {'method': 'binary', 'query': 'binary', 'norm': None, 'query_norm': None, 'ngram_range': [1, 2]}\n",
      "Model Factory (PVBin): Convertido ngram_range [1, 2] para tupla (1, 2)\n",
      "Fitting ProductVectorizerClassifier com 100 amostras...\n",
      "Fit concluído.\n",
      "Model Factory: Criando tipo 'PVBin' com params: {'method': 'binary', 'query': 'binary', 'norm': None, 'query_norm': None, 'ngram_range': [1, 2]}\n",
      "Model Factory (PVBin): Convertido ngram_range [1, 2] para tupla (1, 2)\n",
      "Fitting ProductVectorizerClassifier com 100 amostras...\n",
      "Fit concluído.\n",
      "Model Factory: Criando tipo 'PVBin' com params: {'method': 'binary', 'query': 'binary', 'norm': None, 'query_norm': None, 'ngram_range': [1, 2]}\n",
      "Model Factory (PVBin): Convertido ngram_range [1, 2] para tupla (1, 2)\n",
      "Fitting ProductVectorizerClassifier com 100 amostras...\n",
      "Fit concluído.\n",
      "Model Factory: Criando tipo 'PVBin' com params: {'method': 'binary', 'query': 'binary', 'norm': None, 'query_norm': None, 'ngram_range': [1, 2]}\n",
      "Model Factory (PVBin): Convertido ngram_range [1, 2] para tupla (1, 2)\n",
      "Fitting ProductVectorizerClassifier com 100 amostras...\n",
      "Fit concluído.\n",
      "Model Factory: Criando tipo 'PVBin' com params: {'method': 'binary', 'query': 'binary', 'norm': None, 'query_norm': None, 'ngram_range': [1, 2]}\n",
      "Model Factory (PVBin): Convertido ngram_range [1, 2] para tupla (1, 2)\n",
      "Fitting ProductVectorizerClassifier com 100 amostras...\n",
      "Fit concluído.\n",
      "Model Factory: Criando tipo 'PVBin' com params: {'method': 'binary', 'query': 'binary', 'norm': None, 'query_norm': None, 'ngram_range': [1, 2]}\n",
      "Model Factory (PVBin): Convertido ngram_range [1, 2] para tupla (1, 2)\n",
      "Fitting ProductVectorizerClassifier com 100 amostras...\n",
      "Fit concluído.\n",
      "Model Factory: Criando tipo 'PVBin' com params: {'method': 'binary', 'query': 'binary', 'norm': None, 'query_norm': None, 'ngram_range': [1, 2]}\n",
      "Model Factory (PVBin): Convertido ngram_range [1, 2] para tupla (1, 2)\n",
      "Fitting ProductVectorizerClassifier com 100 amostras...\n",
      "Fit concluído.\n",
      "Model Factory: Criando tipo 'PVBin' com params: {'method': 'binary', 'query': 'binary', 'norm': None, 'query_norm': None, 'ngram_range': [1, 2]}\n",
      "Model Factory (PVBin): Convertido ngram_range [1, 2] para tupla (1, 2)\n",
      "Fitting ProductVectorizerClassifier com 100 amostras...\n",
      "Fit concluído.\n",
      "    Acc Real Geração 3: Max=0.3072, Avg=0.2743, Min=0.2506\n",
      "    F1 Real Geração  3: Max=0.0426, Avg=0.0348, Min=0.0308\n",
      "    Duração Geração 3: 71.26s\n",
      "\n",
      "  Geração 4/100\n"
     ]
    },
    {
     "data": {
      "application/vnd.jupyter.widget-view+json": {
       "model_id": "6fd5069c28c24090b3bc96163d58c1a6",
       "version_major": 2,
       "version_minor": 0
      },
      "text/plain": [
       "Fitness Calc Gen 4:   0%|          | 0/20 [00:00<?, ?it/s]"
      ]
     },
     "metadata": {},
     "output_type": "display_data"
    },
    {
     "name": "stdout",
     "output_type": "stream",
     "text": [
      "Model Factory: Criando tipo 'PVBin' com params: {'method': 'binary', 'query': 'binary', 'norm': None, 'query_norm': None, 'ngram_range': [1, 2]}\n",
      "Model Factory (PVBin): Convertido ngram_range [1, 2] para tupla (1, 2)\n",
      "Fitting ProductVectorizerClassifier com 100 amostras...\n",
      "Fit concluído.\n",
      "Model Factory: Criando tipo 'PVBin' com params: {'method': 'binary', 'query': 'binary', 'norm': None, 'query_norm': None, 'ngram_range': [1, 2]}\n",
      "Model Factory (PVBin): Convertido ngram_range [1, 2] para tupla (1, 2)\n",
      "Fitting ProductVectorizerClassifier com 100 amostras...\n",
      "Fit concluído.\n",
      "Model Factory: Criando tipo 'PVBin' com params: {'method': 'binary', 'query': 'binary', 'norm': None, 'query_norm': None, 'ngram_range': [1, 2]}\n",
      "Model Factory (PVBin): Convertido ngram_range [1, 2] para tupla (1, 2)\n",
      "Fitting ProductVectorizerClassifier com 100 amostras...\n",
      "Fit concluído.\n",
      "Model Factory: Criando tipo 'PVBin' com params: {'method': 'binary', 'query': 'binary', 'norm': None, 'query_norm': None, 'ngram_range': [1, 2]}\n",
      "Model Factory (PVBin): Convertido ngram_range [1, 2] para tupla (1, 2)\n",
      "Fitting ProductVectorizerClassifier com 100 amostras...\n",
      "Fit concluído.\n",
      "Model Factory: Criando tipo 'PVBin' com params: {'method': 'binary', 'query': 'binary', 'norm': None, 'query_norm': None, 'ngram_range': [1, 2]}\n",
      "Model Factory (PVBin): Convertido ngram_range [1, 2] para tupla (1, 2)\n",
      "Fitting ProductVectorizerClassifier com 100 amostras...\n",
      "Fit concluído.\n",
      "Model Factory: Criando tipo 'PVBin' com params: {'method': 'binary', 'query': 'binary', 'norm': None, 'query_norm': None, 'ngram_range': [1, 2]}\n",
      "Model Factory (PVBin): Convertido ngram_range [1, 2] para tupla (1, 2)\n",
      "Fitting ProductVectorizerClassifier com 100 amostras...\n",
      "Fit concluído.\n",
      "Model Factory: Criando tipo 'PVBin' com params: {'method': 'binary', 'query': 'binary', 'norm': None, 'query_norm': None, 'ngram_range': [1, 2]}\n",
      "Model Factory (PVBin): Convertido ngram_range [1, 2] para tupla (1, 2)\n",
      "Fitting ProductVectorizerClassifier com 100 amostras...\n",
      "Fit concluído.\n",
      "Model Factory: Criando tipo 'PVBin' com params: {'method': 'binary', 'query': 'binary', 'norm': None, 'query_norm': None, 'ngram_range': [1, 2]}\n",
      "Model Factory (PVBin): Convertido ngram_range [1, 2] para tupla (1, 2)\n",
      "Fitting ProductVectorizerClassifier com 100 amostras...\n",
      "Fit concluído.\n",
      "    Acc Real Geração 4: Max=0.3072, Avg=0.2886, Min=0.2631\n",
      "    F1 Real Geração  4: Max=0.0426, Avg=0.0366, Min=0.0314\n",
      "    Duração Geração 4: 44.31s\n",
      "\n",
      "  Geração 5/100\n"
     ]
    },
    {
     "data": {
      "application/vnd.jupyter.widget-view+json": {
       "model_id": "2a11f33ad4814f4eb559e7e109e628b5",
       "version_major": 2,
       "version_minor": 0
      },
      "text/plain": [
       "Fitness Calc Gen 5:   0%|          | 0/20 [00:00<?, ?it/s]"
      ]
     },
     "metadata": {},
     "output_type": "display_data"
    },
    {
     "name": "stdout",
     "output_type": "stream",
     "text": [
      "Model Factory: Criando tipo 'PVBin' com params: {'method': 'binary', 'query': 'binary', 'norm': None, 'query_norm': None, 'ngram_range': [1, 2]}\n",
      "Model Factory (PVBin): Convertido ngram_range [1, 2] para tupla (1, 2)\n",
      "Fitting ProductVectorizerClassifier com 100 amostras...\n",
      "Fit concluído.\n",
      "Model Factory: Criando tipo 'PVBin' com params: {'method': 'binary', 'query': 'binary', 'norm': None, 'query_norm': None, 'ngram_range': [1, 2]}\n",
      "Model Factory (PVBin): Convertido ngram_range [1, 2] para tupla (1, 2)\n",
      "Fitting ProductVectorizerClassifier com 100 amostras...\n",
      "Fit concluído.\n",
      "Model Factory: Criando tipo 'PVBin' com params: {'method': 'binary', 'query': 'binary', 'norm': None, 'query_norm': None, 'ngram_range': [1, 2]}\n",
      "Model Factory (PVBin): Convertido ngram_range [1, 2] para tupla (1, 2)\n",
      "Fitting ProductVectorizerClassifier com 100 amostras...\n",
      "Fit concluído.\n",
      "Model Factory: Criando tipo 'PVBin' com params: {'method': 'binary', 'query': 'binary', 'norm': None, 'query_norm': None, 'ngram_range': [1, 2]}\n",
      "Model Factory (PVBin): Convertido ngram_range [1, 2] para tupla (1, 2)\n",
      "Fitting ProductVectorizerClassifier com 100 amostras...\n",
      "Fit concluído.\n",
      "Model Factory: Criando tipo 'PVBin' com params: {'method': 'binary', 'query': 'binary', 'norm': None, 'query_norm': None, 'ngram_range': [1, 2]}\n",
      "Model Factory (PVBin): Convertido ngram_range [1, 2] para tupla (1, 2)\n",
      "Fitting ProductVectorizerClassifier com 100 amostras...\n",
      "Fit concluído.\n",
      "    Novo melhor (Obj: maximize): Perf Real=0.3114\n",
      "    Acc Real Geração 5: Max=0.3114, Avg=0.3042, Min=0.2962\n",
      "    F1 Real Geração  5: Max=0.0426, Avg=0.0375, Min=0.0356\n",
      "    Duração Geração 5: 27.67s\n",
      "\n",
      "  Geração 6/100\n"
     ]
    },
    {
     "data": {
      "application/vnd.jupyter.widget-view+json": {
       "model_id": "a2f251c631154f1d99b63b998397e7ce",
       "version_major": 2,
       "version_minor": 0
      },
      "text/plain": [
       "Fitness Calc Gen 6:   0%|          | 0/20 [00:00<?, ?it/s]"
      ]
     },
     "metadata": {},
     "output_type": "display_data"
    },
    {
     "name": "stdout",
     "output_type": "stream",
     "text": [
      "Model Factory: Criando tipo 'PVBin' com params: {'method': 'binary', 'query': 'binary', 'norm': None, 'query_norm': None, 'ngram_range': [1, 2]}\n",
      "Model Factory (PVBin): Convertido ngram_range [1, 2] para tupla (1, 2)\n",
      "Fitting ProductVectorizerClassifier com 100 amostras...\n",
      "Fit concluído.\n",
      "Model Factory: Criando tipo 'PVBin' com params: {'method': 'binary', 'query': 'binary', 'norm': None, 'query_norm': None, 'ngram_range': [1, 2]}\n",
      "Model Factory (PVBin): Convertido ngram_range [1, 2] para tupla (1, 2)\n",
      "Fitting ProductVectorizerClassifier com 100 amostras...\n",
      "Fit concluído.\n",
      "Model Factory: Criando tipo 'PVBin' com params: {'method': 'binary', 'query': 'binary', 'norm': None, 'query_norm': None, 'ngram_range': [1, 2]}\n",
      "Model Factory (PVBin): Convertido ngram_range [1, 2] para tupla (1, 2)\n",
      "Fitting ProductVectorizerClassifier com 100 amostras...\n",
      "Fit concluído.\n",
      "Model Factory: Criando tipo 'PVBin' com params: {'method': 'binary', 'query': 'binary', 'norm': None, 'query_norm': None, 'ngram_range': [1, 2]}\n",
      "Model Factory (PVBin): Convertido ngram_range [1, 2] para tupla (1, 2)\n",
      "Fitting ProductVectorizerClassifier com 100 amostras...\n",
      "Fit concluído.\n",
      "Model Factory: Criando tipo 'PVBin' com params: {'method': 'binary', 'query': 'binary', 'norm': None, 'query_norm': None, 'ngram_range': [1, 2]}\n",
      "Model Factory (PVBin): Convertido ngram_range [1, 2] para tupla (1, 2)\n",
      "Fitting ProductVectorizerClassifier com 100 amostras...\n",
      "Fit concluído.\n",
      "Model Factory: Criando tipo 'PVBin' com params: {'method': 'binary', 'query': 'binary', 'norm': None, 'query_norm': None, 'ngram_range': [1, 2]}\n",
      "Model Factory (PVBin): Convertido ngram_range [1, 2] para tupla (1, 2)\n",
      "Fitting ProductVectorizerClassifier com 100 amostras...\n",
      "Fit concluído.\n",
      "Model Factory: Criando tipo 'PVBin' com params: {'method': 'binary', 'query': 'binary', 'norm': None, 'query_norm': None, 'ngram_range': [1, 2]}\n",
      "Model Factory (PVBin): Convertido ngram_range [1, 2] para tupla (1, 2)\n",
      "Fitting ProductVectorizerClassifier com 100 amostras...\n",
      "Fit concluído.\n",
      "Model Factory: Criando tipo 'PVBin' com params: {'method': 'binary', 'query': 'binary', 'norm': None, 'query_norm': None, 'ngram_range': [1, 2]}\n",
      "Model Factory (PVBin): Convertido ngram_range [1, 2] para tupla (1, 2)\n",
      "Fitting ProductVectorizerClassifier com 100 amostras...\n",
      "Fit concluído.\n",
      "Model Factory: Criando tipo 'PVBin' com params: {'method': 'binary', 'query': 'binary', 'norm': None, 'query_norm': None, 'ngram_range': [1, 2]}\n",
      "Model Factory (PVBin): Convertido ngram_range [1, 2] para tupla (1, 2)\n",
      "Fitting ProductVectorizerClassifier com 100 amostras...\n",
      "Fit concluído.\n",
      "Model Factory: Criando tipo 'PVBin' com params: {'method': 'binary', 'query': 'binary', 'norm': None, 'query_norm': None, 'ngram_range': [1, 2]}\n",
      "Model Factory (PVBin): Convertido ngram_range [1, 2] para tupla (1, 2)\n",
      "Fitting ProductVectorizerClassifier com 100 amostras...\n",
      "Fit concluído.\n",
      "Model Factory: Criando tipo 'PVBin' com params: {'method': 'binary', 'query': 'binary', 'norm': None, 'query_norm': None, 'ngram_range': [1, 2]}\n",
      "Model Factory (PVBin): Convertido ngram_range [1, 2] para tupla (1, 2)\n",
      "Fitting ProductVectorizerClassifier com 100 amostras...\n",
      "Fit concluído.\n",
      "    Novo melhor (Obj: maximize): Perf Real=0.3179\n",
      "    Acc Real Geração 6: Max=0.3179, Avg=0.3053, Min=0.2891\n",
      "    F1 Real Geração  6: Max=0.0426, Avg=0.0389, Min=0.0341\n",
      "    Duração Geração 6: 64.61s\n",
      "\n",
      "  Geração 7/100\n"
     ]
    },
    {
     "data": {
      "application/vnd.jupyter.widget-view+json": {
       "model_id": "4f7bb98a4f314cddab667c11010a8635",
       "version_major": 2,
       "version_minor": 0
      },
      "text/plain": [
       "Fitness Calc Gen 7:   0%|          | 0/20 [00:00<?, ?it/s]"
      ]
     },
     "metadata": {},
     "output_type": "display_data"
    },
    {
     "name": "stdout",
     "output_type": "stream",
     "text": [
      "Model Factory: Criando tipo 'PVBin' com params: {'method': 'binary', 'query': 'binary', 'norm': None, 'query_norm': None, 'ngram_range': [1, 2]}\n",
      "Model Factory (PVBin): Convertido ngram_range [1, 2] para tupla (1, 2)\n",
      "Fitting ProductVectorizerClassifier com 100 amostras...\n",
      "Fit concluído.\n",
      "Model Factory: Criando tipo 'PVBin' com params: {'method': 'binary', 'query': 'binary', 'norm': None, 'query_norm': None, 'ngram_range': [1, 2]}\n",
      "Model Factory (PVBin): Convertido ngram_range [1, 2] para tupla (1, 2)\n",
      "Fitting ProductVectorizerClassifier com 100 amostras...\n",
      "Fit concluído.\n",
      "Model Factory: Criando tipo 'PVBin' com params: {'method': 'binary', 'query': 'binary', 'norm': None, 'query_norm': None, 'ngram_range': [1, 2]}\n",
      "Model Factory (PVBin): Convertido ngram_range [1, 2] para tupla (1, 2)\n",
      "Fitting ProductVectorizerClassifier com 100 amostras...\n",
      "Fit concluído.\n",
      "Model Factory: Criando tipo 'PVBin' com params: {'method': 'binary', 'query': 'binary', 'norm': None, 'query_norm': None, 'ngram_range': [1, 2]}\n",
      "Model Factory (PVBin): Convertido ngram_range [1, 2] para tupla (1, 2)\n",
      "Fitting ProductVectorizerClassifier com 100 amostras...\n",
      "Fit concluído.\n",
      "Model Factory: Criando tipo 'PVBin' com params: {'method': 'binary', 'query': 'binary', 'norm': None, 'query_norm': None, 'ngram_range': [1, 2]}\n",
      "Model Factory (PVBin): Convertido ngram_range [1, 2] para tupla (1, 2)\n",
      "Fitting ProductVectorizerClassifier com 100 amostras...\n",
      "Fit concluído.\n",
      "Model Factory: Criando tipo 'PVBin' com params: {'method': 'binary', 'query': 'binary', 'norm': None, 'query_norm': None, 'ngram_range': [1, 2]}\n",
      "Model Factory (PVBin): Convertido ngram_range [1, 2] para tupla (1, 2)\n",
      "Fitting ProductVectorizerClassifier com 100 amostras...\n",
      "Fit concluído.\n",
      "Model Factory: Criando tipo 'PVBin' com params: {'method': 'binary', 'query': 'binary', 'norm': None, 'query_norm': None, 'ngram_range': [1, 2]}\n",
      "Model Factory (PVBin): Convertido ngram_range [1, 2] para tupla (1, 2)\n",
      "Fitting ProductVectorizerClassifier com 100 amostras...\n",
      "Fit concluído.\n",
      "    Novo melhor (Obj: maximize): Perf Real=0.3190\n",
      "    Acc Real Geração 7: Max=0.3190, Avg=0.3124, Min=0.3072\n",
      "    F1 Real Geração  7: Max=0.0426, Avg=0.0405, Min=0.0379\n",
      "    Duração Geração 7: 44.88s\n",
      "\n",
      "  Geração 8/100\n"
     ]
    },
    {
     "data": {
      "application/vnd.jupyter.widget-view+json": {
       "model_id": "9829cafeed384637a5ec7ef5c014a426",
       "version_major": 2,
       "version_minor": 0
      },
      "text/plain": [
       "Fitness Calc Gen 8:   0%|          | 0/20 [00:00<?, ?it/s]"
      ]
     },
     "metadata": {},
     "output_type": "display_data"
    },
    {
     "name": "stdout",
     "output_type": "stream",
     "text": [
      "Model Factory: Criando tipo 'PVBin' com params: {'method': 'binary', 'query': 'binary', 'norm': None, 'query_norm': None, 'ngram_range': [1, 2]}\n",
      "Model Factory (PVBin): Convertido ngram_range [1, 2] para tupla (1, 2)\n",
      "Fitting ProductVectorizerClassifier com 100 amostras...\n",
      "Fit concluído.\n",
      "Model Factory: Criando tipo 'PVBin' com params: {'method': 'binary', 'query': 'binary', 'norm': None, 'query_norm': None, 'ngram_range': [1, 2]}\n",
      "Model Factory (PVBin): Convertido ngram_range [1, 2] para tupla (1, 2)\n",
      "Fitting ProductVectorizerClassifier com 100 amostras...\n",
      "Fit concluído.\n",
      "Model Factory: Criando tipo 'PVBin' com params: {'method': 'binary', 'query': 'binary', 'norm': None, 'query_norm': None, 'ngram_range': [1, 2]}\n",
      "Model Factory (PVBin): Convertido ngram_range [1, 2] para tupla (1, 2)\n",
      "Fitting ProductVectorizerClassifier com 100 amostras...\n",
      "Fit concluído.\n",
      "Model Factory: Criando tipo 'PVBin' com params: {'method': 'binary', 'query': 'binary', 'norm': None, 'query_norm': None, 'ngram_range': [1, 2]}\n",
      "Model Factory (PVBin): Convertido ngram_range [1, 2] para tupla (1, 2)\n",
      "Fitting ProductVectorizerClassifier com 100 amostras...\n",
      "Fit concluído.\n",
      "Model Factory: Criando tipo 'PVBin' com params: {'method': 'binary', 'query': 'binary', 'norm': None, 'query_norm': None, 'ngram_range': [1, 2]}\n",
      "Model Factory (PVBin): Convertido ngram_range [1, 2] para tupla (1, 2)\n",
      "Fitting ProductVectorizerClassifier com 100 amostras...\n",
      "Fit concluído.\n",
      "Model Factory: Criando tipo 'PVBin' com params: {'method': 'binary', 'query': 'binary', 'norm': None, 'query_norm': None, 'ngram_range': [1, 2]}\n",
      "Model Factory (PVBin): Convertido ngram_range [1, 2] para tupla (1, 2)\n",
      "Fitting ProductVectorizerClassifier com 100 amostras...\n",
      "Fit concluído.\n",
      "Model Factory: Criando tipo 'PVBin' com params: {'method': 'binary', 'query': 'binary', 'norm': None, 'query_norm': None, 'ngram_range': [1, 2]}\n",
      "Model Factory (PVBin): Convertido ngram_range [1, 2] para tupla (1, 2)\n",
      "Fitting ProductVectorizerClassifier com 100 amostras...\n",
      "Fit concluído.\n",
      "Model Factory: Criando tipo 'PVBin' com params: {'method': 'binary', 'query': 'binary', 'norm': None, 'query_norm': None, 'ngram_range': [1, 2]}\n",
      "Model Factory (PVBin): Convertido ngram_range [1, 2] para tupla (1, 2)\n",
      "Fitting ProductVectorizerClassifier com 100 amostras...\n",
      "Fit concluído.\n",
      "    Acc Real Geração 8: Max=0.3190, Avg=0.3147, Min=0.2996\n",
      "    F1 Real Geração  8: Max=0.0412, Avg=0.0400, Min=0.0382\n",
      "    Duração Geração 8: 43.76s\n",
      "\n",
      "  Geração 9/100\n"
     ]
    },
    {
     "data": {
      "application/vnd.jupyter.widget-view+json": {
       "model_id": "232a5c2d98bd40bcbaf9e937ef2e762e",
       "version_major": 2,
       "version_minor": 0
      },
      "text/plain": [
       "Fitness Calc Gen 9:   0%|          | 0/20 [00:00<?, ?it/s]"
      ]
     },
     "metadata": {},
     "output_type": "display_data"
    },
    {
     "name": "stdout",
     "output_type": "stream",
     "text": [
      "Model Factory: Criando tipo 'PVBin' com params: {'method': 'binary', 'query': 'binary', 'norm': None, 'query_norm': None, 'ngram_range': [1, 2]}\n",
      "Model Factory (PVBin): Convertido ngram_range [1, 2] para tupla (1, 2)\n",
      "Fitting ProductVectorizerClassifier com 100 amostras...\n",
      "Fit concluído.\n",
      "Model Factory: Criando tipo 'PVBin' com params: {'method': 'binary', 'query': 'binary', 'norm': None, 'query_norm': None, 'ngram_range': [1, 2]}\n",
      "Model Factory (PVBin): Convertido ngram_range [1, 2] para tupla (1, 2)\n",
      "Fitting ProductVectorizerClassifier com 100 amostras...\n",
      "Fit concluído.\n",
      "Model Factory: Criando tipo 'PVBin' com params: {'method': 'binary', 'query': 'binary', 'norm': None, 'query_norm': None, 'ngram_range': [1, 2]}\n",
      "Model Factory (PVBin): Convertido ngram_range [1, 2] para tupla (1, 2)\n",
      "Fitting ProductVectorizerClassifier com 100 amostras...\n",
      "Fit concluído.\n",
      "Model Factory: Criando tipo 'PVBin' com params: {'method': 'binary', 'query': 'binary', 'norm': None, 'query_norm': None, 'ngram_range': [1, 2]}\n",
      "Model Factory (PVBin): Convertido ngram_range [1, 2] para tupla (1, 2)\n",
      "Fitting ProductVectorizerClassifier com 100 amostras...\n",
      "Fit concluído.\n",
      "Model Factory: Criando tipo 'PVBin' com params: {'method': 'binary', 'query': 'binary', 'norm': None, 'query_norm': None, 'ngram_range': [1, 2]}\n",
      "Model Factory (PVBin): Convertido ngram_range [1, 2] para tupla (1, 2)\n",
      "Fitting ProductVectorizerClassifier com 100 amostras...\n",
      "Fit concluído.\n",
      "    Acc Real Geração 9: Max=0.3190, Avg=0.3175, Min=0.3137\n",
      "    F1 Real Geração  9: Max=0.0411, Avg=0.0399, Min=0.0391\n",
      "    Duração Geração 9: 27.12s\n",
      "\n",
      "  Geração 10/100\n"
     ]
    },
    {
     "data": {
      "application/vnd.jupyter.widget-view+json": {
       "model_id": "18a2534ba81d401e960e55baff57389e",
       "version_major": 2,
       "version_minor": 0
      },
      "text/plain": [
       "Fitness Calc Gen 10:   0%|          | 0/20 [00:00<?, ?it/s]"
      ]
     },
     "metadata": {},
     "output_type": "display_data"
    },
    {
     "name": "stdout",
     "output_type": "stream",
     "text": [
      "Model Factory: Criando tipo 'PVBin' com params: {'method': 'binary', 'query': 'binary', 'norm': None, 'query_norm': None, 'ngram_range': [1, 2]}\n",
      "Model Factory (PVBin): Convertido ngram_range [1, 2] para tupla (1, 2)\n",
      "Fitting ProductVectorizerClassifier com 100 amostras...\n",
      "Fit concluído.\n",
      "Model Factory: Criando tipo 'PVBin' com params: {'method': 'binary', 'query': 'binary', 'norm': None, 'query_norm': None, 'ngram_range': [1, 2]}\n",
      "Model Factory (PVBin): Convertido ngram_range [1, 2] para tupla (1, 2)\n",
      "Fitting ProductVectorizerClassifier com 100 amostras...\n",
      "Fit concluído.\n",
      "Model Factory: Criando tipo 'PVBin' com params: {'method': 'binary', 'query': 'binary', 'norm': None, 'query_norm': None, 'ngram_range': [1, 2]}\n",
      "Model Factory (PVBin): Convertido ngram_range [1, 2] para tupla (1, 2)\n",
      "Fitting ProductVectorizerClassifier com 100 amostras...\n",
      "Fit concluído.\n",
      "    Acc Real Geração 10: Max=0.3190, Avg=0.3181, Min=0.3074\n",
      "    F1 Real Geração  10: Max=0.0401, Avg=0.0396, Min=0.0362\n",
      "    Duração Geração 10: 24.10s\n",
      "\n",
      "  Geração 11/100\n"
     ]
    },
    {
     "data": {
      "application/vnd.jupyter.widget-view+json": {
       "model_id": "f79fa295dd6b45da835485488344f417",
       "version_major": 2,
       "version_minor": 0
      },
      "text/plain": [
       "Fitness Calc Gen 11:   0%|          | 0/20 [00:00<?, ?it/s]"
      ]
     },
     "metadata": {},
     "output_type": "display_data"
    },
    {
     "name": "stdout",
     "output_type": "stream",
     "text": [
      "Model Factory: Criando tipo 'PVBin' com params: {'method': 'binary', 'query': 'binary', 'norm': None, 'query_norm': None, 'ngram_range': [1, 2]}\n",
      "Model Factory (PVBin): Convertido ngram_range [1, 2] para tupla (1, 2)\n",
      "Fitting ProductVectorizerClassifier com 100 amostras...\n",
      "Fit concluído.\n",
      "    Acc Real Geração 11: Max=0.3190, Avg=0.3185, Min=0.3098\n",
      "    F1 Real Geração  11: Max=0.0401, Avg=0.0397, Min=0.0378\n",
      "    Duração Geração 11: 9.76s\n",
      "\n",
      "  Geração 12/100\n"
     ]
    },
    {
     "data": {
      "application/vnd.jupyter.widget-view+json": {
       "model_id": "830a683aeae744f0a7fb70a2950eafa7",
       "version_major": 2,
       "version_minor": 0
      },
      "text/plain": [
       "Fitness Calc Gen 12:   0%|          | 0/20 [00:00<?, ?it/s]"
      ]
     },
     "metadata": {},
     "output_type": "display_data"
    },
    {
     "name": "stdout",
     "output_type": "stream",
     "text": [
      "Model Factory: Criando tipo 'PVBin' com params: {'method': 'binary', 'query': 'binary', 'norm': None, 'query_norm': None, 'ngram_range': [1, 2]}\n",
      "Model Factory (PVBin): Convertido ngram_range [1, 2] para tupla (1, 2)\n",
      "Fitting ProductVectorizerClassifier com 100 amostras...\n",
      "Fit concluído.\n",
      "    Acc Real Geração 12: Max=0.3190, Avg=0.3187, Min=0.3130\n",
      "    F1 Real Geração  12: Max=0.0397, Avg=0.0397, Min=0.0386\n",
      "    Duração Geração 12: 10.64s\n",
      "\n",
      "  Geração 13/100\n"
     ]
    },
    {
     "data": {
      "application/vnd.jupyter.widget-view+json": {
       "model_id": "b5883fd3a09c4c159f9b7355db07813b",
       "version_major": 2,
       "version_minor": 0
      },
      "text/plain": [
       "Fitness Calc Gen 13:   0%|          | 0/20 [00:00<?, ?it/s]"
      ]
     },
     "metadata": {},
     "output_type": "display_data"
    },
    {
     "name": "stdout",
     "output_type": "stream",
     "text": [
      "Model Factory: Criando tipo 'PVBin' com params: {'method': 'binary', 'query': 'binary', 'norm': None, 'query_norm': None, 'ngram_range': [1, 2]}\n",
      "Model Factory (PVBin): Convertido ngram_range [1, 2] para tupla (1, 2)\n",
      "Fitting ProductVectorizerClassifier com 100 amostras...\n",
      "Fit concluído.\n",
      "    Acc Real Geração 13: Max=0.3190, Avg=0.3189, Min=0.3156\n",
      "    F1 Real Geração  13: Max=0.0398, Avg=0.0398, Min=0.0397\n",
      "    Duração Geração 13: 9.48s\n",
      "\n",
      "  Geração 14/100\n"
     ]
    },
    {
     "data": {
      "application/vnd.jupyter.widget-view+json": {
       "model_id": "a66704c2c0f2499884743156b9916e85",
       "version_major": 2,
       "version_minor": 0
      },
      "text/plain": [
       "Fitness Calc Gen 14:   0%|          | 0/20 [00:00<?, ?it/s]"
      ]
     },
     "metadata": {},
     "output_type": "display_data"
    },
    {
     "name": "stdout",
     "output_type": "stream",
     "text": [
      "Model Factory: Criando tipo 'PVBin' com params: {'method': 'binary', 'query': 'binary', 'norm': None, 'query_norm': None, 'ngram_range': [1, 2]}\n",
      "Model Factory (PVBin): Convertido ngram_range [1, 2] para tupla (1, 2)\n",
      "Fitting ProductVectorizerClassifier com 100 amostras...\n",
      "Fit concluído.\n",
      "Model Factory: Criando tipo 'PVBin' com params: {'method': 'binary', 'query': 'binary', 'norm': None, 'query_norm': None, 'ngram_range': [1, 2]}\n",
      "Model Factory (PVBin): Convertido ngram_range [1, 2] para tupla (1, 2)\n",
      "Fitting ProductVectorizerClassifier com 100 amostras...\n",
      "Fit concluído.\n",
      "Model Factory: Criando tipo 'PVBin' com params: {'method': 'binary', 'query': 'binary', 'norm': None, 'query_norm': None, 'ngram_range': [1, 2]}\n",
      "Model Factory (PVBin): Convertido ngram_range [1, 2] para tupla (1, 2)\n",
      "Fitting ProductVectorizerClassifier com 100 amostras...\n",
      "Fit concluído.\n",
      "    Novo melhor (Obj: maximize): Perf Real=0.3203\n",
      "    Acc Real Geração 14: Max=0.3203, Avg=0.3184, Min=0.3049\n",
      "    F1 Real Geração  14: Max=0.0397, Avg=0.0396, Min=0.0379\n",
      "    Duração Geração 14: 26.69s\n",
      "\n",
      "  Geração 15/100\n"
     ]
    },
    {
     "data": {
      "application/vnd.jupyter.widget-view+json": {
       "model_id": "8a64d2b305514a4592925dc02687a82a",
       "version_major": 2,
       "version_minor": 0
      },
      "text/plain": [
       "Fitness Calc Gen 15:   0%|          | 0/20 [00:00<?, ?it/s]"
      ]
     },
     "metadata": {},
     "output_type": "display_data"
    },
    {
     "name": "stdout",
     "output_type": "stream",
     "text": [
      "Model Factory: Criando tipo 'PVBin' com params: {'method': 'binary', 'query': 'binary', 'norm': None, 'query_norm': None, 'ngram_range': [1, 2]}\n",
      "Model Factory (PVBin): Convertido ngram_range [1, 2] para tupla (1, 2)\n",
      "Fitting ProductVectorizerClassifier com 100 amostras...\n",
      "Fit concluído.\n",
      "Model Factory: Criando tipo 'PVBin' com params: {'method': 'binary', 'query': 'binary', 'norm': None, 'query_norm': None, 'ngram_range': [1, 2]}\n",
      "Model Factory (PVBin): Convertido ngram_range [1, 2] para tupla (1, 2)\n",
      "Fitting ProductVectorizerClassifier com 100 amostras...\n",
      "Fit concluído.\n",
      "Model Factory: Criando tipo 'PVBin' com params: {'method': 'binary', 'query': 'binary', 'norm': None, 'query_norm': None, 'ngram_range': [1, 2]}\n",
      "Model Factory (PVBin): Convertido ngram_range [1, 2] para tupla (1, 2)\n",
      "Fitting ProductVectorizerClassifier com 100 amostras...\n",
      "Fit concluído.\n",
      "Model Factory: Criando tipo 'PVBin' com params: {'method': 'binary', 'query': 'binary', 'norm': None, 'query_norm': None, 'ngram_range': [1, 2]}\n",
      "Model Factory (PVBin): Convertido ngram_range [1, 2] para tupla (1, 2)\n",
      "Fitting ProductVectorizerClassifier com 100 amostras...\n",
      "Fit concluído.\n",
      "    Novo melhor (Obj: maximize): Perf Real=0.3224\n",
      "    Acc Real Geração 15: Max=0.3224, Avg=0.3191, Min=0.3124\n",
      "    F1 Real Geração  15: Max=0.0404, Avg=0.0393, Min=0.0375\n",
      "    Duração Geração 15: 37.63s\n",
      "\n",
      "  Geração 16/100\n"
     ]
    },
    {
     "data": {
      "application/vnd.jupyter.widget-view+json": {
       "model_id": "e1ae3690465d46429fa22d52cb4e3545",
       "version_major": 2,
       "version_minor": 0
      },
      "text/plain": [
       "Fitness Calc Gen 16:   0%|          | 0/20 [00:00<?, ?it/s]"
      ]
     },
     "metadata": {},
     "output_type": "display_data"
    },
    {
     "name": "stdout",
     "output_type": "stream",
     "text": [
      "Model Factory: Criando tipo 'PVBin' com params: {'method': 'binary', 'query': 'binary', 'norm': None, 'query_norm': None, 'ngram_range': [1, 2]}\n",
      "Model Factory (PVBin): Convertido ngram_range [1, 2] para tupla (1, 2)\n",
      "Fitting ProductVectorizerClassifier com 100 amostras...\n",
      "Fit concluído.\n",
      "Model Factory: Criando tipo 'PVBin' com params: {'method': 'binary', 'query': 'binary', 'norm': None, 'query_norm': None, 'ngram_range': [1, 2]}\n",
      "Model Factory (PVBin): Convertido ngram_range [1, 2] para tupla (1, 2)\n",
      "Fitting ProductVectorizerClassifier com 100 amostras...\n",
      "Fit concluído.\n",
      "Model Factory: Criando tipo 'PVBin' com params: {'method': 'binary', 'query': 'binary', 'norm': None, 'query_norm': None, 'ngram_range': [1, 2]}\n",
      "Model Factory (PVBin): Convertido ngram_range [1, 2] para tupla (1, 2)\n",
      "Fitting ProductVectorizerClassifier com 100 amostras...\n",
      "Fit concluído.\n",
      "Model Factory: Criando tipo 'PVBin' com params: {'method': 'binary', 'query': 'binary', 'norm': None, 'query_norm': None, 'ngram_range': [1, 2]}\n",
      "Model Factory (PVBin): Convertido ngram_range [1, 2] para tupla (1, 2)\n",
      "Fitting ProductVectorizerClassifier com 100 amostras...\n",
      "Fit concluído.\n",
      "Model Factory: Criando tipo 'PVBin' com params: {'method': 'binary', 'query': 'binary', 'norm': None, 'query_norm': None, 'ngram_range': [1, 2]}\n",
      "Model Factory (PVBin): Convertido ngram_range [1, 2] para tupla (1, 2)\n",
      "Fitting ProductVectorizerClassifier com 100 amostras...\n",
      "Fit concluído.\n",
      "Model Factory: Criando tipo 'PVBin' com params: {'method': 'binary', 'query': 'binary', 'norm': None, 'query_norm': None, 'ngram_range': [1, 2]}\n",
      "Model Factory (PVBin): Convertido ngram_range [1, 2] para tupla (1, 2)\n",
      "Fitting ProductVectorizerClassifier com 100 amostras...\n",
      "Fit concluído.\n",
      "Model Factory: Criando tipo 'PVBin' com params: {'method': 'binary', 'query': 'binary', 'norm': None, 'query_norm': None, 'ngram_range': [1, 2]}\n",
      "Model Factory (PVBin): Convertido ngram_range [1, 2] para tupla (1, 2)\n",
      "Fitting ProductVectorizerClassifier com 100 amostras...\n",
      "Fit concluído.\n",
      "Model Factory: Criando tipo 'PVBin' com params: {'method': 'binary', 'query': 'binary', 'norm': None, 'query_norm': None, 'ngram_range': [1, 2]}\n",
      "Model Factory (PVBin): Convertido ngram_range [1, 2] para tupla (1, 2)\n",
      "Fitting ProductVectorizerClassifier com 100 amostras...\n",
      "Fit concluído.\n",
      "Model Factory: Criando tipo 'PVBin' com params: {'method': 'binary', 'query': 'binary', 'norm': None, 'query_norm': None, 'ngram_range': [1, 2]}\n",
      "Model Factory (PVBin): Convertido ngram_range [1, 2] para tupla (1, 2)\n",
      "Fitting ProductVectorizerClassifier com 100 amostras...\n",
      "Fit concluído.\n",
      "    Novo melhor (Obj: maximize): Perf Real=0.3253\n",
      "    Acc Real Geração 16: Max=0.3253, Avg=0.3192, Min=0.3097\n",
      "    F1 Real Geração  16: Max=0.0404, Avg=0.0393, Min=0.0381\n",
      "    Duração Geração 16: 87.33s\n",
      "\n",
      "  Geração 17/100\n"
     ]
    },
    {
     "data": {
      "application/vnd.jupyter.widget-view+json": {
       "model_id": "1db4088b9baf4d018e430a9b1de555d1",
       "version_major": 2,
       "version_minor": 0
      },
      "text/plain": [
       "Fitness Calc Gen 17:   0%|          | 0/20 [00:00<?, ?it/s]"
      ]
     },
     "metadata": {},
     "output_type": "display_data"
    },
    {
     "name": "stdout",
     "output_type": "stream",
     "text": [
      "Model Factory: Criando tipo 'PVBin' com params: {'method': 'binary', 'query': 'binary', 'norm': None, 'query_norm': None, 'ngram_range': [1, 2]}\n",
      "Model Factory (PVBin): Convertido ngram_range [1, 2] para tupla (1, 2)\n",
      "Fitting ProductVectorizerClassifier com 100 amostras...\n",
      "Fit concluído.\n",
      "Model Factory: Criando tipo 'PVBin' com params: {'method': 'binary', 'query': 'binary', 'norm': None, 'query_norm': None, 'ngram_range': [1, 2]}\n",
      "Model Factory (PVBin): Convertido ngram_range [1, 2] para tupla (1, 2)\n",
      "Fitting ProductVectorizerClassifier com 100 amostras...\n",
      "Fit concluído.\n",
      "Model Factory: Criando tipo 'PVBin' com params: {'method': 'binary', 'query': 'binary', 'norm': None, 'query_norm': None, 'ngram_range': [1, 2]}\n",
      "Model Factory (PVBin): Convertido ngram_range [1, 2] para tupla (1, 2)\n",
      "Fitting ProductVectorizerClassifier com 100 amostras...\n",
      "Fit concluído.\n",
      "Model Factory: Criando tipo 'PVBin' com params: {'method': 'binary', 'query': 'binary', 'norm': None, 'query_norm': None, 'ngram_range': [1, 2]}\n",
      "Model Factory (PVBin): Convertido ngram_range [1, 2] para tupla (1, 2)\n",
      "Fitting ProductVectorizerClassifier com 100 amostras...\n",
      "Fit concluído.\n",
      "Model Factory: Criando tipo 'PVBin' com params: {'method': 'binary', 'query': 'binary', 'norm': None, 'query_norm': None, 'ngram_range': [1, 2]}\n",
      "Model Factory (PVBin): Convertido ngram_range [1, 2] para tupla (1, 2)\n",
      "Fitting ProductVectorizerClassifier com 100 amostras...\n",
      "Fit concluído.\n",
      "Model Factory: Criando tipo 'PVBin' com params: {'method': 'binary', 'query': 'binary', 'norm': None, 'query_norm': None, 'ngram_range': [1, 2]}\n",
      "Model Factory (PVBin): Convertido ngram_range [1, 2] para tupla (1, 2)\n",
      "Fitting ProductVectorizerClassifier com 100 amostras...\n",
      "Fit concluído.\n",
      "Model Factory: Criando tipo 'PVBin' com params: {'method': 'binary', 'query': 'binary', 'norm': None, 'query_norm': None, 'ngram_range': [1, 2]}\n",
      "Model Factory (PVBin): Convertido ngram_range [1, 2] para tupla (1, 2)\n",
      "Fitting ProductVectorizerClassifier com 100 amostras...\n",
      "Fit concluído.\n",
      "Model Factory: Criando tipo 'PVBin' com params: {'method': 'binary', 'query': 'binary', 'norm': None, 'query_norm': None, 'ngram_range': [1, 2]}\n",
      "Model Factory (PVBin): Convertido ngram_range [1, 2] para tupla (1, 2)\n",
      "Fitting ProductVectorizerClassifier com 100 amostras...\n",
      "Fit concluído.\n",
      "Model Factory: Criando tipo 'PVBin' com params: {'method': 'binary', 'query': 'binary', 'norm': None, 'query_norm': None, 'ngram_range': [1, 2]}\n",
      "Model Factory (PVBin): Convertido ngram_range [1, 2] para tupla (1, 2)\n",
      "Fitting ProductVectorizerClassifier com 100 amostras...\n",
      "Fit concluído.\n",
      "Model Factory: Criando tipo 'PVBin' com params: {'method': 'binary', 'query': 'binary', 'norm': None, 'query_norm': None, 'ngram_range': [1, 2]}\n",
      "Model Factory (PVBin): Convertido ngram_range [1, 2] para tupla (1, 2)\n",
      "Fitting ProductVectorizerClassifier com 100 amostras...\n",
      "Fit concluído.\n",
      "Model Factory: Criando tipo 'PVBin' com params: {'method': 'binary', 'query': 'binary', 'norm': None, 'query_norm': None, 'ngram_range': [1, 2]}\n",
      "Model Factory (PVBin): Convertido ngram_range [1, 2] para tupla (1, 2)\n",
      "Fitting ProductVectorizerClassifier com 100 amostras...\n",
      "Fit concluído.\n",
      "Model Factory: Criando tipo 'PVBin' com params: {'method': 'binary', 'query': 'binary', 'norm': None, 'query_norm': None, 'ngram_range': [1, 2]}\n",
      "Model Factory (PVBin): Convertido ngram_range [1, 2] para tupla (1, 2)\n",
      "Fitting ProductVectorizerClassifier com 100 amostras...\n",
      "Fit concluído.\n",
      "Model Factory: Criando tipo 'PVBin' com params: {'method': 'binary', 'query': 'binary', 'norm': None, 'query_norm': None, 'ngram_range': [1, 2]}\n",
      "Model Factory (PVBin): Convertido ngram_range [1, 2] para tupla (1, 2)\n",
      "Fitting ProductVectorizerClassifier com 100 amostras...\n",
      "Fit concluído.\n",
      "    Novo melhor (Obj: maximize): Perf Real=0.3277\n",
      "    Acc Real Geração 17: Max=0.3277, Avg=0.3221, Min=0.3129\n",
      "    F1 Real Geração  17: Max=0.0416, Avg=0.0398, Min=0.0376\n",
      "    Duração Geração 17: 128.54s\n",
      "\n",
      "  Geração 18/100\n"
     ]
    },
    {
     "data": {
      "application/vnd.jupyter.widget-view+json": {
       "model_id": "1a5414681d0a490997d321fcd152f616",
       "version_major": 2,
       "version_minor": 0
      },
      "text/plain": [
       "Fitness Calc Gen 18:   0%|          | 0/20 [00:00<?, ?it/s]"
      ]
     },
     "metadata": {},
     "output_type": "display_data"
    },
    {
     "name": "stdout",
     "output_type": "stream",
     "text": [
      "Model Factory: Criando tipo 'PVBin' com params: {'method': 'binary', 'query': 'binary', 'norm': None, 'query_norm': None, 'ngram_range': [1, 2]}\n",
      "Model Factory (PVBin): Convertido ngram_range [1, 2] para tupla (1, 2)\n",
      "Fitting ProductVectorizerClassifier com 100 amostras...\n",
      "Fit concluído.\n",
      "Model Factory: Criando tipo 'PVBin' com params: {'method': 'binary', 'query': 'binary', 'norm': None, 'query_norm': None, 'ngram_range': [1, 2]}\n",
      "Model Factory (PVBin): Convertido ngram_range [1, 2] para tupla (1, 2)\n",
      "Fitting ProductVectorizerClassifier com 100 amostras...\n",
      "Fit concluído.\n",
      "Model Factory: Criando tipo 'PVBin' com params: {'method': 'binary', 'query': 'binary', 'norm': None, 'query_norm': None, 'ngram_range': [1, 2]}\n",
      "Model Factory (PVBin): Convertido ngram_range [1, 2] para tupla (1, 2)\n",
      "Fitting ProductVectorizerClassifier com 100 amostras...\n",
      "Fit concluído.\n",
      "Model Factory: Criando tipo 'PVBin' com params: {'method': 'binary', 'query': 'binary', 'norm': None, 'query_norm': None, 'ngram_range': [1, 2]}\n",
      "Model Factory (PVBin): Convertido ngram_range [1, 2] para tupla (1, 2)\n",
      "Fitting ProductVectorizerClassifier com 100 amostras...\n",
      "Fit concluído.\n",
      "Model Factory: Criando tipo 'PVBin' com params: {'method': 'binary', 'query': 'binary', 'norm': None, 'query_norm': None, 'ngram_range': [1, 2]}\n",
      "Model Factory (PVBin): Convertido ngram_range [1, 2] para tupla (1, 2)\n",
      "Fitting ProductVectorizerClassifier com 100 amostras...\n",
      "Fit concluído.\n",
      "Model Factory: Criando tipo 'PVBin' com params: {'method': 'binary', 'query': 'binary', 'norm': None, 'query_norm': None, 'ngram_range': [1, 2]}\n",
      "Model Factory (PVBin): Convertido ngram_range [1, 2] para tupla (1, 2)\n",
      "Fitting ProductVectorizerClassifier com 100 amostras...\n",
      "Fit concluído.\n",
      "Model Factory: Criando tipo 'PVBin' com params: {'method': 'binary', 'query': 'binary', 'norm': None, 'query_norm': None, 'ngram_range': [1, 2]}\n",
      "Model Factory (PVBin): Convertido ngram_range [1, 2] para tupla (1, 2)\n",
      "Fitting ProductVectorizerClassifier com 100 amostras...\n",
      "Fit concluído.\n",
      "Model Factory: Criando tipo 'PVBin' com params: {'method': 'binary', 'query': 'binary', 'norm': None, 'query_norm': None, 'ngram_range': [1, 2]}\n",
      "Model Factory (PVBin): Convertido ngram_range [1, 2] para tupla (1, 2)\n",
      "Fitting ProductVectorizerClassifier com 100 amostras...\n",
      "Fit concluído.\n",
      "Model Factory: Criando tipo 'PVBin' com params: {'method': 'binary', 'query': 'binary', 'norm': None, 'query_norm': None, 'ngram_range': [1, 2]}\n",
      "Model Factory (PVBin): Convertido ngram_range [1, 2] para tupla (1, 2)\n",
      "Fitting ProductVectorizerClassifier com 100 amostras...\n",
      "Fit concluído.\n",
      "Model Factory: Criando tipo 'PVBin' com params: {'method': 'binary', 'query': 'binary', 'norm': None, 'query_norm': None, 'ngram_range': [1, 2]}\n",
      "Model Factory (PVBin): Convertido ngram_range [1, 2] para tupla (1, 2)\n",
      "Fitting ProductVectorizerClassifier com 100 amostras...\n",
      "Fit concluído.\n",
      "Model Factory: Criando tipo 'PVBin' com params: {'method': 'binary', 'query': 'binary', 'norm': None, 'query_norm': None, 'ngram_range': [1, 2]}\n",
      "Model Factory (PVBin): Convertido ngram_range [1, 2] para tupla (1, 2)\n",
      "Fitting ProductVectorizerClassifier com 100 amostras...\n",
      "Fit concluído.\n",
      "Model Factory: Criando tipo 'PVBin' com params: {'method': 'binary', 'query': 'binary', 'norm': None, 'query_norm': None, 'ngram_range': [1, 2]}\n",
      "Model Factory (PVBin): Convertido ngram_range [1, 2] para tupla (1, 2)\n",
      "Fitting ProductVectorizerClassifier com 100 amostras...\n",
      "Fit concluído.\n",
      "Model Factory: Criando tipo 'PVBin' com params: {'method': 'binary', 'query': 'binary', 'norm': None, 'query_norm': None, 'ngram_range': [1, 2]}\n",
      "Model Factory (PVBin): Convertido ngram_range [1, 2] para tupla (1, 2)\n",
      "Fitting ProductVectorizerClassifier com 100 amostras...\n",
      "Fit concluído.\n",
      "    Acc Real Geração 18: Max=0.3277, Avg=0.3225, Min=0.3145\n",
      "    F1 Real Geração  18: Max=0.0409, Avg=0.0392, Min=0.0364\n",
      "    Duração Geração 18: 120.29s\n",
      "\n",
      "  Geração 19/100\n"
     ]
    },
    {
     "data": {
      "application/vnd.jupyter.widget-view+json": {
       "model_id": "7fe259a828fa438c8037e5ec0cfc38db",
       "version_major": 2,
       "version_minor": 0
      },
      "text/plain": [
       "Fitness Calc Gen 19:   0%|          | 0/20 [00:00<?, ?it/s]"
      ]
     },
     "metadata": {},
     "output_type": "display_data"
    },
    {
     "name": "stdout",
     "output_type": "stream",
     "text": [
      "Model Factory: Criando tipo 'PVBin' com params: {'method': 'binary', 'query': 'binary', 'norm': None, 'query_norm': None, 'ngram_range': [1, 2]}\n",
      "Model Factory (PVBin): Convertido ngram_range [1, 2] para tupla (1, 2)\n",
      "Fitting ProductVectorizerClassifier com 100 amostras...\n",
      "Fit concluído.\n",
      "Model Factory: Criando tipo 'PVBin' com params: {'method': 'binary', 'query': 'binary', 'norm': None, 'query_norm': None, 'ngram_range': [1, 2]}\n",
      "Model Factory (PVBin): Convertido ngram_range [1, 2] para tupla (1, 2)\n",
      "Fitting ProductVectorizerClassifier com 100 amostras...\n",
      "Fit concluído.\n",
      "Model Factory: Criando tipo 'PVBin' com params: {'method': 'binary', 'query': 'binary', 'norm': None, 'query_norm': None, 'ngram_range': [1, 2]}\n",
      "Model Factory (PVBin): Convertido ngram_range [1, 2] para tupla (1, 2)\n",
      "Fitting ProductVectorizerClassifier com 100 amostras...\n",
      "Fit concluído.\n",
      "Model Factory: Criando tipo 'PVBin' com params: {'method': 'binary', 'query': 'binary', 'norm': None, 'query_norm': None, 'ngram_range': [1, 2]}\n",
      "Model Factory (PVBin): Convertido ngram_range [1, 2] para tupla (1, 2)\n",
      "Fitting ProductVectorizerClassifier com 100 amostras...\n",
      "Fit concluído.\n",
      "Model Factory: Criando tipo 'PVBin' com params: {'method': 'binary', 'query': 'binary', 'norm': None, 'query_norm': None, 'ngram_range': [1, 2]}\n",
      "Model Factory (PVBin): Convertido ngram_range [1, 2] para tupla (1, 2)\n",
      "Fitting ProductVectorizerClassifier com 100 amostras...\n",
      "Fit concluído.\n",
      "Model Factory: Criando tipo 'PVBin' com params: {'method': 'binary', 'query': 'binary', 'norm': None, 'query_norm': None, 'ngram_range': [1, 2]}\n",
      "Model Factory (PVBin): Convertido ngram_range [1, 2] para tupla (1, 2)\n",
      "Fitting ProductVectorizerClassifier com 100 amostras...\n",
      "Fit concluído.\n",
      "Model Factory: Criando tipo 'PVBin' com params: {'method': 'binary', 'query': 'binary', 'norm': None, 'query_norm': None, 'ngram_range': [1, 2]}\n",
      "Model Factory (PVBin): Convertido ngram_range [1, 2] para tupla (1, 2)\n",
      "Fitting ProductVectorizerClassifier com 100 amostras...\n",
      "Fit concluído.\n",
      "Model Factory: Criando tipo 'PVBin' com params: {'method': 'binary', 'query': 'binary', 'norm': None, 'query_norm': None, 'ngram_range': [1, 2]}\n",
      "Model Factory (PVBin): Convertido ngram_range [1, 2] para tupla (1, 2)\n",
      "Fitting ProductVectorizerClassifier com 100 amostras...\n",
      "Fit concluído.\n",
      "Model Factory: Criando tipo 'PVBin' com params: {'method': 'binary', 'query': 'binary', 'norm': None, 'query_norm': None, 'ngram_range': [1, 2]}\n",
      "Model Factory (PVBin): Convertido ngram_range [1, 2] para tupla (1, 2)\n",
      "Fitting ProductVectorizerClassifier com 100 amostras...\n",
      "Fit concluído.\n",
      "Model Factory: Criando tipo 'PVBin' com params: {'method': 'binary', 'query': 'binary', 'norm': None, 'query_norm': None, 'ngram_range': [1, 2]}\n",
      "Model Factory (PVBin): Convertido ngram_range [1, 2] para tupla (1, 2)\n",
      "Fitting ProductVectorizerClassifier com 100 amostras...\n",
      "Fit concluído.\n",
      "Model Factory: Criando tipo 'PVBin' com params: {'method': 'binary', 'query': 'binary', 'norm': None, 'query_norm': None, 'ngram_range': [1, 2]}\n",
      "Model Factory (PVBin): Convertido ngram_range [1, 2] para tupla (1, 2)\n",
      "Fitting ProductVectorizerClassifier com 100 amostras...\n",
      "Fit concluído.\n",
      "Model Factory: Criando tipo 'PVBin' com params: {'method': 'binary', 'query': 'binary', 'norm': None, 'query_norm': None, 'ngram_range': [1, 2]}\n",
      "Model Factory (PVBin): Convertido ngram_range [1, 2] para tupla (1, 2)\n",
      "Fitting ProductVectorizerClassifier com 100 amostras...\n",
      "Fit concluído.\n",
      "Model Factory: Criando tipo 'PVBin' com params: {'method': 'binary', 'query': 'binary', 'norm': None, 'query_norm': None, 'ngram_range': [1, 2]}\n",
      "Model Factory (PVBin): Convertido ngram_range [1, 2] para tupla (1, 2)\n",
      "Fitting ProductVectorizerClassifier com 100 amostras...\n",
      "Fit concluído.\n",
      "    Novo melhor (Obj: maximize): Perf Real=0.3293\n",
      "    Acc Real Geração 19: Max=0.3293, Avg=0.3237, Min=0.3078\n",
      "    F1 Real Geração  19: Max=0.0412, Avg=0.0392, Min=0.0364\n",
      "    Duração Geração 19: 108.06s\n",
      "\n",
      "  Geração 20/100\n"
     ]
    },
    {
     "data": {
      "application/vnd.jupyter.widget-view+json": {
       "model_id": "d14c37a0a98a4096b5501ea80dd7d74b",
       "version_major": 2,
       "version_minor": 0
      },
      "text/plain": [
       "Fitness Calc Gen 20:   0%|          | 0/20 [00:00<?, ?it/s]"
      ]
     },
     "metadata": {},
     "output_type": "display_data"
    },
    {
     "name": "stdout",
     "output_type": "stream",
     "text": [
      "Model Factory: Criando tipo 'PVBin' com params: {'method': 'binary', 'query': 'binary', 'norm': None, 'query_norm': None, 'ngram_range': [1, 2]}\n",
      "Model Factory (PVBin): Convertido ngram_range [1, 2] para tupla (1, 2)\n",
      "Fitting ProductVectorizerClassifier com 100 amostras...\n",
      "Fit concluído.\n",
      "Model Factory: Criando tipo 'PVBin' com params: {'method': 'binary', 'query': 'binary', 'norm': None, 'query_norm': None, 'ngram_range': [1, 2]}\n",
      "Model Factory (PVBin): Convertido ngram_range [1, 2] para tupla (1, 2)\n",
      "Fitting ProductVectorizerClassifier com 100 amostras...\n",
      "Fit concluído.\n",
      "Model Factory: Criando tipo 'PVBin' com params: {'method': 'binary', 'query': 'binary', 'norm': None, 'query_norm': None, 'ngram_range': [1, 2]}\n",
      "Model Factory (PVBin): Convertido ngram_range [1, 2] para tupla (1, 2)\n",
      "Fitting ProductVectorizerClassifier com 100 amostras...\n",
      "Fit concluído.\n",
      "Model Factory: Criando tipo 'PVBin' com params: {'method': 'binary', 'query': 'binary', 'norm': None, 'query_norm': None, 'ngram_range': [1, 2]}\n",
      "Model Factory (PVBin): Convertido ngram_range [1, 2] para tupla (1, 2)\n",
      "Fitting ProductVectorizerClassifier com 100 amostras...\n",
      "Fit concluído.\n",
      "Model Factory: Criando tipo 'PVBin' com params: {'method': 'binary', 'query': 'binary', 'norm': None, 'query_norm': None, 'ngram_range': [1, 2]}\n",
      "Model Factory (PVBin): Convertido ngram_range [1, 2] para tupla (1, 2)\n",
      "Fitting ProductVectorizerClassifier com 100 amostras...\n",
      "Fit concluído.\n",
      "Model Factory: Criando tipo 'PVBin' com params: {'method': 'binary', 'query': 'binary', 'norm': None, 'query_norm': None, 'ngram_range': [1, 2]}\n",
      "Model Factory (PVBin): Convertido ngram_range [1, 2] para tupla (1, 2)\n",
      "Fitting ProductVectorizerClassifier com 100 amostras...\n",
      "Fit concluído.\n",
      "Model Factory: Criando tipo 'PVBin' com params: {'method': 'binary', 'query': 'binary', 'norm': None, 'query_norm': None, 'ngram_range': [1, 2]}\n",
      "Model Factory (PVBin): Convertido ngram_range [1, 2] para tupla (1, 2)\n",
      "Fitting ProductVectorizerClassifier com 100 amostras...\n",
      "Fit concluído.\n",
      "Model Factory: Criando tipo 'PVBin' com params: {'method': 'binary', 'query': 'binary', 'norm': None, 'query_norm': None, 'ngram_range': [1, 2]}\n",
      "Model Factory (PVBin): Convertido ngram_range [1, 2] para tupla (1, 2)\n",
      "Fitting ProductVectorizerClassifier com 100 amostras...\n",
      "Fit concluído.\n",
      "    Acc Real Geração 20: Max=0.3293, Avg=0.3252, Min=0.3142\n",
      "    F1 Real Geração  20: Max=0.0412, Avg=0.0395, Min=0.0357\n",
      "    Duração Geração 20: 68.30s\n",
      "\n",
      "  Geração 21/100\n"
     ]
    },
    {
     "data": {
      "application/vnd.jupyter.widget-view+json": {
       "model_id": "f9c6443470ae4465b472a2dfbef69f22",
       "version_major": 2,
       "version_minor": 0
      },
      "text/plain": [
       "Fitness Calc Gen 21:   0%|          | 0/20 [00:00<?, ?it/s]"
      ]
     },
     "metadata": {},
     "output_type": "display_data"
    },
    {
     "name": "stdout",
     "output_type": "stream",
     "text": [
      "Model Factory: Criando tipo 'PVBin' com params: {'method': 'binary', 'query': 'binary', 'norm': None, 'query_norm': None, 'ngram_range': [1, 2]}\n",
      "Model Factory (PVBin): Convertido ngram_range [1, 2] para tupla (1, 2)\n",
      "Fitting ProductVectorizerClassifier com 100 amostras...\n",
      "Fit concluído.\n",
      "Model Factory: Criando tipo 'PVBin' com params: {'method': 'binary', 'query': 'binary', 'norm': None, 'query_norm': None, 'ngram_range': [1, 2]}\n",
      "Model Factory (PVBin): Convertido ngram_range [1, 2] para tupla (1, 2)\n",
      "Fitting ProductVectorizerClassifier com 100 amostras...\n",
      "Fit concluído.\n",
      "Model Factory: Criando tipo 'PVBin' com params: {'method': 'binary', 'query': 'binary', 'norm': None, 'query_norm': None, 'ngram_range': [1, 2]}\n",
      "Model Factory (PVBin): Convertido ngram_range [1, 2] para tupla (1, 2)\n",
      "Fitting ProductVectorizerClassifier com 100 amostras...\n",
      "Fit concluído.\n",
      "Model Factory: Criando tipo 'PVBin' com params: {'method': 'binary', 'query': 'binary', 'norm': None, 'query_norm': None, 'ngram_range': [1, 2]}\n",
      "Model Factory (PVBin): Convertido ngram_range [1, 2] para tupla (1, 2)\n",
      "Fitting ProductVectorizerClassifier com 100 amostras...\n",
      "Fit concluído.\n",
      "Model Factory: Criando tipo 'PVBin' com params: {'method': 'binary', 'query': 'binary', 'norm': None, 'query_norm': None, 'ngram_range': [1, 2]}\n",
      "Model Factory (PVBin): Convertido ngram_range [1, 2] para tupla (1, 2)\n",
      "Fitting ProductVectorizerClassifier com 100 amostras...\n",
      "Fit concluído.\n",
      "Model Factory: Criando tipo 'PVBin' com params: {'method': 'binary', 'query': 'binary', 'norm': None, 'query_norm': None, 'ngram_range': [1, 2]}\n",
      "Model Factory (PVBin): Convertido ngram_range [1, 2] para tupla (1, 2)\n",
      "Fitting ProductVectorizerClassifier com 100 amostras...\n",
      "Fit concluído.\n",
      "Model Factory: Criando tipo 'PVBin' com params: {'method': 'binary', 'query': 'binary', 'norm': None, 'query_norm': None, 'ngram_range': [1, 2]}\n",
      "Model Factory (PVBin): Convertido ngram_range [1, 2] para tupla (1, 2)\n",
      "Fitting ProductVectorizerClassifier com 100 amostras...\n",
      "Fit concluído.\n",
      "Model Factory: Criando tipo 'PVBin' com params: {'method': 'binary', 'query': 'binary', 'norm': None, 'query_norm': None, 'ngram_range': [1, 2]}\n",
      "Model Factory (PVBin): Convertido ngram_range [1, 2] para tupla (1, 2)\n",
      "Fitting ProductVectorizerClassifier com 100 amostras...\n",
      "Fit concluído.\n",
      "Model Factory: Criando tipo 'PVBin' com params: {'method': 'binary', 'query': 'binary', 'norm': None, 'query_norm': None, 'ngram_range': [1, 2]}\n",
      "Model Factory (PVBin): Convertido ngram_range [1, 2] para tupla (1, 2)\n",
      "Fitting ProductVectorizerClassifier com 100 amostras...\n",
      "Fit concluído.\n",
      "Model Factory: Criando tipo 'PVBin' com params: {'method': 'binary', 'query': 'binary', 'norm': None, 'query_norm': None, 'ngram_range': [1, 2]}\n",
      "Model Factory (PVBin): Convertido ngram_range [1, 2] para tupla (1, 2)\n",
      "Fitting ProductVectorizerClassifier com 100 amostras...\n",
      "Fit concluído.\n",
      "Model Factory: Criando tipo 'PVBin' com params: {'method': 'binary', 'query': 'binary', 'norm': None, 'query_norm': None, 'ngram_range': [1, 2]}\n",
      "Model Factory (PVBin): Convertido ngram_range [1, 2] para tupla (1, 2)\n",
      "Fitting ProductVectorizerClassifier com 100 amostras...\n",
      "Fit concluído.\n",
      "    Novo melhor (Obj: maximize): Perf Real=0.3296\n",
      "    Acc Real Geração 21: Max=0.3296, Avg=0.3261, Min=0.3117\n",
      "    F1 Real Geração  21: Max=0.0412, Avg=0.0399, Min=0.0365\n",
      "    Duração Geração 21: 95.73s\n",
      "\n",
      "  Geração 22/100\n"
     ]
    },
    {
     "data": {
      "application/vnd.jupyter.widget-view+json": {
       "model_id": "d32ff4de2c734477b2722cecc804b6a6",
       "version_major": 2,
       "version_minor": 0
      },
      "text/plain": [
       "Fitness Calc Gen 22:   0%|          | 0/20 [00:00<?, ?it/s]"
      ]
     },
     "metadata": {},
     "output_type": "display_data"
    },
    {
     "name": "stdout",
     "output_type": "stream",
     "text": [
      "Model Factory: Criando tipo 'PVBin' com params: {'method': 'binary', 'query': 'binary', 'norm': None, 'query_norm': None, 'ngram_range': [1, 2]}\n",
      "Model Factory (PVBin): Convertido ngram_range [1, 2] para tupla (1, 2)\n",
      "Fitting ProductVectorizerClassifier com 100 amostras...\n",
      "Fit concluído.\n",
      "Model Factory: Criando tipo 'PVBin' com params: {'method': 'binary', 'query': 'binary', 'norm': None, 'query_norm': None, 'ngram_range': [1, 2]}\n",
      "Model Factory (PVBin): Convertido ngram_range [1, 2] para tupla (1, 2)\n",
      "Fitting ProductVectorizerClassifier com 100 amostras...\n",
      "Fit concluído.\n",
      "Model Factory: Criando tipo 'PVBin' com params: {'method': 'binary', 'query': 'binary', 'norm': None, 'query_norm': None, 'ngram_range': [1, 2]}\n",
      "Model Factory (PVBin): Convertido ngram_range [1, 2] para tupla (1, 2)\n",
      "Fitting ProductVectorizerClassifier com 100 amostras...\n",
      "Fit concluído.\n",
      "Model Factory: Criando tipo 'PVBin' com params: {'method': 'binary', 'query': 'binary', 'norm': None, 'query_norm': None, 'ngram_range': [1, 2]}\n",
      "Model Factory (PVBin): Convertido ngram_range [1, 2] para tupla (1, 2)\n",
      "Fitting ProductVectorizerClassifier com 100 amostras...\n",
      "Fit concluído.\n",
      "Model Factory: Criando tipo 'PVBin' com params: {'method': 'binary', 'query': 'binary', 'norm': None, 'query_norm': None, 'ngram_range': [1, 2]}\n",
      "Model Factory (PVBin): Convertido ngram_range [1, 2] para tupla (1, 2)\n",
      "Fitting ProductVectorizerClassifier com 100 amostras...\n",
      "Fit concluído.\n",
      "Model Factory: Criando tipo 'PVBin' com params: {'method': 'binary', 'query': 'binary', 'norm': None, 'query_norm': None, 'ngram_range': [1, 2]}\n",
      "Model Factory (PVBin): Convertido ngram_range [1, 2] para tupla (1, 2)\n",
      "Fitting ProductVectorizerClassifier com 100 amostras...\n",
      "Fit concluído.\n",
      "Model Factory: Criando tipo 'PVBin' com params: {'method': 'binary', 'query': 'binary', 'norm': None, 'query_norm': None, 'ngram_range': [1, 2]}\n",
      "Model Factory (PVBin): Convertido ngram_range [1, 2] para tupla (1, 2)\n",
      "Fitting ProductVectorizerClassifier com 100 amostras...\n",
      "Fit concluído.\n",
      "Model Factory: Criando tipo 'PVBin' com params: {'method': 'binary', 'query': 'binary', 'norm': None, 'query_norm': None, 'ngram_range': [1, 2]}\n",
      "Model Factory (PVBin): Convertido ngram_range [1, 2] para tupla (1, 2)\n",
      "Fitting ProductVectorizerClassifier com 100 amostras...\n",
      "Fit concluído.\n",
      "Model Factory: Criando tipo 'PVBin' com params: {'method': 'binary', 'query': 'binary', 'norm': None, 'query_norm': None, 'ngram_range': [1, 2]}\n",
      "Model Factory (PVBin): Convertido ngram_range [1, 2] para tupla (1, 2)\n",
      "Fitting ProductVectorizerClassifier com 100 amostras...\n",
      "Fit concluído.\n",
      "Model Factory: Criando tipo 'PVBin' com params: {'method': 'binary', 'query': 'binary', 'norm': None, 'query_norm': None, 'ngram_range': [1, 2]}\n",
      "Model Factory (PVBin): Convertido ngram_range [1, 2] para tupla (1, 2)\n",
      "Fitting ProductVectorizerClassifier com 100 amostras...\n",
      "Fit concluído.\n",
      "Model Factory: Criando tipo 'PVBin' com params: {'method': 'binary', 'query': 'binary', 'norm': None, 'query_norm': None, 'ngram_range': [1, 2]}\n",
      "Model Factory (PVBin): Convertido ngram_range [1, 2] para tupla (1, 2)\n",
      "Fitting ProductVectorizerClassifier com 100 amostras...\n",
      "Fit concluído.\n",
      "Model Factory: Criando tipo 'PVBin' com params: {'method': 'binary', 'query': 'binary', 'norm': None, 'query_norm': None, 'ngram_range': [1, 2]}\n",
      "Model Factory (PVBin): Convertido ngram_range [1, 2] para tupla (1, 2)\n",
      "Fitting ProductVectorizerClassifier com 100 amostras...\n",
      "Fit concluído.\n",
      "Model Factory: Criando tipo 'PVBin' com params: {'method': 'binary', 'query': 'binary', 'norm': None, 'query_norm': None, 'ngram_range': [1, 2]}\n",
      "Model Factory (PVBin): Convertido ngram_range [1, 2] para tupla (1, 2)\n",
      "Fitting ProductVectorizerClassifier com 100 amostras...\n",
      "Fit concluído.\n",
      "    Novo melhor (Obj: maximize): Perf Real=0.3327\n",
      "    Acc Real Geração 22: Max=0.3327, Avg=0.3270, Min=0.3164\n",
      "    F1 Real Geração  22: Max=0.0413, Avg=0.0399, Min=0.0381\n",
      "    Duração Geração 22: 117.77s\n",
      "\n",
      "  Geração 23/100\n"
     ]
    },
    {
     "data": {
      "application/vnd.jupyter.widget-view+json": {
       "model_id": "11db147aa81d4d648609378a1c0c6083",
       "version_major": 2,
       "version_minor": 0
      },
      "text/plain": [
       "Fitness Calc Gen 23:   0%|          | 0/20 [00:00<?, ?it/s]"
      ]
     },
     "metadata": {},
     "output_type": "display_data"
    },
    {
     "name": "stdout",
     "output_type": "stream",
     "text": [
      "Model Factory: Criando tipo 'PVBin' com params: {'method': 'binary', 'query': 'binary', 'norm': None, 'query_norm': None, 'ngram_range': [1, 2]}\n",
      "Model Factory (PVBin): Convertido ngram_range [1, 2] para tupla (1, 2)\n",
      "Fitting ProductVectorizerClassifier com 100 amostras...\n",
      "Fit concluído.\n",
      "Model Factory: Criando tipo 'PVBin' com params: {'method': 'binary', 'query': 'binary', 'norm': None, 'query_norm': None, 'ngram_range': [1, 2]}\n",
      "Model Factory (PVBin): Convertido ngram_range [1, 2] para tupla (1, 2)\n",
      "Fitting ProductVectorizerClassifier com 100 amostras...\n",
      "Fit concluído.\n",
      "Model Factory: Criando tipo 'PVBin' com params: {'method': 'binary', 'query': 'binary', 'norm': None, 'query_norm': None, 'ngram_range': [1, 2]}\n",
      "Model Factory (PVBin): Convertido ngram_range [1, 2] para tupla (1, 2)\n",
      "Fitting ProductVectorizerClassifier com 100 amostras...\n",
      "Fit concluído.\n",
      "Model Factory: Criando tipo 'PVBin' com params: {'method': 'binary', 'query': 'binary', 'norm': None, 'query_norm': None, 'ngram_range': [1, 2]}\n",
      "Model Factory (PVBin): Convertido ngram_range [1, 2] para tupla (1, 2)\n",
      "Fitting ProductVectorizerClassifier com 100 amostras...\n",
      "Fit concluído.\n",
      "Model Factory: Criando tipo 'PVBin' com params: {'method': 'binary', 'query': 'binary', 'norm': None, 'query_norm': None, 'ngram_range': [1, 2]}\n",
      "Model Factory (PVBin): Convertido ngram_range [1, 2] para tupla (1, 2)\n",
      "Fitting ProductVectorizerClassifier com 100 amostras...\n",
      "Fit concluído.\n",
      "Model Factory: Criando tipo 'PVBin' com params: {'method': 'binary', 'query': 'binary', 'norm': None, 'query_norm': None, 'ngram_range': [1, 2]}\n",
      "Model Factory (PVBin): Convertido ngram_range [1, 2] para tupla (1, 2)\n",
      "Fitting ProductVectorizerClassifier com 100 amostras...\n",
      "Fit concluído.\n",
      "Model Factory: Criando tipo 'PVBin' com params: {'method': 'binary', 'query': 'binary', 'norm': None, 'query_norm': None, 'ngram_range': [1, 2]}\n",
      "Model Factory (PVBin): Convertido ngram_range [1, 2] para tupla (1, 2)\n",
      "Fitting ProductVectorizerClassifier com 100 amostras...\n",
      "Fit concluído.\n",
      "Model Factory: Criando tipo 'PVBin' com params: {'method': 'binary', 'query': 'binary', 'norm': None, 'query_norm': None, 'ngram_range': [1, 2]}\n",
      "Model Factory (PVBin): Convertido ngram_range [1, 2] para tupla (1, 2)\n",
      "Fitting ProductVectorizerClassifier com 100 amostras...\n",
      "Fit concluído.\n",
      "Model Factory: Criando tipo 'PVBin' com params: {'method': 'binary', 'query': 'binary', 'norm': None, 'query_norm': None, 'ngram_range': [1, 2]}\n",
      "Model Factory (PVBin): Convertido ngram_range [1, 2] para tupla (1, 2)\n",
      "Fitting ProductVectorizerClassifier com 100 amostras...\n",
      "Fit concluído.\n",
      "    Novo melhor (Obj: maximize): Perf Real=0.3331\n",
      "    Acc Real Geração 23: Max=0.3331, Avg=0.3285, Min=0.3119\n",
      "    F1 Real Geração  23: Max=0.0419, Avg=0.0403, Min=0.0388\n",
      "    Duração Geração 23: 77.20s\n",
      "\n",
      "  Geração 24/100\n"
     ]
    },
    {
     "data": {
      "application/vnd.jupyter.widget-view+json": {
       "model_id": "60d6ab12ed964bfa8d3324a79084d45a",
       "version_major": 2,
       "version_minor": 0
      },
      "text/plain": [
       "Fitness Calc Gen 24:   0%|          | 0/20 [00:00<?, ?it/s]"
      ]
     },
     "metadata": {},
     "output_type": "display_data"
    },
    {
     "name": "stdout",
     "output_type": "stream",
     "text": [
      "Model Factory: Criando tipo 'PVBin' com params: {'method': 'binary', 'query': 'binary', 'norm': None, 'query_norm': None, 'ngram_range': [1, 2]}\n",
      "Model Factory (PVBin): Convertido ngram_range [1, 2] para tupla (1, 2)\n",
      "Fitting ProductVectorizerClassifier com 100 amostras...\n",
      "Fit concluído.\n",
      "Model Factory: Criando tipo 'PVBin' com params: {'method': 'binary', 'query': 'binary', 'norm': None, 'query_norm': None, 'ngram_range': [1, 2]}\n",
      "Model Factory (PVBin): Convertido ngram_range [1, 2] para tupla (1, 2)\n",
      "Fitting ProductVectorizerClassifier com 100 amostras...\n",
      "Fit concluído.\n",
      "Model Factory: Criando tipo 'PVBin' com params: {'method': 'binary', 'query': 'binary', 'norm': None, 'query_norm': None, 'ngram_range': [1, 2]}\n",
      "Model Factory (PVBin): Convertido ngram_range [1, 2] para tupla (1, 2)\n",
      "Fitting ProductVectorizerClassifier com 100 amostras...\n",
      "Fit concluído.\n",
      "Model Factory: Criando tipo 'PVBin' com params: {'method': 'binary', 'query': 'binary', 'norm': None, 'query_norm': None, 'ngram_range': [1, 2]}\n",
      "Model Factory (PVBin): Convertido ngram_range [1, 2] para tupla (1, 2)\n",
      "Fitting ProductVectorizerClassifier com 100 amostras...\n",
      "Fit concluído.\n",
      "Model Factory: Criando tipo 'PVBin' com params: {'method': 'binary', 'query': 'binary', 'norm': None, 'query_norm': None, 'ngram_range': [1, 2]}\n",
      "Model Factory (PVBin): Convertido ngram_range [1, 2] para tupla (1, 2)\n",
      "Fitting ProductVectorizerClassifier com 100 amostras...\n",
      "Fit concluído.\n",
      "Model Factory: Criando tipo 'PVBin' com params: {'method': 'binary', 'query': 'binary', 'norm': None, 'query_norm': None, 'ngram_range': [1, 2]}\n",
      "Model Factory (PVBin): Convertido ngram_range [1, 2] para tupla (1, 2)\n",
      "Fitting ProductVectorizerClassifier com 100 amostras...\n",
      "Fit concluído.\n",
      "Model Factory: Criando tipo 'PVBin' com params: {'method': 'binary', 'query': 'binary', 'norm': None, 'query_norm': None, 'ngram_range': [1, 2]}\n",
      "Model Factory (PVBin): Convertido ngram_range [1, 2] para tupla (1, 2)\n",
      "Fitting ProductVectorizerClassifier com 100 amostras...\n",
      "Fit concluído.\n",
      "Model Factory: Criando tipo 'PVBin' com params: {'method': 'binary', 'query': 'binary', 'norm': None, 'query_norm': None, 'ngram_range': [1, 2]}\n",
      "Model Factory (PVBin): Convertido ngram_range [1, 2] para tupla (1, 2)\n",
      "Fitting ProductVectorizerClassifier com 100 amostras...\n",
      "Fit concluído.\n",
      "Model Factory: Criando tipo 'PVBin' com params: {'method': 'binary', 'query': 'binary', 'norm': None, 'query_norm': None, 'ngram_range': [1, 2]}\n",
      "Model Factory (PVBin): Convertido ngram_range [1, 2] para tupla (1, 2)\n",
      "Fitting ProductVectorizerClassifier com 100 amostras...\n",
      "Fit concluído.\n",
      "Model Factory: Criando tipo 'PVBin' com params: {'method': 'binary', 'query': 'binary', 'norm': None, 'query_norm': None, 'ngram_range': [1, 2]}\n",
      "Model Factory (PVBin): Convertido ngram_range [1, 2] para tupla (1, 2)\n",
      "Fitting ProductVectorizerClassifier com 100 amostras...\n",
      "Fit concluído.\n",
      "Model Factory: Criando tipo 'PVBin' com params: {'method': 'binary', 'query': 'binary', 'norm': None, 'query_norm': None, 'ngram_range': [1, 2]}\n",
      "Model Factory (PVBin): Convertido ngram_range [1, 2] para tupla (1, 2)\n",
      "Fitting ProductVectorizerClassifier com 100 amostras...\n",
      "Fit concluído.\n",
      "Model Factory: Criando tipo 'PVBin' com params: {'method': 'binary', 'query': 'binary', 'norm': None, 'query_norm': None, 'ngram_range': [1, 2]}\n",
      "Model Factory (PVBin): Convertido ngram_range [1, 2] para tupla (1, 2)\n",
      "Fitting ProductVectorizerClassifier com 100 amostras...\n",
      "Fit concluído.\n",
      "    Novo melhor (Obj: maximize): Perf Real=0.3360\n",
      "    Acc Real Geração 24: Max=0.3360, Avg=0.3306, Min=0.3215\n",
      "    F1 Real Geração  24: Max=0.0425, Avg=0.0410, Min=0.0398\n",
      "    Duração Geração 24: 69.09s\n",
      "\n",
      "  Geração 25/100\n"
     ]
    },
    {
     "data": {
      "application/vnd.jupyter.widget-view+json": {
       "model_id": "0e1fd80f0bff472e9571f14c0777007d",
       "version_major": 2,
       "version_minor": 0
      },
      "text/plain": [
       "Fitness Calc Gen 25:   0%|          | 0/20 [00:00<?, ?it/s]"
      ]
     },
     "metadata": {},
     "output_type": "display_data"
    },
    {
     "name": "stdout",
     "output_type": "stream",
     "text": [
      "Model Factory: Criando tipo 'PVBin' com params: {'method': 'binary', 'query': 'binary', 'norm': None, 'query_norm': None, 'ngram_range': [1, 2]}\n",
      "Model Factory (PVBin): Convertido ngram_range [1, 2] para tupla (1, 2)\n",
      "Fitting ProductVectorizerClassifier com 100 amostras...\n",
      "Fit concluído.\n",
      "Model Factory: Criando tipo 'PVBin' com params: {'method': 'binary', 'query': 'binary', 'norm': None, 'query_norm': None, 'ngram_range': [1, 2]}\n",
      "Model Factory (PVBin): Convertido ngram_range [1, 2] para tupla (1, 2)\n",
      "Fitting ProductVectorizerClassifier com 100 amostras...\n",
      "Fit concluído.\n",
      "Model Factory: Criando tipo 'PVBin' com params: {'method': 'binary', 'query': 'binary', 'norm': None, 'query_norm': None, 'ngram_range': [1, 2]}\n",
      "Model Factory (PVBin): Convertido ngram_range [1, 2] para tupla (1, 2)\n",
      "Fitting ProductVectorizerClassifier com 100 amostras...\n",
      "Fit concluído.\n",
      "Model Factory: Criando tipo 'PVBin' com params: {'method': 'binary', 'query': 'binary', 'norm': None, 'query_norm': None, 'ngram_range': [1, 2]}\n",
      "Model Factory (PVBin): Convertido ngram_range [1, 2] para tupla (1, 2)\n",
      "Fitting ProductVectorizerClassifier com 100 amostras...\n",
      "Fit concluído.\n",
      "Model Factory: Criando tipo 'PVBin' com params: {'method': 'binary', 'query': 'binary', 'norm': None, 'query_norm': None, 'ngram_range': [1, 2]}\n",
      "Model Factory (PVBin): Convertido ngram_range [1, 2] para tupla (1, 2)\n",
      "Fitting ProductVectorizerClassifier com 100 amostras...\n",
      "Fit concluído.\n",
      "Model Factory: Criando tipo 'PVBin' com params: {'method': 'binary', 'query': 'binary', 'norm': None, 'query_norm': None, 'ngram_range': [1, 2]}\n",
      "Model Factory (PVBin): Convertido ngram_range [1, 2] para tupla (1, 2)\n",
      "Fitting ProductVectorizerClassifier com 100 amostras...\n",
      "Fit concluído.\n",
      "Model Factory: Criando tipo 'PVBin' com params: {'method': 'binary', 'query': 'binary', 'norm': None, 'query_norm': None, 'ngram_range': [1, 2]}\n",
      "Model Factory (PVBin): Convertido ngram_range [1, 2] para tupla (1, 2)\n",
      "Fitting ProductVectorizerClassifier com 100 amostras...\n",
      "Fit concluído.\n",
      "Model Factory: Criando tipo 'PVBin' com params: {'method': 'binary', 'query': 'binary', 'norm': None, 'query_norm': None, 'ngram_range': [1, 2]}\n",
      "Model Factory (PVBin): Convertido ngram_range [1, 2] para tupla (1, 2)\n",
      "Fitting ProductVectorizerClassifier com 100 amostras...\n",
      "Fit concluído.\n",
      "Model Factory: Criando tipo 'PVBin' com params: {'method': 'binary', 'query': 'binary', 'norm': None, 'query_norm': None, 'ngram_range': [1, 2]}\n",
      "Model Factory (PVBin): Convertido ngram_range [1, 2] para tupla (1, 2)\n",
      "Fitting ProductVectorizerClassifier com 100 amostras...\n",
      "Fit concluído.\n",
      "    Acc Real Geração 25: Max=0.3360, Avg=0.3314, Min=0.3248\n",
      "    F1 Real Geração  25: Max=0.0430, Avg=0.0414, Min=0.0403\n",
      "    Duração Geração 25: 52.20s\n",
      "\n",
      "  Geração 26/100\n"
     ]
    },
    {
     "data": {
      "application/vnd.jupyter.widget-view+json": {
       "model_id": "db4acb07811246598ceca855fe36f361",
       "version_major": 2,
       "version_minor": 0
      },
      "text/plain": [
       "Fitness Calc Gen 26:   0%|          | 0/20 [00:00<?, ?it/s]"
      ]
     },
     "metadata": {},
     "output_type": "display_data"
    },
    {
     "name": "stdout",
     "output_type": "stream",
     "text": [
      "Model Factory: Criando tipo 'PVBin' com params: {'method': 'binary', 'query': 'binary', 'norm': None, 'query_norm': None, 'ngram_range': [1, 2]}\n",
      "Model Factory (PVBin): Convertido ngram_range [1, 2] para tupla (1, 2)\n",
      "Fitting ProductVectorizerClassifier com 100 amostras...\n",
      "Fit concluído.\n",
      "Model Factory: Criando tipo 'PVBin' com params: {'method': 'binary', 'query': 'binary', 'norm': None, 'query_norm': None, 'ngram_range': [1, 2]}\n",
      "Model Factory (PVBin): Convertido ngram_range [1, 2] para tupla (1, 2)\n",
      "Fitting ProductVectorizerClassifier com 100 amostras...\n",
      "Fit concluído.\n",
      "Model Factory: Criando tipo 'PVBin' com params: {'method': 'binary', 'query': 'binary', 'norm': None, 'query_norm': None, 'ngram_range': [1, 2]}\n",
      "Model Factory (PVBin): Convertido ngram_range [1, 2] para tupla (1, 2)\n",
      "Fitting ProductVectorizerClassifier com 100 amostras...\n",
      "Fit concluído.\n",
      "Model Factory: Criando tipo 'PVBin' com params: {'method': 'binary', 'query': 'binary', 'norm': None, 'query_norm': None, 'ngram_range': [1, 2]}\n",
      "Model Factory (PVBin): Convertido ngram_range [1, 2] para tupla (1, 2)\n",
      "Fitting ProductVectorizerClassifier com 100 amostras...\n",
      "Fit concluído.\n",
      "Model Factory: Criando tipo 'PVBin' com params: {'method': 'binary', 'query': 'binary', 'norm': None, 'query_norm': None, 'ngram_range': [1, 2]}\n",
      "Model Factory (PVBin): Convertido ngram_range [1, 2] para tupla (1, 2)\n",
      "Fitting ProductVectorizerClassifier com 100 amostras...\n",
      "Fit concluído.\n",
      "Model Factory: Criando tipo 'PVBin' com params: {'method': 'binary', 'query': 'binary', 'norm': None, 'query_norm': None, 'ngram_range': [1, 2]}\n",
      "Model Factory (PVBin): Convertido ngram_range [1, 2] para tupla (1, 2)\n",
      "Fitting ProductVectorizerClassifier com 100 amostras...\n",
      "Fit concluído.\n",
      "Model Factory: Criando tipo 'PVBin' com params: {'method': 'binary', 'query': 'binary', 'norm': None, 'query_norm': None, 'ngram_range': [1, 2]}\n",
      "Model Factory (PVBin): Convertido ngram_range [1, 2] para tupla (1, 2)\n",
      "Fitting ProductVectorizerClassifier com 100 amostras...\n",
      "Fit concluído.\n",
      "Model Factory: Criando tipo 'PVBin' com params: {'method': 'binary', 'query': 'binary', 'norm': None, 'query_norm': None, 'ngram_range': [1, 2]}\n",
      "Model Factory (PVBin): Convertido ngram_range [1, 2] para tupla (1, 2)\n",
      "Fitting ProductVectorizerClassifier com 100 amostras...\n",
      "Fit concluído.\n",
      "Model Factory: Criando tipo 'PVBin' com params: {'method': 'binary', 'query': 'binary', 'norm': None, 'query_norm': None, 'ngram_range': [1, 2]}\n",
      "Model Factory (PVBin): Convertido ngram_range [1, 2] para tupla (1, 2)\n",
      "Fitting ProductVectorizerClassifier com 100 amostras...\n",
      "Fit concluído.\n",
      "Model Factory: Criando tipo 'PVBin' com params: {'method': 'binary', 'query': 'binary', 'norm': None, 'query_norm': None, 'ngram_range': [1, 2]}\n",
      "Model Factory (PVBin): Convertido ngram_range [1, 2] para tupla (1, 2)\n",
      "Fitting ProductVectorizerClassifier com 100 amostras...\n",
      "Fit concluído.\n",
      "Model Factory: Criando tipo 'PVBin' com params: {'method': 'binary', 'query': 'binary', 'norm': None, 'query_norm': None, 'ngram_range': [1, 2]}\n",
      "Model Factory (PVBin): Convertido ngram_range [1, 2] para tupla (1, 2)\n",
      "Fitting ProductVectorizerClassifier com 100 amostras...\n",
      "Fit concluído.\n",
      "    Novo melhor (Obj: maximize): Perf Real=0.3360\n",
      "    Acc Real Geração 26: Max=0.3360, Avg=0.3320, Min=0.3238\n",
      "    F1 Real Geração  26: Max=0.0425, Avg=0.0408, Min=0.0389\n",
      "    Duração Geração 26: 66.40s\n",
      "\n",
      "  Geração 27/100\n"
     ]
    },
    {
     "data": {
      "application/vnd.jupyter.widget-view+json": {
       "model_id": "b54a8f1af50a44f0ab18af5b1154d24a",
       "version_major": 2,
       "version_minor": 0
      },
      "text/plain": [
       "Fitness Calc Gen 27:   0%|          | 0/20 [00:00<?, ?it/s]"
      ]
     },
     "metadata": {},
     "output_type": "display_data"
    },
    {
     "name": "stdout",
     "output_type": "stream",
     "text": [
      "Model Factory: Criando tipo 'PVBin' com params: {'method': 'binary', 'query': 'binary', 'norm': None, 'query_norm': None, 'ngram_range': [1, 2]}\n",
      "Model Factory (PVBin): Convertido ngram_range [1, 2] para tupla (1, 2)\n",
      "Fitting ProductVectorizerClassifier com 100 amostras...\n",
      "Fit concluído.\n",
      "Model Factory: Criando tipo 'PVBin' com params: {'method': 'binary', 'query': 'binary', 'norm': None, 'query_norm': None, 'ngram_range': [1, 2]}\n",
      "Model Factory (PVBin): Convertido ngram_range [1, 2] para tupla (1, 2)\n",
      "Fitting ProductVectorizerClassifier com 100 amostras...\n",
      "Fit concluído.\n",
      "Model Factory: Criando tipo 'PVBin' com params: {'method': 'binary', 'query': 'binary', 'norm': None, 'query_norm': None, 'ngram_range': [1, 2]}\n",
      "Model Factory (PVBin): Convertido ngram_range [1, 2] para tupla (1, 2)\n",
      "Fitting ProductVectorizerClassifier com 100 amostras...\n",
      "Fit concluído.\n",
      "Model Factory: Criando tipo 'PVBin' com params: {'method': 'binary', 'query': 'binary', 'norm': None, 'query_norm': None, 'ngram_range': [1, 2]}\n",
      "Model Factory (PVBin): Convertido ngram_range [1, 2] para tupla (1, 2)\n",
      "Fitting ProductVectorizerClassifier com 100 amostras...\n",
      "Fit concluído.\n",
      "Model Factory: Criando tipo 'PVBin' com params: {'method': 'binary', 'query': 'binary', 'norm': None, 'query_norm': None, 'ngram_range': [1, 2]}\n",
      "Model Factory (PVBin): Convertido ngram_range [1, 2] para tupla (1, 2)\n",
      "Fitting ProductVectorizerClassifier com 100 amostras...\n",
      "Fit concluído.\n",
      "Model Factory: Criando tipo 'PVBin' com params: {'method': 'binary', 'query': 'binary', 'norm': None, 'query_norm': None, 'ngram_range': [1, 2]}\n",
      "Model Factory (PVBin): Convertido ngram_range [1, 2] para tupla (1, 2)\n",
      "Fitting ProductVectorizerClassifier com 100 amostras...\n",
      "Fit concluído.\n",
      "Model Factory: Criando tipo 'PVBin' com params: {'method': 'binary', 'query': 'binary', 'norm': None, 'query_norm': None, 'ngram_range': [1, 2]}\n",
      "Model Factory (PVBin): Convertido ngram_range [1, 2] para tupla (1, 2)\n",
      "Fitting ProductVectorizerClassifier com 100 amostras...\n",
      "Fit concluído.\n",
      "Model Factory: Criando tipo 'PVBin' com params: {'method': 'binary', 'query': 'binary', 'norm': None, 'query_norm': None, 'ngram_range': [1, 2]}\n",
      "Model Factory (PVBin): Convertido ngram_range [1, 2] para tupla (1, 2)\n",
      "Fitting ProductVectorizerClassifier com 100 amostras...\n",
      "Fit concluído.\n",
      "Model Factory: Criando tipo 'PVBin' com params: {'method': 'binary', 'query': 'binary', 'norm': None, 'query_norm': None, 'ngram_range': [1, 2]}\n",
      "Model Factory (PVBin): Convertido ngram_range [1, 2] para tupla (1, 2)\n",
      "Fitting ProductVectorizerClassifier com 100 amostras...\n",
      "Fit concluído.\n",
      "Model Factory: Criando tipo 'PVBin' com params: {'method': 'binary', 'query': 'binary', 'norm': None, 'query_norm': None, 'ngram_range': [1, 2]}\n",
      "Model Factory (PVBin): Convertido ngram_range [1, 2] para tupla (1, 2)\n",
      "Fitting ProductVectorizerClassifier com 100 amostras...\n",
      "Fit concluído.\n",
      "Model Factory: Criando tipo 'PVBin' com params: {'method': 'binary', 'query': 'binary', 'norm': None, 'query_norm': None, 'ngram_range': [1, 2]}\n",
      "Model Factory (PVBin): Convertido ngram_range [1, 2] para tupla (1, 2)\n",
      "Fitting ProductVectorizerClassifier com 100 amostras...\n",
      "Fit concluído.\n",
      "Model Factory: Criando tipo 'PVBin' com params: {'method': 'binary', 'query': 'binary', 'norm': None, 'query_norm': None, 'ngram_range': [1, 2]}\n",
      "Model Factory (PVBin): Convertido ngram_range [1, 2] para tupla (1, 2)\n",
      "Fitting ProductVectorizerClassifier com 100 amostras...\n",
      "Fit concluído.\n",
      "    Acc Real Geração 27: Max=0.3360, Avg=0.3337, Min=0.3279\n",
      "    F1 Real Geração  27: Max=0.0437, Avg=0.0411, Min=0.0397\n",
      "    Duração Geração 27: 70.15s\n",
      "\n",
      "  Geração 28/100\n"
     ]
    },
    {
     "data": {
      "application/vnd.jupyter.widget-view+json": {
       "model_id": "e580609168cb455db9c59ff3b525e500",
       "version_major": 2,
       "version_minor": 0
      },
      "text/plain": [
       "Fitness Calc Gen 28:   0%|          | 0/20 [00:00<?, ?it/s]"
      ]
     },
     "metadata": {},
     "output_type": "display_data"
    },
    {
     "name": "stdout",
     "output_type": "stream",
     "text": [
      "Model Factory: Criando tipo 'PVBin' com params: {'method': 'binary', 'query': 'binary', 'norm': None, 'query_norm': None, 'ngram_range': [1, 2]}\n",
      "Model Factory (PVBin): Convertido ngram_range [1, 2] para tupla (1, 2)\n",
      "Fitting ProductVectorizerClassifier com 100 amostras...\n",
      "Fit concluído.\n",
      "Model Factory: Criando tipo 'PVBin' com params: {'method': 'binary', 'query': 'binary', 'norm': None, 'query_norm': None, 'ngram_range': [1, 2]}\n",
      "Model Factory (PVBin): Convertido ngram_range [1, 2] para tupla (1, 2)\n",
      "Fitting ProductVectorizerClassifier com 100 amostras...\n",
      "Fit concluído.\n",
      "Model Factory: Criando tipo 'PVBin' com params: {'method': 'binary', 'query': 'binary', 'norm': None, 'query_norm': None, 'ngram_range': [1, 2]}\n",
      "Model Factory (PVBin): Convertido ngram_range [1, 2] para tupla (1, 2)\n",
      "Fitting ProductVectorizerClassifier com 100 amostras...\n",
      "Fit concluído.\n",
      "Model Factory: Criando tipo 'PVBin' com params: {'method': 'binary', 'query': 'binary', 'norm': None, 'query_norm': None, 'ngram_range': [1, 2]}\n",
      "Model Factory (PVBin): Convertido ngram_range [1, 2] para tupla (1, 2)\n",
      "Fitting ProductVectorizerClassifier com 100 amostras...\n",
      "Fit concluído.\n",
      "Model Factory: Criando tipo 'PVBin' com params: {'method': 'binary', 'query': 'binary', 'norm': None, 'query_norm': None, 'ngram_range': [1, 2]}\n",
      "Model Factory (PVBin): Convertido ngram_range [1, 2] para tupla (1, 2)\n",
      "Fitting ProductVectorizerClassifier com 100 amostras...\n",
      "Fit concluído.\n",
      "Model Factory: Criando tipo 'PVBin' com params: {'method': 'binary', 'query': 'binary', 'norm': None, 'query_norm': None, 'ngram_range': [1, 2]}\n",
      "Model Factory (PVBin): Convertido ngram_range [1, 2] para tupla (1, 2)\n",
      "Fitting ProductVectorizerClassifier com 100 amostras...\n",
      "Fit concluído.\n",
      "Model Factory: Criando tipo 'PVBin' com params: {'method': 'binary', 'query': 'binary', 'norm': None, 'query_norm': None, 'ngram_range': [1, 2]}\n",
      "Model Factory (PVBin): Convertido ngram_range [1, 2] para tupla (1, 2)\n",
      "Fitting ProductVectorizerClassifier com 100 amostras...\n",
      "Fit concluído.\n",
      "Model Factory: Criando tipo 'PVBin' com params: {'method': 'binary', 'query': 'binary', 'norm': None, 'query_norm': None, 'ngram_range': [1, 2]}\n",
      "Model Factory (PVBin): Convertido ngram_range [1, 2] para tupla (1, 2)\n",
      "Fitting ProductVectorizerClassifier com 100 amostras...\n",
      "Fit concluído.\n",
      "Model Factory: Criando tipo 'PVBin' com params: {'method': 'binary', 'query': 'binary', 'norm': None, 'query_norm': None, 'ngram_range': [1, 2]}\n",
      "Model Factory (PVBin): Convertido ngram_range [1, 2] para tupla (1, 2)\n",
      "Fitting ProductVectorizerClassifier com 100 amostras...\n",
      "Fit concluído.\n",
      "    Novo melhor (Obj: maximize): Perf Real=0.3373\n",
      "    Acc Real Geração 28: Max=0.3373, Avg=0.3348, Min=0.3255\n",
      "    F1 Real Geração  28: Max=0.0427, Avg=0.0412, Min=0.0395\n",
      "    Duração Geração 28: 52.31s\n",
      "\n",
      "  Geração 29/100\n"
     ]
    },
    {
     "data": {
      "application/vnd.jupyter.widget-view+json": {
       "model_id": "2798c39833384d22a18be67cf63c4464",
       "version_major": 2,
       "version_minor": 0
      },
      "text/plain": [
       "Fitness Calc Gen 29:   0%|          | 0/20 [00:00<?, ?it/s]"
      ]
     },
     "metadata": {},
     "output_type": "display_data"
    },
    {
     "name": "stdout",
     "output_type": "stream",
     "text": [
      "Model Factory: Criando tipo 'PVBin' com params: {'method': 'binary', 'query': 'binary', 'norm': None, 'query_norm': None, 'ngram_range': [1, 2]}\n",
      "Model Factory (PVBin): Convertido ngram_range [1, 2] para tupla (1, 2)\n",
      "Fitting ProductVectorizerClassifier com 100 amostras...\n",
      "Fit concluído.\n",
      "Model Factory: Criando tipo 'PVBin' com params: {'method': 'binary', 'query': 'binary', 'norm': None, 'query_norm': None, 'ngram_range': [1, 2]}\n",
      "Model Factory (PVBin): Convertido ngram_range [1, 2] para tupla (1, 2)\n",
      "Fitting ProductVectorizerClassifier com 100 amostras...\n",
      "Fit concluído.\n",
      "Model Factory: Criando tipo 'PVBin' com params: {'method': 'binary', 'query': 'binary', 'norm': None, 'query_norm': None, 'ngram_range': [1, 2]}\n",
      "Model Factory (PVBin): Convertido ngram_range [1, 2] para tupla (1, 2)\n",
      "Fitting ProductVectorizerClassifier com 100 amostras...\n",
      "Fit concluído.\n",
      "Model Factory: Criando tipo 'PVBin' com params: {'method': 'binary', 'query': 'binary', 'norm': None, 'query_norm': None, 'ngram_range': [1, 2]}\n",
      "Model Factory (PVBin): Convertido ngram_range [1, 2] para tupla (1, 2)\n",
      "Fitting ProductVectorizerClassifier com 100 amostras...\n",
      "Fit concluído.\n",
      "Model Factory: Criando tipo 'PVBin' com params: {'method': 'binary', 'query': 'binary', 'norm': None, 'query_norm': None, 'ngram_range': [1, 2]}\n",
      "Model Factory (PVBin): Convertido ngram_range [1, 2] para tupla (1, 2)\n",
      "Fitting ProductVectorizerClassifier com 100 amostras...\n",
      "Fit concluído.\n",
      "    Novo melhor (Obj: maximize): Perf Real=0.3383\n",
      "    Acc Real Geração 29: Max=0.3383, Avg=0.3350, Min=0.3228\n",
      "    F1 Real Geração  29: Max=0.0425, Avg=0.0411, Min=0.0395\n",
      "    Duração Geração 29: 28.98s\n",
      "\n",
      "  Geração 30/100\n"
     ]
    },
    {
     "data": {
      "application/vnd.jupyter.widget-view+json": {
       "model_id": "13e8935b06c34fca828efda32adb6412",
       "version_major": 2,
       "version_minor": 0
      },
      "text/plain": [
       "Fitness Calc Gen 30:   0%|          | 0/20 [00:00<?, ?it/s]"
      ]
     },
     "metadata": {},
     "output_type": "display_data"
    },
    {
     "name": "stdout",
     "output_type": "stream",
     "text": [
      "Model Factory: Criando tipo 'PVBin' com params: {'method': 'binary', 'query': 'binary', 'norm': None, 'query_norm': None, 'ngram_range': [1, 2]}\n",
      "Model Factory (PVBin): Convertido ngram_range [1, 2] para tupla (1, 2)\n",
      "Fitting ProductVectorizerClassifier com 100 amostras...\n",
      "Fit concluído.\n",
      "Model Factory: Criando tipo 'PVBin' com params: {'method': 'binary', 'query': 'binary', 'norm': None, 'query_norm': None, 'ngram_range': [1, 2]}\n",
      "Model Factory (PVBin): Convertido ngram_range [1, 2] para tupla (1, 2)\n",
      "Fitting ProductVectorizerClassifier com 100 amostras...\n",
      "Fit concluído.\n",
      "Model Factory: Criando tipo 'PVBin' com params: {'method': 'binary', 'query': 'binary', 'norm': None, 'query_norm': None, 'ngram_range': [1, 2]}\n",
      "Model Factory (PVBin): Convertido ngram_range [1, 2] para tupla (1, 2)\n",
      "Fitting ProductVectorizerClassifier com 100 amostras...\n",
      "Fit concluído.\n",
      "Model Factory: Criando tipo 'PVBin' com params: {'method': 'binary', 'query': 'binary', 'norm': None, 'query_norm': None, 'ngram_range': [1, 2]}\n",
      "Model Factory (PVBin): Convertido ngram_range [1, 2] para tupla (1, 2)\n",
      "Fitting ProductVectorizerClassifier com 100 amostras...\n",
      "Fit concluído.\n",
      "Model Factory: Criando tipo 'PVBin' com params: {'method': 'binary', 'query': 'binary', 'norm': None, 'query_norm': None, 'ngram_range': [1, 2]}\n",
      "Model Factory (PVBin): Convertido ngram_range [1, 2] para tupla (1, 2)\n",
      "Fitting ProductVectorizerClassifier com 100 amostras...\n",
      "Fit concluído.\n",
      "Model Factory: Criando tipo 'PVBin' com params: {'method': 'binary', 'query': 'binary', 'norm': None, 'query_norm': None, 'ngram_range': [1, 2]}\n",
      "Model Factory (PVBin): Convertido ngram_range [1, 2] para tupla (1, 2)\n",
      "Fitting ProductVectorizerClassifier com 100 amostras...\n",
      "Fit concluído.\n",
      "Model Factory: Criando tipo 'PVBin' com params: {'method': 'binary', 'query': 'binary', 'norm': None, 'query_norm': None, 'ngram_range': [1, 2]}\n",
      "Model Factory (PVBin): Convertido ngram_range [1, 2] para tupla (1, 2)\n",
      "Fitting ProductVectorizerClassifier com 100 amostras...\n",
      "Fit concluído.\n",
      "Model Factory: Criando tipo 'PVBin' com params: {'method': 'binary', 'query': 'binary', 'norm': None, 'query_norm': None, 'ngram_range': [1, 2]}\n",
      "Model Factory (PVBin): Convertido ngram_range [1, 2] para tupla (1, 2)\n",
      "Fitting ProductVectorizerClassifier com 100 amostras...\n",
      "Fit concluído.\n",
      "    Acc Real Geração 30: Max=0.3383, Avg=0.3348, Min=0.3266\n",
      "    F1 Real Geração  30: Max=0.0425, Avg=0.0410, Min=0.0394\n",
      "    Duração Geração 30: 46.61s\n",
      "\n",
      "  Geração 31/100\n"
     ]
    },
    {
     "data": {
      "application/vnd.jupyter.widget-view+json": {
       "model_id": "944a955d90614ed9988c43df3ecc869e",
       "version_major": 2,
       "version_minor": 0
      },
      "text/plain": [
       "Fitness Calc Gen 31:   0%|          | 0/20 [00:00<?, ?it/s]"
      ]
     },
     "metadata": {},
     "output_type": "display_data"
    },
    {
     "name": "stdout",
     "output_type": "stream",
     "text": [
      "Model Factory: Criando tipo 'PVBin' com params: {'method': 'binary', 'query': 'binary', 'norm': None, 'query_norm': None, 'ngram_range': [1, 2]}\n",
      "Model Factory (PVBin): Convertido ngram_range [1, 2] para tupla (1, 2)\n",
      "Fitting ProductVectorizerClassifier com 100 amostras...\n",
      "Fit concluído.\n",
      "Model Factory: Criando tipo 'PVBin' com params: {'method': 'binary', 'query': 'binary', 'norm': None, 'query_norm': None, 'ngram_range': [1, 2]}\n",
      "Model Factory (PVBin): Convertido ngram_range [1, 2] para tupla (1, 2)\n",
      "Fitting ProductVectorizerClassifier com 100 amostras...\n",
      "Fit concluído.\n",
      "Model Factory: Criando tipo 'PVBin' com params: {'method': 'binary', 'query': 'binary', 'norm': None, 'query_norm': None, 'ngram_range': [1, 2]}\n",
      "Model Factory (PVBin): Convertido ngram_range [1, 2] para tupla (1, 2)\n",
      "Fitting ProductVectorizerClassifier com 100 amostras...\n",
      "Fit concluído.\n",
      "Model Factory: Criando tipo 'PVBin' com params: {'method': 'binary', 'query': 'binary', 'norm': None, 'query_norm': None, 'ngram_range': [1, 2]}\n",
      "Model Factory (PVBin): Convertido ngram_range [1, 2] para tupla (1, 2)\n",
      "Fitting ProductVectorizerClassifier com 100 amostras...\n",
      "Fit concluído.\n",
      "Model Factory: Criando tipo 'PVBin' com params: {'method': 'binary', 'query': 'binary', 'norm': None, 'query_norm': None, 'ngram_range': [1, 2]}\n",
      "Model Factory (PVBin): Convertido ngram_range [1, 2] para tupla (1, 2)\n",
      "Fitting ProductVectorizerClassifier com 100 amostras...\n",
      "Fit concluído.\n",
      "Model Factory: Criando tipo 'PVBin' com params: {'method': 'binary', 'query': 'binary', 'norm': None, 'query_norm': None, 'ngram_range': [1, 2]}\n",
      "Model Factory (PVBin): Convertido ngram_range [1, 2] para tupla (1, 2)\n",
      "Fitting ProductVectorizerClassifier com 100 amostras...\n",
      "Fit concluído.\n",
      "Model Factory: Criando tipo 'PVBin' com params: {'method': 'binary', 'query': 'binary', 'norm': None, 'query_norm': None, 'ngram_range': [1, 2]}\n",
      "Model Factory (PVBin): Convertido ngram_range [1, 2] para tupla (1, 2)\n",
      "Fitting ProductVectorizerClassifier com 100 amostras...\n",
      "Fit concluído.\n",
      "    Acc Real Geração 31: Max=0.3383, Avg=0.3346, Min=0.3174\n",
      "    F1 Real Geração  31: Max=0.0440, Avg=0.0414, Min=0.0390\n",
      "    Duração Geração 31: 41.35s\n",
      "\n",
      "  Geração 32/100\n"
     ]
    },
    {
     "data": {
      "application/vnd.jupyter.widget-view+json": {
       "model_id": "ee734515063b4ae9949f99901181e142",
       "version_major": 2,
       "version_minor": 0
      },
      "text/plain": [
       "Fitness Calc Gen 32:   0%|          | 0/20 [00:00<?, ?it/s]"
      ]
     },
     "metadata": {},
     "output_type": "display_data"
    },
    {
     "name": "stdout",
     "output_type": "stream",
     "text": [
      "Model Factory: Criando tipo 'PVBin' com params: {'method': 'binary', 'query': 'binary', 'norm': None, 'query_norm': None, 'ngram_range': [1, 2]}\n",
      "Model Factory (PVBin): Convertido ngram_range [1, 2] para tupla (1, 2)\n",
      "Fitting ProductVectorizerClassifier com 100 amostras...\n",
      "Fit concluído.\n",
      "Model Factory: Criando tipo 'PVBin' com params: {'method': 'binary', 'query': 'binary', 'norm': None, 'query_norm': None, 'ngram_range': [1, 2]}\n",
      "Model Factory (PVBin): Convertido ngram_range [1, 2] para tupla (1, 2)\n",
      "Fitting ProductVectorizerClassifier com 100 amostras...\n",
      "Fit concluído.\n",
      "Model Factory: Criando tipo 'PVBin' com params: {'method': 'binary', 'query': 'binary', 'norm': None, 'query_norm': None, 'ngram_range': [1, 2]}\n",
      "Model Factory (PVBin): Convertido ngram_range [1, 2] para tupla (1, 2)\n",
      "Fitting ProductVectorizerClassifier com 100 amostras...\n",
      "Fit concluído.\n",
      "Model Factory: Criando tipo 'PVBin' com params: {'method': 'binary', 'query': 'binary', 'norm': None, 'query_norm': None, 'ngram_range': [1, 2]}\n",
      "Model Factory (PVBin): Convertido ngram_range [1, 2] para tupla (1, 2)\n",
      "Fitting ProductVectorizerClassifier com 100 amostras...\n",
      "Fit concluído.\n",
      "Model Factory: Criando tipo 'PVBin' com params: {'method': 'binary', 'query': 'binary', 'norm': None, 'query_norm': None, 'ngram_range': [1, 2]}\n",
      "Model Factory (PVBin): Convertido ngram_range [1, 2] para tupla (1, 2)\n",
      "Fitting ProductVectorizerClassifier com 100 amostras...\n",
      "Fit concluído.\n",
      "Model Factory: Criando tipo 'PVBin' com params: {'method': 'binary', 'query': 'binary', 'norm': None, 'query_norm': None, 'ngram_range': [1, 2]}\n",
      "Model Factory (PVBin): Convertido ngram_range [1, 2] para tupla (1, 2)\n",
      "Fitting ProductVectorizerClassifier com 100 amostras...\n",
      "Fit concluído.\n",
      "    Acc Real Geração 32: Max=0.3383, Avg=0.3359, Min=0.3265\n",
      "    F1 Real Geração  32: Max=0.0425, Avg=0.0415, Min=0.0403\n",
      "    Duração Geração 32: 35.97s\n",
      "\n",
      "  Geração 33/100\n"
     ]
    },
    {
     "data": {
      "application/vnd.jupyter.widget-view+json": {
       "model_id": "fc39d15d44074cfba1673ff41bb5b1ea",
       "version_major": 2,
       "version_minor": 0
      },
      "text/plain": [
       "Fitness Calc Gen 33:   0%|          | 0/20 [00:00<?, ?it/s]"
      ]
     },
     "metadata": {},
     "output_type": "display_data"
    },
    {
     "name": "stdout",
     "output_type": "stream",
     "text": [
      "Model Factory: Criando tipo 'PVBin' com params: {'method': 'binary', 'query': 'binary', 'norm': None, 'query_norm': None, 'ngram_range': [1, 2]}\n",
      "Model Factory (PVBin): Convertido ngram_range [1, 2] para tupla (1, 2)\n",
      "Fitting ProductVectorizerClassifier com 100 amostras...\n",
      "Fit concluído.\n",
      "Model Factory: Criando tipo 'PVBin' com params: {'method': 'binary', 'query': 'binary', 'norm': None, 'query_norm': None, 'ngram_range': [1, 2]}\n",
      "Model Factory (PVBin): Convertido ngram_range [1, 2] para tupla (1, 2)\n",
      "Fitting ProductVectorizerClassifier com 100 amostras...\n",
      "Fit concluído.\n",
      "Model Factory: Criando tipo 'PVBin' com params: {'method': 'binary', 'query': 'binary', 'norm': None, 'query_norm': None, 'ngram_range': [1, 2]}\n",
      "Model Factory (PVBin): Convertido ngram_range [1, 2] para tupla (1, 2)\n",
      "Fitting ProductVectorizerClassifier com 100 amostras...\n",
      "Fit concluído.\n",
      "Model Factory: Criando tipo 'PVBin' com params: {'method': 'binary', 'query': 'binary', 'norm': None, 'query_norm': None, 'ngram_range': [1, 2]}\n",
      "Model Factory (PVBin): Convertido ngram_range [1, 2] para tupla (1, 2)\n",
      "Fitting ProductVectorizerClassifier com 100 amostras...\n",
      "Fit concluído.\n",
      "    Novo melhor (Obj: maximize): Perf Real=0.3394\n",
      "    Acc Real Geração 33: Max=0.3394, Avg=0.3377, Min=0.3302\n",
      "    F1 Real Geração  33: Max=0.0426, Avg=0.0420, Min=0.0411\n",
      "    Duração Geração 33: 29.54s\n",
      "\n",
      "  Geração 34/100\n"
     ]
    },
    {
     "data": {
      "application/vnd.jupyter.widget-view+json": {
       "model_id": "a5519b136dca42be825c0782e2c56f92",
       "version_major": 2,
       "version_minor": 0
      },
      "text/plain": [
       "Fitness Calc Gen 34:   0%|          | 0/20 [00:00<?, ?it/s]"
      ]
     },
     "metadata": {},
     "output_type": "display_data"
    },
    {
     "name": "stdout",
     "output_type": "stream",
     "text": [
      "Model Factory: Criando tipo 'PVBin' com params: {'method': 'binary', 'query': 'binary', 'norm': None, 'query_norm': None, 'ngram_range': [1, 2]}\n",
      "Model Factory (PVBin): Convertido ngram_range [1, 2] para tupla (1, 2)\n",
      "Fitting ProductVectorizerClassifier com 100 amostras...\n",
      "Fit concluído.\n",
      "Model Factory: Criando tipo 'PVBin' com params: {'method': 'binary', 'query': 'binary', 'norm': None, 'query_norm': None, 'ngram_range': [1, 2]}\n",
      "Model Factory (PVBin): Convertido ngram_range [1, 2] para tupla (1, 2)\n",
      "Fitting ProductVectorizerClassifier com 100 amostras...\n",
      "Fit concluído.\n",
      "Model Factory: Criando tipo 'PVBin' com params: {'method': 'binary', 'query': 'binary', 'norm': None, 'query_norm': None, 'ngram_range': [1, 2]}\n",
      "Model Factory (PVBin): Convertido ngram_range [1, 2] para tupla (1, 2)\n",
      "Fitting ProductVectorizerClassifier com 100 amostras...\n",
      "Fit concluído.\n",
      "Model Factory: Criando tipo 'PVBin' com params: {'method': 'binary', 'query': 'binary', 'norm': None, 'query_norm': None, 'ngram_range': [1, 2]}\n",
      "Model Factory (PVBin): Convertido ngram_range [1, 2] para tupla (1, 2)\n",
      "Fitting ProductVectorizerClassifier com 100 amostras...\n",
      "Fit concluído.\n",
      "Model Factory: Criando tipo 'PVBin' com params: {'method': 'binary', 'query': 'binary', 'norm': None, 'query_norm': None, 'ngram_range': [1, 2]}\n",
      "Model Factory (PVBin): Convertido ngram_range [1, 2] para tupla (1, 2)\n",
      "Fitting ProductVectorizerClassifier com 100 amostras...\n",
      "Fit concluído.\n",
      "Model Factory: Criando tipo 'PVBin' com params: {'method': 'binary', 'query': 'binary', 'norm': None, 'query_norm': None, 'ngram_range': [1, 2]}\n",
      "Model Factory (PVBin): Convertido ngram_range [1, 2] para tupla (1, 2)\n",
      "Fitting ProductVectorizerClassifier com 100 amostras...\n",
      "Fit concluído.\n",
      "Model Factory: Criando tipo 'PVBin' com params: {'method': 'binary', 'query': 'binary', 'norm': None, 'query_norm': None, 'ngram_range': [1, 2]}\n",
      "Model Factory (PVBin): Convertido ngram_range [1, 2] para tupla (1, 2)\n",
      "Fitting ProductVectorizerClassifier com 100 amostras...\n",
      "Fit concluído.\n",
      "    Novo melhor (Obj: maximize): Perf Real=0.3416\n",
      "    Acc Real Geração 34: Max=0.3416, Avg=0.3380, Min=0.3321\n",
      "    F1 Real Geração  34: Max=0.0437, Avg=0.0421, Min=0.0413\n",
      "    Duração Geração 34: 43.49s\n",
      "\n",
      "  Geração 35/100\n"
     ]
    },
    {
     "data": {
      "application/vnd.jupyter.widget-view+json": {
       "model_id": "76d28437adb9499182cbd22cdb65838e",
       "version_major": 2,
       "version_minor": 0
      },
      "text/plain": [
       "Fitness Calc Gen 35:   0%|          | 0/20 [00:00<?, ?it/s]"
      ]
     },
     "metadata": {},
     "output_type": "display_data"
    },
    {
     "name": "stdout",
     "output_type": "stream",
     "text": [
      "Model Factory: Criando tipo 'PVBin' com params: {'method': 'binary', 'query': 'binary', 'norm': None, 'query_norm': None, 'ngram_range': [1, 2]}\n",
      "Model Factory (PVBin): Convertido ngram_range [1, 2] para tupla (1, 2)\n",
      "Fitting ProductVectorizerClassifier com 100 amostras...\n",
      "Fit concluído.\n",
      "Model Factory: Criando tipo 'PVBin' com params: {'method': 'binary', 'query': 'binary', 'norm': None, 'query_norm': None, 'ngram_range': [1, 2]}\n",
      "Model Factory (PVBin): Convertido ngram_range [1, 2] para tupla (1, 2)\n",
      "Fitting ProductVectorizerClassifier com 100 amostras...\n",
      "Fit concluído.\n",
      "Model Factory: Criando tipo 'PVBin' com params: {'method': 'binary', 'query': 'binary', 'norm': None, 'query_norm': None, 'ngram_range': [1, 2]}\n",
      "Model Factory (PVBin): Convertido ngram_range [1, 2] para tupla (1, 2)\n",
      "Fitting ProductVectorizerClassifier com 100 amostras...\n",
      "Fit concluído.\n",
      "Model Factory: Criando tipo 'PVBin' com params: {'method': 'binary', 'query': 'binary', 'norm': None, 'query_norm': None, 'ngram_range': [1, 2]}\n",
      "Model Factory (PVBin): Convertido ngram_range [1, 2] para tupla (1, 2)\n",
      "Fitting ProductVectorizerClassifier com 100 amostras...\n",
      "Fit concluído.\n",
      "Model Factory: Criando tipo 'PVBin' com params: {'method': 'binary', 'query': 'binary', 'norm': None, 'query_norm': None, 'ngram_range': [1, 2]}\n",
      "Model Factory (PVBin): Convertido ngram_range [1, 2] para tupla (1, 2)\n",
      "Fitting ProductVectorizerClassifier com 100 amostras...\n",
      "Fit concluído.\n",
      "Model Factory: Criando tipo 'PVBin' com params: {'method': 'binary', 'query': 'binary', 'norm': None, 'query_norm': None, 'ngram_range': [1, 2]}\n",
      "Model Factory (PVBin): Convertido ngram_range [1, 2] para tupla (1, 2)\n",
      "Fitting ProductVectorizerClassifier com 100 amostras...\n",
      "Fit concluído.\n",
      "Model Factory: Criando tipo 'PVBin' com params: {'method': 'binary', 'query': 'binary', 'norm': None, 'query_norm': None, 'ngram_range': [1, 2]}\n",
      "Model Factory (PVBin): Convertido ngram_range [1, 2] para tupla (1, 2)\n",
      "Fitting ProductVectorizerClassifier com 100 amostras...\n",
      "Fit concluído.\n",
      "Model Factory: Criando tipo 'PVBin' com params: {'method': 'binary', 'query': 'binary', 'norm': None, 'query_norm': None, 'ngram_range': [1, 2]}\n",
      "Model Factory (PVBin): Convertido ngram_range [1, 2] para tupla (1, 2)\n",
      "Fitting ProductVectorizerClassifier com 100 amostras...\n",
      "Fit concluído.\n",
      "    Acc Real Geração 35: Max=0.3416, Avg=0.3378, Min=0.3277\n",
      "    F1 Real Geração  35: Max=0.0437, Avg=0.0422, Min=0.0403\n",
      "    Duração Geração 35: 48.33s\n",
      "\n",
      "  Geração 36/100\n"
     ]
    },
    {
     "data": {
      "application/vnd.jupyter.widget-view+json": {
       "model_id": "ef8fb22a3b9d46799f77dfcb56d9af27",
       "version_major": 2,
       "version_minor": 0
      },
      "text/plain": [
       "Fitness Calc Gen 36:   0%|          | 0/20 [00:00<?, ?it/s]"
      ]
     },
     "metadata": {},
     "output_type": "display_data"
    },
    {
     "name": "stdout",
     "output_type": "stream",
     "text": [
      "Model Factory: Criando tipo 'PVBin' com params: {'method': 'binary', 'query': 'binary', 'norm': None, 'query_norm': None, 'ngram_range': [1, 2]}\n",
      "Model Factory (PVBin): Convertido ngram_range [1, 2] para tupla (1, 2)\n",
      "Fitting ProductVectorizerClassifier com 100 amostras...\n",
      "Fit concluído.\n",
      "Model Factory: Criando tipo 'PVBin' com params: {'method': 'binary', 'query': 'binary', 'norm': None, 'query_norm': None, 'ngram_range': [1, 2]}\n",
      "Model Factory (PVBin): Convertido ngram_range [1, 2] para tupla (1, 2)\n",
      "Fitting ProductVectorizerClassifier com 100 amostras...\n",
      "Fit concluído.\n",
      "Model Factory: Criando tipo 'PVBin' com params: {'method': 'binary', 'query': 'binary', 'norm': None, 'query_norm': None, 'ngram_range': [1, 2]}\n",
      "Model Factory (PVBin): Convertido ngram_range [1, 2] para tupla (1, 2)\n",
      "Fitting ProductVectorizerClassifier com 100 amostras...\n",
      "Fit concluído.\n",
      "Model Factory: Criando tipo 'PVBin' com params: {'method': 'binary', 'query': 'binary', 'norm': None, 'query_norm': None, 'ngram_range': [1, 2]}\n",
      "Model Factory (PVBin): Convertido ngram_range [1, 2] para tupla (1, 2)\n",
      "Fitting ProductVectorizerClassifier com 100 amostras...\n",
      "Fit concluído.\n",
      "Model Factory: Criando tipo 'PVBin' com params: {'method': 'binary', 'query': 'binary', 'norm': None, 'query_norm': None, 'ngram_range': [1, 2]}\n",
      "Model Factory (PVBin): Convertido ngram_range [1, 2] para tupla (1, 2)\n",
      "Fitting ProductVectorizerClassifier com 100 amostras...\n",
      "Fit concluído.\n",
      "Model Factory: Criando tipo 'PVBin' com params: {'method': 'binary', 'query': 'binary', 'norm': None, 'query_norm': None, 'ngram_range': [1, 2]}\n",
      "Model Factory (PVBin): Convertido ngram_range [1, 2] para tupla (1, 2)\n",
      "Fitting ProductVectorizerClassifier com 100 amostras...\n",
      "Fit concluído.\n",
      "Model Factory: Criando tipo 'PVBin' com params: {'method': 'binary', 'query': 'binary', 'norm': None, 'query_norm': None, 'ngram_range': [1, 2]}\n",
      "Model Factory (PVBin): Convertido ngram_range [1, 2] para tupla (1, 2)\n",
      "Fitting ProductVectorizerClassifier com 100 amostras...\n",
      "Fit concluído.\n",
      "Model Factory: Criando tipo 'PVBin' com params: {'method': 'binary', 'query': 'binary', 'norm': None, 'query_norm': None, 'ngram_range': [1, 2]}\n",
      "Model Factory (PVBin): Convertido ngram_range [1, 2] para tupla (1, 2)\n",
      "Fitting ProductVectorizerClassifier com 100 amostras...\n",
      "Fit concluído.\n",
      "Model Factory: Criando tipo 'PVBin' com params: {'method': 'binary', 'query': 'binary', 'norm': None, 'query_norm': None, 'ngram_range': [1, 2]}\n",
      "Model Factory (PVBin): Convertido ngram_range [1, 2] para tupla (1, 2)\n",
      "Fitting ProductVectorizerClassifier com 100 amostras...\n",
      "Fit concluído.\n",
      "    Novo melhor (Obj: maximize): Perf Real=0.3442\n",
      "    Acc Real Geração 36: Max=0.3442, Avg=0.3389, Min=0.3334\n",
      "    F1 Real Geração  36: Max=0.0433, Avg=0.0420, Min=0.0402\n",
      "    Duração Geração 36: 52.17s\n",
      "\n",
      "  Geração 37/100\n"
     ]
    },
    {
     "data": {
      "application/vnd.jupyter.widget-view+json": {
       "model_id": "7ff36413de6f44a3934597347b5008b9",
       "version_major": 2,
       "version_minor": 0
      },
      "text/plain": [
       "Fitness Calc Gen 37:   0%|          | 0/20 [00:00<?, ?it/s]"
      ]
     },
     "metadata": {},
     "output_type": "display_data"
    },
    {
     "name": "stdout",
     "output_type": "stream",
     "text": [
      "Model Factory: Criando tipo 'PVBin' com params: {'method': 'binary', 'query': 'binary', 'norm': None, 'query_norm': None, 'ngram_range': [1, 2]}\n",
      "Model Factory (PVBin): Convertido ngram_range [1, 2] para tupla (1, 2)\n",
      "Fitting ProductVectorizerClassifier com 100 amostras...\n",
      "Fit concluído.\n",
      "Model Factory: Criando tipo 'PVBin' com params: {'method': 'binary', 'query': 'binary', 'norm': None, 'query_norm': None, 'ngram_range': [1, 2]}\n",
      "Model Factory (PVBin): Convertido ngram_range [1, 2] para tupla (1, 2)\n",
      "Fitting ProductVectorizerClassifier com 100 amostras...\n",
      "Fit concluído.\n",
      "Model Factory: Criando tipo 'PVBin' com params: {'method': 'binary', 'query': 'binary', 'norm': None, 'query_norm': None, 'ngram_range': [1, 2]}\n",
      "Model Factory (PVBin): Convertido ngram_range [1, 2] para tupla (1, 2)\n",
      "Fitting ProductVectorizerClassifier com 100 amostras...\n",
      "Fit concluído.\n",
      "Model Factory: Criando tipo 'PVBin' com params: {'method': 'binary', 'query': 'binary', 'norm': None, 'query_norm': None, 'ngram_range': [1, 2]}\n",
      "Model Factory (PVBin): Convertido ngram_range [1, 2] para tupla (1, 2)\n",
      "Fitting ProductVectorizerClassifier com 100 amostras...\n",
      "Fit concluído.\n",
      "Model Factory: Criando tipo 'PVBin' com params: {'method': 'binary', 'query': 'binary', 'norm': None, 'query_norm': None, 'ngram_range': [1, 2]}\n",
      "Model Factory (PVBin): Convertido ngram_range [1, 2] para tupla (1, 2)\n",
      "Fitting ProductVectorizerClassifier com 100 amostras...\n",
      "Fit concluído.\n",
      "Model Factory: Criando tipo 'PVBin' com params: {'method': 'binary', 'query': 'binary', 'norm': None, 'query_norm': None, 'ngram_range': [1, 2]}\n",
      "Model Factory (PVBin): Convertido ngram_range [1, 2] para tupla (1, 2)\n",
      "Fitting ProductVectorizerClassifier com 100 amostras...\n",
      "Fit concluído.\n",
      "    Acc Real Geração 37: Max=0.3442, Avg=0.3389, Min=0.3270\n",
      "    F1 Real Geração  37: Max=0.0433, Avg=0.0418, Min=0.0384\n",
      "    Duração Geração 37: 36.07s\n",
      "\n",
      "  Geração 38/100\n"
     ]
    },
    {
     "data": {
      "application/vnd.jupyter.widget-view+json": {
       "model_id": "c229ca73fc02431ebc480c7560244a9e",
       "version_major": 2,
       "version_minor": 0
      },
      "text/plain": [
       "Fitness Calc Gen 38:   0%|          | 0/20 [00:00<?, ?it/s]"
      ]
     },
     "metadata": {},
     "output_type": "display_data"
    },
    {
     "name": "stdout",
     "output_type": "stream",
     "text": [
      "Model Factory: Criando tipo 'PVBin' com params: {'method': 'binary', 'query': 'binary', 'norm': None, 'query_norm': None, 'ngram_range': [1, 2]}\n",
      "Model Factory (PVBin): Convertido ngram_range [1, 2] para tupla (1, 2)\n",
      "Fitting ProductVectorizerClassifier com 100 amostras...\n",
      "Fit concluído.\n",
      "Model Factory: Criando tipo 'PVBin' com params: {'method': 'binary', 'query': 'binary', 'norm': None, 'query_norm': None, 'ngram_range': [1, 2]}\n",
      "Model Factory (PVBin): Convertido ngram_range [1, 2] para tupla (1, 2)\n",
      "Fitting ProductVectorizerClassifier com 100 amostras...\n",
      "Fit concluído.\n",
      "Model Factory: Criando tipo 'PVBin' com params: {'method': 'binary', 'query': 'binary', 'norm': None, 'query_norm': None, 'ngram_range': [1, 2]}\n",
      "Model Factory (PVBin): Convertido ngram_range [1, 2] para tupla (1, 2)\n",
      "Fitting ProductVectorizerClassifier com 100 amostras...\n",
      "Fit concluído.\n",
      "Model Factory: Criando tipo 'PVBin' com params: {'method': 'binary', 'query': 'binary', 'norm': None, 'query_norm': None, 'ngram_range': [1, 2]}\n",
      "Model Factory (PVBin): Convertido ngram_range [1, 2] para tupla (1, 2)\n",
      "Fitting ProductVectorizerClassifier com 100 amostras...\n",
      "Fit concluído.\n",
      "Model Factory: Criando tipo 'PVBin' com params: {'method': 'binary', 'query': 'binary', 'norm': None, 'query_norm': None, 'ngram_range': [1, 2]}\n",
      "Model Factory (PVBin): Convertido ngram_range [1, 2] para tupla (1, 2)\n",
      "Fitting ProductVectorizerClassifier com 100 amostras...\n",
      "Fit concluído.\n",
      "Model Factory: Criando tipo 'PVBin' com params: {'method': 'binary', 'query': 'binary', 'norm': None, 'query_norm': None, 'ngram_range': [1, 2]}\n",
      "Model Factory (PVBin): Convertido ngram_range [1, 2] para tupla (1, 2)\n",
      "Fitting ProductVectorizerClassifier com 100 amostras...\n",
      "Fit concluído.\n",
      "Model Factory: Criando tipo 'PVBin' com params: {'method': 'binary', 'query': 'binary', 'norm': None, 'query_norm': None, 'ngram_range': [1, 2]}\n",
      "Model Factory (PVBin): Convertido ngram_range [1, 2] para tupla (1, 2)\n",
      "Fitting ProductVectorizerClassifier com 100 amostras...\n",
      "Fit concluído.\n",
      "Model Factory: Criando tipo 'PVBin' com params: {'method': 'binary', 'query': 'binary', 'norm': None, 'query_norm': None, 'ngram_range': [1, 2]}\n",
      "Model Factory (PVBin): Convertido ngram_range [1, 2] para tupla (1, 2)\n",
      "Fitting ProductVectorizerClassifier com 100 amostras...\n",
      "Fit concluído.\n",
      "Model Factory: Criando tipo 'PVBin' com params: {'method': 'binary', 'query': 'binary', 'norm': None, 'query_norm': None, 'ngram_range': [1, 2]}\n",
      "Model Factory (PVBin): Convertido ngram_range [1, 2] para tupla (1, 2)\n",
      "Fitting ProductVectorizerClassifier com 100 amostras...\n",
      "Fit concluído.\n",
      "    Novo melhor (Obj: maximize): Perf Real=0.3443\n",
      "    Acc Real Geração 38: Max=0.3443, Avg=0.3399, Min=0.3293\n",
      "    F1 Real Geração  38: Max=0.0433, Avg=0.0418, Min=0.0384\n",
      "    Duração Geração 38: 53.31s\n",
      "\n",
      "  Geração 39/100\n"
     ]
    },
    {
     "data": {
      "application/vnd.jupyter.widget-view+json": {
       "model_id": "f78a098a71d54fd09ac0137cff447627",
       "version_major": 2,
       "version_minor": 0
      },
      "text/plain": [
       "Fitness Calc Gen 39:   0%|          | 0/20 [00:00<?, ?it/s]"
      ]
     },
     "metadata": {},
     "output_type": "display_data"
    },
    {
     "name": "stdout",
     "output_type": "stream",
     "text": [
      "Model Factory: Criando tipo 'PVBin' com params: {'method': 'binary', 'query': 'binary', 'norm': None, 'query_norm': None, 'ngram_range': [1, 2]}\n",
      "Model Factory (PVBin): Convertido ngram_range [1, 2] para tupla (1, 2)\n",
      "Fitting ProductVectorizerClassifier com 100 amostras...\n",
      "Fit concluído.\n",
      "Model Factory: Criando tipo 'PVBin' com params: {'method': 'binary', 'query': 'binary', 'norm': None, 'query_norm': None, 'ngram_range': [1, 2]}\n",
      "Model Factory (PVBin): Convertido ngram_range [1, 2] para tupla (1, 2)\n",
      "Fitting ProductVectorizerClassifier com 100 amostras...\n",
      "Fit concluído.\n",
      "Model Factory: Criando tipo 'PVBin' com params: {'method': 'binary', 'query': 'binary', 'norm': None, 'query_norm': None, 'ngram_range': [1, 2]}\n",
      "Model Factory (PVBin): Convertido ngram_range [1, 2] para tupla (1, 2)\n",
      "Fitting ProductVectorizerClassifier com 100 amostras...\n",
      "Fit concluído.\n",
      "Model Factory: Criando tipo 'PVBin' com params: {'method': 'binary', 'query': 'binary', 'norm': None, 'query_norm': None, 'ngram_range': [1, 2]}\n",
      "Model Factory (PVBin): Convertido ngram_range [1, 2] para tupla (1, 2)\n",
      "Fitting ProductVectorizerClassifier com 100 amostras...\n",
      "Fit concluído.\n",
      "Model Factory: Criando tipo 'PVBin' com params: {'method': 'binary', 'query': 'binary', 'norm': None, 'query_norm': None, 'ngram_range': [1, 2]}\n",
      "Model Factory (PVBin): Convertido ngram_range [1, 2] para tupla (1, 2)\n",
      "Fitting ProductVectorizerClassifier com 100 amostras...\n",
      "Fit concluído.\n",
      "Model Factory: Criando tipo 'PVBin' com params: {'method': 'binary', 'query': 'binary', 'norm': None, 'query_norm': None, 'ngram_range': [1, 2]}\n",
      "Model Factory (PVBin): Convertido ngram_range [1, 2] para tupla (1, 2)\n",
      "Fitting ProductVectorizerClassifier com 100 amostras...\n",
      "Fit concluído.\n",
      "Model Factory: Criando tipo 'PVBin' com params: {'method': 'binary', 'query': 'binary', 'norm': None, 'query_norm': None, 'ngram_range': [1, 2]}\n",
      "Model Factory (PVBin): Convertido ngram_range [1, 2] para tupla (1, 2)\n",
      "Fitting ProductVectorizerClassifier com 100 amostras...\n",
      "Fit concluído.\n",
      "    Acc Real Geração 39: Max=0.3443, Avg=0.3415, Min=0.3233\n",
      "    F1 Real Geração  39: Max=0.0440, Avg=0.0424, Min=0.0404\n",
      "    Duração Geração 39: 42.01s\n",
      "\n",
      "  Geração 40/100\n"
     ]
    },
    {
     "data": {
      "application/vnd.jupyter.widget-view+json": {
       "model_id": "ea1715f148b44bf290a84c96051d4b37",
       "version_major": 2,
       "version_minor": 0
      },
      "text/plain": [
       "Fitness Calc Gen 40:   0%|          | 0/20 [00:00<?, ?it/s]"
      ]
     },
     "metadata": {},
     "output_type": "display_data"
    },
    {
     "name": "stdout",
     "output_type": "stream",
     "text": [
      "Model Factory: Criando tipo 'PVBin' com params: {'method': 'binary', 'query': 'binary', 'norm': None, 'query_norm': None, 'ngram_range': [1, 2]}\n",
      "Model Factory (PVBin): Convertido ngram_range [1, 2] para tupla (1, 2)\n",
      "Fitting ProductVectorizerClassifier com 100 amostras...\n",
      "Fit concluído.\n",
      "Model Factory: Criando tipo 'PVBin' com params: {'method': 'binary', 'query': 'binary', 'norm': None, 'query_norm': None, 'ngram_range': [1, 2]}\n",
      "Model Factory (PVBin): Convertido ngram_range [1, 2] para tupla (1, 2)\n",
      "Fitting ProductVectorizerClassifier com 100 amostras...\n",
      "Fit concluído.\n",
      "Model Factory: Criando tipo 'PVBin' com params: {'method': 'binary', 'query': 'binary', 'norm': None, 'query_norm': None, 'ngram_range': [1, 2]}\n",
      "Model Factory (PVBin): Convertido ngram_range [1, 2] para tupla (1, 2)\n",
      "Fitting ProductVectorizerClassifier com 100 amostras...\n",
      "Fit concluído.\n",
      "Model Factory: Criando tipo 'PVBin' com params: {'method': 'binary', 'query': 'binary', 'norm': None, 'query_norm': None, 'ngram_range': [1, 2]}\n",
      "Model Factory (PVBin): Convertido ngram_range [1, 2] para tupla (1, 2)\n",
      "Fitting ProductVectorizerClassifier com 100 amostras...\n",
      "Fit concluído.\n",
      "Model Factory: Criando tipo 'PVBin' com params: {'method': 'binary', 'query': 'binary', 'norm': None, 'query_norm': None, 'ngram_range': [1, 2]}\n",
      "Model Factory (PVBin): Convertido ngram_range [1, 2] para tupla (1, 2)\n",
      "Fitting ProductVectorizerClassifier com 100 amostras...\n",
      "Fit concluído.\n",
      "    Acc Real Geração 40: Max=0.3443, Avg=0.3427, Min=0.3329\n",
      "    F1 Real Geração  40: Max=0.0436, Avg=0.0426, Min=0.0404\n",
      "    Duração Geração 40: 30.00s\n",
      "\n",
      "  Geração 41/100\n"
     ]
    },
    {
     "data": {
      "application/vnd.jupyter.widget-view+json": {
       "model_id": "020bb63a39a44417917c1a7a1d7dfd2d",
       "version_major": 2,
       "version_minor": 0
      },
      "text/plain": [
       "Fitness Calc Gen 41:   0%|          | 0/20 [00:00<?, ?it/s]"
      ]
     },
     "metadata": {},
     "output_type": "display_data"
    },
    {
     "name": "stdout",
     "output_type": "stream",
     "text": [
      "Model Factory: Criando tipo 'PVBin' com params: {'method': 'binary', 'query': 'binary', 'norm': None, 'query_norm': None, 'ngram_range': [1, 2]}\n",
      "Model Factory (PVBin): Convertido ngram_range [1, 2] para tupla (1, 2)\n",
      "Fitting ProductVectorizerClassifier com 100 amostras...\n",
      "Fit concluído.\n",
      "Model Factory: Criando tipo 'PVBin' com params: {'method': 'binary', 'query': 'binary', 'norm': None, 'query_norm': None, 'ngram_range': [1, 2]}\n",
      "Model Factory (PVBin): Convertido ngram_range [1, 2] para tupla (1, 2)\n",
      "Fitting ProductVectorizerClassifier com 100 amostras...\n",
      "Fit concluído.\n",
      "    Acc Real Geração 41: Max=0.3443, Avg=0.3438, Min=0.3408\n",
      "    F1 Real Geração  41: Max=0.0433, Avg=0.0426, Min=0.0418\n",
      "    Duração Geração 41: 12.17s\n",
      "\n",
      "  Geração 42/100\n"
     ]
    },
    {
     "data": {
      "application/vnd.jupyter.widget-view+json": {
       "model_id": "8191fc2db9cd4a5694bb5d969f03d7f5",
       "version_major": 2,
       "version_minor": 0
      },
      "text/plain": [
       "Fitness Calc Gen 42:   0%|          | 0/20 [00:00<?, ?it/s]"
      ]
     },
     "metadata": {},
     "output_type": "display_data"
    },
    {
     "name": "stdout",
     "output_type": "stream",
     "text": [
      "Model Factory: Criando tipo 'PVBin' com params: {'method': 'binary', 'query': 'binary', 'norm': None, 'query_norm': None, 'ngram_range': [1, 2]}\n",
      "Model Factory (PVBin): Convertido ngram_range [1, 2] para tupla (1, 2)\n",
      "Fitting ProductVectorizerClassifier com 100 amostras...\n",
      "Fit concluído.\n",
      "Model Factory: Criando tipo 'PVBin' com params: {'method': 'binary', 'query': 'binary', 'norm': None, 'query_norm': None, 'ngram_range': [1, 2]}\n",
      "Model Factory (PVBin): Convertido ngram_range [1, 2] para tupla (1, 2)\n",
      "Fitting ProductVectorizerClassifier com 100 amostras...\n",
      "Fit concluído.\n",
      "Model Factory: Criando tipo 'PVBin' com params: {'method': 'binary', 'query': 'binary', 'norm': None, 'query_norm': None, 'ngram_range': [1, 2]}\n",
      "Model Factory (PVBin): Convertido ngram_range [1, 2] para tupla (1, 2)\n",
      "Fitting ProductVectorizerClassifier com 100 amostras...\n",
      "Fit concluído.\n",
      "Model Factory: Criando tipo 'PVBin' com params: {'method': 'binary', 'query': 'binary', 'norm': None, 'query_norm': None, 'ngram_range': [1, 2]}\n",
      "Model Factory (PVBin): Convertido ngram_range [1, 2] para tupla (1, 2)\n",
      "Fitting ProductVectorizerClassifier com 100 amostras...\n",
      "Fit concluído.\n",
      "Model Factory: Criando tipo 'PVBin' com params: {'method': 'binary', 'query': 'binary', 'norm': None, 'query_norm': None, 'ngram_range': [1, 2]}\n",
      "Model Factory (PVBin): Convertido ngram_range [1, 2] para tupla (1, 2)\n",
      "Fitting ProductVectorizerClassifier com 100 amostras...\n",
      "Fit concluído.\n",
      "    Acc Real Geração 42: Max=0.3443, Avg=0.3433, Min=0.3338\n",
      "    F1 Real Geração  42: Max=0.0433, Avg=0.0424, Min=0.0412\n",
      "    Duração Geração 42: 29.99s\n",
      "\n",
      "  Geração 43/100\n"
     ]
    },
    {
     "data": {
      "application/vnd.jupyter.widget-view+json": {
       "model_id": "2b01aeab7feb4bf0977061c19a5f645a",
       "version_major": 2,
       "version_minor": 0
      },
      "text/plain": [
       "Fitness Calc Gen 43:   0%|          | 0/20 [00:00<?, ?it/s]"
      ]
     },
     "metadata": {},
     "output_type": "display_data"
    },
    {
     "name": "stdout",
     "output_type": "stream",
     "text": [
      "Model Factory: Criando tipo 'PVBin' com params: {'method': 'binary', 'query': 'binary', 'norm': None, 'query_norm': None, 'ngram_range': [1, 2]}\n",
      "Model Factory (PVBin): Convertido ngram_range [1, 2] para tupla (1, 2)\n",
      "Fitting ProductVectorizerClassifier com 100 amostras...\n",
      "Fit concluído.\n",
      "Model Factory: Criando tipo 'PVBin' com params: {'method': 'binary', 'query': 'binary', 'norm': None, 'query_norm': None, 'ngram_range': [1, 2]}\n",
      "Model Factory (PVBin): Convertido ngram_range [1, 2] para tupla (1, 2)\n",
      "Fitting ProductVectorizerClassifier com 100 amostras...\n",
      "Fit concluído.\n",
      "Model Factory: Criando tipo 'PVBin' com params: {'method': 'binary', 'query': 'binary', 'norm': None, 'query_norm': None, 'ngram_range': [1, 2]}\n",
      "Model Factory (PVBin): Convertido ngram_range [1, 2] para tupla (1, 2)\n",
      "Fitting ProductVectorizerClassifier com 100 amostras...\n",
      "Fit concluído.\n",
      "Model Factory: Criando tipo 'PVBin' com params: {'method': 'binary', 'query': 'binary', 'norm': None, 'query_norm': None, 'ngram_range': [1, 2]}\n",
      "Model Factory (PVBin): Convertido ngram_range [1, 2] para tupla (1, 2)\n",
      "Fitting ProductVectorizerClassifier com 100 amostras...\n",
      "Fit concluído.\n",
      "Model Factory: Criando tipo 'PVBin' com params: {'method': 'binary', 'query': 'binary', 'norm': None, 'query_norm': None, 'ngram_range': [1, 2]}\n",
      "Model Factory (PVBin): Convertido ngram_range [1, 2] para tupla (1, 2)\n",
      "Fitting ProductVectorizerClassifier com 100 amostras...\n",
      "Fit concluído.\n",
      "    Acc Real Geração 43: Max=0.3443, Avg=0.3430, Min=0.3339\n",
      "    F1 Real Geração  43: Max=0.0425, Avg=0.0423, Min=0.0411\n",
      "    Duração Geração 43: 29.94s\n",
      "\n",
      "  Geração 44/100\n"
     ]
    },
    {
     "data": {
      "application/vnd.jupyter.widget-view+json": {
       "model_id": "3c566c2ac0014fff8c360c1e47478955",
       "version_major": 2,
       "version_minor": 0
      },
      "text/plain": [
       "Fitness Calc Gen 44:   0%|          | 0/20 [00:00<?, ?it/s]"
      ]
     },
     "metadata": {},
     "output_type": "display_data"
    },
    {
     "name": "stdout",
     "output_type": "stream",
     "text": [
      "Model Factory: Criando tipo 'PVBin' com params: {'method': 'binary', 'query': 'binary', 'norm': None, 'query_norm': None, 'ngram_range': [1, 2]}\n",
      "Model Factory (PVBin): Convertido ngram_range [1, 2] para tupla (1, 2)\n",
      "Fitting ProductVectorizerClassifier com 100 amostras...\n",
      "Fit concluído.\n",
      "    Acc Real Geração 44: Max=0.3443, Avg=0.3440, Min=0.3381\n",
      "    F1 Real Geração  44: Max=0.0425, Avg=0.0425, Min=0.0418\n",
      "    Duração Geração 44: 6.22s\n",
      "\n",
      "  Geração 45/100\n"
     ]
    },
    {
     "data": {
      "application/vnd.jupyter.widget-view+json": {
       "model_id": "1237af62df244dcb8f2a7495715d08c3",
       "version_major": 2,
       "version_minor": 0
      },
      "text/plain": [
       "Fitness Calc Gen 45:   0%|          | 0/20 [00:00<?, ?it/s]"
      ]
     },
     "metadata": {},
     "output_type": "display_data"
    },
    {
     "name": "stdout",
     "output_type": "stream",
     "text": [
      "Model Factory: Criando tipo 'PVBin' com params: {'method': 'binary', 'query': 'binary', 'norm': None, 'query_norm': None, 'ngram_range': [1, 2]}\n",
      "Model Factory (PVBin): Convertido ngram_range [1, 2] para tupla (1, 2)\n",
      "Fitting ProductVectorizerClassifier com 100 amostras...\n",
      "Fit concluído.\n",
      "Model Factory: Criando tipo 'PVBin' com params: {'method': 'binary', 'query': 'binary', 'norm': None, 'query_norm': None, 'ngram_range': [1, 2]}\n",
      "Model Factory (PVBin): Convertido ngram_range [1, 2] para tupla (1, 2)\n",
      "Fitting ProductVectorizerClassifier com 100 amostras...\n",
      "Fit concluído.\n",
      "    Acc Real Geração 45: Max=0.3443, Avg=0.3435, Min=0.3336\n",
      "    F1 Real Geração  45: Max=0.0428, Avg=0.0425, Min=0.0425\n",
      "    Duração Geração 45: 12.46s\n",
      "\n",
      "  Geração 46/100\n"
     ]
    },
    {
     "data": {
      "application/vnd.jupyter.widget-view+json": {
       "model_id": "018811fd82824494bbe0dd57f61f112f",
       "version_major": 2,
       "version_minor": 0
      },
      "text/plain": [
       "Fitness Calc Gen 46:   0%|          | 0/20 [00:00<?, ?it/s]"
      ]
     },
     "metadata": {},
     "output_type": "display_data"
    },
    {
     "name": "stdout",
     "output_type": "stream",
     "text": [
      "Model Factory: Criando tipo 'PVBin' com params: {'method': 'binary', 'query': 'binary', 'norm': None, 'query_norm': None, 'ngram_range': [1, 2]}\n",
      "Model Factory (PVBin): Convertido ngram_range [1, 2] para tupla (1, 2)\n",
      "Fitting ProductVectorizerClassifier com 100 amostras...\n",
      "Fit concluído.\n",
      "Model Factory: Criando tipo 'PVBin' com params: {'method': 'binary', 'query': 'binary', 'norm': None, 'query_norm': None, 'ngram_range': [1, 2]}\n",
      "Model Factory (PVBin): Convertido ngram_range [1, 2] para tupla (1, 2)\n",
      "Fitting ProductVectorizerClassifier com 100 amostras...\n",
      "Fit concluído.\n",
      "Model Factory: Criando tipo 'PVBin' com params: {'method': 'binary', 'query': 'binary', 'norm': None, 'query_norm': None, 'ngram_range': [1, 2]}\n",
      "Model Factory (PVBin): Convertido ngram_range [1, 2] para tupla (1, 2)\n",
      "Fitting ProductVectorizerClassifier com 100 amostras...\n",
      "Fit concluído.\n",
      "Model Factory: Criando tipo 'PVBin' com params: {'method': 'binary', 'query': 'binary', 'norm': None, 'query_norm': None, 'ngram_range': [1, 2]}\n",
      "Model Factory (PVBin): Convertido ngram_range [1, 2] para tupla (1, 2)\n",
      "Fitting ProductVectorizerClassifier com 100 amostras...\n",
      "Fit concluído.\n",
      "Model Factory: Criando tipo 'PVBin' com params: {'method': 'binary', 'query': 'binary', 'norm': None, 'query_norm': None, 'ngram_range': [1, 2]}\n",
      "Model Factory (PVBin): Convertido ngram_range [1, 2] para tupla (1, 2)\n",
      "Fitting ProductVectorizerClassifier com 100 amostras...\n",
      "Fit concluído.\n",
      "    Acc Real Geração 46: Max=0.3443, Avg=0.3428, Min=0.3318\n",
      "    F1 Real Geração  46: Max=0.0437, Avg=0.0423, Min=0.0398\n",
      "    Duração Geração 46: 29.68s\n",
      "\n",
      "  Geração 47/100\n"
     ]
    },
    {
     "data": {
      "application/vnd.jupyter.widget-view+json": {
       "model_id": "255a8bad90224867aa4310ac11249a4e",
       "version_major": 2,
       "version_minor": 0
      },
      "text/plain": [
       "Fitness Calc Gen 47:   0%|          | 0/20 [00:00<?, ?it/s]"
      ]
     },
     "metadata": {},
     "output_type": "display_data"
    },
    {
     "name": "stdout",
     "output_type": "stream",
     "text": [
      "Model Factory: Criando tipo 'PVBin' com params: {'method': 'binary', 'query': 'binary', 'norm': None, 'query_norm': None, 'ngram_range': [1, 2]}\n",
      "Model Factory (PVBin): Convertido ngram_range [1, 2] para tupla (1, 2)\n",
      "Fitting ProductVectorizerClassifier com 100 amostras...\n",
      "Fit concluído.\n",
      "Model Factory: Criando tipo 'PVBin' com params: {'method': 'binary', 'query': 'binary', 'norm': None, 'query_norm': None, 'ngram_range': [1, 2]}\n",
      "Model Factory (PVBin): Convertido ngram_range [1, 2] para tupla (1, 2)\n",
      "Fitting ProductVectorizerClassifier com 100 amostras...\n",
      "Fit concluído.\n",
      "Model Factory: Criando tipo 'PVBin' com params: {'method': 'binary', 'query': 'binary', 'norm': None, 'query_norm': None, 'ngram_range': [1, 2]}\n",
      "Model Factory (PVBin): Convertido ngram_range [1, 2] para tupla (1, 2)\n",
      "Fitting ProductVectorizerClassifier com 100 amostras...\n",
      "Fit concluído.\n",
      "Model Factory: Criando tipo 'PVBin' com params: {'method': 'binary', 'query': 'binary', 'norm': None, 'query_norm': None, 'ngram_range': [1, 2]}\n",
      "Model Factory (PVBin): Convertido ngram_range [1, 2] para tupla (1, 2)\n",
      "Fitting ProductVectorizerClassifier com 100 amostras...\n",
      "Fit concluído.\n",
      "Model Factory: Criando tipo 'PVBin' com params: {'method': 'binary', 'query': 'binary', 'norm': None, 'query_norm': None, 'ngram_range': [1, 2]}\n",
      "Model Factory (PVBin): Convertido ngram_range [1, 2] para tupla (1, 2)\n",
      "Fitting ProductVectorizerClassifier com 100 amostras...\n",
      "Fit concluído.\n",
      "    Acc Real Geração 47: Max=0.3443, Avg=0.3429, Min=0.3352\n",
      "    F1 Real Geração  47: Max=0.0433, Avg=0.0425, Min=0.0414\n",
      "    Duração Geração 47: 30.01s\n",
      "\n",
      "  Geração 48/100\n"
     ]
    },
    {
     "data": {
      "application/vnd.jupyter.widget-view+json": {
       "model_id": "713c06544db14b12a53bf9922996e34b",
       "version_major": 2,
       "version_minor": 0
      },
      "text/plain": [
       "Fitness Calc Gen 48:   0%|          | 0/20 [00:00<?, ?it/s]"
      ]
     },
     "metadata": {},
     "output_type": "display_data"
    },
    {
     "name": "stdout",
     "output_type": "stream",
     "text": [
      "Model Factory: Criando tipo 'PVBin' com params: {'method': 'binary', 'query': 'binary', 'norm': None, 'query_norm': None, 'ngram_range': [1, 2]}\n",
      "Model Factory (PVBin): Convertido ngram_range [1, 2] para tupla (1, 2)\n",
      "Fitting ProductVectorizerClassifier com 100 amostras...\n",
      "Fit concluído.\n",
      "Model Factory: Criando tipo 'PVBin' com params: {'method': 'binary', 'query': 'binary', 'norm': None, 'query_norm': None, 'ngram_range': [1, 2]}\n",
      "Model Factory (PVBin): Convertido ngram_range [1, 2] para tupla (1, 2)\n",
      "Fitting ProductVectorizerClassifier com 100 amostras...\n",
      "Fit concluído.\n",
      "    Novo melhor (Obj: maximize): Perf Real=0.3507\n",
      "    Acc Real Geração 48: Max=0.3507, Avg=0.3445, Min=0.3416\n",
      "    F1 Real Geração  48: Max=0.0426, Avg=0.0425, Min=0.0420\n",
      "    Duração Geração 48: 12.21s\n",
      "\n",
      "  Geração 49/100\n"
     ]
    },
    {
     "data": {
      "application/vnd.jupyter.widget-view+json": {
       "model_id": "1ffa2c3f6cc84ab8928b77f49ee49d55",
       "version_major": 2,
       "version_minor": 0
      },
      "text/plain": [
       "Fitness Calc Gen 49:   0%|          | 0/20 [00:00<?, ?it/s]"
      ]
     },
     "metadata": {},
     "output_type": "display_data"
    },
    {
     "name": "stdout",
     "output_type": "stream",
     "text": [
      "Model Factory: Criando tipo 'PVBin' com params: {'method': 'binary', 'query': 'binary', 'norm': None, 'query_norm': None, 'ngram_range': [1, 2]}\n",
      "Model Factory (PVBin): Convertido ngram_range [1, 2] para tupla (1, 2)\n",
      "Fitting ProductVectorizerClassifier com 100 amostras...\n",
      "Fit concluído.\n",
      "Model Factory: Criando tipo 'PVBin' com params: {'method': 'binary', 'query': 'binary', 'norm': None, 'query_norm': None, 'ngram_range': [1, 2]}\n",
      "Model Factory (PVBin): Convertido ngram_range [1, 2] para tupla (1, 2)\n",
      "Fitting ProductVectorizerClassifier com 100 amostras...\n",
      "Fit concluído.\n",
      "Model Factory: Criando tipo 'PVBin' com params: {'method': 'binary', 'query': 'binary', 'norm': None, 'query_norm': None, 'ngram_range': [1, 2]}\n",
      "Model Factory (PVBin): Convertido ngram_range [1, 2] para tupla (1, 2)\n",
      "Fitting ProductVectorizerClassifier com 100 amostras...\n",
      "Fit concluído.\n",
      "Model Factory: Criando tipo 'PVBin' com params: {'method': 'binary', 'query': 'binary', 'norm': None, 'query_norm': None, 'ngram_range': [1, 2]}\n",
      "Model Factory (PVBin): Convertido ngram_range [1, 2] para tupla (1, 2)\n",
      "Fitting ProductVectorizerClassifier com 100 amostras...\n",
      "Fit concluído.\n",
      "Model Factory: Criando tipo 'PVBin' com params: {'method': 'binary', 'query': 'binary', 'norm': None, 'query_norm': None, 'ngram_range': [1, 2]}\n",
      "Model Factory (PVBin): Convertido ngram_range [1, 2] para tupla (1, 2)\n",
      "Fitting ProductVectorizerClassifier com 100 amostras...\n",
      "Fit concluído.\n",
      "    Acc Real Geração 49: Max=0.3507, Avg=0.3440, Min=0.3333\n",
      "    F1 Real Geração  49: Max=0.0427, Avg=0.0424, Min=0.0410\n",
      "    Duração Geração 49: 30.00s\n",
      "\n",
      "  Geração 50/100\n"
     ]
    },
    {
     "data": {
      "application/vnd.jupyter.widget-view+json": {
       "model_id": "1acd1057ac0f443c8278fb457017aa1b",
       "version_major": 2,
       "version_minor": 0
      },
      "text/plain": [
       "Fitness Calc Gen 50:   0%|          | 0/20 [00:00<?, ?it/s]"
      ]
     },
     "metadata": {},
     "output_type": "display_data"
    },
    {
     "name": "stdout",
     "output_type": "stream",
     "text": [
      "Model Factory: Criando tipo 'PVBin' com params: {'method': 'binary', 'query': 'binary', 'norm': None, 'query_norm': None, 'ngram_range': [1, 2]}\n",
      "Model Factory (PVBin): Convertido ngram_range [1, 2] para tupla (1, 2)\n",
      "Fitting ProductVectorizerClassifier com 100 amostras...\n",
      "Fit concluído.\n",
      "Model Factory: Criando tipo 'PVBin' com params: {'method': 'binary', 'query': 'binary', 'norm': None, 'query_norm': None, 'ngram_range': [1, 2]}\n",
      "Model Factory (PVBin): Convertido ngram_range [1, 2] para tupla (1, 2)\n",
      "Fitting ProductVectorizerClassifier com 100 amostras...\n",
      "Fit concluído.\n",
      "Model Factory: Criando tipo 'PVBin' com params: {'method': 'binary', 'query': 'binary', 'norm': None, 'query_norm': None, 'ngram_range': [1, 2]}\n",
      "Model Factory (PVBin): Convertido ngram_range [1, 2] para tupla (1, 2)\n",
      "Fitting ProductVectorizerClassifier com 100 amostras...\n",
      "Fit concluído.\n",
      "Model Factory: Criando tipo 'PVBin' com params: {'method': 'binary', 'query': 'binary', 'norm': None, 'query_norm': None, 'ngram_range': [1, 2]}\n",
      "Model Factory (PVBin): Convertido ngram_range [1, 2] para tupla (1, 2)\n",
      "Fitting ProductVectorizerClassifier com 100 amostras...\n",
      "Fit concluído.\n",
      "    Acc Real Geração 50: Max=0.3507, Avg=0.3444, Min=0.3314\n",
      "    F1 Real Geração  50: Max=0.0427, Avg=0.0424, Min=0.0415\n",
      "    Duração Geração 50: 23.72s\n",
      "\n",
      "  Geração 51/100\n"
     ]
    },
    {
     "data": {
      "application/vnd.jupyter.widget-view+json": {
       "model_id": "0ce5ba2403c34bd4824ed7fc2175ecbb",
       "version_major": 2,
       "version_minor": 0
      },
      "text/plain": [
       "Fitness Calc Gen 51:   0%|          | 0/20 [00:00<?, ?it/s]"
      ]
     },
     "metadata": {},
     "output_type": "display_data"
    },
    {
     "name": "stdout",
     "output_type": "stream",
     "text": [
      "Model Factory: Criando tipo 'PVBin' com params: {'method': 'binary', 'query': 'binary', 'norm': None, 'query_norm': None, 'ngram_range': [1, 2]}\n",
      "Model Factory (PVBin): Convertido ngram_range [1, 2] para tupla (1, 2)\n",
      "Fitting ProductVectorizerClassifier com 100 amostras...\n",
      "Fit concluído.\n",
      "Model Factory: Criando tipo 'PVBin' com params: {'method': 'binary', 'query': 'binary', 'norm': None, 'query_norm': None, 'ngram_range': [1, 2]}\n",
      "Model Factory (PVBin): Convertido ngram_range [1, 2] para tupla (1, 2)\n",
      "Fitting ProductVectorizerClassifier com 100 amostras...\n",
      "Fit concluído.\n",
      "Model Factory: Criando tipo 'PVBin' com params: {'method': 'binary', 'query': 'binary', 'norm': None, 'query_norm': None, 'ngram_range': [1, 2]}\n",
      "Model Factory (PVBin): Convertido ngram_range [1, 2] para tupla (1, 2)\n",
      "Fitting ProductVectorizerClassifier com 100 amostras...\n",
      "Fit concluído.\n",
      "Model Factory: Criando tipo 'PVBin' com params: {'method': 'binary', 'query': 'binary', 'norm': None, 'query_norm': None, 'ngram_range': [1, 2]}\n",
      "Model Factory (PVBin): Convertido ngram_range [1, 2] para tupla (1, 2)\n",
      "Fitting ProductVectorizerClassifier com 100 amostras...\n",
      "Fit concluído.\n",
      "Model Factory: Criando tipo 'PVBin' com params: {'method': 'binary', 'query': 'binary', 'norm': None, 'query_norm': None, 'ngram_range': [1, 2]}\n",
      "Model Factory (PVBin): Convertido ngram_range [1, 2] para tupla (1, 2)\n",
      "Fitting ProductVectorizerClassifier com 100 amostras...\n",
      "Fit concluído.\n",
      "Model Factory: Criando tipo 'PVBin' com params: {'method': 'binary', 'query': 'binary', 'norm': None, 'query_norm': None, 'ngram_range': [1, 2]}\n",
      "Model Factory (PVBin): Convertido ngram_range [1, 2] para tupla (1, 2)\n",
      "Fitting ProductVectorizerClassifier com 100 amostras...\n",
      "Fit concluído.\n",
      "Model Factory: Criando tipo 'PVBin' com params: {'method': 'binary', 'query': 'binary', 'norm': None, 'query_norm': None, 'ngram_range': [1, 2]}\n",
      "Model Factory (PVBin): Convertido ngram_range [1, 2] para tupla (1, 2)\n",
      "Fitting ProductVectorizerClassifier com 100 amostras...\n",
      "Fit concluído.\n",
      "Model Factory: Criando tipo 'PVBin' com params: {'method': 'binary', 'query': 'binary', 'norm': None, 'query_norm': None, 'ngram_range': [1, 2]}\n",
      "Model Factory (PVBin): Convertido ngram_range [1, 2] para tupla (1, 2)\n",
      "Fitting ProductVectorizerClassifier com 100 amostras...\n",
      "Fit concluído.\n",
      "Model Factory: Criando tipo 'PVBin' com params: {'method': 'binary', 'query': 'binary', 'norm': None, 'query_norm': None, 'ngram_range': [1, 2]}\n",
      "Model Factory (PVBin): Convertido ngram_range [1, 2] para tupla (1, 2)\n",
      "Fitting ProductVectorizerClassifier com 100 amostras...\n",
      "Fit concluído.\n",
      "Model Factory: Criando tipo 'PVBin' com params: {'method': 'binary', 'query': 'binary', 'norm': None, 'query_norm': None, 'ngram_range': [1, 2]}\n",
      "Model Factory (PVBin): Convertido ngram_range [1, 2] para tupla (1, 2)\n",
      "Fitting ProductVectorizerClassifier com 100 amostras...\n",
      "Fit concluído.\n",
      "Model Factory: Criando tipo 'PVBin' com params: {'method': 'binary', 'query': 'binary', 'norm': None, 'query_norm': None, 'ngram_range': [1, 2]}\n",
      "Model Factory (PVBin): Convertido ngram_range [1, 2] para tupla (1, 2)\n",
      "Fitting ProductVectorizerClassifier com 100 amostras...\n",
      "Fit concluído.\n",
      "Model Factory: Criando tipo 'PVBin' com params: {'method': 'binary', 'query': 'binary', 'norm': None, 'query_norm': None, 'ngram_range': [1, 2]}\n",
      "Model Factory (PVBin): Convertido ngram_range [1, 2] para tupla (1, 2)\n",
      "Fitting ProductVectorizerClassifier com 100 amostras...\n",
      "Fit concluído.\n",
      "    Acc Real Geração 51: Max=0.3507, Avg=0.3458, Min=0.3356\n",
      "    F1 Real Geração  51: Max=0.0439, Avg=0.0422, Min=0.0388\n",
      "    Duração Geração 51: 71.62s\n",
      "\n",
      "  Geração 52/100\n"
     ]
    },
    {
     "data": {
      "application/vnd.jupyter.widget-view+json": {
       "model_id": "a5aa0b83805c411098a3bbfc61a22989",
       "version_major": 2,
       "version_minor": 0
      },
      "text/plain": [
       "Fitness Calc Gen 52:   0%|          | 0/20 [00:00<?, ?it/s]"
      ]
     },
     "metadata": {},
     "output_type": "display_data"
    },
    {
     "name": "stdout",
     "output_type": "stream",
     "text": [
      "Model Factory: Criando tipo 'PVBin' com params: {'method': 'binary', 'query': 'binary', 'norm': None, 'query_norm': None, 'ngram_range': [1, 2]}\n",
      "Model Factory (PVBin): Convertido ngram_range [1, 2] para tupla (1, 2)\n",
      "Fitting ProductVectorizerClassifier com 100 amostras...\n",
      "Fit concluído.\n",
      "Model Factory: Criando tipo 'PVBin' com params: {'method': 'binary', 'query': 'binary', 'norm': None, 'query_norm': None, 'ngram_range': [1, 2]}\n",
      "Model Factory (PVBin): Convertido ngram_range [1, 2] para tupla (1, 2)\n",
      "Fitting ProductVectorizerClassifier com 100 amostras...\n",
      "Fit concluído.\n",
      "Model Factory: Criando tipo 'PVBin' com params: {'method': 'binary', 'query': 'binary', 'norm': None, 'query_norm': None, 'ngram_range': [1, 2]}\n",
      "Model Factory (PVBin): Convertido ngram_range [1, 2] para tupla (1, 2)\n",
      "Fitting ProductVectorizerClassifier com 100 amostras...\n",
      "Fit concluído.\n",
      "    Acc Real Geração 52: Max=0.3507, Avg=0.3496, Min=0.3445\n",
      "    F1 Real Geração  52: Max=0.0439, Avg=0.0425, Min=0.0415\n",
      "    Duração Geração 52: 17.75s\n",
      "\n",
      "  Geração 53/100\n"
     ]
    },
    {
     "data": {
      "application/vnd.jupyter.widget-view+json": {
       "model_id": "fab9c81f6de24da89b84b9c96e5b08ac",
       "version_major": 2,
       "version_minor": 0
      },
      "text/plain": [
       "Fitness Calc Gen 53:   0%|          | 0/20 [00:00<?, ?it/s]"
      ]
     },
     "metadata": {},
     "output_type": "display_data"
    },
    {
     "name": "stdout",
     "output_type": "stream",
     "text": [
      "Model Factory: Criando tipo 'PVBin' com params: {'method': 'binary', 'query': 'binary', 'norm': None, 'query_norm': None, 'ngram_range': [1, 2]}\n",
      "Model Factory (PVBin): Convertido ngram_range [1, 2] para tupla (1, 2)\n",
      "Fitting ProductVectorizerClassifier com 100 amostras...\n",
      "Fit concluído.\n",
      "Model Factory: Criando tipo 'PVBin' com params: {'method': 'binary', 'query': 'binary', 'norm': None, 'query_norm': None, 'ngram_range': [1, 2]}\n",
      "Model Factory (PVBin): Convertido ngram_range [1, 2] para tupla (1, 2)\n",
      "Fitting ProductVectorizerClassifier com 100 amostras...\n",
      "Fit concluído.\n",
      "Model Factory: Criando tipo 'PVBin' com params: {'method': 'binary', 'query': 'binary', 'norm': None, 'query_norm': None, 'ngram_range': [1, 2]}\n",
      "Model Factory (PVBin): Convertido ngram_range [1, 2] para tupla (1, 2)\n",
      "Fitting ProductVectorizerClassifier com 100 amostras...\n",
      "Fit concluído.\n",
      "Model Factory: Criando tipo 'PVBin' com params: {'method': 'binary', 'query': 'binary', 'norm': None, 'query_norm': None, 'ngram_range': [1, 2]}\n",
      "Model Factory (PVBin): Convertido ngram_range [1, 2] para tupla (1, 2)\n",
      "Fitting ProductVectorizerClassifier com 100 amostras...\n",
      "Fit concluído.\n",
      "Model Factory: Criando tipo 'PVBin' com params: {'method': 'binary', 'query': 'binary', 'norm': None, 'query_norm': None, 'ngram_range': [1, 2]}\n",
      "Model Factory (PVBin): Convertido ngram_range [1, 2] para tupla (1, 2)\n",
      "Fitting ProductVectorizerClassifier com 100 amostras...\n",
      "Fit concluído.\n",
      "Model Factory: Criando tipo 'PVBin' com params: {'method': 'binary', 'query': 'binary', 'norm': None, 'query_norm': None, 'ngram_range': [1, 2]}\n",
      "Model Factory (PVBin): Convertido ngram_range [1, 2] para tupla (1, 2)\n",
      "Fitting ProductVectorizerClassifier com 100 amostras...\n",
      "Fit concluído.\n",
      "    Acc Real Geração 53: Max=0.3507, Avg=0.3495, Min=0.3428\n",
      "    F1 Real Geração  53: Max=0.0435, Avg=0.0426, Min=0.0413\n",
      "    Duração Geração 53: 35.88s\n",
      "\n",
      "  Geração 54/100\n"
     ]
    },
    {
     "data": {
      "application/vnd.jupyter.widget-view+json": {
       "model_id": "53cd9f291b764ee9816c02ef2893cfbb",
       "version_major": 2,
       "version_minor": 0
      },
      "text/plain": [
       "Fitness Calc Gen 54:   0%|          | 0/20 [00:00<?, ?it/s]"
      ]
     },
     "metadata": {},
     "output_type": "display_data"
    },
    {
     "name": "stdout",
     "output_type": "stream",
     "text": [
      "Model Factory: Criando tipo 'PVBin' com params: {'method': 'binary', 'query': 'binary', 'norm': None, 'query_norm': None, 'ngram_range': [1, 2]}\n",
      "Model Factory (PVBin): Convertido ngram_range [1, 2] para tupla (1, 2)\n",
      "Fitting ProductVectorizerClassifier com 100 amostras...\n",
      "Fit concluído.\n",
      "Model Factory: Criando tipo 'PVBin' com params: {'method': 'binary', 'query': 'binary', 'norm': None, 'query_norm': None, 'ngram_range': [1, 2]}\n",
      "Model Factory (PVBin): Convertido ngram_range [1, 2] para tupla (1, 2)\n",
      "Fitting ProductVectorizerClassifier com 100 amostras...\n",
      "Fit concluído.\n",
      "Model Factory: Criando tipo 'PVBin' com params: {'method': 'binary', 'query': 'binary', 'norm': None, 'query_norm': None, 'ngram_range': [1, 2]}\n",
      "Model Factory (PVBin): Convertido ngram_range [1, 2] para tupla (1, 2)\n",
      "Fitting ProductVectorizerClassifier com 100 amostras...\n",
      "Fit concluído.\n",
      "Model Factory: Criando tipo 'PVBin' com params: {'method': 'binary', 'query': 'binary', 'norm': None, 'query_norm': None, 'ngram_range': [1, 2]}\n",
      "Model Factory (PVBin): Convertido ngram_range [1, 2] para tupla (1, 2)\n",
      "Fitting ProductVectorizerClassifier com 100 amostras...\n",
      "Fit concluído.\n",
      "Model Factory: Criando tipo 'PVBin' com params: {'method': 'binary', 'query': 'binary', 'norm': None, 'query_norm': None, 'ngram_range': [1, 2]}\n",
      "Model Factory (PVBin): Convertido ngram_range [1, 2] para tupla (1, 2)\n",
      "Fitting ProductVectorizerClassifier com 100 amostras...\n",
      "Fit concluído.\n",
      "    Acc Real Geração 54: Max=0.3507, Avg=0.3492, Min=0.3365\n",
      "    F1 Real Geração  54: Max=0.0432, Avg=0.0424, Min=0.0412\n",
      "    Duração Geração 54: 30.40s\n",
      "\n",
      "  Geração 55/100\n"
     ]
    },
    {
     "data": {
      "application/vnd.jupyter.widget-view+json": {
       "model_id": "6df398cd798b430fba1cb4df61a73017",
       "version_major": 2,
       "version_minor": 0
      },
      "text/plain": [
       "Fitness Calc Gen 55:   0%|          | 0/20 [00:00<?, ?it/s]"
      ]
     },
     "metadata": {},
     "output_type": "display_data"
    },
    {
     "name": "stdout",
     "output_type": "stream",
     "text": [
      "Model Factory: Criando tipo 'PVBin' com params: {'method': 'binary', 'query': 'binary', 'norm': None, 'query_norm': None, 'ngram_range': [1, 2]}\n",
      "Model Factory (PVBin): Convertido ngram_range [1, 2] para tupla (1, 2)\n",
      "Fitting ProductVectorizerClassifier com 100 amostras...\n",
      "Fit concluído.\n",
      "Model Factory: Criando tipo 'PVBin' com params: {'method': 'binary', 'query': 'binary', 'norm': None, 'query_norm': None, 'ngram_range': [1, 2]}\n",
      "Model Factory (PVBin): Convertido ngram_range [1, 2] para tupla (1, 2)\n",
      "Fitting ProductVectorizerClassifier com 100 amostras...\n",
      "Fit concluído.\n",
      "Model Factory: Criando tipo 'PVBin' com params: {'method': 'binary', 'query': 'binary', 'norm': None, 'query_norm': None, 'ngram_range': [1, 2]}\n",
      "Model Factory (PVBin): Convertido ngram_range [1, 2] para tupla (1, 2)\n",
      "Fitting ProductVectorizerClassifier com 100 amostras...\n",
      "Fit concluído.\n",
      "Model Factory: Criando tipo 'PVBin' com params: {'method': 'binary', 'query': 'binary', 'norm': None, 'query_norm': None, 'ngram_range': [1, 2]}\n",
      "Model Factory (PVBin): Convertido ngram_range [1, 2] para tupla (1, 2)\n",
      "Fitting ProductVectorizerClassifier com 100 amostras...\n",
      "Fit concluído.\n",
      "Model Factory: Criando tipo 'PVBin' com params: {'method': 'binary', 'query': 'binary', 'norm': None, 'query_norm': None, 'ngram_range': [1, 2]}\n",
      "Model Factory (PVBin): Convertido ngram_range [1, 2] para tupla (1, 2)\n",
      "Fitting ProductVectorizerClassifier com 100 amostras...\n",
      "Fit concluído.\n",
      "Model Factory: Criando tipo 'PVBin' com params: {'method': 'binary', 'query': 'binary', 'norm': None, 'query_norm': None, 'ngram_range': [1, 2]}\n",
      "Model Factory (PVBin): Convertido ngram_range [1, 2] para tupla (1, 2)\n",
      "Fitting ProductVectorizerClassifier com 100 amostras...\n",
      "Fit concluído.\n",
      "Model Factory: Criando tipo 'PVBin' com params: {'method': 'binary', 'query': 'binary', 'norm': None, 'query_norm': None, 'ngram_range': [1, 2]}\n",
      "Model Factory (PVBin): Convertido ngram_range [1, 2] para tupla (1, 2)\n",
      "Fitting ProductVectorizerClassifier com 100 amostras...\n",
      "Fit concluído.\n",
      "Model Factory: Criando tipo 'PVBin' com params: {'method': 'binary', 'query': 'binary', 'norm': None, 'query_norm': None, 'ngram_range': [1, 2]}\n",
      "Model Factory (PVBin): Convertido ngram_range [1, 2] para tupla (1, 2)\n",
      "Fitting ProductVectorizerClassifier com 100 amostras...\n",
      "Fit concluído.\n",
      "Model Factory: Criando tipo 'PVBin' com params: {'method': 'binary', 'query': 'binary', 'norm': None, 'query_norm': None, 'ngram_range': [1, 2]}\n",
      "Model Factory (PVBin): Convertido ngram_range [1, 2] para tupla (1, 2)\n",
      "Fitting ProductVectorizerClassifier com 100 amostras...\n",
      "Fit concluído.\n",
      "Model Factory: Criando tipo 'PVBin' com params: {'method': 'binary', 'query': 'binary', 'norm': None, 'query_norm': None, 'ngram_range': [1, 2]}\n",
      "Model Factory (PVBin): Convertido ngram_range [1, 2] para tupla (1, 2)\n",
      "Fitting ProductVectorizerClassifier com 100 amostras...\n",
      "Fit concluído.\n",
      "Model Factory: Criando tipo 'PVBin' com params: {'method': 'binary', 'query': 'binary', 'norm': None, 'query_norm': None, 'ngram_range': [1, 2]}\n",
      "Model Factory (PVBin): Convertido ngram_range [1, 2] para tupla (1, 2)\n",
      "Fitting ProductVectorizerClassifier com 100 amostras...\n",
      "Fit concluído.\n",
      "    Novo melhor (Obj: maximize): Perf Real=0.3533\n",
      "    Acc Real Geração 55: Max=0.3533, Avg=0.3478, Min=0.3331\n",
      "    F1 Real Geração  55: Max=0.0436, Avg=0.0424, Min=0.0397\n",
      "    Duração Geração 55: 65.80s\n",
      "\n",
      "  Geração 56/100\n"
     ]
    },
    {
     "data": {
      "application/vnd.jupyter.widget-view+json": {
       "model_id": "37019672181a48ff883db72bf11090f4",
       "version_major": 2,
       "version_minor": 0
      },
      "text/plain": [
       "Fitness Calc Gen 56:   0%|          | 0/20 [00:00<?, ?it/s]"
      ]
     },
     "metadata": {},
     "output_type": "display_data"
    },
    {
     "name": "stdout",
     "output_type": "stream",
     "text": [
      "Model Factory: Criando tipo 'PVBin' com params: {'method': 'binary', 'query': 'binary', 'norm': None, 'query_norm': None, 'ngram_range': [1, 2]}\n",
      "Model Factory (PVBin): Convertido ngram_range [1, 2] para tupla (1, 2)\n",
      "Fitting ProductVectorizerClassifier com 100 amostras...\n",
      "Fit concluído.\n",
      "Model Factory: Criando tipo 'PVBin' com params: {'method': 'binary', 'query': 'binary', 'norm': None, 'query_norm': None, 'ngram_range': [1, 2]}\n",
      "Model Factory (PVBin): Convertido ngram_range [1, 2] para tupla (1, 2)\n",
      "Fitting ProductVectorizerClassifier com 100 amostras...\n",
      "Fit concluído.\n",
      "Model Factory: Criando tipo 'PVBin' com params: {'method': 'binary', 'query': 'binary', 'norm': None, 'query_norm': None, 'ngram_range': [1, 2]}\n",
      "Model Factory (PVBin): Convertido ngram_range [1, 2] para tupla (1, 2)\n",
      "Fitting ProductVectorizerClassifier com 100 amostras...\n",
      "Fit concluído.\n",
      "Model Factory: Criando tipo 'PVBin' com params: {'method': 'binary', 'query': 'binary', 'norm': None, 'query_norm': None, 'ngram_range': [1, 2]}\n",
      "Model Factory (PVBin): Convertido ngram_range [1, 2] para tupla (1, 2)\n",
      "Fitting ProductVectorizerClassifier com 100 amostras...\n",
      "Fit concluído.\n",
      "Model Factory: Criando tipo 'PVBin' com params: {'method': 'binary', 'query': 'binary', 'norm': None, 'query_norm': None, 'ngram_range': [1, 2]}\n",
      "Model Factory (PVBin): Convertido ngram_range [1, 2] para tupla (1, 2)\n",
      "Fitting ProductVectorizerClassifier com 100 amostras...\n",
      "Fit concluído.\n",
      "Model Factory: Criando tipo 'PVBin' com params: {'method': 'binary', 'query': 'binary', 'norm': None, 'query_norm': None, 'ngram_range': [1, 2]}\n",
      "Model Factory (PVBin): Convertido ngram_range [1, 2] para tupla (1, 2)\n",
      "Fitting ProductVectorizerClassifier com 100 amostras...\n",
      "Fit concluído.\n",
      "Model Factory: Criando tipo 'PVBin' com params: {'method': 'binary', 'query': 'binary', 'norm': None, 'query_norm': None, 'ngram_range': [1, 2]}\n",
      "Model Factory (PVBin): Convertido ngram_range [1, 2] para tupla (1, 2)\n",
      "Fitting ProductVectorizerClassifier com 100 amostras...\n",
      "Fit concluído.\n",
      "Model Factory: Criando tipo 'PVBin' com params: {'method': 'binary', 'query': 'binary', 'norm': None, 'query_norm': None, 'ngram_range': [1, 2]}\n",
      "Model Factory (PVBin): Convertido ngram_range [1, 2] para tupla (1, 2)\n",
      "Fitting ProductVectorizerClassifier com 100 amostras...\n",
      "Fit concluído.\n",
      "Model Factory: Criando tipo 'PVBin' com params: {'method': 'binary', 'query': 'binary', 'norm': None, 'query_norm': None, 'ngram_range': [1, 2]}\n",
      "Model Factory (PVBin): Convertido ngram_range [1, 2] para tupla (1, 2)\n",
      "Fitting ProductVectorizerClassifier com 100 amostras...\n",
      "Fit concluído.\n",
      "    Novo melhor (Obj: maximize): Perf Real=0.3560\n",
      "    Acc Real Geração 56: Max=0.3560, Avg=0.3495, Min=0.3337\n",
      "    F1 Real Geração  56: Max=0.0435, Avg=0.0426, Min=0.0411\n",
      "    Duração Geração 56: 53.99s\n",
      "\n",
      "  Geração 57/100\n"
     ]
    },
    {
     "data": {
      "application/vnd.jupyter.widget-view+json": {
       "model_id": "28134d5db3f04a8d8413da74ac9c1a02",
       "version_major": 2,
       "version_minor": 0
      },
      "text/plain": [
       "Fitness Calc Gen 57:   0%|          | 0/20 [00:00<?, ?it/s]"
      ]
     },
     "metadata": {},
     "output_type": "display_data"
    },
    {
     "name": "stdout",
     "output_type": "stream",
     "text": [
      "Model Factory: Criando tipo 'PVBin' com params: {'method': 'binary', 'query': 'binary', 'norm': None, 'query_norm': None, 'ngram_range': [1, 2]}\n",
      "Model Factory (PVBin): Convertido ngram_range [1, 2] para tupla (1, 2)\n",
      "Fitting ProductVectorizerClassifier com 100 amostras...\n",
      "Fit concluído.\n",
      "Model Factory: Criando tipo 'PVBin' com params: {'method': 'binary', 'query': 'binary', 'norm': None, 'query_norm': None, 'ngram_range': [1, 2]}\n",
      "Model Factory (PVBin): Convertido ngram_range [1, 2] para tupla (1, 2)\n",
      "Fitting ProductVectorizerClassifier com 100 amostras...\n",
      "Fit concluído.\n",
      "Model Factory: Criando tipo 'PVBin' com params: {'method': 'binary', 'query': 'binary', 'norm': None, 'query_norm': None, 'ngram_range': [1, 2]}\n",
      "Model Factory (PVBin): Convertido ngram_range [1, 2] para tupla (1, 2)\n",
      "Fitting ProductVectorizerClassifier com 100 amostras...\n",
      "Fit concluído.\n",
      "Model Factory: Criando tipo 'PVBin' com params: {'method': 'binary', 'query': 'binary', 'norm': None, 'query_norm': None, 'ngram_range': [1, 2]}\n",
      "Model Factory (PVBin): Convertido ngram_range [1, 2] para tupla (1, 2)\n",
      "Fitting ProductVectorizerClassifier com 100 amostras...\n",
      "Fit concluído.\n",
      "Model Factory: Criando tipo 'PVBin' com params: {'method': 'binary', 'query': 'binary', 'norm': None, 'query_norm': None, 'ngram_range': [1, 2]}\n",
      "Model Factory (PVBin): Convertido ngram_range [1, 2] para tupla (1, 2)\n",
      "Fitting ProductVectorizerClassifier com 100 amostras...\n",
      "Fit concluído.\n",
      "Model Factory: Criando tipo 'PVBin' com params: {'method': 'binary', 'query': 'binary', 'norm': None, 'query_norm': None, 'ngram_range': [1, 2]}\n",
      "Model Factory (PVBin): Convertido ngram_range [1, 2] para tupla (1, 2)\n",
      "Fitting ProductVectorizerClassifier com 100 amostras...\n",
      "Fit concluído.\n",
      "Model Factory: Criando tipo 'PVBin' com params: {'method': 'binary', 'query': 'binary', 'norm': None, 'query_norm': None, 'ngram_range': [1, 2]}\n",
      "Model Factory (PVBin): Convertido ngram_range [1, 2] para tupla (1, 2)\n",
      "Fitting ProductVectorizerClassifier com 100 amostras...\n",
      "Fit concluído.\n",
      "    Novo melhor (Obj: maximize): Perf Real=0.3562\n",
      "    Acc Real Geração 57: Max=0.3562, Avg=0.3525, Min=0.3404\n",
      "    F1 Real Geração  57: Max=0.0436, Avg=0.0429, Min=0.0391\n",
      "    Duração Geração 57: 42.56s\n",
      "\n",
      "  Geração 58/100\n"
     ]
    },
    {
     "data": {
      "application/vnd.jupyter.widget-view+json": {
       "model_id": "617899eb3c4d4a0480f32d3fe34f126f",
       "version_major": 2,
       "version_minor": 0
      },
      "text/plain": [
       "Fitness Calc Gen 58:   0%|          | 0/20 [00:00<?, ?it/s]"
      ]
     },
     "metadata": {},
     "output_type": "display_data"
    },
    {
     "name": "stdout",
     "output_type": "stream",
     "text": [
      "Model Factory: Criando tipo 'PVBin' com params: {'method': 'binary', 'query': 'binary', 'norm': None, 'query_norm': None, 'ngram_range': [1, 2]}\n",
      "Model Factory (PVBin): Convertido ngram_range [1, 2] para tupla (1, 2)\n",
      "Fitting ProductVectorizerClassifier com 100 amostras...\n",
      "Fit concluído.\n",
      "Model Factory: Criando tipo 'PVBin' com params: {'method': 'binary', 'query': 'binary', 'norm': None, 'query_norm': None, 'ngram_range': [1, 2]}\n",
      "Model Factory (PVBin): Convertido ngram_range [1, 2] para tupla (1, 2)\n",
      "Fitting ProductVectorizerClassifier com 100 amostras...\n",
      "Fit concluído.\n",
      "Model Factory: Criando tipo 'PVBin' com params: {'method': 'binary', 'query': 'binary', 'norm': None, 'query_norm': None, 'ngram_range': [1, 2]}\n",
      "Model Factory (PVBin): Convertido ngram_range [1, 2] para tupla (1, 2)\n",
      "Fitting ProductVectorizerClassifier com 100 amostras...\n",
      "Fit concluído.\n",
      "Model Factory: Criando tipo 'PVBin' com params: {'method': 'binary', 'query': 'binary', 'norm': None, 'query_norm': None, 'ngram_range': [1, 2]}\n",
      "Model Factory (PVBin): Convertido ngram_range [1, 2] para tupla (1, 2)\n",
      "Fitting ProductVectorizerClassifier com 100 amostras...\n",
      "Fit concluído.\n",
      "Model Factory: Criando tipo 'PVBin' com params: {'method': 'binary', 'query': 'binary', 'norm': None, 'query_norm': None, 'ngram_range': [1, 2]}\n",
      "Model Factory (PVBin): Convertido ngram_range [1, 2] para tupla (1, 2)\n",
      "Fitting ProductVectorizerClassifier com 100 amostras...\n",
      "Fit concluído.\n",
      "    Acc Real Geração 58: Max=0.3562, Avg=0.3543, Min=0.3421\n",
      "    F1 Real Geração  58: Max=0.0450, Avg=0.0433, Min=0.0417\n",
      "    Duração Geração 58: 32.60s\n",
      "\n",
      "  Geração 59/100\n"
     ]
    },
    {
     "data": {
      "application/vnd.jupyter.widget-view+json": {
       "model_id": "64ced75e85f64336baaaa78fb88299cf",
       "version_major": 2,
       "version_minor": 0
      },
      "text/plain": [
       "Fitness Calc Gen 59:   0%|          | 0/20 [00:00<?, ?it/s]"
      ]
     },
     "metadata": {},
     "output_type": "display_data"
    },
    {
     "name": "stdout",
     "output_type": "stream",
     "text": [
      "Model Factory: Criando tipo 'PVBin' com params: {'method': 'binary', 'query': 'binary', 'norm': None, 'query_norm': None, 'ngram_range': [1, 2]}\n",
      "Model Factory (PVBin): Convertido ngram_range [1, 2] para tupla (1, 2)\n",
      "Fitting ProductVectorizerClassifier com 100 amostras...\n",
      "Fit concluído.\n",
      "Model Factory: Criando tipo 'PVBin' com params: {'method': 'binary', 'query': 'binary', 'norm': None, 'query_norm': None, 'ngram_range': [1, 2]}\n",
      "Model Factory (PVBin): Convertido ngram_range [1, 2] para tupla (1, 2)\n",
      "Fitting ProductVectorizerClassifier com 100 amostras...\n",
      "Fit concluído.\n",
      "Model Factory: Criando tipo 'PVBin' com params: {'method': 'binary', 'query': 'binary', 'norm': None, 'query_norm': None, 'ngram_range': [1, 2]}\n",
      "Model Factory (PVBin): Convertido ngram_range [1, 2] para tupla (1, 2)\n",
      "Fitting ProductVectorizerClassifier com 100 amostras...\n",
      "Fit concluído.\n",
      "    Acc Real Geração 59: Max=0.3562, Avg=0.3551, Min=0.3436\n",
      "    F1 Real Geração  59: Max=0.0443, Avg=0.0434, Min=0.0426\n",
      "    Duração Geração 59: 18.88s\n",
      "\n",
      "  Geração 60/100\n"
     ]
    },
    {
     "data": {
      "application/vnd.jupyter.widget-view+json": {
       "model_id": "f6a922365896434e90be1c0643cd3e6b",
       "version_major": 2,
       "version_minor": 0
      },
      "text/plain": [
       "Fitness Calc Gen 60:   0%|          | 0/20 [00:00<?, ?it/s]"
      ]
     },
     "metadata": {},
     "output_type": "display_data"
    },
    {
     "name": "stdout",
     "output_type": "stream",
     "text": [
      "Model Factory: Criando tipo 'PVBin' com params: {'method': 'binary', 'query': 'binary', 'norm': None, 'query_norm': None, 'ngram_range': [1, 2]}\n",
      "Model Factory (PVBin): Convertido ngram_range [1, 2] para tupla (1, 2)\n",
      "Fitting ProductVectorizerClassifier com 100 amostras...\n",
      "Fit concluído.\n",
      "Model Factory: Criando tipo 'PVBin' com params: {'method': 'binary', 'query': 'binary', 'norm': None, 'query_norm': None, 'ngram_range': [1, 2]}\n",
      "Model Factory (PVBin): Convertido ngram_range [1, 2] para tupla (1, 2)\n",
      "Fitting ProductVectorizerClassifier com 100 amostras...\n",
      "Fit concluído.\n",
      "Model Factory: Criando tipo 'PVBin' com params: {'method': 'binary', 'query': 'binary', 'norm': None, 'query_norm': None, 'ngram_range': [1, 2]}\n",
      "Model Factory (PVBin): Convertido ngram_range [1, 2] para tupla (1, 2)\n",
      "Fitting ProductVectorizerClassifier com 100 amostras...\n",
      "Fit concluído.\n",
      "Model Factory: Criando tipo 'PVBin' com params: {'method': 'binary', 'query': 'binary', 'norm': None, 'query_norm': None, 'ngram_range': [1, 2]}\n",
      "Model Factory (PVBin): Convertido ngram_range [1, 2] para tupla (1, 2)\n",
      "Fitting ProductVectorizerClassifier com 100 amostras...\n",
      "Fit concluído.\n",
      "    Novo melhor (Obj: maximize): Perf Real=0.3567\n",
      "    Acc Real Geração 60: Max=0.3567, Avg=0.3554, Min=0.3462\n",
      "    F1 Real Geração  60: Max=0.0448, Avg=0.0435, Min=0.0426\n",
      "    Duração Geração 60: 24.22s\n",
      "\n",
      "  Geração 61/100\n"
     ]
    },
    {
     "data": {
      "application/vnd.jupyter.widget-view+json": {
       "model_id": "6b0d73f3c64043a399b802a792bf6a63",
       "version_major": 2,
       "version_minor": 0
      },
      "text/plain": [
       "Fitness Calc Gen 61:   0%|          | 0/20 [00:00<?, ?it/s]"
      ]
     },
     "metadata": {},
     "output_type": "display_data"
    },
    {
     "name": "stdout",
     "output_type": "stream",
     "text": [
      "Model Factory: Criando tipo 'PVBin' com params: {'method': 'binary', 'query': 'binary', 'norm': None, 'query_norm': None, 'ngram_range': [1, 2]}\n",
      "Model Factory (PVBin): Convertido ngram_range [1, 2] para tupla (1, 2)\n",
      "Fitting ProductVectorizerClassifier com 100 amostras...\n",
      "Fit concluído.\n",
      "Model Factory: Criando tipo 'PVBin' com params: {'method': 'binary', 'query': 'binary', 'norm': None, 'query_norm': None, 'ngram_range': [1, 2]}\n",
      "Model Factory (PVBin): Convertido ngram_range [1, 2] para tupla (1, 2)\n",
      "Fitting ProductVectorizerClassifier com 100 amostras...\n",
      "Fit concluído.\n",
      "Model Factory: Criando tipo 'PVBin' com params: {'method': 'binary', 'query': 'binary', 'norm': None, 'query_norm': None, 'ngram_range': [1, 2]}\n",
      "Model Factory (PVBin): Convertido ngram_range [1, 2] para tupla (1, 2)\n",
      "Fitting ProductVectorizerClassifier com 100 amostras...\n",
      "Fit concluído.\n",
      "Model Factory: Criando tipo 'PVBin' com params: {'method': 'binary', 'query': 'binary', 'norm': None, 'query_norm': None, 'ngram_range': [1, 2]}\n",
      "Model Factory (PVBin): Convertido ngram_range [1, 2] para tupla (1, 2)\n",
      "Fitting ProductVectorizerClassifier com 100 amostras...\n",
      "Fit concluído.\n",
      "Model Factory: Criando tipo 'PVBin' com params: {'method': 'binary', 'query': 'binary', 'norm': None, 'query_norm': None, 'ngram_range': [1, 2]}\n",
      "Model Factory (PVBin): Convertido ngram_range [1, 2] para tupla (1, 2)\n",
      "Fitting ProductVectorizerClassifier com 100 amostras...\n",
      "Fit concluído.\n",
      "    Acc Real Geração 61: Max=0.3567, Avg=0.3546, Min=0.3417\n",
      "    F1 Real Geração  61: Max=0.0443, Avg=0.0435, Min=0.0419\n",
      "    Duração Geração 61: 30.67s\n",
      "\n",
      "  Geração 62/100\n"
     ]
    },
    {
     "data": {
      "application/vnd.jupyter.widget-view+json": {
       "model_id": "5c51d9125782456d9dde27c8170cdc28",
       "version_major": 2,
       "version_minor": 0
      },
      "text/plain": [
       "Fitness Calc Gen 62:   0%|          | 0/20 [00:00<?, ?it/s]"
      ]
     },
     "metadata": {},
     "output_type": "display_data"
    },
    {
     "name": "stdout",
     "output_type": "stream",
     "text": [
      "Model Factory: Criando tipo 'PVBin' com params: {'method': 'binary', 'query': 'binary', 'norm': None, 'query_norm': None, 'ngram_range': [1, 2]}\n",
      "Model Factory (PVBin): Convertido ngram_range [1, 2] para tupla (1, 2)\n",
      "Fitting ProductVectorizerClassifier com 100 amostras...\n",
      "Fit concluído.\n",
      "Model Factory: Criando tipo 'PVBin' com params: {'method': 'binary', 'query': 'binary', 'norm': None, 'query_norm': None, 'ngram_range': [1, 2]}\n",
      "Model Factory (PVBin): Convertido ngram_range [1, 2] para tupla (1, 2)\n",
      "Fitting ProductVectorizerClassifier com 100 amostras...\n",
      "Fit concluído.\n",
      "Model Factory: Criando tipo 'PVBin' com params: {'method': 'binary', 'query': 'binary', 'norm': None, 'query_norm': None, 'ngram_range': [1, 2]}\n",
      "Model Factory (PVBin): Convertido ngram_range [1, 2] para tupla (1, 2)\n",
      "Fitting ProductVectorizerClassifier com 100 amostras...\n",
      "Fit concluído.\n",
      "Model Factory: Criando tipo 'PVBin' com params: {'method': 'binary', 'query': 'binary', 'norm': None, 'query_norm': None, 'ngram_range': [1, 2]}\n",
      "Model Factory (PVBin): Convertido ngram_range [1, 2] para tupla (1, 2)\n",
      "Fitting ProductVectorizerClassifier com 100 amostras...\n",
      "Fit concluído.\n",
      "Model Factory: Criando tipo 'PVBin' com params: {'method': 'binary', 'query': 'binary', 'norm': None, 'query_norm': None, 'ngram_range': [1, 2]}\n",
      "Model Factory (PVBin): Convertido ngram_range [1, 2] para tupla (1, 2)\n",
      "Fitting ProductVectorizerClassifier com 100 amostras...\n",
      "Fit concluído.\n",
      "Model Factory: Criando tipo 'PVBin' com params: {'method': 'binary', 'query': 'binary', 'norm': None, 'query_norm': None, 'ngram_range': [1, 2]}\n",
      "Model Factory (PVBin): Convertido ngram_range [1, 2] para tupla (1, 2)\n",
      "Fitting ProductVectorizerClassifier com 100 amostras...\n",
      "Fit concluído.\n",
      "Model Factory: Criando tipo 'PVBin' com params: {'method': 'binary', 'query': 'binary', 'norm': None, 'query_norm': None, 'ngram_range': [1, 2]}\n",
      "Model Factory (PVBin): Convertido ngram_range [1, 2] para tupla (1, 2)\n",
      "Fitting ProductVectorizerClassifier com 100 amostras...\n",
      "Fit concluído.\n",
      "    Acc Real Geração 62: Max=0.3567, Avg=0.3547, Min=0.3463\n",
      "    F1 Real Geração  62: Max=0.0440, Avg=0.0434, Min=0.0423\n",
      "    Duração Geração 62: 42.22s\n",
      "\n",
      "  Geração 63/100\n"
     ]
    },
    {
     "data": {
      "application/vnd.jupyter.widget-view+json": {
       "model_id": "da48c73f38f045c7a5d04640067b65f8",
       "version_major": 2,
       "version_minor": 0
      },
      "text/plain": [
       "Fitness Calc Gen 63:   0%|          | 0/20 [00:00<?, ?it/s]"
      ]
     },
     "metadata": {},
     "output_type": "display_data"
    },
    {
     "name": "stdout",
     "output_type": "stream",
     "text": [
      "Model Factory: Criando tipo 'PVBin' com params: {'method': 'binary', 'query': 'binary', 'norm': None, 'query_norm': None, 'ngram_range': [1, 2]}\n",
      "Model Factory (PVBin): Convertido ngram_range [1, 2] para tupla (1, 2)\n",
      "Fitting ProductVectorizerClassifier com 100 amostras...\n",
      "Fit concluído.\n",
      "Model Factory: Criando tipo 'PVBin' com params: {'method': 'binary', 'query': 'binary', 'norm': None, 'query_norm': None, 'ngram_range': [1, 2]}\n",
      "Model Factory (PVBin): Convertido ngram_range [1, 2] para tupla (1, 2)\n",
      "Fitting ProductVectorizerClassifier com 100 amostras...\n",
      "Fit concluído.\n",
      "Model Factory: Criando tipo 'PVBin' com params: {'method': 'binary', 'query': 'binary', 'norm': None, 'query_norm': None, 'ngram_range': [1, 2]}\n",
      "Model Factory (PVBin): Convertido ngram_range [1, 2] para tupla (1, 2)\n",
      "Fitting ProductVectorizerClassifier com 100 amostras...\n",
      "Fit concluído.\n",
      "Model Factory: Criando tipo 'PVBin' com params: {'method': 'binary', 'query': 'binary', 'norm': None, 'query_norm': None, 'ngram_range': [1, 2]}\n",
      "Model Factory (PVBin): Convertido ngram_range [1, 2] para tupla (1, 2)\n",
      "Fitting ProductVectorizerClassifier com 100 amostras...\n",
      "Fit concluído.\n",
      "Model Factory: Criando tipo 'PVBin' com params: {'method': 'binary', 'query': 'binary', 'norm': None, 'query_norm': None, 'ngram_range': [1, 2]}\n",
      "Model Factory (PVBin): Convertido ngram_range [1, 2] para tupla (1, 2)\n",
      "Fitting ProductVectorizerClassifier com 100 amostras...\n",
      "Fit concluído.\n",
      "    Acc Real Geração 63: Max=0.3567, Avg=0.3555, Min=0.3467\n",
      "    F1 Real Geração  63: Max=0.0437, Avg=0.0435, Min=0.0427\n",
      "    Duração Geração 63: 30.46s\n",
      "\n",
      "  Geração 64/100\n"
     ]
    },
    {
     "data": {
      "application/vnd.jupyter.widget-view+json": {
       "model_id": "47d949011f844e13a9ca71fc43c2cb43",
       "version_major": 2,
       "version_minor": 0
      },
      "text/plain": [
       "Fitness Calc Gen 64:   0%|          | 0/20 [00:00<?, ?it/s]"
      ]
     },
     "metadata": {},
     "output_type": "display_data"
    },
    {
     "name": "stdout",
     "output_type": "stream",
     "text": [
      "Model Factory: Criando tipo 'PVBin' com params: {'method': 'binary', 'query': 'binary', 'norm': None, 'query_norm': None, 'ngram_range': [1, 2]}\n",
      "Model Factory (PVBin): Convertido ngram_range [1, 2] para tupla (1, 2)\n",
      "Fitting ProductVectorizerClassifier com 100 amostras...\n",
      "Fit concluído.\n",
      "Model Factory: Criando tipo 'PVBin' com params: {'method': 'binary', 'query': 'binary', 'norm': None, 'query_norm': None, 'ngram_range': [1, 2]}\n",
      "Model Factory (PVBin): Convertido ngram_range [1, 2] para tupla (1, 2)\n",
      "Fitting ProductVectorizerClassifier com 100 amostras...\n",
      "Fit concluído.\n",
      "Model Factory: Criando tipo 'PVBin' com params: {'method': 'binary', 'query': 'binary', 'norm': None, 'query_norm': None, 'ngram_range': [1, 2]}\n",
      "Model Factory (PVBin): Convertido ngram_range [1, 2] para tupla (1, 2)\n",
      "Fitting ProductVectorizerClassifier com 100 amostras...\n",
      "Fit concluído.\n",
      "Model Factory: Criando tipo 'PVBin' com params: {'method': 'binary', 'query': 'binary', 'norm': None, 'query_norm': None, 'ngram_range': [1, 2]}\n",
      "Model Factory (PVBin): Convertido ngram_range [1, 2] para tupla (1, 2)\n",
      "Fitting ProductVectorizerClassifier com 100 amostras...\n",
      "Fit concluído.\n",
      "Model Factory: Criando tipo 'PVBin' com params: {'method': 'binary', 'query': 'binary', 'norm': None, 'query_norm': None, 'ngram_range': [1, 2]}\n",
      "Model Factory (PVBin): Convertido ngram_range [1, 2] para tupla (1, 2)\n",
      "Fitting ProductVectorizerClassifier com 100 amostras...\n",
      "Fit concluído.\n",
      "    Acc Real Geração 64: Max=0.3567, Avg=0.3549, Min=0.3459\n",
      "    F1 Real Geração  64: Max=0.0437, Avg=0.0434, Min=0.0422\n",
      "    Duração Geração 64: 30.24s\n",
      "\n",
      "  Geração 65/100\n"
     ]
    },
    {
     "data": {
      "application/vnd.jupyter.widget-view+json": {
       "model_id": "6f0c08ac9169452f8f4c3c3ea22e9fde",
       "version_major": 2,
       "version_minor": 0
      },
      "text/plain": [
       "Fitness Calc Gen 65:   0%|          | 0/20 [00:00<?, ?it/s]"
      ]
     },
     "metadata": {},
     "output_type": "display_data"
    },
    {
     "name": "stdout",
     "output_type": "stream",
     "text": [
      "Model Factory: Criando tipo 'PVBin' com params: {'method': 'binary', 'query': 'binary', 'norm': None, 'query_norm': None, 'ngram_range': [1, 2]}\n",
      "Model Factory (PVBin): Convertido ngram_range [1, 2] para tupla (1, 2)\n",
      "Fitting ProductVectorizerClassifier com 100 amostras...\n",
      "Fit concluído.\n",
      "Model Factory: Criando tipo 'PVBin' com params: {'method': 'binary', 'query': 'binary', 'norm': None, 'query_norm': None, 'ngram_range': [1, 2]}\n",
      "Model Factory (PVBin): Convertido ngram_range [1, 2] para tupla (1, 2)\n",
      "Fitting ProductVectorizerClassifier com 100 amostras...\n",
      "Fit concluído.\n",
      "Model Factory: Criando tipo 'PVBin' com params: {'method': 'binary', 'query': 'binary', 'norm': None, 'query_norm': None, 'ngram_range': [1, 2]}\n",
      "Model Factory (PVBin): Convertido ngram_range [1, 2] para tupla (1, 2)\n",
      "Fitting ProductVectorizerClassifier com 100 amostras...\n",
      "Fit concluído.\n",
      "Model Factory: Criando tipo 'PVBin' com params: {'method': 'binary', 'query': 'binary', 'norm': None, 'query_norm': None, 'ngram_range': [1, 2]}\n",
      "Model Factory (PVBin): Convertido ngram_range [1, 2] para tupla (1, 2)\n",
      "Fitting ProductVectorizerClassifier com 100 amostras...\n",
      "Fit concluído.\n",
      "    Acc Real Geração 65: Max=0.3567, Avg=0.3555, Min=0.3432\n",
      "    F1 Real Geração  65: Max=0.0448, Avg=0.0435, Min=0.0427\n",
      "    Duração Geração 65: 24.02s\n",
      "\n",
      "  Geração 66/100\n"
     ]
    },
    {
     "data": {
      "application/vnd.jupyter.widget-view+json": {
       "model_id": "1effabab834040288111288e262aab93",
       "version_major": 2,
       "version_minor": 0
      },
      "text/plain": [
       "Fitness Calc Gen 66:   0%|          | 0/20 [00:00<?, ?it/s]"
      ]
     },
     "metadata": {},
     "output_type": "display_data"
    },
    {
     "name": "stdout",
     "output_type": "stream",
     "text": [
      "Model Factory: Criando tipo 'PVBin' com params: {'method': 'binary', 'query': 'binary', 'norm': None, 'query_norm': None, 'ngram_range': [1, 2]}\n",
      "Model Factory (PVBin): Convertido ngram_range [1, 2] para tupla (1, 2)\n",
      "Fitting ProductVectorizerClassifier com 100 amostras...\n",
      "Fit concluído.\n",
      "Model Factory: Criando tipo 'PVBin' com params: {'method': 'binary', 'query': 'binary', 'norm': None, 'query_norm': None, 'ngram_range': [1, 2]}\n",
      "Model Factory (PVBin): Convertido ngram_range [1, 2] para tupla (1, 2)\n",
      "Fitting ProductVectorizerClassifier com 100 amostras...\n",
      "Fit concluído.\n",
      "Model Factory: Criando tipo 'PVBin' com params: {'method': 'binary', 'query': 'binary', 'norm': None, 'query_norm': None, 'ngram_range': [1, 2]}\n",
      "Model Factory (PVBin): Convertido ngram_range [1, 2] para tupla (1, 2)\n",
      "Fitting ProductVectorizerClassifier com 100 amostras...\n",
      "Fit concluído.\n",
      "Model Factory: Criando tipo 'PVBin' com params: {'method': 'binary', 'query': 'binary', 'norm': None, 'query_norm': None, 'ngram_range': [1, 2]}\n",
      "Model Factory (PVBin): Convertido ngram_range [1, 2] para tupla (1, 2)\n",
      "Fitting ProductVectorizerClassifier com 100 amostras...\n",
      "Fit concluído.\n",
      "    Acc Real Geração 66: Max=0.3567, Avg=0.3557, Min=0.3486\n",
      "    F1 Real Geração  66: Max=0.0440, Avg=0.0435, Min=0.0421\n",
      "    Duração Geração 66: 24.24s\n",
      "\n",
      "  Geração 67/100\n"
     ]
    },
    {
     "data": {
      "application/vnd.jupyter.widget-view+json": {
       "model_id": "6d22f46f21f64ea589e9bb5dfad3172d",
       "version_major": 2,
       "version_minor": 0
      },
      "text/plain": [
       "Fitness Calc Gen 67:   0%|          | 0/20 [00:00<?, ?it/s]"
      ]
     },
     "metadata": {},
     "output_type": "display_data"
    },
    {
     "name": "stdout",
     "output_type": "stream",
     "text": [
      "Model Factory: Criando tipo 'PVBin' com params: {'method': 'binary', 'query': 'binary', 'norm': None, 'query_norm': None, 'ngram_range': [1, 2]}\n",
      "Model Factory (PVBin): Convertido ngram_range [1, 2] para tupla (1, 2)\n",
      "Fitting ProductVectorizerClassifier com 100 amostras...\n",
      "Fit concluído.\n",
      "    Acc Real Geração 67: Max=0.3567, Avg=0.3564, Min=0.3535\n",
      "    F1 Real Geração  67: Max=0.0435, Avg=0.0435, Min=0.0430\n",
      "    Duração Geração 67: 6.41s\n",
      "\n",
      "  Geração 68/100\n"
     ]
    },
    {
     "data": {
      "application/vnd.jupyter.widget-view+json": {
       "model_id": "012874b19a7345ae959a1d49eefe0dab",
       "version_major": 2,
       "version_minor": 0
      },
      "text/plain": [
       "Fitness Calc Gen 68:   0%|          | 0/20 [00:00<?, ?it/s]"
      ]
     },
     "metadata": {},
     "output_type": "display_data"
    },
    {
     "name": "stdout",
     "output_type": "stream",
     "text": [
      "    Acc Real Geração 68: Max=0.3567, Avg=0.3567, Min=0.3567\n",
      "    F1 Real Geração  68: Max=0.0435, Avg=0.0435, Min=0.0435\n",
      "    Duração Geração 68: 0.30s\n",
      "\n",
      "  Geração 69/100\n"
     ]
    },
    {
     "data": {
      "application/vnd.jupyter.widget-view+json": {
       "model_id": "e05efe1b037d4a2a8a7603bc60c0e76e",
       "version_major": 2,
       "version_minor": 0
      },
      "text/plain": [
       "Fitness Calc Gen 69:   0%|          | 0/20 [00:00<?, ?it/s]"
      ]
     },
     "metadata": {},
     "output_type": "display_data"
    },
    {
     "name": "stdout",
     "output_type": "stream",
     "text": [
      "Model Factory: Criando tipo 'PVBin' com params: {'method': 'binary', 'query': 'binary', 'norm': None, 'query_norm': None, 'ngram_range': [1, 2]}\n",
      "Model Factory (PVBin): Convertido ngram_range [1, 2] para tupla (1, 2)\n",
      "Fitting ProductVectorizerClassifier com 100 amostras...\n",
      "Fit concluído.\n",
      "Model Factory: Criando tipo 'PVBin' com params: {'method': 'binary', 'query': 'binary', 'norm': None, 'query_norm': None, 'ngram_range': [1, 2]}\n",
      "Model Factory (PVBin): Convertido ngram_range [1, 2] para tupla (1, 2)\n",
      "Fitting ProductVectorizerClassifier com 100 amostras...\n",
      "Fit concluído.\n",
      "Model Factory: Criando tipo 'PVBin' com params: {'method': 'binary', 'query': 'binary', 'norm': None, 'query_norm': None, 'ngram_range': [1, 2]}\n",
      "Model Factory (PVBin): Convertido ngram_range [1, 2] para tupla (1, 2)\n",
      "Fitting ProductVectorizerClassifier com 100 amostras...\n",
      "Fit concluído.\n",
      "Model Factory: Criando tipo 'PVBin' com params: {'method': 'binary', 'query': 'binary', 'norm': None, 'query_norm': None, 'ngram_range': [1, 2]}\n",
      "Model Factory (PVBin): Convertido ngram_range [1, 2] para tupla (1, 2)\n",
      "Fitting ProductVectorizerClassifier com 100 amostras...\n",
      "Fit concluído.\n",
      "    Acc Real Geração 69: Max=0.3567, Avg=0.3548, Min=0.3408\n",
      "    F1 Real Geração  69: Max=0.0436, Avg=0.0433, Min=0.0411\n",
      "    Duração Geração 69: 24.61s\n",
      "\n",
      "  Geração 70/100\n"
     ]
    },
    {
     "data": {
      "application/vnd.jupyter.widget-view+json": {
       "model_id": "58a4bb38b03d40eeb2e405682a8e4f12",
       "version_major": 2,
       "version_minor": 0
      },
      "text/plain": [
       "Fitness Calc Gen 70:   0%|          | 0/20 [00:00<?, ?it/s]"
      ]
     },
     "metadata": {},
     "output_type": "display_data"
    },
    {
     "name": "stdout",
     "output_type": "stream",
     "text": [
      "Model Factory: Criando tipo 'PVBin' com params: {'method': 'binary', 'query': 'binary', 'norm': None, 'query_norm': None, 'ngram_range': [1, 2]}\n",
      "Model Factory (PVBin): Convertido ngram_range [1, 2] para tupla (1, 2)\n",
      "Fitting ProductVectorizerClassifier com 100 amostras...\n",
      "Fit concluído.\n",
      "Model Factory: Criando tipo 'PVBin' com params: {'method': 'binary', 'query': 'binary', 'norm': None, 'query_norm': None, 'ngram_range': [1, 2]}\n",
      "Model Factory (PVBin): Convertido ngram_range [1, 2] para tupla (1, 2)\n",
      "Fitting ProductVectorizerClassifier com 100 amostras...\n",
      "Fit concluído.\n",
      "Model Factory: Criando tipo 'PVBin' com params: {'method': 'binary', 'query': 'binary', 'norm': None, 'query_norm': None, 'ngram_range': [1, 2]}\n",
      "Model Factory (PVBin): Convertido ngram_range [1, 2] para tupla (1, 2)\n",
      "Fitting ProductVectorizerClassifier com 100 amostras...\n",
      "Fit concluído.\n",
      "    Novo melhor (Obj: maximize): Perf Real=0.3586\n",
      "    Acc Real Geração 70: Max=0.3586, Avg=0.3563, Min=0.3482\n",
      "    F1 Real Geração  70: Max=0.0445, Avg=0.0435, Min=0.0422\n",
      "    Duração Geração 70: 18.40s\n",
      "\n",
      "  Geração 71/100\n"
     ]
    },
    {
     "data": {
      "application/vnd.jupyter.widget-view+json": {
       "model_id": "63651ed6d1b945bc95a46e17e297b892",
       "version_major": 2,
       "version_minor": 0
      },
      "text/plain": [
       "Fitness Calc Gen 71:   0%|          | 0/20 [00:00<?, ?it/s]"
      ]
     },
     "metadata": {},
     "output_type": "display_data"
    },
    {
     "name": "stdout",
     "output_type": "stream",
     "text": [
      "Model Factory: Criando tipo 'PVBin' com params: {'method': 'binary', 'query': 'binary', 'norm': None, 'query_norm': None, 'ngram_range': [1, 2]}\n",
      "Model Factory (PVBin): Convertido ngram_range [1, 2] para tupla (1, 2)\n",
      "Fitting ProductVectorizerClassifier com 100 amostras...\n",
      "Fit concluído.\n",
      "Model Factory: Criando tipo 'PVBin' com params: {'method': 'binary', 'query': 'binary', 'norm': None, 'query_norm': None, 'ngram_range': [1, 2]}\n",
      "Model Factory (PVBin): Convertido ngram_range [1, 2] para tupla (1, 2)\n",
      "Fitting ProductVectorizerClassifier com 100 amostras...\n",
      "Fit concluído.\n",
      "Model Factory: Criando tipo 'PVBin' com params: {'method': 'binary', 'query': 'binary', 'norm': None, 'query_norm': None, 'ngram_range': [1, 2]}\n",
      "Model Factory (PVBin): Convertido ngram_range [1, 2] para tupla (1, 2)\n",
      "Fitting ProductVectorizerClassifier com 100 amostras...\n",
      "Fit concluído.\n",
      "Model Factory: Criando tipo 'PVBin' com params: {'method': 'binary', 'query': 'binary', 'norm': None, 'query_norm': None, 'ngram_range': [1, 2]}\n",
      "Model Factory (PVBin): Convertido ngram_range [1, 2] para tupla (1, 2)\n",
      "Fitting ProductVectorizerClassifier com 100 amostras...\n",
      "Fit concluído.\n",
      "Model Factory: Criando tipo 'PVBin' com params: {'method': 'binary', 'query': 'binary', 'norm': None, 'query_norm': None, 'ngram_range': [1, 2]}\n",
      "Model Factory (PVBin): Convertido ngram_range [1, 2] para tupla (1, 2)\n",
      "Fitting ProductVectorizerClassifier com 100 amostras...\n",
      "Fit concluído.\n",
      "    Acc Real Geração 71: Max=0.3586, Avg=0.3549, Min=0.3455\n",
      "    F1 Real Geração  71: Max=0.0448, Avg=0.0435, Min=0.0414\n",
      "    Duração Geração 71: 30.77s\n",
      "\n",
      "  Geração 72/100\n"
     ]
    },
    {
     "data": {
      "application/vnd.jupyter.widget-view+json": {
       "model_id": "0b97a5fb72244c939ca323dfa1f5a284",
       "version_major": 2,
       "version_minor": 0
      },
      "text/plain": [
       "Fitness Calc Gen 72:   0%|          | 0/20 [00:00<?, ?it/s]"
      ]
     },
     "metadata": {},
     "output_type": "display_data"
    },
    {
     "name": "stdout",
     "output_type": "stream",
     "text": [
      "Model Factory: Criando tipo 'PVBin' com params: {'method': 'binary', 'query': 'binary', 'norm': None, 'query_norm': None, 'ngram_range': [1, 2]}\n",
      "Model Factory (PVBin): Convertido ngram_range [1, 2] para tupla (1, 2)\n",
      "Fitting ProductVectorizerClassifier com 100 amostras...\n",
      "Fit concluído.\n",
      "Model Factory: Criando tipo 'PVBin' com params: {'method': 'binary', 'query': 'binary', 'norm': None, 'query_norm': None, 'ngram_range': [1, 2]}\n",
      "Model Factory (PVBin): Convertido ngram_range [1, 2] para tupla (1, 2)\n",
      "Fitting ProductVectorizerClassifier com 100 amostras...\n",
      "Fit concluído.\n",
      "Model Factory: Criando tipo 'PVBin' com params: {'method': 'binary', 'query': 'binary', 'norm': None, 'query_norm': None, 'ngram_range': [1, 2]}\n",
      "Model Factory (PVBin): Convertido ngram_range [1, 2] para tupla (1, 2)\n",
      "Fitting ProductVectorizerClassifier com 100 amostras...\n",
      "Fit concluído.\n",
      "Model Factory: Criando tipo 'PVBin' com params: {'method': 'binary', 'query': 'binary', 'norm': None, 'query_norm': None, 'ngram_range': [1, 2]}\n",
      "Model Factory (PVBin): Convertido ngram_range [1, 2] para tupla (1, 2)\n",
      "Fitting ProductVectorizerClassifier com 100 amostras...\n",
      "Fit concluído.\n",
      "Model Factory: Criando tipo 'PVBin' com params: {'method': 'binary', 'query': 'binary', 'norm': None, 'query_norm': None, 'ngram_range': [1, 2]}\n",
      "Model Factory (PVBin): Convertido ngram_range [1, 2] para tupla (1, 2)\n",
      "Fitting ProductVectorizerClassifier com 100 amostras...\n",
      "Fit concluído.\n",
      "Model Factory: Criando tipo 'PVBin' com params: {'method': 'binary', 'query': 'binary', 'norm': None, 'query_norm': None, 'ngram_range': [1, 2]}\n",
      "Model Factory (PVBin): Convertido ngram_range [1, 2] para tupla (1, 2)\n",
      "Fitting ProductVectorizerClassifier com 100 amostras...\n",
      "Fit concluído.\n",
      "    Novo melhor (Obj: maximize): Perf Real=0.3604\n",
      "    Acc Real Geração 72: Max=0.3604, Avg=0.3562, Min=0.3484\n",
      "    F1 Real Geração  72: Max=0.0447, Avg=0.0436, Min=0.0417\n",
      "    Duração Geração 72: 35.60s\n",
      "\n",
      "  Geração 73/100\n"
     ]
    },
    {
     "data": {
      "application/vnd.jupyter.widget-view+json": {
       "model_id": "1accd521e6484a1c9cf41567dcc48a70",
       "version_major": 2,
       "version_minor": 0
      },
      "text/plain": [
       "Fitness Calc Gen 73:   0%|          | 0/20 [00:00<?, ?it/s]"
      ]
     },
     "metadata": {},
     "output_type": "display_data"
    },
    {
     "name": "stdout",
     "output_type": "stream",
     "text": [
      "Model Factory: Criando tipo 'PVBin' com params: {'method': 'binary', 'query': 'binary', 'norm': None, 'query_norm': None, 'ngram_range': [1, 2]}\n",
      "Model Factory (PVBin): Convertido ngram_range [1, 2] para tupla (1, 2)\n",
      "Fitting ProductVectorizerClassifier com 100 amostras...\n",
      "Fit concluído.\n",
      "Model Factory: Criando tipo 'PVBin' com params: {'method': 'binary', 'query': 'binary', 'norm': None, 'query_norm': None, 'ngram_range': [1, 2]}\n",
      "Model Factory (PVBin): Convertido ngram_range [1, 2] para tupla (1, 2)\n",
      "Fitting ProductVectorizerClassifier com 100 amostras...\n",
      "Fit concluído.\n",
      "Model Factory: Criando tipo 'PVBin' com params: {'method': 'binary', 'query': 'binary', 'norm': None, 'query_norm': None, 'ngram_range': [1, 2]}\n",
      "Model Factory (PVBin): Convertido ngram_range [1, 2] para tupla (1, 2)\n",
      "Fitting ProductVectorizerClassifier com 100 amostras...\n",
      "Fit concluído.\n",
      "Model Factory: Criando tipo 'PVBin' com params: {'method': 'binary', 'query': 'binary', 'norm': None, 'query_norm': None, 'ngram_range': [1, 2]}\n",
      "Model Factory (PVBin): Convertido ngram_range [1, 2] para tupla (1, 2)\n",
      "Fitting ProductVectorizerClassifier com 100 amostras...\n",
      "Fit concluído.\n",
      "Model Factory: Criando tipo 'PVBin' com params: {'method': 'binary', 'query': 'binary', 'norm': None, 'query_norm': None, 'ngram_range': [1, 2]}\n",
      "Model Factory (PVBin): Convertido ngram_range [1, 2] para tupla (1, 2)\n",
      "Fitting ProductVectorizerClassifier com 100 amostras...\n",
      "Fit concluído.\n",
      "Model Factory: Criando tipo 'PVBin' com params: {'method': 'binary', 'query': 'binary', 'norm': None, 'query_norm': None, 'ngram_range': [1, 2]}\n",
      "Model Factory (PVBin): Convertido ngram_range [1, 2] para tupla (1, 2)\n",
      "Fitting ProductVectorizerClassifier com 100 amostras...\n",
      "Fit concluído.\n",
      "Model Factory: Criando tipo 'PVBin' com params: {'method': 'binary', 'query': 'binary', 'norm': None, 'query_norm': None, 'ngram_range': [1, 2]}\n",
      "Model Factory (PVBin): Convertido ngram_range [1, 2] para tupla (1, 2)\n",
      "Fitting ProductVectorizerClassifier com 100 amostras...\n",
      "Fit concluído.\n",
      "Model Factory: Criando tipo 'PVBin' com params: {'method': 'binary', 'query': 'binary', 'norm': None, 'query_norm': None, 'ngram_range': [1, 2]}\n",
      "Model Factory (PVBin): Convertido ngram_range [1, 2] para tupla (1, 2)\n",
      "Fitting ProductVectorizerClassifier com 100 amostras...\n",
      "Fit concluído.\n",
      "    Acc Real Geração 73: Max=0.3604, Avg=0.3564, Min=0.3471\n",
      "    F1 Real Geração  73: Max=0.0447, Avg=0.0439, Min=0.0420\n",
      "    Duração Geração 73: 48.79s\n",
      "\n",
      "  Geração 74/100\n"
     ]
    },
    {
     "data": {
      "application/vnd.jupyter.widget-view+json": {
       "model_id": "c644ef4622cd4553b61d428341133402",
       "version_major": 2,
       "version_minor": 0
      },
      "text/plain": [
       "Fitness Calc Gen 74:   0%|          | 0/20 [00:00<?, ?it/s]"
      ]
     },
     "metadata": {},
     "output_type": "display_data"
    },
    {
     "name": "stdout",
     "output_type": "stream",
     "text": [
      "Model Factory: Criando tipo 'PVBin' com params: {'method': 'binary', 'query': 'binary', 'norm': None, 'query_norm': None, 'ngram_range': [1, 2]}\n",
      "Model Factory (PVBin): Convertido ngram_range [1, 2] para tupla (1, 2)\n",
      "Fitting ProductVectorizerClassifier com 100 amostras...\n",
      "Fit concluído.\n",
      "Model Factory: Criando tipo 'PVBin' com params: {'method': 'binary', 'query': 'binary', 'norm': None, 'query_norm': None, 'ngram_range': [1, 2]}\n",
      "Model Factory (PVBin): Convertido ngram_range [1, 2] para tupla (1, 2)\n",
      "Fitting ProductVectorizerClassifier com 100 amostras...\n",
      "Fit concluído.\n",
      "Model Factory: Criando tipo 'PVBin' com params: {'method': 'binary', 'query': 'binary', 'norm': None, 'query_norm': None, 'ngram_range': [1, 2]}\n",
      "Model Factory (PVBin): Convertido ngram_range [1, 2] para tupla (1, 2)\n",
      "Fitting ProductVectorizerClassifier com 100 amostras...\n",
      "Fit concluído.\n",
      "Model Factory: Criando tipo 'PVBin' com params: {'method': 'binary', 'query': 'binary', 'norm': None, 'query_norm': None, 'ngram_range': [1, 2]}\n",
      "Model Factory (PVBin): Convertido ngram_range [1, 2] para tupla (1, 2)\n",
      "Fitting ProductVectorizerClassifier com 100 amostras...\n",
      "Fit concluído.\n",
      "    Acc Real Geração 74: Max=0.3604, Avg=0.3589, Min=0.3523\n",
      "    F1 Real Geração  74: Max=0.0447, Avg=0.0444, Min=0.0421\n",
      "    Duração Geração 74: 25.15s\n",
      "\n",
      "  Geração 75/100\n"
     ]
    },
    {
     "data": {
      "application/vnd.jupyter.widget-view+json": {
       "model_id": "fe63d67a6a8544d1a87dd1ef3f837b4b",
       "version_major": 2,
       "version_minor": 0
      },
      "text/plain": [
       "Fitness Calc Gen 75:   0%|          | 0/20 [00:00<?, ?it/s]"
      ]
     },
     "metadata": {},
     "output_type": "display_data"
    },
    {
     "name": "stdout",
     "output_type": "stream",
     "text": [
      "Model Factory: Criando tipo 'PVBin' com params: {'method': 'binary', 'query': 'binary', 'norm': None, 'query_norm': None, 'ngram_range': [1, 2]}\n",
      "Model Factory (PVBin): Convertido ngram_range [1, 2] para tupla (1, 2)\n",
      "Fitting ProductVectorizerClassifier com 100 amostras...\n",
      "Fit concluído.\n",
      "Model Factory: Criando tipo 'PVBin' com params: {'method': 'binary', 'query': 'binary', 'norm': None, 'query_norm': None, 'ngram_range': [1, 2]}\n",
      "Model Factory (PVBin): Convertido ngram_range [1, 2] para tupla (1, 2)\n",
      "Fitting ProductVectorizerClassifier com 100 amostras...\n",
      "Fit concluído.\n",
      "Model Factory: Criando tipo 'PVBin' com params: {'method': 'binary', 'query': 'binary', 'norm': None, 'query_norm': None, 'ngram_range': [1, 2]}\n",
      "Model Factory (PVBin): Convertido ngram_range [1, 2] para tupla (1, 2)\n",
      "Fitting ProductVectorizerClassifier com 100 amostras...\n",
      "Fit concluído.\n",
      "Model Factory: Criando tipo 'PVBin' com params: {'method': 'binary', 'query': 'binary', 'norm': None, 'query_norm': None, 'ngram_range': [1, 2]}\n",
      "Model Factory (PVBin): Convertido ngram_range [1, 2] para tupla (1, 2)\n",
      "Fitting ProductVectorizerClassifier com 100 amostras...\n",
      "Fit concluído.\n",
      "    Acc Real Geração 75: Max=0.3604, Avg=0.3579, Min=0.3439\n",
      "    F1 Real Geração  75: Max=0.0448, Avg=0.0444, Min=0.0417\n",
      "    Duração Geração 75: 23.56s\n",
      "\n",
      "  Geração 76/100\n"
     ]
    },
    {
     "data": {
      "application/vnd.jupyter.widget-view+json": {
       "model_id": "d08ff727f0e84ff4823571a8db124d72",
       "version_major": 2,
       "version_minor": 0
      },
      "text/plain": [
       "Fitness Calc Gen 76:   0%|          | 0/20 [00:00<?, ?it/s]"
      ]
     },
     "metadata": {},
     "output_type": "display_data"
    },
    {
     "name": "stdout",
     "output_type": "stream",
     "text": [
      "Model Factory: Criando tipo 'PVBin' com params: {'method': 'binary', 'query': 'binary', 'norm': None, 'query_norm': None, 'ngram_range': [1, 2]}\n",
      "Model Factory (PVBin): Convertido ngram_range [1, 2] para tupla (1, 2)\n",
      "Fitting ProductVectorizerClassifier com 100 amostras...\n",
      "Fit concluído.\n",
      "Model Factory: Criando tipo 'PVBin' com params: {'method': 'binary', 'query': 'binary', 'norm': None, 'query_norm': None, 'ngram_range': [1, 2]}\n",
      "Model Factory (PVBin): Convertido ngram_range [1, 2] para tupla (1, 2)\n",
      "Fitting ProductVectorizerClassifier com 100 amostras...\n",
      "Fit concluído.\n",
      "    Acc Real Geração 76: Max=0.3604, Avg=0.3599, Min=0.3534\n",
      "    F1 Real Geração  76: Max=0.0447, Avg=0.0446, Min=0.0436\n",
      "    Duração Geração 76: 12.21s\n",
      "\n",
      "  Geração 77/100\n"
     ]
    },
    {
     "data": {
      "application/vnd.jupyter.widget-view+json": {
       "model_id": "64152902208d47ab9ae047f13c55787e",
       "version_major": 2,
       "version_minor": 0
      },
      "text/plain": [
       "Fitness Calc Gen 77:   0%|          | 0/20 [00:00<?, ?it/s]"
      ]
     },
     "metadata": {},
     "output_type": "display_data"
    },
    {
     "name": "stdout",
     "output_type": "stream",
     "text": [
      "Model Factory: Criando tipo 'PVBin' com params: {'method': 'binary', 'query': 'binary', 'norm': None, 'query_norm': None, 'ngram_range': [1, 2]}\n",
      "Model Factory (PVBin): Convertido ngram_range [1, 2] para tupla (1, 2)\n",
      "Fitting ProductVectorizerClassifier com 100 amostras...\n",
      "Fit concluído.\n",
      "Model Factory: Criando tipo 'PVBin' com params: {'method': 'binary', 'query': 'binary', 'norm': None, 'query_norm': None, 'ngram_range': [1, 2]}\n",
      "Model Factory (PVBin): Convertido ngram_range [1, 2] para tupla (1, 2)\n",
      "Fitting ProductVectorizerClassifier com 100 amostras...\n",
      "Fit concluído.\n",
      "    Acc Real Geração 77: Max=0.3604, Avg=0.3599, Min=0.3518\n",
      "    F1 Real Geração  77: Max=0.0447, Avg=0.0446, Min=0.0430\n",
      "    Duração Geração 77: 12.09s\n",
      "\n",
      "  Geração 78/100\n"
     ]
    },
    {
     "data": {
      "application/vnd.jupyter.widget-view+json": {
       "model_id": "320f17f21bd74a5087c82e4030ad00f5",
       "version_major": 2,
       "version_minor": 0
      },
      "text/plain": [
       "Fitness Calc Gen 78:   0%|          | 0/20 [00:00<?, ?it/s]"
      ]
     },
     "metadata": {},
     "output_type": "display_data"
    },
    {
     "name": "stdout",
     "output_type": "stream",
     "text": [
      "Model Factory: Criando tipo 'PVBin' com params: {'method': 'binary', 'query': 'binary', 'norm': None, 'query_norm': None, 'ngram_range': [1, 2]}\n",
      "Model Factory (PVBin): Convertido ngram_range [1, 2] para tupla (1, 2)\n",
      "Fitting ProductVectorizerClassifier com 100 amostras...\n",
      "Fit concluído.\n",
      "Model Factory: Criando tipo 'PVBin' com params: {'method': 'binary', 'query': 'binary', 'norm': None, 'query_norm': None, 'ngram_range': [1, 2]}\n",
      "Model Factory (PVBin): Convertido ngram_range [1, 2] para tupla (1, 2)\n",
      "Fitting ProductVectorizerClassifier com 100 amostras...\n",
      "Fit concluído.\n",
      "Model Factory: Criando tipo 'PVBin' com params: {'method': 'binary', 'query': 'binary', 'norm': None, 'query_norm': None, 'ngram_range': [1, 2]}\n",
      "Model Factory (PVBin): Convertido ngram_range [1, 2] para tupla (1, 2)\n",
      "Fitting ProductVectorizerClassifier com 100 amostras...\n",
      "Fit concluído.\n",
      "    Acc Real Geração 78: Max=0.3604, Avg=0.3599, Min=0.3545\n",
      "    F1 Real Geração  78: Max=0.0462, Avg=0.0446, Min=0.0430\n",
      "    Duração Geração 78: 18.66s\n",
      "\n",
      "  Geração 79/100\n"
     ]
    },
    {
     "data": {
      "application/vnd.jupyter.widget-view+json": {
       "model_id": "b6df473e2e93498b83b4338c1ceca638",
       "version_major": 2,
       "version_minor": 0
      },
      "text/plain": [
       "Fitness Calc Gen 79:   0%|          | 0/20 [00:00<?, ?it/s]"
      ]
     },
     "metadata": {},
     "output_type": "display_data"
    },
    {
     "name": "stdout",
     "output_type": "stream",
     "text": [
      "Model Factory: Criando tipo 'PVBin' com params: {'method': 'binary', 'query': 'binary', 'norm': None, 'query_norm': None, 'ngram_range': [1, 2]}\n",
      "Model Factory (PVBin): Convertido ngram_range [1, 2] para tupla (1, 2)\n",
      "Fitting ProductVectorizerClassifier com 100 amostras...\n",
      "Fit concluído.\n",
      "Model Factory: Criando tipo 'PVBin' com params: {'method': 'binary', 'query': 'binary', 'norm': None, 'query_norm': None, 'ngram_range': [1, 2]}\n",
      "Model Factory (PVBin): Convertido ngram_range [1, 2] para tupla (1, 2)\n",
      "Fitting ProductVectorizerClassifier com 100 amostras...\n",
      "Fit concluído.\n",
      "Model Factory: Criando tipo 'PVBin' com params: {'method': 'binary', 'query': 'binary', 'norm': None, 'query_norm': None, 'ngram_range': [1, 2]}\n",
      "Model Factory (PVBin): Convertido ngram_range [1, 2] para tupla (1, 2)\n",
      "Fitting ProductVectorizerClassifier com 100 amostras...\n",
      "Fit concluído.\n",
      "Model Factory: Criando tipo 'PVBin' com params: {'method': 'binary', 'query': 'binary', 'norm': None, 'query_norm': None, 'ngram_range': [1, 2]}\n",
      "Model Factory (PVBin): Convertido ngram_range [1, 2] para tupla (1, 2)\n",
      "Fitting ProductVectorizerClassifier com 100 amostras...\n",
      "Fit concluído.\n",
      "    Acc Real Geração 79: Max=0.3604, Avg=0.3586, Min=0.3467\n",
      "    F1 Real Geração  79: Max=0.0456, Avg=0.0446, Min=0.0428\n",
      "    Duração Geração 79: 24.22s\n",
      "\n",
      "  Geração 80/100\n"
     ]
    },
    {
     "data": {
      "application/vnd.jupyter.widget-view+json": {
       "model_id": "071e165861bf49f6a6c6ad85af36e822",
       "version_major": 2,
       "version_minor": 0
      },
      "text/plain": [
       "Fitness Calc Gen 80:   0%|          | 0/20 [00:00<?, ?it/s]"
      ]
     },
     "metadata": {},
     "output_type": "display_data"
    },
    {
     "name": "stdout",
     "output_type": "stream",
     "text": [
      "Model Factory: Criando tipo 'PVBin' com params: {'method': 'binary', 'query': 'binary', 'norm': None, 'query_norm': None, 'ngram_range': [1, 2]}\n",
      "Model Factory (PVBin): Convertido ngram_range [1, 2] para tupla (1, 2)\n",
      "Fitting ProductVectorizerClassifier com 100 amostras...\n",
      "Fit concluído.\n",
      "Model Factory: Criando tipo 'PVBin' com params: {'method': 'binary', 'query': 'binary', 'norm': None, 'query_norm': None, 'ngram_range': [1, 2]}\n",
      "Model Factory (PVBin): Convertido ngram_range [1, 2] para tupla (1, 2)\n",
      "Fitting ProductVectorizerClassifier com 100 amostras...\n",
      "Fit concluído.\n",
      "Model Factory: Criando tipo 'PVBin' com params: {'method': 'binary', 'query': 'binary', 'norm': None, 'query_norm': None, 'ngram_range': [1, 2]}\n",
      "Model Factory (PVBin): Convertido ngram_range [1, 2] para tupla (1, 2)\n",
      "Fitting ProductVectorizerClassifier com 100 amostras...\n",
      "Fit concluído.\n",
      "Model Factory: Criando tipo 'PVBin' com params: {'method': 'binary', 'query': 'binary', 'norm': None, 'query_norm': None, 'ngram_range': [1, 2]}\n",
      "Model Factory (PVBin): Convertido ngram_range [1, 2] para tupla (1, 2)\n",
      "Fitting ProductVectorizerClassifier com 100 amostras...\n",
      "Fit concluído.\n",
      "    Novo melhor (Obj: maximize): Perf Real=0.3607\n",
      "    Acc Real Geração 80: Max=0.3607, Avg=0.3584, Min=0.3467\n",
      "    F1 Real Geração  80: Max=0.0456, Avg=0.0443, Min=0.0419\n",
      "    Duração Geração 80: 24.25s\n",
      "\n",
      "  Geração 81/100\n"
     ]
    },
    {
     "data": {
      "application/vnd.jupyter.widget-view+json": {
       "model_id": "4ebd73c5d82a4023a5416a29b799590d",
       "version_major": 2,
       "version_minor": 0
      },
      "text/plain": [
       "Fitness Calc Gen 81:   0%|          | 0/20 [00:00<?, ?it/s]"
      ]
     },
     "metadata": {},
     "output_type": "display_data"
    },
    {
     "name": "stdout",
     "output_type": "stream",
     "text": [
      "Model Factory: Criando tipo 'PVBin' com params: {'method': 'binary', 'query': 'binary', 'norm': None, 'query_norm': None, 'ngram_range': [1, 2]}\n",
      "Model Factory (PVBin): Convertido ngram_range [1, 2] para tupla (1, 2)\n",
      "Fitting ProductVectorizerClassifier com 100 amostras...\n",
      "Fit concluído.\n",
      "Model Factory: Criando tipo 'PVBin' com params: {'method': 'binary', 'query': 'binary', 'norm': None, 'query_norm': None, 'ngram_range': [1, 2]}\n",
      "Model Factory (PVBin): Convertido ngram_range [1, 2] para tupla (1, 2)\n",
      "Fitting ProductVectorizerClassifier com 100 amostras...\n",
      "Fit concluído.\n",
      "    Novo melhor (Obj: maximize): Perf Real=0.3619\n",
      "    Acc Real Geração 81: Max=0.3619, Avg=0.3605, Min=0.3592\n",
      "    F1 Real Geração  81: Max=0.0447, Avg=0.0445, Min=0.0437\n",
      "    Duração Geração 81: 12.55s\n",
      "\n",
      "  Geração 82/100\n"
     ]
    },
    {
     "data": {
      "application/vnd.jupyter.widget-view+json": {
       "model_id": "9aae366b4ae54e6289ebc786fb4d3af4",
       "version_major": 2,
       "version_minor": 0
      },
      "text/plain": [
       "Fitness Calc Gen 82:   0%|          | 0/20 [00:00<?, ?it/s]"
      ]
     },
     "metadata": {},
     "output_type": "display_data"
    },
    {
     "name": "stdout",
     "output_type": "stream",
     "text": [
      "Model Factory: Criando tipo 'PVBin' com params: {'method': 'binary', 'query': 'binary', 'norm': None, 'query_norm': None, 'ngram_range': [1, 2]}\n",
      "Model Factory (PVBin): Convertido ngram_range [1, 2] para tupla (1, 2)\n",
      "Fitting ProductVectorizerClassifier com 100 amostras...\n",
      "Fit concluído.\n",
      "Model Factory: Criando tipo 'PVBin' com params: {'method': 'binary', 'query': 'binary', 'norm': None, 'query_norm': None, 'ngram_range': [1, 2]}\n",
      "Model Factory (PVBin): Convertido ngram_range [1, 2] para tupla (1, 2)\n",
      "Fitting ProductVectorizerClassifier com 100 amostras...\n",
      "Fit concluído.\n",
      "Model Factory: Criando tipo 'PVBin' com params: {'method': 'binary', 'query': 'binary', 'norm': None, 'query_norm': None, 'ngram_range': [1, 2]}\n",
      "Model Factory (PVBin): Convertido ngram_range [1, 2] para tupla (1, 2)\n",
      "Fitting ProductVectorizerClassifier com 100 amostras...\n",
      "Fit concluído.\n",
      "    Novo melhor (Obj: maximize): Perf Real=0.3642\n",
      "    Acc Real Geração 82: Max=0.3642, Avg=0.3602, Min=0.3502\n",
      "    F1 Real Geração  82: Max=0.0456, Avg=0.0444, Min=0.0434\n",
      "    Duração Geração 82: 17.86s\n",
      "\n",
      "  Geração 83/100\n"
     ]
    },
    {
     "data": {
      "application/vnd.jupyter.widget-view+json": {
       "model_id": "a947019f3fb248c7ab0841c4c5e2a00c",
       "version_major": 2,
       "version_minor": 0
      },
      "text/plain": [
       "Fitness Calc Gen 83:   0%|          | 0/20 [00:00<?, ?it/s]"
      ]
     },
     "metadata": {},
     "output_type": "display_data"
    },
    {
     "name": "stdout",
     "output_type": "stream",
     "text": [
      "Model Factory: Criando tipo 'PVBin' com params: {'method': 'binary', 'query': 'binary', 'norm': None, 'query_norm': None, 'ngram_range': [1, 2]}\n",
      "Model Factory (PVBin): Convertido ngram_range [1, 2] para tupla (1, 2)\n",
      "Fitting ProductVectorizerClassifier com 100 amostras...\n",
      "Fit concluído.\n",
      "Model Factory: Criando tipo 'PVBin' com params: {'method': 'binary', 'query': 'binary', 'norm': None, 'query_norm': None, 'ngram_range': [1, 2]}\n",
      "Model Factory (PVBin): Convertido ngram_range [1, 2] para tupla (1, 2)\n",
      "Fitting ProductVectorizerClassifier com 100 amostras...\n",
      "Fit concluído.\n",
      "Model Factory: Criando tipo 'PVBin' com params: {'method': 'binary', 'query': 'binary', 'norm': None, 'query_norm': None, 'ngram_range': [1, 2]}\n",
      "Model Factory (PVBin): Convertido ngram_range [1, 2] para tupla (1, 2)\n",
      "Fitting ProductVectorizerClassifier com 100 amostras...\n",
      "Fit concluído.\n",
      "Model Factory: Criando tipo 'PVBin' com params: {'method': 'binary', 'query': 'binary', 'norm': None, 'query_norm': None, 'ngram_range': [1, 2]}\n",
      "Model Factory (PVBin): Convertido ngram_range [1, 2] para tupla (1, 2)\n",
      "Fitting ProductVectorizerClassifier com 100 amostras...\n",
      "Fit concluído.\n",
      "    Acc Real Geração 83: Max=0.3642, Avg=0.3601, Min=0.3477\n",
      "    F1 Real Geração  83: Max=0.0456, Avg=0.0441, Min=0.0426\n",
      "    Duração Geração 83: 24.41s\n",
      "\n",
      "  Geração 84/100\n"
     ]
    },
    {
     "data": {
      "application/vnd.jupyter.widget-view+json": {
       "model_id": "79d0a84533584529ab1d2c373dc2ec51",
       "version_major": 2,
       "version_minor": 0
      },
      "text/plain": [
       "Fitness Calc Gen 84:   0%|          | 0/20 [00:00<?, ?it/s]"
      ]
     },
     "metadata": {},
     "output_type": "display_data"
    },
    {
     "name": "stdout",
     "output_type": "stream",
     "text": [
      "Model Factory: Criando tipo 'PVBin' com params: {'method': 'binary', 'query': 'binary', 'norm': None, 'query_norm': None, 'ngram_range': [1, 2]}\n",
      "Model Factory (PVBin): Convertido ngram_range [1, 2] para tupla (1, 2)\n",
      "Fitting ProductVectorizerClassifier com 100 amostras...\n",
      "Fit concluído.\n",
      "Model Factory: Criando tipo 'PVBin' com params: {'method': 'binary', 'query': 'binary', 'norm': None, 'query_norm': None, 'ngram_range': [1, 2]}\n",
      "Model Factory (PVBin): Convertido ngram_range [1, 2] para tupla (1, 2)\n",
      "Fitting ProductVectorizerClassifier com 100 amostras...\n",
      "Fit concluído.\n",
      "Model Factory: Criando tipo 'PVBin' com params: {'method': 'binary', 'query': 'binary', 'norm': None, 'query_norm': None, 'ngram_range': [1, 2]}\n",
      "Model Factory (PVBin): Convertido ngram_range [1, 2] para tupla (1, 2)\n",
      "Fitting ProductVectorizerClassifier com 100 amostras...\n",
      "Fit concluído.\n",
      "Model Factory: Criando tipo 'PVBin' com params: {'method': 'binary', 'query': 'binary', 'norm': None, 'query_norm': None, 'ngram_range': [1, 2]}\n",
      "Model Factory (PVBin): Convertido ngram_range [1, 2] para tupla (1, 2)\n",
      "Fitting ProductVectorizerClassifier com 100 amostras...\n",
      "Fit concluído.\n",
      "Model Factory: Criando tipo 'PVBin' com params: {'method': 'binary', 'query': 'binary', 'norm': None, 'query_norm': None, 'ngram_range': [1, 2]}\n",
      "Model Factory (PVBin): Convertido ngram_range [1, 2] para tupla (1, 2)\n",
      "Fitting ProductVectorizerClassifier com 100 amostras...\n",
      "Fit concluído.\n",
      "Model Factory: Criando tipo 'PVBin' com params: {'method': 'binary', 'query': 'binary', 'norm': None, 'query_norm': None, 'ngram_range': [1, 2]}\n",
      "Model Factory (PVBin): Convertido ngram_range [1, 2] para tupla (1, 2)\n",
      "Fitting ProductVectorizerClassifier com 100 amostras...\n",
      "Fit concluído.\n",
      "Model Factory: Criando tipo 'PVBin' com params: {'method': 'binary', 'query': 'binary', 'norm': None, 'query_norm': None, 'ngram_range': [1, 2]}\n",
      "Model Factory (PVBin): Convertido ngram_range [1, 2] para tupla (1, 2)\n",
      "Fitting ProductVectorizerClassifier com 100 amostras...\n",
      "Fit concluído.\n",
      "    Acc Real Geração 84: Max=0.3642, Avg=0.3615, Min=0.3544\n",
      "    F1 Real Geração  84: Max=0.0457, Avg=0.0445, Min=0.0436\n",
      "    Duração Geração 84: 43.56s\n",
      "\n",
      "  Geração 85/100\n"
     ]
    },
    {
     "data": {
      "application/vnd.jupyter.widget-view+json": {
       "model_id": "03d35a03bd5d4d7fbd4325be8c54a9dc",
       "version_major": 2,
       "version_minor": 0
      },
      "text/plain": [
       "Fitness Calc Gen 85:   0%|          | 0/20 [00:00<?, ?it/s]"
      ]
     },
     "metadata": {},
     "output_type": "display_data"
    },
    {
     "name": "stdout",
     "output_type": "stream",
     "text": [
      "Model Factory: Criando tipo 'PVBin' com params: {'method': 'binary', 'query': 'binary', 'norm': None, 'query_norm': None, 'ngram_range': [1, 2]}\n",
      "Model Factory (PVBin): Convertido ngram_range [1, 2] para tupla (1, 2)\n",
      "Fitting ProductVectorizerClassifier com 100 amostras...\n",
      "Fit concluído.\n",
      "Model Factory: Criando tipo 'PVBin' com params: {'method': 'binary', 'query': 'binary', 'norm': None, 'query_norm': None, 'ngram_range': [1, 2]}\n",
      "Model Factory (PVBin): Convertido ngram_range [1, 2] para tupla (1, 2)\n",
      "Fitting ProductVectorizerClassifier com 100 amostras...\n",
      "Fit concluído.\n",
      "Model Factory: Criando tipo 'PVBin' com params: {'method': 'binary', 'query': 'binary', 'norm': None, 'query_norm': None, 'ngram_range': [1, 2]}\n",
      "Model Factory (PVBin): Convertido ngram_range [1, 2] para tupla (1, 2)\n",
      "Fitting ProductVectorizerClassifier com 100 amostras...\n",
      "Fit concluído.\n",
      "Model Factory: Criando tipo 'PVBin' com params: {'method': 'binary', 'query': 'binary', 'norm': None, 'query_norm': None, 'ngram_range': [1, 2]}\n",
      "Model Factory (PVBin): Convertido ngram_range [1, 2] para tupla (1, 2)\n",
      "Fitting ProductVectorizerClassifier com 100 amostras...\n",
      "Fit concluído.\n",
      "    Acc Real Geração 85: Max=0.3642, Avg=0.3624, Min=0.3559\n",
      "    F1 Real Geração  85: Max=0.0457, Avg=0.0450, Min=0.0441\n",
      "    Duração Geração 85: 24.19s\n",
      "\n",
      "  Geração 86/100\n"
     ]
    },
    {
     "data": {
      "application/vnd.jupyter.widget-view+json": {
       "model_id": "fc98e09e97c24fc29138182c6344e990",
       "version_major": 2,
       "version_minor": 0
      },
      "text/plain": [
       "Fitness Calc Gen 86:   0%|          | 0/20 [00:00<?, ?it/s]"
      ]
     },
     "metadata": {},
     "output_type": "display_data"
    },
    {
     "name": "stdout",
     "output_type": "stream",
     "text": [
      "Model Factory: Criando tipo 'PVBin' com params: {'method': 'binary', 'query': 'binary', 'norm': None, 'query_norm': None, 'ngram_range': [1, 2]}\n",
      "Model Factory (PVBin): Convertido ngram_range [1, 2] para tupla (1, 2)\n",
      "Fitting ProductVectorizerClassifier com 100 amostras...\n",
      "Fit concluído.\n",
      "Model Factory: Criando tipo 'PVBin' com params: {'method': 'binary', 'query': 'binary', 'norm': None, 'query_norm': None, 'ngram_range': [1, 2]}\n",
      "Model Factory (PVBin): Convertido ngram_range [1, 2] para tupla (1, 2)\n",
      "Fitting ProductVectorizerClassifier com 100 amostras...\n",
      "Fit concluído.\n",
      "Model Factory: Criando tipo 'PVBin' com params: {'method': 'binary', 'query': 'binary', 'norm': None, 'query_norm': None, 'ngram_range': [1, 2]}\n",
      "Model Factory (PVBin): Convertido ngram_range [1, 2] para tupla (1, 2)\n",
      "Fitting ProductVectorizerClassifier com 100 amostras...\n",
      "Fit concluído.\n",
      "Model Factory: Criando tipo 'PVBin' com params: {'method': 'binary', 'query': 'binary', 'norm': None, 'query_norm': None, 'ngram_range': [1, 2]}\n",
      "Model Factory (PVBin): Convertido ngram_range [1, 2] para tupla (1, 2)\n",
      "Fitting ProductVectorizerClassifier com 100 amostras...\n",
      "Fit concluído.\n",
      "Model Factory: Criando tipo 'PVBin' com params: {'method': 'binary', 'query': 'binary', 'norm': None, 'query_norm': None, 'ngram_range': [1, 2]}\n",
      "Model Factory (PVBin): Convertido ngram_range [1, 2] para tupla (1, 2)\n",
      "Fitting ProductVectorizerClassifier com 100 amostras...\n",
      "Fit concluído.\n",
      "Model Factory: Criando tipo 'PVBin' com params: {'method': 'binary', 'query': 'binary', 'norm': None, 'query_norm': None, 'ngram_range': [1, 2]}\n",
      "Model Factory (PVBin): Convertido ngram_range [1, 2] para tupla (1, 2)\n",
      "Fitting ProductVectorizerClassifier com 100 amostras...\n",
      "Fit concluído.\n",
      "    Novo melhor (Obj: maximize): Perf Real=0.3642\n",
      "    Acc Real Geração 86: Max=0.3642, Avg=0.3626, Min=0.3535\n",
      "    F1 Real Geração  86: Max=0.0457, Avg=0.0453, Min=0.0433\n",
      "    Duração Geração 86: 36.13s\n",
      "\n",
      "  Geração 87/100\n"
     ]
    },
    {
     "data": {
      "application/vnd.jupyter.widget-view+json": {
       "model_id": "823fba27935148b0a415fb839fced024",
       "version_major": 2,
       "version_minor": 0
      },
      "text/plain": [
       "Fitness Calc Gen 87:   0%|          | 0/20 [00:00<?, ?it/s]"
      ]
     },
     "metadata": {},
     "output_type": "display_data"
    },
    {
     "name": "stdout",
     "output_type": "stream",
     "text": [
      "Model Factory: Criando tipo 'PVBin' com params: {'method': 'binary', 'query': 'binary', 'norm': None, 'query_norm': None, 'ngram_range': [1, 2]}\n",
      "Model Factory (PVBin): Convertido ngram_range [1, 2] para tupla (1, 2)\n",
      "Fitting ProductVectorizerClassifier com 100 amostras...\n",
      "Fit concluído.\n",
      "Model Factory: Criando tipo 'PVBin' com params: {'method': 'binary', 'query': 'binary', 'norm': None, 'query_norm': None, 'ngram_range': [1, 2]}\n",
      "Model Factory (PVBin): Convertido ngram_range [1, 2] para tupla (1, 2)\n",
      "Fitting ProductVectorizerClassifier com 100 amostras...\n",
      "Fit concluído.\n",
      "Model Factory: Criando tipo 'PVBin' com params: {'method': 'binary', 'query': 'binary', 'norm': None, 'query_norm': None, 'ngram_range': [1, 2]}\n",
      "Model Factory (PVBin): Convertido ngram_range [1, 2] para tupla (1, 2)\n",
      "Fitting ProductVectorizerClassifier com 100 amostras...\n",
      "Fit concluído.\n",
      "Model Factory: Criando tipo 'PVBin' com params: {'method': 'binary', 'query': 'binary', 'norm': None, 'query_norm': None, 'ngram_range': [1, 2]}\n",
      "Model Factory (PVBin): Convertido ngram_range [1, 2] para tupla (1, 2)\n",
      "Fitting ProductVectorizerClassifier com 100 amostras...\n",
      "Fit concluído.\n",
      "Model Factory: Criando tipo 'PVBin' com params: {'method': 'binary', 'query': 'binary', 'norm': None, 'query_norm': None, 'ngram_range': [1, 2]}\n",
      "Model Factory (PVBin): Convertido ngram_range [1, 2] para tupla (1, 2)\n",
      "Fitting ProductVectorizerClassifier com 100 amostras...\n",
      "Fit concluído.\n",
      "    Acc Real Geração 87: Max=0.3642, Avg=0.3622, Min=0.3503\n",
      "    F1 Real Geração  87: Max=0.0457, Avg=0.0452, Min=0.0438\n",
      "    Duração Geração 87: 30.78s\n",
      "\n",
      "  Geração 88/100\n"
     ]
    },
    {
     "data": {
      "application/vnd.jupyter.widget-view+json": {
       "model_id": "9d2b7c816eb14ec69e172bd5f5d860a6",
       "version_major": 2,
       "version_minor": 0
      },
      "text/plain": [
       "Fitness Calc Gen 88:   0%|          | 0/20 [00:00<?, ?it/s]"
      ]
     },
     "metadata": {},
     "output_type": "display_data"
    },
    {
     "name": "stdout",
     "output_type": "stream",
     "text": [
      "Model Factory: Criando tipo 'PVBin' com params: {'method': 'binary', 'query': 'binary', 'norm': None, 'query_norm': None, 'ngram_range': [1, 2]}\n",
      "Model Factory (PVBin): Convertido ngram_range [1, 2] para tupla (1, 2)\n",
      "Fitting ProductVectorizerClassifier com 100 amostras...\n",
      "Fit concluído.\n",
      "    Acc Real Geração 88: Max=0.3642, Avg=0.3640, Min=0.3608\n",
      "    F1 Real Geração  88: Max=0.0457, Avg=0.0454, Min=0.0444\n",
      "    Duração Geração 88: 6.24s\n",
      "\n",
      "  Geração 89/100\n"
     ]
    },
    {
     "data": {
      "application/vnd.jupyter.widget-view+json": {
       "model_id": "d547ad5ea3f0425baacc8f1891a011c2",
       "version_major": 2,
       "version_minor": 0
      },
      "text/plain": [
       "Fitness Calc Gen 89:   0%|          | 0/20 [00:00<?, ?it/s]"
      ]
     },
     "metadata": {},
     "output_type": "display_data"
    },
    {
     "name": "stdout",
     "output_type": "stream",
     "text": [
      "Model Factory: Criando tipo 'PVBin' com params: {'method': 'binary', 'query': 'binary', 'norm': None, 'query_norm': None, 'ngram_range': [1, 2]}\n",
      "Model Factory (PVBin): Convertido ngram_range [1, 2] para tupla (1, 2)\n",
      "Fitting ProductVectorizerClassifier com 100 amostras...\n",
      "Fit concluído.\n",
      "Model Factory: Criando tipo 'PVBin' com params: {'method': 'binary', 'query': 'binary', 'norm': None, 'query_norm': None, 'ngram_range': [1, 2]}\n",
      "Model Factory (PVBin): Convertido ngram_range [1, 2] para tupla (1, 2)\n",
      "Fitting ProductVectorizerClassifier com 100 amostras...\n",
      "Fit concluído.\n",
      "Model Factory: Criando tipo 'PVBin' com params: {'method': 'binary', 'query': 'binary', 'norm': None, 'query_norm': None, 'ngram_range': [1, 2]}\n",
      "Model Factory (PVBin): Convertido ngram_range [1, 2] para tupla (1, 2)\n",
      "Fitting ProductVectorizerClassifier com 100 amostras...\n",
      "Fit concluído.\n",
      "    Acc Real Geração 89: Max=0.3642, Avg=0.3632, Min=0.3534\n",
      "    F1 Real Geração  89: Max=0.0461, Avg=0.0451, Min=0.0424\n",
      "    Duração Geração 89: 18.42s\n",
      "\n",
      "  Geração 90/100\n"
     ]
    },
    {
     "data": {
      "application/vnd.jupyter.widget-view+json": {
       "model_id": "7ed6e0d0ee374bf2a0bd3b4c485ecb5a",
       "version_major": 2,
       "version_minor": 0
      },
      "text/plain": [
       "Fitness Calc Gen 90:   0%|          | 0/20 [00:00<?, ?it/s]"
      ]
     },
     "metadata": {},
     "output_type": "display_data"
    },
    {
     "name": "stdout",
     "output_type": "stream",
     "text": [
      "Model Factory: Criando tipo 'PVBin' com params: {'method': 'binary', 'query': 'binary', 'norm': None, 'query_norm': None, 'ngram_range': [1, 2]}\n",
      "Model Factory (PVBin): Convertido ngram_range [1, 2] para tupla (1, 2)\n",
      "Fitting ProductVectorizerClassifier com 100 amostras...\n",
      "Fit concluído.\n",
      "Model Factory: Criando tipo 'PVBin' com params: {'method': 'binary', 'query': 'binary', 'norm': None, 'query_norm': None, 'ngram_range': [1, 2]}\n",
      "Model Factory (PVBin): Convertido ngram_range [1, 2] para tupla (1, 2)\n",
      "Fitting ProductVectorizerClassifier com 100 amostras...\n",
      "Fit concluído.\n",
      "Model Factory: Criando tipo 'PVBin' com params: {'method': 'binary', 'query': 'binary', 'norm': None, 'query_norm': None, 'ngram_range': [1, 2]}\n",
      "Model Factory (PVBin): Convertido ngram_range [1, 2] para tupla (1, 2)\n",
      "Fitting ProductVectorizerClassifier com 100 amostras...\n",
      "Fit concluído.\n",
      "Model Factory: Criando tipo 'PVBin' com params: {'method': 'binary', 'query': 'binary', 'norm': None, 'query_norm': None, 'ngram_range': [1, 2]}\n",
      "Model Factory (PVBin): Convertido ngram_range [1, 2] para tupla (1, 2)\n",
      "Fitting ProductVectorizerClassifier com 100 amostras...\n",
      "Fit concluído.\n",
      "Model Factory: Criando tipo 'PVBin' com params: {'method': 'binary', 'query': 'binary', 'norm': None, 'query_norm': None, 'ngram_range': [1, 2]}\n",
      "Model Factory (PVBin): Convertido ngram_range [1, 2] para tupla (1, 2)\n",
      "Fitting ProductVectorizerClassifier com 100 amostras...\n",
      "Fit concluído.\n",
      "    Novo melhor (Obj: maximize): Perf Real=0.3649\n",
      "    Acc Real Geração 90: Max=0.3649, Avg=0.3625, Min=0.3518\n",
      "    F1 Real Geração  90: Max=0.0458, Avg=0.0451, Min=0.0444\n",
      "    Duração Geração 90: 30.18s\n",
      "\n",
      "  Geração 91/100\n"
     ]
    },
    {
     "data": {
      "application/vnd.jupyter.widget-view+json": {
       "model_id": "f00ad2d6e63e409a943d5001ea4fd36a",
       "version_major": 2,
       "version_minor": 0
      },
      "text/plain": [
       "Fitness Calc Gen 91:   0%|          | 0/20 [00:00<?, ?it/s]"
      ]
     },
     "metadata": {},
     "output_type": "display_data"
    },
    {
     "name": "stdout",
     "output_type": "stream",
     "text": [
      "Model Factory: Criando tipo 'PVBin' com params: {'method': 'binary', 'query': 'binary', 'norm': None, 'query_norm': None, 'ngram_range': [1, 2]}\n",
      "Model Factory (PVBin): Convertido ngram_range [1, 2] para tupla (1, 2)\n",
      "Fitting ProductVectorizerClassifier com 100 amostras...\n",
      "Fit concluído.\n",
      "Model Factory: Criando tipo 'PVBin' com params: {'method': 'binary', 'query': 'binary', 'norm': None, 'query_norm': None, 'ngram_range': [1, 2]}\n",
      "Model Factory (PVBin): Convertido ngram_range [1, 2] para tupla (1, 2)\n",
      "Fitting ProductVectorizerClassifier com 100 amostras...\n",
      "Fit concluído.\n",
      "    Acc Real Geração 91: Max=0.3649, Avg=0.3638, Min=0.3538\n",
      "    F1 Real Geração  91: Max=0.0458, Avg=0.0452, Min=0.0444\n",
      "    Duração Geração 91: 12.33s\n",
      "\n",
      "  Geração 92/100\n"
     ]
    },
    {
     "data": {
      "application/vnd.jupyter.widget-view+json": {
       "model_id": "f851bdb0357c4932b026e56090884d4d",
       "version_major": 2,
       "version_minor": 0
      },
      "text/plain": [
       "Fitness Calc Gen 92:   0%|          | 0/20 [00:00<?, ?it/s]"
      ]
     },
     "metadata": {},
     "output_type": "display_data"
    },
    {
     "name": "stdout",
     "output_type": "stream",
     "text": [
      "Model Factory: Criando tipo 'PVBin' com params: {'method': 'binary', 'query': 'binary', 'norm': None, 'query_norm': None, 'ngram_range': [1, 2]}\n",
      "Model Factory (PVBin): Convertido ngram_range [1, 2] para tupla (1, 2)\n",
      "Fitting ProductVectorizerClassifier com 100 amostras...\n",
      "Fit concluído.\n",
      "Model Factory: Criando tipo 'PVBin' com params: {'method': 'binary', 'query': 'binary', 'norm': None, 'query_norm': None, 'ngram_range': [1, 2]}\n",
      "Model Factory (PVBin): Convertido ngram_range [1, 2] para tupla (1, 2)\n",
      "Fitting ProductVectorizerClassifier com 100 amostras...\n",
      "Fit concluído.\n",
      "Model Factory: Criando tipo 'PVBin' com params: {'method': 'binary', 'query': 'binary', 'norm': None, 'query_norm': None, 'ngram_range': [1, 2]}\n",
      "Model Factory (PVBin): Convertido ngram_range [1, 2] para tupla (1, 2)\n",
      "Fitting ProductVectorizerClassifier com 100 amostras...\n",
      "Fit concluído.\n",
      "Model Factory: Criando tipo 'PVBin' com params: {'method': 'binary', 'query': 'binary', 'norm': None, 'query_norm': None, 'ngram_range': [1, 2]}\n",
      "Model Factory (PVBin): Convertido ngram_range [1, 2] para tupla (1, 2)\n",
      "Fitting ProductVectorizerClassifier com 100 amostras...\n",
      "Fit concluído.\n",
      "Model Factory: Criando tipo 'PVBin' com params: {'method': 'binary', 'query': 'binary', 'norm': None, 'query_norm': None, 'ngram_range': [1, 2]}\n",
      "Model Factory (PVBin): Convertido ngram_range [1, 2] para tupla (1, 2)\n",
      "Fitting ProductVectorizerClassifier com 100 amostras...\n",
      "Fit concluído.\n",
      "Model Factory: Criando tipo 'PVBin' com params: {'method': 'binary', 'query': 'binary', 'norm': None, 'query_norm': None, 'ngram_range': [1, 2]}\n",
      "Model Factory (PVBin): Convertido ngram_range [1, 2] para tupla (1, 2)\n",
      "Fitting ProductVectorizerClassifier com 100 amostras...\n",
      "Fit concluído.\n",
      "Model Factory: Criando tipo 'PVBin' com params: {'method': 'binary', 'query': 'binary', 'norm': None, 'query_norm': None, 'ngram_range': [1, 2]}\n",
      "Model Factory (PVBin): Convertido ngram_range [1, 2] para tupla (1, 2)\n",
      "Fitting ProductVectorizerClassifier com 100 amostras...\n",
      "Fit concluído.\n",
      "Model Factory: Criando tipo 'PVBin' com params: {'method': 'binary', 'query': 'binary', 'norm': None, 'query_norm': None, 'ngram_range': [1, 2]}\n",
      "Model Factory (PVBin): Convertido ngram_range [1, 2] para tupla (1, 2)\n",
      "Fitting ProductVectorizerClassifier com 100 amostras...\n",
      "Fit concluído.\n",
      "    Novo melhor (Obj: maximize): Perf Real=0.3658\n",
      "    Acc Real Geração 92: Max=0.3658, Avg=0.3635, Min=0.3544\n",
      "    F1 Real Geração  92: Max=0.0458, Avg=0.0452, Min=0.0442\n",
      "    Duração Geração 92: 48.53s\n",
      "\n",
      "  Geração 93/100\n"
     ]
    },
    {
     "data": {
      "application/vnd.jupyter.widget-view+json": {
       "model_id": "47da103f234f40f488100f43dda1de47",
       "version_major": 2,
       "version_minor": 0
      },
      "text/plain": [
       "Fitness Calc Gen 93:   0%|          | 0/20 [00:00<?, ?it/s]"
      ]
     },
     "metadata": {},
     "output_type": "display_data"
    },
    {
     "name": "stdout",
     "output_type": "stream",
     "text": [
      "Model Factory: Criando tipo 'PVBin' com params: {'method': 'binary', 'query': 'binary', 'norm': None, 'query_norm': None, 'ngram_range': [1, 2]}\n",
      "Model Factory (PVBin): Convertido ngram_range [1, 2] para tupla (1, 2)\n",
      "Fitting ProductVectorizerClassifier com 100 amostras...\n",
      "Fit concluído.\n",
      "Model Factory: Criando tipo 'PVBin' com params: {'method': 'binary', 'query': 'binary', 'norm': None, 'query_norm': None, 'ngram_range': [1, 2]}\n",
      "Model Factory (PVBin): Convertido ngram_range [1, 2] para tupla (1, 2)\n",
      "Fitting ProductVectorizerClassifier com 100 amostras...\n",
      "Fit concluído.\n",
      "Model Factory: Criando tipo 'PVBin' com params: {'method': 'binary', 'query': 'binary', 'norm': None, 'query_norm': None, 'ngram_range': [1, 2]}\n",
      "Model Factory (PVBin): Convertido ngram_range [1, 2] para tupla (1, 2)\n",
      "Fitting ProductVectorizerClassifier com 100 amostras...\n",
      "Fit concluído.\n",
      "Model Factory: Criando tipo 'PVBin' com params: {'method': 'binary', 'query': 'binary', 'norm': None, 'query_norm': None, 'ngram_range': [1, 2]}\n",
      "Model Factory (PVBin): Convertido ngram_range [1, 2] para tupla (1, 2)\n",
      "Fitting ProductVectorizerClassifier com 100 amostras...\n",
      "Fit concluído.\n",
      "Model Factory: Criando tipo 'PVBin' com params: {'method': 'binary', 'query': 'binary', 'norm': None, 'query_norm': None, 'ngram_range': [1, 2]}\n",
      "Model Factory (PVBin): Convertido ngram_range [1, 2] para tupla (1, 2)\n",
      "Fitting ProductVectorizerClassifier com 100 amostras...\n",
      "Fit concluído.\n",
      "Model Factory: Criando tipo 'PVBin' com params: {'method': 'binary', 'query': 'binary', 'norm': None, 'query_norm': None, 'ngram_range': [1, 2]}\n",
      "Model Factory (PVBin): Convertido ngram_range [1, 2] para tupla (1, 2)\n",
      "Fitting ProductVectorizerClassifier com 100 amostras...\n",
      "Fit concluído.\n",
      "    Novo melhor (Obj: maximize): Perf Real=0.3664\n",
      "    Acc Real Geração 93: Max=0.3664, Avg=0.3638, Min=0.3542\n",
      "    F1 Real Geração  93: Max=0.0458, Avg=0.0452, Min=0.0437\n",
      "    Duração Geração 93: 35.81s\n",
      "\n",
      "  Geração 94/100\n"
     ]
    },
    {
     "data": {
      "application/vnd.jupyter.widget-view+json": {
       "model_id": "2a974b6113194dc39041f15ae5c42fbc",
       "version_major": 2,
       "version_minor": 0
      },
      "text/plain": [
       "Fitness Calc Gen 94:   0%|          | 0/20 [00:00<?, ?it/s]"
      ]
     },
     "metadata": {},
     "output_type": "display_data"
    },
    {
     "name": "stdout",
     "output_type": "stream",
     "text": [
      "Model Factory: Criando tipo 'PVBin' com params: {'method': 'binary', 'query': 'binary', 'norm': None, 'query_norm': None, 'ngram_range': [1, 2]}\n",
      "Model Factory (PVBin): Convertido ngram_range [1, 2] para tupla (1, 2)\n",
      "Fitting ProductVectorizerClassifier com 100 amostras...\n",
      "Fit concluído.\n",
      "Model Factory: Criando tipo 'PVBin' com params: {'method': 'binary', 'query': 'binary', 'norm': None, 'query_norm': None, 'ngram_range': [1, 2]}\n",
      "Model Factory (PVBin): Convertido ngram_range [1, 2] para tupla (1, 2)\n",
      "Fitting ProductVectorizerClassifier com 100 amostras...\n",
      "Fit concluído.\n",
      "Model Factory: Criando tipo 'PVBin' com params: {'method': 'binary', 'query': 'binary', 'norm': None, 'query_norm': None, 'ngram_range': [1, 2]}\n",
      "Model Factory (PVBin): Convertido ngram_range [1, 2] para tupla (1, 2)\n",
      "Fitting ProductVectorizerClassifier com 100 amostras...\n",
      "Fit concluído.\n",
      "Model Factory: Criando tipo 'PVBin' com params: {'method': 'binary', 'query': 'binary', 'norm': None, 'query_norm': None, 'ngram_range': [1, 2]}\n",
      "Model Factory (PVBin): Convertido ngram_range [1, 2] para tupla (1, 2)\n",
      "Fitting ProductVectorizerClassifier com 100 amostras...\n",
      "Fit concluído.\n",
      "Model Factory: Criando tipo 'PVBin' com params: {'method': 'binary', 'query': 'binary', 'norm': None, 'query_norm': None, 'ngram_range': [1, 2]}\n",
      "Model Factory (PVBin): Convertido ngram_range [1, 2] para tupla (1, 2)\n",
      "Fitting ProductVectorizerClassifier com 100 amostras...\n",
      "Fit concluído.\n",
      "Model Factory: Criando tipo 'PVBin' com params: {'method': 'binary', 'query': 'binary', 'norm': None, 'query_norm': None, 'ngram_range': [1, 2]}\n",
      "Model Factory (PVBin): Convertido ngram_range [1, 2] para tupla (1, 2)\n",
      "Fitting ProductVectorizerClassifier com 100 amostras...\n",
      "Fit concluído.\n",
      "    Novo melhor (Obj: maximize): Perf Real=0.3668\n",
      "    Acc Real Geração 94: Max=0.3668, Avg=0.3641, Min=0.3508\n",
      "    F1 Real Geração  94: Max=0.0460, Avg=0.0453, Min=0.0439\n",
      "    Duração Geração 94: 36.89s\n",
      "\n",
      "  Geração 95/100\n"
     ]
    },
    {
     "data": {
      "application/vnd.jupyter.widget-view+json": {
       "model_id": "ec948e0ed05b421db363ab09f8fa8603",
       "version_major": 2,
       "version_minor": 0
      },
      "text/plain": [
       "Fitness Calc Gen 95:   0%|          | 0/20 [00:00<?, ?it/s]"
      ]
     },
     "metadata": {},
     "output_type": "display_data"
    },
    {
     "name": "stdout",
     "output_type": "stream",
     "text": [
      "Model Factory: Criando tipo 'PVBin' com params: {'method': 'binary', 'query': 'binary', 'norm': None, 'query_norm': None, 'ngram_range': [1, 2]}\n",
      "Model Factory (PVBin): Convertido ngram_range [1, 2] para tupla (1, 2)\n",
      "Fitting ProductVectorizerClassifier com 100 amostras...\n",
      "Fit concluído.\n",
      "Model Factory: Criando tipo 'PVBin' com params: {'method': 'binary', 'query': 'binary', 'norm': None, 'query_norm': None, 'ngram_range': [1, 2]}\n",
      "Model Factory (PVBin): Convertido ngram_range [1, 2] para tupla (1, 2)\n",
      "Fitting ProductVectorizerClassifier com 100 amostras...\n",
      "Fit concluído.\n",
      "Model Factory: Criando tipo 'PVBin' com params: {'method': 'binary', 'query': 'binary', 'norm': None, 'query_norm': None, 'ngram_range': [1, 2]}\n",
      "Model Factory (PVBin): Convertido ngram_range [1, 2] para tupla (1, 2)\n",
      "Fitting ProductVectorizerClassifier com 100 amostras...\n",
      "Fit concluído.\n",
      "    Novo melhor (Obj: maximize): Perf Real=0.3672\n",
      "    Acc Real Geração 95: Max=0.3672, Avg=0.3661, Min=0.3634\n",
      "    F1 Real Geração  95: Max=0.0460, Avg=0.0456, Min=0.0449\n",
      "    Duração Geração 95: 18.32s\n",
      "\n",
      "  Geração 96/100\n"
     ]
    },
    {
     "data": {
      "application/vnd.jupyter.widget-view+json": {
       "model_id": "fe2b54b2627d4695bc100b9b66e1a5f3",
       "version_major": 2,
       "version_minor": 0
      },
      "text/plain": [
       "Fitness Calc Gen 96:   0%|          | 0/20 [00:00<?, ?it/s]"
      ]
     },
     "metadata": {},
     "output_type": "display_data"
    },
    {
     "name": "stdout",
     "output_type": "stream",
     "text": [
      "Model Factory: Criando tipo 'PVBin' com params: {'method': 'binary', 'query': 'binary', 'norm': None, 'query_norm': None, 'ngram_range': [1, 2]}\n",
      "Model Factory (PVBin): Convertido ngram_range [1, 2] para tupla (1, 2)\n",
      "Fitting ProductVectorizerClassifier com 100 amostras...\n",
      "Fit concluído.\n",
      "Model Factory: Criando tipo 'PVBin' com params: {'method': 'binary', 'query': 'binary', 'norm': None, 'query_norm': None, 'ngram_range': [1, 2]}\n",
      "Model Factory (PVBin): Convertido ngram_range [1, 2] para tupla (1, 2)\n",
      "Fitting ProductVectorizerClassifier com 100 amostras...\n",
      "Fit concluído.\n",
      "Model Factory: Criando tipo 'PVBin' com params: {'method': 'binary', 'query': 'binary', 'norm': None, 'query_norm': None, 'ngram_range': [1, 2]}\n",
      "Model Factory (PVBin): Convertido ngram_range [1, 2] para tupla (1, 2)\n",
      "Fitting ProductVectorizerClassifier com 100 amostras...\n",
      "Fit concluído.\n",
      "Model Factory: Criando tipo 'PVBin' com params: {'method': 'binary', 'query': 'binary', 'norm': None, 'query_norm': None, 'ngram_range': [1, 2]}\n",
      "Model Factory (PVBin): Convertido ngram_range [1, 2] para tupla (1, 2)\n",
      "Fitting ProductVectorizerClassifier com 100 amostras...\n",
      "Fit concluído.\n",
      "Model Factory: Criando tipo 'PVBin' com params: {'method': 'binary', 'query': 'binary', 'norm': None, 'query_norm': None, 'ngram_range': [1, 2]}\n",
      "Model Factory (PVBin): Convertido ngram_range [1, 2] para tupla (1, 2)\n",
      "Fitting ProductVectorizerClassifier com 100 amostras...\n",
      "Fit concluído.\n",
      "Model Factory: Criando tipo 'PVBin' com params: {'method': 'binary', 'query': 'binary', 'norm': None, 'query_norm': None, 'ngram_range': [1, 2]}\n",
      "Model Factory (PVBin): Convertido ngram_range [1, 2] para tupla (1, 2)\n",
      "Fitting ProductVectorizerClassifier com 100 amostras...\n",
      "Fit concluído.\n",
      "    Novo melhor (Obj: maximize): Perf Real=0.3672\n",
      "    Acc Real Geração 96: Max=0.3672, Avg=0.3651, Min=0.3540\n",
      "    F1 Real Geração  96: Max=0.0462, Avg=0.0454, Min=0.0432\n",
      "    Duração Geração 96: 37.07s\n",
      "\n",
      "  Geração 97/100\n"
     ]
    },
    {
     "data": {
      "application/vnd.jupyter.widget-view+json": {
       "model_id": "f77c221e23fc4d8b89eb5c7a247640f9",
       "version_major": 2,
       "version_minor": 0
      },
      "text/plain": [
       "Fitness Calc Gen 97:   0%|          | 0/20 [00:00<?, ?it/s]"
      ]
     },
     "metadata": {},
     "output_type": "display_data"
    },
    {
     "name": "stdout",
     "output_type": "stream",
     "text": [
      "Model Factory: Criando tipo 'PVBin' com params: {'method': 'binary', 'query': 'binary', 'norm': None, 'query_norm': None, 'ngram_range': [1, 2]}\n",
      "Model Factory (PVBin): Convertido ngram_range [1, 2] para tupla (1, 2)\n",
      "Fitting ProductVectorizerClassifier com 100 amostras...\n",
      "Fit concluído.\n",
      "Model Factory: Criando tipo 'PVBin' com params: {'method': 'binary', 'query': 'binary', 'norm': None, 'query_norm': None, 'ngram_range': [1, 2]}\n",
      "Model Factory (PVBin): Convertido ngram_range [1, 2] para tupla (1, 2)\n",
      "Fitting ProductVectorizerClassifier com 100 amostras...\n",
      "Fit concluído.\n",
      "Model Factory: Criando tipo 'PVBin' com params: {'method': 'binary', 'query': 'binary', 'norm': None, 'query_norm': None, 'ngram_range': [1, 2]}\n",
      "Model Factory (PVBin): Convertido ngram_range [1, 2] para tupla (1, 2)\n",
      "Fitting ProductVectorizerClassifier com 100 amostras...\n",
      "Fit concluído.\n",
      "Model Factory: Criando tipo 'PVBin' com params: {'method': 'binary', 'query': 'binary', 'norm': None, 'query_norm': None, 'ngram_range': [1, 2]}\n",
      "Model Factory (PVBin): Convertido ngram_range [1, 2] para tupla (1, 2)\n",
      "Fitting ProductVectorizerClassifier com 100 amostras...\n",
      "Fit concluído.\n",
      "Model Factory: Criando tipo 'PVBin' com params: {'method': 'binary', 'query': 'binary', 'norm': None, 'query_norm': None, 'ngram_range': [1, 2]}\n",
      "Model Factory (PVBin): Convertido ngram_range [1, 2] para tupla (1, 2)\n",
      "Fitting ProductVectorizerClassifier com 100 amostras...\n",
      "Fit concluído.\n",
      "    Novo melhor (Obj: maximize): Perf Real=0.3673\n",
      "    Acc Real Geração 97: Max=0.3673, Avg=0.3668, Min=0.3626\n",
      "    F1 Real Geração  97: Max=0.0460, Avg=0.0453, Min=0.0451\n",
      "    Duração Geração 97: 31.70s\n",
      "\n",
      "  Geração 98/100\n"
     ]
    },
    {
     "data": {
      "application/vnd.jupyter.widget-view+json": {
       "model_id": "9bfd4dd24df848728f337e37cd94ef9f",
       "version_major": 2,
       "version_minor": 0
      },
      "text/plain": [
       "Fitness Calc Gen 98:   0%|          | 0/20 [00:00<?, ?it/s]"
      ]
     },
     "metadata": {},
     "output_type": "display_data"
    },
    {
     "name": "stdout",
     "output_type": "stream",
     "text": [
      "Model Factory: Criando tipo 'PVBin' com params: {'method': 'binary', 'query': 'binary', 'norm': None, 'query_norm': None, 'ngram_range': [1, 2]}\n",
      "Model Factory (PVBin): Convertido ngram_range [1, 2] para tupla (1, 2)\n",
      "Fitting ProductVectorizerClassifier com 100 amostras...\n",
      "Fit concluído.\n",
      "Model Factory: Criando tipo 'PVBin' com params: {'method': 'binary', 'query': 'binary', 'norm': None, 'query_norm': None, 'ngram_range': [1, 2]}\n",
      "Model Factory (PVBin): Convertido ngram_range [1, 2] para tupla (1, 2)\n",
      "Fitting ProductVectorizerClassifier com 100 amostras...\n",
      "Fit concluído.\n",
      "Model Factory: Criando tipo 'PVBin' com params: {'method': 'binary', 'query': 'binary', 'norm': None, 'query_norm': None, 'ngram_range': [1, 2]}\n",
      "Model Factory (PVBin): Convertido ngram_range [1, 2] para tupla (1, 2)\n",
      "Fitting ProductVectorizerClassifier com 100 amostras...\n",
      "Fit concluído.\n",
      "Model Factory: Criando tipo 'PVBin' com params: {'method': 'binary', 'query': 'binary', 'norm': None, 'query_norm': None, 'ngram_range': [1, 2]}\n",
      "Model Factory (PVBin): Convertido ngram_range [1, 2] para tupla (1, 2)\n",
      "Fitting ProductVectorizerClassifier com 100 amostras...\n",
      "Fit concluído.\n",
      "Model Factory: Criando tipo 'PVBin' com params: {'method': 'binary', 'query': 'binary', 'norm': None, 'query_norm': None, 'ngram_range': [1, 2]}\n",
      "Model Factory (PVBin): Convertido ngram_range [1, 2] para tupla (1, 2)\n",
      "Fitting ProductVectorizerClassifier com 100 amostras...\n",
      "Fit concluído.\n",
      "Model Factory: Criando tipo 'PVBin' com params: {'method': 'binary', 'query': 'binary', 'norm': None, 'query_norm': None, 'ngram_range': [1, 2]}\n",
      "Model Factory (PVBin): Convertido ngram_range [1, 2] para tupla (1, 2)\n",
      "Fitting ProductVectorizerClassifier com 100 amostras...\n",
      "Fit concluído.\n",
      "Model Factory: Criando tipo 'PVBin' com params: {'method': 'binary', 'query': 'binary', 'norm': None, 'query_norm': None, 'ngram_range': [1, 2]}\n",
      "Model Factory (PVBin): Convertido ngram_range [1, 2] para tupla (1, 2)\n",
      "Fitting ProductVectorizerClassifier com 100 amostras...\n",
      "Fit concluído.\n",
      "    Novo melhor (Obj: maximize): Perf Real=0.3677\n",
      "    Acc Real Geração 98: Max=0.3677, Avg=0.3666, Min=0.3575\n",
      "    F1 Real Geração  98: Max=0.0456, Avg=0.0453, Min=0.0446\n",
      "    Duração Geração 98: 43.06s\n",
      "\n",
      "  Geração 99/100\n"
     ]
    },
    {
     "data": {
      "application/vnd.jupyter.widget-view+json": {
       "model_id": "f378382407d64362b332ed8d849dcd9a",
       "version_major": 2,
       "version_minor": 0
      },
      "text/plain": [
       "Fitness Calc Gen 99:   0%|          | 0/20 [00:00<?, ?it/s]"
      ]
     },
     "metadata": {},
     "output_type": "display_data"
    },
    {
     "name": "stdout",
     "output_type": "stream",
     "text": [
      "Model Factory: Criando tipo 'PVBin' com params: {'method': 'binary', 'query': 'binary', 'norm': None, 'query_norm': None, 'ngram_range': [1, 2]}\n",
      "Model Factory (PVBin): Convertido ngram_range [1, 2] para tupla (1, 2)\n",
      "Fitting ProductVectorizerClassifier com 100 amostras...\n",
      "Fit concluído.\n",
      "Model Factory: Criando tipo 'PVBin' com params: {'method': 'binary', 'query': 'binary', 'norm': None, 'query_norm': None, 'ngram_range': [1, 2]}\n",
      "Model Factory (PVBin): Convertido ngram_range [1, 2] para tupla (1, 2)\n",
      "Fitting ProductVectorizerClassifier com 100 amostras...\n",
      "Fit concluído.\n",
      "    Acc Real Geração 99: Max=0.3677, Avg=0.3668, Min=0.3580\n",
      "    F1 Real Geração  99: Max=0.0456, Avg=0.0453, Min=0.0447\n",
      "    Duração Geração 99: 12.33s\n",
      "\n",
      "  Geração 100/100\n"
     ]
    },
    {
     "data": {
      "application/vnd.jupyter.widget-view+json": {
       "model_id": "29953ecfa70b4d018e15b7586cd29c20",
       "version_major": 2,
       "version_minor": 0
      },
      "text/plain": [
       "Fitness Calc Gen 100:   0%|          | 0/20 [00:00<?, ?it/s]"
      ]
     },
     "metadata": {},
     "output_type": "display_data"
    },
    {
     "name": "stdout",
     "output_type": "stream",
     "text": [
      "Model Factory: Criando tipo 'PVBin' com params: {'method': 'binary', 'query': 'binary', 'norm': None, 'query_norm': None, 'ngram_range': [1, 2]}\n",
      "Model Factory (PVBin): Convertido ngram_range [1, 2] para tupla (1, 2)\n",
      "Fitting ProductVectorizerClassifier com 100 amostras...\n",
      "Fit concluído.\n",
      "    Acc Real Geração 100: Max=0.3677, Avg=0.3672, Min=0.3636\n",
      "    F1 Real Geração  100: Max=0.0456, Avg=0.0454, Min=0.0450\n",
      "    Duração Geração 100: 6.46s\n",
      "\n",
      "--- Otimização Genética Concluída (3865.20 seg) ---\n",
      "Melhor Performance Real Encontrada (accuracy_on_full, Objetivo: maximize): 0.3677\n",
      "Salvando histórico da otimização (_ACCURACY_MAXIMIZE) em: ag_l0_opt_history_size100minmax_ACCURACY_MAXIMIZE.xlsx\n",
      "Salvando L0 (Objetivo: maximize, Perf: 0.3677) em: ag_l0_opt_best_l0_size100minmax_ACCURACY_MAXIMIZE.csv\n",
      "{'ACC_MAX': {'indices': array([ 74753,  38407, 223756, 206356,  74263, 216599,  22557, 120350,\n",
      "       138794, 189996, 219693, 228398,  44081, 115253,  48184,   2105,\n",
      "       159302,  65607, 100433,  70738, 112210, 154713,  91229, 156256,\n",
      "       134243, 116836,  45701,  50313,  14988,  21645, 147597, 117902,\n",
      "       213135, 184467,  58525, 126111, 104095,   3745, 170659,  96426,\n",
      "       183470, 232112, 221875, 115379, 164022,  29370, 249530, 111806,\n",
      "       132800,  58561,  40649,   7370,  94411,  66255,  14034, 161492,\n",
      "       246997,  83167, 200422, 164079,   6926,  16656, 218388,  80671,\n",
      "        85795,  20784, 106301, 119102, 248651,  27983, 109909, 108388,\n",
      "        61796, 241002, 145771,  73585, 204149, 230270, 107397,  95623,\n",
      "        15755,  76177, 100249,  74146,  22963,   8115, 183735, 137144,\n",
      "        61881,  62910, 160200,  60873, 186827, 228303,  75737,  87515,\n",
      "       115680,  67046,  88554, 211664], dtype=int64), 'performance': 0.3676871767219859, 'history':     generation   max_acc   avg_acc   min_acc    max_f1    avg_f1    min_f1  \\\n",
      "0            1  0.273820  0.248235  0.193649  0.039120  0.033707  0.027447   \n",
      "1            2  0.307188  0.263920  0.210205  0.042565  0.034466  0.029304   \n",
      "2            3  0.307188  0.274257  0.250598  0.042565  0.034850  0.030797   \n",
      "3            4  0.307188  0.288635  0.263100  0.042565  0.036601  0.031373   \n",
      "4            5  0.311361  0.304232  0.296184  0.042565  0.037547  0.035594   \n",
      "..         ...       ...       ...       ...       ...       ...       ...   \n",
      "95          96  0.367220  0.365092  0.353995  0.046174  0.045428  0.043219   \n",
      "96          97  0.367324  0.366761  0.362627  0.045998  0.045345  0.045137   \n",
      "97          98  0.367687  0.366621  0.357550  0.045612  0.045255  0.044588   \n",
      "98          99  0.367687  0.366786  0.357977  0.045612  0.045345  0.044748   \n",
      "99         100  0.367687  0.367213  0.363589  0.045612  0.045443  0.044975   \n",
      "\n",
      "    generation_time_sec  \n",
      "0            110.191120  \n",
      "1             82.949045  \n",
      "2             71.260969  \n",
      "3             44.313407  \n",
      "4             27.670244  \n",
      "..                  ...  \n",
      "95            37.072886  \n",
      "96            31.697511  \n",
      "97            43.062706  \n",
      "98            12.333839  \n",
      "99             6.464503  \n",
      "\n",
      "[100 rows x 8 columns]}}\n",
      "\n",
      "=============== Iniciando Otimização de L0 (Tamanho: 100) com AG - Objetivo: MINIMIZE - Métrica: accuracy_on_full ===============\n",
      "GeneticL0Optimizer inicializado.\n",
      " - População: 20, Gerações: 100, L0 Size: 100\n",
      " - Objetivo: minimize, Métrica: accuracy_on_full\n",
      " - Log Detalhado ATIVADO em: d:\\Nuvem\\ghdaru\\OneDrive\\030_DOUTORADO\\120_TESE\\130_TESEGIT\\Tese-Vers-o-Draft\\code\\codigos\\falco_library\\examples\\ag_detailed_fitness_size100minmax_ACCURACY_MINIMIZE.csv\n",
      "\n",
      "--- Iniciando Otimização Genética (Tam: 100, Obj: minimize, Métrica: accuracy_on_full) ---\n",
      "Inicializando população...\n"
     ]
    },
    {
     "data": {
      "application/vnd.jupyter.widget-view+json": {
       "model_id": "b2ba09f1dda94a69b49fd7bd0e58d598",
       "version_major": 2,
       "version_minor": 0
      },
      "text/plain": [
       "Criando População Inicial:   0%|          | 0/20 [00:00<?, ?it/s]"
      ]
     },
     "metadata": {},
     "output_type": "display_data"
    },
    {
     "data": {
      "application/vnd.jupyter.widget-view+json": {
       "model_id": "9ba7e785c7c244f3a35cbf27afe19eae",
       "version_major": 2,
       "version_minor": 0
      },
      "text/plain": [
       "Gerações AG:   0%|          | 0/100 [00:00<?, ?it/s]"
      ]
     },
     "metadata": {},
     "output_type": "display_data"
    },
    {
     "name": "stdout",
     "output_type": "stream",
     "text": [
      "\n",
      "  Geração 1/100\n"
     ]
    },
    {
     "data": {
      "application/vnd.jupyter.widget-view+json": {
       "model_id": "bbd091c388614fc9a3c85019608d63a6",
       "version_major": 2,
       "version_minor": 0
      },
      "text/plain": [
       "Fitness Calc Gen 1:   0%|          | 0/20 [00:00<?, ?it/s]"
      ]
     },
     "metadata": {},
     "output_type": "display_data"
    },
    {
     "name": "stdout",
     "output_type": "stream",
     "text": [
      "Model Factory: Criando tipo 'PVBin' com params: {'method': 'binary', 'query': 'binary', 'norm': None, 'query_norm': None, 'ngram_range': [1, 2]}\n",
      "Model Factory (PVBin): Convertido ngram_range [1, 2] para tupla (1, 2)\n",
      "Fitting ProductVectorizerClassifier com 100 amostras...\n",
      "Fit concluído.\n",
      "Model Factory: Criando tipo 'PVBin' com params: {'method': 'binary', 'query': 'binary', 'norm': None, 'query_norm': None, 'ngram_range': [1, 2]}\n",
      "Model Factory (PVBin): Convertido ngram_range [1, 2] para tupla (1, 2)\n",
      "Fitting ProductVectorizerClassifier com 100 amostras...\n",
      "Fit concluído.\n",
      "Model Factory: Criando tipo 'PVBin' com params: {'method': 'binary', 'query': 'binary', 'norm': None, 'query_norm': None, 'ngram_range': [1, 2]}\n",
      "Model Factory (PVBin): Convertido ngram_range [1, 2] para tupla (1, 2)\n",
      "Fitting ProductVectorizerClassifier com 100 amostras...\n",
      "Fit concluído.\n",
      "Model Factory: Criando tipo 'PVBin' com params: {'method': 'binary', 'query': 'binary', 'norm': None, 'query_norm': None, 'ngram_range': [1, 2]}\n",
      "Model Factory (PVBin): Convertido ngram_range [1, 2] para tupla (1, 2)\n",
      "Fitting ProductVectorizerClassifier com 100 amostras...\n",
      "Fit concluído.\n",
      "Model Factory: Criando tipo 'PVBin' com params: {'method': 'binary', 'query': 'binary', 'norm': None, 'query_norm': None, 'ngram_range': [1, 2]}\n",
      "Model Factory (PVBin): Convertido ngram_range [1, 2] para tupla (1, 2)\n",
      "Fitting ProductVectorizerClassifier com 100 amostras...\n",
      "Fit concluído.\n",
      "Model Factory: Criando tipo 'PVBin' com params: {'method': 'binary', 'query': 'binary', 'norm': None, 'query_norm': None, 'ngram_range': [1, 2]}\n",
      "Model Factory (PVBin): Convertido ngram_range [1, 2] para tupla (1, 2)\n",
      "Fitting ProductVectorizerClassifier com 100 amostras...\n",
      "Fit concluído.\n",
      "Model Factory: Criando tipo 'PVBin' com params: {'method': 'binary', 'query': 'binary', 'norm': None, 'query_norm': None, 'ngram_range': [1, 2]}\n",
      "Model Factory (PVBin): Convertido ngram_range [1, 2] para tupla (1, 2)\n",
      "Fitting ProductVectorizerClassifier com 100 amostras...\n",
      "Fit concluído.\n",
      "Model Factory: Criando tipo 'PVBin' com params: {'method': 'binary', 'query': 'binary', 'norm': None, 'query_norm': None, 'ngram_range': [1, 2]}\n",
      "Model Factory (PVBin): Convertido ngram_range [1, 2] para tupla (1, 2)\n",
      "Fitting ProductVectorizerClassifier com 100 amostras...\n",
      "Fit concluído.\n",
      "Model Factory: Criando tipo 'PVBin' com params: {'method': 'binary', 'query': 'binary', 'norm': None, 'query_norm': None, 'ngram_range': [1, 2]}\n",
      "Model Factory (PVBin): Convertido ngram_range [1, 2] para tupla (1, 2)\n",
      "Fitting ProductVectorizerClassifier com 100 amostras...\n",
      "Fit concluído.\n",
      "Model Factory: Criando tipo 'PVBin' com params: {'method': 'binary', 'query': 'binary', 'norm': None, 'query_norm': None, 'ngram_range': [1, 2]}\n",
      "Model Factory (PVBin): Convertido ngram_range [1, 2] para tupla (1, 2)\n",
      "Fitting ProductVectorizerClassifier com 100 amostras...\n",
      "Fit concluído.\n",
      "Model Factory: Criando tipo 'PVBin' com params: {'method': 'binary', 'query': 'binary', 'norm': None, 'query_norm': None, 'ngram_range': [1, 2]}\n",
      "Model Factory (PVBin): Convertido ngram_range [1, 2] para tupla (1, 2)\n",
      "Fitting ProductVectorizerClassifier com 100 amostras...\n",
      "Fit concluído.\n",
      "Model Factory: Criando tipo 'PVBin' com params: {'method': 'binary', 'query': 'binary', 'norm': None, 'query_norm': None, 'ngram_range': [1, 2]}\n",
      "Model Factory (PVBin): Convertido ngram_range [1, 2] para tupla (1, 2)\n",
      "Fitting ProductVectorizerClassifier com 100 amostras...\n",
      "Fit concluído.\n",
      "Model Factory: Criando tipo 'PVBin' com params: {'method': 'binary', 'query': 'binary', 'norm': None, 'query_norm': None, 'ngram_range': [1, 2]}\n",
      "Model Factory (PVBin): Convertido ngram_range [1, 2] para tupla (1, 2)\n",
      "Fitting ProductVectorizerClassifier com 100 amostras...\n",
      "Fit concluído.\n",
      "Model Factory: Criando tipo 'PVBin' com params: {'method': 'binary', 'query': 'binary', 'norm': None, 'query_norm': None, 'ngram_range': [1, 2]}\n",
      "Model Factory (PVBin): Convertido ngram_range [1, 2] para tupla (1, 2)\n",
      "Fitting ProductVectorizerClassifier com 100 amostras...\n",
      "Fit concluído.\n",
      "Model Factory: Criando tipo 'PVBin' com params: {'method': 'binary', 'query': 'binary', 'norm': None, 'query_norm': None, 'ngram_range': [1, 2]}\n",
      "Model Factory (PVBin): Convertido ngram_range [1, 2] para tupla (1, 2)\n",
      "Fitting ProductVectorizerClassifier com 100 amostras...\n",
      "Fit concluído.\n",
      "Model Factory: Criando tipo 'PVBin' com params: {'method': 'binary', 'query': 'binary', 'norm': None, 'query_norm': None, 'ngram_range': [1, 2]}\n",
      "Model Factory (PVBin): Convertido ngram_range [1, 2] para tupla (1, 2)\n",
      "Fitting ProductVectorizerClassifier com 100 amostras...\n",
      "Fit concluído.\n",
      "Model Factory: Criando tipo 'PVBin' com params: {'method': 'binary', 'query': 'binary', 'norm': None, 'query_norm': None, 'ngram_range': [1, 2]}\n",
      "Model Factory (PVBin): Convertido ngram_range [1, 2] para tupla (1, 2)\n",
      "Fitting ProductVectorizerClassifier com 100 amostras...\n",
      "Fit concluído.\n",
      "Model Factory: Criando tipo 'PVBin' com params: {'method': 'binary', 'query': 'binary', 'norm': None, 'query_norm': None, 'ngram_range': [1, 2]}\n",
      "Model Factory (PVBin): Convertido ngram_range [1, 2] para tupla (1, 2)\n",
      "Fitting ProductVectorizerClassifier com 100 amostras...\n",
      "Fit concluído.\n",
      "Model Factory: Criando tipo 'PVBin' com params: {'method': 'binary', 'query': 'binary', 'norm': None, 'query_norm': None, 'ngram_range': [1, 2]}\n",
      "Model Factory (PVBin): Convertido ngram_range [1, 2] para tupla (1, 2)\n",
      "Fitting ProductVectorizerClassifier com 100 amostras...\n",
      "Fit concluído.\n",
      "Model Factory: Criando tipo 'PVBin' com params: {'method': 'binary', 'query': 'binary', 'norm': None, 'query_norm': None, 'ngram_range': [1, 2]}\n",
      "Model Factory (PVBin): Convertido ngram_range [1, 2] para tupla (1, 2)\n",
      "Fitting ProductVectorizerClassifier com 100 amostras...\n",
      "Fit concluído.\n",
      "    Novo melhor (Obj: minimize): Perf Real=0.2183\n",
      "    Acc Real Geração 1: Max=0.2760, Avg=0.2504, Min=0.2183\n",
      "    F1 Real Geração  1: Max=0.0404, Avg=0.0342, Min=0.0302\n",
      "    Duração Geração 1: 120.01s\n",
      "\n",
      "  Geração 2/100\n"
     ]
    },
    {
     "data": {
      "application/vnd.jupyter.widget-view+json": {
       "model_id": "e3c41cfb48ec439bbabc288913caf407",
       "version_major": 2,
       "version_minor": 0
      },
      "text/plain": [
       "Fitness Calc Gen 2:   0%|          | 0/20 [00:00<?, ?it/s]"
      ]
     },
     "metadata": {},
     "output_type": "display_data"
    },
    {
     "name": "stdout",
     "output_type": "stream",
     "text": [
      "Model Factory: Criando tipo 'PVBin' com params: {'method': 'binary', 'query': 'binary', 'norm': None, 'query_norm': None, 'ngram_range': [1, 2]}\n",
      "Model Factory (PVBin): Convertido ngram_range [1, 2] para tupla (1, 2)\n",
      "Fitting ProductVectorizerClassifier com 100 amostras...\n",
      "Fit concluído.\n",
      "Model Factory: Criando tipo 'PVBin' com params: {'method': 'binary', 'query': 'binary', 'norm': None, 'query_norm': None, 'ngram_range': [1, 2]}\n",
      "Model Factory (PVBin): Convertido ngram_range [1, 2] para tupla (1, 2)\n",
      "Fitting ProductVectorizerClassifier com 100 amostras...\n",
      "Fit concluído.\n",
      "Model Factory: Criando tipo 'PVBin' com params: {'method': 'binary', 'query': 'binary', 'norm': None, 'query_norm': None, 'ngram_range': [1, 2]}\n",
      "Model Factory (PVBin): Convertido ngram_range [1, 2] para tupla (1, 2)\n",
      "Fitting ProductVectorizerClassifier com 100 amostras...\n",
      "Fit concluído.\n",
      "Model Factory: Criando tipo 'PVBin' com params: {'method': 'binary', 'query': 'binary', 'norm': None, 'query_norm': None, 'ngram_range': [1, 2]}\n",
      "Model Factory (PVBin): Convertido ngram_range [1, 2] para tupla (1, 2)\n",
      "Fitting ProductVectorizerClassifier com 100 amostras...\n",
      "Fit concluído.\n",
      "Model Factory: Criando tipo 'PVBin' com params: {'method': 'binary', 'query': 'binary', 'norm': None, 'query_norm': None, 'ngram_range': [1, 2]}\n",
      "Model Factory (PVBin): Convertido ngram_range [1, 2] para tupla (1, 2)\n",
      "Fitting ProductVectorizerClassifier com 100 amostras...\n",
      "Fit concluído.\n",
      "Model Factory: Criando tipo 'PVBin' com params: {'method': 'binary', 'query': 'binary', 'norm': None, 'query_norm': None, 'ngram_range': [1, 2]}\n",
      "Model Factory (PVBin): Convertido ngram_range [1, 2] para tupla (1, 2)\n",
      "Fitting ProductVectorizerClassifier com 100 amostras...\n",
      "Fit concluído.\n",
      "Model Factory: Criando tipo 'PVBin' com params: {'method': 'binary', 'query': 'binary', 'norm': None, 'query_norm': None, 'ngram_range': [1, 2]}\n",
      "Model Factory (PVBin): Convertido ngram_range [1, 2] para tupla (1, 2)\n",
      "Fitting ProductVectorizerClassifier com 100 amostras...\n",
      "Fit concluído.\n",
      "Model Factory: Criando tipo 'PVBin' com params: {'method': 'binary', 'query': 'binary', 'norm': None, 'query_norm': None, 'ngram_range': [1, 2]}\n",
      "Model Factory (PVBin): Convertido ngram_range [1, 2] para tupla (1, 2)\n",
      "Fitting ProductVectorizerClassifier com 100 amostras...\n",
      "Fit concluído.\n",
      "Model Factory: Criando tipo 'PVBin' com params: {'method': 'binary', 'query': 'binary', 'norm': None, 'query_norm': None, 'ngram_range': [1, 2]}\n",
      "Model Factory (PVBin): Convertido ngram_range [1, 2] para tupla (1, 2)\n",
      "Fitting ProductVectorizerClassifier com 100 amostras...\n",
      "Fit concluído.\n",
      "Model Factory: Criando tipo 'PVBin' com params: {'method': 'binary', 'query': 'binary', 'norm': None, 'query_norm': None, 'ngram_range': [1, 2]}\n",
      "Model Factory (PVBin): Convertido ngram_range [1, 2] para tupla (1, 2)\n",
      "Fitting ProductVectorizerClassifier com 100 amostras...\n",
      "Fit concluído.\n",
      "Model Factory: Criando tipo 'PVBin' com params: {'method': 'binary', 'query': 'binary', 'norm': None, 'query_norm': None, 'ngram_range': [1, 2]}\n",
      "Model Factory (PVBin): Convertido ngram_range [1, 2] para tupla (1, 2)\n",
      "Fitting ProductVectorizerClassifier com 100 amostras...\n",
      "Fit concluído.\n",
      "Model Factory: Criando tipo 'PVBin' com params: {'method': 'binary', 'query': 'binary', 'norm': None, 'query_norm': None, 'ngram_range': [1, 2]}\n",
      "Model Factory (PVBin): Convertido ngram_range [1, 2] para tupla (1, 2)\n",
      "Fitting ProductVectorizerClassifier com 100 amostras...\n",
      "Fit concluído.\n",
      "Model Factory: Criando tipo 'PVBin' com params: {'method': 'binary', 'query': 'binary', 'norm': None, 'query_norm': None, 'ngram_range': [1, 2]}\n",
      "Model Factory (PVBin): Convertido ngram_range [1, 2] para tupla (1, 2)\n",
      "Fitting ProductVectorizerClassifier com 100 amostras...\n",
      "Fit concluído.\n",
      "Model Factory: Criando tipo 'PVBin' com params: {'method': 'binary', 'query': 'binary', 'norm': None, 'query_norm': None, 'ngram_range': [1, 2]}\n",
      "Model Factory (PVBin): Convertido ngram_range [1, 2] para tupla (1, 2)\n",
      "Fitting ProductVectorizerClassifier com 100 amostras...\n",
      "Fit concluído.\n",
      "Model Factory: Criando tipo 'PVBin' com params: {'method': 'binary', 'query': 'binary', 'norm': None, 'query_norm': None, 'ngram_range': [1, 2]}\n",
      "Model Factory (PVBin): Convertido ngram_range [1, 2] para tupla (1, 2)\n",
      "Fitting ProductVectorizerClassifier com 100 amostras...\n",
      "Fit concluído.\n",
      "    Novo melhor (Obj: minimize): Perf Real=0.2030\n",
      "    Acc Real Geração 2: Max=0.2623, Avg=0.2364, Min=0.2030\n",
      "    F1 Real Geração  2: Max=0.0352, Avg=0.0319, Min=0.0282\n",
      "    Duração Geração 2: 94.16s\n",
      "\n",
      "  Geração 3/100\n"
     ]
    },
    {
     "data": {
      "application/vnd.jupyter.widget-view+json": {
       "model_id": "362dc3fc0ed94572b6096848501081e7",
       "version_major": 2,
       "version_minor": 0
      },
      "text/plain": [
       "Fitness Calc Gen 3:   0%|          | 0/20 [00:00<?, ?it/s]"
      ]
     },
     "metadata": {},
     "output_type": "display_data"
    },
    {
     "name": "stdout",
     "output_type": "stream",
     "text": [
      "Model Factory: Criando tipo 'PVBin' com params: {'method': 'binary', 'query': 'binary', 'norm': None, 'query_norm': None, 'ngram_range': [1, 2]}\n",
      "Model Factory (PVBin): Convertido ngram_range [1, 2] para tupla (1, 2)\n",
      "Fitting ProductVectorizerClassifier com 100 amostras...\n",
      "Fit concluído.\n",
      "Model Factory: Criando tipo 'PVBin' com params: {'method': 'binary', 'query': 'binary', 'norm': None, 'query_norm': None, 'ngram_range': [1, 2]}\n",
      "Model Factory (PVBin): Convertido ngram_range [1, 2] para tupla (1, 2)\n",
      "Fitting ProductVectorizerClassifier com 100 amostras...\n",
      "Fit concluído.\n",
      "Model Factory: Criando tipo 'PVBin' com params: {'method': 'binary', 'query': 'binary', 'norm': None, 'query_norm': None, 'ngram_range': [1, 2]}\n",
      "Model Factory (PVBin): Convertido ngram_range [1, 2] para tupla (1, 2)\n",
      "Fitting ProductVectorizerClassifier com 100 amostras...\n",
      "Fit concluído.\n",
      "Model Factory: Criando tipo 'PVBin' com params: {'method': 'binary', 'query': 'binary', 'norm': None, 'query_norm': None, 'ngram_range': [1, 2]}\n",
      "Model Factory (PVBin): Convertido ngram_range [1, 2] para tupla (1, 2)\n",
      "Fitting ProductVectorizerClassifier com 100 amostras...\n",
      "Fit concluído.\n",
      "Model Factory: Criando tipo 'PVBin' com params: {'method': 'binary', 'query': 'binary', 'norm': None, 'query_norm': None, 'ngram_range': [1, 2]}\n",
      "Model Factory (PVBin): Convertido ngram_range [1, 2] para tupla (1, 2)\n",
      "Fitting ProductVectorizerClassifier com 100 amostras...\n",
      "Fit concluído.\n",
      "Model Factory: Criando tipo 'PVBin' com params: {'method': 'binary', 'query': 'binary', 'norm': None, 'query_norm': None, 'ngram_range': [1, 2]}\n",
      "Model Factory (PVBin): Convertido ngram_range [1, 2] para tupla (1, 2)\n",
      "Fitting ProductVectorizerClassifier com 100 amostras...\n",
      "Fit concluído.\n",
      "Model Factory: Criando tipo 'PVBin' com params: {'method': 'binary', 'query': 'binary', 'norm': None, 'query_norm': None, 'ngram_range': [1, 2]}\n",
      "Model Factory (PVBin): Convertido ngram_range [1, 2] para tupla (1, 2)\n",
      "Fitting ProductVectorizerClassifier com 100 amostras...\n",
      "Fit concluído.\n",
      "Model Factory: Criando tipo 'PVBin' com params: {'method': 'binary', 'query': 'binary', 'norm': None, 'query_norm': None, 'ngram_range': [1, 2]}\n",
      "Model Factory (PVBin): Convertido ngram_range [1, 2] para tupla (1, 2)\n",
      "Fitting ProductVectorizerClassifier com 100 amostras...\n",
      "Fit concluído.\n",
      "Model Factory: Criando tipo 'PVBin' com params: {'method': 'binary', 'query': 'binary', 'norm': None, 'query_norm': None, 'ngram_range': [1, 2]}\n",
      "Model Factory (PVBin): Convertido ngram_range [1, 2] para tupla (1, 2)\n",
      "Fitting ProductVectorizerClassifier com 100 amostras...\n",
      "Fit concluído.\n",
      "    Acc Real Geração 3: Max=0.2466, Avg=0.2237, Min=0.2030\n",
      "    F1 Real Geração  3: Max=0.0358, Avg=0.0321, Min=0.0282\n",
      "    Duração Geração 3: 54.76s\n",
      "\n",
      "  Geração 4/100\n"
     ]
    },
    {
     "data": {
      "application/vnd.jupyter.widget-view+json": {
       "model_id": "b21be33dcae24d91ab168e5a08d10f78",
       "version_major": 2,
       "version_minor": 0
      },
      "text/plain": [
       "Fitness Calc Gen 4:   0%|          | 0/20 [00:00<?, ?it/s]"
      ]
     },
     "metadata": {},
     "output_type": "display_data"
    },
    {
     "name": "stdout",
     "output_type": "stream",
     "text": [
      "Model Factory: Criando tipo 'PVBin' com params: {'method': 'binary', 'query': 'binary', 'norm': None, 'query_norm': None, 'ngram_range': [1, 2]}\n",
      "Model Factory (PVBin): Convertido ngram_range [1, 2] para tupla (1, 2)\n",
      "Fitting ProductVectorizerClassifier com 100 amostras...\n",
      "Fit concluído.\n",
      "Model Factory: Criando tipo 'PVBin' com params: {'method': 'binary', 'query': 'binary', 'norm': None, 'query_norm': None, 'ngram_range': [1, 2]}\n",
      "Model Factory (PVBin): Convertido ngram_range [1, 2] para tupla (1, 2)\n",
      "Fitting ProductVectorizerClassifier com 100 amostras...\n",
      "Fit concluído.\n",
      "Model Factory: Criando tipo 'PVBin' com params: {'method': 'binary', 'query': 'binary', 'norm': None, 'query_norm': None, 'ngram_range': [1, 2]}\n",
      "Model Factory (PVBin): Convertido ngram_range [1, 2] para tupla (1, 2)\n",
      "Fitting ProductVectorizerClassifier com 100 amostras...\n",
      "Fit concluído.\n",
      "Model Factory: Criando tipo 'PVBin' com params: {'method': 'binary', 'query': 'binary', 'norm': None, 'query_norm': None, 'ngram_range': [1, 2]}\n",
      "Model Factory (PVBin): Convertido ngram_range [1, 2] para tupla (1, 2)\n",
      "Fitting ProductVectorizerClassifier com 100 amostras...\n",
      "Fit concluído.\n",
      "Model Factory: Criando tipo 'PVBin' com params: {'method': 'binary', 'query': 'binary', 'norm': None, 'query_norm': None, 'ngram_range': [1, 2]}\n",
      "Model Factory (PVBin): Convertido ngram_range [1, 2] para tupla (1, 2)\n",
      "Fitting ProductVectorizerClassifier com 100 amostras...\n",
      "Fit concluído.\n",
      "Model Factory: Criando tipo 'PVBin' com params: {'method': 'binary', 'query': 'binary', 'norm': None, 'query_norm': None, 'ngram_range': [1, 2]}\n",
      "Model Factory (PVBin): Convertido ngram_range [1, 2] para tupla (1, 2)\n",
      "Fitting ProductVectorizerClassifier com 100 amostras...\n",
      "Fit concluído.\n",
      "Model Factory: Criando tipo 'PVBin' com params: {'method': 'binary', 'query': 'binary', 'norm': None, 'query_norm': None, 'ngram_range': [1, 2]}\n",
      "Model Factory (PVBin): Convertido ngram_range [1, 2] para tupla (1, 2)\n",
      "Fitting ProductVectorizerClassifier com 100 amostras...\n",
      "Fit concluído.\n",
      "Model Factory: Criando tipo 'PVBin' com params: {'method': 'binary', 'query': 'binary', 'norm': None, 'query_norm': None, 'ngram_range': [1, 2]}\n",
      "Model Factory (PVBin): Convertido ngram_range [1, 2] para tupla (1, 2)\n",
      "Fitting ProductVectorizerClassifier com 100 amostras...\n",
      "Fit concluído.\n",
      "    Novo melhor (Obj: minimize): Perf Real=0.1960\n",
      "    Acc Real Geração 4: Max=0.2412, Avg=0.2093, Min=0.1960\n",
      "    F1 Real Geração  4: Max=0.0366, Avg=0.0295, Min=0.0274\n",
      "    Duração Geração 4: 47.99s\n",
      "\n",
      "  Geração 5/100\n"
     ]
    },
    {
     "data": {
      "application/vnd.jupyter.widget-view+json": {
       "model_id": "9a116093a3da4e8d96c4cf27c29a7535",
       "version_major": 2,
       "version_minor": 0
      },
      "text/plain": [
       "Fitness Calc Gen 5:   0%|          | 0/20 [00:00<?, ?it/s]"
      ]
     },
     "metadata": {},
     "output_type": "display_data"
    },
    {
     "name": "stdout",
     "output_type": "stream",
     "text": [
      "Model Factory: Criando tipo 'PVBin' com params: {'method': 'binary', 'query': 'binary', 'norm': None, 'query_norm': None, 'ngram_range': [1, 2]}\n",
      "Model Factory (PVBin): Convertido ngram_range [1, 2] para tupla (1, 2)\n",
      "Fitting ProductVectorizerClassifier com 100 amostras...\n",
      "Fit concluído.\n",
      "Model Factory: Criando tipo 'PVBin' com params: {'method': 'binary', 'query': 'binary', 'norm': None, 'query_norm': None, 'ngram_range': [1, 2]}\n",
      "Model Factory (PVBin): Convertido ngram_range [1, 2] para tupla (1, 2)\n",
      "Fitting ProductVectorizerClassifier com 100 amostras...\n",
      "Fit concluído.\n",
      "Model Factory: Criando tipo 'PVBin' com params: {'method': 'binary', 'query': 'binary', 'norm': None, 'query_norm': None, 'ngram_range': [1, 2]}\n",
      "Model Factory (PVBin): Convertido ngram_range [1, 2] para tupla (1, 2)\n",
      "Fitting ProductVectorizerClassifier com 100 amostras...\n",
      "Fit concluído.\n",
      "Model Factory: Criando tipo 'PVBin' com params: {'method': 'binary', 'query': 'binary', 'norm': None, 'query_norm': None, 'ngram_range': [1, 2]}\n",
      "Model Factory (PVBin): Convertido ngram_range [1, 2] para tupla (1, 2)\n",
      "Fitting ProductVectorizerClassifier com 100 amostras...\n",
      "Fit concluído.\n",
      "Model Factory: Criando tipo 'PVBin' com params: {'method': 'binary', 'query': 'binary', 'norm': None, 'query_norm': None, 'ngram_range': [1, 2]}\n",
      "Model Factory (PVBin): Convertido ngram_range [1, 2] para tupla (1, 2)\n",
      "Fitting ProductVectorizerClassifier com 100 amostras...\n",
      "Fit concluído.\n",
      "Model Factory: Criando tipo 'PVBin' com params: {'method': 'binary', 'query': 'binary', 'norm': None, 'query_norm': None, 'ngram_range': [1, 2]}\n",
      "Model Factory (PVBin): Convertido ngram_range [1, 2] para tupla (1, 2)\n",
      "Fitting ProductVectorizerClassifier com 100 amostras...\n",
      "Fit concluído.\n",
      "    Acc Real Geração 5: Max=0.2161, Avg=0.2011, Min=0.1960\n",
      "    F1 Real Geração  5: Max=0.0311, Avg=0.0283, Min=0.0265\n",
      "    Duração Geração 5: 35.83s\n",
      "\n",
      "  Geração 6/100\n"
     ]
    },
    {
     "data": {
      "application/vnd.jupyter.widget-view+json": {
       "model_id": "e6771914b5b3477f8d5b9253c60a89f3",
       "version_major": 2,
       "version_minor": 0
      },
      "text/plain": [
       "Fitness Calc Gen 6:   0%|          | 0/20 [00:00<?, ?it/s]"
      ]
     },
     "metadata": {},
     "output_type": "display_data"
    },
    {
     "name": "stdout",
     "output_type": "stream",
     "text": [
      "Model Factory: Criando tipo 'PVBin' com params: {'method': 'binary', 'query': 'binary', 'norm': None, 'query_norm': None, 'ngram_range': [1, 2]}\n",
      "Model Factory (PVBin): Convertido ngram_range [1, 2] para tupla (1, 2)\n",
      "Fitting ProductVectorizerClassifier com 100 amostras...\n",
      "Fit concluído.\n",
      "Model Factory: Criando tipo 'PVBin' com params: {'method': 'binary', 'query': 'binary', 'norm': None, 'query_norm': None, 'ngram_range': [1, 2]}\n",
      "Model Factory (PVBin): Convertido ngram_range [1, 2] para tupla (1, 2)\n",
      "Fitting ProductVectorizerClassifier com 100 amostras...\n",
      "Fit concluído.\n",
      "Model Factory: Criando tipo 'PVBin' com params: {'method': 'binary', 'query': 'binary', 'norm': None, 'query_norm': None, 'ngram_range': [1, 2]}\n",
      "Model Factory (PVBin): Convertido ngram_range [1, 2] para tupla (1, 2)\n",
      "Fitting ProductVectorizerClassifier com 100 amostras...\n",
      "Fit concluído.\n",
      "Model Factory: Criando tipo 'PVBin' com params: {'method': 'binary', 'query': 'binary', 'norm': None, 'query_norm': None, 'ngram_range': [1, 2]}\n",
      "Model Factory (PVBin): Convertido ngram_range [1, 2] para tupla (1, 2)\n",
      "Fitting ProductVectorizerClassifier com 100 amostras...\n",
      "Fit concluído.\n",
      "Model Factory: Criando tipo 'PVBin' com params: {'method': 'binary', 'query': 'binary', 'norm': None, 'query_norm': None, 'ngram_range': [1, 2]}\n",
      "Model Factory (PVBin): Convertido ngram_range [1, 2] para tupla (1, 2)\n",
      "Fitting ProductVectorizerClassifier com 100 amostras...\n",
      "Fit concluído.\n",
      "Model Factory: Criando tipo 'PVBin' com params: {'method': 'binary', 'query': 'binary', 'norm': None, 'query_norm': None, 'ngram_range': [1, 2]}\n",
      "Model Factory (PVBin): Convertido ngram_range [1, 2] para tupla (1, 2)\n",
      "Fitting ProductVectorizerClassifier com 100 amostras...\n",
      "Fit concluído.\n",
      "Model Factory: Criando tipo 'PVBin' com params: {'method': 'binary', 'query': 'binary', 'norm': None, 'query_norm': None, 'ngram_range': [1, 2]}\n",
      "Model Factory (PVBin): Convertido ngram_range [1, 2] para tupla (1, 2)\n",
      "Fitting ProductVectorizerClassifier com 100 amostras...\n",
      "Fit concluído.\n",
      "Model Factory: Criando tipo 'PVBin' com params: {'method': 'binary', 'query': 'binary', 'norm': None, 'query_norm': None, 'ngram_range': [1, 2]}\n",
      "Model Factory (PVBin): Convertido ngram_range [1, 2] para tupla (1, 2)\n",
      "Fitting ProductVectorizerClassifier com 100 amostras...\n",
      "Fit concluído.\n",
      "Model Factory: Criando tipo 'PVBin' com params: {'method': 'binary', 'query': 'binary', 'norm': None, 'query_norm': None, 'ngram_range': [1, 2]}\n",
      "Model Factory (PVBin): Convertido ngram_range [1, 2] para tupla (1, 2)\n",
      "Fitting ProductVectorizerClassifier com 100 amostras...\n",
      "Fit concluído.\n",
      "Model Factory: Criando tipo 'PVBin' com params: {'method': 'binary', 'query': 'binary', 'norm': None, 'query_norm': None, 'ngram_range': [1, 2]}\n",
      "Model Factory (PVBin): Convertido ngram_range [1, 2] para tupla (1, 2)\n",
      "Fitting ProductVectorizerClassifier com 100 amostras...\n",
      "Fit concluído.\n",
      "Model Factory: Criando tipo 'PVBin' com params: {'method': 'binary', 'query': 'binary', 'norm': None, 'query_norm': None, 'ngram_range': [1, 2]}\n",
      "Model Factory (PVBin): Convertido ngram_range [1, 2] para tupla (1, 2)\n",
      "Fitting ProductVectorizerClassifier com 100 amostras...\n",
      "Fit concluído.\n",
      "    Novo melhor (Obj: minimize): Perf Real=0.1943\n",
      "    Acc Real Geração 6: Max=0.2083, Avg=0.1978, Min=0.1943\n",
      "    F1 Real Geração  6: Max=0.0311, Avg=0.0280, Min=0.0265\n",
      "    Duração Geração 6: 66.28s\n",
      "\n",
      "  Geração 7/100\n"
     ]
    },
    {
     "data": {
      "application/vnd.jupyter.widget-view+json": {
       "model_id": "8efd334e9480400d9e3ff2ca2ab031fa",
       "version_major": 2,
       "version_minor": 0
      },
      "text/plain": [
       "Fitness Calc Gen 7:   0%|          | 0/20 [00:00<?, ?it/s]"
      ]
     },
     "metadata": {},
     "output_type": "display_data"
    },
    {
     "name": "stdout",
     "output_type": "stream",
     "text": [
      "Model Factory: Criando tipo 'PVBin' com params: {'method': 'binary', 'query': 'binary', 'norm': None, 'query_norm': None, 'ngram_range': [1, 2]}\n",
      "Model Factory (PVBin): Convertido ngram_range [1, 2] para tupla (1, 2)\n",
      "Fitting ProductVectorizerClassifier com 100 amostras...\n",
      "Fit concluído.\n",
      "Model Factory: Criando tipo 'PVBin' com params: {'method': 'binary', 'query': 'binary', 'norm': None, 'query_norm': None, 'ngram_range': [1, 2]}\n",
      "Model Factory (PVBin): Convertido ngram_range [1, 2] para tupla (1, 2)\n",
      "Fitting ProductVectorizerClassifier com 100 amostras...\n",
      "Fit concluído.\n",
      "Model Factory: Criando tipo 'PVBin' com params: {'method': 'binary', 'query': 'binary', 'norm': None, 'query_norm': None, 'ngram_range': [1, 2]}\n",
      "Model Factory (PVBin): Convertido ngram_range [1, 2] para tupla (1, 2)\n",
      "Fitting ProductVectorizerClassifier com 100 amostras...\n",
      "Fit concluído.\n",
      "Model Factory: Criando tipo 'PVBin' com params: {'method': 'binary', 'query': 'binary', 'norm': None, 'query_norm': None, 'ngram_range': [1, 2]}\n",
      "Model Factory (PVBin): Convertido ngram_range [1, 2] para tupla (1, 2)\n",
      "Fitting ProductVectorizerClassifier com 100 amostras...\n",
      "Fit concluído.\n",
      "Model Factory: Criando tipo 'PVBin' com params: {'method': 'binary', 'query': 'binary', 'norm': None, 'query_norm': None, 'ngram_range': [1, 2]}\n",
      "Model Factory (PVBin): Convertido ngram_range [1, 2] para tupla (1, 2)\n",
      "Fitting ProductVectorizerClassifier com 100 amostras...\n",
      "Fit concluído.\n",
      "Model Factory: Criando tipo 'PVBin' com params: {'method': 'binary', 'query': 'binary', 'norm': None, 'query_norm': None, 'ngram_range': [1, 2]}\n",
      "Model Factory (PVBin): Convertido ngram_range [1, 2] para tupla (1, 2)\n",
      "Fitting ProductVectorizerClassifier com 100 amostras...\n",
      "Fit concluído.\n",
      "Model Factory: Criando tipo 'PVBin' com params: {'method': 'binary', 'query': 'binary', 'norm': None, 'query_norm': None, 'ngram_range': [1, 2]}\n",
      "Model Factory (PVBin): Convertido ngram_range [1, 2] para tupla (1, 2)\n",
      "Fitting ProductVectorizerClassifier com 100 amostras...\n",
      "Fit concluído.\n",
      "Model Factory: Criando tipo 'PVBin' com params: {'method': 'binary', 'query': 'binary', 'norm': None, 'query_norm': None, 'ngram_range': [1, 2]}\n",
      "Model Factory (PVBin): Convertido ngram_range [1, 2] para tupla (1, 2)\n",
      "Fitting ProductVectorizerClassifier com 100 amostras...\n",
      "Fit concluído.\n",
      "Model Factory: Criando tipo 'PVBin' com params: {'method': 'binary', 'query': 'binary', 'norm': None, 'query_norm': None, 'ngram_range': [1, 2]}\n",
      "Model Factory (PVBin): Convertido ngram_range [1, 2] para tupla (1, 2)\n",
      "Fitting ProductVectorizerClassifier com 100 amostras...\n",
      "Fit concluído.\n",
      "    Novo melhor (Obj: minimize): Perf Real=0.1877\n",
      "    Acc Real Geração 7: Max=0.2104, Avg=0.1976, Min=0.1877\n",
      "    F1 Real Geração  7: Max=0.0297, Avg=0.0277, Min=0.0265\n",
      "    Duração Geração 7: 54.91s\n",
      "\n",
      "  Geração 8/100\n"
     ]
    },
    {
     "data": {
      "application/vnd.jupyter.widget-view+json": {
       "model_id": "2a3a149aaf374ed2a82daebd60a4c59f",
       "version_major": 2,
       "version_minor": 0
      },
      "text/plain": [
       "Fitness Calc Gen 8:   0%|          | 0/20 [00:00<?, ?it/s]"
      ]
     },
     "metadata": {},
     "output_type": "display_data"
    },
    {
     "name": "stdout",
     "output_type": "stream",
     "text": [
      "Model Factory: Criando tipo 'PVBin' com params: {'method': 'binary', 'query': 'binary', 'norm': None, 'query_norm': None, 'ngram_range': [1, 2]}\n",
      "Model Factory (PVBin): Convertido ngram_range [1, 2] para tupla (1, 2)\n",
      "Fitting ProductVectorizerClassifier com 100 amostras...\n",
      "Fit concluído.\n",
      "Model Factory: Criando tipo 'PVBin' com params: {'method': 'binary', 'query': 'binary', 'norm': None, 'query_norm': None, 'ngram_range': [1, 2]}\n",
      "Model Factory (PVBin): Convertido ngram_range [1, 2] para tupla (1, 2)\n",
      "Fitting ProductVectorizerClassifier com 100 amostras...\n",
      "Fit concluído.\n",
      "Model Factory: Criando tipo 'PVBin' com params: {'method': 'binary', 'query': 'binary', 'norm': None, 'query_norm': None, 'ngram_range': [1, 2]}\n",
      "Model Factory (PVBin): Convertido ngram_range [1, 2] para tupla (1, 2)\n",
      "Fitting ProductVectorizerClassifier com 100 amostras...\n",
      "Fit concluído.\n",
      "Model Factory: Criando tipo 'PVBin' com params: {'method': 'binary', 'query': 'binary', 'norm': None, 'query_norm': None, 'ngram_range': [1, 2]}\n",
      "Model Factory (PVBin): Convertido ngram_range [1, 2] para tupla (1, 2)\n",
      "Fitting ProductVectorizerClassifier com 100 amostras...\n",
      "Fit concluído.\n",
      "Model Factory: Criando tipo 'PVBin' com params: {'method': 'binary', 'query': 'binary', 'norm': None, 'query_norm': None, 'ngram_range': [1, 2]}\n",
      "Model Factory (PVBin): Convertido ngram_range [1, 2] para tupla (1, 2)\n",
      "Fitting ProductVectorizerClassifier com 100 amostras...\n",
      "Fit concluído.\n",
      "Model Factory: Criando tipo 'PVBin' com params: {'method': 'binary', 'query': 'binary', 'norm': None, 'query_norm': None, 'ngram_range': [1, 2]}\n",
      "Model Factory (PVBin): Convertido ngram_range [1, 2] para tupla (1, 2)\n",
      "Fitting ProductVectorizerClassifier com 100 amostras...\n",
      "Fit concluído.\n",
      "Model Factory: Criando tipo 'PVBin' com params: {'method': 'binary', 'query': 'binary', 'norm': None, 'query_norm': None, 'ngram_range': [1, 2]}\n",
      "Model Factory (PVBin): Convertido ngram_range [1, 2] para tupla (1, 2)\n",
      "Fitting ProductVectorizerClassifier com 100 amostras...\n",
      "Fit concluído.\n",
      "Model Factory: Criando tipo 'PVBin' com params: {'method': 'binary', 'query': 'binary', 'norm': None, 'query_norm': None, 'ngram_range': [1, 2]}\n",
      "Model Factory (PVBin): Convertido ngram_range [1, 2] para tupla (1, 2)\n",
      "Fitting ProductVectorizerClassifier com 100 amostras...\n",
      "Fit concluído.\n",
      "Model Factory: Criando tipo 'PVBin' com params: {'method': 'binary', 'query': 'binary', 'norm': None, 'query_norm': None, 'ngram_range': [1, 2]}\n",
      "Model Factory (PVBin): Convertido ngram_range [1, 2] para tupla (1, 2)\n",
      "Fitting ProductVectorizerClassifier com 100 amostras...\n",
      "Fit concluído.\n",
      "Model Factory: Criando tipo 'PVBin' com params: {'method': 'binary', 'query': 'binary', 'norm': None, 'query_norm': None, 'ngram_range': [1, 2]}\n",
      "Model Factory (PVBin): Convertido ngram_range [1, 2] para tupla (1, 2)\n",
      "Fitting ProductVectorizerClassifier com 100 amostras...\n",
      "Fit concluído.\n",
      "Model Factory: Criando tipo 'PVBin' com params: {'method': 'binary', 'query': 'binary', 'norm': None, 'query_norm': None, 'ngram_range': [1, 2]}\n",
      "Model Factory (PVBin): Convertido ngram_range [1, 2] para tupla (1, 2)\n",
      "Fitting ProductVectorizerClassifier com 100 amostras...\n",
      "Fit concluído.\n",
      "Model Factory: Criando tipo 'PVBin' com params: {'method': 'binary', 'query': 'binary', 'norm': None, 'query_norm': None, 'ngram_range': [1, 2]}\n",
      "Model Factory (PVBin): Convertido ngram_range [1, 2] para tupla (1, 2)\n",
      "Fitting ProductVectorizerClassifier com 100 amostras...\n",
      "Fit concluído.\n",
      "    Novo melhor (Obj: minimize): Perf Real=0.1863\n",
      "    Acc Real Geração 8: Max=0.2074, Avg=0.1958, Min=0.1863\n",
      "    F1 Real Geração  8: Max=0.0297, Avg=0.0278, Min=0.0269\n",
      "    Duração Geração 8: 73.24s\n",
      "\n",
      "  Geração 9/100\n"
     ]
    },
    {
     "data": {
      "application/vnd.jupyter.widget-view+json": {
       "model_id": "d8bc3d3fa3c54c07b52440ac4f2afb51",
       "version_major": 2,
       "version_minor": 0
      },
      "text/plain": [
       "Fitness Calc Gen 9:   0%|          | 0/20 [00:00<?, ?it/s]"
      ]
     },
     "metadata": {},
     "output_type": "display_data"
    },
    {
     "name": "stdout",
     "output_type": "stream",
     "text": [
      "Model Factory: Criando tipo 'PVBin' com params: {'method': 'binary', 'query': 'binary', 'norm': None, 'query_norm': None, 'ngram_range': [1, 2]}\n",
      "Model Factory (PVBin): Convertido ngram_range [1, 2] para tupla (1, 2)\n",
      "Fitting ProductVectorizerClassifier com 100 amostras...\n",
      "Fit concluído.\n",
      "Model Factory: Criando tipo 'PVBin' com params: {'method': 'binary', 'query': 'binary', 'norm': None, 'query_norm': None, 'ngram_range': [1, 2]}\n",
      "Model Factory (PVBin): Convertido ngram_range [1, 2] para tupla (1, 2)\n",
      "Fitting ProductVectorizerClassifier com 100 amostras...\n",
      "Fit concluído.\n",
      "Model Factory: Criando tipo 'PVBin' com params: {'method': 'binary', 'query': 'binary', 'norm': None, 'query_norm': None, 'ngram_range': [1, 2]}\n",
      "Model Factory (PVBin): Convertido ngram_range [1, 2] para tupla (1, 2)\n",
      "Fitting ProductVectorizerClassifier com 100 amostras...\n",
      "Fit concluído.\n",
      "Model Factory: Criando tipo 'PVBin' com params: {'method': 'binary', 'query': 'binary', 'norm': None, 'query_norm': None, 'ngram_range': [1, 2]}\n",
      "Model Factory (PVBin): Convertido ngram_range [1, 2] para tupla (1, 2)\n",
      "Fitting ProductVectorizerClassifier com 100 amostras...\n",
      "Fit concluído.\n",
      "Model Factory: Criando tipo 'PVBin' com params: {'method': 'binary', 'query': 'binary', 'norm': None, 'query_norm': None, 'ngram_range': [1, 2]}\n",
      "Model Factory (PVBin): Convertido ngram_range [1, 2] para tupla (1, 2)\n",
      "Fitting ProductVectorizerClassifier com 100 amostras...\n",
      "Fit concluído.\n",
      "Model Factory: Criando tipo 'PVBin' com params: {'method': 'binary', 'query': 'binary', 'norm': None, 'query_norm': None, 'ngram_range': [1, 2]}\n",
      "Model Factory (PVBin): Convertido ngram_range [1, 2] para tupla (1, 2)\n",
      "Fitting ProductVectorizerClassifier com 100 amostras...\n",
      "Fit concluído.\n",
      "Model Factory: Criando tipo 'PVBin' com params: {'method': 'binary', 'query': 'binary', 'norm': None, 'query_norm': None, 'ngram_range': [1, 2]}\n",
      "Model Factory (PVBin): Convertido ngram_range [1, 2] para tupla (1, 2)\n",
      "Fitting ProductVectorizerClassifier com 100 amostras...\n",
      "Fit concluído.\n",
      "Model Factory: Criando tipo 'PVBin' com params: {'method': 'binary', 'query': 'binary', 'norm': None, 'query_norm': None, 'ngram_range': [1, 2]}\n",
      "Model Factory (PVBin): Convertido ngram_range [1, 2] para tupla (1, 2)\n",
      "Fitting ProductVectorizerClassifier com 100 amostras...\n",
      "Fit concluído.\n",
      "Model Factory: Criando tipo 'PVBin' com params: {'method': 'binary', 'query': 'binary', 'norm': None, 'query_norm': None, 'ngram_range': [1, 2]}\n",
      "Model Factory (PVBin): Convertido ngram_range [1, 2] para tupla (1, 2)\n",
      "Fitting ProductVectorizerClassifier com 100 amostras...\n",
      "Fit concluído.\n",
      "Model Factory: Criando tipo 'PVBin' com params: {'method': 'binary', 'query': 'binary', 'norm': None, 'query_norm': None, 'ngram_range': [1, 2]}\n",
      "Model Factory (PVBin): Convertido ngram_range [1, 2] para tupla (1, 2)\n",
      "Fitting ProductVectorizerClassifier com 100 amostras...\n",
      "Fit concluído.\n",
      "Model Factory: Criando tipo 'PVBin' com params: {'method': 'binary', 'query': 'binary', 'norm': None, 'query_norm': None, 'ngram_range': [1, 2]}\n",
      "Model Factory (PVBin): Convertido ngram_range [1, 2] para tupla (1, 2)\n",
      "Fitting ProductVectorizerClassifier com 100 amostras...\n",
      "Fit concluído.\n",
      "Model Factory: Criando tipo 'PVBin' com params: {'method': 'binary', 'query': 'binary', 'norm': None, 'query_norm': None, 'ngram_range': [1, 2]}\n",
      "Model Factory (PVBin): Convertido ngram_range [1, 2] para tupla (1, 2)\n",
      "Fitting ProductVectorizerClassifier com 100 amostras...\n",
      "Fit concluído.\n",
      "Model Factory: Criando tipo 'PVBin' com params: {'method': 'binary', 'query': 'binary', 'norm': None, 'query_norm': None, 'ngram_range': [1, 2]}\n",
      "Model Factory (PVBin): Convertido ngram_range [1, 2] para tupla (1, 2)\n",
      "Fitting ProductVectorizerClassifier com 100 amostras...\n",
      "Fit concluído.\n",
      "    Novo melhor (Obj: minimize): Perf Real=0.1839\n",
      "    Acc Real Geração 9: Max=0.2003, Avg=0.1909, Min=0.1839\n",
      "    F1 Real Geração  9: Max=0.0291, Avg=0.0278, Min=0.0266\n",
      "    Duração Geração 9: 78.45s\n",
      "\n",
      "  Geração 10/100\n"
     ]
    },
    {
     "data": {
      "application/vnd.jupyter.widget-view+json": {
       "model_id": "b14e02620a4445e788ca51232adb0d3c",
       "version_major": 2,
       "version_minor": 0
      },
      "text/plain": [
       "Fitness Calc Gen 10:   0%|          | 0/20 [00:00<?, ?it/s]"
      ]
     },
     "metadata": {},
     "output_type": "display_data"
    },
    {
     "name": "stdout",
     "output_type": "stream",
     "text": [
      "Model Factory: Criando tipo 'PVBin' com params: {'method': 'binary', 'query': 'binary', 'norm': None, 'query_norm': None, 'ngram_range': [1, 2]}\n",
      "Model Factory (PVBin): Convertido ngram_range [1, 2] para tupla (1, 2)\n",
      "Fitting ProductVectorizerClassifier com 100 amostras...\n",
      "Fit concluído.\n",
      "Model Factory: Criando tipo 'PVBin' com params: {'method': 'binary', 'query': 'binary', 'norm': None, 'query_norm': None, 'ngram_range': [1, 2]}\n",
      "Model Factory (PVBin): Convertido ngram_range [1, 2] para tupla (1, 2)\n",
      "Fitting ProductVectorizerClassifier com 100 amostras...\n",
      "Fit concluído.\n",
      "Model Factory: Criando tipo 'PVBin' com params: {'method': 'binary', 'query': 'binary', 'norm': None, 'query_norm': None, 'ngram_range': [1, 2]}\n",
      "Model Factory (PVBin): Convertido ngram_range [1, 2] para tupla (1, 2)\n",
      "Fitting ProductVectorizerClassifier com 100 amostras...\n",
      "Fit concluído.\n",
      "Model Factory: Criando tipo 'PVBin' com params: {'method': 'binary', 'query': 'binary', 'norm': None, 'query_norm': None, 'ngram_range': [1, 2]}\n",
      "Model Factory (PVBin): Convertido ngram_range [1, 2] para tupla (1, 2)\n",
      "Fitting ProductVectorizerClassifier com 100 amostras...\n",
      "Fit concluído.\n",
      "Model Factory: Criando tipo 'PVBin' com params: {'method': 'binary', 'query': 'binary', 'norm': None, 'query_norm': None, 'ngram_range': [1, 2]}\n",
      "Model Factory (PVBin): Convertido ngram_range [1, 2] para tupla (1, 2)\n",
      "Fitting ProductVectorizerClassifier com 100 amostras...\n",
      "Fit concluído.\n",
      "Model Factory: Criando tipo 'PVBin' com params: {'method': 'binary', 'query': 'binary', 'norm': None, 'query_norm': None, 'ngram_range': [1, 2]}\n",
      "Model Factory (PVBin): Convertido ngram_range [1, 2] para tupla (1, 2)\n",
      "Fitting ProductVectorizerClassifier com 100 amostras...\n",
      "Fit concluído.\n",
      "Model Factory: Criando tipo 'PVBin' com params: {'method': 'binary', 'query': 'binary', 'norm': None, 'query_norm': None, 'ngram_range': [1, 2]}\n",
      "Model Factory (PVBin): Convertido ngram_range [1, 2] para tupla (1, 2)\n",
      "Fitting ProductVectorizerClassifier com 100 amostras...\n",
      "Fit concluído.\n",
      "Model Factory: Criando tipo 'PVBin' com params: {'method': 'binary', 'query': 'binary', 'norm': None, 'query_norm': None, 'ngram_range': [1, 2]}\n",
      "Model Factory (PVBin): Convertido ngram_range [1, 2] para tupla (1, 2)\n",
      "Fitting ProductVectorizerClassifier com 100 amostras...\n",
      "Fit concluído.\n",
      "Model Factory: Criando tipo 'PVBin' com params: {'method': 'binary', 'query': 'binary', 'norm': None, 'query_norm': None, 'ngram_range': [1, 2]}\n",
      "Model Factory (PVBin): Convertido ngram_range [1, 2] para tupla (1, 2)\n",
      "Fitting ProductVectorizerClassifier com 100 amostras...\n",
      "Fit concluído.\n",
      "Model Factory: Criando tipo 'PVBin' com params: {'method': 'binary', 'query': 'binary', 'norm': None, 'query_norm': None, 'ngram_range': [1, 2]}\n",
      "Model Factory (PVBin): Convertido ngram_range [1, 2] para tupla (1, 2)\n",
      "Fitting ProductVectorizerClassifier com 100 amostras...\n",
      "Fit concluído.\n",
      "    Novo melhor (Obj: minimize): Perf Real=0.1833\n",
      "    Acc Real Geração 10: Max=0.1936, Avg=0.1868, Min=0.1833\n",
      "    F1 Real Geração  10: Max=0.0292, Avg=0.0281, Min=0.0272\n",
      "    Duração Geração 10: 60.15s\n",
      "\n",
      "  Geração 11/100\n"
     ]
    },
    {
     "data": {
      "application/vnd.jupyter.widget-view+json": {
       "model_id": "03538c4ab6544d28985eec8277d7b377",
       "version_major": 2,
       "version_minor": 0
      },
      "text/plain": [
       "Fitness Calc Gen 11:   0%|          | 0/20 [00:00<?, ?it/s]"
      ]
     },
     "metadata": {},
     "output_type": "display_data"
    },
    {
     "name": "stdout",
     "output_type": "stream",
     "text": [
      "Model Factory: Criando tipo 'PVBin' com params: {'method': 'binary', 'query': 'binary', 'norm': None, 'query_norm': None, 'ngram_range': [1, 2]}\n",
      "Model Factory (PVBin): Convertido ngram_range [1, 2] para tupla (1, 2)\n",
      "Fitting ProductVectorizerClassifier com 100 amostras...\n",
      "Fit concluído.\n",
      "Model Factory: Criando tipo 'PVBin' com params: {'method': 'binary', 'query': 'binary', 'norm': None, 'query_norm': None, 'ngram_range': [1, 2]}\n",
      "Model Factory (PVBin): Convertido ngram_range [1, 2] para tupla (1, 2)\n",
      "Fitting ProductVectorizerClassifier com 100 amostras...\n",
      "Fit concluído.\n",
      "Model Factory: Criando tipo 'PVBin' com params: {'method': 'binary', 'query': 'binary', 'norm': None, 'query_norm': None, 'ngram_range': [1, 2]}\n",
      "Model Factory (PVBin): Convertido ngram_range [1, 2] para tupla (1, 2)\n",
      "Fitting ProductVectorizerClassifier com 100 amostras...\n",
      "Fit concluído.\n",
      "Model Factory: Criando tipo 'PVBin' com params: {'method': 'binary', 'query': 'binary', 'norm': None, 'query_norm': None, 'ngram_range': [1, 2]}\n",
      "Model Factory (PVBin): Convertido ngram_range [1, 2] para tupla (1, 2)\n",
      "Fitting ProductVectorizerClassifier com 100 amostras...\n",
      "Fit concluído.\n",
      "Model Factory: Criando tipo 'PVBin' com params: {'method': 'binary', 'query': 'binary', 'norm': None, 'query_norm': None, 'ngram_range': [1, 2]}\n",
      "Model Factory (PVBin): Convertido ngram_range [1, 2] para tupla (1, 2)\n",
      "Fitting ProductVectorizerClassifier com 100 amostras...\n",
      "Fit concluído.\n",
      "Model Factory: Criando tipo 'PVBin' com params: {'method': 'binary', 'query': 'binary', 'norm': None, 'query_norm': None, 'ngram_range': [1, 2]}\n",
      "Model Factory (PVBin): Convertido ngram_range [1, 2] para tupla (1, 2)\n",
      "Fitting ProductVectorizerClassifier com 100 amostras...\n",
      "Fit concluído.\n",
      "Model Factory: Criando tipo 'PVBin' com params: {'method': 'binary', 'query': 'binary', 'norm': None, 'query_norm': None, 'ngram_range': [1, 2]}\n",
      "Model Factory (PVBin): Convertido ngram_range [1, 2] para tupla (1, 2)\n",
      "Fitting ProductVectorizerClassifier com 100 amostras...\n",
      "Fit concluído.\n",
      "Model Factory: Criando tipo 'PVBin' com params: {'method': 'binary', 'query': 'binary', 'norm': None, 'query_norm': None, 'ngram_range': [1, 2]}\n",
      "Model Factory (PVBin): Convertido ngram_range [1, 2] para tupla (1, 2)\n",
      "Fitting ProductVectorizerClassifier com 100 amostras...\n",
      "Fit concluído.\n",
      "    Novo melhor (Obj: minimize): Perf Real=0.1829\n",
      "    Acc Real Geração 11: Max=0.1878, Avg=0.1854, Min=0.1829\n",
      "    F1 Real Geração  11: Max=0.0294, Avg=0.0281, Min=0.0272\n",
      "    Duração Geração 11: 47.28s\n",
      "\n",
      "  Geração 12/100\n"
     ]
    },
    {
     "data": {
      "application/vnd.jupyter.widget-view+json": {
       "model_id": "b5bb43fbdc2748419c4a5077b5740602",
       "version_major": 2,
       "version_minor": 0
      },
      "text/plain": [
       "Fitness Calc Gen 12:   0%|          | 0/20 [00:00<?, ?it/s]"
      ]
     },
     "metadata": {},
     "output_type": "display_data"
    },
    {
     "name": "stdout",
     "output_type": "stream",
     "text": [
      "Model Factory: Criando tipo 'PVBin' com params: {'method': 'binary', 'query': 'binary', 'norm': None, 'query_norm': None, 'ngram_range': [1, 2]}\n",
      "Model Factory (PVBin): Convertido ngram_range [1, 2] para tupla (1, 2)\n",
      "Fitting ProductVectorizerClassifier com 100 amostras...\n",
      "Fit concluído.\n",
      "Model Factory: Criando tipo 'PVBin' com params: {'method': 'binary', 'query': 'binary', 'norm': None, 'query_norm': None, 'ngram_range': [1, 2]}\n",
      "Model Factory (PVBin): Convertido ngram_range [1, 2] para tupla (1, 2)\n",
      "Fitting ProductVectorizerClassifier com 100 amostras...\n",
      "Fit concluído.\n",
      "Model Factory: Criando tipo 'PVBin' com params: {'method': 'binary', 'query': 'binary', 'norm': None, 'query_norm': None, 'ngram_range': [1, 2]}\n",
      "Model Factory (PVBin): Convertido ngram_range [1, 2] para tupla (1, 2)\n",
      "Fitting ProductVectorizerClassifier com 100 amostras...\n",
      "Fit concluído.\n",
      "Model Factory: Criando tipo 'PVBin' com params: {'method': 'binary', 'query': 'binary', 'norm': None, 'query_norm': None, 'ngram_range': [1, 2]}\n",
      "Model Factory (PVBin): Convertido ngram_range [1, 2] para tupla (1, 2)\n",
      "Fitting ProductVectorizerClassifier com 100 amostras...\n",
      "Fit concluído.\n",
      "Model Factory: Criando tipo 'PVBin' com params: {'method': 'binary', 'query': 'binary', 'norm': None, 'query_norm': None, 'ngram_range': [1, 2]}\n",
      "Model Factory (PVBin): Convertido ngram_range [1, 2] para tupla (1, 2)\n",
      "Fitting ProductVectorizerClassifier com 100 amostras...\n",
      "Fit concluído.\n",
      "Model Factory: Criando tipo 'PVBin' com params: {'method': 'binary', 'query': 'binary', 'norm': None, 'query_norm': None, 'ngram_range': [1, 2]}\n",
      "Model Factory (PVBin): Convertido ngram_range [1, 2] para tupla (1, 2)\n",
      "Fitting ProductVectorizerClassifier com 100 amostras...\n",
      "Fit concluído.\n",
      "Model Factory: Criando tipo 'PVBin' com params: {'method': 'binary', 'query': 'binary', 'norm': None, 'query_norm': None, 'ngram_range': [1, 2]}\n",
      "Model Factory (PVBin): Convertido ngram_range [1, 2] para tupla (1, 2)\n",
      "Fitting ProductVectorizerClassifier com 100 amostras...\n",
      "Fit concluído.\n",
      "Model Factory: Criando tipo 'PVBin' com params: {'method': 'binary', 'query': 'binary', 'norm': None, 'query_norm': None, 'ngram_range': [1, 2]}\n",
      "Model Factory (PVBin): Convertido ngram_range [1, 2] para tupla (1, 2)\n",
      "Fitting ProductVectorizerClassifier com 100 amostras...\n",
      "Fit concluído.\n",
      "    Novo melhor (Obj: minimize): Perf Real=0.1687\n",
      "    Acc Real Geração 12: Max=0.1922, Avg=0.1834, Min=0.1687\n",
      "    F1 Real Geração  12: Max=0.0295, Avg=0.0282, Min=0.0269\n",
      "    Duração Geração 12: 51.18s\n",
      "\n",
      "  Geração 13/100\n"
     ]
    },
    {
     "data": {
      "application/vnd.jupyter.widget-view+json": {
       "model_id": "e8ba9995db5c4aada4ce482197f0a7ea",
       "version_major": 2,
       "version_minor": 0
      },
      "text/plain": [
       "Fitness Calc Gen 13:   0%|          | 0/20 [00:00<?, ?it/s]"
      ]
     },
     "metadata": {},
     "output_type": "display_data"
    },
    {
     "name": "stdout",
     "output_type": "stream",
     "text": [
      "Model Factory: Criando tipo 'PVBin' com params: {'method': 'binary', 'query': 'binary', 'norm': None, 'query_norm': None, 'ngram_range': [1, 2]}\n",
      "Model Factory (PVBin): Convertido ngram_range [1, 2] para tupla (1, 2)\n",
      "Fitting ProductVectorizerClassifier com 100 amostras...\n",
      "Fit concluído.\n",
      "Model Factory: Criando tipo 'PVBin' com params: {'method': 'binary', 'query': 'binary', 'norm': None, 'query_norm': None, 'ngram_range': [1, 2]}\n",
      "Model Factory (PVBin): Convertido ngram_range [1, 2] para tupla (1, 2)\n",
      "Fitting ProductVectorizerClassifier com 100 amostras...\n",
      "Fit concluído.\n",
      "Model Factory: Criando tipo 'PVBin' com params: {'method': 'binary', 'query': 'binary', 'norm': None, 'query_norm': None, 'ngram_range': [1, 2]}\n",
      "Model Factory (PVBin): Convertido ngram_range [1, 2] para tupla (1, 2)\n",
      "Fitting ProductVectorizerClassifier com 100 amostras...\n",
      "Fit concluído.\n",
      "Model Factory: Criando tipo 'PVBin' com params: {'method': 'binary', 'query': 'binary', 'norm': None, 'query_norm': None, 'ngram_range': [1, 2]}\n",
      "Model Factory (PVBin): Convertido ngram_range [1, 2] para tupla (1, 2)\n",
      "Fitting ProductVectorizerClassifier com 100 amostras...\n",
      "Fit concluído.\n",
      "Model Factory: Criando tipo 'PVBin' com params: {'method': 'binary', 'query': 'binary', 'norm': None, 'query_norm': None, 'ngram_range': [1, 2]}\n",
      "Model Factory (PVBin): Convertido ngram_range [1, 2] para tupla (1, 2)\n",
      "Fitting ProductVectorizerClassifier com 100 amostras...\n",
      "Fit concluído.\n",
      "Model Factory: Criando tipo 'PVBin' com params: {'method': 'binary', 'query': 'binary', 'norm': None, 'query_norm': None, 'ngram_range': [1, 2]}\n",
      "Model Factory (PVBin): Convertido ngram_range [1, 2] para tupla (1, 2)\n",
      "Fitting ProductVectorizerClassifier com 100 amostras...\n",
      "Fit concluído.\n",
      "Model Factory: Criando tipo 'PVBin' com params: {'method': 'binary', 'query': 'binary', 'norm': None, 'query_norm': None, 'ngram_range': [1, 2]}\n",
      "Model Factory (PVBin): Convertido ngram_range [1, 2] para tupla (1, 2)\n",
      "Fitting ProductVectorizerClassifier com 100 amostras...\n",
      "Fit concluído.\n",
      "Model Factory: Criando tipo 'PVBin' com params: {'method': 'binary', 'query': 'binary', 'norm': None, 'query_norm': None, 'ngram_range': [1, 2]}\n",
      "Model Factory (PVBin): Convertido ngram_range [1, 2] para tupla (1, 2)\n",
      "Fitting ProductVectorizerClassifier com 100 amostras...\n",
      "Fit concluído.\n",
      "Model Factory: Criando tipo 'PVBin' com params: {'method': 'binary', 'query': 'binary', 'norm': None, 'query_norm': None, 'ngram_range': [1, 2]}\n",
      "Model Factory (PVBin): Convertido ngram_range [1, 2] para tupla (1, 2)\n",
      "Fitting ProductVectorizerClassifier com 100 amostras...\n",
      "Fit concluído.\n",
      "    Acc Real Geração 13: Max=0.1845, Avg=0.1794, Min=0.1687\n",
      "    F1 Real Geração  13: Max=0.0299, Avg=0.0283, Min=0.0269\n",
      "    Duração Geração 13: 54.61s\n",
      "\n",
      "  Geração 14/100\n"
     ]
    },
    {
     "data": {
      "application/vnd.jupyter.widget-view+json": {
       "model_id": "53ba92a1be6648aba693f0150bbeb426",
       "version_major": 2,
       "version_minor": 0
      },
      "text/plain": [
       "Fitness Calc Gen 14:   0%|          | 0/20 [00:00<?, ?it/s]"
      ]
     },
     "metadata": {},
     "output_type": "display_data"
    },
    {
     "name": "stdout",
     "output_type": "stream",
     "text": [
      "Model Factory: Criando tipo 'PVBin' com params: {'method': 'binary', 'query': 'binary', 'norm': None, 'query_norm': None, 'ngram_range': [1, 2]}\n",
      "Model Factory (PVBin): Convertido ngram_range [1, 2] para tupla (1, 2)\n",
      "Fitting ProductVectorizerClassifier com 100 amostras...\n",
      "Fit concluído.\n",
      "Model Factory: Criando tipo 'PVBin' com params: {'method': 'binary', 'query': 'binary', 'norm': None, 'query_norm': None, 'ngram_range': [1, 2]}\n",
      "Model Factory (PVBin): Convertido ngram_range [1, 2] para tupla (1, 2)\n",
      "Fitting ProductVectorizerClassifier com 100 amostras...\n",
      "Fit concluído.\n",
      "Model Factory: Criando tipo 'PVBin' com params: {'method': 'binary', 'query': 'binary', 'norm': None, 'query_norm': None, 'ngram_range': [1, 2]}\n",
      "Model Factory (PVBin): Convertido ngram_range [1, 2] para tupla (1, 2)\n",
      "Fitting ProductVectorizerClassifier com 100 amostras...\n",
      "Fit concluído.\n",
      "Model Factory: Criando tipo 'PVBin' com params: {'method': 'binary', 'query': 'binary', 'norm': None, 'query_norm': None, 'ngram_range': [1, 2]}\n",
      "Model Factory (PVBin): Convertido ngram_range [1, 2] para tupla (1, 2)\n",
      "Fitting ProductVectorizerClassifier com 100 amostras...\n",
      "Fit concluído.\n",
      "Model Factory: Criando tipo 'PVBin' com params: {'method': 'binary', 'query': 'binary', 'norm': None, 'query_norm': None, 'ngram_range': [1, 2]}\n",
      "Model Factory (PVBin): Convertido ngram_range [1, 2] para tupla (1, 2)\n",
      "Fitting ProductVectorizerClassifier com 100 amostras...\n",
      "Fit concluído.\n",
      "Model Factory: Criando tipo 'PVBin' com params: {'method': 'binary', 'query': 'binary', 'norm': None, 'query_norm': None, 'ngram_range': [1, 2]}\n",
      "Model Factory (PVBin): Convertido ngram_range [1, 2] para tupla (1, 2)\n",
      "Fitting ProductVectorizerClassifier com 100 amostras...\n",
      "Fit concluído.\n",
      "Model Factory: Criando tipo 'PVBin' com params: {'method': 'binary', 'query': 'binary', 'norm': None, 'query_norm': None, 'ngram_range': [1, 2]}\n",
      "Model Factory (PVBin): Convertido ngram_range [1, 2] para tupla (1, 2)\n",
      "Fitting ProductVectorizerClassifier com 100 amostras...\n",
      "Fit concluído.\n",
      "Model Factory: Criando tipo 'PVBin' com params: {'method': 'binary', 'query': 'binary', 'norm': None, 'query_norm': None, 'ngram_range': [1, 2]}\n",
      "Model Factory (PVBin): Convertido ngram_range [1, 2] para tupla (1, 2)\n",
      "Fitting ProductVectorizerClassifier com 100 amostras...\n",
      "Fit concluído.\n",
      "Model Factory: Criando tipo 'PVBin' com params: {'method': 'binary', 'query': 'binary', 'norm': None, 'query_norm': None, 'ngram_range': [1, 2]}\n",
      "Model Factory (PVBin): Convertido ngram_range [1, 2] para tupla (1, 2)\n",
      "Fitting ProductVectorizerClassifier com 100 amostras...\n",
      "Fit concluído.\n",
      "Model Factory: Criando tipo 'PVBin' com params: {'method': 'binary', 'query': 'binary', 'norm': None, 'query_norm': None, 'ngram_range': [1, 2]}\n",
      "Model Factory (PVBin): Convertido ngram_range [1, 2] para tupla (1, 2)\n",
      "Fitting ProductVectorizerClassifier com 100 amostras...\n",
      "Fit concluído.\n",
      "Model Factory: Criando tipo 'PVBin' com params: {'method': 'binary', 'query': 'binary', 'norm': None, 'query_norm': None, 'ngram_range': [1, 2]}\n",
      "Model Factory (PVBin): Convertido ngram_range [1, 2] para tupla (1, 2)\n",
      "Fitting ProductVectorizerClassifier com 100 amostras...\n",
      "Fit concluído.\n",
      "Model Factory: Criando tipo 'PVBin' com params: {'method': 'binary', 'query': 'binary', 'norm': None, 'query_norm': None, 'ngram_range': [1, 2]}\n",
      "Model Factory (PVBin): Convertido ngram_range [1, 2] para tupla (1, 2)\n",
      "Fitting ProductVectorizerClassifier com 100 amostras...\n",
      "Fit concluído.\n",
      "    Novo melhor (Obj: minimize): Perf Real=0.1661\n",
      "    Acc Real Geração 14: Max=0.1887, Avg=0.1751, Min=0.1661\n",
      "    F1 Real Geração  14: Max=0.0299, Avg=0.0280, Min=0.0269\n",
      "    Duração Geração 14: 72.56s\n",
      "\n",
      "  Geração 15/100\n"
     ]
    },
    {
     "data": {
      "application/vnd.jupyter.widget-view+json": {
       "model_id": "8d45c5c5e03d43b1ad700bf627e801d8",
       "version_major": 2,
       "version_minor": 0
      },
      "text/plain": [
       "Fitness Calc Gen 15:   0%|          | 0/20 [00:00<?, ?it/s]"
      ]
     },
     "metadata": {},
     "output_type": "display_data"
    },
    {
     "name": "stdout",
     "output_type": "stream",
     "text": [
      "Model Factory: Criando tipo 'PVBin' com params: {'method': 'binary', 'query': 'binary', 'norm': None, 'query_norm': None, 'ngram_range': [1, 2]}\n",
      "Model Factory (PVBin): Convertido ngram_range [1, 2] para tupla (1, 2)\n",
      "Fitting ProductVectorizerClassifier com 100 amostras...\n",
      "Fit concluído.\n",
      "Model Factory: Criando tipo 'PVBin' com params: {'method': 'binary', 'query': 'binary', 'norm': None, 'query_norm': None, 'ngram_range': [1, 2]}\n",
      "Model Factory (PVBin): Convertido ngram_range [1, 2] para tupla (1, 2)\n",
      "Fitting ProductVectorizerClassifier com 100 amostras...\n",
      "Fit concluído.\n",
      "    Acc Real Geração 15: Max=0.1803, Avg=0.1702, Min=0.1661\n",
      "    F1 Real Geração  15: Max=0.0285, Avg=0.0272, Min=0.0269\n",
      "    Duração Geração 15: 12.47s\n",
      "\n",
      "  Geração 16/100\n"
     ]
    },
    {
     "data": {
      "application/vnd.jupyter.widget-view+json": {
       "model_id": "a00a6089e0094abfaec38a88a2f709ce",
       "version_major": 2,
       "version_minor": 0
      },
      "text/plain": [
       "Fitness Calc Gen 16:   0%|          | 0/20 [00:00<?, ?it/s]"
      ]
     },
     "metadata": {},
     "output_type": "display_data"
    },
    {
     "name": "stdout",
     "output_type": "stream",
     "text": [
      "Model Factory: Criando tipo 'PVBin' com params: {'method': 'binary', 'query': 'binary', 'norm': None, 'query_norm': None, 'ngram_range': [1, 2]}\n",
      "Model Factory (PVBin): Convertido ngram_range [1, 2] para tupla (1, 2)\n",
      "Fitting ProductVectorizerClassifier com 100 amostras...\n",
      "Fit concluído.\n",
      "Model Factory: Criando tipo 'PVBin' com params: {'method': 'binary', 'query': 'binary', 'norm': None, 'query_norm': None, 'ngram_range': [1, 2]}\n",
      "Model Factory (PVBin): Convertido ngram_range [1, 2] para tupla (1, 2)\n",
      "Fitting ProductVectorizerClassifier com 100 amostras...\n",
      "Fit concluído.\n",
      "Model Factory: Criando tipo 'PVBin' com params: {'method': 'binary', 'query': 'binary', 'norm': None, 'query_norm': None, 'ngram_range': [1, 2]}\n",
      "Model Factory (PVBin): Convertido ngram_range [1, 2] para tupla (1, 2)\n",
      "Fitting ProductVectorizerClassifier com 100 amostras...\n",
      "Fit concluído.\n",
      "Model Factory: Criando tipo 'PVBin' com params: {'method': 'binary', 'query': 'binary', 'norm': None, 'query_norm': None, 'ngram_range': [1, 2]}\n",
      "Model Factory (PVBin): Convertido ngram_range [1, 2] para tupla (1, 2)\n",
      "Fitting ProductVectorizerClassifier com 100 amostras...\n",
      "Fit concluído.\n",
      "Model Factory: Criando tipo 'PVBin' com params: {'method': 'binary', 'query': 'binary', 'norm': None, 'query_norm': None, 'ngram_range': [1, 2]}\n",
      "Model Factory (PVBin): Convertido ngram_range [1, 2] para tupla (1, 2)\n",
      "Fitting ProductVectorizerClassifier com 100 amostras...\n",
      "Fit concluído.\n",
      "Model Factory: Criando tipo 'PVBin' com params: {'method': 'binary', 'query': 'binary', 'norm': None, 'query_norm': None, 'ngram_range': [1, 2]}\n",
      "Model Factory (PVBin): Convertido ngram_range [1, 2] para tupla (1, 2)\n",
      "Fitting ProductVectorizerClassifier com 100 amostras...\n",
      "Fit concluído.\n",
      "Model Factory: Criando tipo 'PVBin' com params: {'method': 'binary', 'query': 'binary', 'norm': None, 'query_norm': None, 'ngram_range': [1, 2]}\n",
      "Model Factory (PVBin): Convertido ngram_range [1, 2] para tupla (1, 2)\n",
      "Fitting ProductVectorizerClassifier com 100 amostras...\n",
      "Fit concluído.\n",
      "Model Factory: Criando tipo 'PVBin' com params: {'method': 'binary', 'query': 'binary', 'norm': None, 'query_norm': None, 'ngram_range': [1, 2]}\n",
      "Model Factory (PVBin): Convertido ngram_range [1, 2] para tupla (1, 2)\n",
      "Fitting ProductVectorizerClassifier com 100 amostras...\n",
      "Fit concluído.\n",
      "    Acc Real Geração 16: Max=0.1847, Avg=0.1679, Min=0.1661\n",
      "    F1 Real Geração  16: Max=0.0286, Avg=0.0273, Min=0.0268\n",
      "    Duração Geração 16: 48.04s\n",
      "\n",
      "  Geração 17/100\n"
     ]
    },
    {
     "data": {
      "application/vnd.jupyter.widget-view+json": {
       "model_id": "0b175a8176884ae79cb7796ed380aa00",
       "version_major": 2,
       "version_minor": 0
      },
      "text/plain": [
       "Fitness Calc Gen 17:   0%|          | 0/20 [00:00<?, ?it/s]"
      ]
     },
     "metadata": {},
     "output_type": "display_data"
    },
    {
     "name": "stdout",
     "output_type": "stream",
     "text": [
      "Model Factory: Criando tipo 'PVBin' com params: {'method': 'binary', 'query': 'binary', 'norm': None, 'query_norm': None, 'ngram_range': [1, 2]}\n",
      "Model Factory (PVBin): Convertido ngram_range [1, 2] para tupla (1, 2)\n",
      "Fitting ProductVectorizerClassifier com 100 amostras...\n",
      "Fit concluído.\n",
      "Model Factory: Criando tipo 'PVBin' com params: {'method': 'binary', 'query': 'binary', 'norm': None, 'query_norm': None, 'ngram_range': [1, 2]}\n",
      "Model Factory (PVBin): Convertido ngram_range [1, 2] para tupla (1, 2)\n",
      "Fitting ProductVectorizerClassifier com 100 amostras...\n",
      "Fit concluído.\n",
      "Model Factory: Criando tipo 'PVBin' com params: {'method': 'binary', 'query': 'binary', 'norm': None, 'query_norm': None, 'ngram_range': [1, 2]}\n",
      "Model Factory (PVBin): Convertido ngram_range [1, 2] para tupla (1, 2)\n",
      "Fitting ProductVectorizerClassifier com 100 amostras...\n",
      "Fit concluído.\n",
      "Model Factory: Criando tipo 'PVBin' com params: {'method': 'binary', 'query': 'binary', 'norm': None, 'query_norm': None, 'ngram_range': [1, 2]}\n",
      "Model Factory (PVBin): Convertido ngram_range [1, 2] para tupla (1, 2)\n",
      "Fitting ProductVectorizerClassifier com 100 amostras...\n",
      "Fit concluído.\n",
      "    Novo melhor (Obj: minimize): Perf Real=0.1599\n",
      "    Acc Real Geração 17: Max=0.1685, Avg=0.1657, Min=0.1599\n",
      "    F1 Real Geração  17: Max=0.0277, Avg=0.0273, Min=0.0268\n",
      "    Duração Geração 17: 24.31s\n",
      "\n",
      "  Geração 18/100\n"
     ]
    },
    {
     "data": {
      "application/vnd.jupyter.widget-view+json": {
       "model_id": "b101c48a419c4fb3838c82c90261f80e",
       "version_major": 2,
       "version_minor": 0
      },
      "text/plain": [
       "Fitness Calc Gen 18:   0%|          | 0/20 [00:00<?, ?it/s]"
      ]
     },
     "metadata": {},
     "output_type": "display_data"
    },
    {
     "name": "stdout",
     "output_type": "stream",
     "text": [
      "Model Factory: Criando tipo 'PVBin' com params: {'method': 'binary', 'query': 'binary', 'norm': None, 'query_norm': None, 'ngram_range': [1, 2]}\n",
      "Model Factory (PVBin): Convertido ngram_range [1, 2] para tupla (1, 2)\n",
      "Fitting ProductVectorizerClassifier com 100 amostras...\n",
      "Fit concluído.\n",
      "Model Factory: Criando tipo 'PVBin' com params: {'method': 'binary', 'query': 'binary', 'norm': None, 'query_norm': None, 'ngram_range': [1, 2]}\n",
      "Model Factory (PVBin): Convertido ngram_range [1, 2] para tupla (1, 2)\n",
      "Fitting ProductVectorizerClassifier com 100 amostras...\n",
      "Fit concluído.\n",
      "Model Factory: Criando tipo 'PVBin' com params: {'method': 'binary', 'query': 'binary', 'norm': None, 'query_norm': None, 'ngram_range': [1, 2]}\n",
      "Model Factory (PVBin): Convertido ngram_range [1, 2] para tupla (1, 2)\n",
      "Fitting ProductVectorizerClassifier com 100 amostras...\n",
      "Fit concluído.\n",
      "Model Factory: Criando tipo 'PVBin' com params: {'method': 'binary', 'query': 'binary', 'norm': None, 'query_norm': None, 'ngram_range': [1, 2]}\n",
      "Model Factory (PVBin): Convertido ngram_range [1, 2] para tupla (1, 2)\n",
      "Fitting ProductVectorizerClassifier com 100 amostras...\n",
      "Fit concluído.\n",
      "    Acc Real Geração 18: Max=0.1738, Avg=0.1647, Min=0.1599\n",
      "    F1 Real Geração  18: Max=0.0279, Avg=0.0273, Min=0.0261\n",
      "    Duração Geração 18: 24.10s\n",
      "\n",
      "  Geração 19/100\n"
     ]
    },
    {
     "data": {
      "application/vnd.jupyter.widget-view+json": {
       "model_id": "8c458a0c50c642ad9c5716446ed888df",
       "version_major": 2,
       "version_minor": 0
      },
      "text/plain": [
       "Fitness Calc Gen 19:   0%|          | 0/20 [00:00<?, ?it/s]"
      ]
     },
     "metadata": {},
     "output_type": "display_data"
    },
    {
     "name": "stdout",
     "output_type": "stream",
     "text": [
      "Model Factory: Criando tipo 'PVBin' com params: {'method': 'binary', 'query': 'binary', 'norm': None, 'query_norm': None, 'ngram_range': [1, 2]}\n",
      "Model Factory (PVBin): Convertido ngram_range [1, 2] para tupla (1, 2)\n",
      "Fitting ProductVectorizerClassifier com 100 amostras...\n",
      "Fit concluído.\n",
      "Model Factory: Criando tipo 'PVBin' com params: {'method': 'binary', 'query': 'binary', 'norm': None, 'query_norm': None, 'ngram_range': [1, 2]}\n",
      "Model Factory (PVBin): Convertido ngram_range [1, 2] para tupla (1, 2)\n",
      "Fitting ProductVectorizerClassifier com 100 amostras...\n",
      "Fit concluído.\n",
      "Model Factory: Criando tipo 'PVBin' com params: {'method': 'binary', 'query': 'binary', 'norm': None, 'query_norm': None, 'ngram_range': [1, 2]}\n",
      "Model Factory (PVBin): Convertido ngram_range [1, 2] para tupla (1, 2)\n",
      "Fitting ProductVectorizerClassifier com 100 amostras...\n",
      "Fit concluído.\n",
      "Model Factory: Criando tipo 'PVBin' com params: {'method': 'binary', 'query': 'binary', 'norm': None, 'query_norm': None, 'ngram_range': [1, 2]}\n",
      "Model Factory (PVBin): Convertido ngram_range [1, 2] para tupla (1, 2)\n",
      "Fitting ProductVectorizerClassifier com 100 amostras...\n",
      "Fit concluído.\n",
      "Model Factory: Criando tipo 'PVBin' com params: {'method': 'binary', 'query': 'binary', 'norm': None, 'query_norm': None, 'ngram_range': [1, 2]}\n",
      "Model Factory (PVBin): Convertido ngram_range [1, 2] para tupla (1, 2)\n",
      "Fitting ProductVectorizerClassifier com 100 amostras...\n",
      "Fit concluído.\n",
      "Model Factory: Criando tipo 'PVBin' com params: {'method': 'binary', 'query': 'binary', 'norm': None, 'query_norm': None, 'ngram_range': [1, 2]}\n",
      "Model Factory (PVBin): Convertido ngram_range [1, 2] para tupla (1, 2)\n",
      "Fitting ProductVectorizerClassifier com 100 amostras...\n",
      "Fit concluído.\n",
      "Model Factory: Criando tipo 'PVBin' com params: {'method': 'binary', 'query': 'binary', 'norm': None, 'query_norm': None, 'ngram_range': [1, 2]}\n",
      "Model Factory (PVBin): Convertido ngram_range [1, 2] para tupla (1, 2)\n",
      "Fitting ProductVectorizerClassifier com 100 amostras...\n",
      "Fit concluído.\n",
      "    Acc Real Geração 19: Max=0.1718, Avg=0.1638, Min=0.1599\n",
      "    F1 Real Geração  19: Max=0.0299, Avg=0.0276, Min=0.0271\n",
      "    Duração Geração 19: 43.77s\n",
      "\n",
      "  Geração 20/100\n"
     ]
    },
    {
     "data": {
      "application/vnd.jupyter.widget-view+json": {
       "model_id": "7640455f122d4e0c96454d23c302f6be",
       "version_major": 2,
       "version_minor": 0
      },
      "text/plain": [
       "Fitness Calc Gen 20:   0%|          | 0/20 [00:00<?, ?it/s]"
      ]
     },
     "metadata": {},
     "output_type": "display_data"
    },
    {
     "name": "stdout",
     "output_type": "stream",
     "text": [
      "Model Factory: Criando tipo 'PVBin' com params: {'method': 'binary', 'query': 'binary', 'norm': None, 'query_norm': None, 'ngram_range': [1, 2]}\n",
      "Model Factory (PVBin): Convertido ngram_range [1, 2] para tupla (1, 2)\n",
      "Fitting ProductVectorizerClassifier com 100 amostras...\n",
      "Fit concluído.\n",
      "Model Factory: Criando tipo 'PVBin' com params: {'method': 'binary', 'query': 'binary', 'norm': None, 'query_norm': None, 'ngram_range': [1, 2]}\n",
      "Model Factory (PVBin): Convertido ngram_range [1, 2] para tupla (1, 2)\n",
      "Fitting ProductVectorizerClassifier com 100 amostras...\n",
      "Fit concluído.\n",
      "Model Factory: Criando tipo 'PVBin' com params: {'method': 'binary', 'query': 'binary', 'norm': None, 'query_norm': None, 'ngram_range': [1, 2]}\n",
      "Model Factory (PVBin): Convertido ngram_range [1, 2] para tupla (1, 2)\n",
      "Fitting ProductVectorizerClassifier com 100 amostras...\n",
      "Fit concluído.\n",
      "Model Factory: Criando tipo 'PVBin' com params: {'method': 'binary', 'query': 'binary', 'norm': None, 'query_norm': None, 'ngram_range': [1, 2]}\n",
      "Model Factory (PVBin): Convertido ngram_range [1, 2] para tupla (1, 2)\n",
      "Fitting ProductVectorizerClassifier com 100 amostras...\n",
      "Fit concluído.\n",
      "Model Factory: Criando tipo 'PVBin' com params: {'method': 'binary', 'query': 'binary', 'norm': None, 'query_norm': None, 'ngram_range': [1, 2]}\n",
      "Model Factory (PVBin): Convertido ngram_range [1, 2] para tupla (1, 2)\n",
      "Fitting ProductVectorizerClassifier com 100 amostras...\n",
      "Fit concluído.\n",
      "Model Factory: Criando tipo 'PVBin' com params: {'method': 'binary', 'query': 'binary', 'norm': None, 'query_norm': None, 'ngram_range': [1, 2]}\n",
      "Model Factory (PVBin): Convertido ngram_range [1, 2] para tupla (1, 2)\n",
      "Fitting ProductVectorizerClassifier com 100 amostras...\n",
      "Fit concluído.\n",
      "Model Factory: Criando tipo 'PVBin' com params: {'method': 'binary', 'query': 'binary', 'norm': None, 'query_norm': None, 'ngram_range': [1, 2]}\n",
      "Model Factory (PVBin): Convertido ngram_range [1, 2] para tupla (1, 2)\n",
      "Fitting ProductVectorizerClassifier com 100 amostras...\n",
      "Fit concluído.\n",
      "    Novo melhor (Obj: minimize): Perf Real=0.1591\n",
      "    Acc Real Geração 20: Max=0.1860, Avg=0.1634, Min=0.1591\n",
      "    F1 Real Geração  20: Max=0.0300, Avg=0.0277, Min=0.0270\n",
      "    Duração Geração 20: 42.76s\n",
      "\n",
      "  Geração 21/100\n"
     ]
    },
    {
     "data": {
      "application/vnd.jupyter.widget-view+json": {
       "model_id": "ebd21f54d3e245f5b00f84a41a800929",
       "version_major": 2,
       "version_minor": 0
      },
      "text/plain": [
       "Fitness Calc Gen 21:   0%|          | 0/20 [00:00<?, ?it/s]"
      ]
     },
     "metadata": {},
     "output_type": "display_data"
    },
    {
     "name": "stdout",
     "output_type": "stream",
     "text": [
      "Model Factory: Criando tipo 'PVBin' com params: {'method': 'binary', 'query': 'binary', 'norm': None, 'query_norm': None, 'ngram_range': [1, 2]}\n",
      "Model Factory (PVBin): Convertido ngram_range [1, 2] para tupla (1, 2)\n",
      "Fitting ProductVectorizerClassifier com 100 amostras...\n",
      "Fit concluído.\n",
      "Model Factory: Criando tipo 'PVBin' com params: {'method': 'binary', 'query': 'binary', 'norm': None, 'query_norm': None, 'ngram_range': [1, 2]}\n",
      "Model Factory (PVBin): Convertido ngram_range [1, 2] para tupla (1, 2)\n",
      "Fitting ProductVectorizerClassifier com 100 amostras...\n",
      "Fit concluído.\n",
      "Model Factory: Criando tipo 'PVBin' com params: {'method': 'binary', 'query': 'binary', 'norm': None, 'query_norm': None, 'ngram_range': [1, 2]}\n",
      "Model Factory (PVBin): Convertido ngram_range [1, 2] para tupla (1, 2)\n",
      "Fitting ProductVectorizerClassifier com 100 amostras...\n",
      "Fit concluído.\n",
      "    Novo melhor (Obj: minimize): Perf Real=0.1571\n",
      "    Acc Real Geração 21: Max=0.1648, Avg=0.1600, Min=0.1571\n",
      "    F1 Real Geração  21: Max=0.0276, Avg=0.0273, Min=0.0270\n",
      "    Duração Geração 21: 18.35s\n",
      "\n",
      "  Geração 22/100\n"
     ]
    },
    {
     "data": {
      "application/vnd.jupyter.widget-view+json": {
       "model_id": "f3970dedac534f3c953522442d432f1f",
       "version_major": 2,
       "version_minor": 0
      },
      "text/plain": [
       "Fitness Calc Gen 22:   0%|          | 0/20 [00:00<?, ?it/s]"
      ]
     },
     "metadata": {},
     "output_type": "display_data"
    },
    {
     "name": "stdout",
     "output_type": "stream",
     "text": [
      "Model Factory: Criando tipo 'PVBin' com params: {'method': 'binary', 'query': 'binary', 'norm': None, 'query_norm': None, 'ngram_range': [1, 2]}\n",
      "Model Factory (PVBin): Convertido ngram_range [1, 2] para tupla (1, 2)\n",
      "Fitting ProductVectorizerClassifier com 100 amostras...\n",
      "Fit concluído.\n",
      "Model Factory: Criando tipo 'PVBin' com params: {'method': 'binary', 'query': 'binary', 'norm': None, 'query_norm': None, 'ngram_range': [1, 2]}\n",
      "Model Factory (PVBin): Convertido ngram_range [1, 2] para tupla (1, 2)\n",
      "Fitting ProductVectorizerClassifier com 100 amostras...\n",
      "Fit concluído.\n",
      "Model Factory: Criando tipo 'PVBin' com params: {'method': 'binary', 'query': 'binary', 'norm': None, 'query_norm': None, 'ngram_range': [1, 2]}\n",
      "Model Factory (PVBin): Convertido ngram_range [1, 2] para tupla (1, 2)\n",
      "Fitting ProductVectorizerClassifier com 100 amostras...\n",
      "Fit concluído.\n",
      "Model Factory: Criando tipo 'PVBin' com params: {'method': 'binary', 'query': 'binary', 'norm': None, 'query_norm': None, 'ngram_range': [1, 2]}\n",
      "Model Factory (PVBin): Convertido ngram_range [1, 2] para tupla (1, 2)\n",
      "Fitting ProductVectorizerClassifier com 100 amostras...\n",
      "Fit concluído.\n",
      "Model Factory: Criando tipo 'PVBin' com params: {'method': 'binary', 'query': 'binary', 'norm': None, 'query_norm': None, 'ngram_range': [1, 2]}\n",
      "Model Factory (PVBin): Convertido ngram_range [1, 2] para tupla (1, 2)\n",
      "Fitting ProductVectorizerClassifier com 100 amostras...\n",
      "Fit concluído.\n",
      "Model Factory: Criando tipo 'PVBin' com params: {'method': 'binary', 'query': 'binary', 'norm': None, 'query_norm': None, 'ngram_range': [1, 2]}\n",
      "Model Factory (PVBin): Convertido ngram_range [1, 2] para tupla (1, 2)\n",
      "Fitting ProductVectorizerClassifier com 100 amostras...\n",
      "Fit concluído.\n",
      "    Acc Real Geração 22: Max=0.1740, Avg=0.1603, Min=0.1571\n",
      "    F1 Real Geração  22: Max=0.0281, Avg=0.0273, Min=0.0270\n",
      "    Duração Geração 22: 38.73s\n",
      "\n",
      "  Geração 23/100\n"
     ]
    },
    {
     "data": {
      "application/vnd.jupyter.widget-view+json": {
       "model_id": "d2f62dcaea5b4c0f915a4def97bb0154",
       "version_major": 2,
       "version_minor": 0
      },
      "text/plain": [
       "Fitness Calc Gen 23:   0%|          | 0/20 [00:00<?, ?it/s]"
      ]
     },
     "metadata": {},
     "output_type": "display_data"
    },
    {
     "name": "stdout",
     "output_type": "stream",
     "text": [
      "Model Factory: Criando tipo 'PVBin' com params: {'method': 'binary', 'query': 'binary', 'norm': None, 'query_norm': None, 'ngram_range': [1, 2]}\n",
      "Model Factory (PVBin): Convertido ngram_range [1, 2] para tupla (1, 2)\n",
      "Fitting ProductVectorizerClassifier com 100 amostras...\n",
      "Fit concluído.\n",
      "Model Factory: Criando tipo 'PVBin' com params: {'method': 'binary', 'query': 'binary', 'norm': None, 'query_norm': None, 'ngram_range': [1, 2]}\n",
      "Model Factory (PVBin): Convertido ngram_range [1, 2] para tupla (1, 2)\n",
      "Fitting ProductVectorizerClassifier com 100 amostras...\n",
      "Fit concluído.\n",
      "Model Factory: Criando tipo 'PVBin' com params: {'method': 'binary', 'query': 'binary', 'norm': None, 'query_norm': None, 'ngram_range': [1, 2]}\n",
      "Model Factory (PVBin): Convertido ngram_range [1, 2] para tupla (1, 2)\n",
      "Fitting ProductVectorizerClassifier com 100 amostras...\n",
      "Fit concluído.\n",
      "Model Factory: Criando tipo 'PVBin' com params: {'method': 'binary', 'query': 'binary', 'norm': None, 'query_norm': None, 'ngram_range': [1, 2]}\n",
      "Model Factory (PVBin): Convertido ngram_range [1, 2] para tupla (1, 2)\n",
      "Fitting ProductVectorizerClassifier com 100 amostras...\n",
      "Fit concluído.\n",
      "Model Factory: Criando tipo 'PVBin' com params: {'method': 'binary', 'query': 'binary', 'norm': None, 'query_norm': None, 'ngram_range': [1, 2]}\n",
      "Model Factory (PVBin): Convertido ngram_range [1, 2] para tupla (1, 2)\n",
      "Fitting ProductVectorizerClassifier com 100 amostras...\n",
      "Fit concluído.\n",
      "Model Factory: Criando tipo 'PVBin' com params: {'method': 'binary', 'query': 'binary', 'norm': None, 'query_norm': None, 'ngram_range': [1, 2]}\n",
      "Model Factory (PVBin): Convertido ngram_range [1, 2] para tupla (1, 2)\n",
      "Fitting ProductVectorizerClassifier com 100 amostras...\n",
      "Fit concluído.\n",
      "    Novo melhor (Obj: minimize): Perf Real=0.1535\n",
      "    Acc Real Geração 23: Max=0.1647, Avg=0.1590, Min=0.1535\n",
      "    F1 Real Geração  23: Max=0.0295, Avg=0.0273, Min=0.0263\n",
      "    Duração Geração 23: 55.34s\n",
      "\n",
      "  Geração 24/100\n"
     ]
    },
    {
     "data": {
      "application/vnd.jupyter.widget-view+json": {
       "model_id": "403f85e7ffcb43e0b788b7a103f43c95",
       "version_major": 2,
       "version_minor": 0
      },
      "text/plain": [
       "Fitness Calc Gen 24:   0%|          | 0/20 [00:00<?, ?it/s]"
      ]
     },
     "metadata": {},
     "output_type": "display_data"
    },
    {
     "name": "stdout",
     "output_type": "stream",
     "text": [
      "Model Factory: Criando tipo 'PVBin' com params: {'method': 'binary', 'query': 'binary', 'norm': None, 'query_norm': None, 'ngram_range': [1, 2]}\n",
      "Model Factory (PVBin): Convertido ngram_range [1, 2] para tupla (1, 2)\n",
      "Fitting ProductVectorizerClassifier com 100 amostras...\n",
      "Fit concluído.\n",
      "Model Factory: Criando tipo 'PVBin' com params: {'method': 'binary', 'query': 'binary', 'norm': None, 'query_norm': None, 'ngram_range': [1, 2]}\n",
      "Model Factory (PVBin): Convertido ngram_range [1, 2] para tupla (1, 2)\n",
      "Fitting ProductVectorizerClassifier com 100 amostras...\n",
      "Fit concluído.\n",
      "Model Factory: Criando tipo 'PVBin' com params: {'method': 'binary', 'query': 'binary', 'norm': None, 'query_norm': None, 'ngram_range': [1, 2]}\n",
      "Model Factory (PVBin): Convertido ngram_range [1, 2] para tupla (1, 2)\n",
      "Fitting ProductVectorizerClassifier com 100 amostras...\n",
      "Fit concluído.\n",
      "Model Factory: Criando tipo 'PVBin' com params: {'method': 'binary', 'query': 'binary', 'norm': None, 'query_norm': None, 'ngram_range': [1, 2]}\n",
      "Model Factory (PVBin): Convertido ngram_range [1, 2] para tupla (1, 2)\n",
      "Fitting ProductVectorizerClassifier com 100 amostras...\n",
      "Fit concluído.\n",
      "    Acc Real Geração 24: Max=0.1640, Avg=0.1578, Min=0.1535\n",
      "    F1 Real Geração  24: Max=0.0296, Avg=0.0271, Min=0.0258\n",
      "    Duração Geração 24: 38.57s\n",
      "\n",
      "  Geração 25/100\n"
     ]
    },
    {
     "data": {
      "application/vnd.jupyter.widget-view+json": {
       "model_id": "eb3f4f2cfd444c078242b2847aacc278",
       "version_major": 2,
       "version_minor": 0
      },
      "text/plain": [
       "Fitness Calc Gen 25:   0%|          | 0/20 [00:00<?, ?it/s]"
      ]
     },
     "metadata": {},
     "output_type": "display_data"
    },
    {
     "name": "stdout",
     "output_type": "stream",
     "text": [
      "Model Factory: Criando tipo 'PVBin' com params: {'method': 'binary', 'query': 'binary', 'norm': None, 'query_norm': None, 'ngram_range': [1, 2]}\n",
      "Model Factory (PVBin): Convertido ngram_range [1, 2] para tupla (1, 2)\n",
      "Fitting ProductVectorizerClassifier com 100 amostras...\n",
      "Fit concluído.\n",
      "Model Factory: Criando tipo 'PVBin' com params: {'method': 'binary', 'query': 'binary', 'norm': None, 'query_norm': None, 'ngram_range': [1, 2]}\n",
      "Model Factory (PVBin): Convertido ngram_range [1, 2] para tupla (1, 2)\n",
      "Fitting ProductVectorizerClassifier com 100 amostras...\n",
      "Fit concluído.\n",
      "Model Factory: Criando tipo 'PVBin' com params: {'method': 'binary', 'query': 'binary', 'norm': None, 'query_norm': None, 'ngram_range': [1, 2]}\n",
      "Model Factory (PVBin): Convertido ngram_range [1, 2] para tupla (1, 2)\n",
      "Fitting ProductVectorizerClassifier com 100 amostras...\n",
      "Fit concluído.\n",
      "Model Factory: Criando tipo 'PVBin' com params: {'method': 'binary', 'query': 'binary', 'norm': None, 'query_norm': None, 'ngram_range': [1, 2]}\n",
      "Model Factory (PVBin): Convertido ngram_range [1, 2] para tupla (1, 2)\n",
      "Fitting ProductVectorizerClassifier com 100 amostras...\n",
      "Fit concluído.\n",
      "Model Factory: Criando tipo 'PVBin' com params: {'method': 'binary', 'query': 'binary', 'norm': None, 'query_norm': None, 'ngram_range': [1, 2]}\n",
      "Model Factory (PVBin): Convertido ngram_range [1, 2] para tupla (1, 2)\n",
      "Fitting ProductVectorizerClassifier com 100 amostras...\n",
      "Fit concluído.\n",
      "Model Factory: Criando tipo 'PVBin' com params: {'method': 'binary', 'query': 'binary', 'norm': None, 'query_norm': None, 'ngram_range': [1, 2]}\n",
      "Model Factory (PVBin): Convertido ngram_range [1, 2] para tupla (1, 2)\n",
      "Fitting ProductVectorizerClassifier com 100 amostras...\n",
      "Fit concluído.\n",
      "    Acc Real Geração 25: Max=0.1694, Avg=0.1567, Min=0.1535\n",
      "    F1 Real Geração  25: Max=0.0284, Avg=0.0271, Min=0.0260\n",
      "    Duração Geração 25: 55.98s\n",
      "\n",
      "  Geração 26/100\n"
     ]
    },
    {
     "data": {
      "application/vnd.jupyter.widget-view+json": {
       "model_id": "464e04f7a19340a8aff5662e290afdaa",
       "version_major": 2,
       "version_minor": 0
      },
      "text/plain": [
       "Fitness Calc Gen 26:   0%|          | 0/20 [00:00<?, ?it/s]"
      ]
     },
     "metadata": {},
     "output_type": "display_data"
    },
    {
     "name": "stdout",
     "output_type": "stream",
     "text": [
      "Model Factory: Criando tipo 'PVBin' com params: {'method': 'binary', 'query': 'binary', 'norm': None, 'query_norm': None, 'ngram_range': [1, 2]}\n",
      "Model Factory (PVBin): Convertido ngram_range [1, 2] para tupla (1, 2)\n",
      "Fitting ProductVectorizerClassifier com 100 amostras...\n",
      "Fit concluído.\n",
      "Model Factory: Criando tipo 'PVBin' com params: {'method': 'binary', 'query': 'binary', 'norm': None, 'query_norm': None, 'ngram_range': [1, 2]}\n",
      "Model Factory (PVBin): Convertido ngram_range [1, 2] para tupla (1, 2)\n",
      "Fitting ProductVectorizerClassifier com 100 amostras...\n",
      "Fit concluído.\n",
      "Model Factory: Criando tipo 'PVBin' com params: {'method': 'binary', 'query': 'binary', 'norm': None, 'query_norm': None, 'ngram_range': [1, 2]}\n",
      "Model Factory (PVBin): Convertido ngram_range [1, 2] para tupla (1, 2)\n",
      "Fitting ProductVectorizerClassifier com 100 amostras...\n",
      "Fit concluído.\n",
      "Model Factory: Criando tipo 'PVBin' com params: {'method': 'binary', 'query': 'binary', 'norm': None, 'query_norm': None, 'ngram_range': [1, 2]}\n",
      "Model Factory (PVBin): Convertido ngram_range [1, 2] para tupla (1, 2)\n",
      "Fitting ProductVectorizerClassifier com 100 amostras...\n",
      "Fit concluído.\n",
      "Model Factory: Criando tipo 'PVBin' com params: {'method': 'binary', 'query': 'binary', 'norm': None, 'query_norm': None, 'ngram_range': [1, 2]}\n",
      "Model Factory (PVBin): Convertido ngram_range [1, 2] para tupla (1, 2)\n",
      "Fitting ProductVectorizerClassifier com 100 amostras...\n",
      "Fit concluído.\n",
      "Model Factory: Criando tipo 'PVBin' com params: {'method': 'binary', 'query': 'binary', 'norm': None, 'query_norm': None, 'ngram_range': [1, 2]}\n",
      "Model Factory (PVBin): Convertido ngram_range [1, 2] para tupla (1, 2)\n",
      "Fitting ProductVectorizerClassifier com 100 amostras...\n",
      "Fit concluído.\n",
      "    Acc Real Geração 26: Max=0.1702, Avg=0.1563, Min=0.1535\n",
      "    F1 Real Geração  26: Max=0.0288, Avg=0.0268, Min=0.0256\n",
      "    Duração Geração 26: 62.36s\n",
      "\n",
      "  Geração 27/100\n"
     ]
    },
    {
     "data": {
      "application/vnd.jupyter.widget-view+json": {
       "model_id": "00a2c99aea974c2c87a36440003ed5c8",
       "version_major": 2,
       "version_minor": 0
      },
      "text/plain": [
       "Fitness Calc Gen 27:   0%|          | 0/20 [00:00<?, ?it/s]"
      ]
     },
     "metadata": {},
     "output_type": "display_data"
    },
    {
     "name": "stdout",
     "output_type": "stream",
     "text": [
      "Model Factory: Criando tipo 'PVBin' com params: {'method': 'binary', 'query': 'binary', 'norm': None, 'query_norm': None, 'ngram_range': [1, 2]}\n",
      "Model Factory (PVBin): Convertido ngram_range [1, 2] para tupla (1, 2)\n",
      "Fitting ProductVectorizerClassifier com 100 amostras...\n",
      "Fit concluído.\n",
      "Model Factory: Criando tipo 'PVBin' com params: {'method': 'binary', 'query': 'binary', 'norm': None, 'query_norm': None, 'ngram_range': [1, 2]}\n",
      "Model Factory (PVBin): Convertido ngram_range [1, 2] para tupla (1, 2)\n",
      "Fitting ProductVectorizerClassifier com 100 amostras...\n",
      "Fit concluído.\n",
      "Model Factory: Criando tipo 'PVBin' com params: {'method': 'binary', 'query': 'binary', 'norm': None, 'query_norm': None, 'ngram_range': [1, 2]}\n",
      "Model Factory (PVBin): Convertido ngram_range [1, 2] para tupla (1, 2)\n",
      "Fitting ProductVectorizerClassifier com 100 amostras...\n",
      "Fit concluído.\n",
      "Model Factory: Criando tipo 'PVBin' com params: {'method': 'binary', 'query': 'binary', 'norm': None, 'query_norm': None, 'ngram_range': [1, 2]}\n",
      "Model Factory (PVBin): Convertido ngram_range [1, 2] para tupla (1, 2)\n",
      "Fitting ProductVectorizerClassifier com 100 amostras...\n",
      "Fit concluído.\n",
      "Model Factory: Criando tipo 'PVBin' com params: {'method': 'binary', 'query': 'binary', 'norm': None, 'query_norm': None, 'ngram_range': [1, 2]}\n",
      "Model Factory (PVBin): Convertido ngram_range [1, 2] para tupla (1, 2)\n",
      "Fitting ProductVectorizerClassifier com 100 amostras...\n",
      "Fit concluído.\n",
      "Model Factory: Criando tipo 'PVBin' com params: {'method': 'binary', 'query': 'binary', 'norm': None, 'query_norm': None, 'ngram_range': [1, 2]}\n",
      "Model Factory (PVBin): Convertido ngram_range [1, 2] para tupla (1, 2)\n",
      "Fitting ProductVectorizerClassifier com 100 amostras...\n",
      "Fit concluído.\n",
      "    Novo melhor (Obj: minimize): Perf Real=0.1532\n",
      "    Acc Real Geração 27: Max=0.1664, Avg=0.1550, Min=0.1532\n",
      "    F1 Real Geração  27: Max=0.0286, Avg=0.0265, Min=0.0256\n",
      "    Duração Geração 27: 73.59s\n",
      "\n",
      "  Geração 28/100\n"
     ]
    },
    {
     "data": {
      "application/vnd.jupyter.widget-view+json": {
       "model_id": "b430795e7ee8420cb8b036dfe53c4e69",
       "version_major": 2,
       "version_minor": 0
      },
      "text/plain": [
       "Fitness Calc Gen 28:   0%|          | 0/20 [00:00<?, ?it/s]"
      ]
     },
     "metadata": {},
     "output_type": "display_data"
    },
    {
     "name": "stdout",
     "output_type": "stream",
     "text": [
      "Model Factory: Criando tipo 'PVBin' com params: {'method': 'binary', 'query': 'binary', 'norm': None, 'query_norm': None, 'ngram_range': [1, 2]}\n",
      "Model Factory (PVBin): Convertido ngram_range [1, 2] para tupla (1, 2)\n",
      "Fitting ProductVectorizerClassifier com 100 amostras...\n",
      "Fit concluído.\n",
      "Model Factory: Criando tipo 'PVBin' com params: {'method': 'binary', 'query': 'binary', 'norm': None, 'query_norm': None, 'ngram_range': [1, 2]}\n",
      "Model Factory (PVBin): Convertido ngram_range [1, 2] para tupla (1, 2)\n",
      "Fitting ProductVectorizerClassifier com 100 amostras...\n",
      "Fit concluído.\n",
      "Model Factory: Criando tipo 'PVBin' com params: {'method': 'binary', 'query': 'binary', 'norm': None, 'query_norm': None, 'ngram_range': [1, 2]}\n",
      "Model Factory (PVBin): Convertido ngram_range [1, 2] para tupla (1, 2)\n",
      "Fitting ProductVectorizerClassifier com 100 amostras...\n",
      "Fit concluído.\n",
      "Model Factory: Criando tipo 'PVBin' com params: {'method': 'binary', 'query': 'binary', 'norm': None, 'query_norm': None, 'ngram_range': [1, 2]}\n",
      "Model Factory (PVBin): Convertido ngram_range [1, 2] para tupla (1, 2)\n",
      "Fitting ProductVectorizerClassifier com 100 amostras...\n",
      "Fit concluído.\n",
      "Model Factory: Criando tipo 'PVBin' com params: {'method': 'binary', 'query': 'binary', 'norm': None, 'query_norm': None, 'ngram_range': [1, 2]}\n",
      "Model Factory (PVBin): Convertido ngram_range [1, 2] para tupla (1, 2)\n",
      "Fitting ProductVectorizerClassifier com 100 amostras...\n",
      "Fit concluído.\n",
      "    Acc Real Geração 28: Max=0.1619, Avg=0.1547, Min=0.1532\n",
      "    F1 Real Geração  28: Max=0.0272, Avg=0.0263, Min=0.0254\n",
      "    Duração Geração 28: 56.71s\n",
      "\n",
      "  Geração 29/100\n"
     ]
    },
    {
     "data": {
      "application/vnd.jupyter.widget-view+json": {
       "model_id": "51897c2f39444383bd33452a6a8db64a",
       "version_major": 2,
       "version_minor": 0
      },
      "text/plain": [
       "Fitness Calc Gen 29:   0%|          | 0/20 [00:00<?, ?it/s]"
      ]
     },
     "metadata": {},
     "output_type": "display_data"
    },
    {
     "name": "stdout",
     "output_type": "stream",
     "text": [
      "Model Factory: Criando tipo 'PVBin' com params: {'method': 'binary', 'query': 'binary', 'norm': None, 'query_norm': None, 'ngram_range': [1, 2]}\n",
      "Model Factory (PVBin): Convertido ngram_range [1, 2] para tupla (1, 2)\n",
      "Fitting ProductVectorizerClassifier com 100 amostras...\n",
      "Fit concluído.\n",
      "Model Factory: Criando tipo 'PVBin' com params: {'method': 'binary', 'query': 'binary', 'norm': None, 'query_norm': None, 'ngram_range': [1, 2]}\n",
      "Model Factory (PVBin): Convertido ngram_range [1, 2] para tupla (1, 2)\n",
      "Fitting ProductVectorizerClassifier com 100 amostras...\n",
      "Fit concluído.\n",
      "Model Factory: Criando tipo 'PVBin' com params: {'method': 'binary', 'query': 'binary', 'norm': None, 'query_norm': None, 'ngram_range': [1, 2]}\n",
      "Model Factory (PVBin): Convertido ngram_range [1, 2] para tupla (1, 2)\n",
      "Fitting ProductVectorizerClassifier com 100 amostras...\n",
      "Fit concluído.\n",
      "Model Factory: Criando tipo 'PVBin' com params: {'method': 'binary', 'query': 'binary', 'norm': None, 'query_norm': None, 'ngram_range': [1, 2]}\n",
      "Model Factory (PVBin): Convertido ngram_range [1, 2] para tupla (1, 2)\n",
      "Fitting ProductVectorizerClassifier com 100 amostras...\n",
      "Fit concluído.\n",
      "    Novo melhor (Obj: minimize): Perf Real=0.1521\n",
      "    Acc Real Geração 29: Max=0.1666, Avg=0.1547, Min=0.1521\n",
      "    F1 Real Geração  29: Max=0.0292, Avg=0.0264, Min=0.0256\n",
      "    Duração Geração 29: 43.18s\n",
      "\n",
      "  Geração 30/100\n"
     ]
    },
    {
     "data": {
      "application/vnd.jupyter.widget-view+json": {
       "model_id": "e853cd16f5ab4754a8d216c3cb9ce2d1",
       "version_major": 2,
       "version_minor": 0
      },
      "text/plain": [
       "Fitness Calc Gen 30:   0%|          | 0/20 [00:00<?, ?it/s]"
      ]
     },
     "metadata": {},
     "output_type": "display_data"
    },
    {
     "name": "stdout",
     "output_type": "stream",
     "text": [
      "Model Factory: Criando tipo 'PVBin' com params: {'method': 'binary', 'query': 'binary', 'norm': None, 'query_norm': None, 'ngram_range': [1, 2]}\n",
      "Model Factory (PVBin): Convertido ngram_range [1, 2] para tupla (1, 2)\n",
      "Fitting ProductVectorizerClassifier com 100 amostras...\n",
      "Fit concluído.\n",
      "Model Factory: Criando tipo 'PVBin' com params: {'method': 'binary', 'query': 'binary', 'norm': None, 'query_norm': None, 'ngram_range': [1, 2]}\n",
      "Model Factory (PVBin): Convertido ngram_range [1, 2] para tupla (1, 2)\n",
      "Fitting ProductVectorizerClassifier com 100 amostras...\n",
      "Fit concluído.\n",
      "Model Factory: Criando tipo 'PVBin' com params: {'method': 'binary', 'query': 'binary', 'norm': None, 'query_norm': None, 'ngram_range': [1, 2]}\n",
      "Model Factory (PVBin): Convertido ngram_range [1, 2] para tupla (1, 2)\n",
      "Fitting ProductVectorizerClassifier com 100 amostras...\n",
      "Fit concluído.\n",
      "Model Factory: Criando tipo 'PVBin' com params: {'method': 'binary', 'query': 'binary', 'norm': None, 'query_norm': None, 'ngram_range': [1, 2]}\n",
      "Model Factory (PVBin): Convertido ngram_range [1, 2] para tupla (1, 2)\n",
      "Fitting ProductVectorizerClassifier com 100 amostras...\n",
      "Fit concluído.\n",
      "Model Factory: Criando tipo 'PVBin' com params: {'method': 'binary', 'query': 'binary', 'norm': None, 'query_norm': None, 'ngram_range': [1, 2]}\n",
      "Model Factory (PVBin): Convertido ngram_range [1, 2] para tupla (1, 2)\n",
      "Fitting ProductVectorizerClassifier com 100 amostras...\n",
      "Fit concluído.\n",
      "    Novo melhor (Obj: minimize): Perf Real=0.1521\n",
      "    Acc Real Geração 30: Max=0.1609, Avg=0.1537, Min=0.1521\n",
      "    F1 Real Geração  30: Max=0.0267, Avg=0.0262, Min=0.0257\n",
      "    Duração Geração 30: 48.43s\n",
      "\n",
      "  Geração 31/100\n"
     ]
    },
    {
     "data": {
      "application/vnd.jupyter.widget-view+json": {
       "model_id": "01a0ea9bd6964307a70da54c5848d458",
       "version_major": 2,
       "version_minor": 0
      },
      "text/plain": [
       "Fitness Calc Gen 31:   0%|          | 0/20 [00:00<?, ?it/s]"
      ]
     },
     "metadata": {},
     "output_type": "display_data"
    },
    {
     "name": "stdout",
     "output_type": "stream",
     "text": [
      "Model Factory: Criando tipo 'PVBin' com params: {'method': 'binary', 'query': 'binary', 'norm': None, 'query_norm': None, 'ngram_range': [1, 2]}\n",
      "Model Factory (PVBin): Convertido ngram_range [1, 2] para tupla (1, 2)\n",
      "Fitting ProductVectorizerClassifier com 100 amostras...\n",
      "Fit concluído.\n",
      "Model Factory: Criando tipo 'PVBin' com params: {'method': 'binary', 'query': 'binary', 'norm': None, 'query_norm': None, 'ngram_range': [1, 2]}\n",
      "Model Factory (PVBin): Convertido ngram_range [1, 2] para tupla (1, 2)\n",
      "Fitting ProductVectorizerClassifier com 100 amostras...\n",
      "Fit concluído.\n",
      "Model Factory: Criando tipo 'PVBin' com params: {'method': 'binary', 'query': 'binary', 'norm': None, 'query_norm': None, 'ngram_range': [1, 2]}\n",
      "Model Factory (PVBin): Convertido ngram_range [1, 2] para tupla (1, 2)\n",
      "Fitting ProductVectorizerClassifier com 100 amostras...\n",
      "Fit concluído.\n",
      "Model Factory: Criando tipo 'PVBin' com params: {'method': 'binary', 'query': 'binary', 'norm': None, 'query_norm': None, 'ngram_range': [1, 2]}\n",
      "Model Factory (PVBin): Convertido ngram_range [1, 2] para tupla (1, 2)\n",
      "Fitting ProductVectorizerClassifier com 100 amostras...\n",
      "Fit concluído.\n",
      "    Novo melhor (Obj: minimize): Perf Real=0.1494\n",
      "    Acc Real Geração 31: Max=0.1695, Avg=0.1537, Min=0.1494\n",
      "    F1 Real Geração  31: Max=0.0280, Avg=0.0263, Min=0.0257\n",
      "    Duração Geração 31: 40.62s\n",
      "\n",
      "  Geração 32/100\n"
     ]
    },
    {
     "data": {
      "application/vnd.jupyter.widget-view+json": {
       "model_id": "734b9ff8a27142529e417cc19a41561f",
       "version_major": 2,
       "version_minor": 0
      },
      "text/plain": [
       "Fitness Calc Gen 32:   0%|          | 0/20 [00:00<?, ?it/s]"
      ]
     },
     "metadata": {},
     "output_type": "display_data"
    },
    {
     "name": "stdout",
     "output_type": "stream",
     "text": [
      "Model Factory: Criando tipo 'PVBin' com params: {'method': 'binary', 'query': 'binary', 'norm': None, 'query_norm': None, 'ngram_range': [1, 2]}\n",
      "Model Factory (PVBin): Convertido ngram_range [1, 2] para tupla (1, 2)\n",
      "Fitting ProductVectorizerClassifier com 100 amostras...\n",
      "Fit concluído.\n",
      "Model Factory: Criando tipo 'PVBin' com params: {'method': 'binary', 'query': 'binary', 'norm': None, 'query_norm': None, 'ngram_range': [1, 2]}\n",
      "Model Factory (PVBin): Convertido ngram_range [1, 2] para tupla (1, 2)\n",
      "Fitting ProductVectorizerClassifier com 100 amostras...\n",
      "Fit concluído.\n",
      "Model Factory: Criando tipo 'PVBin' com params: {'method': 'binary', 'query': 'binary', 'norm': None, 'query_norm': None, 'ngram_range': [1, 2]}\n",
      "Model Factory (PVBin): Convertido ngram_range [1, 2] para tupla (1, 2)\n",
      "Fitting ProductVectorizerClassifier com 100 amostras...\n",
      "Fit concluído.\n",
      "Model Factory: Criando tipo 'PVBin' com params: {'method': 'binary', 'query': 'binary', 'norm': None, 'query_norm': None, 'ngram_range': [1, 2]}\n",
      "Model Factory (PVBin): Convertido ngram_range [1, 2] para tupla (1, 2)\n",
      "Fitting ProductVectorizerClassifier com 100 amostras...\n",
      "Fit concluído.\n",
      "Model Factory: Criando tipo 'PVBin' com params: {'method': 'binary', 'query': 'binary', 'norm': None, 'query_norm': None, 'ngram_range': [1, 2]}\n",
      "Model Factory (PVBin): Convertido ngram_range [1, 2] para tupla (1, 2)\n",
      "Fitting ProductVectorizerClassifier com 100 amostras...\n",
      "Fit concluído.\n",
      "Model Factory: Criando tipo 'PVBin' com params: {'method': 'binary', 'query': 'binary', 'norm': None, 'query_norm': None, 'ngram_range': [1, 2]}\n",
      "Model Factory (PVBin): Convertido ngram_range [1, 2] para tupla (1, 2)\n",
      "Fitting ProductVectorizerClassifier com 100 amostras...\n",
      "Fit concluído.\n",
      "Model Factory: Criando tipo 'PVBin' com params: {'method': 'binary', 'query': 'binary', 'norm': None, 'query_norm': None, 'ngram_range': [1, 2]}\n",
      "Model Factory (PVBin): Convertido ngram_range [1, 2] para tupla (1, 2)\n",
      "Fitting ProductVectorizerClassifier com 100 amostras...\n",
      "Fit concluído.\n",
      "    Novo melhor (Obj: minimize): Perf Real=0.1488\n",
      "    Acc Real Geração 32: Max=0.1651, Avg=0.1528, Min=0.1488\n",
      "    F1 Real Geração  32: Max=0.0273, Avg=0.0266, Min=0.0261\n",
      "    Duração Geração 32: 80.28s\n",
      "\n",
      "  Geração 33/100\n"
     ]
    },
    {
     "data": {
      "application/vnd.jupyter.widget-view+json": {
       "model_id": "13ce932063ac4a9b934322272613653c",
       "version_major": 2,
       "version_minor": 0
      },
      "text/plain": [
       "Fitness Calc Gen 33:   0%|          | 0/20 [00:00<?, ?it/s]"
      ]
     },
     "metadata": {},
     "output_type": "display_data"
    },
    {
     "name": "stdout",
     "output_type": "stream",
     "text": [
      "Model Factory: Criando tipo 'PVBin' com params: {'method': 'binary', 'query': 'binary', 'norm': None, 'query_norm': None, 'ngram_range': [1, 2]}\n",
      "Model Factory (PVBin): Convertido ngram_range [1, 2] para tupla (1, 2)\n",
      "Fitting ProductVectorizerClassifier com 100 amostras...\n",
      "Fit concluído.\n",
      "Model Factory: Criando tipo 'PVBin' com params: {'method': 'binary', 'query': 'binary', 'norm': None, 'query_norm': None, 'ngram_range': [1, 2]}\n",
      "Model Factory (PVBin): Convertido ngram_range [1, 2] para tupla (1, 2)\n",
      "Fitting ProductVectorizerClassifier com 100 amostras...\n",
      "Fit concluído.\n",
      "Model Factory: Criando tipo 'PVBin' com params: {'method': 'binary', 'query': 'binary', 'norm': None, 'query_norm': None, 'ngram_range': [1, 2]}\n",
      "Model Factory (PVBin): Convertido ngram_range [1, 2] para tupla (1, 2)\n",
      "Fitting ProductVectorizerClassifier com 100 amostras...\n",
      "Fit concluído.\n",
      "Model Factory: Criando tipo 'PVBin' com params: {'method': 'binary', 'query': 'binary', 'norm': None, 'query_norm': None, 'ngram_range': [1, 2]}\n",
      "Model Factory (PVBin): Convertido ngram_range [1, 2] para tupla (1, 2)\n",
      "Fitting ProductVectorizerClassifier com 100 amostras...\n",
      "Fit concluído.\n",
      "    Novo melhor (Obj: minimize): Perf Real=0.1472\n",
      "    Acc Real Geração 33: Max=0.1696, Avg=0.1513, Min=0.1472\n",
      "    F1 Real Geração  33: Max=0.0286, Avg=0.0267, Min=0.0261\n",
      "    Duração Geração 33: 41.31s\n",
      "\n",
      "  Geração 34/100\n"
     ]
    },
    {
     "data": {
      "application/vnd.jupyter.widget-view+json": {
       "model_id": "49214cbd836746fd89806b7ba03fdcf1",
       "version_major": 2,
       "version_minor": 0
      },
      "text/plain": [
       "Fitness Calc Gen 34:   0%|          | 0/20 [00:00<?, ?it/s]"
      ]
     },
     "metadata": {},
     "output_type": "display_data"
    },
    {
     "name": "stdout",
     "output_type": "stream",
     "text": [
      "Model Factory: Criando tipo 'PVBin' com params: {'method': 'binary', 'query': 'binary', 'norm': None, 'query_norm': None, 'ngram_range': [1, 2]}\n",
      "Model Factory (PVBin): Convertido ngram_range [1, 2] para tupla (1, 2)\n",
      "Fitting ProductVectorizerClassifier com 100 amostras...\n",
      "Fit concluído.\n",
      "Model Factory: Criando tipo 'PVBin' com params: {'method': 'binary', 'query': 'binary', 'norm': None, 'query_norm': None, 'ngram_range': [1, 2]}\n",
      "Model Factory (PVBin): Convertido ngram_range [1, 2] para tupla (1, 2)\n",
      "Fitting ProductVectorizerClassifier com 100 amostras...\n",
      "Fit concluído.\n",
      "Model Factory: Criando tipo 'PVBin' com params: {'method': 'binary', 'query': 'binary', 'norm': None, 'query_norm': None, 'ngram_range': [1, 2]}\n",
      "Model Factory (PVBin): Convertido ngram_range [1, 2] para tupla (1, 2)\n",
      "Fitting ProductVectorizerClassifier com 100 amostras...\n",
      "Fit concluído.\n",
      "Model Factory: Criando tipo 'PVBin' com params: {'method': 'binary', 'query': 'binary', 'norm': None, 'query_norm': None, 'ngram_range': [1, 2]}\n",
      "Model Factory (PVBin): Convertido ngram_range [1, 2] para tupla (1, 2)\n",
      "Fitting ProductVectorizerClassifier com 100 amostras...\n",
      "Fit concluído.\n",
      "Model Factory: Criando tipo 'PVBin' com params: {'method': 'binary', 'query': 'binary', 'norm': None, 'query_norm': None, 'ngram_range': [1, 2]}\n",
      "Model Factory (PVBin): Convertido ngram_range [1, 2] para tupla (1, 2)\n",
      "Fitting ProductVectorizerClassifier com 100 amostras...\n",
      "Fit concluído.\n",
      "Model Factory: Criando tipo 'PVBin' com params: {'method': 'binary', 'query': 'binary', 'norm': None, 'query_norm': None, 'ngram_range': [1, 2]}\n",
      "Model Factory (PVBin): Convertido ngram_range [1, 2] para tupla (1, 2)\n",
      "Fitting ProductVectorizerClassifier com 100 amostras...\n",
      "Fit concluído.\n",
      "    Acc Real Geração 34: Max=0.1568, Avg=0.1500, Min=0.1472\n",
      "    F1 Real Geração  34: Max=0.0289, Avg=0.0267, Min=0.0259\n",
      "    Duração Geração 34: 58.32s\n",
      "\n",
      "  Geração 35/100\n"
     ]
    },
    {
     "data": {
      "application/vnd.jupyter.widget-view+json": {
       "model_id": "241eacda806c47b188430c71e050acdc",
       "version_major": 2,
       "version_minor": 0
      },
      "text/plain": [
       "Fitness Calc Gen 35:   0%|          | 0/20 [00:00<?, ?it/s]"
      ]
     },
     "metadata": {},
     "output_type": "display_data"
    },
    {
     "name": "stdout",
     "output_type": "stream",
     "text": [
      "Model Factory: Criando tipo 'PVBin' com params: {'method': 'binary', 'query': 'binary', 'norm': None, 'query_norm': None, 'ngram_range': [1, 2]}\n",
      "Model Factory (PVBin): Convertido ngram_range [1, 2] para tupla (1, 2)\n",
      "Fitting ProductVectorizerClassifier com 100 amostras...\n",
      "Fit concluído.\n",
      "Model Factory: Criando tipo 'PVBin' com params: {'method': 'binary', 'query': 'binary', 'norm': None, 'query_norm': None, 'ngram_range': [1, 2]}\n",
      "Model Factory (PVBin): Convertido ngram_range [1, 2] para tupla (1, 2)\n",
      "Fitting ProductVectorizerClassifier com 100 amostras...\n",
      "Fit concluído.\n",
      "Model Factory: Criando tipo 'PVBin' com params: {'method': 'binary', 'query': 'binary', 'norm': None, 'query_norm': None, 'ngram_range': [1, 2]}\n",
      "Model Factory (PVBin): Convertido ngram_range [1, 2] para tupla (1, 2)\n",
      "Fitting ProductVectorizerClassifier com 100 amostras...\n",
      "Fit concluído.\n",
      "    Acc Real Geração 35: Max=0.1521, Avg=0.1481, Min=0.1472\n",
      "    F1 Real Geração  35: Max=0.0273, Avg=0.0264, Min=0.0259\n",
      "    Duração Geração 35: 30.08s\n",
      "\n",
      "  Geração 36/100\n"
     ]
    },
    {
     "data": {
      "application/vnd.jupyter.widget-view+json": {
       "model_id": "2d8c9ba435cb484c93ffbdcb2401efdb",
       "version_major": 2,
       "version_minor": 0
      },
      "text/plain": [
       "Fitness Calc Gen 36:   0%|          | 0/20 [00:00<?, ?it/s]"
      ]
     },
     "metadata": {},
     "output_type": "display_data"
    },
    {
     "name": "stdout",
     "output_type": "stream",
     "text": [
      "Model Factory: Criando tipo 'PVBin' com params: {'method': 'binary', 'query': 'binary', 'norm': None, 'query_norm': None, 'ngram_range': [1, 2]}\n",
      "Model Factory (PVBin): Convertido ngram_range [1, 2] para tupla (1, 2)\n",
      "Fitting ProductVectorizerClassifier com 100 amostras...\n",
      "Fit concluído.\n",
      "    Novo melhor (Obj: minimize): Perf Real=0.1464\n",
      "    Acc Real Geração 36: Max=0.1472, Avg=0.1471, Min=0.1464\n",
      "    F1 Real Geração  36: Max=0.0266, Avg=0.0263, Min=0.0263\n",
      "    Duração Geração 36: 10.57s\n",
      "\n",
      "  Geração 37/100\n"
     ]
    },
    {
     "data": {
      "application/vnd.jupyter.widget-view+json": {
       "model_id": "69773d4e283d4653ae8de402f32e3db0",
       "version_major": 2,
       "version_minor": 0
      },
      "text/plain": [
       "Fitness Calc Gen 37:   0%|          | 0/20 [00:00<?, ?it/s]"
      ]
     },
     "metadata": {},
     "output_type": "display_data"
    },
    {
     "name": "stdout",
     "output_type": "stream",
     "text": [
      "Model Factory: Criando tipo 'PVBin' com params: {'method': 'binary', 'query': 'binary', 'norm': None, 'query_norm': None, 'ngram_range': [1, 2]}\n",
      "Model Factory (PVBin): Convertido ngram_range [1, 2] para tupla (1, 2)\n",
      "Fitting ProductVectorizerClassifier com 100 amostras...\n",
      "Fit concluído.\n",
      "Model Factory: Criando tipo 'PVBin' com params: {'method': 'binary', 'query': 'binary', 'norm': None, 'query_norm': None, 'ngram_range': [1, 2]}\n",
      "Model Factory (PVBin): Convertido ngram_range [1, 2] para tupla (1, 2)\n",
      "Fitting ProductVectorizerClassifier com 100 amostras...\n",
      "Fit concluído.\n",
      "Model Factory: Criando tipo 'PVBin' com params: {'method': 'binary', 'query': 'binary', 'norm': None, 'query_norm': None, 'ngram_range': [1, 2]}\n",
      "Model Factory (PVBin): Convertido ngram_range [1, 2] para tupla (1, 2)\n",
      "Fitting ProductVectorizerClassifier com 100 amostras...\n",
      "Fit concluído.\n",
      "Model Factory: Criando tipo 'PVBin' com params: {'method': 'binary', 'query': 'binary', 'norm': None, 'query_norm': None, 'ngram_range': [1, 2]}\n",
      "Model Factory (PVBin): Convertido ngram_range [1, 2] para tupla (1, 2)\n",
      "Fitting ProductVectorizerClassifier com 100 amostras...\n",
      "Fit concluído.\n",
      "    Acc Real Geração 37: Max=0.1659, Avg=0.1484, Min=0.1464\n",
      "    F1 Real Geração  37: Max=0.0270, Avg=0.0264, Min=0.0262\n",
      "    Duração Geração 37: 39.58s\n",
      "\n",
      "  Geração 38/100\n"
     ]
    },
    {
     "data": {
      "application/vnd.jupyter.widget-view+json": {
       "model_id": "e38e9198f1e14613a49238ced7f16a1e",
       "version_major": 2,
       "version_minor": 0
      },
      "text/plain": [
       "Fitness Calc Gen 38:   0%|          | 0/20 [00:00<?, ?it/s]"
      ]
     },
     "metadata": {},
     "output_type": "display_data"
    },
    {
     "name": "stdout",
     "output_type": "stream",
     "text": [
      "Model Factory: Criando tipo 'PVBin' com params: {'method': 'binary', 'query': 'binary', 'norm': None, 'query_norm': None, 'ngram_range': [1, 2]}\n",
      "Model Factory (PVBin): Convertido ngram_range [1, 2] para tupla (1, 2)\n",
      "Fitting ProductVectorizerClassifier com 100 amostras...\n",
      "Fit concluído.\n",
      "Model Factory: Criando tipo 'PVBin' com params: {'method': 'binary', 'query': 'binary', 'norm': None, 'query_norm': None, 'ngram_range': [1, 2]}\n",
      "Model Factory (PVBin): Convertido ngram_range [1, 2] para tupla (1, 2)\n",
      "Fitting ProductVectorizerClassifier com 100 amostras...\n",
      "Fit concluído.\n",
      "Model Factory: Criando tipo 'PVBin' com params: {'method': 'binary', 'query': 'binary', 'norm': None, 'query_norm': None, 'ngram_range': [1, 2]}\n",
      "Model Factory (PVBin): Convertido ngram_range [1, 2] para tupla (1, 2)\n",
      "Fitting ProductVectorizerClassifier com 100 amostras...\n",
      "Fit concluído.\n",
      "    Acc Real Geração 38: Max=0.1676, Avg=0.1485, Min=0.1464\n",
      "    F1 Real Geração  38: Max=0.0275, Avg=0.0264, Min=0.0243\n",
      "    Duração Geração 38: 28.91s\n",
      "\n",
      "  Geração 39/100\n"
     ]
    },
    {
     "data": {
      "application/vnd.jupyter.widget-view+json": {
       "model_id": "85bf365ebf0b4e9f9db1c6239639aa2f",
       "version_major": 2,
       "version_minor": 0
      },
      "text/plain": [
       "Fitness Calc Gen 39:   0%|          | 0/20 [00:00<?, ?it/s]"
      ]
     },
     "metadata": {},
     "output_type": "display_data"
    },
    {
     "name": "stdout",
     "output_type": "stream",
     "text": [
      "Model Factory: Criando tipo 'PVBin' com params: {'method': 'binary', 'query': 'binary', 'norm': None, 'query_norm': None, 'ngram_range': [1, 2]}\n",
      "Model Factory (PVBin): Convertido ngram_range [1, 2] para tupla (1, 2)\n",
      "Fitting ProductVectorizerClassifier com 100 amostras...\n",
      "Fit concluído.\n",
      "Model Factory: Criando tipo 'PVBin' com params: {'method': 'binary', 'query': 'binary', 'norm': None, 'query_norm': None, 'ngram_range': [1, 2]}\n",
      "Model Factory (PVBin): Convertido ngram_range [1, 2] para tupla (1, 2)\n",
      "Fitting ProductVectorizerClassifier com 100 amostras...\n",
      "Fit concluído.\n",
      "Model Factory: Criando tipo 'PVBin' com params: {'method': 'binary', 'query': 'binary', 'norm': None, 'query_norm': None, 'ngram_range': [1, 2]}\n",
      "Model Factory (PVBin): Convertido ngram_range [1, 2] para tupla (1, 2)\n",
      "Fitting ProductVectorizerClassifier com 100 amostras...\n",
      "Fit concluído.\n",
      "Model Factory: Criando tipo 'PVBin' com params: {'method': 'binary', 'query': 'binary', 'norm': None, 'query_norm': None, 'ngram_range': [1, 2]}\n",
      "Model Factory (PVBin): Convertido ngram_range [1, 2] para tupla (1, 2)\n",
      "Fitting ProductVectorizerClassifier com 100 amostras...\n",
      "Fit concluído.\n",
      "Model Factory: Criando tipo 'PVBin' com params: {'method': 'binary', 'query': 'binary', 'norm': None, 'query_norm': None, 'ngram_range': [1, 2]}\n",
      "Model Factory (PVBin): Convertido ngram_range [1, 2] para tupla (1, 2)\n",
      "Fitting ProductVectorizerClassifier com 100 amostras...\n",
      "Fit concluído.\n",
      "    Acc Real Geração 39: Max=0.1604, Avg=0.1490, Min=0.1464\n",
      "    F1 Real Geração  39: Max=0.0277, Avg=0.0266, Min=0.0254\n",
      "    Duração Geração 39: 49.37s\n",
      "\n",
      "  Geração 40/100\n"
     ]
    },
    {
     "data": {
      "application/vnd.jupyter.widget-view+json": {
       "model_id": "cf5b8b4530ed46789e497cf5619ae7b0",
       "version_major": 2,
       "version_minor": 0
      },
      "text/plain": [
       "Fitness Calc Gen 40:   0%|          | 0/20 [00:00<?, ?it/s]"
      ]
     },
     "metadata": {},
     "output_type": "display_data"
    },
    {
     "name": "stdout",
     "output_type": "stream",
     "text": [
      "Model Factory: Criando tipo 'PVBin' com params: {'method': 'binary', 'query': 'binary', 'norm': None, 'query_norm': None, 'ngram_range': [1, 2]}\n",
      "Model Factory (PVBin): Convertido ngram_range [1, 2] para tupla (1, 2)\n",
      "Fitting ProductVectorizerClassifier com 100 amostras...\n",
      "Fit concluído.\n",
      "Model Factory: Criando tipo 'PVBin' com params: {'method': 'binary', 'query': 'binary', 'norm': None, 'query_norm': None, 'ngram_range': [1, 2]}\n",
      "Model Factory (PVBin): Convertido ngram_range [1, 2] para tupla (1, 2)\n",
      "Fitting ProductVectorizerClassifier com 100 amostras...\n",
      "Fit concluído.\n",
      "Model Factory: Criando tipo 'PVBin' com params: {'method': 'binary', 'query': 'binary', 'norm': None, 'query_norm': None, 'ngram_range': [1, 2]}\n",
      "Model Factory (PVBin): Convertido ngram_range [1, 2] para tupla (1, 2)\n",
      "Fitting ProductVectorizerClassifier com 100 amostras...\n",
      "Fit concluído.\n",
      "Model Factory: Criando tipo 'PVBin' com params: {'method': 'binary', 'query': 'binary', 'norm': None, 'query_norm': None, 'ngram_range': [1, 2]}\n",
      "Model Factory (PVBin): Convertido ngram_range [1, 2] para tupla (1, 2)\n",
      "Fitting ProductVectorizerClassifier com 100 amostras...\n",
      "Fit concluído.\n",
      "Model Factory: Criando tipo 'PVBin' com params: {'method': 'binary', 'query': 'binary', 'norm': None, 'query_norm': None, 'ngram_range': [1, 2]}\n",
      "Model Factory (PVBin): Convertido ngram_range [1, 2] para tupla (1, 2)\n",
      "Fitting ProductVectorizerClassifier com 100 amostras...\n",
      "Fit concluído.\n",
      "Model Factory: Criando tipo 'PVBin' com params: {'method': 'binary', 'query': 'binary', 'norm': None, 'query_norm': None, 'ngram_range': [1, 2]}\n",
      "Model Factory (PVBin): Convertido ngram_range [1, 2] para tupla (1, 2)\n",
      "Fitting ProductVectorizerClassifier com 100 amostras...\n",
      "Fit concluído.\n",
      "    Novo melhor (Obj: minimize): Perf Real=0.1432\n",
      "    Acc Real Geração 40: Max=0.1664, Avg=0.1481, Min=0.1432\n",
      "    F1 Real Geração  40: Max=0.0280, Avg=0.0267, Min=0.0258\n",
      "    Duração Geração 40: 59.62s\n",
      "\n",
      "  Geração 41/100\n"
     ]
    },
    {
     "data": {
      "application/vnd.jupyter.widget-view+json": {
       "model_id": "42d1539825ac4a8b906b0d051f4c8ce8",
       "version_major": 2,
       "version_minor": 0
      },
      "text/plain": [
       "Fitness Calc Gen 41:   0%|          | 0/20 [00:00<?, ?it/s]"
      ]
     },
     "metadata": {},
     "output_type": "display_data"
    },
    {
     "name": "stdout",
     "output_type": "stream",
     "text": [
      "Model Factory: Criando tipo 'PVBin' com params: {'method': 'binary', 'query': 'binary', 'norm': None, 'query_norm': None, 'ngram_range': [1, 2]}\n",
      "Model Factory (PVBin): Convertido ngram_range [1, 2] para tupla (1, 2)\n",
      "Fitting ProductVectorizerClassifier com 100 amostras...\n",
      "Fit concluído.\n",
      "Model Factory: Criando tipo 'PVBin' com params: {'method': 'binary', 'query': 'binary', 'norm': None, 'query_norm': None, 'ngram_range': [1, 2]}\n",
      "Model Factory (PVBin): Convertido ngram_range [1, 2] para tupla (1, 2)\n",
      "Fitting ProductVectorizerClassifier com 100 amostras...\n",
      "Fit concluído.\n",
      "Model Factory: Criando tipo 'PVBin' com params: {'method': 'binary', 'query': 'binary', 'norm': None, 'query_norm': None, 'ngram_range': [1, 2]}\n",
      "Model Factory (PVBin): Convertido ngram_range [1, 2] para tupla (1, 2)\n",
      "Fitting ProductVectorizerClassifier com 100 amostras...\n",
      "Fit concluído.\n",
      "Model Factory: Criando tipo 'PVBin' com params: {'method': 'binary', 'query': 'binary', 'norm': None, 'query_norm': None, 'ngram_range': [1, 2]}\n",
      "Model Factory (PVBin): Convertido ngram_range [1, 2] para tupla (1, 2)\n",
      "Fitting ProductVectorizerClassifier com 100 amostras...\n",
      "Fit concluído.\n",
      "Model Factory: Criando tipo 'PVBin' com params: {'method': 'binary', 'query': 'binary', 'norm': None, 'query_norm': None, 'ngram_range': [1, 2]}\n",
      "Model Factory (PVBin): Convertido ngram_range [1, 2] para tupla (1, 2)\n",
      "Fitting ProductVectorizerClassifier com 100 amostras...\n",
      "Fit concluído.\n",
      "Model Factory: Criando tipo 'PVBin' com params: {'method': 'binary', 'query': 'binary', 'norm': None, 'query_norm': None, 'ngram_range': [1, 2]}\n",
      "Model Factory (PVBin): Convertido ngram_range [1, 2] para tupla (1, 2)\n",
      "Fitting ProductVectorizerClassifier com 100 amostras...\n",
      "Fit concluído.\n",
      "Model Factory: Criando tipo 'PVBin' com params: {'method': 'binary', 'query': 'binary', 'norm': None, 'query_norm': None, 'ngram_range': [1, 2]}\n",
      "Model Factory (PVBin): Convertido ngram_range [1, 2] para tupla (1, 2)\n",
      "Fitting ProductVectorizerClassifier com 100 amostras...\n",
      "Fit concluído.\n",
      "    Novo melhor (Obj: minimize): Perf Real=0.1409\n",
      "    Acc Real Geração 41: Max=0.1528, Avg=0.1465, Min=0.1409\n",
      "    F1 Real Geração  41: Max=0.0274, Avg=0.0266, Min=0.0258\n",
      "    Duração Geração 41: 69.08s\n",
      "\n",
      "  Geração 42/100\n"
     ]
    },
    {
     "data": {
      "application/vnd.jupyter.widget-view+json": {
       "model_id": "415b6faab10548288b2b746fac36fd7c",
       "version_major": 2,
       "version_minor": 0
      },
      "text/plain": [
       "Fitness Calc Gen 42:   0%|          | 0/20 [00:00<?, ?it/s]"
      ]
     },
     "metadata": {},
     "output_type": "display_data"
    },
    {
     "name": "stdout",
     "output_type": "stream",
     "text": [
      "Model Factory: Criando tipo 'PVBin' com params: {'method': 'binary', 'query': 'binary', 'norm': None, 'query_norm': None, 'ngram_range': [1, 2]}\n",
      "Model Factory (PVBin): Convertido ngram_range [1, 2] para tupla (1, 2)\n",
      "Fitting ProductVectorizerClassifier com 100 amostras...\n",
      "Fit concluído.\n",
      "Model Factory: Criando tipo 'PVBin' com params: {'method': 'binary', 'query': 'binary', 'norm': None, 'query_norm': None, 'ngram_range': [1, 2]}\n",
      "Model Factory (PVBin): Convertido ngram_range [1, 2] para tupla (1, 2)\n",
      "Fitting ProductVectorizerClassifier com 100 amostras...\n",
      "Fit concluído.\n",
      "Model Factory: Criando tipo 'PVBin' com params: {'method': 'binary', 'query': 'binary', 'norm': None, 'query_norm': None, 'ngram_range': [1, 2]}\n",
      "Model Factory (PVBin): Convertido ngram_range [1, 2] para tupla (1, 2)\n",
      "Fitting ProductVectorizerClassifier com 100 amostras...\n",
      "Fit concluído.\n",
      "Model Factory: Criando tipo 'PVBin' com params: {'method': 'binary', 'query': 'binary', 'norm': None, 'query_norm': None, 'ngram_range': [1, 2]}\n",
      "Model Factory (PVBin): Convertido ngram_range [1, 2] para tupla (1, 2)\n",
      "Fitting ProductVectorizerClassifier com 100 amostras...\n",
      "Fit concluído.\n",
      "Model Factory: Criando tipo 'PVBin' com params: {'method': 'binary', 'query': 'binary', 'norm': None, 'query_norm': None, 'ngram_range': [1, 2]}\n",
      "Model Factory (PVBin): Convertido ngram_range [1, 2] para tupla (1, 2)\n",
      "Fitting ProductVectorizerClassifier com 100 amostras...\n",
      "Fit concluído.\n",
      "Model Factory: Criando tipo 'PVBin' com params: {'method': 'binary', 'query': 'binary', 'norm': None, 'query_norm': None, 'ngram_range': [1, 2]}\n",
      "Model Factory (PVBin): Convertido ngram_range [1, 2] para tupla (1, 2)\n",
      "Fitting ProductVectorizerClassifier com 100 amostras...\n",
      "Fit concluído.\n",
      "    Acc Real Geração 42: Max=0.1613, Avg=0.1465, Min=0.1409\n",
      "    F1 Real Geração  42: Max=0.0298, Avg=0.0267, Min=0.0258\n",
      "    Duração Geração 42: 56.32s\n",
      "\n",
      "  Geração 43/100\n"
     ]
    },
    {
     "data": {
      "application/vnd.jupyter.widget-view+json": {
       "model_id": "44592eebfbbf4ad385b78b816e24e81b",
       "version_major": 2,
       "version_minor": 0
      },
      "text/plain": [
       "Fitness Calc Gen 43:   0%|          | 0/20 [00:00<?, ?it/s]"
      ]
     },
     "metadata": {},
     "output_type": "display_data"
    },
    {
     "name": "stdout",
     "output_type": "stream",
     "text": [
      "Model Factory: Criando tipo 'PVBin' com params: {'method': 'binary', 'query': 'binary', 'norm': None, 'query_norm': None, 'ngram_range': [1, 2]}\n",
      "Model Factory (PVBin): Convertido ngram_range [1, 2] para tupla (1, 2)\n",
      "Fitting ProductVectorizerClassifier com 100 amostras...\n",
      "Fit concluído.\n",
      "Model Factory: Criando tipo 'PVBin' com params: {'method': 'binary', 'query': 'binary', 'norm': None, 'query_norm': None, 'ngram_range': [1, 2]}\n",
      "Model Factory (PVBin): Convertido ngram_range [1, 2] para tupla (1, 2)\n",
      "Fitting ProductVectorizerClassifier com 100 amostras...\n",
      "Fit concluído.\n",
      "Model Factory: Criando tipo 'PVBin' com params: {'method': 'binary', 'query': 'binary', 'norm': None, 'query_norm': None, 'ngram_range': [1, 2]}\n",
      "Model Factory (PVBin): Convertido ngram_range [1, 2] para tupla (1, 2)\n",
      "Fitting ProductVectorizerClassifier com 100 amostras...\n",
      "Fit concluído.\n",
      "Model Factory: Criando tipo 'PVBin' com params: {'method': 'binary', 'query': 'binary', 'norm': None, 'query_norm': None, 'ngram_range': [1, 2]}\n",
      "Model Factory (PVBin): Convertido ngram_range [1, 2] para tupla (1, 2)\n",
      "Fitting ProductVectorizerClassifier com 100 amostras...\n",
      "Fit concluído.\n",
      "Model Factory: Criando tipo 'PVBin' com params: {'method': 'binary', 'query': 'binary', 'norm': None, 'query_norm': None, 'ngram_range': [1, 2]}\n",
      "Model Factory (PVBin): Convertido ngram_range [1, 2] para tupla (1, 2)\n",
      "Fitting ProductVectorizerClassifier com 100 amostras...\n",
      "Fit concluído.\n",
      "Model Factory: Criando tipo 'PVBin' com params: {'method': 'binary', 'query': 'binary', 'norm': None, 'query_norm': None, 'ngram_range': [1, 2]}\n",
      "Model Factory (PVBin): Convertido ngram_range [1, 2] para tupla (1, 2)\n",
      "Fitting ProductVectorizerClassifier com 100 amostras...\n",
      "Fit concluído.\n",
      "Model Factory: Criando tipo 'PVBin' com params: {'method': 'binary', 'query': 'binary', 'norm': None, 'query_norm': None, 'ngram_range': [1, 2]}\n",
      "Model Factory (PVBin): Convertido ngram_range [1, 2] para tupla (1, 2)\n",
      "Fitting ProductVectorizerClassifier com 100 amostras...\n",
      "Fit concluído.\n",
      "Model Factory: Criando tipo 'PVBin' com params: {'method': 'binary', 'query': 'binary', 'norm': None, 'query_norm': None, 'ngram_range': [1, 2]}\n",
      "Model Factory (PVBin): Convertido ngram_range [1, 2] para tupla (1, 2)\n",
      "Fitting ProductVectorizerClassifier com 100 amostras...\n",
      "Fit concluído.\n",
      "Model Factory: Criando tipo 'PVBin' com params: {'method': 'binary', 'query': 'binary', 'norm': None, 'query_norm': None, 'ngram_range': [1, 2]}\n",
      "Model Factory (PVBin): Convertido ngram_range [1, 2] para tupla (1, 2)\n",
      "Fitting ProductVectorizerClassifier com 100 amostras...\n",
      "Fit concluído.\n",
      "Model Factory: Criando tipo 'PVBin' com params: {'method': 'binary', 'query': 'binary', 'norm': None, 'query_norm': None, 'ngram_range': [1, 2]}\n",
      "Model Factory (PVBin): Convertido ngram_range [1, 2] para tupla (1, 2)\n",
      "Fitting ProductVectorizerClassifier com 100 amostras...\n",
      "Fit concluído.\n",
      "    Acc Real Geração 43: Max=0.1595, Avg=0.1445, Min=0.1409\n",
      "    F1 Real Geração  43: Max=0.0269, Avg=0.0262, Min=0.0256\n",
      "    Duração Geração 43: 63.30s\n",
      "\n",
      "  Geração 44/100\n"
     ]
    },
    {
     "data": {
      "application/vnd.jupyter.widget-view+json": {
       "model_id": "75822b13cd0445a68d2313b78dce0148",
       "version_major": 2,
       "version_minor": 0
      },
      "text/plain": [
       "Fitness Calc Gen 44:   0%|          | 0/20 [00:00<?, ?it/s]"
      ]
     },
     "metadata": {},
     "output_type": "display_data"
    },
    {
     "name": "stdout",
     "output_type": "stream",
     "text": [
      "Model Factory: Criando tipo 'PVBin' com params: {'method': 'binary', 'query': 'binary', 'norm': None, 'query_norm': None, 'ngram_range': [1, 2]}\n",
      "Model Factory (PVBin): Convertido ngram_range [1, 2] para tupla (1, 2)\n",
      "Fitting ProductVectorizerClassifier com 100 amostras...\n",
      "Fit concluído.\n",
      "Model Factory: Criando tipo 'PVBin' com params: {'method': 'binary', 'query': 'binary', 'norm': None, 'query_norm': None, 'ngram_range': [1, 2]}\n",
      "Model Factory (PVBin): Convertido ngram_range [1, 2] para tupla (1, 2)\n",
      "Fitting ProductVectorizerClassifier com 100 amostras...\n",
      "Fit concluído.\n",
      "Model Factory: Criando tipo 'PVBin' com params: {'method': 'binary', 'query': 'binary', 'norm': None, 'query_norm': None, 'ngram_range': [1, 2]}\n",
      "Model Factory (PVBin): Convertido ngram_range [1, 2] para tupla (1, 2)\n",
      "Fitting ProductVectorizerClassifier com 100 amostras...\n",
      "Fit concluído.\n",
      "Model Factory: Criando tipo 'PVBin' com params: {'method': 'binary', 'query': 'binary', 'norm': None, 'query_norm': None, 'ngram_range': [1, 2]}\n",
      "Model Factory (PVBin): Convertido ngram_range [1, 2] para tupla (1, 2)\n",
      "Fitting ProductVectorizerClassifier com 100 amostras...\n",
      "Fit concluído.\n",
      "Model Factory: Criando tipo 'PVBin' com params: {'method': 'binary', 'query': 'binary', 'norm': None, 'query_norm': None, 'ngram_range': [1, 2]}\n",
      "Model Factory (PVBin): Convertido ngram_range [1, 2] para tupla (1, 2)\n",
      "Fitting ProductVectorizerClassifier com 100 amostras...\n",
      "Fit concluído.\n",
      "Model Factory: Criando tipo 'PVBin' com params: {'method': 'binary', 'query': 'binary', 'norm': None, 'query_norm': None, 'ngram_range': [1, 2]}\n",
      "Model Factory (PVBin): Convertido ngram_range [1, 2] para tupla (1, 2)\n",
      "Fitting ProductVectorizerClassifier com 100 amostras...\n",
      "Fit concluído.\n",
      "Model Factory: Criando tipo 'PVBin' com params: {'method': 'binary', 'query': 'binary', 'norm': None, 'query_norm': None, 'ngram_range': [1, 2]}\n",
      "Model Factory (PVBin): Convertido ngram_range [1, 2] para tupla (1, 2)\n",
      "Fitting ProductVectorizerClassifier com 100 amostras...\n",
      "Fit concluído.\n",
      "Model Factory: Criando tipo 'PVBin' com params: {'method': 'binary', 'query': 'binary', 'norm': None, 'query_norm': None, 'ngram_range': [1, 2]}\n",
      "Model Factory (PVBin): Convertido ngram_range [1, 2] para tupla (1, 2)\n",
      "Fitting ProductVectorizerClassifier com 100 amostras...\n",
      "Fit concluído.\n",
      "Model Factory: Criando tipo 'PVBin' com params: {'method': 'binary', 'query': 'binary', 'norm': None, 'query_norm': None, 'ngram_range': [1, 2]}\n",
      "Model Factory (PVBin): Convertido ngram_range [1, 2] para tupla (1, 2)\n",
      "Fitting ProductVectorizerClassifier com 100 amostras...\n",
      "Fit concluído.\n",
      "Model Factory: Criando tipo 'PVBin' com params: {'method': 'binary', 'query': 'binary', 'norm': None, 'query_norm': None, 'ngram_range': [1, 2]}\n",
      "Model Factory (PVBin): Convertido ngram_range [1, 2] para tupla (1, 2)\n",
      "Fitting ProductVectorizerClassifier com 100 amostras...\n",
      "Fit concluído.\n",
      "    Novo melhor (Obj: minimize): Perf Real=0.1381\n",
      "    Acc Real Geração 44: Max=0.1583, Avg=0.1429, Min=0.1381\n",
      "    F1 Real Geração  44: Max=0.0273, Avg=0.0263, Min=0.0256\n",
      "    Duração Geração 44: 63.32s\n",
      "\n",
      "  Geração 45/100\n"
     ]
    },
    {
     "data": {
      "application/vnd.jupyter.widget-view+json": {
       "model_id": "8be67cc983e34ab8bcebf0d1d654ca4f",
       "version_major": 2,
       "version_minor": 0
      },
      "text/plain": [
       "Fitness Calc Gen 45:   0%|          | 0/20 [00:00<?, ?it/s]"
      ]
     },
     "metadata": {},
     "output_type": "display_data"
    },
    {
     "name": "stdout",
     "output_type": "stream",
     "text": [
      "Model Factory: Criando tipo 'PVBin' com params: {'method': 'binary', 'query': 'binary', 'norm': None, 'query_norm': None, 'ngram_range': [1, 2]}\n",
      "Model Factory (PVBin): Convertido ngram_range [1, 2] para tupla (1, 2)\n",
      "Fitting ProductVectorizerClassifier com 100 amostras...\n",
      "Fit concluído.\n",
      "Model Factory: Criando tipo 'PVBin' com params: {'method': 'binary', 'query': 'binary', 'norm': None, 'query_norm': None, 'ngram_range': [1, 2]}\n",
      "Model Factory (PVBin): Convertido ngram_range [1, 2] para tupla (1, 2)\n",
      "Fitting ProductVectorizerClassifier com 100 amostras...\n",
      "Fit concluído.\n",
      "Model Factory: Criando tipo 'PVBin' com params: {'method': 'binary', 'query': 'binary', 'norm': None, 'query_norm': None, 'ngram_range': [1, 2]}\n",
      "Model Factory (PVBin): Convertido ngram_range [1, 2] para tupla (1, 2)\n",
      "Fitting ProductVectorizerClassifier com 100 amostras...\n",
      "Fit concluído.\n",
      "Model Factory: Criando tipo 'PVBin' com params: {'method': 'binary', 'query': 'binary', 'norm': None, 'query_norm': None, 'ngram_range': [1, 2]}\n",
      "Model Factory (PVBin): Convertido ngram_range [1, 2] para tupla (1, 2)\n",
      "Fitting ProductVectorizerClassifier com 100 amostras...\n",
      "Fit concluído.\n",
      "Model Factory: Criando tipo 'PVBin' com params: {'method': 'binary', 'query': 'binary', 'norm': None, 'query_norm': None, 'ngram_range': [1, 2]}\n",
      "Model Factory (PVBin): Convertido ngram_range [1, 2] para tupla (1, 2)\n",
      "Fitting ProductVectorizerClassifier com 100 amostras...\n",
      "Fit concluído.\n",
      "Model Factory: Criando tipo 'PVBin' com params: {'method': 'binary', 'query': 'binary', 'norm': None, 'query_norm': None, 'ngram_range': [1, 2]}\n",
      "Model Factory (PVBin): Convertido ngram_range [1, 2] para tupla (1, 2)\n",
      "Fitting ProductVectorizerClassifier com 100 amostras...\n",
      "Fit concluído.\n",
      "Model Factory: Criando tipo 'PVBin' com params: {'method': 'binary', 'query': 'binary', 'norm': None, 'query_norm': None, 'ngram_range': [1, 2]}\n",
      "Model Factory (PVBin): Convertido ngram_range [1, 2] para tupla (1, 2)\n",
      "Fitting ProductVectorizerClassifier com 100 amostras...\n",
      "Fit concluído.\n",
      "    Novo melhor (Obj: minimize): Perf Real=0.1354\n",
      "    Acc Real Geração 45: Max=0.1494, Avg=0.1407, Min=0.1354\n",
      "    F1 Real Geração  45: Max=0.0272, Avg=0.0263, Min=0.0251\n",
      "    Duração Geração 45: 43.88s\n",
      "\n",
      "  Geração 46/100\n"
     ]
    },
    {
     "data": {
      "application/vnd.jupyter.widget-view+json": {
       "model_id": "8f3f2b0cb0fc42f98007611840d48b59",
       "version_major": 2,
       "version_minor": 0
      },
      "text/plain": [
       "Fitness Calc Gen 46:   0%|          | 0/20 [00:00<?, ?it/s]"
      ]
     },
     "metadata": {},
     "output_type": "display_data"
    },
    {
     "name": "stdout",
     "output_type": "stream",
     "text": [
      "Model Factory: Criando tipo 'PVBin' com params: {'method': 'binary', 'query': 'binary', 'norm': None, 'query_norm': None, 'ngram_range': [1, 2]}\n",
      "Model Factory (PVBin): Convertido ngram_range [1, 2] para tupla (1, 2)\n",
      "Fitting ProductVectorizerClassifier com 100 amostras...\n",
      "Fit concluído.\n",
      "Model Factory: Criando tipo 'PVBin' com params: {'method': 'binary', 'query': 'binary', 'norm': None, 'query_norm': None, 'ngram_range': [1, 2]}\n",
      "Model Factory (PVBin): Convertido ngram_range [1, 2] para tupla (1, 2)\n",
      "Fitting ProductVectorizerClassifier com 100 amostras...\n",
      "Fit concluído.\n",
      "Model Factory: Criando tipo 'PVBin' com params: {'method': 'binary', 'query': 'binary', 'norm': None, 'query_norm': None, 'ngram_range': [1, 2]}\n",
      "Model Factory (PVBin): Convertido ngram_range [1, 2] para tupla (1, 2)\n",
      "Fitting ProductVectorizerClassifier com 100 amostras...\n",
      "Fit concluído.\n",
      "Model Factory: Criando tipo 'PVBin' com params: {'method': 'binary', 'query': 'binary', 'norm': None, 'query_norm': None, 'ngram_range': [1, 2]}\n",
      "Model Factory (PVBin): Convertido ngram_range [1, 2] para tupla (1, 2)\n",
      "Fitting ProductVectorizerClassifier com 100 amostras...\n",
      "Fit concluído.\n",
      "Model Factory: Criando tipo 'PVBin' com params: {'method': 'binary', 'query': 'binary', 'norm': None, 'query_norm': None, 'ngram_range': [1, 2]}\n",
      "Model Factory (PVBin): Convertido ngram_range [1, 2] para tupla (1, 2)\n",
      "Fitting ProductVectorizerClassifier com 100 amostras...\n",
      "Fit concluído.\n",
      "Model Factory: Criando tipo 'PVBin' com params: {'method': 'binary', 'query': 'binary', 'norm': None, 'query_norm': None, 'ngram_range': [1, 2]}\n",
      "Model Factory (PVBin): Convertido ngram_range [1, 2] para tupla (1, 2)\n",
      "Fitting ProductVectorizerClassifier com 100 amostras...\n",
      "Fit concluído.\n",
      "Model Factory: Criando tipo 'PVBin' com params: {'method': 'binary', 'query': 'binary', 'norm': None, 'query_norm': None, 'ngram_range': [1, 2]}\n",
      "Model Factory (PVBin): Convertido ngram_range [1, 2] para tupla (1, 2)\n",
      "Fitting ProductVectorizerClassifier com 100 amostras...\n",
      "Fit concluído.\n",
      "Model Factory: Criando tipo 'PVBin' com params: {'method': 'binary', 'query': 'binary', 'norm': None, 'query_norm': None, 'ngram_range': [1, 2]}\n",
      "Model Factory (PVBin): Convertido ngram_range [1, 2] para tupla (1, 2)\n",
      "Fitting ProductVectorizerClassifier com 100 amostras...\n",
      "Fit concluído.\n",
      "Model Factory: Criando tipo 'PVBin' com params: {'method': 'binary', 'query': 'binary', 'norm': None, 'query_norm': None, 'ngram_range': [1, 2]}\n",
      "Model Factory (PVBin): Convertido ngram_range [1, 2] para tupla (1, 2)\n",
      "Fitting ProductVectorizerClassifier com 100 amostras...\n",
      "Fit concluído.\n",
      "Model Factory: Criando tipo 'PVBin' com params: {'method': 'binary', 'query': 'binary', 'norm': None, 'query_norm': None, 'ngram_range': [1, 2]}\n",
      "Model Factory (PVBin): Convertido ngram_range [1, 2] para tupla (1, 2)\n",
      "Fitting ProductVectorizerClassifier com 100 amostras...\n",
      "Fit concluído.\n",
      "Model Factory: Criando tipo 'PVBin' com params: {'method': 'binary', 'query': 'binary', 'norm': None, 'query_norm': None, 'ngram_range': [1, 2]}\n",
      "Model Factory (PVBin): Convertido ngram_range [1, 2] para tupla (1, 2)\n",
      "Fitting ProductVectorizerClassifier com 100 amostras...\n",
      "Fit concluído.\n",
      "Model Factory: Criando tipo 'PVBin' com params: {'method': 'binary', 'query': 'binary', 'norm': None, 'query_norm': None, 'ngram_range': [1, 2]}\n",
      "Model Factory (PVBin): Convertido ngram_range [1, 2] para tupla (1, 2)\n",
      "Fitting ProductVectorizerClassifier com 100 amostras...\n",
      "Fit concluído.\n",
      "    Acc Real Geração 46: Max=0.1536, Avg=0.1400, Min=0.1354\n",
      "    F1 Real Geração  46: Max=0.0277, Avg=0.0264, Min=0.0257\n",
      "    Duração Geração 46: 74.79s\n",
      "\n",
      "  Geração 47/100\n"
     ]
    },
    {
     "data": {
      "application/vnd.jupyter.widget-view+json": {
       "model_id": "20e3930e6d5142c2898eb69c98d320ec",
       "version_major": 2,
       "version_minor": 0
      },
      "text/plain": [
       "Fitness Calc Gen 47:   0%|          | 0/20 [00:00<?, ?it/s]"
      ]
     },
     "metadata": {},
     "output_type": "display_data"
    },
    {
     "name": "stdout",
     "output_type": "stream",
     "text": [
      "Model Factory: Criando tipo 'PVBin' com params: {'method': 'binary', 'query': 'binary', 'norm': None, 'query_norm': None, 'ngram_range': [1, 2]}\n",
      "Model Factory (PVBin): Convertido ngram_range [1, 2] para tupla (1, 2)\n",
      "Fitting ProductVectorizerClassifier com 100 amostras...\n",
      "Fit concluído.\n",
      "Model Factory: Criando tipo 'PVBin' com params: {'method': 'binary', 'query': 'binary', 'norm': None, 'query_norm': None, 'ngram_range': [1, 2]}\n",
      "Model Factory (PVBin): Convertido ngram_range [1, 2] para tupla (1, 2)\n",
      "Fitting ProductVectorizerClassifier com 100 amostras...\n",
      "Fit concluído.\n",
      "Model Factory: Criando tipo 'PVBin' com params: {'method': 'binary', 'query': 'binary', 'norm': None, 'query_norm': None, 'ngram_range': [1, 2]}\n",
      "Model Factory (PVBin): Convertido ngram_range [1, 2] para tupla (1, 2)\n",
      "Fitting ProductVectorizerClassifier com 100 amostras...\n",
      "Fit concluído.\n",
      "Model Factory: Criando tipo 'PVBin' com params: {'method': 'binary', 'query': 'binary', 'norm': None, 'query_norm': None, 'ngram_range': [1, 2]}\n",
      "Model Factory (PVBin): Convertido ngram_range [1, 2] para tupla (1, 2)\n",
      "Fitting ProductVectorizerClassifier com 100 amostras...\n",
      "Fit concluído.\n",
      "Model Factory: Criando tipo 'PVBin' com params: {'method': 'binary', 'query': 'binary', 'norm': None, 'query_norm': None, 'ngram_range': [1, 2]}\n",
      "Model Factory (PVBin): Convertido ngram_range [1, 2] para tupla (1, 2)\n",
      "Fitting ProductVectorizerClassifier com 100 amostras...\n",
      "Fit concluído.\n",
      "Model Factory: Criando tipo 'PVBin' com params: {'method': 'binary', 'query': 'binary', 'norm': None, 'query_norm': None, 'ngram_range': [1, 2]}\n",
      "Model Factory (PVBin): Convertido ngram_range [1, 2] para tupla (1, 2)\n",
      "Fitting ProductVectorizerClassifier com 100 amostras...\n",
      "Fit concluído.\n",
      "Model Factory: Criando tipo 'PVBin' com params: {'method': 'binary', 'query': 'binary', 'norm': None, 'query_norm': None, 'ngram_range': [1, 2]}\n",
      "Model Factory (PVBin): Convertido ngram_range [1, 2] para tupla (1, 2)\n",
      "Fitting ProductVectorizerClassifier com 100 amostras...\n",
      "Fit concluído.\n",
      "    Novo melhor (Obj: minimize): Perf Real=0.1326\n",
      "    Acc Real Geração 47: Max=0.1552, Avg=0.1380, Min=0.1326\n",
      "    F1 Real Geração  47: Max=0.0273, Avg=0.0262, Min=0.0254\n",
      "    Duração Geração 47: 42.93s\n",
      "\n",
      "  Geração 48/100\n"
     ]
    },
    {
     "data": {
      "application/vnd.jupyter.widget-view+json": {
       "model_id": "a37bc757839a41df9b608c5da0cbb279",
       "version_major": 2,
       "version_minor": 0
      },
      "text/plain": [
       "Fitness Calc Gen 48:   0%|          | 0/20 [00:00<?, ?it/s]"
      ]
     },
     "metadata": {},
     "output_type": "display_data"
    },
    {
     "name": "stdout",
     "output_type": "stream",
     "text": [
      "Model Factory: Criando tipo 'PVBin' com params: {'method': 'binary', 'query': 'binary', 'norm': None, 'query_norm': None, 'ngram_range': [1, 2]}\n",
      "Model Factory (PVBin): Convertido ngram_range [1, 2] para tupla (1, 2)\n",
      "Fitting ProductVectorizerClassifier com 100 amostras...\n",
      "Fit concluído.\n",
      "Model Factory: Criando tipo 'PVBin' com params: {'method': 'binary', 'query': 'binary', 'norm': None, 'query_norm': None, 'ngram_range': [1, 2]}\n",
      "Model Factory (PVBin): Convertido ngram_range [1, 2] para tupla (1, 2)\n",
      "Fitting ProductVectorizerClassifier com 100 amostras...\n",
      "Fit concluído.\n",
      "Model Factory: Criando tipo 'PVBin' com params: {'method': 'binary', 'query': 'binary', 'norm': None, 'query_norm': None, 'ngram_range': [1, 2]}\n",
      "Model Factory (PVBin): Convertido ngram_range [1, 2] para tupla (1, 2)\n",
      "Fitting ProductVectorizerClassifier com 100 amostras...\n",
      "Fit concluído.\n",
      "Model Factory: Criando tipo 'PVBin' com params: {'method': 'binary', 'query': 'binary', 'norm': None, 'query_norm': None, 'ngram_range': [1, 2]}\n",
      "Model Factory (PVBin): Convertido ngram_range [1, 2] para tupla (1, 2)\n",
      "Fitting ProductVectorizerClassifier com 100 amostras...\n",
      "Fit concluído.\n",
      "Model Factory: Criando tipo 'PVBin' com params: {'method': 'binary', 'query': 'binary', 'norm': None, 'query_norm': None, 'ngram_range': [1, 2]}\n",
      "Model Factory (PVBin): Convertido ngram_range [1, 2] para tupla (1, 2)\n",
      "Fitting ProductVectorizerClassifier com 100 amostras...\n",
      "Fit concluído.\n",
      "    Novo melhor (Obj: minimize): Perf Real=0.1326\n",
      "    Acc Real Geração 48: Max=0.1442, Avg=0.1357, Min=0.1326\n",
      "    F1 Real Geração  48: Max=0.0263, Avg=0.0257, Min=0.0251\n",
      "    Duração Geração 48: 30.81s\n",
      "\n",
      "  Geração 49/100\n"
     ]
    },
    {
     "data": {
      "application/vnd.jupyter.widget-view+json": {
       "model_id": "ad13e57cce3c4798a8ada13e0c1b7e97",
       "version_major": 2,
       "version_minor": 0
      },
      "text/plain": [
       "Fitness Calc Gen 49:   0%|          | 0/20 [00:00<?, ?it/s]"
      ]
     },
     "metadata": {},
     "output_type": "display_data"
    },
    {
     "name": "stdout",
     "output_type": "stream",
     "text": [
      "Model Factory: Criando tipo 'PVBin' com params: {'method': 'binary', 'query': 'binary', 'norm': None, 'query_norm': None, 'ngram_range': [1, 2]}\n",
      "Model Factory (PVBin): Convertido ngram_range [1, 2] para tupla (1, 2)\n",
      "Fitting ProductVectorizerClassifier com 100 amostras...\n",
      "Fit concluído.\n",
      "Model Factory: Criando tipo 'PVBin' com params: {'method': 'binary', 'query': 'binary', 'norm': None, 'query_norm': None, 'ngram_range': [1, 2]}\n",
      "Model Factory (PVBin): Convertido ngram_range [1, 2] para tupla (1, 2)\n",
      "Fitting ProductVectorizerClassifier com 100 amostras...\n",
      "Fit concluído.\n",
      "Model Factory: Criando tipo 'PVBin' com params: {'method': 'binary', 'query': 'binary', 'norm': None, 'query_norm': None, 'ngram_range': [1, 2]}\n",
      "Model Factory (PVBin): Convertido ngram_range [1, 2] para tupla (1, 2)\n",
      "Fitting ProductVectorizerClassifier com 100 amostras...\n",
      "Fit concluído.\n",
      "Model Factory: Criando tipo 'PVBin' com params: {'method': 'binary', 'query': 'binary', 'norm': None, 'query_norm': None, 'ngram_range': [1, 2]}\n",
      "Model Factory (PVBin): Convertido ngram_range [1, 2] para tupla (1, 2)\n",
      "Fitting ProductVectorizerClassifier com 100 amostras...\n",
      "Fit concluído.\n",
      "Model Factory: Criando tipo 'PVBin' com params: {'method': 'binary', 'query': 'binary', 'norm': None, 'query_norm': None, 'ngram_range': [1, 2]}\n",
      "Model Factory (PVBin): Convertido ngram_range [1, 2] para tupla (1, 2)\n",
      "Fitting ProductVectorizerClassifier com 100 amostras...\n",
      "Fit concluído.\n",
      "    Novo melhor (Obj: minimize): Perf Real=0.1322\n",
      "    Acc Real Geração 49: Max=0.1481, Avg=0.1348, Min=0.1322\n",
      "    F1 Real Geração  49: Max=0.0277, Avg=0.0257, Min=0.0251\n",
      "    Duração Geração 49: 30.81s\n",
      "\n",
      "  Geração 50/100\n"
     ]
    },
    {
     "data": {
      "application/vnd.jupyter.widget-view+json": {
       "model_id": "d1c1f9b5096a4702be08b07c0fb0a06d",
       "version_major": 2,
       "version_minor": 0
      },
      "text/plain": [
       "Fitness Calc Gen 50:   0%|          | 0/20 [00:00<?, ?it/s]"
      ]
     },
     "metadata": {},
     "output_type": "display_data"
    },
    {
     "name": "stdout",
     "output_type": "stream",
     "text": [
      "Model Factory: Criando tipo 'PVBin' com params: {'method': 'binary', 'query': 'binary', 'norm': None, 'query_norm': None, 'ngram_range': [1, 2]}\n",
      "Model Factory (PVBin): Convertido ngram_range [1, 2] para tupla (1, 2)\n",
      "Fitting ProductVectorizerClassifier com 100 amostras...\n",
      "Fit concluído.\n",
      "Model Factory: Criando tipo 'PVBin' com params: {'method': 'binary', 'query': 'binary', 'norm': None, 'query_norm': None, 'ngram_range': [1, 2]}\n",
      "Model Factory (PVBin): Convertido ngram_range [1, 2] para tupla (1, 2)\n",
      "Fitting ProductVectorizerClassifier com 100 amostras...\n",
      "Fit concluído.\n",
      "Model Factory: Criando tipo 'PVBin' com params: {'method': 'binary', 'query': 'binary', 'norm': None, 'query_norm': None, 'ngram_range': [1, 2]}\n",
      "Model Factory (PVBin): Convertido ngram_range [1, 2] para tupla (1, 2)\n",
      "Fitting ProductVectorizerClassifier com 100 amostras...\n",
      "Fit concluído.\n",
      "Model Factory: Criando tipo 'PVBin' com params: {'method': 'binary', 'query': 'binary', 'norm': None, 'query_norm': None, 'ngram_range': [1, 2]}\n",
      "Model Factory (PVBin): Convertido ngram_range [1, 2] para tupla (1, 2)\n",
      "Fitting ProductVectorizerClassifier com 100 amostras...\n",
      "Fit concluído.\n",
      "    Acc Real Geração 50: Max=0.1516, Avg=0.1344, Min=0.1322\n",
      "    F1 Real Geração  50: Max=0.0274, Avg=0.0254, Min=0.0250\n",
      "    Duração Geração 50: 25.34s\n",
      "\n",
      "  Geração 51/100\n"
     ]
    },
    {
     "data": {
      "application/vnd.jupyter.widget-view+json": {
       "model_id": "ab506eb81b274fdfb622fc4ac4769ae3",
       "version_major": 2,
       "version_minor": 0
      },
      "text/plain": [
       "Fitness Calc Gen 51:   0%|          | 0/20 [00:00<?, ?it/s]"
      ]
     },
     "metadata": {},
     "output_type": "display_data"
    },
    {
     "name": "stdout",
     "output_type": "stream",
     "text": [
      "Model Factory: Criando tipo 'PVBin' com params: {'method': 'binary', 'query': 'binary', 'norm': None, 'query_norm': None, 'ngram_range': [1, 2]}\n",
      "Model Factory (PVBin): Convertido ngram_range [1, 2] para tupla (1, 2)\n",
      "Fitting ProductVectorizerClassifier com 100 amostras...\n",
      "Fit concluído.\n",
      "Model Factory: Criando tipo 'PVBin' com params: {'method': 'binary', 'query': 'binary', 'norm': None, 'query_norm': None, 'ngram_range': [1, 2]}\n",
      "Model Factory (PVBin): Convertido ngram_range [1, 2] para tupla (1, 2)\n",
      "Fitting ProductVectorizerClassifier com 100 amostras...\n",
      "Fit concluído.\n",
      "Model Factory: Criando tipo 'PVBin' com params: {'method': 'binary', 'query': 'binary', 'norm': None, 'query_norm': None, 'ngram_range': [1, 2]}\n",
      "Model Factory (PVBin): Convertido ngram_range [1, 2] para tupla (1, 2)\n",
      "Fitting ProductVectorizerClassifier com 100 amostras...\n",
      "Fit concluído.\n",
      "Model Factory: Criando tipo 'PVBin' com params: {'method': 'binary', 'query': 'binary', 'norm': None, 'query_norm': None, 'ngram_range': [1, 2]}\n",
      "Model Factory (PVBin): Convertido ngram_range [1, 2] para tupla (1, 2)\n",
      "Fitting ProductVectorizerClassifier com 100 amostras...\n",
      "Fit concluído.\n",
      "Model Factory: Criando tipo 'PVBin' com params: {'method': 'binary', 'query': 'binary', 'norm': None, 'query_norm': None, 'ngram_range': [1, 2]}\n",
      "Model Factory (PVBin): Convertido ngram_range [1, 2] para tupla (1, 2)\n",
      "Fitting ProductVectorizerClassifier com 100 amostras...\n",
      "Fit concluído.\n",
      "Model Factory: Criando tipo 'PVBin' com params: {'method': 'binary', 'query': 'binary', 'norm': None, 'query_norm': None, 'ngram_range': [1, 2]}\n",
      "Model Factory (PVBin): Convertido ngram_range [1, 2] para tupla (1, 2)\n",
      "Fitting ProductVectorizerClassifier com 100 amostras...\n",
      "Fit concluído.\n",
      "    Novo melhor (Obj: minimize): Perf Real=0.1251\n",
      "    Acc Real Geração 51: Max=0.1462, Avg=0.1340, Min=0.1251\n",
      "    F1 Real Geração  51: Max=0.0261, Avg=0.0253, Min=0.0245\n",
      "    Duração Geração 51: 37.19s\n",
      "\n",
      "  Geração 52/100\n"
     ]
    },
    {
     "data": {
      "application/vnd.jupyter.widget-view+json": {
       "model_id": "33ec14efcf9b4ca48af3c434e58d9b4c",
       "version_major": 2,
       "version_minor": 0
      },
      "text/plain": [
       "Fitness Calc Gen 52:   0%|          | 0/20 [00:00<?, ?it/s]"
      ]
     },
     "metadata": {},
     "output_type": "display_data"
    },
    {
     "name": "stdout",
     "output_type": "stream",
     "text": [
      "Model Factory: Criando tipo 'PVBin' com params: {'method': 'binary', 'query': 'binary', 'norm': None, 'query_norm': None, 'ngram_range': [1, 2]}\n",
      "Model Factory (PVBin): Convertido ngram_range [1, 2] para tupla (1, 2)\n",
      "Fitting ProductVectorizerClassifier com 100 amostras...\n",
      "Fit concluído.\n",
      "Model Factory: Criando tipo 'PVBin' com params: {'method': 'binary', 'query': 'binary', 'norm': None, 'query_norm': None, 'ngram_range': [1, 2]}\n",
      "Model Factory (PVBin): Convertido ngram_range [1, 2] para tupla (1, 2)\n",
      "Fitting ProductVectorizerClassifier com 100 amostras...\n",
      "Fit concluído.\n",
      "Model Factory: Criando tipo 'PVBin' com params: {'method': 'binary', 'query': 'binary', 'norm': None, 'query_norm': None, 'ngram_range': [1, 2]}\n",
      "Model Factory (PVBin): Convertido ngram_range [1, 2] para tupla (1, 2)\n",
      "Fitting ProductVectorizerClassifier com 100 amostras...\n",
      "Fit concluído.\n",
      "Model Factory: Criando tipo 'PVBin' com params: {'method': 'binary', 'query': 'binary', 'norm': None, 'query_norm': None, 'ngram_range': [1, 2]}\n",
      "Model Factory (PVBin): Convertido ngram_range [1, 2] para tupla (1, 2)\n",
      "Fitting ProductVectorizerClassifier com 100 amostras...\n",
      "Fit concluído.\n",
      "Model Factory: Criando tipo 'PVBin' com params: {'method': 'binary', 'query': 'binary', 'norm': None, 'query_norm': None, 'ngram_range': [1, 2]}\n",
      "Model Factory (PVBin): Convertido ngram_range [1, 2] para tupla (1, 2)\n",
      "Fitting ProductVectorizerClassifier com 100 amostras...\n",
      "Fit concluído.\n",
      "Model Factory: Criando tipo 'PVBin' com params: {'method': 'binary', 'query': 'binary', 'norm': None, 'query_norm': None, 'ngram_range': [1, 2]}\n",
      "Model Factory (PVBin): Convertido ngram_range [1, 2] para tupla (1, 2)\n",
      "Fitting ProductVectorizerClassifier com 100 amostras...\n",
      "Fit concluído.\n",
      "Model Factory: Criando tipo 'PVBin' com params: {'method': 'binary', 'query': 'binary', 'norm': None, 'query_norm': None, 'ngram_range': [1, 2]}\n",
      "Model Factory (PVBin): Convertido ngram_range [1, 2] para tupla (1, 2)\n",
      "Fitting ProductVectorizerClassifier com 100 amostras...\n",
      "Fit concluído.\n",
      "Model Factory: Criando tipo 'PVBin' com params: {'method': 'binary', 'query': 'binary', 'norm': None, 'query_norm': None, 'ngram_range': [1, 2]}\n",
      "Model Factory (PVBin): Convertido ngram_range [1, 2] para tupla (1, 2)\n",
      "Fitting ProductVectorizerClassifier com 100 amostras...\n",
      "Fit concluído.\n",
      "    Novo melhor (Obj: minimize): Perf Real=0.1229\n",
      "    Acc Real Geração 52: Max=0.1489, Avg=0.1343, Min=0.1229\n",
      "    F1 Real Geração  52: Max=0.0281, Avg=0.0256, Min=0.0247\n",
      "    Duração Geração 52: 49.63s\n",
      "\n",
      "  Geração 53/100\n"
     ]
    },
    {
     "data": {
      "application/vnd.jupyter.widget-view+json": {
       "model_id": "9dd0d7cd2c2f4c5bb3adccc31c8df2d9",
       "version_major": 2,
       "version_minor": 0
      },
      "text/plain": [
       "Fitness Calc Gen 53:   0%|          | 0/20 [00:00<?, ?it/s]"
      ]
     },
     "metadata": {},
     "output_type": "display_data"
    },
    {
     "name": "stdout",
     "output_type": "stream",
     "text": [
      "Model Factory: Criando tipo 'PVBin' com params: {'method': 'binary', 'query': 'binary', 'norm': None, 'query_norm': None, 'ngram_range': [1, 2]}\n",
      "Model Factory (PVBin): Convertido ngram_range [1, 2] para tupla (1, 2)\n",
      "Fitting ProductVectorizerClassifier com 100 amostras...\n",
      "Fit concluído.\n",
      "Model Factory: Criando tipo 'PVBin' com params: {'method': 'binary', 'query': 'binary', 'norm': None, 'query_norm': None, 'ngram_range': [1, 2]}\n",
      "Model Factory (PVBin): Convertido ngram_range [1, 2] para tupla (1, 2)\n",
      "Fitting ProductVectorizerClassifier com 100 amostras...\n",
      "Fit concluído.\n",
      "Model Factory: Criando tipo 'PVBin' com params: {'method': 'binary', 'query': 'binary', 'norm': None, 'query_norm': None, 'ngram_range': [1, 2]}\n",
      "Model Factory (PVBin): Convertido ngram_range [1, 2] para tupla (1, 2)\n",
      "Fitting ProductVectorizerClassifier com 100 amostras...\n",
      "Fit concluído.\n",
      "Model Factory: Criando tipo 'PVBin' com params: {'method': 'binary', 'query': 'binary', 'norm': None, 'query_norm': None, 'ngram_range': [1, 2]}\n",
      "Model Factory (PVBin): Convertido ngram_range [1, 2] para tupla (1, 2)\n",
      "Fitting ProductVectorizerClassifier com 100 amostras...\n",
      "Fit concluído.\n",
      "    Acc Real Geração 53: Max=0.1381, Avg=0.1302, Min=0.1229\n",
      "    F1 Real Geração  53: Max=0.0260, Avg=0.0253, Min=0.0247\n",
      "    Duração Geração 53: 24.96s\n",
      "\n",
      "  Geração 54/100\n"
     ]
    },
    {
     "data": {
      "application/vnd.jupyter.widget-view+json": {
       "model_id": "246751f2765e409d8527be7d33607ae9",
       "version_major": 2,
       "version_minor": 0
      },
      "text/plain": [
       "Fitness Calc Gen 54:   0%|          | 0/20 [00:00<?, ?it/s]"
      ]
     },
     "metadata": {},
     "output_type": "display_data"
    },
    {
     "name": "stdout",
     "output_type": "stream",
     "text": [
      "Model Factory: Criando tipo 'PVBin' com params: {'method': 'binary', 'query': 'binary', 'norm': None, 'query_norm': None, 'ngram_range': [1, 2]}\n",
      "Model Factory (PVBin): Convertido ngram_range [1, 2] para tupla (1, 2)\n",
      "Fitting ProductVectorizerClassifier com 100 amostras...\n",
      "Fit concluído.\n",
      "Model Factory: Criando tipo 'PVBin' com params: {'method': 'binary', 'query': 'binary', 'norm': None, 'query_norm': None, 'ngram_range': [1, 2]}\n",
      "Model Factory (PVBin): Convertido ngram_range [1, 2] para tupla (1, 2)\n",
      "Fitting ProductVectorizerClassifier com 100 amostras...\n",
      "Fit concluído.\n",
      "Model Factory: Criando tipo 'PVBin' com params: {'method': 'binary', 'query': 'binary', 'norm': None, 'query_norm': None, 'ngram_range': [1, 2]}\n",
      "Model Factory (PVBin): Convertido ngram_range [1, 2] para tupla (1, 2)\n",
      "Fitting ProductVectorizerClassifier com 100 amostras...\n",
      "Fit concluído.\n",
      "Model Factory: Criando tipo 'PVBin' com params: {'method': 'binary', 'query': 'binary', 'norm': None, 'query_norm': None, 'ngram_range': [1, 2]}\n",
      "Model Factory (PVBin): Convertido ngram_range [1, 2] para tupla (1, 2)\n",
      "Fitting ProductVectorizerClassifier com 100 amostras...\n",
      "Fit concluído.\n",
      "Model Factory: Criando tipo 'PVBin' com params: {'method': 'binary', 'query': 'binary', 'norm': None, 'query_norm': None, 'ngram_range': [1, 2]}\n",
      "Model Factory (PVBin): Convertido ngram_range [1, 2] para tupla (1, 2)\n",
      "Fitting ProductVectorizerClassifier com 100 amostras...\n",
      "Fit concluído.\n",
      "Model Factory: Criando tipo 'PVBin' com params: {'method': 'binary', 'query': 'binary', 'norm': None, 'query_norm': None, 'ngram_range': [1, 2]}\n",
      "Model Factory (PVBin): Convertido ngram_range [1, 2] para tupla (1, 2)\n",
      "Fitting ProductVectorizerClassifier com 100 amostras...\n",
      "Fit concluído.\n",
      "Model Factory: Criando tipo 'PVBin' com params: {'method': 'binary', 'query': 'binary', 'norm': None, 'query_norm': None, 'ngram_range': [1, 2]}\n",
      "Model Factory (PVBin): Convertido ngram_range [1, 2] para tupla (1, 2)\n",
      "Fitting ProductVectorizerClassifier com 100 amostras...\n",
      "Fit concluído.\n",
      "Model Factory: Criando tipo 'PVBin' com params: {'method': 'binary', 'query': 'binary', 'norm': None, 'query_norm': None, 'ngram_range': [1, 2]}\n",
      "Model Factory (PVBin): Convertido ngram_range [1, 2] para tupla (1, 2)\n",
      "Fitting ProductVectorizerClassifier com 100 amostras...\n",
      "Fit concluído.\n",
      "    Novo melhor (Obj: minimize): Perf Real=0.1226\n",
      "    Acc Real Geração 54: Max=0.1378, Avg=0.1255, Min=0.1226\n",
      "    F1 Real Geração  54: Max=0.0269, Avg=0.0255, Min=0.0240\n",
      "    Duração Geração 54: 48.93s\n",
      "\n",
      "  Geração 55/100\n"
     ]
    },
    {
     "data": {
      "application/vnd.jupyter.widget-view+json": {
       "model_id": "ced47aaa5bf540b0ad83d1a4eb11f49d",
       "version_major": 2,
       "version_minor": 0
      },
      "text/plain": [
       "Fitness Calc Gen 55:   0%|          | 0/20 [00:00<?, ?it/s]"
      ]
     },
     "metadata": {},
     "output_type": "display_data"
    },
    {
     "name": "stdout",
     "output_type": "stream",
     "text": [
      "Model Factory: Criando tipo 'PVBin' com params: {'method': 'binary', 'query': 'binary', 'norm': None, 'query_norm': None, 'ngram_range': [1, 2]}\n",
      "Model Factory (PVBin): Convertido ngram_range [1, 2] para tupla (1, 2)\n",
      "Fitting ProductVectorizerClassifier com 100 amostras...\n",
      "Fit concluído.\n",
      "Model Factory: Criando tipo 'PVBin' com params: {'method': 'binary', 'query': 'binary', 'norm': None, 'query_norm': None, 'ngram_range': [1, 2]}\n",
      "Model Factory (PVBin): Convertido ngram_range [1, 2] para tupla (1, 2)\n",
      "Fitting ProductVectorizerClassifier com 100 amostras...\n",
      "Fit concluído.\n",
      "Model Factory: Criando tipo 'PVBin' com params: {'method': 'binary', 'query': 'binary', 'norm': None, 'query_norm': None, 'ngram_range': [1, 2]}\n",
      "Model Factory (PVBin): Convertido ngram_range [1, 2] para tupla (1, 2)\n",
      "Fitting ProductVectorizerClassifier com 100 amostras...\n",
      "Fit concluído.\n",
      "Model Factory: Criando tipo 'PVBin' com params: {'method': 'binary', 'query': 'binary', 'norm': None, 'query_norm': None, 'ngram_range': [1, 2]}\n",
      "Model Factory (PVBin): Convertido ngram_range [1, 2] para tupla (1, 2)\n",
      "Fitting ProductVectorizerClassifier com 100 amostras...\n",
      "Fit concluído.\n",
      "Model Factory: Criando tipo 'PVBin' com params: {'method': 'binary', 'query': 'binary', 'norm': None, 'query_norm': None, 'ngram_range': [1, 2]}\n",
      "Model Factory (PVBin): Convertido ngram_range [1, 2] para tupla (1, 2)\n",
      "Fitting ProductVectorizerClassifier com 100 amostras...\n",
      "Fit concluído.\n",
      "Model Factory: Criando tipo 'PVBin' com params: {'method': 'binary', 'query': 'binary', 'norm': None, 'query_norm': None, 'ngram_range': [1, 2]}\n",
      "Model Factory (PVBin): Convertido ngram_range [1, 2] para tupla (1, 2)\n",
      "Fitting ProductVectorizerClassifier com 100 amostras...\n",
      "Fit concluído.\n",
      "Model Factory: Criando tipo 'PVBin' com params: {'method': 'binary', 'query': 'binary', 'norm': None, 'query_norm': None, 'ngram_range': [1, 2]}\n",
      "Model Factory (PVBin): Convertido ngram_range [1, 2] para tupla (1, 2)\n",
      "Fitting ProductVectorizerClassifier com 100 amostras...\n",
      "Fit concluído.\n",
      "Model Factory: Criando tipo 'PVBin' com params: {'method': 'binary', 'query': 'binary', 'norm': None, 'query_norm': None, 'ngram_range': [1, 2]}\n",
      "Model Factory (PVBin): Convertido ngram_range [1, 2] para tupla (1, 2)\n",
      "Fitting ProductVectorizerClassifier com 100 amostras...\n",
      "Fit concluído.\n",
      "Model Factory: Criando tipo 'PVBin' com params: {'method': 'binary', 'query': 'binary', 'norm': None, 'query_norm': None, 'ngram_range': [1, 2]}\n",
      "Model Factory (PVBin): Convertido ngram_range [1, 2] para tupla (1, 2)\n",
      "Fitting ProductVectorizerClassifier com 100 amostras...\n",
      "Fit concluído.\n",
      "Model Factory: Criando tipo 'PVBin' com params: {'method': 'binary', 'query': 'binary', 'norm': None, 'query_norm': None, 'ngram_range': [1, 2]}\n",
      "Model Factory (PVBin): Convertido ngram_range [1, 2] para tupla (1, 2)\n",
      "Fitting ProductVectorizerClassifier com 100 amostras...\n",
      "Fit concluído.\n",
      "Model Factory: Criando tipo 'PVBin' com params: {'method': 'binary', 'query': 'binary', 'norm': None, 'query_norm': None, 'ngram_range': [1, 2]}\n",
      "Model Factory (PVBin): Convertido ngram_range [1, 2] para tupla (1, 2)\n",
      "Fitting ProductVectorizerClassifier com 100 amostras...\n",
      "Fit concluído.\n",
      "Model Factory: Criando tipo 'PVBin' com params: {'method': 'binary', 'query': 'binary', 'norm': None, 'query_norm': None, 'ngram_range': [1, 2]}\n",
      "Model Factory (PVBin): Convertido ngram_range [1, 2] para tupla (1, 2)\n",
      "Fitting ProductVectorizerClassifier com 100 amostras...\n",
      "Fit concluído.\n",
      "    Novo melhor (Obj: minimize): Perf Real=0.1207\n",
      "    Acc Real Geração 55: Max=0.1371, Avg=0.1248, Min=0.1207\n",
      "    F1 Real Geração  55: Max=0.0275, Avg=0.0259, Min=0.0244\n",
      "    Duração Geração 55: 72.97s\n",
      "\n",
      "  Geração 56/100\n"
     ]
    },
    {
     "data": {
      "application/vnd.jupyter.widget-view+json": {
       "model_id": "a0914a6b66f941728cebd88f981374ca",
       "version_major": 2,
       "version_minor": 0
      },
      "text/plain": [
       "Fitness Calc Gen 56:   0%|          | 0/20 [00:00<?, ?it/s]"
      ]
     },
     "metadata": {},
     "output_type": "display_data"
    },
    {
     "name": "stdout",
     "output_type": "stream",
     "text": [
      "Model Factory: Criando tipo 'PVBin' com params: {'method': 'binary', 'query': 'binary', 'norm': None, 'query_norm': None, 'ngram_range': [1, 2]}\n",
      "Model Factory (PVBin): Convertido ngram_range [1, 2] para tupla (1, 2)\n",
      "Fitting ProductVectorizerClassifier com 100 amostras...\n",
      "Fit concluído.\n",
      "Model Factory: Criando tipo 'PVBin' com params: {'method': 'binary', 'query': 'binary', 'norm': None, 'query_norm': None, 'ngram_range': [1, 2]}\n",
      "Model Factory (PVBin): Convertido ngram_range [1, 2] para tupla (1, 2)\n",
      "Fitting ProductVectorizerClassifier com 100 amostras...\n",
      "Fit concluído.\n",
      "Model Factory: Criando tipo 'PVBin' com params: {'method': 'binary', 'query': 'binary', 'norm': None, 'query_norm': None, 'ngram_range': [1, 2]}\n",
      "Model Factory (PVBin): Convertido ngram_range [1, 2] para tupla (1, 2)\n",
      "Fitting ProductVectorizerClassifier com 100 amostras...\n",
      "Fit concluído.\n",
      "Model Factory: Criando tipo 'PVBin' com params: {'method': 'binary', 'query': 'binary', 'norm': None, 'query_norm': None, 'ngram_range': [1, 2]}\n",
      "Model Factory (PVBin): Convertido ngram_range [1, 2] para tupla (1, 2)\n",
      "Fitting ProductVectorizerClassifier com 100 amostras...\n",
      "Fit concluído.\n",
      "Model Factory: Criando tipo 'PVBin' com params: {'method': 'binary', 'query': 'binary', 'norm': None, 'query_norm': None, 'ngram_range': [1, 2]}\n",
      "Model Factory (PVBin): Convertido ngram_range [1, 2] para tupla (1, 2)\n",
      "Fitting ProductVectorizerClassifier com 100 amostras...\n",
      "Fit concluído.\n",
      "Model Factory: Criando tipo 'PVBin' com params: {'method': 'binary', 'query': 'binary', 'norm': None, 'query_norm': None, 'ngram_range': [1, 2]}\n",
      "Model Factory (PVBin): Convertido ngram_range [1, 2] para tupla (1, 2)\n",
      "Fitting ProductVectorizerClassifier com 100 amostras...\n",
      "Fit concluído.\n",
      "Model Factory: Criando tipo 'PVBin' com params: {'method': 'binary', 'query': 'binary', 'norm': None, 'query_norm': None, 'ngram_range': [1, 2]}\n",
      "Model Factory (PVBin): Convertido ngram_range [1, 2] para tupla (1, 2)\n",
      "Fitting ProductVectorizerClassifier com 100 amostras...\n",
      "Fit concluído.\n",
      "Model Factory: Criando tipo 'PVBin' com params: {'method': 'binary', 'query': 'binary', 'norm': None, 'query_norm': None, 'ngram_range': [1, 2]}\n",
      "Model Factory (PVBin): Convertido ngram_range [1, 2] para tupla (1, 2)\n",
      "Fitting ProductVectorizerClassifier com 100 amostras...\n",
      "Fit concluído.\n",
      "Model Factory: Criando tipo 'PVBin' com params: {'method': 'binary', 'query': 'binary', 'norm': None, 'query_norm': None, 'ngram_range': [1, 2]}\n",
      "Model Factory (PVBin): Convertido ngram_range [1, 2] para tupla (1, 2)\n",
      "Fitting ProductVectorizerClassifier com 100 amostras...\n",
      "Fit concluído.\n",
      "Model Factory: Criando tipo 'PVBin' com params: {'method': 'binary', 'query': 'binary', 'norm': None, 'query_norm': None, 'ngram_range': [1, 2]}\n",
      "Model Factory (PVBin): Convertido ngram_range [1, 2] para tupla (1, 2)\n",
      "Fitting ProductVectorizerClassifier com 100 amostras...\n",
      "Fit concluído.\n",
      "Model Factory: Criando tipo 'PVBin' com params: {'method': 'binary', 'query': 'binary', 'norm': None, 'query_norm': None, 'ngram_range': [1, 2]}\n",
      "Model Factory (PVBin): Convertido ngram_range [1, 2] para tupla (1, 2)\n",
      "Fitting ProductVectorizerClassifier com 100 amostras...\n",
      "Fit concluído.\n",
      "Model Factory: Criando tipo 'PVBin' com params: {'method': 'binary', 'query': 'binary', 'norm': None, 'query_norm': None, 'ngram_range': [1, 2]}\n",
      "Model Factory (PVBin): Convertido ngram_range [1, 2] para tupla (1, 2)\n",
      "Fitting ProductVectorizerClassifier com 100 amostras...\n",
      "Fit concluído.\n",
      "Model Factory: Criando tipo 'PVBin' com params: {'method': 'binary', 'query': 'binary', 'norm': None, 'query_norm': None, 'ngram_range': [1, 2]}\n",
      "Model Factory (PVBin): Convertido ngram_range [1, 2] para tupla (1, 2)\n",
      "Fitting ProductVectorizerClassifier com 100 amostras...\n",
      "Fit concluído.\n",
      "    Acc Real Geração 56: Max=0.1378, Avg=0.1260, Min=0.1207\n",
      "    F1 Real Geração  56: Max=0.0279, Avg=0.0261, Min=0.0244\n",
      "    Duração Geração 56: 79.37s\n",
      "\n",
      "  Geração 57/100\n"
     ]
    },
    {
     "data": {
      "application/vnd.jupyter.widget-view+json": {
       "model_id": "551854adbabd4ca0a79223ae9427c84d",
       "version_major": 2,
       "version_minor": 0
      },
      "text/plain": [
       "Fitness Calc Gen 57:   0%|          | 0/20 [00:00<?, ?it/s]"
      ]
     },
     "metadata": {},
     "output_type": "display_data"
    },
    {
     "name": "stdout",
     "output_type": "stream",
     "text": [
      "Model Factory: Criando tipo 'PVBin' com params: {'method': 'binary', 'query': 'binary', 'norm': None, 'query_norm': None, 'ngram_range': [1, 2]}\n",
      "Model Factory (PVBin): Convertido ngram_range [1, 2] para tupla (1, 2)\n",
      "Fitting ProductVectorizerClassifier com 100 amostras...\n",
      "Fit concluído.\n",
      "Model Factory: Criando tipo 'PVBin' com params: {'method': 'binary', 'query': 'binary', 'norm': None, 'query_norm': None, 'ngram_range': [1, 2]}\n",
      "Model Factory (PVBin): Convertido ngram_range [1, 2] para tupla (1, 2)\n",
      "Fitting ProductVectorizerClassifier com 100 amostras...\n",
      "Fit concluído.\n",
      "Model Factory: Criando tipo 'PVBin' com params: {'method': 'binary', 'query': 'binary', 'norm': None, 'query_norm': None, 'ngram_range': [1, 2]}\n",
      "Model Factory (PVBin): Convertido ngram_range [1, 2] para tupla (1, 2)\n",
      "Fitting ProductVectorizerClassifier com 100 amostras...\n",
      "Fit concluído.\n",
      "Model Factory: Criando tipo 'PVBin' com params: {'method': 'binary', 'query': 'binary', 'norm': None, 'query_norm': None, 'ngram_range': [1, 2]}\n",
      "Model Factory (PVBin): Convertido ngram_range [1, 2] para tupla (1, 2)\n",
      "Fitting ProductVectorizerClassifier com 100 amostras...\n",
      "Fit concluído.\n",
      "Model Factory: Criando tipo 'PVBin' com params: {'method': 'binary', 'query': 'binary', 'norm': None, 'query_norm': None, 'ngram_range': [1, 2]}\n",
      "Model Factory (PVBin): Convertido ngram_range [1, 2] para tupla (1, 2)\n",
      "Fitting ProductVectorizerClassifier com 100 amostras...\n",
      "Fit concluído.\n",
      "    Acc Real Geração 57: Max=0.1321, Avg=0.1232, Min=0.1207\n",
      "    F1 Real Geração  57: Max=0.0274, Avg=0.0258, Min=0.0249\n",
      "    Duração Geração 57: 29.97s\n",
      "\n",
      "  Geração 58/100\n"
     ]
    },
    {
     "data": {
      "application/vnd.jupyter.widget-view+json": {
       "model_id": "1115686f9f624c84bc5b48e9907a4857",
       "version_major": 2,
       "version_minor": 0
      },
      "text/plain": [
       "Fitness Calc Gen 58:   0%|          | 0/20 [00:00<?, ?it/s]"
      ]
     },
     "metadata": {},
     "output_type": "display_data"
    },
    {
     "name": "stdout",
     "output_type": "stream",
     "text": [
      "Model Factory: Criando tipo 'PVBin' com params: {'method': 'binary', 'query': 'binary', 'norm': None, 'query_norm': None, 'ngram_range': [1, 2]}\n",
      "Model Factory (PVBin): Convertido ngram_range [1, 2] para tupla (1, 2)\n",
      "Fitting ProductVectorizerClassifier com 100 amostras...\n",
      "Fit concluído.\n",
      "Model Factory: Criando tipo 'PVBin' com params: {'method': 'binary', 'query': 'binary', 'norm': None, 'query_norm': None, 'ngram_range': [1, 2]}\n",
      "Model Factory (PVBin): Convertido ngram_range [1, 2] para tupla (1, 2)\n",
      "Fitting ProductVectorizerClassifier com 100 amostras...\n",
      "Fit concluído.\n",
      "Model Factory: Criando tipo 'PVBin' com params: {'method': 'binary', 'query': 'binary', 'norm': None, 'query_norm': None, 'ngram_range': [1, 2]}\n",
      "Model Factory (PVBin): Convertido ngram_range [1, 2] para tupla (1, 2)\n",
      "Fitting ProductVectorizerClassifier com 100 amostras...\n",
      "Fit concluído.\n",
      "Model Factory: Criando tipo 'PVBin' com params: {'method': 'binary', 'query': 'binary', 'norm': None, 'query_norm': None, 'ngram_range': [1, 2]}\n",
      "Model Factory (PVBin): Convertido ngram_range [1, 2] para tupla (1, 2)\n",
      "Fitting ProductVectorizerClassifier com 100 amostras...\n",
      "Fit concluído.\n",
      "    Acc Real Geração 58: Max=0.1317, Avg=0.1226, Min=0.1207\n",
      "    F1 Real Geração  58: Max=0.0271, Avg=0.0255, Min=0.0250\n",
      "    Duração Geração 58: 25.08s\n",
      "\n",
      "  Geração 59/100\n"
     ]
    },
    {
     "data": {
      "application/vnd.jupyter.widget-view+json": {
       "model_id": "0debf4beb4324c09ada52a6daa2461aa",
       "version_major": 2,
       "version_minor": 0
      },
      "text/plain": [
       "Fitness Calc Gen 59:   0%|          | 0/20 [00:00<?, ?it/s]"
      ]
     },
     "metadata": {},
     "output_type": "display_data"
    },
    {
     "name": "stdout",
     "output_type": "stream",
     "text": [
      "Model Factory: Criando tipo 'PVBin' com params: {'method': 'binary', 'query': 'binary', 'norm': None, 'query_norm': None, 'ngram_range': [1, 2]}\n",
      "Model Factory (PVBin): Convertido ngram_range [1, 2] para tupla (1, 2)\n",
      "Fitting ProductVectorizerClassifier com 100 amostras...\n",
      "Fit concluído.\n",
      "    Acc Real Geração 59: Max=0.1260, Avg=0.1211, Min=0.1207\n",
      "    F1 Real Geração  59: Max=0.0262, Avg=0.0250, Min=0.0247\n",
      "    Duração Geração 59: 6.31s\n",
      "\n",
      "  Geração 60/100\n"
     ]
    },
    {
     "data": {
      "application/vnd.jupyter.widget-view+json": {
       "model_id": "8dab030f108b4b79a4ca130974a37854",
       "version_major": 2,
       "version_minor": 0
      },
      "text/plain": [
       "Fitness Calc Gen 60:   0%|          | 0/20 [00:00<?, ?it/s]"
      ]
     },
     "metadata": {},
     "output_type": "display_data"
    },
    {
     "name": "stdout",
     "output_type": "stream",
     "text": [
      "Model Factory: Criando tipo 'PVBin' com params: {'method': 'binary', 'query': 'binary', 'norm': None, 'query_norm': None, 'ngram_range': [1, 2]}\n",
      "Model Factory (PVBin): Convertido ngram_range [1, 2] para tupla (1, 2)\n",
      "Fitting ProductVectorizerClassifier com 100 amostras...\n",
      "Fit concluído.\n",
      "Model Factory: Criando tipo 'PVBin' com params: {'method': 'binary', 'query': 'binary', 'norm': None, 'query_norm': None, 'ngram_range': [1, 2]}\n",
      "Model Factory (PVBin): Convertido ngram_range [1, 2] para tupla (1, 2)\n",
      "Fitting ProductVectorizerClassifier com 100 amostras...\n",
      "Fit concluído.\n",
      "Model Factory: Criando tipo 'PVBin' com params: {'method': 'binary', 'query': 'binary', 'norm': None, 'query_norm': None, 'ngram_range': [1, 2]}\n",
      "Model Factory (PVBin): Convertido ngram_range [1, 2] para tupla (1, 2)\n",
      "Fitting ProductVectorizerClassifier com 100 amostras...\n",
      "Fit concluído.\n",
      "    Acc Real Geração 60: Max=0.1276, Avg=0.1214, Min=0.1207\n",
      "    F1 Real Geração  60: Max=0.0252, Avg=0.0250, Min=0.0248\n",
      "    Duração Geração 60: 18.30s\n",
      "\n",
      "  Geração 61/100\n"
     ]
    },
    {
     "data": {
      "application/vnd.jupyter.widget-view+json": {
       "model_id": "47d5340b1e414146be9c143073cc7c4f",
       "version_major": 2,
       "version_minor": 0
      },
      "text/plain": [
       "Fitness Calc Gen 61:   0%|          | 0/20 [00:00<?, ?it/s]"
      ]
     },
     "metadata": {},
     "output_type": "display_data"
    },
    {
     "name": "stdout",
     "output_type": "stream",
     "text": [
      "Model Factory: Criando tipo 'PVBin' com params: {'method': 'binary', 'query': 'binary', 'norm': None, 'query_norm': None, 'ngram_range': [1, 2]}\n",
      "Model Factory (PVBin): Convertido ngram_range [1, 2] para tupla (1, 2)\n",
      "Fitting ProductVectorizerClassifier com 100 amostras...\n",
      "Fit concluído.\n",
      "Model Factory: Criando tipo 'PVBin' com params: {'method': 'binary', 'query': 'binary', 'norm': None, 'query_norm': None, 'ngram_range': [1, 2]}\n",
      "Model Factory (PVBin): Convertido ngram_range [1, 2] para tupla (1, 2)\n",
      "Fitting ProductVectorizerClassifier com 100 amostras...\n",
      "Fit concluído.\n",
      "Model Factory: Criando tipo 'PVBin' com params: {'method': 'binary', 'query': 'binary', 'norm': None, 'query_norm': None, 'ngram_range': [1, 2]}\n",
      "Model Factory (PVBin): Convertido ngram_range [1, 2] para tupla (1, 2)\n",
      "Fitting ProductVectorizerClassifier com 100 amostras...\n",
      "Fit concluído.\n",
      "    Acc Real Geração 61: Max=0.1290, Avg=0.1218, Min=0.1207\n",
      "    F1 Real Geração  61: Max=0.0260, Avg=0.0250, Min=0.0235\n",
      "    Duração Geração 61: 18.68s\n",
      "\n",
      "  Geração 62/100\n"
     ]
    },
    {
     "data": {
      "application/vnd.jupyter.widget-view+json": {
       "model_id": "efde56db1e9e4d2b9d7fb56c546362b7",
       "version_major": 2,
       "version_minor": 0
      },
      "text/plain": [
       "Fitness Calc Gen 62:   0%|          | 0/20 [00:00<?, ?it/s]"
      ]
     },
     "metadata": {},
     "output_type": "display_data"
    },
    {
     "name": "stdout",
     "output_type": "stream",
     "text": [
      "Model Factory: Criando tipo 'PVBin' com params: {'method': 'binary', 'query': 'binary', 'norm': None, 'query_norm': None, 'ngram_range': [1, 2]}\n",
      "Model Factory (PVBin): Convertido ngram_range [1, 2] para tupla (1, 2)\n",
      "Fitting ProductVectorizerClassifier com 100 amostras...\n",
      "Fit concluído.\n",
      "Model Factory: Criando tipo 'PVBin' com params: {'method': 'binary', 'query': 'binary', 'norm': None, 'query_norm': None, 'ngram_range': [1, 2]}\n",
      "Model Factory (PVBin): Convertido ngram_range [1, 2] para tupla (1, 2)\n",
      "Fitting ProductVectorizerClassifier com 100 amostras...\n",
      "Fit concluído.\n",
      "Model Factory: Criando tipo 'PVBin' com params: {'method': 'binary', 'query': 'binary', 'norm': None, 'query_norm': None, 'ngram_range': [1, 2]}\n",
      "Model Factory (PVBin): Convertido ngram_range [1, 2] para tupla (1, 2)\n",
      "Fitting ProductVectorizerClassifier com 100 amostras...\n",
      "Fit concluído.\n",
      "    Novo melhor (Obj: minimize): Perf Real=0.1097\n",
      "    Acc Real Geração 62: Max=0.1329, Avg=0.1210, Min=0.1097\n",
      "    F1 Real Geração  62: Max=0.0269, Avg=0.0251, Min=0.0247\n",
      "    Duração Geração 62: 18.48s\n",
      "\n",
      "  Geração 63/100\n"
     ]
    },
    {
     "data": {
      "application/vnd.jupyter.widget-view+json": {
       "model_id": "62513ffb386544238ed1eea6bb3ceb39",
       "version_major": 2,
       "version_minor": 0
      },
      "text/plain": [
       "Fitness Calc Gen 63:   0%|          | 0/20 [00:00<?, ?it/s]"
      ]
     },
     "metadata": {},
     "output_type": "display_data"
    },
    {
     "name": "stdout",
     "output_type": "stream",
     "text": [
      "Model Factory: Criando tipo 'PVBin' com params: {'method': 'binary', 'query': 'binary', 'norm': None, 'query_norm': None, 'ngram_range': [1, 2]}\n",
      "Model Factory (PVBin): Convertido ngram_range [1, 2] para tupla (1, 2)\n",
      "Fitting ProductVectorizerClassifier com 100 amostras...\n",
      "Fit concluído.\n",
      "    Acc Real Geração 63: Max=0.1312, Avg=0.1185, Min=0.1097\n",
      "    F1 Real Geração  63: Max=0.0258, Avg=0.0252, Min=0.0250\n",
      "    Duração Geração 63: 6.24s\n",
      "\n",
      "  Geração 64/100\n"
     ]
    },
    {
     "data": {
      "application/vnd.jupyter.widget-view+json": {
       "model_id": "33750e9681ff4e508a041e5b7798a3bc",
       "version_major": 2,
       "version_minor": 0
      },
      "text/plain": [
       "Fitness Calc Gen 64:   0%|          | 0/20 [00:00<?, ?it/s]"
      ]
     },
     "metadata": {},
     "output_type": "display_data"
    },
    {
     "name": "stdout",
     "output_type": "stream",
     "text": [
      "Model Factory: Criando tipo 'PVBin' com params: {'method': 'binary', 'query': 'binary', 'norm': None, 'query_norm': None, 'ngram_range': [1, 2]}\n",
      "Model Factory (PVBin): Convertido ngram_range [1, 2] para tupla (1, 2)\n",
      "Fitting ProductVectorizerClassifier com 100 amostras...\n",
      "Fit concluído.\n",
      "Model Factory: Criando tipo 'PVBin' com params: {'method': 'binary', 'query': 'binary', 'norm': None, 'query_norm': None, 'ngram_range': [1, 2]}\n",
      "Model Factory (PVBin): Convertido ngram_range [1, 2] para tupla (1, 2)\n",
      "Fitting ProductVectorizerClassifier com 100 amostras...\n",
      "Fit concluído.\n",
      "Model Factory: Criando tipo 'PVBin' com params: {'method': 'binary', 'query': 'binary', 'norm': None, 'query_norm': None, 'ngram_range': [1, 2]}\n",
      "Model Factory (PVBin): Convertido ngram_range [1, 2] para tupla (1, 2)\n",
      "Fitting ProductVectorizerClassifier com 100 amostras...\n",
      "Fit concluído.\n",
      "Model Factory: Criando tipo 'PVBin' com params: {'method': 'binary', 'query': 'binary', 'norm': None, 'query_norm': None, 'ngram_range': [1, 2]}\n",
      "Model Factory (PVBin): Convertido ngram_range [1, 2] para tupla (1, 2)\n",
      "Fitting ProductVectorizerClassifier com 100 amostras...\n",
      "Fit concluído.\n",
      "Model Factory: Criando tipo 'PVBin' com params: {'method': 'binary', 'query': 'binary', 'norm': None, 'query_norm': None, 'ngram_range': [1, 2]}\n",
      "Model Factory (PVBin): Convertido ngram_range [1, 2] para tupla (1, 2)\n",
      "Fitting ProductVectorizerClassifier com 100 amostras...\n",
      "Fit concluído.\n",
      "Model Factory: Criando tipo 'PVBin' com params: {'method': 'binary', 'query': 'binary', 'norm': None, 'query_norm': None, 'ngram_range': [1, 2]}\n",
      "Model Factory (PVBin): Convertido ngram_range [1, 2] para tupla (1, 2)\n",
      "Fitting ProductVectorizerClassifier com 100 amostras...\n",
      "Fit concluído.\n",
      "    Novo melhor (Obj: minimize): Perf Real=0.1070\n",
      "    Acc Real Geração 64: Max=0.1300, Avg=0.1146, Min=0.1070\n",
      "    F1 Real Geração  64: Max=0.0262, Avg=0.0254, Min=0.0245\n",
      "    Duração Geração 64: 35.88s\n",
      "\n",
      "  Geração 65/100\n"
     ]
    },
    {
     "data": {
      "application/vnd.jupyter.widget-view+json": {
       "model_id": "fbfadcfef4ce4ef4ab87f1ed315c8262",
       "version_major": 2,
       "version_minor": 0
      },
      "text/plain": [
       "Fitness Calc Gen 65:   0%|          | 0/20 [00:00<?, ?it/s]"
      ]
     },
     "metadata": {},
     "output_type": "display_data"
    },
    {
     "name": "stdout",
     "output_type": "stream",
     "text": [
      "Model Factory: Criando tipo 'PVBin' com params: {'method': 'binary', 'query': 'binary', 'norm': None, 'query_norm': None, 'ngram_range': [1, 2]}\n",
      "Model Factory (PVBin): Convertido ngram_range [1, 2] para tupla (1, 2)\n",
      "Fitting ProductVectorizerClassifier com 100 amostras...\n",
      "Fit concluído.\n",
      "Model Factory: Criando tipo 'PVBin' com params: {'method': 'binary', 'query': 'binary', 'norm': None, 'query_norm': None, 'ngram_range': [1, 2]}\n",
      "Model Factory (PVBin): Convertido ngram_range [1, 2] para tupla (1, 2)\n",
      "Fitting ProductVectorizerClassifier com 100 amostras...\n",
      "Fit concluído.\n",
      "Model Factory: Criando tipo 'PVBin' com params: {'method': 'binary', 'query': 'binary', 'norm': None, 'query_norm': None, 'ngram_range': [1, 2]}\n",
      "Model Factory (PVBin): Convertido ngram_range [1, 2] para tupla (1, 2)\n",
      "Fitting ProductVectorizerClassifier com 100 amostras...\n",
      "Fit concluído.\n",
      "Model Factory: Criando tipo 'PVBin' com params: {'method': 'binary', 'query': 'binary', 'norm': None, 'query_norm': None, 'ngram_range': [1, 2]}\n",
      "Model Factory (PVBin): Convertido ngram_range [1, 2] para tupla (1, 2)\n",
      "Fitting ProductVectorizerClassifier com 100 amostras...\n",
      "Fit concluído.\n",
      "Model Factory: Criando tipo 'PVBin' com params: {'method': 'binary', 'query': 'binary', 'norm': None, 'query_norm': None, 'ngram_range': [1, 2]}\n",
      "Model Factory (PVBin): Convertido ngram_range [1, 2] para tupla (1, 2)\n",
      "Fitting ProductVectorizerClassifier com 100 amostras...\n",
      "Fit concluído.\n",
      "    Acc Real Geração 65: Max=0.1361, Avg=0.1128, Min=0.1070\n",
      "    F1 Real Geração  65: Max=0.0270, Avg=0.0256, Min=0.0246\n",
      "    Duração Geração 65: 29.88s\n",
      "\n",
      "  Geração 66/100\n"
     ]
    },
    {
     "data": {
      "application/vnd.jupyter.widget-view+json": {
       "model_id": "24e4670ee81a4634a252b19658e203cf",
       "version_major": 2,
       "version_minor": 0
      },
      "text/plain": [
       "Fitness Calc Gen 66:   0%|          | 0/20 [00:00<?, ?it/s]"
      ]
     },
     "metadata": {},
     "output_type": "display_data"
    },
    {
     "name": "stdout",
     "output_type": "stream",
     "text": [
      "Model Factory: Criando tipo 'PVBin' com params: {'method': 'binary', 'query': 'binary', 'norm': None, 'query_norm': None, 'ngram_range': [1, 2]}\n",
      "Model Factory (PVBin): Convertido ngram_range [1, 2] para tupla (1, 2)\n",
      "Fitting ProductVectorizerClassifier com 100 amostras...\n",
      "Fit concluído.\n",
      "Model Factory: Criando tipo 'PVBin' com params: {'method': 'binary', 'query': 'binary', 'norm': None, 'query_norm': None, 'ngram_range': [1, 2]}\n",
      "Model Factory (PVBin): Convertido ngram_range [1, 2] para tupla (1, 2)\n",
      "Fitting ProductVectorizerClassifier com 100 amostras...\n",
      "Fit concluído.\n",
      "Model Factory: Criando tipo 'PVBin' com params: {'method': 'binary', 'query': 'binary', 'norm': None, 'query_norm': None, 'ngram_range': [1, 2]}\n",
      "Model Factory (PVBin): Convertido ngram_range [1, 2] para tupla (1, 2)\n",
      "Fitting ProductVectorizerClassifier com 100 amostras...\n",
      "Fit concluído.\n",
      "Model Factory: Criando tipo 'PVBin' com params: {'method': 'binary', 'query': 'binary', 'norm': None, 'query_norm': None, 'ngram_range': [1, 2]}\n",
      "Model Factory (PVBin): Convertido ngram_range [1, 2] para tupla (1, 2)\n",
      "Fitting ProductVectorizerClassifier com 100 amostras...\n",
      "Fit concluído.\n",
      "    Acc Real Geração 66: Max=0.1366, Avg=0.1119, Min=0.1070\n",
      "    F1 Real Geração  66: Max=0.0279, Avg=0.0258, Min=0.0246\n",
      "    Duração Geração 66: 24.74s\n",
      "\n",
      "  Geração 67/100\n"
     ]
    },
    {
     "data": {
      "application/vnd.jupyter.widget-view+json": {
       "model_id": "c2950d54d1884c6d9c90ee0d07c8b8e4",
       "version_major": 2,
       "version_minor": 0
      },
      "text/plain": [
       "Fitness Calc Gen 67:   0%|          | 0/20 [00:00<?, ?it/s]"
      ]
     },
     "metadata": {},
     "output_type": "display_data"
    },
    {
     "name": "stdout",
     "output_type": "stream",
     "text": [
      "Model Factory: Criando tipo 'PVBin' com params: {'method': 'binary', 'query': 'binary', 'norm': None, 'query_norm': None, 'ngram_range': [1, 2]}\n",
      "Model Factory (PVBin): Convertido ngram_range [1, 2] para tupla (1, 2)\n",
      "Fitting ProductVectorizerClassifier com 100 amostras...\n",
      "Fit concluído.\n",
      "Model Factory: Criando tipo 'PVBin' com params: {'method': 'binary', 'query': 'binary', 'norm': None, 'query_norm': None, 'ngram_range': [1, 2]}\n",
      "Model Factory (PVBin): Convertido ngram_range [1, 2] para tupla (1, 2)\n",
      "Fitting ProductVectorizerClassifier com 100 amostras...\n",
      "Fit concluído.\n",
      "Model Factory: Criando tipo 'PVBin' com params: {'method': 'binary', 'query': 'binary', 'norm': None, 'query_norm': None, 'ngram_range': [1, 2]}\n",
      "Model Factory (PVBin): Convertido ngram_range [1, 2] para tupla (1, 2)\n",
      "Fitting ProductVectorizerClassifier com 100 amostras...\n",
      "Fit concluído.\n",
      "Model Factory: Criando tipo 'PVBin' com params: {'method': 'binary', 'query': 'binary', 'norm': None, 'query_norm': None, 'ngram_range': [1, 2]}\n",
      "Model Factory (PVBin): Convertido ngram_range [1, 2] para tupla (1, 2)\n",
      "Fitting ProductVectorizerClassifier com 100 amostras...\n",
      "Fit concluído.\n",
      "Model Factory: Criando tipo 'PVBin' com params: {'method': 'binary', 'query': 'binary', 'norm': None, 'query_norm': None, 'ngram_range': [1, 2]}\n",
      "Model Factory (PVBin): Convertido ngram_range [1, 2] para tupla (1, 2)\n",
      "Fitting ProductVectorizerClassifier com 100 amostras...\n",
      "Fit concluído.\n",
      "Model Factory: Criando tipo 'PVBin' com params: {'method': 'binary', 'query': 'binary', 'norm': None, 'query_norm': None, 'ngram_range': [1, 2]}\n",
      "Model Factory (PVBin): Convertido ngram_range [1, 2] para tupla (1, 2)\n",
      "Fitting ProductVectorizerClassifier com 100 amostras...\n",
      "Fit concluído.\n",
      "    Novo melhor (Obj: minimize): Perf Real=0.1061\n",
      "    Acc Real Geração 67: Max=0.1099, Avg=0.1078, Min=0.1061\n",
      "    F1 Real Geração  67: Max=0.0258, Avg=0.0255, Min=0.0243\n",
      "    Duração Geração 67: 37.01s\n",
      "\n",
      "  Geração 68/100\n"
     ]
    },
    {
     "data": {
      "application/vnd.jupyter.widget-view+json": {
       "model_id": "58b1f82c4fed474d8834120d25ded191",
       "version_major": 2,
       "version_minor": 0
      },
      "text/plain": [
       "Fitness Calc Gen 68:   0%|          | 0/20 [00:00<?, ?it/s]"
      ]
     },
     "metadata": {},
     "output_type": "display_data"
    },
    {
     "name": "stdout",
     "output_type": "stream",
     "text": [
      "Model Factory: Criando tipo 'PVBin' com params: {'method': 'binary', 'query': 'binary', 'norm': None, 'query_norm': None, 'ngram_range': [1, 2]}\n",
      "Model Factory (PVBin): Convertido ngram_range [1, 2] para tupla (1, 2)\n",
      "Fitting ProductVectorizerClassifier com 100 amostras...\n",
      "Fit concluído.\n",
      "Model Factory: Criando tipo 'PVBin' com params: {'method': 'binary', 'query': 'binary', 'norm': None, 'query_norm': None, 'ngram_range': [1, 2]}\n",
      "Model Factory (PVBin): Convertido ngram_range [1, 2] para tupla (1, 2)\n",
      "Fitting ProductVectorizerClassifier com 100 amostras...\n",
      "Fit concluído.\n",
      "Model Factory: Criando tipo 'PVBin' com params: {'method': 'binary', 'query': 'binary', 'norm': None, 'query_norm': None, 'ngram_range': [1, 2]}\n",
      "Model Factory (PVBin): Convertido ngram_range [1, 2] para tupla (1, 2)\n",
      "Fitting ProductVectorizerClassifier com 100 amostras...\n",
      "Fit concluído.\n",
      "Model Factory: Criando tipo 'PVBin' com params: {'method': 'binary', 'query': 'binary', 'norm': None, 'query_norm': None, 'ngram_range': [1, 2]}\n",
      "Model Factory (PVBin): Convertido ngram_range [1, 2] para tupla (1, 2)\n",
      "Fitting ProductVectorizerClassifier com 100 amostras...\n",
      "Fit concluído.\n",
      "Model Factory: Criando tipo 'PVBin' com params: {'method': 'binary', 'query': 'binary', 'norm': None, 'query_norm': None, 'ngram_range': [1, 2]}\n",
      "Model Factory (PVBin): Convertido ngram_range [1, 2] para tupla (1, 2)\n",
      "Fitting ProductVectorizerClassifier com 100 amostras...\n",
      "Fit concluído.\n",
      "    Acc Real Geração 68: Max=0.1307, Avg=0.1099, Min=0.1061\n",
      "    F1 Real Geração  68: Max=0.0271, Avg=0.0258, Min=0.0249\n",
      "    Duração Geração 68: 30.91s\n",
      "\n",
      "  Geração 69/100\n"
     ]
    },
    {
     "data": {
      "application/vnd.jupyter.widget-view+json": {
       "model_id": "7560093a712d40328bfacf9968737a0e",
       "version_major": 2,
       "version_minor": 0
      },
      "text/plain": [
       "Fitness Calc Gen 69:   0%|          | 0/20 [00:00<?, ?it/s]"
      ]
     },
     "metadata": {},
     "output_type": "display_data"
    },
    {
     "name": "stdout",
     "output_type": "stream",
     "text": [
      "Model Factory: Criando tipo 'PVBin' com params: {'method': 'binary', 'query': 'binary', 'norm': None, 'query_norm': None, 'ngram_range': [1, 2]}\n",
      "Model Factory (PVBin): Convertido ngram_range [1, 2] para tupla (1, 2)\n",
      "Fitting ProductVectorizerClassifier com 100 amostras...\n",
      "Fit concluído.\n",
      "Model Factory: Criando tipo 'PVBin' com params: {'method': 'binary', 'query': 'binary', 'norm': None, 'query_norm': None, 'ngram_range': [1, 2]}\n",
      "Model Factory (PVBin): Convertido ngram_range [1, 2] para tupla (1, 2)\n",
      "Fitting ProductVectorizerClassifier com 100 amostras...\n",
      "Fit concluído.\n",
      "Model Factory: Criando tipo 'PVBin' com params: {'method': 'binary', 'query': 'binary', 'norm': None, 'query_norm': None, 'ngram_range': [1, 2]}\n",
      "Model Factory (PVBin): Convertido ngram_range [1, 2] para tupla (1, 2)\n",
      "Fitting ProductVectorizerClassifier com 100 amostras...\n",
      "Fit concluído.\n",
      "Model Factory: Criando tipo 'PVBin' com params: {'method': 'binary', 'query': 'binary', 'norm': None, 'query_norm': None, 'ngram_range': [1, 2]}\n",
      "Model Factory (PVBin): Convertido ngram_range [1, 2] para tupla (1, 2)\n",
      "Fitting ProductVectorizerClassifier com 100 amostras...\n",
      "Fit concluído.\n",
      "Model Factory: Criando tipo 'PVBin' com params: {'method': 'binary', 'query': 'binary', 'norm': None, 'query_norm': None, 'ngram_range': [1, 2]}\n",
      "Model Factory (PVBin): Convertido ngram_range [1, 2] para tupla (1, 2)\n",
      "Fitting ProductVectorizerClassifier com 100 amostras...\n",
      "Fit concluído.\n",
      "    Novo melhor (Obj: minimize): Perf Real=0.1046\n",
      "    Acc Real Geração 69: Max=0.1152, Avg=0.1072, Min=0.1046\n",
      "    F1 Real Geração  69: Max=0.0273, Avg=0.0255, Min=0.0245\n",
      "    Duração Geração 69: 32.75s\n",
      "\n",
      "  Geração 70/100\n"
     ]
    },
    {
     "data": {
      "application/vnd.jupyter.widget-view+json": {
       "model_id": "90fa31eed8974cdeba77f281b428a60b",
       "version_major": 2,
       "version_minor": 0
      },
      "text/plain": [
       "Fitness Calc Gen 70:   0%|          | 0/20 [00:00<?, ?it/s]"
      ]
     },
     "metadata": {},
     "output_type": "display_data"
    },
    {
     "name": "stdout",
     "output_type": "stream",
     "text": [
      "Model Factory: Criando tipo 'PVBin' com params: {'method': 'binary', 'query': 'binary', 'norm': None, 'query_norm': None, 'ngram_range': [1, 2]}\n",
      "Model Factory (PVBin): Convertido ngram_range [1, 2] para tupla (1, 2)\n",
      "Fitting ProductVectorizerClassifier com 100 amostras...\n",
      "Fit concluído.\n",
      "Model Factory: Criando tipo 'PVBin' com params: {'method': 'binary', 'query': 'binary', 'norm': None, 'query_norm': None, 'ngram_range': [1, 2]}\n",
      "Model Factory (PVBin): Convertido ngram_range [1, 2] para tupla (1, 2)\n",
      "Fitting ProductVectorizerClassifier com 100 amostras...\n",
      "Fit concluído.\n",
      "Model Factory: Criando tipo 'PVBin' com params: {'method': 'binary', 'query': 'binary', 'norm': None, 'query_norm': None, 'ngram_range': [1, 2]}\n",
      "Model Factory (PVBin): Convertido ngram_range [1, 2] para tupla (1, 2)\n",
      "Fitting ProductVectorizerClassifier com 100 amostras...\n",
      "Fit concluído.\n",
      "Model Factory: Criando tipo 'PVBin' com params: {'method': 'binary', 'query': 'binary', 'norm': None, 'query_norm': None, 'ngram_range': [1, 2]}\n",
      "Model Factory (PVBin): Convertido ngram_range [1, 2] para tupla (1, 2)\n",
      "Fitting ProductVectorizerClassifier com 100 amostras...\n",
      "Fit concluído.\n",
      "Model Factory: Criando tipo 'PVBin' com params: {'method': 'binary', 'query': 'binary', 'norm': None, 'query_norm': None, 'ngram_range': [1, 2]}\n",
      "Model Factory (PVBin): Convertido ngram_range [1, 2] para tupla (1, 2)\n",
      "Fitting ProductVectorizerClassifier com 100 amostras...\n",
      "Fit concluído.\n",
      "Model Factory: Criando tipo 'PVBin' com params: {'method': 'binary', 'query': 'binary', 'norm': None, 'query_norm': None, 'ngram_range': [1, 2]}\n",
      "Model Factory (PVBin): Convertido ngram_range [1, 2] para tupla (1, 2)\n",
      "Fitting ProductVectorizerClassifier com 100 amostras...\n",
      "Fit concluído.\n",
      "    Novo melhor (Obj: minimize): Perf Real=0.1016\n",
      "    Acc Real Geração 70: Max=0.1327, Avg=0.1081, Min=0.1016\n",
      "    F1 Real Geração  70: Max=0.0272, Avg=0.0253, Min=0.0230\n",
      "    Duração Geração 70: 36.30s\n",
      "\n",
      "  Geração 71/100\n"
     ]
    },
    {
     "data": {
      "application/vnd.jupyter.widget-view+json": {
       "model_id": "57ecbd4801574eb48b7cc4a8318bbf5c",
       "version_major": 2,
       "version_minor": 0
      },
      "text/plain": [
       "Fitness Calc Gen 71:   0%|          | 0/20 [00:00<?, ?it/s]"
      ]
     },
     "metadata": {},
     "output_type": "display_data"
    },
    {
     "name": "stdout",
     "output_type": "stream",
     "text": [
      "Model Factory: Criando tipo 'PVBin' com params: {'method': 'binary', 'query': 'binary', 'norm': None, 'query_norm': None, 'ngram_range': [1, 2]}\n",
      "Model Factory (PVBin): Convertido ngram_range [1, 2] para tupla (1, 2)\n",
      "Fitting ProductVectorizerClassifier com 100 amostras...\n",
      "Fit concluído.\n",
      "Model Factory: Criando tipo 'PVBin' com params: {'method': 'binary', 'query': 'binary', 'norm': None, 'query_norm': None, 'ngram_range': [1, 2]}\n",
      "Model Factory (PVBin): Convertido ngram_range [1, 2] para tupla (1, 2)\n",
      "Fitting ProductVectorizerClassifier com 100 amostras...\n",
      "Fit concluído.\n",
      "Model Factory: Criando tipo 'PVBin' com params: {'method': 'binary', 'query': 'binary', 'norm': None, 'query_norm': None, 'ngram_range': [1, 2]}\n",
      "Model Factory (PVBin): Convertido ngram_range [1, 2] para tupla (1, 2)\n",
      "Fitting ProductVectorizerClassifier com 100 amostras...\n",
      "Fit concluído.\n",
      "Model Factory: Criando tipo 'PVBin' com params: {'method': 'binary', 'query': 'binary', 'norm': None, 'query_norm': None, 'ngram_range': [1, 2]}\n",
      "Model Factory (PVBin): Convertido ngram_range [1, 2] para tupla (1, 2)\n",
      "Fitting ProductVectorizerClassifier com 100 amostras...\n",
      "Fit concluído.\n",
      "Model Factory: Criando tipo 'PVBin' com params: {'method': 'binary', 'query': 'binary', 'norm': None, 'query_norm': None, 'ngram_range': [1, 2]}\n",
      "Model Factory (PVBin): Convertido ngram_range [1, 2] para tupla (1, 2)\n",
      "Fitting ProductVectorizerClassifier com 100 amostras...\n",
      "Fit concluído.\n",
      "    Acc Real Geração 71: Max=0.1269, Avg=0.1074, Min=0.1016\n",
      "    F1 Real Geração  71: Max=0.0269, Avg=0.0248, Min=0.0230\n",
      "    Duração Geração 71: 30.04s\n",
      "\n",
      "  Geração 72/100\n"
     ]
    },
    {
     "data": {
      "application/vnd.jupyter.widget-view+json": {
       "model_id": "3e523c30d51947338cf36ef851f0785d",
       "version_major": 2,
       "version_minor": 0
      },
      "text/plain": [
       "Fitness Calc Gen 72:   0%|          | 0/20 [00:00<?, ?it/s]"
      ]
     },
     "metadata": {},
     "output_type": "display_data"
    },
    {
     "name": "stdout",
     "output_type": "stream",
     "text": [
      "Model Factory: Criando tipo 'PVBin' com params: {'method': 'binary', 'query': 'binary', 'norm': None, 'query_norm': None, 'ngram_range': [1, 2]}\n",
      "Model Factory (PVBin): Convertido ngram_range [1, 2] para tupla (1, 2)\n",
      "Fitting ProductVectorizerClassifier com 100 amostras...\n",
      "Fit concluído.\n",
      "Model Factory: Criando tipo 'PVBin' com params: {'method': 'binary', 'query': 'binary', 'norm': None, 'query_norm': None, 'ngram_range': [1, 2]}\n",
      "Model Factory (PVBin): Convertido ngram_range [1, 2] para tupla (1, 2)\n",
      "Fitting ProductVectorizerClassifier com 100 amostras...\n",
      "Fit concluído.\n",
      "    Acc Real Geração 72: Max=0.1205, Avg=0.1049, Min=0.1016\n",
      "    F1 Real Geração  72: Max=0.0268, Avg=0.0242, Min=0.0229\n",
      "    Duração Geração 72: 12.77s\n",
      "\n",
      "  Geração 73/100\n"
     ]
    },
    {
     "data": {
      "application/vnd.jupyter.widget-view+json": {
       "model_id": "4f03960ea8ce44dda907ae9957443275",
       "version_major": 2,
       "version_minor": 0
      },
      "text/plain": [
       "Fitness Calc Gen 73:   0%|          | 0/20 [00:00<?, ?it/s]"
      ]
     },
     "metadata": {},
     "output_type": "display_data"
    },
    {
     "name": "stdout",
     "output_type": "stream",
     "text": [
      "Model Factory: Criando tipo 'PVBin' com params: {'method': 'binary', 'query': 'binary', 'norm': None, 'query_norm': None, 'ngram_range': [1, 2]}\n",
      "Model Factory (PVBin): Convertido ngram_range [1, 2] para tupla (1, 2)\n",
      "Fitting ProductVectorizerClassifier com 100 amostras...\n",
      "Fit concluído.\n",
      "Model Factory: Criando tipo 'PVBin' com params: {'method': 'binary', 'query': 'binary', 'norm': None, 'query_norm': None, 'ngram_range': [1, 2]}\n",
      "Model Factory (PVBin): Convertido ngram_range [1, 2] para tupla (1, 2)\n",
      "Fitting ProductVectorizerClassifier com 100 amostras...\n",
      "Fit concluído.\n",
      "Model Factory: Criando tipo 'PVBin' com params: {'method': 'binary', 'query': 'binary', 'norm': None, 'query_norm': None, 'ngram_range': [1, 2]}\n",
      "Model Factory (PVBin): Convertido ngram_range [1, 2] para tupla (1, 2)\n",
      "Fitting ProductVectorizerClassifier com 100 amostras...\n",
      "Fit concluído.\n",
      "Model Factory: Criando tipo 'PVBin' com params: {'method': 'binary', 'query': 'binary', 'norm': None, 'query_norm': None, 'ngram_range': [1, 2]}\n",
      "Model Factory (PVBin): Convertido ngram_range [1, 2] para tupla (1, 2)\n",
      "Fitting ProductVectorizerClassifier com 100 amostras...\n",
      "Fit concluído.\n",
      "Model Factory: Criando tipo 'PVBin' com params: {'method': 'binary', 'query': 'binary', 'norm': None, 'query_norm': None, 'ngram_range': [1, 2]}\n",
      "Model Factory (PVBin): Convertido ngram_range [1, 2] para tupla (1, 2)\n",
      "Fitting ProductVectorizerClassifier com 100 amostras...\n",
      "Fit concluído.\n",
      "Model Factory: Criando tipo 'PVBin' com params: {'method': 'binary', 'query': 'binary', 'norm': None, 'query_norm': None, 'ngram_range': [1, 2]}\n",
      "Model Factory (PVBin): Convertido ngram_range [1, 2] para tupla (1, 2)\n",
      "Fitting ProductVectorizerClassifier com 100 amostras...\n",
      "Fit concluído.\n",
      "Model Factory: Criando tipo 'PVBin' com params: {'method': 'binary', 'query': 'binary', 'norm': None, 'query_norm': None, 'ngram_range': [1, 2]}\n",
      "Model Factory (PVBin): Convertido ngram_range [1, 2] para tupla (1, 2)\n",
      "Fitting ProductVectorizerClassifier com 100 amostras...\n",
      "Fit concluído.\n",
      "Model Factory: Criando tipo 'PVBin' com params: {'method': 'binary', 'query': 'binary', 'norm': None, 'query_norm': None, 'ngram_range': [1, 2]}\n",
      "Model Factory (PVBin): Convertido ngram_range [1, 2] para tupla (1, 2)\n",
      "Fitting ProductVectorizerClassifier com 100 amostras...\n",
      "Fit concluído.\n",
      "Model Factory: Criando tipo 'PVBin' com params: {'method': 'binary', 'query': 'binary', 'norm': None, 'query_norm': None, 'ngram_range': [1, 2]}\n",
      "Model Factory (PVBin): Convertido ngram_range [1, 2] para tupla (1, 2)\n",
      "Fitting ProductVectorizerClassifier com 100 amostras...\n",
      "Fit concluído.\n",
      "    Novo melhor (Obj: minimize): Perf Real=0.1014\n",
      "    Acc Real Geração 73: Max=0.1319, Avg=0.1061, Min=0.1014\n",
      "    F1 Real Geração  73: Max=0.0249, Avg=0.0238, Min=0.0228\n",
      "    Duração Geração 73: 55.05s\n",
      "\n",
      "  Geração 74/100\n"
     ]
    },
    {
     "data": {
      "application/vnd.jupyter.widget-view+json": {
       "model_id": "477298cf72a0476597dda67fde69b4dd",
       "version_major": 2,
       "version_minor": 0
      },
      "text/plain": [
       "Fitness Calc Gen 74:   0%|          | 0/20 [00:00<?, ?it/s]"
      ]
     },
     "metadata": {},
     "output_type": "display_data"
    },
    {
     "name": "stdout",
     "output_type": "stream",
     "text": [
      "Model Factory: Criando tipo 'PVBin' com params: {'method': 'binary', 'query': 'binary', 'norm': None, 'query_norm': None, 'ngram_range': [1, 2]}\n",
      "Model Factory (PVBin): Convertido ngram_range [1, 2] para tupla (1, 2)\n",
      "Fitting ProductVectorizerClassifier com 100 amostras...\n",
      "Fit concluído.\n",
      "Model Factory: Criando tipo 'PVBin' com params: {'method': 'binary', 'query': 'binary', 'norm': None, 'query_norm': None, 'ngram_range': [1, 2]}\n",
      "Model Factory (PVBin): Convertido ngram_range [1, 2] para tupla (1, 2)\n",
      "Fitting ProductVectorizerClassifier com 100 amostras...\n",
      "Fit concluído.\n",
      "Model Factory: Criando tipo 'PVBin' com params: {'method': 'binary', 'query': 'binary', 'norm': None, 'query_norm': None, 'ngram_range': [1, 2]}\n",
      "Model Factory (PVBin): Convertido ngram_range [1, 2] para tupla (1, 2)\n",
      "Fitting ProductVectorizerClassifier com 100 amostras...\n",
      "Fit concluído.\n",
      "Model Factory: Criando tipo 'PVBin' com params: {'method': 'binary', 'query': 'binary', 'norm': None, 'query_norm': None, 'ngram_range': [1, 2]}\n",
      "Model Factory (PVBin): Convertido ngram_range [1, 2] para tupla (1, 2)\n",
      "Fitting ProductVectorizerClassifier com 100 amostras...\n",
      "Fit concluído.\n",
      "    Novo melhor (Obj: minimize): Perf Real=0.1009\n",
      "    Acc Real Geração 74: Max=0.1132, Avg=0.1025, Min=0.1009\n",
      "    F1 Real Geração  74: Max=0.0247, Avg=0.0234, Min=0.0230\n",
      "    Duração Geração 74: 24.70s\n",
      "\n",
      "  Geração 75/100\n"
     ]
    },
    {
     "data": {
      "application/vnd.jupyter.widget-view+json": {
       "model_id": "39784f805838407291050328a9177a77",
       "version_major": 2,
       "version_minor": 0
      },
      "text/plain": [
       "Fitness Calc Gen 75:   0%|          | 0/20 [00:00<?, ?it/s]"
      ]
     },
     "metadata": {},
     "output_type": "display_data"
    },
    {
     "name": "stdout",
     "output_type": "stream",
     "text": [
      "Model Factory: Criando tipo 'PVBin' com params: {'method': 'binary', 'query': 'binary', 'norm': None, 'query_norm': None, 'ngram_range': [1, 2]}\n",
      "Model Factory (PVBin): Convertido ngram_range [1, 2] para tupla (1, 2)\n",
      "Fitting ProductVectorizerClassifier com 100 amostras...\n",
      "Fit concluído.\n",
      "Model Factory: Criando tipo 'PVBin' com params: {'method': 'binary', 'query': 'binary', 'norm': None, 'query_norm': None, 'ngram_range': [1, 2]}\n",
      "Model Factory (PVBin): Convertido ngram_range [1, 2] para tupla (1, 2)\n",
      "Fitting ProductVectorizerClassifier com 100 amostras...\n",
      "Fit concluído.\n",
      "Model Factory: Criando tipo 'PVBin' com params: {'method': 'binary', 'query': 'binary', 'norm': None, 'query_norm': None, 'ngram_range': [1, 2]}\n",
      "Model Factory (PVBin): Convertido ngram_range [1, 2] para tupla (1, 2)\n",
      "Fitting ProductVectorizerClassifier com 100 amostras...\n",
      "Fit concluído.\n",
      "    Acc Real Geração 75: Max=0.1279, Avg=0.1037, Min=0.1009\n",
      "    F1 Real Geração  75: Max=0.0249, Avg=0.0233, Min=0.0230\n",
      "    Duração Geração 75: 18.39s\n",
      "\n",
      "  Geração 76/100\n"
     ]
    },
    {
     "data": {
      "application/vnd.jupyter.widget-view+json": {
       "model_id": "ca5f9c553d6b42579b37b0e6812062fe",
       "version_major": 2,
       "version_minor": 0
      },
      "text/plain": [
       "Fitness Calc Gen 76:   0%|          | 0/20 [00:00<?, ?it/s]"
      ]
     },
     "metadata": {},
     "output_type": "display_data"
    },
    {
     "name": "stdout",
     "output_type": "stream",
     "text": [
      "Model Factory: Criando tipo 'PVBin' com params: {'method': 'binary', 'query': 'binary', 'norm': None, 'query_norm': None, 'ngram_range': [1, 2]}\n",
      "Model Factory (PVBin): Convertido ngram_range [1, 2] para tupla (1, 2)\n",
      "Fitting ProductVectorizerClassifier com 100 amostras...\n",
      "Fit concluído.\n",
      "Model Factory: Criando tipo 'PVBin' com params: {'method': 'binary', 'query': 'binary', 'norm': None, 'query_norm': None, 'ngram_range': [1, 2]}\n",
      "Model Factory (PVBin): Convertido ngram_range [1, 2] para tupla (1, 2)\n",
      "Fitting ProductVectorizerClassifier com 100 amostras...\n",
      "Fit concluído.\n",
      "Model Factory: Criando tipo 'PVBin' com params: {'method': 'binary', 'query': 'binary', 'norm': None, 'query_norm': None, 'ngram_range': [1, 2]}\n",
      "Model Factory (PVBin): Convertido ngram_range [1, 2] para tupla (1, 2)\n",
      "Fitting ProductVectorizerClassifier com 100 amostras...\n",
      "Fit concluído.\n",
      "Model Factory: Criando tipo 'PVBin' com params: {'method': 'binary', 'query': 'binary', 'norm': None, 'query_norm': None, 'ngram_range': [1, 2]}\n",
      "Model Factory (PVBin): Convertido ngram_range [1, 2] para tupla (1, 2)\n",
      "Fitting ProductVectorizerClassifier com 100 amostras...\n",
      "Fit concluído.\n",
      "Model Factory: Criando tipo 'PVBin' com params: {'method': 'binary', 'query': 'binary', 'norm': None, 'query_norm': None, 'ngram_range': [1, 2]}\n",
      "Model Factory (PVBin): Convertido ngram_range [1, 2] para tupla (1, 2)\n",
      "Fitting ProductVectorizerClassifier com 100 amostras...\n",
      "Fit concluído.\n",
      "    Acc Real Geração 76: Max=0.1354, Avg=0.1039, Min=0.1009\n",
      "    F1 Real Geração  76: Max=0.0258, Avg=0.0233, Min=0.0230\n",
      "    Duração Geração 76: 30.88s\n",
      "\n",
      "  Geração 77/100\n"
     ]
    },
    {
     "data": {
      "application/vnd.jupyter.widget-view+json": {
       "model_id": "25eded35973f423a908eca4dacd544e0",
       "version_major": 2,
       "version_minor": 0
      },
      "text/plain": [
       "Fitness Calc Gen 77:   0%|          | 0/20 [00:00<?, ?it/s]"
      ]
     },
     "metadata": {},
     "output_type": "display_data"
    },
    {
     "name": "stdout",
     "output_type": "stream",
     "text": [
      "Model Factory: Criando tipo 'PVBin' com params: {'method': 'binary', 'query': 'binary', 'norm': None, 'query_norm': None, 'ngram_range': [1, 2]}\n",
      "Model Factory (PVBin): Convertido ngram_range [1, 2] para tupla (1, 2)\n",
      "Fitting ProductVectorizerClassifier com 100 amostras...\n",
      "Fit concluído.\n",
      "Model Factory: Criando tipo 'PVBin' com params: {'method': 'binary', 'query': 'binary', 'norm': None, 'query_norm': None, 'ngram_range': [1, 2]}\n",
      "Model Factory (PVBin): Convertido ngram_range [1, 2] para tupla (1, 2)\n",
      "Fitting ProductVectorizerClassifier com 100 amostras...\n",
      "Fit concluído.\n",
      "Model Factory: Criando tipo 'PVBin' com params: {'method': 'binary', 'query': 'binary', 'norm': None, 'query_norm': None, 'ngram_range': [1, 2]}\n",
      "Model Factory (PVBin): Convertido ngram_range [1, 2] para tupla (1, 2)\n",
      "Fitting ProductVectorizerClassifier com 100 amostras...\n",
      "Fit concluído.\n",
      "    Novo melhor (Obj: minimize): Perf Real=0.1001\n",
      "    Acc Real Geração 77: Max=0.1031, Avg=0.1011, Min=0.1001\n",
      "    F1 Real Geração  77: Max=0.0256, Avg=0.0232, Min=0.0226\n",
      "    Duração Geração 77: 18.32s\n",
      "\n",
      "  Geração 78/100\n"
     ]
    },
    {
     "data": {
      "application/vnd.jupyter.widget-view+json": {
       "model_id": "4fecb2865a6e44c9813e80e9ec31f0cb",
       "version_major": 2,
       "version_minor": 0
      },
      "text/plain": [
       "Fitness Calc Gen 78:   0%|          | 0/20 [00:00<?, ?it/s]"
      ]
     },
     "metadata": {},
     "output_type": "display_data"
    },
    {
     "name": "stdout",
     "output_type": "stream",
     "text": [
      "Model Factory: Criando tipo 'PVBin' com params: {'method': 'binary', 'query': 'binary', 'norm': None, 'query_norm': None, 'ngram_range': [1, 2]}\n",
      "Model Factory (PVBin): Convertido ngram_range [1, 2] para tupla (1, 2)\n",
      "Fitting ProductVectorizerClassifier com 100 amostras...\n",
      "Fit concluído.\n",
      "Model Factory: Criando tipo 'PVBin' com params: {'method': 'binary', 'query': 'binary', 'norm': None, 'query_norm': None, 'ngram_range': [1, 2]}\n",
      "Model Factory (PVBin): Convertido ngram_range [1, 2] para tupla (1, 2)\n",
      "Fitting ProductVectorizerClassifier com 100 amostras...\n",
      "Fit concluído.\n",
      "    Acc Real Geração 78: Max=0.1089, Avg=0.1011, Min=0.1001\n",
      "    F1 Real Geração  78: Max=0.0245, Avg=0.0231, Min=0.0226\n",
      "    Duração Geração 78: 12.40s\n",
      "\n",
      "  Geração 79/100\n"
     ]
    },
    {
     "data": {
      "application/vnd.jupyter.widget-view+json": {
       "model_id": "850adaf325534220b7d48bdd3bb04f86",
       "version_major": 2,
       "version_minor": 0
      },
      "text/plain": [
       "Fitness Calc Gen 79:   0%|          | 0/20 [00:00<?, ?it/s]"
      ]
     },
     "metadata": {},
     "output_type": "display_data"
    },
    {
     "name": "stdout",
     "output_type": "stream",
     "text": [
      "Model Factory: Criando tipo 'PVBin' com params: {'method': 'binary', 'query': 'binary', 'norm': None, 'query_norm': None, 'ngram_range': [1, 2]}\n",
      "Model Factory (PVBin): Convertido ngram_range [1, 2] para tupla (1, 2)\n",
      "Fitting ProductVectorizerClassifier com 100 amostras...\n",
      "Fit concluído.\n",
      "Model Factory: Criando tipo 'PVBin' com params: {'method': 'binary', 'query': 'binary', 'norm': None, 'query_norm': None, 'ngram_range': [1, 2]}\n",
      "Model Factory (PVBin): Convertido ngram_range [1, 2] para tupla (1, 2)\n",
      "Fitting ProductVectorizerClassifier com 100 amostras...\n",
      "Fit concluído.\n",
      "Model Factory: Criando tipo 'PVBin' com params: {'method': 'binary', 'query': 'binary', 'norm': None, 'query_norm': None, 'ngram_range': [1, 2]}\n",
      "Model Factory (PVBin): Convertido ngram_range [1, 2] para tupla (1, 2)\n",
      "Fitting ProductVectorizerClassifier com 100 amostras...\n",
      "Fit concluído.\n",
      "Model Factory: Criando tipo 'PVBin' com params: {'method': 'binary', 'query': 'binary', 'norm': None, 'query_norm': None, 'ngram_range': [1, 2]}\n",
      "Model Factory (PVBin): Convertido ngram_range [1, 2] para tupla (1, 2)\n",
      "Fitting ProductVectorizerClassifier com 100 amostras...\n",
      "Fit concluído.\n",
      "Model Factory: Criando tipo 'PVBin' com params: {'method': 'binary', 'query': 'binary', 'norm': None, 'query_norm': None, 'ngram_range': [1, 2]}\n",
      "Model Factory (PVBin): Convertido ngram_range [1, 2] para tupla (1, 2)\n",
      "Fitting ProductVectorizerClassifier com 100 amostras...\n",
      "Fit concluído.\n",
      "Model Factory: Criando tipo 'PVBin' com params: {'method': 'binary', 'query': 'binary', 'norm': None, 'query_norm': None, 'ngram_range': [1, 2]}\n",
      "Model Factory (PVBin): Convertido ngram_range [1, 2] para tupla (1, 2)\n",
      "Fitting ProductVectorizerClassifier com 100 amostras...\n",
      "Fit concluído.\n",
      "    Novo melhor (Obj: minimize): Perf Real=0.1000\n",
      "    Acc Real Geração 79: Max=0.1348, Avg=0.1038, Min=0.1000\n",
      "    F1 Real Geração  79: Max=0.0248, Avg=0.0232, Min=0.0226\n",
      "    Duração Geração 79: 37.08s\n",
      "\n",
      "  Geração 80/100\n"
     ]
    },
    {
     "data": {
      "application/vnd.jupyter.widget-view+json": {
       "model_id": "a4a9de3371ad4db0b2de71e27e954ea6",
       "version_major": 2,
       "version_minor": 0
      },
      "text/plain": [
       "Fitness Calc Gen 80:   0%|          | 0/20 [00:00<?, ?it/s]"
      ]
     },
     "metadata": {},
     "output_type": "display_data"
    },
    {
     "name": "stdout",
     "output_type": "stream",
     "text": [
      "Model Factory: Criando tipo 'PVBin' com params: {'method': 'binary', 'query': 'binary', 'norm': None, 'query_norm': None, 'ngram_range': [1, 2]}\n",
      "Model Factory (PVBin): Convertido ngram_range [1, 2] para tupla (1, 2)\n",
      "Fitting ProductVectorizerClassifier com 100 amostras...\n",
      "Fit concluído.\n",
      "Model Factory: Criando tipo 'PVBin' com params: {'method': 'binary', 'query': 'binary', 'norm': None, 'query_norm': None, 'ngram_range': [1, 2]}\n",
      "Model Factory (PVBin): Convertido ngram_range [1, 2] para tupla (1, 2)\n",
      "Fitting ProductVectorizerClassifier com 100 amostras...\n",
      "Fit concluído.\n",
      "Model Factory: Criando tipo 'PVBin' com params: {'method': 'binary', 'query': 'binary', 'norm': None, 'query_norm': None, 'ngram_range': [1, 2]}\n",
      "Model Factory (PVBin): Convertido ngram_range [1, 2] para tupla (1, 2)\n",
      "Fitting ProductVectorizerClassifier com 100 amostras...\n",
      "Fit concluído.\n",
      "Model Factory: Criando tipo 'PVBin' com params: {'method': 'binary', 'query': 'binary', 'norm': None, 'query_norm': None, 'ngram_range': [1, 2]}\n",
      "Model Factory (PVBin): Convertido ngram_range [1, 2] para tupla (1, 2)\n",
      "Fitting ProductVectorizerClassifier com 100 amostras...\n",
      "Fit concluído.\n",
      "Model Factory: Criando tipo 'PVBin' com params: {'method': 'binary', 'query': 'binary', 'norm': None, 'query_norm': None, 'ngram_range': [1, 2]}\n",
      "Model Factory (PVBin): Convertido ngram_range [1, 2] para tupla (1, 2)\n",
      "Fitting ProductVectorizerClassifier com 100 amostras...\n",
      "Fit concluído.\n",
      "Model Factory: Criando tipo 'PVBin' com params: {'method': 'binary', 'query': 'binary', 'norm': None, 'query_norm': None, 'ngram_range': [1, 2]}\n",
      "Model Factory (PVBin): Convertido ngram_range [1, 2] para tupla (1, 2)\n",
      "Fitting ProductVectorizerClassifier com 100 amostras...\n",
      "Fit concluído.\n",
      "    Acc Real Geração 80: Max=0.1346, Avg=0.1031, Min=0.1000\n",
      "    F1 Real Geração  80: Max=0.0239, Avg=0.0229, Min=0.0220\n",
      "    Duração Geração 80: 36.31s\n",
      "\n",
      "  Geração 81/100\n"
     ]
    },
    {
     "data": {
      "application/vnd.jupyter.widget-view+json": {
       "model_id": "398a9b62597849e8a9d892f9ac333286",
       "version_major": 2,
       "version_minor": 0
      },
      "text/plain": [
       "Fitness Calc Gen 81:   0%|          | 0/20 [00:00<?, ?it/s]"
      ]
     },
     "metadata": {},
     "output_type": "display_data"
    },
    {
     "name": "stdout",
     "output_type": "stream",
     "text": [
      "Model Factory: Criando tipo 'PVBin' com params: {'method': 'binary', 'query': 'binary', 'norm': None, 'query_norm': None, 'ngram_range': [1, 2]}\n",
      "Model Factory (PVBin): Convertido ngram_range [1, 2] para tupla (1, 2)\n",
      "Fitting ProductVectorizerClassifier com 100 amostras...\n",
      "Fit concluído.\n",
      "Model Factory: Criando tipo 'PVBin' com params: {'method': 'binary', 'query': 'binary', 'norm': None, 'query_norm': None, 'ngram_range': [1, 2]}\n",
      "Model Factory (PVBin): Convertido ngram_range [1, 2] para tupla (1, 2)\n",
      "Fitting ProductVectorizerClassifier com 100 amostras...\n",
      "Fit concluído.\n",
      "Model Factory: Criando tipo 'PVBin' com params: {'method': 'binary', 'query': 'binary', 'norm': None, 'query_norm': None, 'ngram_range': [1, 2]}\n",
      "Model Factory (PVBin): Convertido ngram_range [1, 2] para tupla (1, 2)\n",
      "Fitting ProductVectorizerClassifier com 100 amostras...\n",
      "Fit concluído.\n",
      "Model Factory: Criando tipo 'PVBin' com params: {'method': 'binary', 'query': 'binary', 'norm': None, 'query_norm': None, 'ngram_range': [1, 2]}\n",
      "Model Factory (PVBin): Convertido ngram_range [1, 2] para tupla (1, 2)\n",
      "Fitting ProductVectorizerClassifier com 100 amostras...\n",
      "Fit concluído.\n",
      "Model Factory: Criando tipo 'PVBin' com params: {'method': 'binary', 'query': 'binary', 'norm': None, 'query_norm': None, 'ngram_range': [1, 2]}\n",
      "Model Factory (PVBin): Convertido ngram_range [1, 2] para tupla (1, 2)\n",
      "Fitting ProductVectorizerClassifier com 100 amostras...\n",
      "Fit concluído.\n",
      "Model Factory: Criando tipo 'PVBin' com params: {'method': 'binary', 'query': 'binary', 'norm': None, 'query_norm': None, 'ngram_range': [1, 2]}\n",
      "Model Factory (PVBin): Convertido ngram_range [1, 2] para tupla (1, 2)\n",
      "Fitting ProductVectorizerClassifier com 100 amostras...\n",
      "Fit concluído.\n",
      "    Acc Real Geração 81: Max=0.1208, Avg=0.1027, Min=0.1000\n",
      "    F1 Real Geração  81: Max=0.0255, Avg=0.0232, Min=0.0229\n",
      "    Duração Geração 81: 36.83s\n",
      "\n",
      "  Geração 82/100\n"
     ]
    },
    {
     "data": {
      "application/vnd.jupyter.widget-view+json": {
       "model_id": "167ae70bad7d41f3b76cccf188e2d0d2",
       "version_major": 2,
       "version_minor": 0
      },
      "text/plain": [
       "Fitness Calc Gen 82:   0%|          | 0/20 [00:00<?, ?it/s]"
      ]
     },
     "metadata": {},
     "output_type": "display_data"
    },
    {
     "name": "stdout",
     "output_type": "stream",
     "text": [
      "Model Factory: Criando tipo 'PVBin' com params: {'method': 'binary', 'query': 'binary', 'norm': None, 'query_norm': None, 'ngram_range': [1, 2]}\n",
      "Model Factory (PVBin): Convertido ngram_range [1, 2] para tupla (1, 2)\n",
      "Fitting ProductVectorizerClassifier com 100 amostras...\n",
      "Fit concluído.\n",
      "Model Factory: Criando tipo 'PVBin' com params: {'method': 'binary', 'query': 'binary', 'norm': None, 'query_norm': None, 'ngram_range': [1, 2]}\n",
      "Model Factory (PVBin): Convertido ngram_range [1, 2] para tupla (1, 2)\n",
      "Fitting ProductVectorizerClassifier com 100 amostras...\n",
      "Fit concluído.\n",
      "Model Factory: Criando tipo 'PVBin' com params: {'method': 'binary', 'query': 'binary', 'norm': None, 'query_norm': None, 'ngram_range': [1, 2]}\n",
      "Model Factory (PVBin): Convertido ngram_range [1, 2] para tupla (1, 2)\n",
      "Fitting ProductVectorizerClassifier com 100 amostras...\n",
      "Fit concluído.\n",
      "Model Factory: Criando tipo 'PVBin' com params: {'method': 'binary', 'query': 'binary', 'norm': None, 'query_norm': None, 'ngram_range': [1, 2]}\n",
      "Model Factory (PVBin): Convertido ngram_range [1, 2] para tupla (1, 2)\n",
      "Fitting ProductVectorizerClassifier com 100 amostras...\n",
      "Fit concluído.\n",
      "Model Factory: Criando tipo 'PVBin' com params: {'method': 'binary', 'query': 'binary', 'norm': None, 'query_norm': None, 'ngram_range': [1, 2]}\n",
      "Model Factory (PVBin): Convertido ngram_range [1, 2] para tupla (1, 2)\n",
      "Fitting ProductVectorizerClassifier com 100 amostras...\n",
      "Fit concluído.\n",
      "Model Factory: Criando tipo 'PVBin' com params: {'method': 'binary', 'query': 'binary', 'norm': None, 'query_norm': None, 'ngram_range': [1, 2]}\n",
      "Model Factory (PVBin): Convertido ngram_range [1, 2] para tupla (1, 2)\n",
      "Fitting ProductVectorizerClassifier com 100 amostras...\n",
      "Fit concluído.\n",
      "    Acc Real Geração 82: Max=0.1275, Avg=0.1042, Min=0.1000\n",
      "    F1 Real Geração  82: Max=0.0240, Avg=0.0231, Min=0.0228\n",
      "    Duração Geração 82: 37.23s\n",
      "\n",
      "  Geração 83/100\n"
     ]
    },
    {
     "data": {
      "application/vnd.jupyter.widget-view+json": {
       "model_id": "7f1616b97c79493e9577aa0d858a09e2",
       "version_major": 2,
       "version_minor": 0
      },
      "text/plain": [
       "Fitness Calc Gen 83:   0%|          | 0/20 [00:00<?, ?it/s]"
      ]
     },
     "metadata": {},
     "output_type": "display_data"
    },
    {
     "name": "stdout",
     "output_type": "stream",
     "text": [
      "Model Factory: Criando tipo 'PVBin' com params: {'method': 'binary', 'query': 'binary', 'norm': None, 'query_norm': None, 'ngram_range': [1, 2]}\n",
      "Model Factory (PVBin): Convertido ngram_range [1, 2] para tupla (1, 2)\n",
      "Fitting ProductVectorizerClassifier com 100 amostras...\n",
      "Fit concluído.\n",
      "Model Factory: Criando tipo 'PVBin' com params: {'method': 'binary', 'query': 'binary', 'norm': None, 'query_norm': None, 'ngram_range': [1, 2]}\n",
      "Model Factory (PVBin): Convertido ngram_range [1, 2] para tupla (1, 2)\n",
      "Fitting ProductVectorizerClassifier com 100 amostras...\n",
      "Fit concluído.\n",
      "Model Factory: Criando tipo 'PVBin' com params: {'method': 'binary', 'query': 'binary', 'norm': None, 'query_norm': None, 'ngram_range': [1, 2]}\n",
      "Model Factory (PVBin): Convertido ngram_range [1, 2] para tupla (1, 2)\n",
      "Fitting ProductVectorizerClassifier com 100 amostras...\n",
      "Fit concluído.\n",
      "Model Factory: Criando tipo 'PVBin' com params: {'method': 'binary', 'query': 'binary', 'norm': None, 'query_norm': None, 'ngram_range': [1, 2]}\n",
      "Model Factory (PVBin): Convertido ngram_range [1, 2] para tupla (1, 2)\n",
      "Fitting ProductVectorizerClassifier com 100 amostras...\n",
      "Fit concluído.\n",
      "Model Factory: Criando tipo 'PVBin' com params: {'method': 'binary', 'query': 'binary', 'norm': None, 'query_norm': None, 'ngram_range': [1, 2]}\n",
      "Model Factory (PVBin): Convertido ngram_range [1, 2] para tupla (1, 2)\n",
      "Fitting ProductVectorizerClassifier com 100 amostras...\n",
      "Fit concluído.\n",
      "    Acc Real Geração 83: Max=0.1378, Avg=0.1049, Min=0.1000\n",
      "    F1 Real Geração  83: Max=0.0257, Avg=0.0234, Min=0.0228\n",
      "    Duração Geração 83: 30.04s\n",
      "\n",
      "  Geração 84/100\n"
     ]
    },
    {
     "data": {
      "application/vnd.jupyter.widget-view+json": {
       "model_id": "c1cbe6541fea475fb78ef8e0838ba73f",
       "version_major": 2,
       "version_minor": 0
      },
      "text/plain": [
       "Fitness Calc Gen 84:   0%|          | 0/20 [00:00<?, ?it/s]"
      ]
     },
     "metadata": {},
     "output_type": "display_data"
    },
    {
     "name": "stdout",
     "output_type": "stream",
     "text": [
      "Model Factory: Criando tipo 'PVBin' com params: {'method': 'binary', 'query': 'binary', 'norm': None, 'query_norm': None, 'ngram_range': [1, 2]}\n",
      "Model Factory (PVBin): Convertido ngram_range [1, 2] para tupla (1, 2)\n",
      "Fitting ProductVectorizerClassifier com 100 amostras...\n",
      "Fit concluído.\n",
      "Model Factory: Criando tipo 'PVBin' com params: {'method': 'binary', 'query': 'binary', 'norm': None, 'query_norm': None, 'ngram_range': [1, 2]}\n",
      "Model Factory (PVBin): Convertido ngram_range [1, 2] para tupla (1, 2)\n",
      "Fitting ProductVectorizerClassifier com 100 amostras...\n",
      "Fit concluído.\n",
      "Model Factory: Criando tipo 'PVBin' com params: {'method': 'binary', 'query': 'binary', 'norm': None, 'query_norm': None, 'ngram_range': [1, 2]}\n",
      "Model Factory (PVBin): Convertido ngram_range [1, 2] para tupla (1, 2)\n",
      "Fitting ProductVectorizerClassifier com 100 amostras...\n",
      "Fit concluído.\n",
      "    Acc Real Geração 84: Max=0.1214, Avg=0.1013, Min=0.1000\n",
      "    F1 Real Geração  84: Max=0.0246, Avg=0.0231, Min=0.0229\n",
      "    Duração Geração 84: 18.42s\n",
      "\n",
      "  Geração 85/100\n"
     ]
    },
    {
     "data": {
      "application/vnd.jupyter.widget-view+json": {
       "model_id": "1255149db6c445ca8a6e81124582316f",
       "version_major": 2,
       "version_minor": 0
      },
      "text/plain": [
       "Fitness Calc Gen 85:   0%|          | 0/20 [00:00<?, ?it/s]"
      ]
     },
     "metadata": {},
     "output_type": "display_data"
    },
    {
     "name": "stdout",
     "output_type": "stream",
     "text": [
      "Model Factory: Criando tipo 'PVBin' com params: {'method': 'binary', 'query': 'binary', 'norm': None, 'query_norm': None, 'ngram_range': [1, 2]}\n",
      "Model Factory (PVBin): Convertido ngram_range [1, 2] para tupla (1, 2)\n",
      "Fitting ProductVectorizerClassifier com 100 amostras...\n",
      "Fit concluído.\n",
      "Model Factory: Criando tipo 'PVBin' com params: {'method': 'binary', 'query': 'binary', 'norm': None, 'query_norm': None, 'ngram_range': [1, 2]}\n",
      "Model Factory (PVBin): Convertido ngram_range [1, 2] para tupla (1, 2)\n",
      "Fitting ProductVectorizerClassifier com 100 amostras...\n",
      "Fit concluído.\n",
      "    Acc Real Geração 85: Max=0.1146, Avg=0.1013, Min=0.1000\n",
      "    F1 Real Geração  85: Max=0.0245, Avg=0.0232, Min=0.0230\n",
      "    Duração Geração 85: 12.46s\n",
      "\n",
      "  Geração 86/100\n"
     ]
    },
    {
     "data": {
      "application/vnd.jupyter.widget-view+json": {
       "model_id": "518e28b6f0dc49ffbe3b51ebd613bfcc",
       "version_major": 2,
       "version_minor": 0
      },
      "text/plain": [
       "Fitness Calc Gen 86:   0%|          | 0/20 [00:00<?, ?it/s]"
      ]
     },
     "metadata": {},
     "output_type": "display_data"
    },
    {
     "name": "stdout",
     "output_type": "stream",
     "text": [
      "Model Factory: Criando tipo 'PVBin' com params: {'method': 'binary', 'query': 'binary', 'norm': None, 'query_norm': None, 'ngram_range': [1, 2]}\n",
      "Model Factory (PVBin): Convertido ngram_range [1, 2] para tupla (1, 2)\n",
      "Fitting ProductVectorizerClassifier com 100 amostras...\n",
      "Fit concluído.\n",
      "Model Factory: Criando tipo 'PVBin' com params: {'method': 'binary', 'query': 'binary', 'norm': None, 'query_norm': None, 'ngram_range': [1, 2]}\n",
      "Model Factory (PVBin): Convertido ngram_range [1, 2] para tupla (1, 2)\n",
      "Fitting ProductVectorizerClassifier com 100 amostras...\n",
      "Fit concluído.\n",
      "Model Factory: Criando tipo 'PVBin' com params: {'method': 'binary', 'query': 'binary', 'norm': None, 'query_norm': None, 'ngram_range': [1, 2]}\n",
      "Model Factory (PVBin): Convertido ngram_range [1, 2] para tupla (1, 2)\n",
      "Fitting ProductVectorizerClassifier com 100 amostras...\n",
      "Fit concluído.\n",
      "Model Factory: Criando tipo 'PVBin' com params: {'method': 'binary', 'query': 'binary', 'norm': None, 'query_norm': None, 'ngram_range': [1, 2]}\n",
      "Model Factory (PVBin): Convertido ngram_range [1, 2] para tupla (1, 2)\n",
      "Fitting ProductVectorizerClassifier com 100 amostras...\n",
      "Fit concluído.\n",
      "Model Factory: Criando tipo 'PVBin' com params: {'method': 'binary', 'query': 'binary', 'norm': None, 'query_norm': None, 'ngram_range': [1, 2]}\n",
      "Model Factory (PVBin): Convertido ngram_range [1, 2] para tupla (1, 2)\n",
      "Fitting ProductVectorizerClassifier com 100 amostras...\n",
      "Fit concluído.\n",
      "    Acc Real Geração 86: Max=0.1162, Avg=0.1021, Min=0.1000\n",
      "    F1 Real Geração  86: Max=0.0250, Avg=0.0234, Min=0.0230\n",
      "    Duração Geração 86: 30.54s\n",
      "\n",
      "  Geração 87/100\n"
     ]
    },
    {
     "data": {
      "application/vnd.jupyter.widget-view+json": {
       "model_id": "9fab3dc42d5a42bcbf9c8e4245066bdd",
       "version_major": 2,
       "version_minor": 0
      },
      "text/plain": [
       "Fitness Calc Gen 87:   0%|          | 0/20 [00:00<?, ?it/s]"
      ]
     },
     "metadata": {},
     "output_type": "display_data"
    },
    {
     "name": "stdout",
     "output_type": "stream",
     "text": [
      "Model Factory: Criando tipo 'PVBin' com params: {'method': 'binary', 'query': 'binary', 'norm': None, 'query_norm': None, 'ngram_range': [1, 2]}\n",
      "Model Factory (PVBin): Convertido ngram_range [1, 2] para tupla (1, 2)\n",
      "Fitting ProductVectorizerClassifier com 100 amostras...\n",
      "Fit concluído.\n",
      "Model Factory: Criando tipo 'PVBin' com params: {'method': 'binary', 'query': 'binary', 'norm': None, 'query_norm': None, 'ngram_range': [1, 2]}\n",
      "Model Factory (PVBin): Convertido ngram_range [1, 2] para tupla (1, 2)\n",
      "Fitting ProductVectorizerClassifier com 100 amostras...\n",
      "Fit concluído.\n",
      "    Acc Real Geração 87: Max=0.1288, Avg=0.1021, Min=0.1000\n",
      "    F1 Real Geração  87: Max=0.0241, Avg=0.0231, Min=0.0230\n",
      "    Duração Geração 87: 12.33s\n",
      "\n",
      "  Geração 88/100\n"
     ]
    },
    {
     "data": {
      "application/vnd.jupyter.widget-view+json": {
       "model_id": "eccc2f2de1bf426080eca6f12708df18",
       "version_major": 2,
       "version_minor": 0
      },
      "text/plain": [
       "Fitness Calc Gen 88:   0%|          | 0/20 [00:00<?, ?it/s]"
      ]
     },
     "metadata": {},
     "output_type": "display_data"
    },
    {
     "name": "stdout",
     "output_type": "stream",
     "text": [
      "Model Factory: Criando tipo 'PVBin' com params: {'method': 'binary', 'query': 'binary', 'norm': None, 'query_norm': None, 'ngram_range': [1, 2]}\n",
      "Model Factory (PVBin): Convertido ngram_range [1, 2] para tupla (1, 2)\n",
      "Fitting ProductVectorizerClassifier com 100 amostras...\n",
      "Fit concluído.\n",
      "Model Factory: Criando tipo 'PVBin' com params: {'method': 'binary', 'query': 'binary', 'norm': None, 'query_norm': None, 'ngram_range': [1, 2]}\n",
      "Model Factory (PVBin): Convertido ngram_range [1, 2] para tupla (1, 2)\n",
      "Fitting ProductVectorizerClassifier com 100 amostras...\n",
      "Fit concluído.\n",
      "Model Factory: Criando tipo 'PVBin' com params: {'method': 'binary', 'query': 'binary', 'norm': None, 'query_norm': None, 'ngram_range': [1, 2]}\n",
      "Model Factory (PVBin): Convertido ngram_range [1, 2] para tupla (1, 2)\n",
      "Fitting ProductVectorizerClassifier com 100 amostras...\n",
      "Fit concluído.\n",
      "Model Factory: Criando tipo 'PVBin' com params: {'method': 'binary', 'query': 'binary', 'norm': None, 'query_norm': None, 'ngram_range': [1, 2]}\n",
      "Model Factory (PVBin): Convertido ngram_range [1, 2] para tupla (1, 2)\n",
      "Fitting ProductVectorizerClassifier com 100 amostras...\n",
      "Fit concluído.\n",
      "Model Factory: Criando tipo 'PVBin' com params: {'method': 'binary', 'query': 'binary', 'norm': None, 'query_norm': None, 'ngram_range': [1, 2]}\n",
      "Model Factory (PVBin): Convertido ngram_range [1, 2] para tupla (1, 2)\n",
      "Fitting ProductVectorizerClassifier com 100 amostras...\n",
      "Fit concluído.\n",
      "    Acc Real Geração 88: Max=0.1301, Avg=0.1028, Min=0.1000\n",
      "    F1 Real Geração  88: Max=0.0245, Avg=0.0230, Min=0.0220\n",
      "    Duração Geração 88: 30.18s\n",
      "\n",
      "  Geração 89/100\n"
     ]
    },
    {
     "data": {
      "application/vnd.jupyter.widget-view+json": {
       "model_id": "7460a1ebfab34083a6129cf7cc27a3c9",
       "version_major": 2,
       "version_minor": 0
      },
      "text/plain": [
       "Fitness Calc Gen 89:   0%|          | 0/20 [00:00<?, ?it/s]"
      ]
     },
     "metadata": {},
     "output_type": "display_data"
    },
    {
     "name": "stdout",
     "output_type": "stream",
     "text": [
      "Model Factory: Criando tipo 'PVBin' com params: {'method': 'binary', 'query': 'binary', 'norm': None, 'query_norm': None, 'ngram_range': [1, 2]}\n",
      "Model Factory (PVBin): Convertido ngram_range [1, 2] para tupla (1, 2)\n",
      "Fitting ProductVectorizerClassifier com 100 amostras...\n",
      "Fit concluído.\n",
      "Model Factory: Criando tipo 'PVBin' com params: {'method': 'binary', 'query': 'binary', 'norm': None, 'query_norm': None, 'ngram_range': [1, 2]}\n",
      "Model Factory (PVBin): Convertido ngram_range [1, 2] para tupla (1, 2)\n",
      "Fitting ProductVectorizerClassifier com 100 amostras...\n",
      "Fit concluído.\n",
      "    Acc Real Geração 89: Max=0.1261, Avg=0.1017, Min=0.1000\n",
      "    F1 Real Geração  89: Max=0.0245, Avg=0.0231, Min=0.0224\n",
      "    Duração Geração 89: 12.37s\n",
      "\n",
      "  Geração 90/100\n"
     ]
    },
    {
     "data": {
      "application/vnd.jupyter.widget-view+json": {
       "model_id": "b3d0e79c08f04ba9b42ad4b4da8ba013",
       "version_major": 2,
       "version_minor": 0
      },
      "text/plain": [
       "Fitness Calc Gen 90:   0%|          | 0/20 [00:00<?, ?it/s]"
      ]
     },
     "metadata": {},
     "output_type": "display_data"
    },
    {
     "name": "stdout",
     "output_type": "stream",
     "text": [
      "Model Factory: Criando tipo 'PVBin' com params: {'method': 'binary', 'query': 'binary', 'norm': None, 'query_norm': None, 'ngram_range': [1, 2]}\n",
      "Model Factory (PVBin): Convertido ngram_range [1, 2] para tupla (1, 2)\n",
      "Fitting ProductVectorizerClassifier com 100 amostras...\n",
      "Fit concluído.\n",
      "Model Factory: Criando tipo 'PVBin' com params: {'method': 'binary', 'query': 'binary', 'norm': None, 'query_norm': None, 'ngram_range': [1, 2]}\n",
      "Model Factory (PVBin): Convertido ngram_range [1, 2] para tupla (1, 2)\n",
      "Fitting ProductVectorizerClassifier com 100 amostras...\n",
      "Fit concluído.\n",
      "Model Factory: Criando tipo 'PVBin' com params: {'method': 'binary', 'query': 'binary', 'norm': None, 'query_norm': None, 'ngram_range': [1, 2]}\n",
      "Model Factory (PVBin): Convertido ngram_range [1, 2] para tupla (1, 2)\n",
      "Fitting ProductVectorizerClassifier com 100 amostras...\n",
      "Fit concluído.\n",
      "Model Factory: Criando tipo 'PVBin' com params: {'method': 'binary', 'query': 'binary', 'norm': None, 'query_norm': None, 'ngram_range': [1, 2]}\n",
      "Model Factory (PVBin): Convertido ngram_range [1, 2] para tupla (1, 2)\n",
      "Fitting ProductVectorizerClassifier com 100 amostras...\n",
      "Fit concluído.\n",
      "    Acc Real Geração 90: Max=0.1276, Avg=0.1033, Min=0.1000\n",
      "    F1 Real Geração  90: Max=0.0242, Avg=0.0231, Min=0.0223\n",
      "    Duração Geração 90: 24.29s\n",
      "\n",
      "  Geração 91/100\n"
     ]
    },
    {
     "data": {
      "application/vnd.jupyter.widget-view+json": {
       "model_id": "b6562e2c46a443f18cd1e137f2163603",
       "version_major": 2,
       "version_minor": 0
      },
      "text/plain": [
       "Fitness Calc Gen 91:   0%|          | 0/20 [00:00<?, ?it/s]"
      ]
     },
     "metadata": {},
     "output_type": "display_data"
    },
    {
     "name": "stdout",
     "output_type": "stream",
     "text": [
      "Model Factory: Criando tipo 'PVBin' com params: {'method': 'binary', 'query': 'binary', 'norm': None, 'query_norm': None, 'ngram_range': [1, 2]}\n",
      "Model Factory (PVBin): Convertido ngram_range [1, 2] para tupla (1, 2)\n",
      "Fitting ProductVectorizerClassifier com 100 amostras...\n",
      "Fit concluído.\n",
      "Model Factory: Criando tipo 'PVBin' com params: {'method': 'binary', 'query': 'binary', 'norm': None, 'query_norm': None, 'ngram_range': [1, 2]}\n",
      "Model Factory (PVBin): Convertido ngram_range [1, 2] para tupla (1, 2)\n",
      "Fitting ProductVectorizerClassifier com 100 amostras...\n",
      "Fit concluído.\n",
      "Model Factory: Criando tipo 'PVBin' com params: {'method': 'binary', 'query': 'binary', 'norm': None, 'query_norm': None, 'ngram_range': [1, 2]}\n",
      "Model Factory (PVBin): Convertido ngram_range [1, 2] para tupla (1, 2)\n",
      "Fitting ProductVectorizerClassifier com 100 amostras...\n",
      "Fit concluído.\n",
      "    Acc Real Geração 91: Max=0.1052, Avg=0.1004, Min=0.1000\n",
      "    F1 Real Geração  91: Max=0.0241, Avg=0.0231, Min=0.0223\n",
      "    Duração Geração 91: 19.03s\n",
      "\n",
      "  Geração 92/100\n"
     ]
    },
    {
     "data": {
      "application/vnd.jupyter.widget-view+json": {
       "model_id": "dc88707a5f6a47c5999a90d5bf4c1db5",
       "version_major": 2,
       "version_minor": 0
      },
      "text/plain": [
       "Fitness Calc Gen 92:   0%|          | 0/20 [00:00<?, ?it/s]"
      ]
     },
     "metadata": {},
     "output_type": "display_data"
    },
    {
     "name": "stdout",
     "output_type": "stream",
     "text": [
      "Model Factory: Criando tipo 'PVBin' com params: {'method': 'binary', 'query': 'binary', 'norm': None, 'query_norm': None, 'ngram_range': [1, 2]}\n",
      "Model Factory (PVBin): Convertido ngram_range [1, 2] para tupla (1, 2)\n",
      "Fitting ProductVectorizerClassifier com 100 amostras...\n",
      "Fit concluído.\n",
      "Model Factory: Criando tipo 'PVBin' com params: {'method': 'binary', 'query': 'binary', 'norm': None, 'query_norm': None, 'ngram_range': [1, 2]}\n",
      "Model Factory (PVBin): Convertido ngram_range [1, 2] para tupla (1, 2)\n",
      "Fitting ProductVectorizerClassifier com 100 amostras...\n",
      "Fit concluído.\n",
      "Model Factory: Criando tipo 'PVBin' com params: {'method': 'binary', 'query': 'binary', 'norm': None, 'query_norm': None, 'ngram_range': [1, 2]}\n",
      "Model Factory (PVBin): Convertido ngram_range [1, 2] para tupla (1, 2)\n",
      "Fitting ProductVectorizerClassifier com 100 amostras...\n",
      "Fit concluído.\n",
      "Model Factory: Criando tipo 'PVBin' com params: {'method': 'binary', 'query': 'binary', 'norm': None, 'query_norm': None, 'ngram_range': [1, 2]}\n",
      "Model Factory (PVBin): Convertido ngram_range [1, 2] para tupla (1, 2)\n",
      "Fitting ProductVectorizerClassifier com 100 amostras...\n",
      "Fit concluído.\n",
      "Model Factory: Criando tipo 'PVBin' com params: {'method': 'binary', 'query': 'binary', 'norm': None, 'query_norm': None, 'ngram_range': [1, 2]}\n",
      "Model Factory (PVBin): Convertido ngram_range [1, 2] para tupla (1, 2)\n",
      "Fitting ProductVectorizerClassifier com 100 amostras...\n",
      "Fit concluído.\n",
      "    Acc Real Geração 92: Max=0.1131, Avg=0.1021, Min=0.1000\n",
      "    F1 Real Geração  92: Max=0.0243, Avg=0.0231, Min=0.0214\n",
      "    Duração Geração 92: 30.28s\n",
      "\n",
      "  Geração 93/100\n"
     ]
    },
    {
     "data": {
      "application/vnd.jupyter.widget-view+json": {
       "model_id": "e0b48bd382434f5d9cde0188854ad48a",
       "version_major": 2,
       "version_minor": 0
      },
      "text/plain": [
       "Fitness Calc Gen 93:   0%|          | 0/20 [00:00<?, ?it/s]"
      ]
     },
     "metadata": {},
     "output_type": "display_data"
    },
    {
     "name": "stdout",
     "output_type": "stream",
     "text": [
      "Model Factory: Criando tipo 'PVBin' com params: {'method': 'binary', 'query': 'binary', 'norm': None, 'query_norm': None, 'ngram_range': [1, 2]}\n",
      "Model Factory (PVBin): Convertido ngram_range [1, 2] para tupla (1, 2)\n",
      "Fitting ProductVectorizerClassifier com 100 amostras...\n",
      "Fit concluído.\n",
      "Model Factory: Criando tipo 'PVBin' com params: {'method': 'binary', 'query': 'binary', 'norm': None, 'query_norm': None, 'ngram_range': [1, 2]}\n",
      "Model Factory (PVBin): Convertido ngram_range [1, 2] para tupla (1, 2)\n",
      "Fitting ProductVectorizerClassifier com 100 amostras...\n",
      "Fit concluído.\n",
      "Model Factory: Criando tipo 'PVBin' com params: {'method': 'binary', 'query': 'binary', 'norm': None, 'query_norm': None, 'ngram_range': [1, 2]}\n",
      "Model Factory (PVBin): Convertido ngram_range [1, 2] para tupla (1, 2)\n",
      "Fitting ProductVectorizerClassifier com 100 amostras...\n",
      "Fit concluído.\n",
      "Model Factory: Criando tipo 'PVBin' com params: {'method': 'binary', 'query': 'binary', 'norm': None, 'query_norm': None, 'ngram_range': [1, 2]}\n",
      "Model Factory (PVBin): Convertido ngram_range [1, 2] para tupla (1, 2)\n",
      "Fitting ProductVectorizerClassifier com 100 amostras...\n",
      "Fit concluído.\n",
      "Model Factory: Criando tipo 'PVBin' com params: {'method': 'binary', 'query': 'binary', 'norm': None, 'query_norm': None, 'ngram_range': [1, 2]}\n",
      "Model Factory (PVBin): Convertido ngram_range [1, 2] para tupla (1, 2)\n",
      "Fitting ProductVectorizerClassifier com 100 amostras...\n",
      "Fit concluído.\n",
      "    Acc Real Geração 93: Max=0.1315, Avg=0.1040, Min=0.1000\n",
      "    F1 Real Geração  93: Max=0.0257, Avg=0.0233, Min=0.0214\n",
      "    Duração Geração 93: 30.94s\n",
      "\n",
      "  Geração 94/100\n"
     ]
    },
    {
     "data": {
      "application/vnd.jupyter.widget-view+json": {
       "model_id": "f8792189e62e41f8a2f77c0021ca503d",
       "version_major": 2,
       "version_minor": 0
      },
      "text/plain": [
       "Fitness Calc Gen 94:   0%|          | 0/20 [00:00<?, ?it/s]"
      ]
     },
     "metadata": {},
     "output_type": "display_data"
    },
    {
     "name": "stdout",
     "output_type": "stream",
     "text": [
      "Model Factory: Criando tipo 'PVBin' com params: {'method': 'binary', 'query': 'binary', 'norm': None, 'query_norm': None, 'ngram_range': [1, 2]}\n",
      "Model Factory (PVBin): Convertido ngram_range [1, 2] para tupla (1, 2)\n",
      "Fitting ProductVectorizerClassifier com 100 amostras...\n",
      "Fit concluído.\n",
      "    Acc Real Geração 94: Max=0.1023, Avg=0.1001, Min=0.1000\n",
      "    F1 Real Geração  94: Max=0.0236, Avg=0.0231, Min=0.0230\n",
      "    Duração Geração 94: 6.61s\n",
      "\n",
      "  Geração 95/100\n"
     ]
    },
    {
     "data": {
      "application/vnd.jupyter.widget-view+json": {
       "model_id": "9c7f73cc908f49ad863a37e1ac63f422",
       "version_major": 2,
       "version_minor": 0
      },
      "text/plain": [
       "Fitness Calc Gen 95:   0%|          | 0/20 [00:00<?, ?it/s]"
      ]
     },
     "metadata": {},
     "output_type": "display_data"
    },
    {
     "name": "stdout",
     "output_type": "stream",
     "text": [
      "Model Factory: Criando tipo 'PVBin' com params: {'method': 'binary', 'query': 'binary', 'norm': None, 'query_norm': None, 'ngram_range': [1, 2]}\n",
      "Model Factory (PVBin): Convertido ngram_range [1, 2] para tupla (1, 2)\n",
      "Fitting ProductVectorizerClassifier com 100 amostras...\n",
      "Fit concluído.\n",
      "    Acc Real Geração 95: Max=0.1021, Avg=0.1001, Min=0.1000\n",
      "    F1 Real Geração  95: Max=0.0236, Avg=0.0231, Min=0.0230\n",
      "    Duração Geração 95: 6.34s\n",
      "\n",
      "  Geração 96/100\n"
     ]
    },
    {
     "data": {
      "application/vnd.jupyter.widget-view+json": {
       "model_id": "eefc7c07b4a848158b542c1505da7a96",
       "version_major": 2,
       "version_minor": 0
      },
      "text/plain": [
       "Fitness Calc Gen 96:   0%|          | 0/20 [00:00<?, ?it/s]"
      ]
     },
     "metadata": {},
     "output_type": "display_data"
    },
    {
     "name": "stdout",
     "output_type": "stream",
     "text": [
      "Model Factory: Criando tipo 'PVBin' com params: {'method': 'binary', 'query': 'binary', 'norm': None, 'query_norm': None, 'ngram_range': [1, 2]}\n",
      "Model Factory (PVBin): Convertido ngram_range [1, 2] para tupla (1, 2)\n",
      "Fitting ProductVectorizerClassifier com 100 amostras...\n",
      "Fit concluído.\n",
      "Model Factory: Criando tipo 'PVBin' com params: {'method': 'binary', 'query': 'binary', 'norm': None, 'query_norm': None, 'ngram_range': [1, 2]}\n",
      "Model Factory (PVBin): Convertido ngram_range [1, 2] para tupla (1, 2)\n",
      "Fitting ProductVectorizerClassifier com 100 amostras...\n",
      "Fit concluído.\n",
      "Model Factory: Criando tipo 'PVBin' com params: {'method': 'binary', 'query': 'binary', 'norm': None, 'query_norm': None, 'ngram_range': [1, 2]}\n",
      "Model Factory (PVBin): Convertido ngram_range [1, 2] para tupla (1, 2)\n",
      "Fitting ProductVectorizerClassifier com 100 amostras...\n",
      "Fit concluído.\n",
      "    Acc Real Geração 96: Max=0.1157, Avg=0.1013, Min=0.1000\n",
      "    F1 Real Geração  96: Max=0.0253, Avg=0.0232, Min=0.0229\n",
      "    Duração Geração 96: 18.11s\n",
      "\n",
      "  Geração 97/100\n"
     ]
    },
    {
     "data": {
      "application/vnd.jupyter.widget-view+json": {
       "model_id": "2feb4a1d196d453a9e1c56686bdbad41",
       "version_major": 2,
       "version_minor": 0
      },
      "text/plain": [
       "Fitness Calc Gen 97:   0%|          | 0/20 [00:00<?, ?it/s]"
      ]
     },
     "metadata": {},
     "output_type": "display_data"
    },
    {
     "name": "stdout",
     "output_type": "stream",
     "text": [
      "    Acc Real Geração 97: Max=0.1000, Avg=0.1000, Min=0.1000\n",
      "    F1 Real Geração  97: Max=0.0230, Avg=0.0230, Min=0.0230\n",
      "    Duração Geração 97: 0.32s\n",
      "\n",
      "  Geração 98/100\n"
     ]
    },
    {
     "data": {
      "application/vnd.jupyter.widget-view+json": {
       "model_id": "f5843f5798e04cdb9f53d954fbec4a63",
       "version_major": 2,
       "version_minor": 0
      },
      "text/plain": [
       "Fitness Calc Gen 98:   0%|          | 0/20 [00:00<?, ?it/s]"
      ]
     },
     "metadata": {},
     "output_type": "display_data"
    },
    {
     "name": "stdout",
     "output_type": "stream",
     "text": [
      "Model Factory: Criando tipo 'PVBin' com params: {'method': 'binary', 'query': 'binary', 'norm': None, 'query_norm': None, 'ngram_range': [1, 2]}\n",
      "Model Factory (PVBin): Convertido ngram_range [1, 2] para tupla (1, 2)\n",
      "Fitting ProductVectorizerClassifier com 100 amostras...\n",
      "Fit concluído.\n",
      "Model Factory: Criando tipo 'PVBin' com params: {'method': 'binary', 'query': 'binary', 'norm': None, 'query_norm': None, 'ngram_range': [1, 2]}\n",
      "Model Factory (PVBin): Convertido ngram_range [1, 2] para tupla (1, 2)\n",
      "Fitting ProductVectorizerClassifier com 100 amostras...\n",
      "Fit concluído.\n",
      "    Acc Real Geração 98: Max=0.1057, Avg=0.1005, Min=0.1000\n",
      "    F1 Real Geração  98: Max=0.0245, Avg=0.0231, Min=0.0230\n",
      "    Duração Geração 98: 12.55s\n",
      "\n",
      "  Geração 99/100\n"
     ]
    },
    {
     "data": {
      "application/vnd.jupyter.widget-view+json": {
       "model_id": "0f98e3aa54854a7a845c52593f8ce464",
       "version_major": 2,
       "version_minor": 0
      },
      "text/plain": [
       "Fitness Calc Gen 99:   0%|          | 0/20 [00:00<?, ?it/s]"
      ]
     },
     "metadata": {},
     "output_type": "display_data"
    },
    {
     "name": "stdout",
     "output_type": "stream",
     "text": [
      "Model Factory: Criando tipo 'PVBin' com params: {'method': 'binary', 'query': 'binary', 'norm': None, 'query_norm': None, 'ngram_range': [1, 2]}\n",
      "Model Factory (PVBin): Convertido ngram_range [1, 2] para tupla (1, 2)\n",
      "Fitting ProductVectorizerClassifier com 100 amostras...\n",
      "Fit concluído.\n",
      "Model Factory: Criando tipo 'PVBin' com params: {'method': 'binary', 'query': 'binary', 'norm': None, 'query_norm': None, 'ngram_range': [1, 2]}\n",
      "Model Factory (PVBin): Convertido ngram_range [1, 2] para tupla (1, 2)\n",
      "Fitting ProductVectorizerClassifier com 100 amostras...\n",
      "Fit concluído.\n",
      "    Acc Real Geração 99: Max=0.1244, Avg=0.1013, Min=0.1000\n",
      "    F1 Real Geração  99: Max=0.0240, Avg=0.0231, Min=0.0229\n",
      "    Duração Geração 99: 12.97s\n",
      "\n",
      "  Geração 100/100\n"
     ]
    },
    {
     "data": {
      "application/vnd.jupyter.widget-view+json": {
       "model_id": "b7f6f86782844fe89af6241accd841be",
       "version_major": 2,
       "version_minor": 0
      },
      "text/plain": [
       "Fitness Calc Gen 100:   0%|          | 0/20 [00:00<?, ?it/s]"
      ]
     },
     "metadata": {},
     "output_type": "display_data"
    },
    {
     "name": "stdout",
     "output_type": "stream",
     "text": [
      "Model Factory: Criando tipo 'PVBin' com params: {'method': 'binary', 'query': 'binary', 'norm': None, 'query_norm': None, 'ngram_range': [1, 2]}\n",
      "Model Factory (PVBin): Convertido ngram_range [1, 2] para tupla (1, 2)\n",
      "Fitting ProductVectorizerClassifier com 100 amostras...\n",
      "Fit concluído.\n",
      "Model Factory: Criando tipo 'PVBin' com params: {'method': 'binary', 'query': 'binary', 'norm': None, 'query_norm': None, 'ngram_range': [1, 2]}\n",
      "Model Factory (PVBin): Convertido ngram_range [1, 2] para tupla (1, 2)\n",
      "Fitting ProductVectorizerClassifier com 100 amostras...\n",
      "Fit concluído.\n",
      "Model Factory: Criando tipo 'PVBin' com params: {'method': 'binary', 'query': 'binary', 'norm': None, 'query_norm': None, 'ngram_range': [1, 2]}\n",
      "Model Factory (PVBin): Convertido ngram_range [1, 2] para tupla (1, 2)\n",
      "Fitting ProductVectorizerClassifier com 100 amostras...\n",
      "Fit concluído.\n",
      "Model Factory: Criando tipo 'PVBin' com params: {'method': 'binary', 'query': 'binary', 'norm': None, 'query_norm': None, 'ngram_range': [1, 2]}\n",
      "Model Factory (PVBin): Convertido ngram_range [1, 2] para tupla (1, 2)\n",
      "Fitting ProductVectorizerClassifier com 100 amostras...\n",
      "Fit concluído.\n",
      "    Acc Real Geração 100: Max=0.1189, Avg=0.1017, Min=0.1000\n",
      "    F1 Real Geração  100: Max=0.0243, Avg=0.0232, Min=0.0229\n",
      "    Duração Geração 100: 24.67s\n",
      "\n",
      "--- Otimização Genética Concluída (3889.34 seg) ---\n",
      "Melhor Performance Real Encontrada (accuracy_on_full, Objetivo: minimize): 0.1000\n",
      "Salvando histórico da otimização (_ACCURACY_MINIMIZE) em: ag_l0_opt_history_size100minmax_ACCURACY_MINIMIZE.xlsx\n",
      "Salvando L0 (Objetivo: minimize, Perf: 0.1000) em: ag_l0_opt_best_l0_size100minmax_ACCURACY_MINIMIZE.csv\n",
      "\n",
      "=============== Iniciando Otimização de L0 (Tamanho: 100) com AG - Objetivo: MAXIMIZE - Métrica: f1_macro_on_full ===============\n",
      "GeneticL0Optimizer inicializado.\n",
      " - População: 20, Gerações: 100, L0 Size: 100\n",
      " - Objetivo: maximize, Métrica: f1_macro_on_full\n",
      " - Log Detalhado ATIVADO em: d:\\Nuvem\\ghdaru\\OneDrive\\030_DOUTORADO\\120_TESE\\130_TESEGIT\\Tese-Vers-o-Draft\\code\\codigos\\falco_library\\examples\\ag_detailed_fitness_size100minmax_F1_MAXIMIZE.csv\n",
      "\n",
      "--- Iniciando Otimização Genética (Tam: 100, Obj: maximize, Métrica: f1_macro_on_full) ---\n",
      "Inicializando população...\n"
     ]
    },
    {
     "data": {
      "application/vnd.jupyter.widget-view+json": {
       "model_id": "b9382d7eff8144e584505a1bd2a15950",
       "version_major": 2,
       "version_minor": 0
      },
      "text/plain": [
       "Criando População Inicial:   0%|          | 0/20 [00:00<?, ?it/s]"
      ]
     },
     "metadata": {},
     "output_type": "display_data"
    },
    {
     "data": {
      "application/vnd.jupyter.widget-view+json": {
       "model_id": "633d4b081fdd4297afe8fec92d371746",
       "version_major": 2,
       "version_minor": 0
      },
      "text/plain": [
       "Gerações AG:   0%|          | 0/100 [00:00<?, ?it/s]"
      ]
     },
     "metadata": {},
     "output_type": "display_data"
    },
    {
     "name": "stdout",
     "output_type": "stream",
     "text": [
      "\n",
      "  Geração 1/100\n"
     ]
    },
    {
     "data": {
      "application/vnd.jupyter.widget-view+json": {
       "model_id": "8542c5b3b26d463688056b88925cb94a",
       "version_major": 2,
       "version_minor": 0
      },
      "text/plain": [
       "Fitness Calc Gen 1:   0%|          | 0/20 [00:00<?, ?it/s]"
      ]
     },
     "metadata": {},
     "output_type": "display_data"
    },
    {
     "name": "stdout",
     "output_type": "stream",
     "text": [
      "Model Factory: Criando tipo 'PVBin' com params: {'method': 'binary', 'query': 'binary', 'norm': None, 'query_norm': None, 'ngram_range': [1, 2]}\n",
      "Model Factory (PVBin): Convertido ngram_range [1, 2] para tupla (1, 2)\n",
      "Fitting ProductVectorizerClassifier com 100 amostras...\n",
      "Fit concluído.\n",
      "Model Factory: Criando tipo 'PVBin' com params: {'method': 'binary', 'query': 'binary', 'norm': None, 'query_norm': None, 'ngram_range': [1, 2]}\n",
      "Model Factory (PVBin): Convertido ngram_range [1, 2] para tupla (1, 2)\n",
      "Fitting ProductVectorizerClassifier com 100 amostras...\n",
      "Fit concluído.\n",
      "Model Factory: Criando tipo 'PVBin' com params: {'method': 'binary', 'query': 'binary', 'norm': None, 'query_norm': None, 'ngram_range': [1, 2]}\n",
      "Model Factory (PVBin): Convertido ngram_range [1, 2] para tupla (1, 2)\n",
      "Fitting ProductVectorizerClassifier com 100 amostras...\n",
      "Fit concluído.\n",
      "Model Factory: Criando tipo 'PVBin' com params: {'method': 'binary', 'query': 'binary', 'norm': None, 'query_norm': None, 'ngram_range': [1, 2]}\n",
      "Model Factory (PVBin): Convertido ngram_range [1, 2] para tupla (1, 2)\n",
      "Fitting ProductVectorizerClassifier com 100 amostras...\n",
      "Fit concluído.\n",
      "Model Factory: Criando tipo 'PVBin' com params: {'method': 'binary', 'query': 'binary', 'norm': None, 'query_norm': None, 'ngram_range': [1, 2]}\n",
      "Model Factory (PVBin): Convertido ngram_range [1, 2] para tupla (1, 2)\n",
      "Fitting ProductVectorizerClassifier com 100 amostras...\n",
      "Fit concluído.\n",
      "Model Factory: Criando tipo 'PVBin' com params: {'method': 'binary', 'query': 'binary', 'norm': None, 'query_norm': None, 'ngram_range': [1, 2]}\n",
      "Model Factory (PVBin): Convertido ngram_range [1, 2] para tupla (1, 2)\n",
      "Fitting ProductVectorizerClassifier com 100 amostras...\n",
      "Fit concluído.\n",
      "Model Factory: Criando tipo 'PVBin' com params: {'method': 'binary', 'query': 'binary', 'norm': None, 'query_norm': None, 'ngram_range': [1, 2]}\n",
      "Model Factory (PVBin): Convertido ngram_range [1, 2] para tupla (1, 2)\n",
      "Fitting ProductVectorizerClassifier com 100 amostras...\n",
      "Fit concluído.\n",
      "Model Factory: Criando tipo 'PVBin' com params: {'method': 'binary', 'query': 'binary', 'norm': None, 'query_norm': None, 'ngram_range': [1, 2]}\n",
      "Model Factory (PVBin): Convertido ngram_range [1, 2] para tupla (1, 2)\n",
      "Fitting ProductVectorizerClassifier com 100 amostras...\n",
      "Fit concluído.\n",
      "Model Factory: Criando tipo 'PVBin' com params: {'method': 'binary', 'query': 'binary', 'norm': None, 'query_norm': None, 'ngram_range': [1, 2]}\n",
      "Model Factory (PVBin): Convertido ngram_range [1, 2] para tupla (1, 2)\n",
      "Fitting ProductVectorizerClassifier com 100 amostras...\n",
      "Fit concluído.\n",
      "Model Factory: Criando tipo 'PVBin' com params: {'method': 'binary', 'query': 'binary', 'norm': None, 'query_norm': None, 'ngram_range': [1, 2]}\n",
      "Model Factory (PVBin): Convertido ngram_range [1, 2] para tupla (1, 2)\n",
      "Fitting ProductVectorizerClassifier com 100 amostras...\n",
      "Fit concluído.\n",
      "Model Factory: Criando tipo 'PVBin' com params: {'method': 'binary', 'query': 'binary', 'norm': None, 'query_norm': None, 'ngram_range': [1, 2]}\n",
      "Model Factory (PVBin): Convertido ngram_range [1, 2] para tupla (1, 2)\n",
      "Fitting ProductVectorizerClassifier com 100 amostras...\n",
      "Fit concluído.\n",
      "Model Factory: Criando tipo 'PVBin' com params: {'method': 'binary', 'query': 'binary', 'norm': None, 'query_norm': None, 'ngram_range': [1, 2]}\n",
      "Model Factory (PVBin): Convertido ngram_range [1, 2] para tupla (1, 2)\n",
      "Fitting ProductVectorizerClassifier com 100 amostras...\n",
      "Fit concluído.\n",
      "Model Factory: Criando tipo 'PVBin' com params: {'method': 'binary', 'query': 'binary', 'norm': None, 'query_norm': None, 'ngram_range': [1, 2]}\n",
      "Model Factory (PVBin): Convertido ngram_range [1, 2] para tupla (1, 2)\n",
      "Fitting ProductVectorizerClassifier com 100 amostras...\n",
      "Fit concluído.\n",
      "Model Factory: Criando tipo 'PVBin' com params: {'method': 'binary', 'query': 'binary', 'norm': None, 'query_norm': None, 'ngram_range': [1, 2]}\n",
      "Model Factory (PVBin): Convertido ngram_range [1, 2] para tupla (1, 2)\n",
      "Fitting ProductVectorizerClassifier com 100 amostras...\n",
      "Fit concluído.\n",
      "Model Factory: Criando tipo 'PVBin' com params: {'method': 'binary', 'query': 'binary', 'norm': None, 'query_norm': None, 'ngram_range': [1, 2]}\n",
      "Model Factory (PVBin): Convertido ngram_range [1, 2] para tupla (1, 2)\n",
      "Fitting ProductVectorizerClassifier com 100 amostras...\n",
      "Fit concluído.\n",
      "Model Factory: Criando tipo 'PVBin' com params: {'method': 'binary', 'query': 'binary', 'norm': None, 'query_norm': None, 'ngram_range': [1, 2]}\n",
      "Model Factory (PVBin): Convertido ngram_range [1, 2] para tupla (1, 2)\n",
      "Fitting ProductVectorizerClassifier com 100 amostras...\n",
      "Fit concluído.\n",
      "Model Factory: Criando tipo 'PVBin' com params: {'method': 'binary', 'query': 'binary', 'norm': None, 'query_norm': None, 'ngram_range': [1, 2]}\n",
      "Model Factory (PVBin): Convertido ngram_range [1, 2] para tupla (1, 2)\n",
      "Fitting ProductVectorizerClassifier com 100 amostras...\n",
      "Fit concluído.\n",
      "Model Factory: Criando tipo 'PVBin' com params: {'method': 'binary', 'query': 'binary', 'norm': None, 'query_norm': None, 'ngram_range': [1, 2]}\n",
      "Model Factory (PVBin): Convertido ngram_range [1, 2] para tupla (1, 2)\n",
      "Fitting ProductVectorizerClassifier com 100 amostras...\n",
      "Fit concluído.\n",
      "Model Factory: Criando tipo 'PVBin' com params: {'method': 'binary', 'query': 'binary', 'norm': None, 'query_norm': None, 'ngram_range': [1, 2]}\n",
      "Model Factory (PVBin): Convertido ngram_range [1, 2] para tupla (1, 2)\n",
      "Fitting ProductVectorizerClassifier com 100 amostras...\n",
      "Fit concluído.\n",
      "Model Factory: Criando tipo 'PVBin' com params: {'method': 'binary', 'query': 'binary', 'norm': None, 'query_norm': None, 'ngram_range': [1, 2]}\n",
      "Model Factory (PVBin): Convertido ngram_range [1, 2] para tupla (1, 2)\n",
      "Fitting ProductVectorizerClassifier com 100 amostras...\n",
      "Fit concluído.\n",
      "    Novo melhor (Obj: maximize): Perf Real=0.0382\n",
      "    Acc Real Geração 1: Max=0.2755, Avg=0.2470, Min=0.2091\n",
      "    F1 Real Geração  1: Max=0.0382, Avg=0.0328, Min=0.0269\n",
      "    Duração Geração 1: 121.22s\n",
      "\n",
      "  Geração 2/100\n"
     ]
    },
    {
     "data": {
      "application/vnd.jupyter.widget-view+json": {
       "model_id": "2faa3c5ff06446c3a9b7a1a83a92e37f",
       "version_major": 2,
       "version_minor": 0
      },
      "text/plain": [
       "Fitness Calc Gen 2:   0%|          | 0/20 [00:00<?, ?it/s]"
      ]
     },
     "metadata": {},
     "output_type": "display_data"
    },
    {
     "name": "stdout",
     "output_type": "stream",
     "text": [
      "Model Factory: Criando tipo 'PVBin' com params: {'method': 'binary', 'query': 'binary', 'norm': None, 'query_norm': None, 'ngram_range': [1, 2]}\n",
      "Model Factory (PVBin): Convertido ngram_range [1, 2] para tupla (1, 2)\n",
      "Fitting ProductVectorizerClassifier com 100 amostras...\n",
      "Fit concluído.\n",
      "Model Factory: Criando tipo 'PVBin' com params: {'method': 'binary', 'query': 'binary', 'norm': None, 'query_norm': None, 'ngram_range': [1, 2]}\n",
      "Model Factory (PVBin): Convertido ngram_range [1, 2] para tupla (1, 2)\n",
      "Fitting ProductVectorizerClassifier com 100 amostras...\n",
      "Fit concluído.\n",
      "Model Factory: Criando tipo 'PVBin' com params: {'method': 'binary', 'query': 'binary', 'norm': None, 'query_norm': None, 'ngram_range': [1, 2]}\n",
      "Model Factory (PVBin): Convertido ngram_range [1, 2] para tupla (1, 2)\n",
      "Fitting ProductVectorizerClassifier com 100 amostras...\n",
      "Fit concluído.\n",
      "Model Factory: Criando tipo 'PVBin' com params: {'method': 'binary', 'query': 'binary', 'norm': None, 'query_norm': None, 'ngram_range': [1, 2]}\n",
      "Model Factory (PVBin): Convertido ngram_range [1, 2] para tupla (1, 2)\n",
      "Fitting ProductVectorizerClassifier com 100 amostras...\n",
      "Fit concluído.\n",
      "Model Factory: Criando tipo 'PVBin' com params: {'method': 'binary', 'query': 'binary', 'norm': None, 'query_norm': None, 'ngram_range': [1, 2]}\n",
      "Model Factory (PVBin): Convertido ngram_range [1, 2] para tupla (1, 2)\n",
      "Fitting ProductVectorizerClassifier com 100 amostras...\n",
      "Fit concluído.\n",
      "Model Factory: Criando tipo 'PVBin' com params: {'method': 'binary', 'query': 'binary', 'norm': None, 'query_norm': None, 'ngram_range': [1, 2]}\n",
      "Model Factory (PVBin): Convertido ngram_range [1, 2] para tupla (1, 2)\n",
      "Fitting ProductVectorizerClassifier com 100 amostras...\n",
      "Fit concluído.\n",
      "Model Factory: Criando tipo 'PVBin' com params: {'method': 'binary', 'query': 'binary', 'norm': None, 'query_norm': None, 'ngram_range': [1, 2]}\n",
      "Model Factory (PVBin): Convertido ngram_range [1, 2] para tupla (1, 2)\n",
      "Fitting ProductVectorizerClassifier com 100 amostras...\n",
      "Fit concluído.\n",
      "Model Factory: Criando tipo 'PVBin' com params: {'method': 'binary', 'query': 'binary', 'norm': None, 'query_norm': None, 'ngram_range': [1, 2]}\n",
      "Model Factory (PVBin): Convertido ngram_range [1, 2] para tupla (1, 2)\n",
      "Fitting ProductVectorizerClassifier com 100 amostras...\n",
      "Fit concluído.\n",
      "Model Factory: Criando tipo 'PVBin' com params: {'method': 'binary', 'query': 'binary', 'norm': None, 'query_norm': None, 'ngram_range': [1, 2]}\n",
      "Model Factory (PVBin): Convertido ngram_range [1, 2] para tupla (1, 2)\n",
      "Fitting ProductVectorizerClassifier com 100 amostras...\n",
      "Fit concluído.\n",
      "Model Factory: Criando tipo 'PVBin' com params: {'method': 'binary', 'query': 'binary', 'norm': None, 'query_norm': None, 'ngram_range': [1, 2]}\n",
      "Model Factory (PVBin): Convertido ngram_range [1, 2] para tupla (1, 2)\n",
      "Fitting ProductVectorizerClassifier com 100 amostras...\n",
      "Fit concluído.\n",
      "Model Factory: Criando tipo 'PVBin' com params: {'method': 'binary', 'query': 'binary', 'norm': None, 'query_norm': None, 'ngram_range': [1, 2]}\n",
      "Model Factory (PVBin): Convertido ngram_range [1, 2] para tupla (1, 2)\n",
      "Fitting ProductVectorizerClassifier com 100 amostras...\n",
      "Fit concluído.\n",
      "Model Factory: Criando tipo 'PVBin' com params: {'method': 'binary', 'query': 'binary', 'norm': None, 'query_norm': None, 'ngram_range': [1, 2]}\n",
      "Model Factory (PVBin): Convertido ngram_range [1, 2] para tupla (1, 2)\n",
      "Fitting ProductVectorizerClassifier com 100 amostras...\n",
      "Fit concluído.\n",
      "Model Factory: Criando tipo 'PVBin' com params: {'method': 'binary', 'query': 'binary', 'norm': None, 'query_norm': None, 'ngram_range': [1, 2]}\n",
      "Model Factory (PVBin): Convertido ngram_range [1, 2] para tupla (1, 2)\n",
      "Fitting ProductVectorizerClassifier com 100 amostras...\n",
      "Fit concluído.\n",
      "Model Factory: Criando tipo 'PVBin' com params: {'method': 'binary', 'query': 'binary', 'norm': None, 'query_norm': None, 'ngram_range': [1, 2]}\n",
      "Model Factory (PVBin): Convertido ngram_range [1, 2] para tupla (1, 2)\n",
      "Fitting ProductVectorizerClassifier com 100 amostras...\n",
      "Fit concluído.\n",
      "Model Factory: Criando tipo 'PVBin' com params: {'method': 'binary', 'query': 'binary', 'norm': None, 'query_norm': None, 'ngram_range': [1, 2]}\n",
      "Model Factory (PVBin): Convertido ngram_range [1, 2] para tupla (1, 2)\n",
      "Fitting ProductVectorizerClassifier com 100 amostras...\n",
      "Fit concluído.\n",
      "Model Factory: Criando tipo 'PVBin' com params: {'method': 'binary', 'query': 'binary', 'norm': None, 'query_norm': None, 'ngram_range': [1, 2]}\n",
      "Model Factory (PVBin): Convertido ngram_range [1, 2] para tupla (1, 2)\n",
      "Fitting ProductVectorizerClassifier com 100 amostras...\n",
      "Fit concluído.\n",
      "    Acc Real Geração 2: Max=0.2822, Avg=0.2556, Min=0.1961\n",
      "    F1 Real Geração  2: Max=0.0382, Avg=0.0346, Min=0.0277\n",
      "    Duração Geração 2: 97.65s\n",
      "\n",
      "  Geração 3/100\n"
     ]
    },
    {
     "data": {
      "application/vnd.jupyter.widget-view+json": {
       "model_id": "239b9c8449ab43098cd38dd164bca8d1",
       "version_major": 2,
       "version_minor": 0
      },
      "text/plain": [
       "Fitness Calc Gen 3:   0%|          | 0/20 [00:00<?, ?it/s]"
      ]
     },
     "metadata": {},
     "output_type": "display_data"
    },
    {
     "name": "stdout",
     "output_type": "stream",
     "text": [
      "Model Factory: Criando tipo 'PVBin' com params: {'method': 'binary', 'query': 'binary', 'norm': None, 'query_norm': None, 'ngram_range': [1, 2]}\n",
      "Model Factory (PVBin): Convertido ngram_range [1, 2] para tupla (1, 2)\n",
      "Fitting ProductVectorizerClassifier com 100 amostras...\n",
      "Fit concluído.\n",
      "Model Factory: Criando tipo 'PVBin' com params: {'method': 'binary', 'query': 'binary', 'norm': None, 'query_norm': None, 'ngram_range': [1, 2]}\n",
      "Model Factory (PVBin): Convertido ngram_range [1, 2] para tupla (1, 2)\n",
      "Fitting ProductVectorizerClassifier com 100 amostras...\n",
      "Fit concluído.\n",
      "Model Factory: Criando tipo 'PVBin' com params: {'method': 'binary', 'query': 'binary', 'norm': None, 'query_norm': None, 'ngram_range': [1, 2]}\n",
      "Model Factory (PVBin): Convertido ngram_range [1, 2] para tupla (1, 2)\n",
      "Fitting ProductVectorizerClassifier com 100 amostras...\n",
      "Fit concluído.\n",
      "Model Factory: Criando tipo 'PVBin' com params: {'method': 'binary', 'query': 'binary', 'norm': None, 'query_norm': None, 'ngram_range': [1, 2]}\n",
      "Model Factory (PVBin): Convertido ngram_range [1, 2] para tupla (1, 2)\n",
      "Fitting ProductVectorizerClassifier com 100 amostras...\n",
      "Fit concluído.\n",
      "Model Factory: Criando tipo 'PVBin' com params: {'method': 'binary', 'query': 'binary', 'norm': None, 'query_norm': None, 'ngram_range': [1, 2]}\n",
      "Model Factory (PVBin): Convertido ngram_range [1, 2] para tupla (1, 2)\n",
      "Fitting ProductVectorizerClassifier com 100 amostras...\n",
      "Fit concluído.\n",
      "Model Factory: Criando tipo 'PVBin' com params: {'method': 'binary', 'query': 'binary', 'norm': None, 'query_norm': None, 'ngram_range': [1, 2]}\n",
      "Model Factory (PVBin): Convertido ngram_range [1, 2] para tupla (1, 2)\n",
      "Fitting ProductVectorizerClassifier com 100 amostras...\n",
      "Fit concluído.\n",
      "Model Factory: Criando tipo 'PVBin' com params: {'method': 'binary', 'query': 'binary', 'norm': None, 'query_norm': None, 'ngram_range': [1, 2]}\n",
      "Model Factory (PVBin): Convertido ngram_range [1, 2] para tupla (1, 2)\n",
      "Fitting ProductVectorizerClassifier com 100 amostras...\n",
      "Fit concluído.\n",
      "Model Factory: Criando tipo 'PVBin' com params: {'method': 'binary', 'query': 'binary', 'norm': None, 'query_norm': None, 'ngram_range': [1, 2]}\n",
      "Model Factory (PVBin): Convertido ngram_range [1, 2] para tupla (1, 2)\n",
      "Fitting ProductVectorizerClassifier com 100 amostras...\n",
      "Fit concluído.\n",
      "Model Factory: Criando tipo 'PVBin' com params: {'method': 'binary', 'query': 'binary', 'norm': None, 'query_norm': None, 'ngram_range': [1, 2]}\n",
      "Model Factory (PVBin): Convertido ngram_range [1, 2] para tupla (1, 2)\n",
      "Fitting ProductVectorizerClassifier com 100 amostras...\n",
      "Fit concluído.\n",
      "Model Factory: Criando tipo 'PVBin' com params: {'method': 'binary', 'query': 'binary', 'norm': None, 'query_norm': None, 'ngram_range': [1, 2]}\n",
      "Model Factory (PVBin): Convertido ngram_range [1, 2] para tupla (1, 2)\n",
      "Fitting ProductVectorizerClassifier com 100 amostras...\n",
      "Fit concluído.\n",
      "Model Factory: Criando tipo 'PVBin' com params: {'method': 'binary', 'query': 'binary', 'norm': None, 'query_norm': None, 'ngram_range': [1, 2]}\n",
      "Model Factory (PVBin): Convertido ngram_range [1, 2] para tupla (1, 2)\n",
      "Fitting ProductVectorizerClassifier com 100 amostras...\n",
      "Fit concluído.\n",
      "    Acc Real Geração 3: Max=0.2777, Avg=0.2604, Min=0.2372\n",
      "    F1 Real Geração  3: Max=0.0382, Avg=0.0360, Min=0.0328\n",
      "    Duração Geração 3: 67.87s\n",
      "\n",
      "  Geração 4/100\n"
     ]
    },
    {
     "data": {
      "application/vnd.jupyter.widget-view+json": {
       "model_id": "175a9758987948cf8c41f4dc0f482a4e",
       "version_major": 2,
       "version_minor": 0
      },
      "text/plain": [
       "Fitness Calc Gen 4:   0%|          | 0/20 [00:00<?, ?it/s]"
      ]
     },
     "metadata": {},
     "output_type": "display_data"
    },
    {
     "name": "stdout",
     "output_type": "stream",
     "text": [
      "Model Factory: Criando tipo 'PVBin' com params: {'method': 'binary', 'query': 'binary', 'norm': None, 'query_norm': None, 'ngram_range': [1, 2]}\n",
      "Model Factory (PVBin): Convertido ngram_range [1, 2] para tupla (1, 2)\n",
      "Fitting ProductVectorizerClassifier com 100 amostras...\n",
      "Fit concluído.\n",
      "Model Factory: Criando tipo 'PVBin' com params: {'method': 'binary', 'query': 'binary', 'norm': None, 'query_norm': None, 'ngram_range': [1, 2]}\n",
      "Model Factory (PVBin): Convertido ngram_range [1, 2] para tupla (1, 2)\n",
      "Fitting ProductVectorizerClassifier com 100 amostras...\n",
      "Fit concluído.\n",
      "Model Factory: Criando tipo 'PVBin' com params: {'method': 'binary', 'query': 'binary', 'norm': None, 'query_norm': None, 'ngram_range': [1, 2]}\n",
      "Model Factory (PVBin): Convertido ngram_range [1, 2] para tupla (1, 2)\n",
      "Fitting ProductVectorizerClassifier com 100 amostras...\n",
      "Fit concluído.\n",
      "Model Factory: Criando tipo 'PVBin' com params: {'method': 'binary', 'query': 'binary', 'norm': None, 'query_norm': None, 'ngram_range': [1, 2]}\n",
      "Model Factory (PVBin): Convertido ngram_range [1, 2] para tupla (1, 2)\n",
      "Fitting ProductVectorizerClassifier com 100 amostras...\n",
      "Fit concluído.\n",
      "Model Factory: Criando tipo 'PVBin' com params: {'method': 'binary', 'query': 'binary', 'norm': None, 'query_norm': None, 'ngram_range': [1, 2]}\n",
      "Model Factory (PVBin): Convertido ngram_range [1, 2] para tupla (1, 2)\n",
      "Fitting ProductVectorizerClassifier com 100 amostras...\n",
      "Fit concluído.\n",
      "Model Factory: Criando tipo 'PVBin' com params: {'method': 'binary', 'query': 'binary', 'norm': None, 'query_norm': None, 'ngram_range': [1, 2]}\n",
      "Model Factory (PVBin): Convertido ngram_range [1, 2] para tupla (1, 2)\n",
      "Fitting ProductVectorizerClassifier com 100 amostras...\n",
      "Fit concluído.\n",
      "Model Factory: Criando tipo 'PVBin' com params: {'method': 'binary', 'query': 'binary', 'norm': None, 'query_norm': None, 'ngram_range': [1, 2]}\n",
      "Model Factory (PVBin): Convertido ngram_range [1, 2] para tupla (1, 2)\n",
      "Fitting ProductVectorizerClassifier com 100 amostras...\n",
      "Fit concluído.\n",
      "Model Factory: Criando tipo 'PVBin' com params: {'method': 'binary', 'query': 'binary', 'norm': None, 'query_norm': None, 'ngram_range': [1, 2]}\n",
      "Model Factory (PVBin): Convertido ngram_range [1, 2] para tupla (1, 2)\n",
      "Fitting ProductVectorizerClassifier com 100 amostras...\n",
      "Fit concluído.\n",
      "Model Factory: Criando tipo 'PVBin' com params: {'method': 'binary', 'query': 'binary', 'norm': None, 'query_norm': None, 'ngram_range': [1, 2]}\n",
      "Model Factory (PVBin): Convertido ngram_range [1, 2] para tupla (1, 2)\n",
      "Fitting ProductVectorizerClassifier com 100 amostras...\n",
      "Fit concluído.\n",
      "Model Factory: Criando tipo 'PVBin' com params: {'method': 'binary', 'query': 'binary', 'norm': None, 'query_norm': None, 'ngram_range': [1, 2]}\n",
      "Model Factory (PVBin): Convertido ngram_range [1, 2] para tupla (1, 2)\n",
      "Fitting ProductVectorizerClassifier com 100 amostras...\n",
      "Fit concluído.\n",
      "Model Factory: Criando tipo 'PVBin' com params: {'method': 'binary', 'query': 'binary', 'norm': None, 'query_norm': None, 'ngram_range': [1, 2]}\n",
      "Model Factory (PVBin): Convertido ngram_range [1, 2] para tupla (1, 2)\n",
      "Fitting ProductVectorizerClassifier com 100 amostras...\n",
      "Fit concluído.\n",
      "Model Factory: Criando tipo 'PVBin' com params: {'method': 'binary', 'query': 'binary', 'norm': None, 'query_norm': None, 'ngram_range': [1, 2]}\n",
      "Model Factory (PVBin): Convertido ngram_range [1, 2] para tupla (1, 2)\n",
      "Fitting ProductVectorizerClassifier com 100 amostras...\n",
      "Fit concluído.\n",
      "Model Factory: Criando tipo 'PVBin' com params: {'method': 'binary', 'query': 'binary', 'norm': None, 'query_norm': None, 'ngram_range': [1, 2]}\n",
      "Model Factory (PVBin): Convertido ngram_range [1, 2] para tupla (1, 2)\n",
      "Fitting ProductVectorizerClassifier com 100 amostras...\n",
      "Fit concluído.\n",
      "Model Factory: Criando tipo 'PVBin' com params: {'method': 'binary', 'query': 'binary', 'norm': None, 'query_norm': None, 'ngram_range': [1, 2]}\n",
      "Model Factory (PVBin): Convertido ngram_range [1, 2] para tupla (1, 2)\n",
      "Fitting ProductVectorizerClassifier com 100 amostras...\n",
      "Fit concluído.\n",
      "    Novo melhor (Obj: maximize): Perf Real=0.0407\n",
      "    Acc Real Geração 4: Max=0.2799, Avg=0.2584, Min=0.2412\n",
      "    F1 Real Geração  4: Max=0.0407, Avg=0.0369, Min=0.0328\n",
      "    Duração Geração 4: 86.08s\n",
      "\n",
      "  Geração 5/100\n"
     ]
    },
    {
     "data": {
      "application/vnd.jupyter.widget-view+json": {
       "model_id": "30f90a792bd04ef99c5426a4ff5c7015",
       "version_major": 2,
       "version_minor": 0
      },
      "text/plain": [
       "Fitness Calc Gen 5:   0%|          | 0/20 [00:00<?, ?it/s]"
      ]
     },
     "metadata": {},
     "output_type": "display_data"
    },
    {
     "name": "stdout",
     "output_type": "stream",
     "text": [
      "Model Factory: Criando tipo 'PVBin' com params: {'method': 'binary', 'query': 'binary', 'norm': None, 'query_norm': None, 'ngram_range': [1, 2]}\n",
      "Model Factory (PVBin): Convertido ngram_range [1, 2] para tupla (1, 2)\n",
      "Fitting ProductVectorizerClassifier com 100 amostras...\n",
      "Fit concluído.\n",
      "Model Factory: Criando tipo 'PVBin' com params: {'method': 'binary', 'query': 'binary', 'norm': None, 'query_norm': None, 'ngram_range': [1, 2]}\n",
      "Model Factory (PVBin): Convertido ngram_range [1, 2] para tupla (1, 2)\n",
      "Fitting ProductVectorizerClassifier com 100 amostras...\n",
      "Fit concluído.\n",
      "Model Factory: Criando tipo 'PVBin' com params: {'method': 'binary', 'query': 'binary', 'norm': None, 'query_norm': None, 'ngram_range': [1, 2]}\n",
      "Model Factory (PVBin): Convertido ngram_range [1, 2] para tupla (1, 2)\n",
      "Fitting ProductVectorizerClassifier com 100 amostras...\n",
      "Fit concluído.\n",
      "Model Factory: Criando tipo 'PVBin' com params: {'method': 'binary', 'query': 'binary', 'norm': None, 'query_norm': None, 'ngram_range': [1, 2]}\n",
      "Model Factory (PVBin): Convertido ngram_range [1, 2] para tupla (1, 2)\n",
      "Fitting ProductVectorizerClassifier com 100 amostras...\n",
      "Fit concluído.\n",
      "Model Factory: Criando tipo 'PVBin' com params: {'method': 'binary', 'query': 'binary', 'norm': None, 'query_norm': None, 'ngram_range': [1, 2]}\n",
      "Model Factory (PVBin): Convertido ngram_range [1, 2] para tupla (1, 2)\n",
      "Fitting ProductVectorizerClassifier com 100 amostras...\n",
      "Fit concluído.\n",
      "Model Factory: Criando tipo 'PVBin' com params: {'method': 'binary', 'query': 'binary', 'norm': None, 'query_norm': None, 'ngram_range': [1, 2]}\n",
      "Model Factory (PVBin): Convertido ngram_range [1, 2] para tupla (1, 2)\n",
      "Fitting ProductVectorizerClassifier com 100 amostras...\n",
      "Fit concluído.\n",
      "Model Factory: Criando tipo 'PVBin' com params: {'method': 'binary', 'query': 'binary', 'norm': None, 'query_norm': None, 'ngram_range': [1, 2]}\n",
      "Model Factory (PVBin): Convertido ngram_range [1, 2] para tupla (1, 2)\n",
      "Fitting ProductVectorizerClassifier com 100 amostras...\n",
      "Fit concluído.\n",
      "Model Factory: Criando tipo 'PVBin' com params: {'method': 'binary', 'query': 'binary', 'norm': None, 'query_norm': None, 'ngram_range': [1, 2]}\n",
      "Model Factory (PVBin): Convertido ngram_range [1, 2] para tupla (1, 2)\n",
      "Fitting ProductVectorizerClassifier com 100 amostras...\n",
      "Fit concluído.\n",
      "Model Factory: Criando tipo 'PVBin' com params: {'method': 'binary', 'query': 'binary', 'norm': None, 'query_norm': None, 'ngram_range': [1, 2]}\n",
      "Model Factory (PVBin): Convertido ngram_range [1, 2] para tupla (1, 2)\n",
      "Fitting ProductVectorizerClassifier com 100 amostras...\n",
      "Fit concluído.\n",
      "Model Factory: Criando tipo 'PVBin' com params: {'method': 'binary', 'query': 'binary', 'norm': None, 'query_norm': None, 'ngram_range': [1, 2]}\n",
      "Model Factory (PVBin): Convertido ngram_range [1, 2] para tupla (1, 2)\n",
      "Fitting ProductVectorizerClassifier com 100 amostras...\n",
      "Fit concluído.\n",
      "Model Factory: Criando tipo 'PVBin' com params: {'method': 'binary', 'query': 'binary', 'norm': None, 'query_norm': None, 'ngram_range': [1, 2]}\n",
      "Model Factory (PVBin): Convertido ngram_range [1, 2] para tupla (1, 2)\n",
      "Fitting ProductVectorizerClassifier com 100 amostras...\n",
      "Fit concluído.\n",
      "    Novo melhor (Obj: maximize): Perf Real=0.0422\n",
      "    Acc Real Geração 5: Max=0.2799, Avg=0.2614, Min=0.2278\n",
      "    F1 Real Geração  5: Max=0.0422, Avg=0.0382, Min=0.0339\n",
      "    Duração Geração 5: 66.54s\n",
      "\n",
      "  Geração 6/100\n"
     ]
    },
    {
     "data": {
      "application/vnd.jupyter.widget-view+json": {
       "model_id": "4281386d84d34ed8b01e4c378a2d397d",
       "version_major": 2,
       "version_minor": 0
      },
      "text/plain": [
       "Fitness Calc Gen 6:   0%|          | 0/20 [00:00<?, ?it/s]"
      ]
     },
     "metadata": {},
     "output_type": "display_data"
    },
    {
     "name": "stdout",
     "output_type": "stream",
     "text": [
      "Model Factory: Criando tipo 'PVBin' com params: {'method': 'binary', 'query': 'binary', 'norm': None, 'query_norm': None, 'ngram_range': [1, 2]}\n",
      "Model Factory (PVBin): Convertido ngram_range [1, 2] para tupla (1, 2)\n",
      "Fitting ProductVectorizerClassifier com 100 amostras...\n",
      "Fit concluído.\n",
      "Model Factory: Criando tipo 'PVBin' com params: {'method': 'binary', 'query': 'binary', 'norm': None, 'query_norm': None, 'ngram_range': [1, 2]}\n",
      "Model Factory (PVBin): Convertido ngram_range [1, 2] para tupla (1, 2)\n",
      "Fitting ProductVectorizerClassifier com 100 amostras...\n",
      "Fit concluído.\n",
      "Model Factory: Criando tipo 'PVBin' com params: {'method': 'binary', 'query': 'binary', 'norm': None, 'query_norm': None, 'ngram_range': [1, 2]}\n",
      "Model Factory (PVBin): Convertido ngram_range [1, 2] para tupla (1, 2)\n",
      "Fitting ProductVectorizerClassifier com 100 amostras...\n",
      "Fit concluído.\n",
      "Model Factory: Criando tipo 'PVBin' com params: {'method': 'binary', 'query': 'binary', 'norm': None, 'query_norm': None, 'ngram_range': [1, 2]}\n",
      "Model Factory (PVBin): Convertido ngram_range [1, 2] para tupla (1, 2)\n",
      "Fitting ProductVectorizerClassifier com 100 amostras...\n",
      "Fit concluído.\n",
      "Model Factory: Criando tipo 'PVBin' com params: {'method': 'binary', 'query': 'binary', 'norm': None, 'query_norm': None, 'ngram_range': [1, 2]}\n",
      "Model Factory (PVBin): Convertido ngram_range [1, 2] para tupla (1, 2)\n",
      "Fitting ProductVectorizerClassifier com 100 amostras...\n",
      "Fit concluído.\n",
      "Model Factory: Criando tipo 'PVBin' com params: {'method': 'binary', 'query': 'binary', 'norm': None, 'query_norm': None, 'ngram_range': [1, 2]}\n",
      "Model Factory (PVBin): Convertido ngram_range [1, 2] para tupla (1, 2)\n",
      "Fitting ProductVectorizerClassifier com 100 amostras...\n",
      "Fit concluído.\n",
      "Model Factory: Criando tipo 'PVBin' com params: {'method': 'binary', 'query': 'binary', 'norm': None, 'query_norm': None, 'ngram_range': [1, 2]}\n",
      "Model Factory (PVBin): Convertido ngram_range [1, 2] para tupla (1, 2)\n",
      "Fitting ProductVectorizerClassifier com 100 amostras...\n",
      "Fit concluído.\n",
      "Model Factory: Criando tipo 'PVBin' com params: {'method': 'binary', 'query': 'binary', 'norm': None, 'query_norm': None, 'ngram_range': [1, 2]}\n",
      "Model Factory (PVBin): Convertido ngram_range [1, 2] para tupla (1, 2)\n",
      "Fitting ProductVectorizerClassifier com 100 amostras...\n",
      "Fit concluído.\n",
      "Model Factory: Criando tipo 'PVBin' com params: {'method': 'binary', 'query': 'binary', 'norm': None, 'query_norm': None, 'ngram_range': [1, 2]}\n",
      "Model Factory (PVBin): Convertido ngram_range [1, 2] para tupla (1, 2)\n",
      "Fitting ProductVectorizerClassifier com 100 amostras...\n",
      "Fit concluído.\n",
      "Model Factory: Criando tipo 'PVBin' com params: {'method': 'binary', 'query': 'binary', 'norm': None, 'query_norm': None, 'ngram_range': [1, 2]}\n",
      "Model Factory (PVBin): Convertido ngram_range [1, 2] para tupla (1, 2)\n",
      "Fitting ProductVectorizerClassifier com 100 amostras...\n",
      "Fit concluído.\n",
      "Model Factory: Criando tipo 'PVBin' com params: {'method': 'binary', 'query': 'binary', 'norm': None, 'query_norm': None, 'ngram_range': [1, 2]}\n",
      "Model Factory (PVBin): Convertido ngram_range [1, 2] para tupla (1, 2)\n",
      "Fitting ProductVectorizerClassifier com 100 amostras...\n",
      "Fit concluído.\n",
      "Model Factory: Criando tipo 'PVBin' com params: {'method': 'binary', 'query': 'binary', 'norm': None, 'query_norm': None, 'ngram_range': [1, 2]}\n",
      "Model Factory (PVBin): Convertido ngram_range [1, 2] para tupla (1, 2)\n",
      "Fitting ProductVectorizerClassifier com 100 amostras...\n",
      "Fit concluído.\n",
      "    Novo melhor (Obj: maximize): Perf Real=0.0449\n",
      "    Acc Real Geração 6: Max=0.2815, Avg=0.2713, Min=0.2530\n",
      "    F1 Real Geração  6: Max=0.0449, Avg=0.0400, Min=0.0364\n",
      "    Duração Geração 6: 74.06s\n",
      "\n",
      "  Geração 7/100\n"
     ]
    },
    {
     "data": {
      "application/vnd.jupyter.widget-view+json": {
       "model_id": "ed754b26e2ab4672825b4a2a45480a31",
       "version_major": 2,
       "version_minor": 0
      },
      "text/plain": [
       "Fitness Calc Gen 7:   0%|          | 0/20 [00:00<?, ?it/s]"
      ]
     },
     "metadata": {},
     "output_type": "display_data"
    },
    {
     "name": "stdout",
     "output_type": "stream",
     "text": [
      "Model Factory: Criando tipo 'PVBin' com params: {'method': 'binary', 'query': 'binary', 'norm': None, 'query_norm': None, 'ngram_range': [1, 2]}\n",
      "Model Factory (PVBin): Convertido ngram_range [1, 2] para tupla (1, 2)\n",
      "Fitting ProductVectorizerClassifier com 100 amostras...\n",
      "Fit concluído.\n",
      "Model Factory: Criando tipo 'PVBin' com params: {'method': 'binary', 'query': 'binary', 'norm': None, 'query_norm': None, 'ngram_range': [1, 2]}\n",
      "Model Factory (PVBin): Convertido ngram_range [1, 2] para tupla (1, 2)\n",
      "Fitting ProductVectorizerClassifier com 100 amostras...\n",
      "Fit concluído.\n",
      "Model Factory: Criando tipo 'PVBin' com params: {'method': 'binary', 'query': 'binary', 'norm': None, 'query_norm': None, 'ngram_range': [1, 2]}\n",
      "Model Factory (PVBin): Convertido ngram_range [1, 2] para tupla (1, 2)\n",
      "Fitting ProductVectorizerClassifier com 100 amostras...\n",
      "Fit concluído.\n",
      "Model Factory: Criando tipo 'PVBin' com params: {'method': 'binary', 'query': 'binary', 'norm': None, 'query_norm': None, 'ngram_range': [1, 2]}\n",
      "Model Factory (PVBin): Convertido ngram_range [1, 2] para tupla (1, 2)\n",
      "Fitting ProductVectorizerClassifier com 100 amostras...\n",
      "Fit concluído.\n",
      "Model Factory: Criando tipo 'PVBin' com params: {'method': 'binary', 'query': 'binary', 'norm': None, 'query_norm': None, 'ngram_range': [1, 2]}\n",
      "Model Factory (PVBin): Convertido ngram_range [1, 2] para tupla (1, 2)\n",
      "Fitting ProductVectorizerClassifier com 100 amostras...\n",
      "Fit concluído.\n",
      "Model Factory: Criando tipo 'PVBin' com params: {'method': 'binary', 'query': 'binary', 'norm': None, 'query_norm': None, 'ngram_range': [1, 2]}\n",
      "Model Factory (PVBin): Convertido ngram_range [1, 2] para tupla (1, 2)\n",
      "Fitting ProductVectorizerClassifier com 100 amostras...\n",
      "Fit concluído.\n",
      "Model Factory: Criando tipo 'PVBin' com params: {'method': 'binary', 'query': 'binary', 'norm': None, 'query_norm': None, 'ngram_range': [1, 2]}\n",
      "Model Factory (PVBin): Convertido ngram_range [1, 2] para tupla (1, 2)\n",
      "Fitting ProductVectorizerClassifier com 100 amostras...\n",
      "Fit concluído.\n",
      "Model Factory: Criando tipo 'PVBin' com params: {'method': 'binary', 'query': 'binary', 'norm': None, 'query_norm': None, 'ngram_range': [1, 2]}\n",
      "Model Factory (PVBin): Convertido ngram_range [1, 2] para tupla (1, 2)\n",
      "Fitting ProductVectorizerClassifier com 100 amostras...\n",
      "Fit concluído.\n",
      "    Acc Real Geração 7: Max=0.2799, Avg=0.2700, Min=0.2625\n",
      "    F1 Real Geração  7: Max=0.0449, Avg=0.0410, Min=0.0386\n",
      "    Duração Geração 7: 47.88s\n",
      "\n",
      "  Geração 8/100\n"
     ]
    },
    {
     "data": {
      "application/vnd.jupyter.widget-view+json": {
       "model_id": "9945b282a0ec4f4e84bf32967c198fda",
       "version_major": 2,
       "version_minor": 0
      },
      "text/plain": [
       "Fitness Calc Gen 8:   0%|          | 0/20 [00:00<?, ?it/s]"
      ]
     },
     "metadata": {},
     "output_type": "display_data"
    },
    {
     "name": "stdout",
     "output_type": "stream",
     "text": [
      "Model Factory: Criando tipo 'PVBin' com params: {'method': 'binary', 'query': 'binary', 'norm': None, 'query_norm': None, 'ngram_range': [1, 2]}\n",
      "Model Factory (PVBin): Convertido ngram_range [1, 2] para tupla (1, 2)\n",
      "Fitting ProductVectorizerClassifier com 100 amostras...\n",
      "Fit concluído.\n",
      "Model Factory: Criando tipo 'PVBin' com params: {'method': 'binary', 'query': 'binary', 'norm': None, 'query_norm': None, 'ngram_range': [1, 2]}\n",
      "Model Factory (PVBin): Convertido ngram_range [1, 2] para tupla (1, 2)\n",
      "Fitting ProductVectorizerClassifier com 100 amostras...\n",
      "Fit concluído.\n",
      "Model Factory: Criando tipo 'PVBin' com params: {'method': 'binary', 'query': 'binary', 'norm': None, 'query_norm': None, 'ngram_range': [1, 2]}\n",
      "Model Factory (PVBin): Convertido ngram_range [1, 2] para tupla (1, 2)\n",
      "Fitting ProductVectorizerClassifier com 100 amostras...\n",
      "Fit concluído.\n",
      "Model Factory: Criando tipo 'PVBin' com params: {'method': 'binary', 'query': 'binary', 'norm': None, 'query_norm': None, 'ngram_range': [1, 2]}\n",
      "Model Factory (PVBin): Convertido ngram_range [1, 2] para tupla (1, 2)\n",
      "Fitting ProductVectorizerClassifier com 100 amostras...\n",
      "Fit concluído.\n",
      "Model Factory: Criando tipo 'PVBin' com params: {'method': 'binary', 'query': 'binary', 'norm': None, 'query_norm': None, 'ngram_range': [1, 2]}\n",
      "Model Factory (PVBin): Convertido ngram_range [1, 2] para tupla (1, 2)\n",
      "Fitting ProductVectorizerClassifier com 100 amostras...\n",
      "Fit concluído.\n",
      "Model Factory: Criando tipo 'PVBin' com params: {'method': 'binary', 'query': 'binary', 'norm': None, 'query_norm': None, 'ngram_range': [1, 2]}\n",
      "Model Factory (PVBin): Convertido ngram_range [1, 2] para tupla (1, 2)\n",
      "Fitting ProductVectorizerClassifier com 100 amostras...\n",
      "Fit concluído.\n",
      "Model Factory: Criando tipo 'PVBin' com params: {'method': 'binary', 'query': 'binary', 'norm': None, 'query_norm': None, 'ngram_range': [1, 2]}\n",
      "Model Factory (PVBin): Convertido ngram_range [1, 2] para tupla (1, 2)\n",
      "Fitting ProductVectorizerClassifier com 100 amostras...\n",
      "Fit concluído.\n",
      "Model Factory: Criando tipo 'PVBin' com params: {'method': 'binary', 'query': 'binary', 'norm': None, 'query_norm': None, 'ngram_range': [1, 2]}\n",
      "Model Factory (PVBin): Convertido ngram_range [1, 2] para tupla (1, 2)\n",
      "Fitting ProductVectorizerClassifier com 100 amostras...\n",
      "Fit concluído.\n",
      "Model Factory: Criando tipo 'PVBin' com params: {'method': 'binary', 'query': 'binary', 'norm': None, 'query_norm': None, 'ngram_range': [1, 2]}\n",
      "Model Factory (PVBin): Convertido ngram_range [1, 2] para tupla (1, 2)\n",
      "Fitting ProductVectorizerClassifier com 100 amostras...\n",
      "Fit concluído.\n",
      "    Acc Real Geração 8: Max=0.2808, Avg=0.2651, Min=0.2531\n",
      "    F1 Real Geração  8: Max=0.0449, Avg=0.0422, Min=0.0373\n",
      "    Duração Geração 8: 54.74s\n",
      "\n",
      "  Geração 9/100\n"
     ]
    },
    {
     "data": {
      "application/vnd.jupyter.widget-view+json": {
       "model_id": "069455e035d84704a00a4bcfcb8fc48a",
       "version_major": 2,
       "version_minor": 0
      },
      "text/plain": [
       "Fitness Calc Gen 9:   0%|          | 0/20 [00:00<?, ?it/s]"
      ]
     },
     "metadata": {},
     "output_type": "display_data"
    },
    {
     "name": "stdout",
     "output_type": "stream",
     "text": [
      "Model Factory: Criando tipo 'PVBin' com params: {'method': 'binary', 'query': 'binary', 'norm': None, 'query_norm': None, 'ngram_range': [1, 2]}\n",
      "Model Factory (PVBin): Convertido ngram_range [1, 2] para tupla (1, 2)\n",
      "Fitting ProductVectorizerClassifier com 100 amostras...\n",
      "Fit concluído.\n",
      "Model Factory: Criando tipo 'PVBin' com params: {'method': 'binary', 'query': 'binary', 'norm': None, 'query_norm': None, 'ngram_range': [1, 2]}\n",
      "Model Factory (PVBin): Convertido ngram_range [1, 2] para tupla (1, 2)\n",
      "Fitting ProductVectorizerClassifier com 100 amostras...\n",
      "Fit concluído.\n",
      "Model Factory: Criando tipo 'PVBin' com params: {'method': 'binary', 'query': 'binary', 'norm': None, 'query_norm': None, 'ngram_range': [1, 2]}\n",
      "Model Factory (PVBin): Convertido ngram_range [1, 2] para tupla (1, 2)\n",
      "Fitting ProductVectorizerClassifier com 100 amostras...\n",
      "Fit concluído.\n",
      "Model Factory: Criando tipo 'PVBin' com params: {'method': 'binary', 'query': 'binary', 'norm': None, 'query_norm': None, 'ngram_range': [1, 2]}\n",
      "Model Factory (PVBin): Convertido ngram_range [1, 2] para tupla (1, 2)\n",
      "Fitting ProductVectorizerClassifier com 100 amostras...\n",
      "Fit concluído.\n",
      "Model Factory: Criando tipo 'PVBin' com params: {'method': 'binary', 'query': 'binary', 'norm': None, 'query_norm': None, 'ngram_range': [1, 2]}\n",
      "Model Factory (PVBin): Convertido ngram_range [1, 2] para tupla (1, 2)\n",
      "Fitting ProductVectorizerClassifier com 100 amostras...\n",
      "Fit concluído.\n",
      "Model Factory: Criando tipo 'PVBin' com params: {'method': 'binary', 'query': 'binary', 'norm': None, 'query_norm': None, 'ngram_range': [1, 2]}\n",
      "Model Factory (PVBin): Convertido ngram_range [1, 2] para tupla (1, 2)\n",
      "Fitting ProductVectorizerClassifier com 100 amostras...\n",
      "Fit concluído.\n",
      "Model Factory: Criando tipo 'PVBin' com params: {'method': 'binary', 'query': 'binary', 'norm': None, 'query_norm': None, 'ngram_range': [1, 2]}\n",
      "Model Factory (PVBin): Convertido ngram_range [1, 2] para tupla (1, 2)\n",
      "Fitting ProductVectorizerClassifier com 100 amostras...\n",
      "Fit concluído.\n",
      "Model Factory: Criando tipo 'PVBin' com params: {'method': 'binary', 'query': 'binary', 'norm': None, 'query_norm': None, 'ngram_range': [1, 2]}\n",
      "Model Factory (PVBin): Convertido ngram_range [1, 2] para tupla (1, 2)\n",
      "Fitting ProductVectorizerClassifier com 100 amostras...\n",
      "Fit concluído.\n",
      "Model Factory: Criando tipo 'PVBin' com params: {'method': 'binary', 'query': 'binary', 'norm': None, 'query_norm': None, 'ngram_range': [1, 2]}\n",
      "Model Factory (PVBin): Convertido ngram_range [1, 2] para tupla (1, 2)\n",
      "Fitting ProductVectorizerClassifier com 100 amostras...\n",
      "Fit concluído.\n",
      "Model Factory: Criando tipo 'PVBin' com params: {'method': 'binary', 'query': 'binary', 'norm': None, 'query_norm': None, 'ngram_range': [1, 2]}\n",
      "Model Factory (PVBin): Convertido ngram_range [1, 2] para tupla (1, 2)\n",
      "Fitting ProductVectorizerClassifier com 100 amostras...\n",
      "Fit concluído.\n",
      "Model Factory: Criando tipo 'PVBin' com params: {'method': 'binary', 'query': 'binary', 'norm': None, 'query_norm': None, 'ngram_range': [1, 2]}\n",
      "Model Factory (PVBin): Convertido ngram_range [1, 2] para tupla (1, 2)\n",
      "Fitting ProductVectorizerClassifier com 100 amostras...\n",
      "Fit concluído.\n",
      "    Acc Real Geração 9: Max=0.2738, Avg=0.2647, Min=0.2519\n",
      "    F1 Real Geração  9: Max=0.0449, Avg=0.0432, Min=0.0403\n",
      "    Duração Geração 9: 67.84s\n",
      "\n",
      "  Geração 10/100\n"
     ]
    },
    {
     "data": {
      "application/vnd.jupyter.widget-view+json": {
       "model_id": "d84741dfc3514b8197fa810cf10e164f",
       "version_major": 2,
       "version_minor": 0
      },
      "text/plain": [
       "Fitness Calc Gen 10:   0%|          | 0/20 [00:00<?, ?it/s]"
      ]
     },
     "metadata": {},
     "output_type": "display_data"
    },
    {
     "name": "stdout",
     "output_type": "stream",
     "text": [
      "Model Factory: Criando tipo 'PVBin' com params: {'method': 'binary', 'query': 'binary', 'norm': None, 'query_norm': None, 'ngram_range': [1, 2]}\n",
      "Model Factory (PVBin): Convertido ngram_range [1, 2] para tupla (1, 2)\n",
      "Fitting ProductVectorizerClassifier com 100 amostras...\n",
      "Fit concluído.\n",
      "Model Factory: Criando tipo 'PVBin' com params: {'method': 'binary', 'query': 'binary', 'norm': None, 'query_norm': None, 'ngram_range': [1, 2]}\n",
      "Model Factory (PVBin): Convertido ngram_range [1, 2] para tupla (1, 2)\n",
      "Fitting ProductVectorizerClassifier com 100 amostras...\n",
      "Fit concluído.\n",
      "Model Factory: Criando tipo 'PVBin' com params: {'method': 'binary', 'query': 'binary', 'norm': None, 'query_norm': None, 'ngram_range': [1, 2]}\n",
      "Model Factory (PVBin): Convertido ngram_range [1, 2] para tupla (1, 2)\n",
      "Fitting ProductVectorizerClassifier com 100 amostras...\n",
      "Fit concluído.\n",
      "Model Factory: Criando tipo 'PVBin' com params: {'method': 'binary', 'query': 'binary', 'norm': None, 'query_norm': None, 'ngram_range': [1, 2]}\n",
      "Model Factory (PVBin): Convertido ngram_range [1, 2] para tupla (1, 2)\n",
      "Fitting ProductVectorizerClassifier com 100 amostras...\n",
      "Fit concluído.\n",
      "Model Factory: Criando tipo 'PVBin' com params: {'method': 'binary', 'query': 'binary', 'norm': None, 'query_norm': None, 'ngram_range': [1, 2]}\n",
      "Model Factory (PVBin): Convertido ngram_range [1, 2] para tupla (1, 2)\n",
      "Fitting ProductVectorizerClassifier com 100 amostras...\n",
      "Fit concluído.\n",
      "    Acc Real Geração 10: Max=0.2717, Avg=0.2640, Min=0.2568\n",
      "    F1 Real Geração  10: Max=0.0449, Avg=0.0442, Min=0.0416\n",
      "    Duração Geração 10: 30.68s\n",
      "\n",
      "  Geração 11/100\n"
     ]
    },
    {
     "data": {
      "application/vnd.jupyter.widget-view+json": {
       "model_id": "56d20d0a649a4e52a7ff7a33108837f8",
       "version_major": 2,
       "version_minor": 0
      },
      "text/plain": [
       "Fitness Calc Gen 11:   0%|          | 0/20 [00:00<?, ?it/s]"
      ]
     },
     "metadata": {},
     "output_type": "display_data"
    },
    {
     "name": "stdout",
     "output_type": "stream",
     "text": [
      "Model Factory: Criando tipo 'PVBin' com params: {'method': 'binary', 'query': 'binary', 'norm': None, 'query_norm': None, 'ngram_range': [1, 2]}\n",
      "Model Factory (PVBin): Convertido ngram_range [1, 2] para tupla (1, 2)\n",
      "Fitting ProductVectorizerClassifier com 100 amostras...\n",
      "Fit concluído.\n",
      "Model Factory: Criando tipo 'PVBin' com params: {'method': 'binary', 'query': 'binary', 'norm': None, 'query_norm': None, 'ngram_range': [1, 2]}\n",
      "Model Factory (PVBin): Convertido ngram_range [1, 2] para tupla (1, 2)\n",
      "Fitting ProductVectorizerClassifier com 100 amostras...\n",
      "Fit concluído.\n",
      "Model Factory: Criando tipo 'PVBin' com params: {'method': 'binary', 'query': 'binary', 'norm': None, 'query_norm': None, 'ngram_range': [1, 2]}\n",
      "Model Factory (PVBin): Convertido ngram_range [1, 2] para tupla (1, 2)\n",
      "Fitting ProductVectorizerClassifier com 100 amostras...\n",
      "Fit concluído.\n",
      "    Acc Real Geração 11: Max=0.2705, Avg=0.2633, Min=0.2597\n",
      "    F1 Real Geração  11: Max=0.0449, Avg=0.0445, Min=0.0407\n",
      "    Duração Geração 11: 18.26s\n",
      "\n",
      "  Geração 12/100\n"
     ]
    },
    {
     "data": {
      "application/vnd.jupyter.widget-view+json": {
       "model_id": "e1b70c5b51ad472b96c9475c4a33f020",
       "version_major": 2,
       "version_minor": 0
      },
      "text/plain": [
       "Fitness Calc Gen 12:   0%|          | 0/20 [00:00<?, ?it/s]"
      ]
     },
     "metadata": {},
     "output_type": "display_data"
    },
    {
     "name": "stdout",
     "output_type": "stream",
     "text": [
      "Model Factory: Criando tipo 'PVBin' com params: {'method': 'binary', 'query': 'binary', 'norm': None, 'query_norm': None, 'ngram_range': [1, 2]}\n",
      "Model Factory (PVBin): Convertido ngram_range [1, 2] para tupla (1, 2)\n",
      "Fitting ProductVectorizerClassifier com 100 amostras...\n",
      "Fit concluído.\n",
      "Model Factory: Criando tipo 'PVBin' com params: {'method': 'binary', 'query': 'binary', 'norm': None, 'query_norm': None, 'ngram_range': [1, 2]}\n",
      "Model Factory (PVBin): Convertido ngram_range [1, 2] para tupla (1, 2)\n",
      "Fitting ProductVectorizerClassifier com 100 amostras...\n",
      "Fit concluído.\n",
      "    Acc Real Geração 12: Max=0.2631, Avg=0.2630, Min=0.2611\n",
      "    F1 Real Geração  12: Max=0.0449, Avg=0.0445, Min=0.0406\n",
      "    Duração Geração 12: 12.39s\n",
      "\n",
      "  Geração 13/100\n"
     ]
    },
    {
     "data": {
      "application/vnd.jupyter.widget-view+json": {
       "model_id": "a040418581d94cfaa153905d0da5e3cd",
       "version_major": 2,
       "version_minor": 0
      },
      "text/plain": [
       "Fitness Calc Gen 13:   0%|          | 0/20 [00:00<?, ?it/s]"
      ]
     },
     "metadata": {},
     "output_type": "display_data"
    },
    {
     "name": "stdout",
     "output_type": "stream",
     "text": [
      "Model Factory: Criando tipo 'PVBin' com params: {'method': 'binary', 'query': 'binary', 'norm': None, 'query_norm': None, 'ngram_range': [1, 2]}\n",
      "Model Factory (PVBin): Convertido ngram_range [1, 2] para tupla (1, 2)\n",
      "Fitting ProductVectorizerClassifier com 100 amostras...\n",
      "Fit concluído.\n",
      "Model Factory: Criando tipo 'PVBin' com params: {'method': 'binary', 'query': 'binary', 'norm': None, 'query_norm': None, 'ngram_range': [1, 2]}\n",
      "Model Factory (PVBin): Convertido ngram_range [1, 2] para tupla (1, 2)\n",
      "Fitting ProductVectorizerClassifier com 100 amostras...\n",
      "Fit concluído.\n",
      "Model Factory: Criando tipo 'PVBin' com params: {'method': 'binary', 'query': 'binary', 'norm': None, 'query_norm': None, 'ngram_range': [1, 2]}\n",
      "Model Factory (PVBin): Convertido ngram_range [1, 2] para tupla (1, 2)\n",
      "Fitting ProductVectorizerClassifier com 100 amostras...\n",
      "Fit concluído.\n",
      "    Novo melhor (Obj: maximize): Perf Real=0.0453\n",
      "    Acc Real Geração 13: Max=0.2689, Avg=0.2631, Min=0.2592\n",
      "    F1 Real Geração  13: Max=0.0453, Avg=0.0447, Min=0.0424\n",
      "    Duração Geração 13: 19.09s\n",
      "\n",
      "  Geração 14/100\n"
     ]
    },
    {
     "data": {
      "application/vnd.jupyter.widget-view+json": {
       "model_id": "21c4b70210204b368e1df6103a4570bd",
       "version_major": 2,
       "version_minor": 0
      },
      "text/plain": [
       "Fitness Calc Gen 14:   0%|          | 0/20 [00:00<?, ?it/s]"
      ]
     },
     "metadata": {},
     "output_type": "display_data"
    },
    {
     "name": "stdout",
     "output_type": "stream",
     "text": [
      "Model Factory: Criando tipo 'PVBin' com params: {'method': 'binary', 'query': 'binary', 'norm': None, 'query_norm': None, 'ngram_range': [1, 2]}\n",
      "Model Factory (PVBin): Convertido ngram_range [1, 2] para tupla (1, 2)\n",
      "Fitting ProductVectorizerClassifier com 100 amostras...\n",
      "Fit concluído.\n",
      "Model Factory: Criando tipo 'PVBin' com params: {'method': 'binary', 'query': 'binary', 'norm': None, 'query_norm': None, 'ngram_range': [1, 2]}\n",
      "Model Factory (PVBin): Convertido ngram_range [1, 2] para tupla (1, 2)\n",
      "Fitting ProductVectorizerClassifier com 100 amostras...\n",
      "Fit concluído.\n",
      "Model Factory: Criando tipo 'PVBin' com params: {'method': 'binary', 'query': 'binary', 'norm': None, 'query_norm': None, 'ngram_range': [1, 2]}\n",
      "Model Factory (PVBin): Convertido ngram_range [1, 2] para tupla (1, 2)\n",
      "Fitting ProductVectorizerClassifier com 100 amostras...\n",
      "Fit concluído.\n",
      "Model Factory: Criando tipo 'PVBin' com params: {'method': 'binary', 'query': 'binary', 'norm': None, 'query_norm': None, 'ngram_range': [1, 2]}\n",
      "Model Factory (PVBin): Convertido ngram_range [1, 2] para tupla (1, 2)\n",
      "Fitting ProductVectorizerClassifier com 100 amostras...\n",
      "Fit concluído.\n",
      "Model Factory: Criando tipo 'PVBin' com params: {'method': 'binary', 'query': 'binary', 'norm': None, 'query_norm': None, 'ngram_range': [1, 2]}\n",
      "Model Factory (PVBin): Convertido ngram_range [1, 2] para tupla (1, 2)\n",
      "Fitting ProductVectorizerClassifier com 100 amostras...\n",
      "Fit concluído.\n",
      "Model Factory: Criando tipo 'PVBin' com params: {'method': 'binary', 'query': 'binary', 'norm': None, 'query_norm': None, 'ngram_range': [1, 2]}\n",
      "Model Factory (PVBin): Convertido ngram_range [1, 2] para tupla (1, 2)\n",
      "Fitting ProductVectorizerClassifier com 100 amostras...\n",
      "Fit concluído.\n",
      "Model Factory: Criando tipo 'PVBin' com params: {'method': 'binary', 'query': 'binary', 'norm': None, 'query_norm': None, 'ngram_range': [1, 2]}\n",
      "Model Factory (PVBin): Convertido ngram_range [1, 2] para tupla (1, 2)\n",
      "Fitting ProductVectorizerClassifier com 100 amostras...\n",
      "Fit concluído.\n",
      "Model Factory: Criando tipo 'PVBin' com params: {'method': 'binary', 'query': 'binary', 'norm': None, 'query_norm': None, 'ngram_range': [1, 2]}\n",
      "Model Factory (PVBin): Convertido ngram_range [1, 2] para tupla (1, 2)\n",
      "Fitting ProductVectorizerClassifier com 100 amostras...\n",
      "Fit concluído.\n",
      "    Novo melhor (Obj: maximize): Perf Real=0.0460\n",
      "    Acc Real Geração 14: Max=0.2691, Avg=0.2639, Min=0.2580\n",
      "    F1 Real Geração  14: Max=0.0460, Avg=0.0444, Min=0.0411\n",
      "    Duração Geração 14: 49.95s\n",
      "\n",
      "  Geração 15/100\n"
     ]
    },
    {
     "data": {
      "application/vnd.jupyter.widget-view+json": {
       "model_id": "a8aa2ac875334a1984e95e5dceb1e32e",
       "version_major": 2,
       "version_minor": 0
      },
      "text/plain": [
       "Fitness Calc Gen 15:   0%|          | 0/20 [00:00<?, ?it/s]"
      ]
     },
     "metadata": {},
     "output_type": "display_data"
    },
    {
     "name": "stdout",
     "output_type": "stream",
     "text": [
      "Model Factory: Criando tipo 'PVBin' com params: {'method': 'binary', 'query': 'binary', 'norm': None, 'query_norm': None, 'ngram_range': [1, 2]}\n",
      "Model Factory (PVBin): Convertido ngram_range [1, 2] para tupla (1, 2)\n",
      "Fitting ProductVectorizerClassifier com 100 amostras...\n",
      "Fit concluído.\n",
      "Model Factory: Criando tipo 'PVBin' com params: {'method': 'binary', 'query': 'binary', 'norm': None, 'query_norm': None, 'ngram_range': [1, 2]}\n",
      "Model Factory (PVBin): Convertido ngram_range [1, 2] para tupla (1, 2)\n",
      "Fitting ProductVectorizerClassifier com 100 amostras...\n",
      "Fit concluído.\n",
      "Model Factory: Criando tipo 'PVBin' com params: {'method': 'binary', 'query': 'binary', 'norm': None, 'query_norm': None, 'ngram_range': [1, 2]}\n",
      "Model Factory (PVBin): Convertido ngram_range [1, 2] para tupla (1, 2)\n",
      "Fitting ProductVectorizerClassifier com 100 amostras...\n",
      "Fit concluído.\n",
      "Model Factory: Criando tipo 'PVBin' com params: {'method': 'binary', 'query': 'binary', 'norm': None, 'query_norm': None, 'ngram_range': [1, 2]}\n",
      "Model Factory (PVBin): Convertido ngram_range [1, 2] para tupla (1, 2)\n",
      "Fitting ProductVectorizerClassifier com 100 amostras...\n",
      "Fit concluído.\n",
      "Model Factory: Criando tipo 'PVBin' com params: {'method': 'binary', 'query': 'binary', 'norm': None, 'query_norm': None, 'ngram_range': [1, 2]}\n",
      "Model Factory (PVBin): Convertido ngram_range [1, 2] para tupla (1, 2)\n",
      "Fitting ProductVectorizerClassifier com 100 amostras...\n",
      "Fit concluído.\n",
      "Model Factory: Criando tipo 'PVBin' com params: {'method': 'binary', 'query': 'binary', 'norm': None, 'query_norm': None, 'ngram_range': [1, 2]}\n",
      "Model Factory (PVBin): Convertido ngram_range [1, 2] para tupla (1, 2)\n",
      "Fitting ProductVectorizerClassifier com 100 amostras...\n",
      "Fit concluído.\n",
      "Model Factory: Criando tipo 'PVBin' com params: {'method': 'binary', 'query': 'binary', 'norm': None, 'query_norm': None, 'ngram_range': [1, 2]}\n",
      "Model Factory (PVBin): Convertido ngram_range [1, 2] para tupla (1, 2)\n",
      "Fitting ProductVectorizerClassifier com 100 amostras...\n",
      "Fit concluído.\n",
      "Model Factory: Criando tipo 'PVBin' com params: {'method': 'binary', 'query': 'binary', 'norm': None, 'query_norm': None, 'ngram_range': [1, 2]}\n",
      "Model Factory (PVBin): Convertido ngram_range [1, 2] para tupla (1, 2)\n",
      "Fitting ProductVectorizerClassifier com 100 amostras...\n",
      "Fit concluído.\n",
      "Model Factory: Criando tipo 'PVBin' com params: {'method': 'binary', 'query': 'binary', 'norm': None, 'query_norm': None, 'ngram_range': [1, 2]}\n",
      "Model Factory (PVBin): Convertido ngram_range [1, 2] para tupla (1, 2)\n",
      "Fitting ProductVectorizerClassifier com 100 amostras...\n",
      "Fit concluído.\n",
      "    Acc Real Geração 15: Max=0.2724, Avg=0.2661, Min=0.2579\n",
      "    F1 Real Geração  15: Max=0.0460, Avg=0.0448, Min=0.0415\n",
      "    Duração Geração 15: 55.82s\n",
      "\n",
      "  Geração 16/100\n"
     ]
    },
    {
     "data": {
      "application/vnd.jupyter.widget-view+json": {
       "model_id": "a209bbb366244340a97c8a855d48cacf",
       "version_major": 2,
       "version_minor": 0
      },
      "text/plain": [
       "Fitness Calc Gen 16:   0%|          | 0/20 [00:00<?, ?it/s]"
      ]
     },
     "metadata": {},
     "output_type": "display_data"
    },
    {
     "name": "stdout",
     "output_type": "stream",
     "text": [
      "Model Factory: Criando tipo 'PVBin' com params: {'method': 'binary', 'query': 'binary', 'norm': None, 'query_norm': None, 'ngram_range': [1, 2]}\n",
      "Model Factory (PVBin): Convertido ngram_range [1, 2] para tupla (1, 2)\n",
      "Fitting ProductVectorizerClassifier com 100 amostras...\n",
      "Fit concluído.\n",
      "Model Factory: Criando tipo 'PVBin' com params: {'method': 'binary', 'query': 'binary', 'norm': None, 'query_norm': None, 'ngram_range': [1, 2]}\n",
      "Model Factory (PVBin): Convertido ngram_range [1, 2] para tupla (1, 2)\n",
      "Fitting ProductVectorizerClassifier com 100 amostras...\n",
      "Fit concluído.\n",
      "Model Factory: Criando tipo 'PVBin' com params: {'method': 'binary', 'query': 'binary', 'norm': None, 'query_norm': None, 'ngram_range': [1, 2]}\n",
      "Model Factory (PVBin): Convertido ngram_range [1, 2] para tupla (1, 2)\n",
      "Fitting ProductVectorizerClassifier com 100 amostras...\n",
      "Fit concluído.\n",
      "Model Factory: Criando tipo 'PVBin' com params: {'method': 'binary', 'query': 'binary', 'norm': None, 'query_norm': None, 'ngram_range': [1, 2]}\n",
      "Model Factory (PVBin): Convertido ngram_range [1, 2] para tupla (1, 2)\n",
      "Fitting ProductVectorizerClassifier com 100 amostras...\n",
      "Fit concluído.\n",
      "Model Factory: Criando tipo 'PVBin' com params: {'method': 'binary', 'query': 'binary', 'norm': None, 'query_norm': None, 'ngram_range': [1, 2]}\n",
      "Model Factory (PVBin): Convertido ngram_range [1, 2] para tupla (1, 2)\n",
      "Fitting ProductVectorizerClassifier com 100 amostras...\n",
      "Fit concluído.\n",
      "Model Factory: Criando tipo 'PVBin' com params: {'method': 'binary', 'query': 'binary', 'norm': None, 'query_norm': None, 'ngram_range': [1, 2]}\n",
      "Model Factory (PVBin): Convertido ngram_range [1, 2] para tupla (1, 2)\n",
      "Fitting ProductVectorizerClassifier com 100 amostras...\n",
      "Fit concluído.\n",
      "    Acc Real Geração 16: Max=0.2755, Avg=0.2672, Min=0.2514\n",
      "    F1 Real Geração  16: Max=0.0460, Avg=0.0452, Min=0.0426\n",
      "    Duração Geração 16: 36.26s\n",
      "\n",
      "  Geração 17/100\n"
     ]
    },
    {
     "data": {
      "application/vnd.jupyter.widget-view+json": {
       "model_id": "6b3d5667a1824c6ab831f5afbdfd041e",
       "version_major": 2,
       "version_minor": 0
      },
      "text/plain": [
       "Fitness Calc Gen 17:   0%|          | 0/20 [00:00<?, ?it/s]"
      ]
     },
     "metadata": {},
     "output_type": "display_data"
    },
    {
     "name": "stdout",
     "output_type": "stream",
     "text": [
      "Model Factory: Criando tipo 'PVBin' com params: {'method': 'binary', 'query': 'binary', 'norm': None, 'query_norm': None, 'ngram_range': [1, 2]}\n",
      "Model Factory (PVBin): Convertido ngram_range [1, 2] para tupla (1, 2)\n",
      "Fitting ProductVectorizerClassifier com 100 amostras...\n",
      "Fit concluído.\n",
      "Model Factory: Criando tipo 'PVBin' com params: {'method': 'binary', 'query': 'binary', 'norm': None, 'query_norm': None, 'ngram_range': [1, 2]}\n",
      "Model Factory (PVBin): Convertido ngram_range [1, 2] para tupla (1, 2)\n",
      "Fitting ProductVectorizerClassifier com 100 amostras...\n",
      "Fit concluído.\n",
      "Model Factory: Criando tipo 'PVBin' com params: {'method': 'binary', 'query': 'binary', 'norm': None, 'query_norm': None, 'ngram_range': [1, 2]}\n",
      "Model Factory (PVBin): Convertido ngram_range [1, 2] para tupla (1, 2)\n",
      "Fitting ProductVectorizerClassifier com 100 amostras...\n",
      "Fit concluído.\n",
      "Model Factory: Criando tipo 'PVBin' com params: {'method': 'binary', 'query': 'binary', 'norm': None, 'query_norm': None, 'ngram_range': [1, 2]}\n",
      "Model Factory (PVBin): Convertido ngram_range [1, 2] para tupla (1, 2)\n",
      "Fitting ProductVectorizerClassifier com 100 amostras...\n",
      "Fit concluído.\n",
      "Model Factory: Criando tipo 'PVBin' com params: {'method': 'binary', 'query': 'binary', 'norm': None, 'query_norm': None, 'ngram_range': [1, 2]}\n",
      "Model Factory (PVBin): Convertido ngram_range [1, 2] para tupla (1, 2)\n",
      "Fitting ProductVectorizerClassifier com 100 amostras...\n",
      "Fit concluído.\n",
      "Model Factory: Criando tipo 'PVBin' com params: {'method': 'binary', 'query': 'binary', 'norm': None, 'query_norm': None, 'ngram_range': [1, 2]}\n",
      "Model Factory (PVBin): Convertido ngram_range [1, 2] para tupla (1, 2)\n",
      "Fitting ProductVectorizerClassifier com 100 amostras...\n",
      "Fit concluído.\n",
      "    Novo melhor (Obj: maximize): Perf Real=0.0471\n",
      "    Acc Real Geração 17: Max=0.2779, Avg=0.2697, Min=0.2631\n",
      "    F1 Real Geração  17: Max=0.0471, Avg=0.0459, Min=0.0441\n",
      "    Duração Geração 17: 36.17s\n",
      "\n",
      "  Geração 18/100\n"
     ]
    },
    {
     "data": {
      "application/vnd.jupyter.widget-view+json": {
       "model_id": "239f39241799459699eccfc1a5cb1454",
       "version_major": 2,
       "version_minor": 0
      },
      "text/plain": [
       "Fitness Calc Gen 18:   0%|          | 0/20 [00:00<?, ?it/s]"
      ]
     },
     "metadata": {},
     "output_type": "display_data"
    },
    {
     "name": "stdout",
     "output_type": "stream",
     "text": [
      "Model Factory: Criando tipo 'PVBin' com params: {'method': 'binary', 'query': 'binary', 'norm': None, 'query_norm': None, 'ngram_range': [1, 2]}\n",
      "Model Factory (PVBin): Convertido ngram_range [1, 2] para tupla (1, 2)\n",
      "Fitting ProductVectorizerClassifier com 100 amostras...\n",
      "Fit concluído.\n",
      "Model Factory: Criando tipo 'PVBin' com params: {'method': 'binary', 'query': 'binary', 'norm': None, 'query_norm': None, 'ngram_range': [1, 2]}\n",
      "Model Factory (PVBin): Convertido ngram_range [1, 2] para tupla (1, 2)\n",
      "Fitting ProductVectorizerClassifier com 100 amostras...\n",
      "Fit concluído.\n",
      "Model Factory: Criando tipo 'PVBin' com params: {'method': 'binary', 'query': 'binary', 'norm': None, 'query_norm': None, 'ngram_range': [1, 2]}\n",
      "Model Factory (PVBin): Convertido ngram_range [1, 2] para tupla (1, 2)\n",
      "Fitting ProductVectorizerClassifier com 100 amostras...\n",
      "Fit concluído.\n",
      "Model Factory: Criando tipo 'PVBin' com params: {'method': 'binary', 'query': 'binary', 'norm': None, 'query_norm': None, 'ngram_range': [1, 2]}\n",
      "Model Factory (PVBin): Convertido ngram_range [1, 2] para tupla (1, 2)\n",
      "Fitting ProductVectorizerClassifier com 100 amostras...\n",
      "Fit concluído.\n",
      "Model Factory: Criando tipo 'PVBin' com params: {'method': 'binary', 'query': 'binary', 'norm': None, 'query_norm': None, 'ngram_range': [1, 2]}\n",
      "Model Factory (PVBin): Convertido ngram_range [1, 2] para tupla (1, 2)\n",
      "Fitting ProductVectorizerClassifier com 100 amostras...\n",
      "Fit concluído.\n",
      "Model Factory: Criando tipo 'PVBin' com params: {'method': 'binary', 'query': 'binary', 'norm': None, 'query_norm': None, 'ngram_range': [1, 2]}\n",
      "Model Factory (PVBin): Convertido ngram_range [1, 2] para tupla (1, 2)\n",
      "Fitting ProductVectorizerClassifier com 100 amostras...\n",
      "Fit concluído.\n",
      "Model Factory: Criando tipo 'PVBin' com params: {'method': 'binary', 'query': 'binary', 'norm': None, 'query_norm': None, 'ngram_range': [1, 2]}\n",
      "Model Factory (PVBin): Convertido ngram_range [1, 2] para tupla (1, 2)\n",
      "Fitting ProductVectorizerClassifier com 100 amostras...\n",
      "Fit concluído.\n",
      "Model Factory: Criando tipo 'PVBin' com params: {'method': 'binary', 'query': 'binary', 'norm': None, 'query_norm': None, 'ngram_range': [1, 2]}\n",
      "Model Factory (PVBin): Convertido ngram_range [1, 2] para tupla (1, 2)\n",
      "Fitting ProductVectorizerClassifier com 100 amostras...\n",
      "Fit concluído.\n",
      "Model Factory: Criando tipo 'PVBin' com params: {'method': 'binary', 'query': 'binary', 'norm': None, 'query_norm': None, 'ngram_range': [1, 2]}\n",
      "Model Factory (PVBin): Convertido ngram_range [1, 2] para tupla (1, 2)\n",
      "Fitting ProductVectorizerClassifier com 100 amostras...\n",
      "Fit concluído.\n",
      "Model Factory: Criando tipo 'PVBin' com params: {'method': 'binary', 'query': 'binary', 'norm': None, 'query_norm': None, 'ngram_range': [1, 2]}\n",
      "Model Factory (PVBin): Convertido ngram_range [1, 2] para tupla (1, 2)\n",
      "Fitting ProductVectorizerClassifier com 100 amostras...\n",
      "Fit concluído.\n",
      "    Acc Real Geração 18: Max=0.2841, Avg=0.2690, Min=0.2516\n",
      "    F1 Real Geração  18: Max=0.0471, Avg=0.0456, Min=0.0418\n",
      "    Duração Geração 18: 60.77s\n",
      "\n",
      "  Geração 19/100\n"
     ]
    },
    {
     "data": {
      "application/vnd.jupyter.widget-view+json": {
       "model_id": "4a44411f8c824fa3bed16ce80afbfafb",
       "version_major": 2,
       "version_minor": 0
      },
      "text/plain": [
       "Fitness Calc Gen 19:   0%|          | 0/20 [00:00<?, ?it/s]"
      ]
     },
     "metadata": {},
     "output_type": "display_data"
    },
    {
     "name": "stdout",
     "output_type": "stream",
     "text": [
      "Model Factory: Criando tipo 'PVBin' com params: {'method': 'binary', 'query': 'binary', 'norm': None, 'query_norm': None, 'ngram_range': [1, 2]}\n",
      "Model Factory (PVBin): Convertido ngram_range [1, 2] para tupla (1, 2)\n",
      "Fitting ProductVectorizerClassifier com 100 amostras...\n",
      "Fit concluído.\n",
      "Model Factory: Criando tipo 'PVBin' com params: {'method': 'binary', 'query': 'binary', 'norm': None, 'query_norm': None, 'ngram_range': [1, 2]}\n",
      "Model Factory (PVBin): Convertido ngram_range [1, 2] para tupla (1, 2)\n",
      "Fitting ProductVectorizerClassifier com 100 amostras...\n",
      "Fit concluído.\n",
      "Model Factory: Criando tipo 'PVBin' com params: {'method': 'binary', 'query': 'binary', 'norm': None, 'query_norm': None, 'ngram_range': [1, 2]}\n",
      "Model Factory (PVBin): Convertido ngram_range [1, 2] para tupla (1, 2)\n",
      "Fitting ProductVectorizerClassifier com 100 amostras...\n",
      "Fit concluído.\n",
      "Model Factory: Criando tipo 'PVBin' com params: {'method': 'binary', 'query': 'binary', 'norm': None, 'query_norm': None, 'ngram_range': [1, 2]}\n",
      "Model Factory (PVBin): Convertido ngram_range [1, 2] para tupla (1, 2)\n",
      "Fitting ProductVectorizerClassifier com 100 amostras...\n",
      "Fit concluído.\n",
      "Model Factory: Criando tipo 'PVBin' com params: {'method': 'binary', 'query': 'binary', 'norm': None, 'query_norm': None, 'ngram_range': [1, 2]}\n",
      "Model Factory (PVBin): Convertido ngram_range [1, 2] para tupla (1, 2)\n",
      "Fitting ProductVectorizerClassifier com 100 amostras...\n",
      "Fit concluído.\n",
      "Model Factory: Criando tipo 'PVBin' com params: {'method': 'binary', 'query': 'binary', 'norm': None, 'query_norm': None, 'ngram_range': [1, 2]}\n",
      "Model Factory (PVBin): Convertido ngram_range [1, 2] para tupla (1, 2)\n",
      "Fitting ProductVectorizerClassifier com 100 amostras...\n",
      "Fit concluído.\n",
      "Model Factory: Criando tipo 'PVBin' com params: {'method': 'binary', 'query': 'binary', 'norm': None, 'query_norm': None, 'ngram_range': [1, 2]}\n",
      "Model Factory (PVBin): Convertido ngram_range [1, 2] para tupla (1, 2)\n",
      "Fitting ProductVectorizerClassifier com 100 amostras...\n",
      "Fit concluído.\n",
      "Model Factory: Criando tipo 'PVBin' com params: {'method': 'binary', 'query': 'binary', 'norm': None, 'query_norm': None, 'ngram_range': [1, 2]}\n",
      "Model Factory (PVBin): Convertido ngram_range [1, 2] para tupla (1, 2)\n",
      "Fitting ProductVectorizerClassifier com 100 amostras...\n",
      "Fit concluído.\n",
      "Model Factory: Criando tipo 'PVBin' com params: {'method': 'binary', 'query': 'binary', 'norm': None, 'query_norm': None, 'ngram_range': [1, 2]}\n",
      "Model Factory (PVBin): Convertido ngram_range [1, 2] para tupla (1, 2)\n",
      "Fitting ProductVectorizerClassifier com 100 amostras...\n",
      "Fit concluído.\n",
      "Model Factory: Criando tipo 'PVBin' com params: {'method': 'binary', 'query': 'binary', 'norm': None, 'query_norm': None, 'ngram_range': [1, 2]}\n",
      "Model Factory (PVBin): Convertido ngram_range [1, 2] para tupla (1, 2)\n",
      "Fitting ProductVectorizerClassifier com 100 amostras...\n",
      "Fit concluído.\n",
      "    Acc Real Geração 19: Max=0.2841, Avg=0.2741, Min=0.2639\n",
      "    F1 Real Geração  19: Max=0.0471, Avg=0.0462, Min=0.0416\n",
      "    Duração Geração 19: 62.18s\n",
      "\n",
      "  Geração 20/100\n"
     ]
    },
    {
     "data": {
      "application/vnd.jupyter.widget-view+json": {
       "model_id": "8c1e24c37c184577a1d9e34f134e2e63",
       "version_major": 2,
       "version_minor": 0
      },
      "text/plain": [
       "Fitness Calc Gen 20:   0%|          | 0/20 [00:00<?, ?it/s]"
      ]
     },
     "metadata": {},
     "output_type": "display_data"
    },
    {
     "name": "stdout",
     "output_type": "stream",
     "text": [
      "Model Factory: Criando tipo 'PVBin' com params: {'method': 'binary', 'query': 'binary', 'norm': None, 'query_norm': None, 'ngram_range': [1, 2]}\n",
      "Model Factory (PVBin): Convertido ngram_range [1, 2] para tupla (1, 2)\n",
      "Fitting ProductVectorizerClassifier com 100 amostras...\n",
      "Fit concluído.\n",
      "Model Factory: Criando tipo 'PVBin' com params: {'method': 'binary', 'query': 'binary', 'norm': None, 'query_norm': None, 'ngram_range': [1, 2]}\n",
      "Model Factory (PVBin): Convertido ngram_range [1, 2] para tupla (1, 2)\n",
      "Fitting ProductVectorizerClassifier com 100 amostras...\n",
      "Fit concluído.\n",
      "Model Factory: Criando tipo 'PVBin' com params: {'method': 'binary', 'query': 'binary', 'norm': None, 'query_norm': None, 'ngram_range': [1, 2]}\n",
      "Model Factory (PVBin): Convertido ngram_range [1, 2] para tupla (1, 2)\n",
      "Fitting ProductVectorizerClassifier com 100 amostras...\n",
      "Fit concluído.\n",
      "Model Factory: Criando tipo 'PVBin' com params: {'method': 'binary', 'query': 'binary', 'norm': None, 'query_norm': None, 'ngram_range': [1, 2]}\n",
      "Model Factory (PVBin): Convertido ngram_range [1, 2] para tupla (1, 2)\n",
      "Fitting ProductVectorizerClassifier com 100 amostras...\n",
      "Fit concluído.\n",
      "Model Factory: Criando tipo 'PVBin' com params: {'method': 'binary', 'query': 'binary', 'norm': None, 'query_norm': None, 'ngram_range': [1, 2]}\n",
      "Model Factory (PVBin): Convertido ngram_range [1, 2] para tupla (1, 2)\n",
      "Fitting ProductVectorizerClassifier com 100 amostras...\n",
      "Fit concluído.\n",
      "    Acc Real Geração 20: Max=0.2855, Avg=0.2784, Min=0.2704\n",
      "    F1 Real Geração  20: Max=0.0471, Avg=0.0465, Min=0.0423\n",
      "    Duração Geração 20: 30.68s\n",
      "\n",
      "  Geração 21/100\n"
     ]
    },
    {
     "data": {
      "application/vnd.jupyter.widget-view+json": {
       "model_id": "7d00f60b4e0449cf84872fab9390b5e0",
       "version_major": 2,
       "version_minor": 0
      },
      "text/plain": [
       "Fitness Calc Gen 21:   0%|          | 0/20 [00:00<?, ?it/s]"
      ]
     },
     "metadata": {},
     "output_type": "display_data"
    },
    {
     "name": "stdout",
     "output_type": "stream",
     "text": [
      "Model Factory: Criando tipo 'PVBin' com params: {'method': 'binary', 'query': 'binary', 'norm': None, 'query_norm': None, 'ngram_range': [1, 2]}\n",
      "Model Factory (PVBin): Convertido ngram_range [1, 2] para tupla (1, 2)\n",
      "Fitting ProductVectorizerClassifier com 100 amostras...\n",
      "Fit concluído.\n",
      "Model Factory: Criando tipo 'PVBin' com params: {'method': 'binary', 'query': 'binary', 'norm': None, 'query_norm': None, 'ngram_range': [1, 2]}\n",
      "Model Factory (PVBin): Convertido ngram_range [1, 2] para tupla (1, 2)\n",
      "Fitting ProductVectorizerClassifier com 100 amostras...\n",
      "Fit concluído.\n",
      "Model Factory: Criando tipo 'PVBin' com params: {'method': 'binary', 'query': 'binary', 'norm': None, 'query_norm': None, 'ngram_range': [1, 2]}\n",
      "Model Factory (PVBin): Convertido ngram_range [1, 2] para tupla (1, 2)\n",
      "Fitting ProductVectorizerClassifier com 100 amostras...\n",
      "Fit concluído.\n",
      "    Acc Real Geração 21: Max=0.2779, Avg=0.2775, Min=0.2746\n",
      "    F1 Real Geração  21: Max=0.0471, Avg=0.0465, Min=0.0425\n",
      "    Duração Geração 21: 18.66s\n",
      "\n",
      "  Geração 22/100\n"
     ]
    },
    {
     "data": {
      "application/vnd.jupyter.widget-view+json": {
       "model_id": "9a695e58591d472ea281c6a9f2adf630",
       "version_major": 2,
       "version_minor": 0
      },
      "text/plain": [
       "Fitness Calc Gen 22:   0%|          | 0/20 [00:00<?, ?it/s]"
      ]
     },
     "metadata": {},
     "output_type": "display_data"
    },
    {
     "name": "stdout",
     "output_type": "stream",
     "text": [
      "Model Factory: Criando tipo 'PVBin' com params: {'method': 'binary', 'query': 'binary', 'norm': None, 'query_norm': None, 'ngram_range': [1, 2]}\n",
      "Model Factory (PVBin): Convertido ngram_range [1, 2] para tupla (1, 2)\n",
      "Fitting ProductVectorizerClassifier com 100 amostras...\n",
      "Fit concluído.\n",
      "Model Factory: Criando tipo 'PVBin' com params: {'method': 'binary', 'query': 'binary', 'norm': None, 'query_norm': None, 'ngram_range': [1, 2]}\n",
      "Model Factory (PVBin): Convertido ngram_range [1, 2] para tupla (1, 2)\n",
      "Fitting ProductVectorizerClassifier com 100 amostras...\n",
      "Fit concluído.\n",
      "Model Factory: Criando tipo 'PVBin' com params: {'method': 'binary', 'query': 'binary', 'norm': None, 'query_norm': None, 'ngram_range': [1, 2]}\n",
      "Model Factory (PVBin): Convertido ngram_range [1, 2] para tupla (1, 2)\n",
      "Fitting ProductVectorizerClassifier com 100 amostras...\n",
      "Fit concluído.\n",
      "Model Factory: Criando tipo 'PVBin' com params: {'method': 'binary', 'query': 'binary', 'norm': None, 'query_norm': None, 'ngram_range': [1, 2]}\n",
      "Model Factory (PVBin): Convertido ngram_range [1, 2] para tupla (1, 2)\n",
      "Fitting ProductVectorizerClassifier com 100 amostras...\n",
      "Fit concluído.\n",
      "Model Factory: Criando tipo 'PVBin' com params: {'method': 'binary', 'query': 'binary', 'norm': None, 'query_norm': None, 'ngram_range': [1, 2]}\n",
      "Model Factory (PVBin): Convertido ngram_range [1, 2] para tupla (1, 2)\n",
      "Fitting ProductVectorizerClassifier com 100 amostras...\n",
      "Fit concluído.\n",
      "    Acc Real Geração 22: Max=0.2832, Avg=0.2767, Min=0.2595\n",
      "    F1 Real Geração  22: Max=0.0471, Avg=0.0463, Min=0.0431\n",
      "    Duração Geração 22: 31.99s\n",
      "\n",
      "  Geração 23/100\n"
     ]
    },
    {
     "data": {
      "application/vnd.jupyter.widget-view+json": {
       "model_id": "277e980491b64e0ba36c762a6cb3a75c",
       "version_major": 2,
       "version_minor": 0
      },
      "text/plain": [
       "Fitness Calc Gen 23:   0%|          | 0/20 [00:00<?, ?it/s]"
      ]
     },
     "metadata": {},
     "output_type": "display_data"
    },
    {
     "name": "stdout",
     "output_type": "stream",
     "text": [
      "Model Factory: Criando tipo 'PVBin' com params: {'method': 'binary', 'query': 'binary', 'norm': None, 'query_norm': None, 'ngram_range': [1, 2]}\n",
      "Model Factory (PVBin): Convertido ngram_range [1, 2] para tupla (1, 2)\n",
      "Fitting ProductVectorizerClassifier com 100 amostras...\n",
      "Fit concluído.\n",
      "Model Factory: Criando tipo 'PVBin' com params: {'method': 'binary', 'query': 'binary', 'norm': None, 'query_norm': None, 'ngram_range': [1, 2]}\n",
      "Model Factory (PVBin): Convertido ngram_range [1, 2] para tupla (1, 2)\n",
      "Fitting ProductVectorizerClassifier com 100 amostras...\n",
      "Fit concluído.\n",
      "Model Factory: Criando tipo 'PVBin' com params: {'method': 'binary', 'query': 'binary', 'norm': None, 'query_norm': None, 'ngram_range': [1, 2]}\n",
      "Model Factory (PVBin): Convertido ngram_range [1, 2] para tupla (1, 2)\n",
      "Fitting ProductVectorizerClassifier com 100 amostras...\n",
      "Fit concluído.\n",
      "Model Factory: Criando tipo 'PVBin' com params: {'method': 'binary', 'query': 'binary', 'norm': None, 'query_norm': None, 'ngram_range': [1, 2]}\n",
      "Model Factory (PVBin): Convertido ngram_range [1, 2] para tupla (1, 2)\n",
      "Fitting ProductVectorizerClassifier com 100 amostras...\n",
      "Fit concluído.\n",
      "Model Factory: Criando tipo 'PVBin' com params: {'method': 'binary', 'query': 'binary', 'norm': None, 'query_norm': None, 'ngram_range': [1, 2]}\n",
      "Model Factory (PVBin): Convertido ngram_range [1, 2] para tupla (1, 2)\n",
      "Fitting ProductVectorizerClassifier com 100 amostras...\n",
      "Fit concluído.\n",
      "    Novo melhor (Obj: maximize): Perf Real=0.0479\n",
      "    Acc Real Geração 23: Max=0.2856, Avg=0.2772, Min=0.2575\n",
      "    F1 Real Geração  23: Max=0.0479, Avg=0.0467, Min=0.0426\n",
      "    Duração Geração 23: 33.58s\n",
      "\n",
      "  Geração 24/100\n"
     ]
    },
    {
     "data": {
      "application/vnd.jupyter.widget-view+json": {
       "model_id": "51ec6f1ae1eb4e11b435f0171ade509f",
       "version_major": 2,
       "version_minor": 0
      },
      "text/plain": [
       "Fitness Calc Gen 24:   0%|          | 0/20 [00:00<?, ?it/s]"
      ]
     },
     "metadata": {},
     "output_type": "display_data"
    },
    {
     "name": "stdout",
     "output_type": "stream",
     "text": [
      "Model Factory: Criando tipo 'PVBin' com params: {'method': 'binary', 'query': 'binary', 'norm': None, 'query_norm': None, 'ngram_range': [1, 2]}\n",
      "Model Factory (PVBin): Convertido ngram_range [1, 2] para tupla (1, 2)\n",
      "Fitting ProductVectorizerClassifier com 100 amostras...\n",
      "Fit concluído.\n",
      "Model Factory: Criando tipo 'PVBin' com params: {'method': 'binary', 'query': 'binary', 'norm': None, 'query_norm': None, 'ngram_range': [1, 2]}\n",
      "Model Factory (PVBin): Convertido ngram_range [1, 2] para tupla (1, 2)\n",
      "Fitting ProductVectorizerClassifier com 100 amostras...\n",
      "Fit concluído.\n",
      "Model Factory: Criando tipo 'PVBin' com params: {'method': 'binary', 'query': 'binary', 'norm': None, 'query_norm': None, 'ngram_range': [1, 2]}\n",
      "Model Factory (PVBin): Convertido ngram_range [1, 2] para tupla (1, 2)\n",
      "Fitting ProductVectorizerClassifier com 100 amostras...\n",
      "Fit concluído.\n",
      "Model Factory: Criando tipo 'PVBin' com params: {'method': 'binary', 'query': 'binary', 'norm': None, 'query_norm': None, 'ngram_range': [1, 2]}\n",
      "Model Factory (PVBin): Convertido ngram_range [1, 2] para tupla (1, 2)\n",
      "Fitting ProductVectorizerClassifier com 100 amostras...\n",
      "Fit concluído.\n",
      "Model Factory: Criando tipo 'PVBin' com params: {'method': 'binary', 'query': 'binary', 'norm': None, 'query_norm': None, 'ngram_range': [1, 2]}\n",
      "Model Factory (PVBin): Convertido ngram_range [1, 2] para tupla (1, 2)\n",
      "Fitting ProductVectorizerClassifier com 100 amostras...\n",
      "Fit concluído.\n",
      "    Acc Real Geração 24: Max=0.2856, Avg=0.2793, Min=0.2747\n",
      "    F1 Real Geração  24: Max=0.0479, Avg=0.0469, Min=0.0419\n",
      "    Duração Geração 24: 30.26s\n",
      "\n",
      "  Geração 25/100\n"
     ]
    },
    {
     "data": {
      "application/vnd.jupyter.widget-view+json": {
       "model_id": "e8fcc4c4709b4a618869cdd28726f83c",
       "version_major": 2,
       "version_minor": 0
      },
      "text/plain": [
       "Fitness Calc Gen 25:   0%|          | 0/20 [00:00<?, ?it/s]"
      ]
     },
     "metadata": {},
     "output_type": "display_data"
    },
    {
     "name": "stdout",
     "output_type": "stream",
     "text": [
      "Model Factory: Criando tipo 'PVBin' com params: {'method': 'binary', 'query': 'binary', 'norm': None, 'query_norm': None, 'ngram_range': [1, 2]}\n",
      "Model Factory (PVBin): Convertido ngram_range [1, 2] para tupla (1, 2)\n",
      "Fitting ProductVectorizerClassifier com 100 amostras...\n",
      "Fit concluído.\n",
      "Model Factory: Criando tipo 'PVBin' com params: {'method': 'binary', 'query': 'binary', 'norm': None, 'query_norm': None, 'ngram_range': [1, 2]}\n",
      "Model Factory (PVBin): Convertido ngram_range [1, 2] para tupla (1, 2)\n",
      "Fitting ProductVectorizerClassifier com 100 amostras...\n",
      "Fit concluído.\n",
      "Model Factory: Criando tipo 'PVBin' com params: {'method': 'binary', 'query': 'binary', 'norm': None, 'query_norm': None, 'ngram_range': [1, 2]}\n",
      "Model Factory (PVBin): Convertido ngram_range [1, 2] para tupla (1, 2)\n",
      "Fitting ProductVectorizerClassifier com 100 amostras...\n",
      "Fit concluído.\n",
      "Model Factory: Criando tipo 'PVBin' com params: {'method': 'binary', 'query': 'binary', 'norm': None, 'query_norm': None, 'ngram_range': [1, 2]}\n",
      "Model Factory (PVBin): Convertido ngram_range [1, 2] para tupla (1, 2)\n",
      "Fitting ProductVectorizerClassifier com 100 amostras...\n",
      "Fit concluído.\n",
      "Model Factory: Criando tipo 'PVBin' com params: {'method': 'binary', 'query': 'binary', 'norm': None, 'query_norm': None, 'ngram_range': [1, 2]}\n",
      "Model Factory (PVBin): Convertido ngram_range [1, 2] para tupla (1, 2)\n",
      "Fitting ProductVectorizerClassifier com 100 amostras...\n",
      "Fit concluído.\n",
      "Model Factory: Criando tipo 'PVBin' com params: {'method': 'binary', 'query': 'binary', 'norm': None, 'query_norm': None, 'ngram_range': [1, 2]}\n",
      "Model Factory (PVBin): Convertido ngram_range [1, 2] para tupla (1, 2)\n",
      "Fitting ProductVectorizerClassifier com 100 amostras...\n",
      "Fit concluído.\n",
      "Model Factory: Criando tipo 'PVBin' com params: {'method': 'binary', 'query': 'binary', 'norm': None, 'query_norm': None, 'ngram_range': [1, 2]}\n",
      "Model Factory (PVBin): Convertido ngram_range [1, 2] para tupla (1, 2)\n",
      "Fitting ProductVectorizerClassifier com 100 amostras...\n",
      "Fit concluído.\n",
      "Model Factory: Criando tipo 'PVBin' com params: {'method': 'binary', 'query': 'binary', 'norm': None, 'query_norm': None, 'ngram_range': [1, 2]}\n",
      "Model Factory (PVBin): Convertido ngram_range [1, 2] para tupla (1, 2)\n",
      "Fitting ProductVectorizerClassifier com 100 amostras...\n",
      "Fit concluído.\n",
      "Model Factory: Criando tipo 'PVBin' com params: {'method': 'binary', 'query': 'binary', 'norm': None, 'query_norm': None, 'ngram_range': [1, 2]}\n",
      "Model Factory (PVBin): Convertido ngram_range [1, 2] para tupla (1, 2)\n",
      "Fitting ProductVectorizerClassifier com 100 amostras...\n",
      "Fit concluído.\n",
      "    Novo melhor (Obj: maximize): Perf Real=0.0486\n",
      "    Acc Real Geração 25: Max=0.2906, Avg=0.2816, Min=0.2706\n",
      "    F1 Real Geração  25: Max=0.0486, Avg=0.0472, Min=0.0446\n",
      "    Duração Geração 25: 54.02s\n",
      "\n",
      "  Geração 26/100\n"
     ]
    },
    {
     "data": {
      "application/vnd.jupyter.widget-view+json": {
       "model_id": "fd410588a14841b3be91746e4dafcad7",
       "version_major": 2,
       "version_minor": 0
      },
      "text/plain": [
       "Fitness Calc Gen 26:   0%|          | 0/20 [00:00<?, ?it/s]"
      ]
     },
     "metadata": {},
     "output_type": "display_data"
    },
    {
     "name": "stdout",
     "output_type": "stream",
     "text": [
      "Model Factory: Criando tipo 'PVBin' com params: {'method': 'binary', 'query': 'binary', 'norm': None, 'query_norm': None, 'ngram_range': [1, 2]}\n",
      "Model Factory (PVBin): Convertido ngram_range [1, 2] para tupla (1, 2)\n",
      "Fitting ProductVectorizerClassifier com 100 amostras...\n",
      "Fit concluído.\n",
      "Model Factory: Criando tipo 'PVBin' com params: {'method': 'binary', 'query': 'binary', 'norm': None, 'query_norm': None, 'ngram_range': [1, 2]}\n",
      "Model Factory (PVBin): Convertido ngram_range [1, 2] para tupla (1, 2)\n",
      "Fitting ProductVectorizerClassifier com 100 amostras...\n",
      "Fit concluído.\n",
      "Model Factory: Criando tipo 'PVBin' com params: {'method': 'binary', 'query': 'binary', 'norm': None, 'query_norm': None, 'ngram_range': [1, 2]}\n",
      "Model Factory (PVBin): Convertido ngram_range [1, 2] para tupla (1, 2)\n",
      "Fitting ProductVectorizerClassifier com 100 amostras...\n",
      "Fit concluído.\n",
      "Model Factory: Criando tipo 'PVBin' com params: {'method': 'binary', 'query': 'binary', 'norm': None, 'query_norm': None, 'ngram_range': [1, 2]}\n",
      "Model Factory (PVBin): Convertido ngram_range [1, 2] para tupla (1, 2)\n",
      "Fitting ProductVectorizerClassifier com 100 amostras...\n",
      "Fit concluído.\n",
      "Model Factory: Criando tipo 'PVBin' com params: {'method': 'binary', 'query': 'binary', 'norm': None, 'query_norm': None, 'ngram_range': [1, 2]}\n",
      "Model Factory (PVBin): Convertido ngram_range [1, 2] para tupla (1, 2)\n",
      "Fitting ProductVectorizerClassifier com 100 amostras...\n",
      "Fit concluído.\n",
      "    Acc Real Geração 26: Max=0.2862, Avg=0.2841, Min=0.2765\n",
      "    F1 Real Geração  26: Max=0.0486, Avg=0.0478, Min=0.0462\n",
      "    Duração Geração 26: 28.79s\n",
      "\n",
      "  Geração 27/100\n"
     ]
    },
    {
     "data": {
      "application/vnd.jupyter.widget-view+json": {
       "model_id": "160cafbf16274e68b060ea4d3d4646a8",
       "version_major": 2,
       "version_minor": 0
      },
      "text/plain": [
       "Fitness Calc Gen 27:   0%|          | 0/20 [00:00<?, ?it/s]"
      ]
     },
     "metadata": {},
     "output_type": "display_data"
    },
    {
     "name": "stdout",
     "output_type": "stream",
     "text": [
      "Model Factory: Criando tipo 'PVBin' com params: {'method': 'binary', 'query': 'binary', 'norm': None, 'query_norm': None, 'ngram_range': [1, 2]}\n",
      "Model Factory (PVBin): Convertido ngram_range [1, 2] para tupla (1, 2)\n",
      "Fitting ProductVectorizerClassifier com 100 amostras...\n",
      "Fit concluído.\n",
      "Model Factory: Criando tipo 'PVBin' com params: {'method': 'binary', 'query': 'binary', 'norm': None, 'query_norm': None, 'ngram_range': [1, 2]}\n",
      "Model Factory (PVBin): Convertido ngram_range [1, 2] para tupla (1, 2)\n",
      "Fitting ProductVectorizerClassifier com 100 amostras...\n",
      "Fit concluído.\n",
      "Model Factory: Criando tipo 'PVBin' com params: {'method': 'binary', 'query': 'binary', 'norm': None, 'query_norm': None, 'ngram_range': [1, 2]}\n",
      "Model Factory (PVBin): Convertido ngram_range [1, 2] para tupla (1, 2)\n",
      "Fitting ProductVectorizerClassifier com 100 amostras...\n",
      "Fit concluído.\n",
      "Model Factory: Criando tipo 'PVBin' com params: {'method': 'binary', 'query': 'binary', 'norm': None, 'query_norm': None, 'ngram_range': [1, 2]}\n",
      "Model Factory (PVBin): Convertido ngram_range [1, 2] para tupla (1, 2)\n",
      "Fitting ProductVectorizerClassifier com 100 amostras...\n",
      "Fit concluído.\n",
      "Model Factory: Criando tipo 'PVBin' com params: {'method': 'binary', 'query': 'binary', 'norm': None, 'query_norm': None, 'ngram_range': [1, 2]}\n",
      "Model Factory (PVBin): Convertido ngram_range [1, 2] para tupla (1, 2)\n",
      "Fitting ProductVectorizerClassifier com 100 amostras...\n",
      "Fit concluído.\n",
      "Model Factory: Criando tipo 'PVBin' com params: {'method': 'binary', 'query': 'binary', 'norm': None, 'query_norm': None, 'ngram_range': [1, 2]}\n",
      "Model Factory (PVBin): Convertido ngram_range [1, 2] para tupla (1, 2)\n",
      "Fitting ProductVectorizerClassifier com 100 amostras...\n",
      "Fit concluído.\n",
      "Model Factory: Criando tipo 'PVBin' com params: {'method': 'binary', 'query': 'binary', 'norm': None, 'query_norm': None, 'ngram_range': [1, 2]}\n",
      "Model Factory (PVBin): Convertido ngram_range [1, 2] para tupla (1, 2)\n",
      "Fitting ProductVectorizerClassifier com 100 amostras...\n",
      "Fit concluído.\n",
      "    Acc Real Geração 27: Max=0.2889, Avg=0.2839, Min=0.2768\n",
      "    F1 Real Geração  27: Max=0.0486, Avg=0.0477, Min=0.0451\n",
      "    Duração Geração 27: 40.58s\n",
      "\n",
      "  Geração 28/100\n"
     ]
    },
    {
     "data": {
      "application/vnd.jupyter.widget-view+json": {
       "model_id": "5059a46ba84241f89cd8e763ddfae7ab",
       "version_major": 2,
       "version_minor": 0
      },
      "text/plain": [
       "Fitness Calc Gen 28:   0%|          | 0/20 [00:00<?, ?it/s]"
      ]
     },
     "metadata": {},
     "output_type": "display_data"
    },
    {
     "name": "stdout",
     "output_type": "stream",
     "text": [
      "Model Factory: Criando tipo 'PVBin' com params: {'method': 'binary', 'query': 'binary', 'norm': None, 'query_norm': None, 'ngram_range': [1, 2]}\n",
      "Model Factory (PVBin): Convertido ngram_range [1, 2] para tupla (1, 2)\n",
      "Fitting ProductVectorizerClassifier com 100 amostras...\n",
      "Fit concluído.\n",
      "Model Factory: Criando tipo 'PVBin' com params: {'method': 'binary', 'query': 'binary', 'norm': None, 'query_norm': None, 'ngram_range': [1, 2]}\n",
      "Model Factory (PVBin): Convertido ngram_range [1, 2] para tupla (1, 2)\n",
      "Fitting ProductVectorizerClassifier com 100 amostras...\n",
      "Fit concluído.\n",
      "Model Factory: Criando tipo 'PVBin' com params: {'method': 'binary', 'query': 'binary', 'norm': None, 'query_norm': None, 'ngram_range': [1, 2]}\n",
      "Model Factory (PVBin): Convertido ngram_range [1, 2] para tupla (1, 2)\n",
      "Fitting ProductVectorizerClassifier com 100 amostras...\n",
      "Fit concluído.\n",
      "Model Factory: Criando tipo 'PVBin' com params: {'method': 'binary', 'query': 'binary', 'norm': None, 'query_norm': None, 'ngram_range': [1, 2]}\n",
      "Model Factory (PVBin): Convertido ngram_range [1, 2] para tupla (1, 2)\n",
      "Fitting ProductVectorizerClassifier com 100 amostras...\n",
      "Fit concluído.\n",
      "Model Factory: Criando tipo 'PVBin' com params: {'method': 'binary', 'query': 'binary', 'norm': None, 'query_norm': None, 'ngram_range': [1, 2]}\n",
      "Model Factory (PVBin): Convertido ngram_range [1, 2] para tupla (1, 2)\n",
      "Fitting ProductVectorizerClassifier com 100 amostras...\n",
      "Fit concluído.\n",
      "Model Factory: Criando tipo 'PVBin' com params: {'method': 'binary', 'query': 'binary', 'norm': None, 'query_norm': None, 'ngram_range': [1, 2]}\n",
      "Model Factory (PVBin): Convertido ngram_range [1, 2] para tupla (1, 2)\n",
      "Fitting ProductVectorizerClassifier com 100 amostras...\n",
      "Fit concluído.\n",
      "Model Factory: Criando tipo 'PVBin' com params: {'method': 'binary', 'query': 'binary', 'norm': None, 'query_norm': None, 'ngram_range': [1, 2]}\n",
      "Model Factory (PVBin): Convertido ngram_range [1, 2] para tupla (1, 2)\n",
      "Fitting ProductVectorizerClassifier com 100 amostras...\n",
      "Fit concluído.\n",
      "    Novo melhor (Obj: maximize): Perf Real=0.0490\n",
      "    Acc Real Geração 28: Max=0.2871, Avg=0.2843, Min=0.2786\n",
      "    F1 Real Geração  28: Max=0.0490, Avg=0.0479, Min=0.0453\n",
      "    Duração Geração 28: 53.35s\n",
      "\n",
      "  Geração 29/100\n"
     ]
    },
    {
     "data": {
      "application/vnd.jupyter.widget-view+json": {
       "model_id": "5a7878ae97a24294bf41c1dcb3ae0d60",
       "version_major": 2,
       "version_minor": 0
      },
      "text/plain": [
       "Fitness Calc Gen 29:   0%|          | 0/20 [00:00<?, ?it/s]"
      ]
     },
     "metadata": {},
     "output_type": "display_data"
    },
    {
     "name": "stdout",
     "output_type": "stream",
     "text": [
      "Model Factory: Criando tipo 'PVBin' com params: {'method': 'binary', 'query': 'binary', 'norm': None, 'query_norm': None, 'ngram_range': [1, 2]}\n",
      "Model Factory (PVBin): Convertido ngram_range [1, 2] para tupla (1, 2)\n",
      "Fitting ProductVectorizerClassifier com 100 amostras...\n",
      "Fit concluído.\n",
      "Model Factory: Criando tipo 'PVBin' com params: {'method': 'binary', 'query': 'binary', 'norm': None, 'query_norm': None, 'ngram_range': [1, 2]}\n",
      "Model Factory (PVBin): Convertido ngram_range [1, 2] para tupla (1, 2)\n",
      "Fitting ProductVectorizerClassifier com 100 amostras...\n",
      "Fit concluído.\n",
      "Model Factory: Criando tipo 'PVBin' com params: {'method': 'binary', 'query': 'binary', 'norm': None, 'query_norm': None, 'ngram_range': [1, 2]}\n",
      "Model Factory (PVBin): Convertido ngram_range [1, 2] para tupla (1, 2)\n",
      "Fitting ProductVectorizerClassifier com 100 amostras...\n",
      "Fit concluído.\n",
      "Model Factory: Criando tipo 'PVBin' com params: {'method': 'binary', 'query': 'binary', 'norm': None, 'query_norm': None, 'ngram_range': [1, 2]}\n",
      "Model Factory (PVBin): Convertido ngram_range [1, 2] para tupla (1, 2)\n",
      "Fitting ProductVectorizerClassifier com 100 amostras...\n",
      "Fit concluído.\n",
      "Model Factory: Criando tipo 'PVBin' com params: {'method': 'binary', 'query': 'binary', 'norm': None, 'query_norm': None, 'ngram_range': [1, 2]}\n",
      "Model Factory (PVBin): Convertido ngram_range [1, 2] para tupla (1, 2)\n",
      "Fitting ProductVectorizerClassifier com 100 amostras...\n",
      "Fit concluído.\n",
      "Model Factory: Criando tipo 'PVBin' com params: {'method': 'binary', 'query': 'binary', 'norm': None, 'query_norm': None, 'ngram_range': [1, 2]}\n",
      "Model Factory (PVBin): Convertido ngram_range [1, 2] para tupla (1, 2)\n",
      "Fitting ProductVectorizerClassifier com 100 amostras...\n",
      "Fit concluído.\n",
      "Model Factory: Criando tipo 'PVBin' com params: {'method': 'binary', 'query': 'binary', 'norm': None, 'query_norm': None, 'ngram_range': [1, 2]}\n",
      "Model Factory (PVBin): Convertido ngram_range [1, 2] para tupla (1, 2)\n",
      "Fitting ProductVectorizerClassifier com 100 amostras...\n",
      "Fit concluído.\n",
      "    Acc Real Geração 29: Max=0.2854, Avg=0.2828, Min=0.2677\n",
      "    F1 Real Geração  29: Max=0.0490, Avg=0.0481, Min=0.0458\n",
      "    Duração Geração 29: 41.81s\n",
      "\n",
      "  Geração 30/100\n"
     ]
    },
    {
     "data": {
      "application/vnd.jupyter.widget-view+json": {
       "model_id": "939045f39fef42ab9bcbf4906839edf2",
       "version_major": 2,
       "version_minor": 0
      },
      "text/plain": [
       "Fitness Calc Gen 30:   0%|          | 0/20 [00:00<?, ?it/s]"
      ]
     },
     "metadata": {},
     "output_type": "display_data"
    },
    {
     "name": "stdout",
     "output_type": "stream",
     "text": [
      "Model Factory: Criando tipo 'PVBin' com params: {'method': 'binary', 'query': 'binary', 'norm': None, 'query_norm': None, 'ngram_range': [1, 2]}\n",
      "Model Factory (PVBin): Convertido ngram_range [1, 2] para tupla (1, 2)\n",
      "Fitting ProductVectorizerClassifier com 100 amostras...\n",
      "Fit concluído.\n",
      "Model Factory: Criando tipo 'PVBin' com params: {'method': 'binary', 'query': 'binary', 'norm': None, 'query_norm': None, 'ngram_range': [1, 2]}\n",
      "Model Factory (PVBin): Convertido ngram_range [1, 2] para tupla (1, 2)\n",
      "Fitting ProductVectorizerClassifier com 100 amostras...\n",
      "Fit concluído.\n",
      "Model Factory: Criando tipo 'PVBin' com params: {'method': 'binary', 'query': 'binary', 'norm': None, 'query_norm': None, 'ngram_range': [1, 2]}\n",
      "Model Factory (PVBin): Convertido ngram_range [1, 2] para tupla (1, 2)\n",
      "Fitting ProductVectorizerClassifier com 100 amostras...\n",
      "Fit concluído.\n",
      "Model Factory: Criando tipo 'PVBin' com params: {'method': 'binary', 'query': 'binary', 'norm': None, 'query_norm': None, 'ngram_range': [1, 2]}\n",
      "Model Factory (PVBin): Convertido ngram_range [1, 2] para tupla (1, 2)\n",
      "Fitting ProductVectorizerClassifier com 100 amostras...\n",
      "Fit concluído.\n",
      "Model Factory: Criando tipo 'PVBin' com params: {'method': 'binary', 'query': 'binary', 'norm': None, 'query_norm': None, 'ngram_range': [1, 2]}\n",
      "Model Factory (PVBin): Convertido ngram_range [1, 2] para tupla (1, 2)\n",
      "Fitting ProductVectorizerClassifier com 100 amostras...\n",
      "Fit concluído.\n",
      "Model Factory: Criando tipo 'PVBin' com params: {'method': 'binary', 'query': 'binary', 'norm': None, 'query_norm': None, 'ngram_range': [1, 2]}\n",
      "Model Factory (PVBin): Convertido ngram_range [1, 2] para tupla (1, 2)\n",
      "Fitting ProductVectorizerClassifier com 100 amostras...\n",
      "Fit concluído.\n",
      "    Acc Real Geração 30: Max=0.2909, Avg=0.2831, Min=0.2733\n",
      "    F1 Real Geração  30: Max=0.0490, Avg=0.0482, Min=0.0458\n",
      "    Duração Geração 30: 34.29s\n",
      "\n",
      "  Geração 31/100\n"
     ]
    },
    {
     "data": {
      "application/vnd.jupyter.widget-view+json": {
       "model_id": "e35a37da30c64ec49f473b51a3ae4c32",
       "version_major": 2,
       "version_minor": 0
      },
      "text/plain": [
       "Fitness Calc Gen 31:   0%|          | 0/20 [00:00<?, ?it/s]"
      ]
     },
     "metadata": {},
     "output_type": "display_data"
    },
    {
     "name": "stdout",
     "output_type": "stream",
     "text": [
      "Model Factory: Criando tipo 'PVBin' com params: {'method': 'binary', 'query': 'binary', 'norm': None, 'query_norm': None, 'ngram_range': [1, 2]}\n",
      "Model Factory (PVBin): Convertido ngram_range [1, 2] para tupla (1, 2)\n",
      "Fitting ProductVectorizerClassifier com 100 amostras...\n",
      "Fit concluído.\n",
      "Model Factory: Criando tipo 'PVBin' com params: {'method': 'binary', 'query': 'binary', 'norm': None, 'query_norm': None, 'ngram_range': [1, 2]}\n",
      "Model Factory (PVBin): Convertido ngram_range [1, 2] para tupla (1, 2)\n",
      "Fitting ProductVectorizerClassifier com 100 amostras...\n",
      "Fit concluído.\n",
      "Model Factory: Criando tipo 'PVBin' com params: {'method': 'binary', 'query': 'binary', 'norm': None, 'query_norm': None, 'ngram_range': [1, 2]}\n",
      "Model Factory (PVBin): Convertido ngram_range [1, 2] para tupla (1, 2)\n",
      "Fitting ProductVectorizerClassifier com 100 amostras...\n",
      "Fit concluído.\n",
      "Model Factory: Criando tipo 'PVBin' com params: {'method': 'binary', 'query': 'binary', 'norm': None, 'query_norm': None, 'ngram_range': [1, 2]}\n",
      "Model Factory (PVBin): Convertido ngram_range [1, 2] para tupla (1, 2)\n",
      "Fitting ProductVectorizerClassifier com 100 amostras...\n",
      "Fit concluído.\n",
      "Model Factory: Criando tipo 'PVBin' com params: {'method': 'binary', 'query': 'binary', 'norm': None, 'query_norm': None, 'ngram_range': [1, 2]}\n",
      "Model Factory (PVBin): Convertido ngram_range [1, 2] para tupla (1, 2)\n",
      "Fitting ProductVectorizerClassifier com 100 amostras...\n",
      "Fit concluído.\n",
      "Model Factory: Criando tipo 'PVBin' com params: {'method': 'binary', 'query': 'binary', 'norm': None, 'query_norm': None, 'ngram_range': [1, 2]}\n",
      "Model Factory (PVBin): Convertido ngram_range [1, 2] para tupla (1, 2)\n",
      "Fitting ProductVectorizerClassifier com 100 amostras...\n",
      "Fit concluído.\n",
      "Model Factory: Criando tipo 'PVBin' com params: {'method': 'binary', 'query': 'binary', 'norm': None, 'query_norm': None, 'ngram_range': [1, 2]}\n",
      "Model Factory (PVBin): Convertido ngram_range [1, 2] para tupla (1, 2)\n",
      "Fitting ProductVectorizerClassifier com 100 amostras...\n",
      "Fit concluído.\n",
      "    Novo melhor (Obj: maximize): Perf Real=0.0493\n",
      "    Acc Real Geração 31: Max=0.2910, Avg=0.2832, Min=0.2725\n",
      "    F1 Real Geração  31: Max=0.0493, Avg=0.0485, Min=0.0460\n",
      "    Duração Geração 31: 39.38s\n",
      "\n",
      "  Geração 32/100\n"
     ]
    },
    {
     "data": {
      "application/vnd.jupyter.widget-view+json": {
       "model_id": "66454023895049378844f679af9772d3",
       "version_major": 2,
       "version_minor": 0
      },
      "text/plain": [
       "Fitness Calc Gen 32:   0%|          | 0/20 [00:00<?, ?it/s]"
      ]
     },
     "metadata": {},
     "output_type": "display_data"
    },
    {
     "name": "stdout",
     "output_type": "stream",
     "text": [
      "Model Factory: Criando tipo 'PVBin' com params: {'method': 'binary', 'query': 'binary', 'norm': None, 'query_norm': None, 'ngram_range': [1, 2]}\n",
      "Model Factory (PVBin): Convertido ngram_range [1, 2] para tupla (1, 2)\n",
      "Fitting ProductVectorizerClassifier com 100 amostras...\n",
      "Fit concluído.\n",
      "Model Factory: Criando tipo 'PVBin' com params: {'method': 'binary', 'query': 'binary', 'norm': None, 'query_norm': None, 'ngram_range': [1, 2]}\n",
      "Model Factory (PVBin): Convertido ngram_range [1, 2] para tupla (1, 2)\n",
      "Fitting ProductVectorizerClassifier com 100 amostras...\n",
      "Fit concluído.\n",
      "Model Factory: Criando tipo 'PVBin' com params: {'method': 'binary', 'query': 'binary', 'norm': None, 'query_norm': None, 'ngram_range': [1, 2]}\n",
      "Model Factory (PVBin): Convertido ngram_range [1, 2] para tupla (1, 2)\n",
      "Fitting ProductVectorizerClassifier com 100 amostras...\n",
      "Fit concluído.\n",
      "Model Factory: Criando tipo 'PVBin' com params: {'method': 'binary', 'query': 'binary', 'norm': None, 'query_norm': None, 'ngram_range': [1, 2]}\n",
      "Model Factory (PVBin): Convertido ngram_range [1, 2] para tupla (1, 2)\n",
      "Fitting ProductVectorizerClassifier com 100 amostras...\n",
      "Fit concluído.\n",
      "Model Factory: Criando tipo 'PVBin' com params: {'method': 'binary', 'query': 'binary', 'norm': None, 'query_norm': None, 'ngram_range': [1, 2]}\n",
      "Model Factory (PVBin): Convertido ngram_range [1, 2] para tupla (1, 2)\n",
      "Fitting ProductVectorizerClassifier com 100 amostras...\n",
      "Fit concluído.\n",
      "    Novo melhor (Obj: maximize): Perf Real=0.0499\n",
      "    Acc Real Geração 32: Max=0.2952, Avg=0.2831, Min=0.2766\n",
      "    F1 Real Geração  32: Max=0.0499, Avg=0.0487, Min=0.0462\n",
      "    Duração Geração 32: 28.62s\n",
      "\n",
      "  Geração 33/100\n"
     ]
    },
    {
     "data": {
      "application/vnd.jupyter.widget-view+json": {
       "model_id": "aeee474697f043c993f310f1c7ef6559",
       "version_major": 2,
       "version_minor": 0
      },
      "text/plain": [
       "Fitness Calc Gen 33:   0%|          | 0/20 [00:00<?, ?it/s]"
      ]
     },
     "metadata": {},
     "output_type": "display_data"
    },
    {
     "name": "stdout",
     "output_type": "stream",
     "text": [
      "Model Factory: Criando tipo 'PVBin' com params: {'method': 'binary', 'query': 'binary', 'norm': None, 'query_norm': None, 'ngram_range': [1, 2]}\n",
      "Model Factory (PVBin): Convertido ngram_range [1, 2] para tupla (1, 2)\n",
      "Fitting ProductVectorizerClassifier com 100 amostras...\n",
      "Fit concluído.\n",
      "Model Factory: Criando tipo 'PVBin' com params: {'method': 'binary', 'query': 'binary', 'norm': None, 'query_norm': None, 'ngram_range': [1, 2]}\n",
      "Model Factory (PVBin): Convertido ngram_range [1, 2] para tupla (1, 2)\n",
      "Fitting ProductVectorizerClassifier com 100 amostras...\n",
      "Fit concluído.\n",
      "Model Factory: Criando tipo 'PVBin' com params: {'method': 'binary', 'query': 'binary', 'norm': None, 'query_norm': None, 'ngram_range': [1, 2]}\n",
      "Model Factory (PVBin): Convertido ngram_range [1, 2] para tupla (1, 2)\n",
      "Fitting ProductVectorizerClassifier com 100 amostras...\n",
      "Fit concluído.\n",
      "    Acc Real Geração 33: Max=0.2952, Avg=0.2862, Min=0.2766\n",
      "    F1 Real Geração  33: Max=0.0499, Avg=0.0490, Min=0.0466\n",
      "    Duração Geração 33: 17.08s\n",
      "\n",
      "  Geração 34/100\n"
     ]
    },
    {
     "data": {
      "application/vnd.jupyter.widget-view+json": {
       "model_id": "438f9c14f2374a3e9af966fceafe9655",
       "version_major": 2,
       "version_minor": 0
      },
      "text/plain": [
       "Fitness Calc Gen 34:   0%|          | 0/20 [00:00<?, ?it/s]"
      ]
     },
     "metadata": {},
     "output_type": "display_data"
    },
    {
     "name": "stdout",
     "output_type": "stream",
     "text": [
      "Model Factory: Criando tipo 'PVBin' com params: {'method': 'binary', 'query': 'binary', 'norm': None, 'query_norm': None, 'ngram_range': [1, 2]}\n",
      "Model Factory (PVBin): Convertido ngram_range [1, 2] para tupla (1, 2)\n",
      "Fitting ProductVectorizerClassifier com 100 amostras...\n",
      "Fit concluído.\n",
      "Model Factory: Criando tipo 'PVBin' com params: {'method': 'binary', 'query': 'binary', 'norm': None, 'query_norm': None, 'ngram_range': [1, 2]}\n",
      "Model Factory (PVBin): Convertido ngram_range [1, 2] para tupla (1, 2)\n",
      "Fitting ProductVectorizerClassifier com 100 amostras...\n",
      "Fit concluído.\n",
      "Model Factory: Criando tipo 'PVBin' com params: {'method': 'binary', 'query': 'binary', 'norm': None, 'query_norm': None, 'ngram_range': [1, 2]}\n",
      "Model Factory (PVBin): Convertido ngram_range [1, 2] para tupla (1, 2)\n",
      "Fitting ProductVectorizerClassifier com 100 amostras...\n",
      "Fit concluído.\n",
      "Model Factory: Criando tipo 'PVBin' com params: {'method': 'binary', 'query': 'binary', 'norm': None, 'query_norm': None, 'ngram_range': [1, 2]}\n",
      "Model Factory (PVBin): Convertido ngram_range [1, 2] para tupla (1, 2)\n",
      "Fitting ProductVectorizerClassifier com 100 amostras...\n",
      "Fit concluído.\n",
      "    Acc Real Geração 34: Max=0.2985, Avg=0.2937, Min=0.2850\n",
      "    F1 Real Geração  34: Max=0.0499, Avg=0.0496, Min=0.0481\n",
      "    Duração Geração 34: 32.35s\n",
      "\n",
      "  Geração 35/100\n"
     ]
    },
    {
     "data": {
      "application/vnd.jupyter.widget-view+json": {
       "model_id": "714fb0cd14be4b088f86e854e9f6d413",
       "version_major": 2,
       "version_minor": 0
      },
      "text/plain": [
       "Fitness Calc Gen 35:   0%|          | 0/20 [00:00<?, ?it/s]"
      ]
     },
     "metadata": {},
     "output_type": "display_data"
    },
    {
     "name": "stdout",
     "output_type": "stream",
     "text": [
      "    Acc Real Geração 35: Max=0.2952, Avg=0.2949, Min=0.2893\n",
      "    F1 Real Geração  35: Max=0.0499, Avg=0.0499, Min=0.0493\n",
      "    Duração Geração 35: 0.31s\n",
      "\n",
      "  Geração 36/100\n"
     ]
    },
    {
     "data": {
      "application/vnd.jupyter.widget-view+json": {
       "model_id": "22843068d4994c60b56ea0f6eea7c837",
       "version_major": 2,
       "version_minor": 0
      },
      "text/plain": [
       "Fitness Calc Gen 36:   0%|          | 0/20 [00:00<?, ?it/s]"
      ]
     },
     "metadata": {},
     "output_type": "display_data"
    },
    {
     "name": "stdout",
     "output_type": "stream",
     "text": [
      "Model Factory: Criando tipo 'PVBin' com params: {'method': 'binary', 'query': 'binary', 'norm': None, 'query_norm': None, 'ngram_range': [1, 2]}\n",
      "Model Factory (PVBin): Convertido ngram_range [1, 2] para tupla (1, 2)\n",
      "Fitting ProductVectorizerClassifier com 100 amostras...\n",
      "Fit concluído.\n",
      "Model Factory: Criando tipo 'PVBin' com params: {'method': 'binary', 'query': 'binary', 'norm': None, 'query_norm': None, 'ngram_range': [1, 2]}\n",
      "Model Factory (PVBin): Convertido ngram_range [1, 2] para tupla (1, 2)\n",
      "Fitting ProductVectorizerClassifier com 100 amostras...\n",
      "Fit concluído.\n",
      "    Acc Real Geração 36: Max=0.2952, Avg=0.2942, Min=0.2813\n",
      "    F1 Real Geração  36: Max=0.0499, Avg=0.0498, Min=0.0476\n",
      "    Duração Geração 36: 13.93s\n",
      "\n",
      "  Geração 37/100\n"
     ]
    },
    {
     "data": {
      "application/vnd.jupyter.widget-view+json": {
       "model_id": "b4c396e4c5a242c3a6759df97202c6f7",
       "version_major": 2,
       "version_minor": 0
      },
      "text/plain": [
       "Fitness Calc Gen 37:   0%|          | 0/20 [00:00<?, ?it/s]"
      ]
     },
     "metadata": {},
     "output_type": "display_data"
    },
    {
     "name": "stdout",
     "output_type": "stream",
     "text": [
      "Model Factory: Criando tipo 'PVBin' com params: {'method': 'binary', 'query': 'binary', 'norm': None, 'query_norm': None, 'ngram_range': [1, 2]}\n",
      "Model Factory (PVBin): Convertido ngram_range [1, 2] para tupla (1, 2)\n",
      "Fitting ProductVectorizerClassifier com 100 amostras...\n",
      "Fit concluído.\n",
      "Model Factory: Criando tipo 'PVBin' com params: {'method': 'binary', 'query': 'binary', 'norm': None, 'query_norm': None, 'ngram_range': [1, 2]}\n",
      "Model Factory (PVBin): Convertido ngram_range [1, 2] para tupla (1, 2)\n",
      "Fitting ProductVectorizerClassifier com 100 amostras...\n",
      "Fit concluído.\n",
      "Model Factory: Criando tipo 'PVBin' com params: {'method': 'binary', 'query': 'binary', 'norm': None, 'query_norm': None, 'ngram_range': [1, 2]}\n",
      "Model Factory (PVBin): Convertido ngram_range [1, 2] para tupla (1, 2)\n",
      "Fitting ProductVectorizerClassifier com 100 amostras...\n",
      "Fit concluído.\n",
      "Model Factory: Criando tipo 'PVBin' com params: {'method': 'binary', 'query': 'binary', 'norm': None, 'query_norm': None, 'ngram_range': [1, 2]}\n",
      "Model Factory (PVBin): Convertido ngram_range [1, 2] para tupla (1, 2)\n",
      "Fitting ProductVectorizerClassifier com 100 amostras...\n",
      "Fit concluído.\n",
      "    Novo melhor (Obj: maximize): Perf Real=0.0510\n",
      "    Acc Real Geração 37: Max=0.3097, Avg=0.2965, Min=0.2929\n",
      "    F1 Real Geração  37: Max=0.0510, Avg=0.0499, Min=0.0480\n",
      "    Duração Geração 37: 26.59s\n",
      "\n",
      "  Geração 38/100\n"
     ]
    },
    {
     "data": {
      "application/vnd.jupyter.widget-view+json": {
       "model_id": "3a54cd06872a43939237827078c832ca",
       "version_major": 2,
       "version_minor": 0
      },
      "text/plain": [
       "Fitness Calc Gen 38:   0%|          | 0/20 [00:00<?, ?it/s]"
      ]
     },
     "metadata": {},
     "output_type": "display_data"
    },
    {
     "name": "stdout",
     "output_type": "stream",
     "text": [
      "Model Factory: Criando tipo 'PVBin' com params: {'method': 'binary', 'query': 'binary', 'norm': None, 'query_norm': None, 'ngram_range': [1, 2]}\n",
      "Model Factory (PVBin): Convertido ngram_range [1, 2] para tupla (1, 2)\n",
      "Fitting ProductVectorizerClassifier com 100 amostras...\n",
      "Fit concluído.\n",
      "Model Factory: Criando tipo 'PVBin' com params: {'method': 'binary', 'query': 'binary', 'norm': None, 'query_norm': None, 'ngram_range': [1, 2]}\n",
      "Model Factory (PVBin): Convertido ngram_range [1, 2] para tupla (1, 2)\n",
      "Fitting ProductVectorizerClassifier com 100 amostras...\n",
      "Fit concluído.\n",
      "Model Factory: Criando tipo 'PVBin' com params: {'method': 'binary', 'query': 'binary', 'norm': None, 'query_norm': None, 'ngram_range': [1, 2]}\n",
      "Model Factory (PVBin): Convertido ngram_range [1, 2] para tupla (1, 2)\n",
      "Fitting ProductVectorizerClassifier com 100 amostras...\n",
      "Fit concluído.\n",
      "Model Factory: Criando tipo 'PVBin' com params: {'method': 'binary', 'query': 'binary', 'norm': None, 'query_norm': None, 'ngram_range': [1, 2]}\n",
      "Model Factory (PVBin): Convertido ngram_range [1, 2] para tupla (1, 2)\n",
      "Fitting ProductVectorizerClassifier com 100 amostras...\n",
      "Fit concluído.\n",
      "    Acc Real Geração 38: Max=0.3044, Avg=0.2959, Min=0.2899\n",
      "    F1 Real Geração  38: Max=0.0510, Avg=0.0498, Min=0.0480\n",
      "    Duração Geração 38: 25.55s\n",
      "\n",
      "  Geração 39/100\n"
     ]
    },
    {
     "data": {
      "application/vnd.jupyter.widget-view+json": {
       "model_id": "a578c1be4eb549ca9bcbd41a7d241f7b",
       "version_major": 2,
       "version_minor": 0
      },
      "text/plain": [
       "Fitness Calc Gen 39:   0%|          | 0/20 [00:00<?, ?it/s]"
      ]
     },
     "metadata": {},
     "output_type": "display_data"
    },
    {
     "name": "stdout",
     "output_type": "stream",
     "text": [
      "Model Factory: Criando tipo 'PVBin' com params: {'method': 'binary', 'query': 'binary', 'norm': None, 'query_norm': None, 'ngram_range': [1, 2]}\n",
      "Model Factory (PVBin): Convertido ngram_range [1, 2] para tupla (1, 2)\n",
      "Fitting ProductVectorizerClassifier com 100 amostras...\n",
      "Fit concluído.\n",
      "Model Factory: Criando tipo 'PVBin' com params: {'method': 'binary', 'query': 'binary', 'norm': None, 'query_norm': None, 'ngram_range': [1, 2]}\n",
      "Model Factory (PVBin): Convertido ngram_range [1, 2] para tupla (1, 2)\n",
      "Fitting ProductVectorizerClassifier com 100 amostras...\n",
      "Fit concluído.\n",
      "Model Factory: Criando tipo 'PVBin' com params: {'method': 'binary', 'query': 'binary', 'norm': None, 'query_norm': None, 'ngram_range': [1, 2]}\n",
      "Model Factory (PVBin): Convertido ngram_range [1, 2] para tupla (1, 2)\n",
      "Fitting ProductVectorizerClassifier com 100 amostras...\n",
      "Fit concluído.\n",
      "Model Factory: Criando tipo 'PVBin' com params: {'method': 'binary', 'query': 'binary', 'norm': None, 'query_norm': None, 'ngram_range': [1, 2]}\n",
      "Model Factory (PVBin): Convertido ngram_range [1, 2] para tupla (1, 2)\n",
      "Fitting ProductVectorizerClassifier com 100 amostras...\n",
      "Fit concluído.\n",
      "Model Factory: Criando tipo 'PVBin' com params: {'method': 'binary', 'query': 'binary', 'norm': None, 'query_norm': None, 'ngram_range': [1, 2]}\n",
      "Model Factory (PVBin): Convertido ngram_range [1, 2] para tupla (1, 2)\n",
      "Fitting ProductVectorizerClassifier com 100 amostras...\n",
      "Fit concluído.\n",
      "    Acc Real Geração 39: Max=0.3049, Avg=0.2967, Min=0.2907\n",
      "    F1 Real Geração  39: Max=0.0510, Avg=0.0500, Min=0.0464\n",
      "    Duração Geração 39: 31.45s\n",
      "\n",
      "  Geração 40/100\n"
     ]
    },
    {
     "data": {
      "application/vnd.jupyter.widget-view+json": {
       "model_id": "8a1fb3621c8946828ca57637780eb09a",
       "version_major": 2,
       "version_minor": 0
      },
      "text/plain": [
       "Fitness Calc Gen 40:   0%|          | 0/20 [00:00<?, ?it/s]"
      ]
     },
     "metadata": {},
     "output_type": "display_data"
    },
    {
     "name": "stdout",
     "output_type": "stream",
     "text": [
      "Model Factory: Criando tipo 'PVBin' com params: {'method': 'binary', 'query': 'binary', 'norm': None, 'query_norm': None, 'ngram_range': [1, 2]}\n",
      "Model Factory (PVBin): Convertido ngram_range [1, 2] para tupla (1, 2)\n",
      "Fitting ProductVectorizerClassifier com 100 amostras...\n",
      "Fit concluído.\n",
      "Model Factory: Criando tipo 'PVBin' com params: {'method': 'binary', 'query': 'binary', 'norm': None, 'query_norm': None, 'ngram_range': [1, 2]}\n",
      "Model Factory (PVBin): Convertido ngram_range [1, 2] para tupla (1, 2)\n",
      "Fitting ProductVectorizerClassifier com 100 amostras...\n",
      "Fit concluído.\n",
      "Model Factory: Criando tipo 'PVBin' com params: {'method': 'binary', 'query': 'binary', 'norm': None, 'query_norm': None, 'ngram_range': [1, 2]}\n",
      "Model Factory (PVBin): Convertido ngram_range [1, 2] para tupla (1, 2)\n",
      "Fitting ProductVectorizerClassifier com 100 amostras...\n",
      "Fit concluído.\n",
      "Model Factory: Criando tipo 'PVBin' com params: {'method': 'binary', 'query': 'binary', 'norm': None, 'query_norm': None, 'ngram_range': [1, 2]}\n",
      "Model Factory (PVBin): Convertido ngram_range [1, 2] para tupla (1, 2)\n",
      "Fitting ProductVectorizerClassifier com 100 amostras...\n",
      "Fit concluído.\n",
      "Model Factory: Criando tipo 'PVBin' com params: {'method': 'binary', 'query': 'binary', 'norm': None, 'query_norm': None, 'ngram_range': [1, 2]}\n",
      "Model Factory (PVBin): Convertido ngram_range [1, 2] para tupla (1, 2)\n",
      "Fitting ProductVectorizerClassifier com 100 amostras...\n",
      "Fit concluído.\n",
      "Model Factory: Criando tipo 'PVBin' com params: {'method': 'binary', 'query': 'binary', 'norm': None, 'query_norm': None, 'ngram_range': [1, 2]}\n",
      "Model Factory (PVBin): Convertido ngram_range [1, 2] para tupla (1, 2)\n",
      "Fitting ProductVectorizerClassifier com 100 amostras...\n",
      "Fit concluído.\n",
      "Model Factory: Criando tipo 'PVBin' com params: {'method': 'binary', 'query': 'binary', 'norm': None, 'query_norm': None, 'ngram_range': [1, 2]}\n",
      "Model Factory (PVBin): Convertido ngram_range [1, 2] para tupla (1, 2)\n",
      "Fitting ProductVectorizerClassifier com 100 amostras...\n",
      "Fit concluído.\n",
      "Model Factory: Criando tipo 'PVBin' com params: {'method': 'binary', 'query': 'binary', 'norm': None, 'query_norm': None, 'ngram_range': [1, 2]}\n",
      "Model Factory (PVBin): Convertido ngram_range [1, 2] para tupla (1, 2)\n",
      "Fitting ProductVectorizerClassifier com 100 amostras...\n",
      "Fit concluído.\n",
      "    Acc Real Geração 40: Max=0.3049, Avg=0.2994, Min=0.2921\n",
      "    F1 Real Geração  40: Max=0.0510, Avg=0.0503, Min=0.0469\n",
      "    Duração Geração 40: 49.80s\n",
      "\n",
      "  Geração 41/100\n"
     ]
    },
    {
     "data": {
      "application/vnd.jupyter.widget-view+json": {
       "model_id": "48a0046f64454d4bb72c98b753a2856d",
       "version_major": 2,
       "version_minor": 0
      },
      "text/plain": [
       "Fitness Calc Gen 41:   0%|          | 0/20 [00:00<?, ?it/s]"
      ]
     },
     "metadata": {},
     "output_type": "display_data"
    },
    {
     "name": "stdout",
     "output_type": "stream",
     "text": [
      "Model Factory: Criando tipo 'PVBin' com params: {'method': 'binary', 'query': 'binary', 'norm': None, 'query_norm': None, 'ngram_range': [1, 2]}\n",
      "Model Factory (PVBin): Convertido ngram_range [1, 2] para tupla (1, 2)\n",
      "Fitting ProductVectorizerClassifier com 100 amostras...\n",
      "Fit concluído.\n",
      "Model Factory: Criando tipo 'PVBin' com params: {'method': 'binary', 'query': 'binary', 'norm': None, 'query_norm': None, 'ngram_range': [1, 2]}\n",
      "Model Factory (PVBin): Convertido ngram_range [1, 2] para tupla (1, 2)\n",
      "Fitting ProductVectorizerClassifier com 100 amostras...\n",
      "Fit concluído.\n",
      "Model Factory: Criando tipo 'PVBin' com params: {'method': 'binary', 'query': 'binary', 'norm': None, 'query_norm': None, 'ngram_range': [1, 2]}\n",
      "Model Factory (PVBin): Convertido ngram_range [1, 2] para tupla (1, 2)\n",
      "Fitting ProductVectorizerClassifier com 100 amostras...\n",
      "Fit concluído.\n",
      "Model Factory: Criando tipo 'PVBin' com params: {'method': 'binary', 'query': 'binary', 'norm': None, 'query_norm': None, 'ngram_range': [1, 2]}\n",
      "Model Factory (PVBin): Convertido ngram_range [1, 2] para tupla (1, 2)\n",
      "Fitting ProductVectorizerClassifier com 100 amostras...\n",
      "Fit concluído.\n",
      "Model Factory: Criando tipo 'PVBin' com params: {'method': 'binary', 'query': 'binary', 'norm': None, 'query_norm': None, 'ngram_range': [1, 2]}\n",
      "Model Factory (PVBin): Convertido ngram_range [1, 2] para tupla (1, 2)\n",
      "Fitting ProductVectorizerClassifier com 100 amostras...\n",
      "Fit concluído.\n",
      "Model Factory: Criando tipo 'PVBin' com params: {'method': 'binary', 'query': 'binary', 'norm': None, 'query_norm': None, 'ngram_range': [1, 2]}\n",
      "Model Factory (PVBin): Convertido ngram_range [1, 2] para tupla (1, 2)\n",
      "Fitting ProductVectorizerClassifier com 100 amostras...\n",
      "Fit concluído.\n",
      "Model Factory: Criando tipo 'PVBin' com params: {'method': 'binary', 'query': 'binary', 'norm': None, 'query_norm': None, 'ngram_range': [1, 2]}\n",
      "Model Factory (PVBin): Convertido ngram_range [1, 2] para tupla (1, 2)\n",
      "Fitting ProductVectorizerClassifier com 100 amostras...\n",
      "Fit concluído.\n",
      "Model Factory: Criando tipo 'PVBin' com params: {'method': 'binary', 'query': 'binary', 'norm': None, 'query_norm': None, 'ngram_range': [1, 2]}\n",
      "Model Factory (PVBin): Convertido ngram_range [1, 2] para tupla (1, 2)\n",
      "Fitting ProductVectorizerClassifier com 100 amostras...\n",
      "Fit concluído.\n",
      "Model Factory: Criando tipo 'PVBin' com params: {'method': 'binary', 'query': 'binary', 'norm': None, 'query_norm': None, 'ngram_range': [1, 2]}\n",
      "Model Factory (PVBin): Convertido ngram_range [1, 2] para tupla (1, 2)\n",
      "Fitting ProductVectorizerClassifier com 100 amostras...\n",
      "Fit concluído.\n",
      "Model Factory: Criando tipo 'PVBin' com params: {'method': 'binary', 'query': 'binary', 'norm': None, 'query_norm': None, 'ngram_range': [1, 2]}\n",
      "Model Factory (PVBin): Convertido ngram_range [1, 2] para tupla (1, 2)\n",
      "Fitting ProductVectorizerClassifier com 100 amostras...\n",
      "Fit concluído.\n",
      "    Novo melhor (Obj: maximize): Perf Real=0.0515\n",
      "    Acc Real Geração 41: Max=0.3094, Avg=0.3023, Min=0.2910\n",
      "    F1 Real Geração  41: Max=0.0515, Avg=0.0504, Min=0.0479\n",
      "    Duração Geração 41: 62.76s\n",
      "\n",
      "  Geração 42/100\n"
     ]
    },
    {
     "data": {
      "application/vnd.jupyter.widget-view+json": {
       "model_id": "8fb6f4d3d5234c7f9d699f288e94ca5f",
       "version_major": 2,
       "version_minor": 0
      },
      "text/plain": [
       "Fitness Calc Gen 42:   0%|          | 0/20 [00:00<?, ?it/s]"
      ]
     },
     "metadata": {},
     "output_type": "display_data"
    },
    {
     "name": "stdout",
     "output_type": "stream",
     "text": [
      "Model Factory: Criando tipo 'PVBin' com params: {'method': 'binary', 'query': 'binary', 'norm': None, 'query_norm': None, 'ngram_range': [1, 2]}\n",
      "Model Factory (PVBin): Convertido ngram_range [1, 2] para tupla (1, 2)\n",
      "Fitting ProductVectorizerClassifier com 100 amostras...\n",
      "Fit concluído.\n",
      "Model Factory: Criando tipo 'PVBin' com params: {'method': 'binary', 'query': 'binary', 'norm': None, 'query_norm': None, 'ngram_range': [1, 2]}\n",
      "Model Factory (PVBin): Convertido ngram_range [1, 2] para tupla (1, 2)\n",
      "Fitting ProductVectorizerClassifier com 100 amostras...\n",
      "Fit concluído.\n",
      "Model Factory: Criando tipo 'PVBin' com params: {'method': 'binary', 'query': 'binary', 'norm': None, 'query_norm': None, 'ngram_range': [1, 2]}\n",
      "Model Factory (PVBin): Convertido ngram_range [1, 2] para tupla (1, 2)\n",
      "Fitting ProductVectorizerClassifier com 100 amostras...\n",
      "Fit concluído.\n",
      "Model Factory: Criando tipo 'PVBin' com params: {'method': 'binary', 'query': 'binary', 'norm': None, 'query_norm': None, 'ngram_range': [1, 2]}\n",
      "Model Factory (PVBin): Convertido ngram_range [1, 2] para tupla (1, 2)\n",
      "Fitting ProductVectorizerClassifier com 100 amostras...\n",
      "Fit concluído.\n",
      "Model Factory: Criando tipo 'PVBin' com params: {'method': 'binary', 'query': 'binary', 'norm': None, 'query_norm': None, 'ngram_range': [1, 2]}\n",
      "Model Factory (PVBin): Convertido ngram_range [1, 2] para tupla (1, 2)\n",
      "Fitting ProductVectorizerClassifier com 100 amostras...\n",
      "Fit concluído.\n",
      "Model Factory: Criando tipo 'PVBin' com params: {'method': 'binary', 'query': 'binary', 'norm': None, 'query_norm': None, 'ngram_range': [1, 2]}\n",
      "Model Factory (PVBin): Convertido ngram_range [1, 2] para tupla (1, 2)\n",
      "Fitting ProductVectorizerClassifier com 100 amostras...\n",
      "Fit concluído.\n",
      "Model Factory: Criando tipo 'PVBin' com params: {'method': 'binary', 'query': 'binary', 'norm': None, 'query_norm': None, 'ngram_range': [1, 2]}\n",
      "Model Factory (PVBin): Convertido ngram_range [1, 2] para tupla (1, 2)\n",
      "Fitting ProductVectorizerClassifier com 100 amostras...\n",
      "Fit concluído.\n",
      "    Acc Real Geração 42: Max=0.3055, Avg=0.3022, Min=0.2846\n",
      "    F1 Real Geração  42: Max=0.0515, Avg=0.0506, Min=0.0479\n",
      "    Duração Geração 42: 48.85s\n",
      "\n",
      "  Geração 43/100\n"
     ]
    },
    {
     "data": {
      "application/vnd.jupyter.widget-view+json": {
       "model_id": "6e8f0b9799ef42b084933b4d9c180dac",
       "version_major": 2,
       "version_minor": 0
      },
      "text/plain": [
       "Fitness Calc Gen 43:   0%|          | 0/20 [00:00<?, ?it/s]"
      ]
     },
     "metadata": {},
     "output_type": "display_data"
    },
    {
     "name": "stdout",
     "output_type": "stream",
     "text": [
      "Model Factory: Criando tipo 'PVBin' com params: {'method': 'binary', 'query': 'binary', 'norm': None, 'query_norm': None, 'ngram_range': [1, 2]}\n",
      "Model Factory (PVBin): Convertido ngram_range [1, 2] para tupla (1, 2)\n",
      "Fitting ProductVectorizerClassifier com 100 amostras...\n",
      "Fit concluído.\n",
      "Model Factory: Criando tipo 'PVBin' com params: {'method': 'binary', 'query': 'binary', 'norm': None, 'query_norm': None, 'ngram_range': [1, 2]}\n",
      "Model Factory (PVBin): Convertido ngram_range [1, 2] para tupla (1, 2)\n",
      "Fitting ProductVectorizerClassifier com 100 amostras...\n",
      "Fit concluído.\n",
      "Model Factory: Criando tipo 'PVBin' com params: {'method': 'binary', 'query': 'binary', 'norm': None, 'query_norm': None, 'ngram_range': [1, 2]}\n",
      "Model Factory (PVBin): Convertido ngram_range [1, 2] para tupla (1, 2)\n",
      "Fitting ProductVectorizerClassifier com 100 amostras...\n",
      "Fit concluído.\n",
      "Model Factory: Criando tipo 'PVBin' com params: {'method': 'binary', 'query': 'binary', 'norm': None, 'query_norm': None, 'ngram_range': [1, 2]}\n",
      "Model Factory (PVBin): Convertido ngram_range [1, 2] para tupla (1, 2)\n",
      "Fitting ProductVectorizerClassifier com 100 amostras...\n",
      "Fit concluído.\n",
      "Model Factory: Criando tipo 'PVBin' com params: {'method': 'binary', 'query': 'binary', 'norm': None, 'query_norm': None, 'ngram_range': [1, 2]}\n",
      "Model Factory (PVBin): Convertido ngram_range [1, 2] para tupla (1, 2)\n",
      "Fitting ProductVectorizerClassifier com 100 amostras...\n",
      "Fit concluído.\n",
      "Model Factory: Criando tipo 'PVBin' com params: {'method': 'binary', 'query': 'binary', 'norm': None, 'query_norm': None, 'ngram_range': [1, 2]}\n",
      "Model Factory (PVBin): Convertido ngram_range [1, 2] para tupla (1, 2)\n",
      "Fitting ProductVectorizerClassifier com 100 amostras...\n",
      "Fit concluído.\n",
      "    Novo melhor (Obj: maximize): Perf Real=0.0517\n",
      "    Acc Real Geração 43: Max=0.3087, Avg=0.3051, Min=0.3010\n",
      "    F1 Real Geração  43: Max=0.0517, Avg=0.0508, Min=0.0480\n",
      "    Duração Geração 43: 44.01s\n",
      "\n",
      "  Geração 44/100\n"
     ]
    },
    {
     "data": {
      "application/vnd.jupyter.widget-view+json": {
       "model_id": "8c5f4271b634417295cf8e5134550072",
       "version_major": 2,
       "version_minor": 0
      },
      "text/plain": [
       "Fitness Calc Gen 44:   0%|          | 0/20 [00:00<?, ?it/s]"
      ]
     },
     "metadata": {},
     "output_type": "display_data"
    },
    {
     "name": "stdout",
     "output_type": "stream",
     "text": [
      "Model Factory: Criando tipo 'PVBin' com params: {'method': 'binary', 'query': 'binary', 'norm': None, 'query_norm': None, 'ngram_range': [1, 2]}\n",
      "Model Factory (PVBin): Convertido ngram_range [1, 2] para tupla (1, 2)\n",
      "Fitting ProductVectorizerClassifier com 100 amostras...\n",
      "Fit concluído.\n",
      "Model Factory: Criando tipo 'PVBin' com params: {'method': 'binary', 'query': 'binary', 'norm': None, 'query_norm': None, 'ngram_range': [1, 2]}\n",
      "Model Factory (PVBin): Convertido ngram_range [1, 2] para tupla (1, 2)\n",
      "Fitting ProductVectorizerClassifier com 100 amostras...\n",
      "Fit concluído.\n",
      "    Novo melhor (Obj: maximize): Perf Real=0.0519\n",
      "    Acc Real Geração 44: Max=0.3116, Avg=0.3058, Min=0.3044\n",
      "    F1 Real Geração  44: Max=0.0519, Avg=0.0514, Min=0.0504\n",
      "    Duração Geração 44: 16.65s\n",
      "\n",
      "  Geração 45/100\n"
     ]
    },
    {
     "data": {
      "application/vnd.jupyter.widget-view+json": {
       "model_id": "3d63069fd3714e5e94ef44f3c3fd51f2",
       "version_major": 2,
       "version_minor": 0
      },
      "text/plain": [
       "Fitness Calc Gen 45:   0%|          | 0/20 [00:00<?, ?it/s]"
      ]
     },
     "metadata": {},
     "output_type": "display_data"
    },
    {
     "name": "stdout",
     "output_type": "stream",
     "text": [
      "Model Factory: Criando tipo 'PVBin' com params: {'method': 'binary', 'query': 'binary', 'norm': None, 'query_norm': None, 'ngram_range': [1, 2]}\n",
      "Model Factory (PVBin): Convertido ngram_range [1, 2] para tupla (1, 2)\n",
      "Fitting ProductVectorizerClassifier com 100 amostras...\n",
      "Fit concluído.\n",
      "Model Factory: Criando tipo 'PVBin' com params: {'method': 'binary', 'query': 'binary', 'norm': None, 'query_norm': None, 'ngram_range': [1, 2]}\n",
      "Model Factory (PVBin): Convertido ngram_range [1, 2] para tupla (1, 2)\n",
      "Fitting ProductVectorizerClassifier com 100 amostras...\n",
      "Fit concluído.\n",
      "Model Factory: Criando tipo 'PVBin' com params: {'method': 'binary', 'query': 'binary', 'norm': None, 'query_norm': None, 'ngram_range': [1, 2]}\n",
      "Model Factory (PVBin): Convertido ngram_range [1, 2] para tupla (1, 2)\n",
      "Fitting ProductVectorizerClassifier com 100 amostras...\n",
      "Fit concluído.\n",
      "    Novo melhor (Obj: maximize): Perf Real=0.0519\n",
      "    Acc Real Geração 45: Max=0.3116, Avg=0.3059, Min=0.2956\n",
      "    F1 Real Geração  45: Max=0.0519, Avg=0.0514, Min=0.0489\n",
      "    Duração Geração 45: 28.95s\n",
      "\n",
      "  Geração 46/100\n"
     ]
    },
    {
     "data": {
      "application/vnd.jupyter.widget-view+json": {
       "model_id": "365ba05336f948799162425b10ca0870",
       "version_major": 2,
       "version_minor": 0
      },
      "text/plain": [
       "Fitness Calc Gen 46:   0%|          | 0/20 [00:00<?, ?it/s]"
      ]
     },
     "metadata": {},
     "output_type": "display_data"
    },
    {
     "name": "stdout",
     "output_type": "stream",
     "text": [
      "Model Factory: Criando tipo 'PVBin' com params: {'method': 'binary', 'query': 'binary', 'norm': None, 'query_norm': None, 'ngram_range': [1, 2]}\n",
      "Model Factory (PVBin): Convertido ngram_range [1, 2] para tupla (1, 2)\n",
      "Fitting ProductVectorizerClassifier com 100 amostras...\n",
      "Fit concluído.\n",
      "Model Factory: Criando tipo 'PVBin' com params: {'method': 'binary', 'query': 'binary', 'norm': None, 'query_norm': None, 'ngram_range': [1, 2]}\n",
      "Model Factory (PVBin): Convertido ngram_range [1, 2] para tupla (1, 2)\n",
      "Fitting ProductVectorizerClassifier com 100 amostras...\n",
      "Fit concluído.\n",
      "Model Factory: Criando tipo 'PVBin' com params: {'method': 'binary', 'query': 'binary', 'norm': None, 'query_norm': None, 'ngram_range': [1, 2]}\n",
      "Model Factory (PVBin): Convertido ngram_range [1, 2] para tupla (1, 2)\n",
      "Fitting ProductVectorizerClassifier com 100 amostras...\n",
      "Fit concluído.\n",
      "Model Factory: Criando tipo 'PVBin' com params: {'method': 'binary', 'query': 'binary', 'norm': None, 'query_norm': None, 'ngram_range': [1, 2]}\n",
      "Model Factory (PVBin): Convertido ngram_range [1, 2] para tupla (1, 2)\n",
      "Fitting ProductVectorizerClassifier com 100 amostras...\n",
      "Fit concluído.\n",
      "Model Factory: Criando tipo 'PVBin' com params: {'method': 'binary', 'query': 'binary', 'norm': None, 'query_norm': None, 'ngram_range': [1, 2]}\n",
      "Model Factory (PVBin): Convertido ngram_range [1, 2] para tupla (1, 2)\n",
      "Fitting ProductVectorizerClassifier com 100 amostras...\n",
      "Fit concluído.\n",
      "Model Factory: Criando tipo 'PVBin' com params: {'method': 'binary', 'query': 'binary', 'norm': None, 'query_norm': None, 'ngram_range': [1, 2]}\n",
      "Model Factory (PVBin): Convertido ngram_range [1, 2] para tupla (1, 2)\n",
      "Fitting ProductVectorizerClassifier com 100 amostras...\n",
      "Fit concluído.\n",
      "Model Factory: Criando tipo 'PVBin' com params: {'method': 'binary', 'query': 'binary', 'norm': None, 'query_norm': None, 'ngram_range': [1, 2]}\n",
      "Model Factory (PVBin): Convertido ngram_range [1, 2] para tupla (1, 2)\n",
      "Fitting ProductVectorizerClassifier com 100 amostras...\n",
      "Fit concluído.\n",
      "Model Factory: Criando tipo 'PVBin' com params: {'method': 'binary', 'query': 'binary', 'norm': None, 'query_norm': None, 'ngram_range': [1, 2]}\n",
      "Model Factory (PVBin): Convertido ngram_range [1, 2] para tupla (1, 2)\n",
      "Fitting ProductVectorizerClassifier com 100 amostras...\n",
      "Fit concluído.\n",
      "Model Factory: Criando tipo 'PVBin' com params: {'method': 'binary', 'query': 'binary', 'norm': None, 'query_norm': None, 'ngram_range': [1, 2]}\n",
      "Model Factory (PVBin): Convertido ngram_range [1, 2] para tupla (1, 2)\n",
      "Fitting ProductVectorizerClassifier com 100 amostras...\n",
      "Fit concluído.\n",
      "Model Factory: Criando tipo 'PVBin' com params: {'method': 'binary', 'query': 'binary', 'norm': None, 'query_norm': None, 'ngram_range': [1, 2]}\n",
      "Model Factory (PVBin): Convertido ngram_range [1, 2] para tupla (1, 2)\n",
      "Fitting ProductVectorizerClassifier com 100 amostras...\n",
      "Fit concluído.\n",
      "Model Factory: Criando tipo 'PVBin' com params: {'method': 'binary', 'query': 'binary', 'norm': None, 'query_norm': None, 'ngram_range': [1, 2]}\n",
      "Model Factory (PVBin): Convertido ngram_range [1, 2] para tupla (1, 2)\n",
      "Fitting ProductVectorizerClassifier com 100 amostras...\n",
      "Fit concluído.\n",
      "Model Factory: Criando tipo 'PVBin' com params: {'method': 'binary', 'query': 'binary', 'norm': None, 'query_norm': None, 'ngram_range': [1, 2]}\n",
      "Model Factory (PVBin): Convertido ngram_range [1, 2] para tupla (1, 2)\n",
      "Fitting ProductVectorizerClassifier com 100 amostras...\n",
      "Fit concluído.\n",
      "    Acc Real Geração 46: Max=0.3149, Avg=0.3045, Min=0.2702\n",
      "    F1 Real Geração  46: Max=0.0519, Avg=0.0510, Min=0.0478\n",
      "    Duração Geração 46: 114.53s\n",
      "\n",
      "  Geração 47/100\n"
     ]
    },
    {
     "data": {
      "application/vnd.jupyter.widget-view+json": {
       "model_id": "3811428c571641b388505211a6913aa1",
       "version_major": 2,
       "version_minor": 0
      },
      "text/plain": [
       "Fitness Calc Gen 47:   0%|          | 0/20 [00:00<?, ?it/s]"
      ]
     },
     "metadata": {},
     "output_type": "display_data"
    },
    {
     "name": "stdout",
     "output_type": "stream",
     "text": [
      "Model Factory: Criando tipo 'PVBin' com params: {'method': 'binary', 'query': 'binary', 'norm': None, 'query_norm': None, 'ngram_range': [1, 2]}\n",
      "Model Factory (PVBin): Convertido ngram_range [1, 2] para tupla (1, 2)\n",
      "Fitting ProductVectorizerClassifier com 100 amostras...\n",
      "Fit concluído.\n",
      "Model Factory: Criando tipo 'PVBin' com params: {'method': 'binary', 'query': 'binary', 'norm': None, 'query_norm': None, 'ngram_range': [1, 2]}\n",
      "Model Factory (PVBin): Convertido ngram_range [1, 2] para tupla (1, 2)\n",
      "Fitting ProductVectorizerClassifier com 100 amostras...\n",
      "Fit concluído.\n",
      "Model Factory: Criando tipo 'PVBin' com params: {'method': 'binary', 'query': 'binary', 'norm': None, 'query_norm': None, 'ngram_range': [1, 2]}\n",
      "Model Factory (PVBin): Convertido ngram_range [1, 2] para tupla (1, 2)\n",
      "Fitting ProductVectorizerClassifier com 100 amostras...\n",
      "Fit concluído.\n",
      "    Acc Real Geração 47: Max=0.3149, Avg=0.3064, Min=0.2781\n",
      "    F1 Real Geração  47: Max=0.0519, Avg=0.0517, Min=0.0504\n",
      "    Duração Geração 47: 37.22s\n",
      "\n",
      "  Geração 48/100\n"
     ]
    },
    {
     "data": {
      "application/vnd.jupyter.widget-view+json": {
       "model_id": "e3aacf410a5b49d1b108dbea595634fe",
       "version_major": 2,
       "version_minor": 0
      },
      "text/plain": [
       "Fitness Calc Gen 48:   0%|          | 0/20 [00:00<?, ?it/s]"
      ]
     },
     "metadata": {},
     "output_type": "display_data"
    },
    {
     "name": "stdout",
     "output_type": "stream",
     "text": [
      "Model Factory: Criando tipo 'PVBin' com params: {'method': 'binary', 'query': 'binary', 'norm': None, 'query_norm': None, 'ngram_range': [1, 2]}\n",
      "Model Factory (PVBin): Convertido ngram_range [1, 2] para tupla (1, 2)\n",
      "Fitting ProductVectorizerClassifier com 100 amostras...\n",
      "Fit concluído.\n",
      "Model Factory: Criando tipo 'PVBin' com params: {'method': 'binary', 'query': 'binary', 'norm': None, 'query_norm': None, 'ngram_range': [1, 2]}\n",
      "Model Factory (PVBin): Convertido ngram_range [1, 2] para tupla (1, 2)\n",
      "Fitting ProductVectorizerClassifier com 100 amostras...\n",
      "Fit concluído.\n",
      "Model Factory: Criando tipo 'PVBin' com params: {'method': 'binary', 'query': 'binary', 'norm': None, 'query_norm': None, 'ngram_range': [1, 2]}\n",
      "Model Factory (PVBin): Convertido ngram_range [1, 2] para tupla (1, 2)\n",
      "Fitting ProductVectorizerClassifier com 100 amostras...\n",
      "Fit concluído.\n",
      "Model Factory: Criando tipo 'PVBin' com params: {'method': 'binary', 'query': 'binary', 'norm': None, 'query_norm': None, 'ngram_range': [1, 2]}\n",
      "Model Factory (PVBin): Convertido ngram_range [1, 2] para tupla (1, 2)\n",
      "Fitting ProductVectorizerClassifier com 100 amostras...\n",
      "Fit concluído.\n",
      "    Acc Real Geração 48: Max=0.3116, Avg=0.3031, Min=0.2873\n",
      "    F1 Real Geração  48: Max=0.0519, Avg=0.0516, Min=0.0491\n",
      "    Duração Geração 48: 43.42s\n",
      "\n",
      "  Geração 49/100\n"
     ]
    },
    {
     "data": {
      "application/vnd.jupyter.widget-view+json": {
       "model_id": "bb6075d20ef546b2aaad9c47233bcb26",
       "version_major": 2,
       "version_minor": 0
      },
      "text/plain": [
       "Fitness Calc Gen 49:   0%|          | 0/20 [00:00<?, ?it/s]"
      ]
     },
     "metadata": {},
     "output_type": "display_data"
    },
    {
     "name": "stdout",
     "output_type": "stream",
     "text": [
      "Model Factory: Criando tipo 'PVBin' com params: {'method': 'binary', 'query': 'binary', 'norm': None, 'query_norm': None, 'ngram_range': [1, 2]}\n",
      "Model Factory (PVBin): Convertido ngram_range [1, 2] para tupla (1, 2)\n",
      "Fitting ProductVectorizerClassifier com 100 amostras...\n",
      "Fit concluído.\n",
      "Model Factory: Criando tipo 'PVBin' com params: {'method': 'binary', 'query': 'binary', 'norm': None, 'query_norm': None, 'ngram_range': [1, 2]}\n",
      "Model Factory (PVBin): Convertido ngram_range [1, 2] para tupla (1, 2)\n",
      "Fitting ProductVectorizerClassifier com 100 amostras...\n",
      "Fit concluído.\n",
      "    Acc Real Geração 49: Max=0.3116, Avg=0.3047, Min=0.2993\n",
      "    F1 Real Geração  49: Max=0.0519, Avg=0.0518, Min=0.0498\n",
      "    Duração Geração 49: 27.00s\n",
      "\n",
      "  Geração 50/100\n"
     ]
    },
    {
     "data": {
      "application/vnd.jupyter.widget-view+json": {
       "model_id": "a454976352b34937a8fe1583b421b019",
       "version_major": 2,
       "version_minor": 0
      },
      "text/plain": [
       "Fitness Calc Gen 50:   0%|          | 0/20 [00:00<?, ?it/s]"
      ]
     },
     "metadata": {},
     "output_type": "display_data"
    },
    {
     "name": "stdout",
     "output_type": "stream",
     "text": [
      "Model Factory: Criando tipo 'PVBin' com params: {'method': 'binary', 'query': 'binary', 'norm': None, 'query_norm': None, 'ngram_range': [1, 2]}\n",
      "Model Factory (PVBin): Convertido ngram_range [1, 2] para tupla (1, 2)\n",
      "Fitting ProductVectorizerClassifier com 100 amostras...\n",
      "Fit concluído.\n",
      "Model Factory: Criando tipo 'PVBin' com params: {'method': 'binary', 'query': 'binary', 'norm': None, 'query_norm': None, 'ngram_range': [1, 2]}\n",
      "Model Factory (PVBin): Convertido ngram_range [1, 2] para tupla (1, 2)\n",
      "Fitting ProductVectorizerClassifier com 100 amostras...\n",
      "Fit concluído.\n",
      "Model Factory: Criando tipo 'PVBin' com params: {'method': 'binary', 'query': 'binary', 'norm': None, 'query_norm': None, 'ngram_range': [1, 2]}\n",
      "Model Factory (PVBin): Convertido ngram_range [1, 2] para tupla (1, 2)\n",
      "Fitting ProductVectorizerClassifier com 100 amostras...\n",
      "Fit concluído.\n",
      "Model Factory: Criando tipo 'PVBin' com params: {'method': 'binary', 'query': 'binary', 'norm': None, 'query_norm': None, 'ngram_range': [1, 2]}\n",
      "Model Factory (PVBin): Convertido ngram_range [1, 2] para tupla (1, 2)\n",
      "Fitting ProductVectorizerClassifier com 100 amostras...\n",
      "Fit concluído.\n",
      "    Acc Real Geração 50: Max=0.3162, Avg=0.3035, Min=0.2888\n",
      "    F1 Real Geração  50: Max=0.0519, Avg=0.0513, Min=0.0476\n",
      "    Duração Geração 50: 51.28s\n",
      "\n",
      "  Geração 51/100\n"
     ]
    },
    {
     "data": {
      "application/vnd.jupyter.widget-view+json": {
       "model_id": "002989c7ceb648ffb25680161756b5f6",
       "version_major": 2,
       "version_minor": 0
      },
      "text/plain": [
       "Fitness Calc Gen 51:   0%|          | 0/20 [00:00<?, ?it/s]"
      ]
     },
     "metadata": {},
     "output_type": "display_data"
    },
    {
     "name": "stdout",
     "output_type": "stream",
     "text": [
      "Model Factory: Criando tipo 'PVBin' com params: {'method': 'binary', 'query': 'binary', 'norm': None, 'query_norm': None, 'ngram_range': [1, 2]}\n",
      "Model Factory (PVBin): Convertido ngram_range [1, 2] para tupla (1, 2)\n",
      "Fitting ProductVectorizerClassifier com 100 amostras...\n",
      "Fit concluído.\n",
      "Model Factory: Criando tipo 'PVBin' com params: {'method': 'binary', 'query': 'binary', 'norm': None, 'query_norm': None, 'ngram_range': [1, 2]}\n",
      "Model Factory (PVBin): Convertido ngram_range [1, 2] para tupla (1, 2)\n",
      "Fitting ProductVectorizerClassifier com 100 amostras...\n",
      "Fit concluído.\n",
      "Model Factory: Criando tipo 'PVBin' com params: {'method': 'binary', 'query': 'binary', 'norm': None, 'query_norm': None, 'ngram_range': [1, 2]}\n",
      "Model Factory (PVBin): Convertido ngram_range [1, 2] para tupla (1, 2)\n",
      "Fitting ProductVectorizerClassifier com 100 amostras...\n",
      "Fit concluído.\n",
      "Model Factory: Criando tipo 'PVBin' com params: {'method': 'binary', 'query': 'binary', 'norm': None, 'query_norm': None, 'ngram_range': [1, 2]}\n",
      "Model Factory (PVBin): Convertido ngram_range [1, 2] para tupla (1, 2)\n",
      "Fitting ProductVectorizerClassifier com 100 amostras...\n",
      "Fit concluído.\n",
      "Model Factory: Criando tipo 'PVBin' com params: {'method': 'binary', 'query': 'binary', 'norm': None, 'query_norm': None, 'ngram_range': [1, 2]}\n",
      "Model Factory (PVBin): Convertido ngram_range [1, 2] para tupla (1, 2)\n",
      "Fitting ProductVectorizerClassifier com 100 amostras...\n",
      "Fit concluído.\n",
      "    Acc Real Geração 51: Max=0.3045, Avg=0.3034, Min=0.2957\n",
      "    F1 Real Geração  51: Max=0.0519, Avg=0.0514, Min=0.0483\n",
      "    Duração Geração 51: 56.69s\n",
      "\n",
      "  Geração 52/100\n"
     ]
    },
    {
     "data": {
      "application/vnd.jupyter.widget-view+json": {
       "model_id": "f5440c20043a49ee9c81f0bd51b3dd61",
       "version_major": 2,
       "version_minor": 0
      },
      "text/plain": [
       "Fitness Calc Gen 52:   0%|          | 0/20 [00:00<?, ?it/s]"
      ]
     },
     "metadata": {},
     "output_type": "display_data"
    },
    {
     "name": "stdout",
     "output_type": "stream",
     "text": [
      "    Acc Real Geração 52: Max=0.3045, Avg=0.3045, Min=0.3045\n",
      "    F1 Real Geração  52: Max=0.0519, Avg=0.0519, Min=0.0519\n",
      "    Duração Geração 52: 0.34s\n",
      "\n",
      "  Geração 53/100\n"
     ]
    },
    {
     "data": {
      "application/vnd.jupyter.widget-view+json": {
       "model_id": "d1848eecedea43c9a468bfc51e3580c8",
       "version_major": 2,
       "version_minor": 0
      },
      "text/plain": [
       "Fitness Calc Gen 53:   0%|          | 0/20 [00:00<?, ?it/s]"
      ]
     },
     "metadata": {},
     "output_type": "display_data"
    },
    {
     "name": "stdout",
     "output_type": "stream",
     "text": [
      "Model Factory: Criando tipo 'PVBin' com params: {'method': 'binary', 'query': 'binary', 'norm': None, 'query_norm': None, 'ngram_range': [1, 2]}\n",
      "Model Factory (PVBin): Convertido ngram_range [1, 2] para tupla (1, 2)\n",
      "Fitting ProductVectorizerClassifier com 100 amostras...\n",
      "Fit concluído.\n",
      "Model Factory: Criando tipo 'PVBin' com params: {'method': 'binary', 'query': 'binary', 'norm': None, 'query_norm': None, 'ngram_range': [1, 2]}\n",
      "Model Factory (PVBin): Convertido ngram_range [1, 2] para tupla (1, 2)\n",
      "Fitting ProductVectorizerClassifier com 100 amostras...\n",
      "Fit concluído.\n",
      "Model Factory: Criando tipo 'PVBin' com params: {'method': 'binary', 'query': 'binary', 'norm': None, 'query_norm': None, 'ngram_range': [1, 2]}\n",
      "Model Factory (PVBin): Convertido ngram_range [1, 2] para tupla (1, 2)\n",
      "Fitting ProductVectorizerClassifier com 100 amostras...\n",
      "Fit concluído.\n",
      "Model Factory: Criando tipo 'PVBin' com params: {'method': 'binary', 'query': 'binary', 'norm': None, 'query_norm': None, 'ngram_range': [1, 2]}\n",
      "Model Factory (PVBin): Convertido ngram_range [1, 2] para tupla (1, 2)\n",
      "Fitting ProductVectorizerClassifier com 100 amostras...\n",
      "Fit concluído.\n",
      "    Acc Real Geração 53: Max=0.3045, Avg=0.3033, Min=0.2891\n",
      "    F1 Real Geração  53: Max=0.0519, Avg=0.0514, Min=0.0474\n",
      "    Duração Geração 53: 44.51s\n",
      "\n",
      "  Geração 54/100\n"
     ]
    },
    {
     "data": {
      "application/vnd.jupyter.widget-view+json": {
       "model_id": "e0dd9d3453f44a7c9bb08a3f97cb2d75",
       "version_major": 2,
       "version_minor": 0
      },
      "text/plain": [
       "Fitness Calc Gen 54:   0%|          | 0/20 [00:00<?, ?it/s]"
      ]
     },
     "metadata": {},
     "output_type": "display_data"
    },
    {
     "name": "stdout",
     "output_type": "stream",
     "text": [
      "Model Factory: Criando tipo 'PVBin' com params: {'method': 'binary', 'query': 'binary', 'norm': None, 'query_norm': None, 'ngram_range': [1, 2]}\n",
      "Model Factory (PVBin): Convertido ngram_range [1, 2] para tupla (1, 2)\n",
      "Fitting ProductVectorizerClassifier com 100 amostras...\n",
      "Fit concluído.\n",
      "    Acc Real Geração 54: Max=0.3133, Avg=0.3049, Min=0.3045\n",
      "    F1 Real Geração  54: Max=0.0519, Avg=0.0518, Min=0.0490\n",
      "    Duração Geração 54: 11.85s\n",
      "\n",
      "  Geração 55/100\n"
     ]
    },
    {
     "data": {
      "application/vnd.jupyter.widget-view+json": {
       "model_id": "571642db9f0b4e91884ecd2ba082f50e",
       "version_major": 2,
       "version_minor": 0
      },
      "text/plain": [
       "Fitness Calc Gen 55:   0%|          | 0/20 [00:00<?, ?it/s]"
      ]
     },
     "metadata": {},
     "output_type": "display_data"
    },
    {
     "name": "stdout",
     "output_type": "stream",
     "text": [
      "Model Factory: Criando tipo 'PVBin' com params: {'method': 'binary', 'query': 'binary', 'norm': None, 'query_norm': None, 'ngram_range': [1, 2]}\n",
      "Model Factory (PVBin): Convertido ngram_range [1, 2] para tupla (1, 2)\n",
      "Fitting ProductVectorizerClassifier com 100 amostras...\n",
      "Fit concluído.\n",
      "Model Factory: Criando tipo 'PVBin' com params: {'method': 'binary', 'query': 'binary', 'norm': None, 'query_norm': None, 'ngram_range': [1, 2]}\n",
      "Model Factory (PVBin): Convertido ngram_range [1, 2] para tupla (1, 2)\n",
      "Fitting ProductVectorizerClassifier com 100 amostras...\n",
      "Fit concluído.\n",
      "    Acc Real Geração 55: Max=0.3045, Avg=0.3036, Min=0.2935\n",
      "    F1 Real Geração  55: Max=0.0519, Avg=0.0518, Min=0.0501\n",
      "    Duração Geração 55: 21.89s\n",
      "\n",
      "  Geração 56/100\n"
     ]
    },
    {
     "data": {
      "application/vnd.jupyter.widget-view+json": {
       "model_id": "88165afe55354418a381146fea324a4f",
       "version_major": 2,
       "version_minor": 0
      },
      "text/plain": [
       "Fitness Calc Gen 56:   0%|          | 0/20 [00:00<?, ?it/s]"
      ]
     },
     "metadata": {},
     "output_type": "display_data"
    },
    {
     "name": "stdout",
     "output_type": "stream",
     "text": [
      "Model Factory: Criando tipo 'PVBin' com params: {'method': 'binary', 'query': 'binary', 'norm': None, 'query_norm': None, 'ngram_range': [1, 2]}\n",
      "Model Factory (PVBin): Convertido ngram_range [1, 2] para tupla (1, 2)\n",
      "Fitting ProductVectorizerClassifier com 100 amostras...\n",
      "Fit concluído.\n",
      "Model Factory: Criando tipo 'PVBin' com params: {'method': 'binary', 'query': 'binary', 'norm': None, 'query_norm': None, 'ngram_range': [1, 2]}\n",
      "Model Factory (PVBin): Convertido ngram_range [1, 2] para tupla (1, 2)\n",
      "Fitting ProductVectorizerClassifier com 100 amostras...\n",
      "Fit concluído.\n",
      "Model Factory: Criando tipo 'PVBin' com params: {'method': 'binary', 'query': 'binary', 'norm': None, 'query_norm': None, 'ngram_range': [1, 2]}\n",
      "Model Factory (PVBin): Convertido ngram_range [1, 2] para tupla (1, 2)\n",
      "Fitting ProductVectorizerClassifier com 100 amostras...\n",
      "Fit concluído.\n",
      "Model Factory: Criando tipo 'PVBin' com params: {'method': 'binary', 'query': 'binary', 'norm': None, 'query_norm': None, 'ngram_range': [1, 2]}\n",
      "Model Factory (PVBin): Convertido ngram_range [1, 2] para tupla (1, 2)\n",
      "Fitting ProductVectorizerClassifier com 100 amostras...\n",
      "Fit concluído.\n",
      "    Acc Real Geração 56: Max=0.3092, Avg=0.3046, Min=0.3014\n",
      "    F1 Real Geração  56: Max=0.0519, Avg=0.0515, Min=0.0475\n",
      "    Duração Geração 56: 42.30s\n",
      "\n",
      "  Geração 57/100\n"
     ]
    },
    {
     "data": {
      "application/vnd.jupyter.widget-view+json": {
       "model_id": "4c8f01cc18d4439ca7fdb9c00cdca96e",
       "version_major": 2,
       "version_minor": 0
      },
      "text/plain": [
       "Fitness Calc Gen 57:   0%|          | 0/20 [00:00<?, ?it/s]"
      ]
     },
     "metadata": {},
     "output_type": "display_data"
    },
    {
     "name": "stdout",
     "output_type": "stream",
     "text": [
      "Model Factory: Criando tipo 'PVBin' com params: {'method': 'binary', 'query': 'binary', 'norm': None, 'query_norm': None, 'ngram_range': [1, 2]}\n",
      "Model Factory (PVBin): Convertido ngram_range [1, 2] para tupla (1, 2)\n",
      "Fitting ProductVectorizerClassifier com 100 amostras...\n",
      "Fit concluído.\n",
      "Model Factory: Criando tipo 'PVBin' com params: {'method': 'binary', 'query': 'binary', 'norm': None, 'query_norm': None, 'ngram_range': [1, 2]}\n",
      "Model Factory (PVBin): Convertido ngram_range [1, 2] para tupla (1, 2)\n",
      "Fitting ProductVectorizerClassifier com 100 amostras...\n",
      "Fit concluído.\n",
      "Model Factory: Criando tipo 'PVBin' com params: {'method': 'binary', 'query': 'binary', 'norm': None, 'query_norm': None, 'ngram_range': [1, 2]}\n",
      "Model Factory (PVBin): Convertido ngram_range [1, 2] para tupla (1, 2)\n",
      "Fitting ProductVectorizerClassifier com 100 amostras...\n",
      "Fit concluído.\n",
      "    Acc Real Geração 57: Max=0.3045, Avg=0.3040, Min=0.2974\n",
      "    F1 Real Geração  57: Max=0.0519, Avg=0.0516, Min=0.0479\n",
      "    Duração Geração 57: 33.60s\n",
      "\n",
      "  Geração 58/100\n"
     ]
    },
    {
     "data": {
      "application/vnd.jupyter.widget-view+json": {
       "model_id": "bfa6eb080752491c8323bca31c46ce48",
       "version_major": 2,
       "version_minor": 0
      },
      "text/plain": [
       "Fitness Calc Gen 58:   0%|          | 0/20 [00:00<?, ?it/s]"
      ]
     },
     "metadata": {},
     "output_type": "display_data"
    },
    {
     "name": "stdout",
     "output_type": "stream",
     "text": [
      "Model Factory: Criando tipo 'PVBin' com params: {'method': 'binary', 'query': 'binary', 'norm': None, 'query_norm': None, 'ngram_range': [1, 2]}\n",
      "Model Factory (PVBin): Convertido ngram_range [1, 2] para tupla (1, 2)\n",
      "Fitting ProductVectorizerClassifier com 100 amostras...\n",
      "Fit concluído.\n",
      "Model Factory: Criando tipo 'PVBin' com params: {'method': 'binary', 'query': 'binary', 'norm': None, 'query_norm': None, 'ngram_range': [1, 2]}\n",
      "Model Factory (PVBin): Convertido ngram_range [1, 2] para tupla (1, 2)\n",
      "Fitting ProductVectorizerClassifier com 100 amostras...\n",
      "Fit concluído.\n",
      "Model Factory: Criando tipo 'PVBin' com params: {'method': 'binary', 'query': 'binary', 'norm': None, 'query_norm': None, 'ngram_range': [1, 2]}\n",
      "Model Factory (PVBin): Convertido ngram_range [1, 2] para tupla (1, 2)\n",
      "Fitting ProductVectorizerClassifier com 100 amostras...\n",
      "Fit concluído.\n",
      "Model Factory: Criando tipo 'PVBin' com params: {'method': 'binary', 'query': 'binary', 'norm': None, 'query_norm': None, 'ngram_range': [1, 2]}\n",
      "Model Factory (PVBin): Convertido ngram_range [1, 2] para tupla (1, 2)\n",
      "Fitting ProductVectorizerClassifier com 100 amostras...\n",
      "Fit concluído.\n",
      "    Acc Real Geração 58: Max=0.3073, Avg=0.3038, Min=0.2908\n",
      "    F1 Real Geração  58: Max=0.0519, Avg=0.0515, Min=0.0492\n",
      "    Duração Geração 58: 46.55s\n",
      "\n",
      "  Geração 59/100\n"
     ]
    },
    {
     "data": {
      "application/vnd.jupyter.widget-view+json": {
       "model_id": "c16c66f857ff46329931188ddfe30a54",
       "version_major": 2,
       "version_minor": 0
      },
      "text/plain": [
       "Fitness Calc Gen 59:   0%|          | 0/20 [00:00<?, ?it/s]"
      ]
     },
     "metadata": {},
     "output_type": "display_data"
    },
    {
     "name": "stdout",
     "output_type": "stream",
     "text": [
      "Model Factory: Criando tipo 'PVBin' com params: {'method': 'binary', 'query': 'binary', 'norm': None, 'query_norm': None, 'ngram_range': [1, 2]}\n",
      "Model Factory (PVBin): Convertido ngram_range [1, 2] para tupla (1, 2)\n",
      "Fitting ProductVectorizerClassifier com 100 amostras...\n",
      "Fit concluído.\n",
      "Model Factory: Criando tipo 'PVBin' com params: {'method': 'binary', 'query': 'binary', 'norm': None, 'query_norm': None, 'ngram_range': [1, 2]}\n",
      "Model Factory (PVBin): Convertido ngram_range [1, 2] para tupla (1, 2)\n",
      "Fitting ProductVectorizerClassifier com 100 amostras...\n",
      "Fit concluído.\n",
      "Model Factory: Criando tipo 'PVBin' com params: {'method': 'binary', 'query': 'binary', 'norm': None, 'query_norm': None, 'ngram_range': [1, 2]}\n",
      "Model Factory (PVBin): Convertido ngram_range [1, 2] para tupla (1, 2)\n",
      "Fitting ProductVectorizerClassifier com 100 amostras...\n",
      "Fit concluído.\n",
      "    Acc Real Geração 59: Max=0.3080, Avg=0.3045, Min=0.3023\n",
      "    F1 Real Geração  59: Max=0.0519, Avg=0.0517, Min=0.0487\n",
      "    Duração Geração 59: 32.00s\n",
      "\n",
      "  Geração 60/100\n"
     ]
    },
    {
     "data": {
      "application/vnd.jupyter.widget-view+json": {
       "model_id": "ffae12ffbade4897a77287b0731076f0",
       "version_major": 2,
       "version_minor": 0
      },
      "text/plain": [
       "Fitness Calc Gen 60:   0%|          | 0/20 [00:00<?, ?it/s]"
      ]
     },
     "metadata": {},
     "output_type": "display_data"
    },
    {
     "name": "stdout",
     "output_type": "stream",
     "text": [
      "Model Factory: Criando tipo 'PVBin' com params: {'method': 'binary', 'query': 'binary', 'norm': None, 'query_norm': None, 'ngram_range': [1, 2]}\n",
      "Model Factory (PVBin): Convertido ngram_range [1, 2] para tupla (1, 2)\n",
      "Fitting ProductVectorizerClassifier com 100 amostras...\n",
      "Fit concluído.\n",
      "Model Factory: Criando tipo 'PVBin' com params: {'method': 'binary', 'query': 'binary', 'norm': None, 'query_norm': None, 'ngram_range': [1, 2]}\n",
      "Model Factory (PVBin): Convertido ngram_range [1, 2] para tupla (1, 2)\n",
      "Fitting ProductVectorizerClassifier com 100 amostras...\n",
      "Fit concluído.\n",
      "Model Factory: Criando tipo 'PVBin' com params: {'method': 'binary', 'query': 'binary', 'norm': None, 'query_norm': None, 'ngram_range': [1, 2]}\n",
      "Model Factory (PVBin): Convertido ngram_range [1, 2] para tupla (1, 2)\n",
      "Fitting ProductVectorizerClassifier com 100 amostras...\n",
      "Fit concluído.\n",
      "    Acc Real Geração 60: Max=0.3092, Avg=0.3040, Min=0.2948\n",
      "    F1 Real Geração  60: Max=0.0519, Avg=0.0517, Min=0.0498\n",
      "    Duração Geração 60: 30.15s\n",
      "\n",
      "  Geração 61/100\n"
     ]
    },
    {
     "data": {
      "application/vnd.jupyter.widget-view+json": {
       "model_id": "ae803bcf8cc64b5cba2872c5f5128323",
       "version_major": 2,
       "version_minor": 0
      },
      "text/plain": [
       "Fitness Calc Gen 61:   0%|          | 0/20 [00:00<?, ?it/s]"
      ]
     },
     "metadata": {},
     "output_type": "display_data"
    },
    {
     "name": "stdout",
     "output_type": "stream",
     "text": [
      "Model Factory: Criando tipo 'PVBin' com params: {'method': 'binary', 'query': 'binary', 'norm': None, 'query_norm': None, 'ngram_range': [1, 2]}\n",
      "Model Factory (PVBin): Convertido ngram_range [1, 2] para tupla (1, 2)\n",
      "Fitting ProductVectorizerClassifier com 100 amostras...\n",
      "Fit concluído.\n",
      "Model Factory: Criando tipo 'PVBin' com params: {'method': 'binary', 'query': 'binary', 'norm': None, 'query_norm': None, 'ngram_range': [1, 2]}\n",
      "Model Factory (PVBin): Convertido ngram_range [1, 2] para tupla (1, 2)\n",
      "Fitting ProductVectorizerClassifier com 100 amostras...\n",
      "Fit concluído.\n",
      "Model Factory: Criando tipo 'PVBin' com params: {'method': 'binary', 'query': 'binary', 'norm': None, 'query_norm': None, 'ngram_range': [1, 2]}\n",
      "Model Factory (PVBin): Convertido ngram_range [1, 2] para tupla (1, 2)\n",
      "Fitting ProductVectorizerClassifier com 100 amostras...\n",
      "Fit concluído.\n",
      "Model Factory: Criando tipo 'PVBin' com params: {'method': 'binary', 'query': 'binary', 'norm': None, 'query_norm': None, 'ngram_range': [1, 2]}\n",
      "Model Factory (PVBin): Convertido ngram_range [1, 2] para tupla (1, 2)\n",
      "Fitting ProductVectorizerClassifier com 100 amostras...\n",
      "Fit concluído.\n",
      "Model Factory: Criando tipo 'PVBin' com params: {'method': 'binary', 'query': 'binary', 'norm': None, 'query_norm': None, 'ngram_range': [1, 2]}\n",
      "Model Factory (PVBin): Convertido ngram_range [1, 2] para tupla (1, 2)\n",
      "Fitting ProductVectorizerClassifier com 100 amostras...\n",
      "Fit concluído.\n",
      "    Acc Real Geração 61: Max=0.3073, Avg=0.3030, Min=0.2906\n",
      "    F1 Real Geração  61: Max=0.0519, Avg=0.0516, Min=0.0496\n",
      "    Duração Geração 61: 47.54s\n",
      "\n",
      "  Geração 62/100\n"
     ]
    },
    {
     "data": {
      "application/vnd.jupyter.widget-view+json": {
       "model_id": "7ebde19ade014397869d5dcef2312834",
       "version_major": 2,
       "version_minor": 0
      },
      "text/plain": [
       "Fitness Calc Gen 62:   0%|          | 0/20 [00:00<?, ?it/s]"
      ]
     },
     "metadata": {},
     "output_type": "display_data"
    },
    {
     "name": "stdout",
     "output_type": "stream",
     "text": [
      "Model Factory: Criando tipo 'PVBin' com params: {'method': 'binary', 'query': 'binary', 'norm': None, 'query_norm': None, 'ngram_range': [1, 2]}\n",
      "Model Factory (PVBin): Convertido ngram_range [1, 2] para tupla (1, 2)\n",
      "Fitting ProductVectorizerClassifier com 100 amostras...\n",
      "Fit concluído.\n",
      "Model Factory: Criando tipo 'PVBin' com params: {'method': 'binary', 'query': 'binary', 'norm': None, 'query_norm': None, 'ngram_range': [1, 2]}\n",
      "Model Factory (PVBin): Convertido ngram_range [1, 2] para tupla (1, 2)\n",
      "Fitting ProductVectorizerClassifier com 100 amostras...\n",
      "Fit concluído.\n",
      "Model Factory: Criando tipo 'PVBin' com params: {'method': 'binary', 'query': 'binary', 'norm': None, 'query_norm': None, 'ngram_range': [1, 2]}\n",
      "Model Factory (PVBin): Convertido ngram_range [1, 2] para tupla (1, 2)\n",
      "Fitting ProductVectorizerClassifier com 100 amostras...\n",
      "Fit concluído.\n",
      "Model Factory: Criando tipo 'PVBin' com params: {'method': 'binary', 'query': 'binary', 'norm': None, 'query_norm': None, 'ngram_range': [1, 2]}\n",
      "Model Factory (PVBin): Convertido ngram_range [1, 2] para tupla (1, 2)\n",
      "Fitting ProductVectorizerClassifier com 100 amostras...\n",
      "Fit concluído.\n",
      "    Acc Real Geração 62: Max=0.3072, Avg=0.3042, Min=0.2968\n",
      "    F1 Real Geração  62: Max=0.0519, Avg=0.0517, Min=0.0498\n",
      "    Duração Geração 62: 37.35s\n",
      "\n",
      "  Geração 63/100\n"
     ]
    },
    {
     "data": {
      "application/vnd.jupyter.widget-view+json": {
       "model_id": "77c3d46af47f4a68aabd256292771bf1",
       "version_major": 2,
       "version_minor": 0
      },
      "text/plain": [
       "Fitness Calc Gen 63:   0%|          | 0/20 [00:00<?, ?it/s]"
      ]
     },
     "metadata": {},
     "output_type": "display_data"
    },
    {
     "name": "stdout",
     "output_type": "stream",
     "text": [
      "Model Factory: Criando tipo 'PVBin' com params: {'method': 'binary', 'query': 'binary', 'norm': None, 'query_norm': None, 'ngram_range': [1, 2]}\n",
      "Model Factory (PVBin): Convertido ngram_range [1, 2] para tupla (1, 2)\n",
      "Fitting ProductVectorizerClassifier com 100 amostras...\n",
      "Fit concluído.\n",
      "Model Factory: Criando tipo 'PVBin' com params: {'method': 'binary', 'query': 'binary', 'norm': None, 'query_norm': None, 'ngram_range': [1, 2]}\n",
      "Model Factory (PVBin): Convertido ngram_range [1, 2] para tupla (1, 2)\n",
      "Fitting ProductVectorizerClassifier com 100 amostras...\n",
      "Fit concluído.\n",
      "Model Factory: Criando tipo 'PVBin' com params: {'method': 'binary', 'query': 'binary', 'norm': None, 'query_norm': None, 'ngram_range': [1, 2]}\n",
      "Model Factory (PVBin): Convertido ngram_range [1, 2] para tupla (1, 2)\n",
      "Fitting ProductVectorizerClassifier com 100 amostras...\n",
      "Fit concluído.\n",
      "Model Factory: Criando tipo 'PVBin' com params: {'method': 'binary', 'query': 'binary', 'norm': None, 'query_norm': None, 'ngram_range': [1, 2]}\n",
      "Model Factory (PVBin): Convertido ngram_range [1, 2] para tupla (1, 2)\n",
      "Fitting ProductVectorizerClassifier com 100 amostras...\n",
      "Fit concluído.\n",
      "    Acc Real Geração 63: Max=0.3059, Avg=0.3038, Min=0.2954\n",
      "    F1 Real Geração  63: Max=0.0519, Avg=0.0515, Min=0.0483\n",
      "    Duração Geração 63: 43.74s\n",
      "\n",
      "  Geração 64/100\n"
     ]
    },
    {
     "data": {
      "application/vnd.jupyter.widget-view+json": {
       "model_id": "6a8e526c0df24f519af087ee4f0c93f2",
       "version_major": 2,
       "version_minor": 0
      },
      "text/plain": [
       "Fitness Calc Gen 64:   0%|          | 0/20 [00:00<?, ?it/s]"
      ]
     },
     "metadata": {},
     "output_type": "display_data"
    },
    {
     "name": "stdout",
     "output_type": "stream",
     "text": [
      "Model Factory: Criando tipo 'PVBin' com params: {'method': 'binary', 'query': 'binary', 'norm': None, 'query_norm': None, 'ngram_range': [1, 2]}\n",
      "Model Factory (PVBin): Convertido ngram_range [1, 2] para tupla (1, 2)\n",
      "Fitting ProductVectorizerClassifier com 100 amostras...\n",
      "Fit concluído.\n",
      "    Acc Real Geração 64: Max=0.3045, Avg=0.3041, Min=0.2976\n",
      "    F1 Real Geração  64: Max=0.0519, Avg=0.0518, Min=0.0497\n",
      "    Duração Geração 64: 10.60s\n",
      "\n",
      "  Geração 65/100\n"
     ]
    },
    {
     "data": {
      "application/vnd.jupyter.widget-view+json": {
       "model_id": "775aea8f3b614a5ba05839985ba8c030",
       "version_major": 2,
       "version_minor": 0
      },
      "text/plain": [
       "Fitness Calc Gen 65:   0%|          | 0/20 [00:00<?, ?it/s]"
      ]
     },
     "metadata": {},
     "output_type": "display_data"
    },
    {
     "name": "stdout",
     "output_type": "stream",
     "text": [
      "Model Factory: Criando tipo 'PVBin' com params: {'method': 'binary', 'query': 'binary', 'norm': None, 'query_norm': None, 'ngram_range': [1, 2]}\n",
      "Model Factory (PVBin): Convertido ngram_range [1, 2] para tupla (1, 2)\n",
      "Fitting ProductVectorizerClassifier com 100 amostras...\n",
      "Fit concluído.\n",
      "Model Factory: Criando tipo 'PVBin' com params: {'method': 'binary', 'query': 'binary', 'norm': None, 'query_norm': None, 'ngram_range': [1, 2]}\n",
      "Model Factory (PVBin): Convertido ngram_range [1, 2] para tupla (1, 2)\n",
      "Fitting ProductVectorizerClassifier com 100 amostras...\n",
      "Fit concluído.\n",
      "Model Factory: Criando tipo 'PVBin' com params: {'method': 'binary', 'query': 'binary', 'norm': None, 'query_norm': None, 'ngram_range': [1, 2]}\n",
      "Model Factory (PVBin): Convertido ngram_range [1, 2] para tupla (1, 2)\n",
      "Fitting ProductVectorizerClassifier com 100 amostras...\n",
      "Fit concluído.\n",
      "    Acc Real Geração 65: Max=0.3048, Avg=0.3040, Min=0.2977\n",
      "    F1 Real Geração  65: Max=0.0519, Avg=0.0515, Min=0.0472\n",
      "    Duração Geração 65: 31.81s\n",
      "\n",
      "  Geração 66/100\n"
     ]
    },
    {
     "data": {
      "application/vnd.jupyter.widget-view+json": {
       "model_id": "fde09c16bf2948e49596ccfb639819f2",
       "version_major": 2,
       "version_minor": 0
      },
      "text/plain": [
       "Fitness Calc Gen 66:   0%|          | 0/20 [00:00<?, ?it/s]"
      ]
     },
     "metadata": {},
     "output_type": "display_data"
    },
    {
     "name": "stdout",
     "output_type": "stream",
     "text": [
      "Model Factory: Criando tipo 'PVBin' com params: {'method': 'binary', 'query': 'binary', 'norm': None, 'query_norm': None, 'ngram_range': [1, 2]}\n",
      "Model Factory (PVBin): Convertido ngram_range [1, 2] para tupla (1, 2)\n",
      "Fitting ProductVectorizerClassifier com 100 amostras...\n",
      "Fit concluído.\n",
      "Model Factory: Criando tipo 'PVBin' com params: {'method': 'binary', 'query': 'binary', 'norm': None, 'query_norm': None, 'ngram_range': [1, 2]}\n",
      "Model Factory (PVBin): Convertido ngram_range [1, 2] para tupla (1, 2)\n",
      "Fitting ProductVectorizerClassifier com 100 amostras...\n",
      "Fit concluído.\n",
      "Model Factory: Criando tipo 'PVBin' com params: {'method': 'binary', 'query': 'binary', 'norm': None, 'query_norm': None, 'ngram_range': [1, 2]}\n",
      "Model Factory (PVBin): Convertido ngram_range [1, 2] para tupla (1, 2)\n",
      "Fitting ProductVectorizerClassifier com 100 amostras...\n",
      "Fit concluído.\n",
      "Model Factory: Criando tipo 'PVBin' com params: {'method': 'binary', 'query': 'binary', 'norm': None, 'query_norm': None, 'ngram_range': [1, 2]}\n",
      "Model Factory (PVBin): Convertido ngram_range [1, 2] para tupla (1, 2)\n",
      "Fitting ProductVectorizerClassifier com 100 amostras...\n",
      "Fit concluído.\n",
      "Model Factory: Criando tipo 'PVBin' com params: {'method': 'binary', 'query': 'binary', 'norm': None, 'query_norm': None, 'ngram_range': [1, 2]}\n",
      "Model Factory (PVBin): Convertido ngram_range [1, 2] para tupla (1, 2)\n",
      "Fitting ProductVectorizerClassifier com 100 amostras...\n",
      "Fit concluído.\n",
      "    Acc Real Geração 66: Max=0.3127, Avg=0.3039, Min=0.2979\n",
      "    F1 Real Geração  66: Max=0.0519, Avg=0.0515, Min=0.0496\n",
      "    Duração Geração 66: 52.84s\n",
      "\n",
      "  Geração 67/100\n"
     ]
    },
    {
     "data": {
      "application/vnd.jupyter.widget-view+json": {
       "model_id": "bd0a3cefa64843efb305c54042626a2d",
       "version_major": 2,
       "version_minor": 0
      },
      "text/plain": [
       "Fitness Calc Gen 67:   0%|          | 0/20 [00:00<?, ?it/s]"
      ]
     },
     "metadata": {},
     "output_type": "display_data"
    },
    {
     "name": "stdout",
     "output_type": "stream",
     "text": [
      "Model Factory: Criando tipo 'PVBin' com params: {'method': 'binary', 'query': 'binary', 'norm': None, 'query_norm': None, 'ngram_range': [1, 2]}\n",
      "Model Factory (PVBin): Convertido ngram_range [1, 2] para tupla (1, 2)\n",
      "Fitting ProductVectorizerClassifier com 100 amostras...\n",
      "Fit concluído.\n",
      "Model Factory: Criando tipo 'PVBin' com params: {'method': 'binary', 'query': 'binary', 'norm': None, 'query_norm': None, 'ngram_range': [1, 2]}\n",
      "Model Factory (PVBin): Convertido ngram_range [1, 2] para tupla (1, 2)\n",
      "Fitting ProductVectorizerClassifier com 100 amostras...\n",
      "Fit concluído.\n",
      "Model Factory: Criando tipo 'PVBin' com params: {'method': 'binary', 'query': 'binary', 'norm': None, 'query_norm': None, 'ngram_range': [1, 2]}\n",
      "Model Factory (PVBin): Convertido ngram_range [1, 2] para tupla (1, 2)\n",
      "Fitting ProductVectorizerClassifier com 100 amostras...\n",
      "Fit concluído.\n",
      "    Novo melhor (Obj: maximize): Perf Real=0.0520\n",
      "    Acc Real Geração 67: Max=0.3127, Avg=0.3051, Min=0.3045\n",
      "    F1 Real Geração  67: Max=0.0520, Avg=0.0516, Min=0.0483\n",
      "    Duração Geração 67: 37.89s\n",
      "\n",
      "  Geração 68/100\n"
     ]
    },
    {
     "data": {
      "application/vnd.jupyter.widget-view+json": {
       "model_id": "6d7faad920194075b5d5794043529342",
       "version_major": 2,
       "version_minor": 0
      },
      "text/plain": [
       "Fitness Calc Gen 68:   0%|          | 0/20 [00:00<?, ?it/s]"
      ]
     },
     "metadata": {},
     "output_type": "display_data"
    },
    {
     "name": "stdout",
     "output_type": "stream",
     "text": [
      "Model Factory: Criando tipo 'PVBin' com params: {'method': 'binary', 'query': 'binary', 'norm': None, 'query_norm': None, 'ngram_range': [1, 2]}\n",
      "Model Factory (PVBin): Convertido ngram_range [1, 2] para tupla (1, 2)\n",
      "Fitting ProductVectorizerClassifier com 100 amostras...\n",
      "Fit concluído.\n",
      "Model Factory: Criando tipo 'PVBin' com params: {'method': 'binary', 'query': 'binary', 'norm': None, 'query_norm': None, 'ngram_range': [1, 2]}\n",
      "Model Factory (PVBin): Convertido ngram_range [1, 2] para tupla (1, 2)\n",
      "Fitting ProductVectorizerClassifier com 100 amostras...\n",
      "Fit concluído.\n",
      "Model Factory: Criando tipo 'PVBin' com params: {'method': 'binary', 'query': 'binary', 'norm': None, 'query_norm': None, 'ngram_range': [1, 2]}\n",
      "Model Factory (PVBin): Convertido ngram_range [1, 2] para tupla (1, 2)\n",
      "Fitting ProductVectorizerClassifier com 100 amostras...\n",
      "Fit concluído.\n",
      "Model Factory: Criando tipo 'PVBin' com params: {'method': 'binary', 'query': 'binary', 'norm': None, 'query_norm': None, 'ngram_range': [1, 2]}\n",
      "Model Factory (PVBin): Convertido ngram_range [1, 2] para tupla (1, 2)\n",
      "Fitting ProductVectorizerClassifier com 100 amostras...\n",
      "Fit concluído.\n",
      "Model Factory: Criando tipo 'PVBin' com params: {'method': 'binary', 'query': 'binary', 'norm': None, 'query_norm': None, 'ngram_range': [1, 2]}\n",
      "Model Factory (PVBin): Convertido ngram_range [1, 2] para tupla (1, 2)\n",
      "Fitting ProductVectorizerClassifier com 100 amostras...\n",
      "Fit concluído.\n",
      "Model Factory: Criando tipo 'PVBin' com params: {'method': 'binary', 'query': 'binary', 'norm': None, 'query_norm': None, 'ngram_range': [1, 2]}\n",
      "Model Factory (PVBin): Convertido ngram_range [1, 2] para tupla (1, 2)\n",
      "Fitting ProductVectorizerClassifier com 100 amostras...\n",
      "Fit concluído.\n",
      "Model Factory: Criando tipo 'PVBin' com params: {'method': 'binary', 'query': 'binary', 'norm': None, 'query_norm': None, 'ngram_range': [1, 2]}\n",
      "Model Factory (PVBin): Convertido ngram_range [1, 2] para tupla (1, 2)\n",
      "Fitting ProductVectorizerClassifier com 100 amostras...\n",
      "Fit concluído.\n",
      "    Novo melhor (Obj: maximize): Perf Real=0.0523\n",
      "    Acc Real Geração 68: Max=0.3068, Avg=0.3028, Min=0.2868\n",
      "    F1 Real Geração  68: Max=0.0523, Avg=0.0514, Min=0.0480\n",
      "    Duração Geração 68: 69.08s\n",
      "\n",
      "  Geração 69/100\n"
     ]
    },
    {
     "data": {
      "application/vnd.jupyter.widget-view+json": {
       "model_id": "cd6979db462342feabb6a2caf9da818d",
       "version_major": 2,
       "version_minor": 0
      },
      "text/plain": [
       "Fitness Calc Gen 69:   0%|          | 0/20 [00:00<?, ?it/s]"
      ]
     },
     "metadata": {},
     "output_type": "display_data"
    },
    {
     "name": "stdout",
     "output_type": "stream",
     "text": [
      "Model Factory: Criando tipo 'PVBin' com params: {'method': 'binary', 'query': 'binary', 'norm': None, 'query_norm': None, 'ngram_range': [1, 2]}\n",
      "Model Factory (PVBin): Convertido ngram_range [1, 2] para tupla (1, 2)\n",
      "Fitting ProductVectorizerClassifier com 100 amostras...\n",
      "Fit concluído.\n",
      "Model Factory: Criando tipo 'PVBin' com params: {'method': 'binary', 'query': 'binary', 'norm': None, 'query_norm': None, 'ngram_range': [1, 2]}\n",
      "Model Factory (PVBin): Convertido ngram_range [1, 2] para tupla (1, 2)\n",
      "Fitting ProductVectorizerClassifier com 100 amostras...\n",
      "Fit concluído.\n",
      "Model Factory: Criando tipo 'PVBin' com params: {'method': 'binary', 'query': 'binary', 'norm': None, 'query_norm': None, 'ngram_range': [1, 2]}\n",
      "Model Factory (PVBin): Convertido ngram_range [1, 2] para tupla (1, 2)\n",
      "Fitting ProductVectorizerClassifier com 100 amostras...\n",
      "Fit concluído.\n",
      "Model Factory: Criando tipo 'PVBin' com params: {'method': 'binary', 'query': 'binary', 'norm': None, 'query_norm': None, 'ngram_range': [1, 2]}\n",
      "Model Factory (PVBin): Convertido ngram_range [1, 2] para tupla (1, 2)\n",
      "Fitting ProductVectorizerClassifier com 100 amostras...\n",
      "Fit concluído.\n",
      "Model Factory: Criando tipo 'PVBin' com params: {'method': 'binary', 'query': 'binary', 'norm': None, 'query_norm': None, 'ngram_range': [1, 2]}\n",
      "Model Factory (PVBin): Convertido ngram_range [1, 2] para tupla (1, 2)\n",
      "Fitting ProductVectorizerClassifier com 100 amostras...\n",
      "Fit concluído.\n",
      "Model Factory: Criando tipo 'PVBin' com params: {'method': 'binary', 'query': 'binary', 'norm': None, 'query_norm': None, 'ngram_range': [1, 2]}\n",
      "Model Factory (PVBin): Convertido ngram_range [1, 2] para tupla (1, 2)\n",
      "Fitting ProductVectorizerClassifier com 100 amostras...\n",
      "Fit concluído.\n",
      "Model Factory: Criando tipo 'PVBin' com params: {'method': 'binary', 'query': 'binary', 'norm': None, 'query_norm': None, 'ngram_range': [1, 2]}\n",
      "Model Factory (PVBin): Convertido ngram_range [1, 2] para tupla (1, 2)\n",
      "Fitting ProductVectorizerClassifier com 100 amostras...\n",
      "Fit concluído.\n",
      "Model Factory: Criando tipo 'PVBin' com params: {'method': 'binary', 'query': 'binary', 'norm': None, 'query_norm': None, 'ngram_range': [1, 2]}\n",
      "Model Factory (PVBin): Convertido ngram_range [1, 2] para tupla (1, 2)\n",
      "Fitting ProductVectorizerClassifier com 100 amostras...\n",
      "Fit concluído.\n",
      "Model Factory: Criando tipo 'PVBin' com params: {'method': 'binary', 'query': 'binary', 'norm': None, 'query_norm': None, 'ngram_range': [1, 2]}\n",
      "Model Factory (PVBin): Convertido ngram_range [1, 2] para tupla (1, 2)\n",
      "Fitting ProductVectorizerClassifier com 100 amostras...\n",
      "Fit concluído.\n",
      "    Acc Real Geração 69: Max=0.3077, Avg=0.3044, Min=0.2921\n",
      "    F1 Real Geração  69: Max=0.0523, Avg=0.0515, Min=0.0470\n",
      "    Duração Geração 69: 82.79s\n",
      "\n",
      "  Geração 70/100\n"
     ]
    },
    {
     "data": {
      "application/vnd.jupyter.widget-view+json": {
       "model_id": "927c568039404490b857630bf81bf7da",
       "version_major": 2,
       "version_minor": 0
      },
      "text/plain": [
       "Fitness Calc Gen 70:   0%|          | 0/20 [00:00<?, ?it/s]"
      ]
     },
     "metadata": {},
     "output_type": "display_data"
    },
    {
     "name": "stdout",
     "output_type": "stream",
     "text": [
      "Model Factory: Criando tipo 'PVBin' com params: {'method': 'binary', 'query': 'binary', 'norm': None, 'query_norm': None, 'ngram_range': [1, 2]}\n",
      "Model Factory (PVBin): Convertido ngram_range [1, 2] para tupla (1, 2)\n",
      "Fitting ProductVectorizerClassifier com 100 amostras...\n",
      "Fit concluído.\n",
      "Model Factory: Criando tipo 'PVBin' com params: {'method': 'binary', 'query': 'binary', 'norm': None, 'query_norm': None, 'ngram_range': [1, 2]}\n",
      "Model Factory (PVBin): Convertido ngram_range [1, 2] para tupla (1, 2)\n",
      "Fitting ProductVectorizerClassifier com 100 amostras...\n",
      "Fit concluído.\n",
      "Model Factory: Criando tipo 'PVBin' com params: {'method': 'binary', 'query': 'binary', 'norm': None, 'query_norm': None, 'ngram_range': [1, 2]}\n",
      "Model Factory (PVBin): Convertido ngram_range [1, 2] para tupla (1, 2)\n",
      "Fitting ProductVectorizerClassifier com 100 amostras...\n",
      "Fit concluído.\n",
      "Model Factory: Criando tipo 'PVBin' com params: {'method': 'binary', 'query': 'binary', 'norm': None, 'query_norm': None, 'ngram_range': [1, 2]}\n",
      "Model Factory (PVBin): Convertido ngram_range [1, 2] para tupla (1, 2)\n",
      "Fitting ProductVectorizerClassifier com 100 amostras...\n",
      "Fit concluído.\n",
      "    Acc Real Geração 70: Max=0.3097, Avg=0.3054, Min=0.2940\n",
      "    F1 Real Geração  70: Max=0.0523, Avg=0.0517, Min=0.0484\n",
      "    Duração Geração 70: 28.20s\n",
      "\n",
      "  Geração 71/100\n"
     ]
    },
    {
     "data": {
      "application/vnd.jupyter.widget-view+json": {
       "model_id": "9310b3fd00634634853ae79b242f55a6",
       "version_major": 2,
       "version_minor": 0
      },
      "text/plain": [
       "Fitness Calc Gen 71:   0%|          | 0/20 [00:00<?, ?it/s]"
      ]
     },
     "metadata": {},
     "output_type": "display_data"
    },
    {
     "name": "stdout",
     "output_type": "stream",
     "text": [
      "Model Factory: Criando tipo 'PVBin' com params: {'method': 'binary', 'query': 'binary', 'norm': None, 'query_norm': None, 'ngram_range': [1, 2]}\n",
      "Model Factory (PVBin): Convertido ngram_range [1, 2] para tupla (1, 2)\n",
      "Fitting ProductVectorizerClassifier com 100 amostras...\n",
      "Fit concluído.\n",
      "Model Factory: Criando tipo 'PVBin' com params: {'method': 'binary', 'query': 'binary', 'norm': None, 'query_norm': None, 'ngram_range': [1, 2]}\n",
      "Model Factory (PVBin): Convertido ngram_range [1, 2] para tupla (1, 2)\n",
      "Fitting ProductVectorizerClassifier com 100 amostras...\n",
      "Fit concluído.\n",
      "Model Factory: Criando tipo 'PVBin' com params: {'method': 'binary', 'query': 'binary', 'norm': None, 'query_norm': None, 'ngram_range': [1, 2]}\n",
      "Model Factory (PVBin): Convertido ngram_range [1, 2] para tupla (1, 2)\n",
      "Fitting ProductVectorizerClassifier com 100 amostras...\n",
      "Fit concluído.\n",
      "    Acc Real Geração 71: Max=0.3077, Avg=0.3066, Min=0.3030\n",
      "    F1 Real Geração  71: Max=0.0523, Avg=0.0521, Min=0.0509\n",
      "    Duração Geração 71: 18.84s\n",
      "\n",
      "  Geração 72/100\n"
     ]
    },
    {
     "data": {
      "application/vnd.jupyter.widget-view+json": {
       "model_id": "20f36bafe82c43049df5bcff7930fcbb",
       "version_major": 2,
       "version_minor": 0
      },
      "text/plain": [
       "Fitness Calc Gen 72:   0%|          | 0/20 [00:00<?, ?it/s]"
      ]
     },
     "metadata": {},
     "output_type": "display_data"
    },
    {
     "name": "stdout",
     "output_type": "stream",
     "text": [
      "Model Factory: Criando tipo 'PVBin' com params: {'method': 'binary', 'query': 'binary', 'norm': None, 'query_norm': None, 'ngram_range': [1, 2]}\n",
      "Model Factory (PVBin): Convertido ngram_range [1, 2] para tupla (1, 2)\n",
      "Fitting ProductVectorizerClassifier com 100 amostras...\n",
      "Fit concluído.\n",
      "Model Factory: Criando tipo 'PVBin' com params: {'method': 'binary', 'query': 'binary', 'norm': None, 'query_norm': None, 'ngram_range': [1, 2]}\n",
      "Model Factory (PVBin): Convertido ngram_range [1, 2] para tupla (1, 2)\n",
      "Fitting ProductVectorizerClassifier com 100 amostras...\n",
      "Fit concluído.\n",
      "Model Factory: Criando tipo 'PVBin' com params: {'method': 'binary', 'query': 'binary', 'norm': None, 'query_norm': None, 'ngram_range': [1, 2]}\n",
      "Model Factory (PVBin): Convertido ngram_range [1, 2] para tupla (1, 2)\n",
      "Fitting ProductVectorizerClassifier com 100 amostras...\n",
      "Fit concluído.\n",
      "Model Factory: Criando tipo 'PVBin' com params: {'method': 'binary', 'query': 'binary', 'norm': None, 'query_norm': None, 'ngram_range': [1, 2]}\n",
      "Model Factory (PVBin): Convertido ngram_range [1, 2] para tupla (1, 2)\n",
      "Fitting ProductVectorizerClassifier com 100 amostras...\n",
      "Fit concluído.\n",
      "    Acc Real Geração 72: Max=0.3123, Avg=0.3063, Min=0.3006\n",
      "    F1 Real Geração  72: Max=0.0523, Avg=0.0520, Min=0.0502\n",
      "    Duração Geração 72: 25.10s\n",
      "\n",
      "  Geração 73/100\n"
     ]
    },
    {
     "data": {
      "application/vnd.jupyter.widget-view+json": {
       "model_id": "995835b6979a4f1481521f9be9bd6d62",
       "version_major": 2,
       "version_minor": 0
      },
      "text/plain": [
       "Fitness Calc Gen 73:   0%|          | 0/20 [00:00<?, ?it/s]"
      ]
     },
     "metadata": {},
     "output_type": "display_data"
    },
    {
     "name": "stdout",
     "output_type": "stream",
     "text": [
      "Model Factory: Criando tipo 'PVBin' com params: {'method': 'binary', 'query': 'binary', 'norm': None, 'query_norm': None, 'ngram_range': [1, 2]}\n",
      "Model Factory (PVBin): Convertido ngram_range [1, 2] para tupla (1, 2)\n",
      "Fitting ProductVectorizerClassifier com 100 amostras...\n",
      "Fit concluído.\n",
      "Model Factory: Criando tipo 'PVBin' com params: {'method': 'binary', 'query': 'binary', 'norm': None, 'query_norm': None, 'ngram_range': [1, 2]}\n",
      "Model Factory (PVBin): Convertido ngram_range [1, 2] para tupla (1, 2)\n",
      "Fitting ProductVectorizerClassifier com 100 amostras...\n",
      "Fit concluído.\n",
      "Model Factory: Criando tipo 'PVBin' com params: {'method': 'binary', 'query': 'binary', 'norm': None, 'query_norm': None, 'ngram_range': [1, 2]}\n",
      "Model Factory (PVBin): Convertido ngram_range [1, 2] para tupla (1, 2)\n",
      "Fitting ProductVectorizerClassifier com 100 amostras...\n",
      "Fit concluído.\n",
      "Model Factory: Criando tipo 'PVBin' com params: {'method': 'binary', 'query': 'binary', 'norm': None, 'query_norm': None, 'ngram_range': [1, 2]}\n",
      "Model Factory (PVBin): Convertido ngram_range [1, 2] para tupla (1, 2)\n",
      "Fitting ProductVectorizerClassifier com 100 amostras...\n",
      "Fit concluído.\n",
      "Model Factory: Criando tipo 'PVBin' com params: {'method': 'binary', 'query': 'binary', 'norm': None, 'query_norm': None, 'ngram_range': [1, 2]}\n",
      "Model Factory (PVBin): Convertido ngram_range [1, 2] para tupla (1, 2)\n",
      "Fitting ProductVectorizerClassifier com 100 amostras...\n",
      "Fit concluído.\n",
      "    Acc Real Geração 73: Max=0.3149, Avg=0.3072, Min=0.3010\n",
      "    F1 Real Geração  73: Max=0.0523, Avg=0.0520, Min=0.0492\n",
      "    Duração Geração 73: 31.27s\n",
      "\n",
      "  Geração 74/100\n"
     ]
    },
    {
     "data": {
      "application/vnd.jupyter.widget-view+json": {
       "model_id": "3261ca386044441186fbd9880254687b",
       "version_major": 2,
       "version_minor": 0
      },
      "text/plain": [
       "Fitness Calc Gen 74:   0%|          | 0/20 [00:00<?, ?it/s]"
      ]
     },
     "metadata": {},
     "output_type": "display_data"
    },
    {
     "name": "stdout",
     "output_type": "stream",
     "text": [
      "Model Factory: Criando tipo 'PVBin' com params: {'method': 'binary', 'query': 'binary', 'norm': None, 'query_norm': None, 'ngram_range': [1, 2]}\n",
      "Model Factory (PVBin): Convertido ngram_range [1, 2] para tupla (1, 2)\n",
      "Fitting ProductVectorizerClassifier com 100 amostras...\n",
      "Fit concluído.\n",
      "Model Factory: Criando tipo 'PVBin' com params: {'method': 'binary', 'query': 'binary', 'norm': None, 'query_norm': None, 'ngram_range': [1, 2]}\n",
      "Model Factory (PVBin): Convertido ngram_range [1, 2] para tupla (1, 2)\n",
      "Fitting ProductVectorizerClassifier com 100 amostras...\n",
      "Fit concluído.\n",
      "Model Factory: Criando tipo 'PVBin' com params: {'method': 'binary', 'query': 'binary', 'norm': None, 'query_norm': None, 'ngram_range': [1, 2]}\n",
      "Model Factory (PVBin): Convertido ngram_range [1, 2] para tupla (1, 2)\n",
      "Fitting ProductVectorizerClassifier com 100 amostras...\n",
      "Fit concluído.\n",
      "    Acc Real Geração 74: Max=0.3068, Avg=0.3057, Min=0.2987\n",
      "    F1 Real Geração  74: Max=0.0523, Avg=0.0520, Min=0.0496\n",
      "    Duração Geração 74: 18.08s\n",
      "\n",
      "  Geração 75/100\n"
     ]
    },
    {
     "data": {
      "application/vnd.jupyter.widget-view+json": {
       "model_id": "b833101f92d546fd8feaa3aff36d4b34",
       "version_major": 2,
       "version_minor": 0
      },
      "text/plain": [
       "Fitness Calc Gen 75:   0%|          | 0/20 [00:00<?, ?it/s]"
      ]
     },
     "metadata": {},
     "output_type": "display_data"
    },
    {
     "name": "stdout",
     "output_type": "stream",
     "text": [
      "Model Factory: Criando tipo 'PVBin' com params: {'method': 'binary', 'query': 'binary', 'norm': None, 'query_norm': None, 'ngram_range': [1, 2]}\n",
      "Model Factory (PVBin): Convertido ngram_range [1, 2] para tupla (1, 2)\n",
      "Fitting ProductVectorizerClassifier com 100 amostras...\n",
      "Fit concluído.\n",
      "Model Factory: Criando tipo 'PVBin' com params: {'method': 'binary', 'query': 'binary', 'norm': None, 'query_norm': None, 'ngram_range': [1, 2]}\n",
      "Model Factory (PVBin): Convertido ngram_range [1, 2] para tupla (1, 2)\n",
      "Fitting ProductVectorizerClassifier com 100 amostras...\n",
      "Fit concluído.\n",
      "Model Factory: Criando tipo 'PVBin' com params: {'method': 'binary', 'query': 'binary', 'norm': None, 'query_norm': None, 'ngram_range': [1, 2]}\n",
      "Model Factory (PVBin): Convertido ngram_range [1, 2] para tupla (1, 2)\n",
      "Fitting ProductVectorizerClassifier com 100 amostras...\n",
      "Fit concluído.\n",
      "    Novo melhor (Obj: maximize): Perf Real=0.0529\n",
      "    Acc Real Geração 75: Max=0.3090, Avg=0.3052, Min=0.2787\n",
      "    F1 Real Geração  75: Max=0.0529, Avg=0.0522, Min=0.0496\n",
      "    Duração Geração 75: 18.15s\n",
      "\n",
      "  Geração 76/100\n"
     ]
    },
    {
     "data": {
      "application/vnd.jupyter.widget-view+json": {
       "model_id": "fb36cc2f9e89421fac6a846c7242301f",
       "version_major": 2,
       "version_minor": 0
      },
      "text/plain": [
       "Fitness Calc Gen 76:   0%|          | 0/20 [00:00<?, ?it/s]"
      ]
     },
     "metadata": {},
     "output_type": "display_data"
    },
    {
     "name": "stdout",
     "output_type": "stream",
     "text": [
      "Model Factory: Criando tipo 'PVBin' com params: {'method': 'binary', 'query': 'binary', 'norm': None, 'query_norm': None, 'ngram_range': [1, 2]}\n",
      "Model Factory (PVBin): Convertido ngram_range [1, 2] para tupla (1, 2)\n",
      "Fitting ProductVectorizerClassifier com 100 amostras...\n",
      "Fit concluído.\n",
      "Model Factory: Criando tipo 'PVBin' com params: {'method': 'binary', 'query': 'binary', 'norm': None, 'query_norm': None, 'ngram_range': [1, 2]}\n",
      "Model Factory (PVBin): Convertido ngram_range [1, 2] para tupla (1, 2)\n",
      "Fitting ProductVectorizerClassifier com 100 amostras...\n",
      "Fit concluído.\n",
      "Model Factory: Criando tipo 'PVBin' com params: {'method': 'binary', 'query': 'binary', 'norm': None, 'query_norm': None, 'ngram_range': [1, 2]}\n",
      "Model Factory (PVBin): Convertido ngram_range [1, 2] para tupla (1, 2)\n",
      "Fitting ProductVectorizerClassifier com 100 amostras...\n",
      "Fit concluído.\n",
      "Model Factory: Criando tipo 'PVBin' com params: {'method': 'binary', 'query': 'binary', 'norm': None, 'query_norm': None, 'ngram_range': [1, 2]}\n",
      "Model Factory (PVBin): Convertido ngram_range [1, 2] para tupla (1, 2)\n",
      "Fitting ProductVectorizerClassifier com 100 amostras...\n",
      "Fit concluído.\n",
      "Model Factory: Criando tipo 'PVBin' com params: {'method': 'binary', 'query': 'binary', 'norm': None, 'query_norm': None, 'ngram_range': [1, 2]}\n",
      "Model Factory (PVBin): Convertido ngram_range [1, 2] para tupla (1, 2)\n",
      "Fitting ProductVectorizerClassifier com 100 amostras...\n",
      "Fit concluído.\n",
      "Model Factory: Criando tipo 'PVBin' com params: {'method': 'binary', 'query': 'binary', 'norm': None, 'query_norm': None, 'ngram_range': [1, 2]}\n",
      "Model Factory (PVBin): Convertido ngram_range [1, 2] para tupla (1, 2)\n",
      "Fitting ProductVectorizerClassifier com 100 amostras...\n",
      "Fit concluído.\n",
      "Model Factory: Criando tipo 'PVBin' com params: {'method': 'binary', 'query': 'binary', 'norm': None, 'query_norm': None, 'ngram_range': [1, 2]}\n",
      "Model Factory (PVBin): Convertido ngram_range [1, 2] para tupla (1, 2)\n",
      "Fitting ProductVectorizerClassifier com 100 amostras...\n",
      "Fit concluído.\n",
      "    Acc Real Geração 76: Max=0.3149, Avg=0.3063, Min=0.2956\n",
      "    F1 Real Geração  76: Max=0.0529, Avg=0.0519, Min=0.0496\n",
      "    Duração Geração 76: 43.54s\n",
      "\n",
      "  Geração 77/100\n"
     ]
    },
    {
     "data": {
      "application/vnd.jupyter.widget-view+json": {
       "model_id": "a104a2ba14a14901b94d529f6d63d948",
       "version_major": 2,
       "version_minor": 0
      },
      "text/plain": [
       "Fitness Calc Gen 77:   0%|          | 0/20 [00:00<?, ?it/s]"
      ]
     },
     "metadata": {},
     "output_type": "display_data"
    },
    {
     "name": "stdout",
     "output_type": "stream",
     "text": [
      "Model Factory: Criando tipo 'PVBin' com params: {'method': 'binary', 'query': 'binary', 'norm': None, 'query_norm': None, 'ngram_range': [1, 2]}\n",
      "Model Factory (PVBin): Convertido ngram_range [1, 2] para tupla (1, 2)\n",
      "Fitting ProductVectorizerClassifier com 100 amostras...\n",
      "Fit concluído.\n",
      "Model Factory: Criando tipo 'PVBin' com params: {'method': 'binary', 'query': 'binary', 'norm': None, 'query_norm': None, 'ngram_range': [1, 2]}\n",
      "Model Factory (PVBin): Convertido ngram_range [1, 2] para tupla (1, 2)\n",
      "Fitting ProductVectorizerClassifier com 100 amostras...\n",
      "Fit concluído.\n",
      "Model Factory: Criando tipo 'PVBin' com params: {'method': 'binary', 'query': 'binary', 'norm': None, 'query_norm': None, 'ngram_range': [1, 2]}\n",
      "Model Factory (PVBin): Convertido ngram_range [1, 2] para tupla (1, 2)\n",
      "Fitting ProductVectorizerClassifier com 100 amostras...\n",
      "Fit concluído.\n",
      "Model Factory: Criando tipo 'PVBin' com params: {'method': 'binary', 'query': 'binary', 'norm': None, 'query_norm': None, 'ngram_range': [1, 2]}\n",
      "Model Factory (PVBin): Convertido ngram_range [1, 2] para tupla (1, 2)\n",
      "Fitting ProductVectorizerClassifier com 100 amostras...\n",
      "Fit concluído.\n",
      "Model Factory: Criando tipo 'PVBin' com params: {'method': 'binary', 'query': 'binary', 'norm': None, 'query_norm': None, 'ngram_range': [1, 2]}\n",
      "Model Factory (PVBin): Convertido ngram_range [1, 2] para tupla (1, 2)\n",
      "Fitting ProductVectorizerClassifier com 100 amostras...\n",
      "Fit concluído.\n",
      "Model Factory: Criando tipo 'PVBin' com params: {'method': 'binary', 'query': 'binary', 'norm': None, 'query_norm': None, 'ngram_range': [1, 2]}\n",
      "Model Factory (PVBin): Convertido ngram_range [1, 2] para tupla (1, 2)\n",
      "Fitting ProductVectorizerClassifier com 100 amostras...\n",
      "Fit concluído.\n",
      "Model Factory: Criando tipo 'PVBin' com params: {'method': 'binary', 'query': 'binary', 'norm': None, 'query_norm': None, 'ngram_range': [1, 2]}\n",
      "Model Factory (PVBin): Convertido ngram_range [1, 2] para tupla (1, 2)\n",
      "Fitting ProductVectorizerClassifier com 100 amostras...\n",
      "Fit concluído.\n",
      "    Novo melhor (Obj: maximize): Perf Real=0.0532\n",
      "    Acc Real Geração 77: Max=0.3109, Avg=0.3074, Min=0.3051\n",
      "    F1 Real Geração  77: Max=0.0532, Avg=0.0525, Min=0.0511\n",
      "    Duração Geração 77: 42.79s\n",
      "\n",
      "  Geração 78/100\n"
     ]
    },
    {
     "data": {
      "application/vnd.jupyter.widget-view+json": {
       "model_id": "18df9a18762c42558012fa848f2a6344",
       "version_major": 2,
       "version_minor": 0
      },
      "text/plain": [
       "Fitness Calc Gen 78:   0%|          | 0/20 [00:00<?, ?it/s]"
      ]
     },
     "metadata": {},
     "output_type": "display_data"
    },
    {
     "name": "stdout",
     "output_type": "stream",
     "text": [
      "Model Factory: Criando tipo 'PVBin' com params: {'method': 'binary', 'query': 'binary', 'norm': None, 'query_norm': None, 'ngram_range': [1, 2]}\n",
      "Model Factory (PVBin): Convertido ngram_range [1, 2] para tupla (1, 2)\n",
      "Fitting ProductVectorizerClassifier com 100 amostras...\n",
      "Fit concluído.\n",
      "Model Factory: Criando tipo 'PVBin' com params: {'method': 'binary', 'query': 'binary', 'norm': None, 'query_norm': None, 'ngram_range': [1, 2]}\n",
      "Model Factory (PVBin): Convertido ngram_range [1, 2] para tupla (1, 2)\n",
      "Fitting ProductVectorizerClassifier com 100 amostras...\n",
      "Fit concluído.\n",
      "Model Factory: Criando tipo 'PVBin' com params: {'method': 'binary', 'query': 'binary', 'norm': None, 'query_norm': None, 'ngram_range': [1, 2]}\n",
      "Model Factory (PVBin): Convertido ngram_range [1, 2] para tupla (1, 2)\n",
      "Fitting ProductVectorizerClassifier com 100 amostras...\n",
      "Fit concluído.\n",
      "Model Factory: Criando tipo 'PVBin' com params: {'method': 'binary', 'query': 'binary', 'norm': None, 'query_norm': None, 'ngram_range': [1, 2]}\n",
      "Model Factory (PVBin): Convertido ngram_range [1, 2] para tupla (1, 2)\n",
      "Fitting ProductVectorizerClassifier com 100 amostras...\n",
      "Fit concluído.\n",
      "    Acc Real Geração 78: Max=0.3090, Avg=0.3068, Min=0.2982\n",
      "    F1 Real Geração  78: Max=0.0532, Avg=0.0525, Min=0.0488\n",
      "    Duração Geração 78: 25.11s\n",
      "\n",
      "  Geração 79/100\n"
     ]
    },
    {
     "data": {
      "application/vnd.jupyter.widget-view+json": {
       "model_id": "561c8701751e48b4affe84a619d88271",
       "version_major": 2,
       "version_minor": 0
      },
      "text/plain": [
       "Fitness Calc Gen 79:   0%|          | 0/20 [00:00<?, ?it/s]"
      ]
     },
     "metadata": {},
     "output_type": "display_data"
    },
    {
     "name": "stdout",
     "output_type": "stream",
     "text": [
      "Model Factory: Criando tipo 'PVBin' com params: {'method': 'binary', 'query': 'binary', 'norm': None, 'query_norm': None, 'ngram_range': [1, 2]}\n",
      "Model Factory (PVBin): Convertido ngram_range [1, 2] para tupla (1, 2)\n",
      "Fitting ProductVectorizerClassifier com 100 amostras...\n",
      "Fit concluído.\n",
      "Model Factory: Criando tipo 'PVBin' com params: {'method': 'binary', 'query': 'binary', 'norm': None, 'query_norm': None, 'ngram_range': [1, 2]}\n",
      "Model Factory (PVBin): Convertido ngram_range [1, 2] para tupla (1, 2)\n",
      "Fitting ProductVectorizerClassifier com 100 amostras...\n",
      "Fit concluído.\n",
      "Model Factory: Criando tipo 'PVBin' com params: {'method': 'binary', 'query': 'binary', 'norm': None, 'query_norm': None, 'ngram_range': [1, 2]}\n",
      "Model Factory (PVBin): Convertido ngram_range [1, 2] para tupla (1, 2)\n",
      "Fitting ProductVectorizerClassifier com 100 amostras...\n",
      "Fit concluído.\n",
      "Model Factory: Criando tipo 'PVBin' com params: {'method': 'binary', 'query': 'binary', 'norm': None, 'query_norm': None, 'ngram_range': [1, 2]}\n",
      "Model Factory (PVBin): Convertido ngram_range [1, 2] para tupla (1, 2)\n",
      "Fitting ProductVectorizerClassifier com 100 amostras...\n",
      "Fit concluído.\n",
      "Model Factory: Criando tipo 'PVBin' com params: {'method': 'binary', 'query': 'binary', 'norm': None, 'query_norm': None, 'ngram_range': [1, 2]}\n",
      "Model Factory (PVBin): Convertido ngram_range [1, 2] para tupla (1, 2)\n",
      "Fitting ProductVectorizerClassifier com 100 amostras...\n",
      "Fit concluído.\n",
      "Model Factory: Criando tipo 'PVBin' com params: {'method': 'binary', 'query': 'binary', 'norm': None, 'query_norm': None, 'ngram_range': [1, 2]}\n",
      "Model Factory (PVBin): Convertido ngram_range [1, 2] para tupla (1, 2)\n",
      "Fitting ProductVectorizerClassifier com 100 amostras...\n",
      "Fit concluído.\n",
      "    Novo melhor (Obj: maximize): Perf Real=0.0540\n",
      "    Acc Real Geração 79: Max=0.3093, Avg=0.3063, Min=0.2927\n",
      "    F1 Real Geração  79: Max=0.0540, Avg=0.0529, Min=0.0499\n",
      "    Duração Geração 79: 37.09s\n",
      "\n",
      "  Geração 80/100\n"
     ]
    },
    {
     "data": {
      "application/vnd.jupyter.widget-view+json": {
       "model_id": "8b51580432f94e749f6f44dc0d236afd",
       "version_major": 2,
       "version_minor": 0
      },
      "text/plain": [
       "Fitness Calc Gen 80:   0%|          | 0/20 [00:00<?, ?it/s]"
      ]
     },
     "metadata": {},
     "output_type": "display_data"
    },
    {
     "name": "stdout",
     "output_type": "stream",
     "text": [
      "Model Factory: Criando tipo 'PVBin' com params: {'method': 'binary', 'query': 'binary', 'norm': None, 'query_norm': None, 'ngram_range': [1, 2]}\n",
      "Model Factory (PVBin): Convertido ngram_range [1, 2] para tupla (1, 2)\n",
      "Fitting ProductVectorizerClassifier com 100 amostras...\n",
      "Fit concluído.\n",
      "Model Factory: Criando tipo 'PVBin' com params: {'method': 'binary', 'query': 'binary', 'norm': None, 'query_norm': None, 'ngram_range': [1, 2]}\n",
      "Model Factory (PVBin): Convertido ngram_range [1, 2] para tupla (1, 2)\n",
      "Fitting ProductVectorizerClassifier com 100 amostras...\n",
      "Fit concluído.\n",
      "Model Factory: Criando tipo 'PVBin' com params: {'method': 'binary', 'query': 'binary', 'norm': None, 'query_norm': None, 'ngram_range': [1, 2]}\n",
      "Model Factory (PVBin): Convertido ngram_range [1, 2] para tupla (1, 2)\n",
      "Fitting ProductVectorizerClassifier com 100 amostras...\n",
      "Fit concluído.\n",
      "Model Factory: Criando tipo 'PVBin' com params: {'method': 'binary', 'query': 'binary', 'norm': None, 'query_norm': None, 'ngram_range': [1, 2]}\n",
      "Model Factory (PVBin): Convertido ngram_range [1, 2] para tupla (1, 2)\n",
      "Fitting ProductVectorizerClassifier com 100 amostras...\n",
      "Fit concluído.\n",
      "Model Factory: Criando tipo 'PVBin' com params: {'method': 'binary', 'query': 'binary', 'norm': None, 'query_norm': None, 'ngram_range': [1, 2]}\n",
      "Model Factory (PVBin): Convertido ngram_range [1, 2] para tupla (1, 2)\n",
      "Fitting ProductVectorizerClassifier com 100 amostras...\n",
      "Fit concluído.\n",
      "    Acc Real Geração 80: Max=0.3098, Avg=0.3070, Min=0.3036\n",
      "    F1 Real Geração  80: Max=0.0540, Avg=0.0531, Min=0.0495\n",
      "    Duração Geração 80: 3527.04s\n",
      "\n",
      "  Geração 81/100\n"
     ]
    },
    {
     "data": {
      "application/vnd.jupyter.widget-view+json": {
       "model_id": "12c12571c974490ba054d8ed2a03adb5",
       "version_major": 2,
       "version_minor": 0
      },
      "text/plain": [
       "Fitness Calc Gen 81:   0%|          | 0/20 [00:00<?, ?it/s]"
      ]
     },
     "metadata": {},
     "output_type": "display_data"
    },
    {
     "name": "stdout",
     "output_type": "stream",
     "text": [
      "Model Factory: Criando tipo 'PVBin' com params: {'method': 'binary', 'query': 'binary', 'norm': None, 'query_norm': None, 'ngram_range': [1, 2]}\n",
      "Model Factory (PVBin): Convertido ngram_range [1, 2] para tupla (1, 2)\n",
      "Fitting ProductVectorizerClassifier com 100 amostras...\n",
      "Fit concluído.\n",
      "Model Factory: Criando tipo 'PVBin' com params: {'method': 'binary', 'query': 'binary', 'norm': None, 'query_norm': None, 'ngram_range': [1, 2]}\n",
      "Model Factory (PVBin): Convertido ngram_range [1, 2] para tupla (1, 2)\n",
      "Fitting ProductVectorizerClassifier com 100 amostras...\n",
      "Fit concluído.\n",
      "Model Factory: Criando tipo 'PVBin' com params: {'method': 'binary', 'query': 'binary', 'norm': None, 'query_norm': None, 'ngram_range': [1, 2]}\n",
      "Model Factory (PVBin): Convertido ngram_range [1, 2] para tupla (1, 2)\n",
      "Fitting ProductVectorizerClassifier com 100 amostras...\n",
      "Fit concluído.\n",
      "Model Factory: Criando tipo 'PVBin' com params: {'method': 'binary', 'query': 'binary', 'norm': None, 'query_norm': None, 'ngram_range': [1, 2]}\n",
      "Model Factory (PVBin): Convertido ngram_range [1, 2] para tupla (1, 2)\n",
      "Fitting ProductVectorizerClassifier com 100 amostras...\n",
      "Fit concluído.\n",
      "Model Factory: Criando tipo 'PVBin' com params: {'method': 'binary', 'query': 'binary', 'norm': None, 'query_norm': None, 'ngram_range': [1, 2]}\n",
      "Model Factory (PVBin): Convertido ngram_range [1, 2] para tupla (1, 2)\n",
      "Fitting ProductVectorizerClassifier com 100 amostras...\n",
      "Fit concluído.\n",
      "Model Factory: Criando tipo 'PVBin' com params: {'method': 'binary', 'query': 'binary', 'norm': None, 'query_norm': None, 'ngram_range': [1, 2]}\n",
      "Model Factory (PVBin): Convertido ngram_range [1, 2] para tupla (1, 2)\n",
      "Fitting ProductVectorizerClassifier com 100 amostras...\n",
      "Fit concluído.\n",
      "Model Factory: Criando tipo 'PVBin' com params: {'method': 'binary', 'query': 'binary', 'norm': None, 'query_norm': None, 'ngram_range': [1, 2]}\n",
      "Model Factory (PVBin): Convertido ngram_range [1, 2] para tupla (1, 2)\n",
      "Fitting ProductVectorizerClassifier com 100 amostras...\n",
      "Fit concluído.\n",
      "Model Factory: Criando tipo 'PVBin' com params: {'method': 'binary', 'query': 'binary', 'norm': None, 'query_norm': None, 'ngram_range': [1, 2]}\n",
      "Model Factory (PVBin): Convertido ngram_range [1, 2] para tupla (1, 2)\n",
      "Fitting ProductVectorizerClassifier com 100 amostras...\n",
      "Fit concluído.\n",
      "Model Factory: Criando tipo 'PVBin' com params: {'method': 'binary', 'query': 'binary', 'norm': None, 'query_norm': None, 'ngram_range': [1, 2]}\n",
      "Model Factory (PVBin): Convertido ngram_range [1, 2] para tupla (1, 2)\n",
      "Fitting ProductVectorizerClassifier com 100 amostras...\n",
      "Fit concluído.\n",
      "Model Factory: Criando tipo 'PVBin' com params: {'method': 'binary', 'query': 'binary', 'norm': None, 'query_norm': None, 'ngram_range': [1, 2]}\n",
      "Model Factory (PVBin): Convertido ngram_range [1, 2] para tupla (1, 2)\n",
      "Fitting ProductVectorizerClassifier com 100 amostras...\n",
      "Fit concluído.\n",
      "    Novo melhor (Obj: maximize): Perf Real=0.0542\n",
      "    Acc Real Geração 81: Max=0.3106, Avg=0.3063, Min=0.3011\n",
      "    F1 Real Geração  81: Max=0.0542, Avg=0.0531, Min=0.0490\n",
      "    Duração Geração 81: 155.33s\n",
      "\n",
      "  Geração 82/100\n"
     ]
    },
    {
     "data": {
      "application/vnd.jupyter.widget-view+json": {
       "model_id": "f94fd71f216a48cdb004c858a705669e",
       "version_major": 2,
       "version_minor": 0
      },
      "text/plain": [
       "Fitness Calc Gen 82:   0%|          | 0/20 [00:00<?, ?it/s]"
      ]
     },
     "metadata": {},
     "output_type": "display_data"
    },
    {
     "name": "stdout",
     "output_type": "stream",
     "text": [
      "Model Factory: Criando tipo 'PVBin' com params: {'method': 'binary', 'query': 'binary', 'norm': None, 'query_norm': None, 'ngram_range': [1, 2]}\n",
      "Model Factory (PVBin): Convertido ngram_range [1, 2] para tupla (1, 2)\n",
      "Fitting ProductVectorizerClassifier com 100 amostras...\n",
      "Fit concluído.\n",
      "Model Factory: Criando tipo 'PVBin' com params: {'method': 'binary', 'query': 'binary', 'norm': None, 'query_norm': None, 'ngram_range': [1, 2]}\n",
      "Model Factory (PVBin): Convertido ngram_range [1, 2] para tupla (1, 2)\n",
      "Fitting ProductVectorizerClassifier com 100 amostras...\n",
      "Fit concluído.\n",
      "Model Factory: Criando tipo 'PVBin' com params: {'method': 'binary', 'query': 'binary', 'norm': None, 'query_norm': None, 'ngram_range': [1, 2]}\n",
      "Model Factory (PVBin): Convertido ngram_range [1, 2] para tupla (1, 2)\n",
      "Fitting ProductVectorizerClassifier com 100 amostras...\n",
      "Fit concluído.\n",
      "Model Factory: Criando tipo 'PVBin' com params: {'method': 'binary', 'query': 'binary', 'norm': None, 'query_norm': None, 'ngram_range': [1, 2]}\n",
      "Model Factory (PVBin): Convertido ngram_range [1, 2] para tupla (1, 2)\n",
      "Fitting ProductVectorizerClassifier com 100 amostras...\n",
      "Fit concluído.\n",
      "Model Factory: Criando tipo 'PVBin' com params: {'method': 'binary', 'query': 'binary', 'norm': None, 'query_norm': None, 'ngram_range': [1, 2]}\n",
      "Model Factory (PVBin): Convertido ngram_range [1, 2] para tupla (1, 2)\n",
      "Fitting ProductVectorizerClassifier com 100 amostras...\n",
      "Fit concluído.\n",
      "Model Factory: Criando tipo 'PVBin' com params: {'method': 'binary', 'query': 'binary', 'norm': None, 'query_norm': None, 'ngram_range': [1, 2]}\n",
      "Model Factory (PVBin): Convertido ngram_range [1, 2] para tupla (1, 2)\n",
      "Fitting ProductVectorizerClassifier com 100 amostras...\n",
      "Fit concluído.\n",
      "Model Factory: Criando tipo 'PVBin' com params: {'method': 'binary', 'query': 'binary', 'norm': None, 'query_norm': None, 'ngram_range': [1, 2]}\n",
      "Model Factory (PVBin): Convertido ngram_range [1, 2] para tupla (1, 2)\n",
      "Fitting ProductVectorizerClassifier com 100 amostras...\n",
      "Fit concluído.\n",
      "Model Factory: Criando tipo 'PVBin' com params: {'method': 'binary', 'query': 'binary', 'norm': None, 'query_norm': None, 'ngram_range': [1, 2]}\n",
      "Model Factory (PVBin): Convertido ngram_range [1, 2] para tupla (1, 2)\n",
      "Fitting ProductVectorizerClassifier com 100 amostras...\n",
      "Fit concluído.\n",
      "    Acc Real Geração 82: Max=0.3106, Avg=0.3048, Min=0.2720\n",
      "    F1 Real Geração  82: Max=0.0542, Avg=0.0530, Min=0.0495\n",
      "    Duração Geração 82: 128.53s\n",
      "\n",
      "  Geração 83/100\n"
     ]
    },
    {
     "data": {
      "application/vnd.jupyter.widget-view+json": {
       "model_id": "b98778d325c24d99a8497caedd68f6c5",
       "version_major": 2,
       "version_minor": 0
      },
      "text/plain": [
       "Fitness Calc Gen 83:   0%|          | 0/20 [00:00<?, ?it/s]"
      ]
     },
     "metadata": {},
     "output_type": "display_data"
    },
    {
     "name": "stdout",
     "output_type": "stream",
     "text": [
      "Model Factory: Criando tipo 'PVBin' com params: {'method': 'binary', 'query': 'binary', 'norm': None, 'query_norm': None, 'ngram_range': [1, 2]}\n",
      "Model Factory (PVBin): Convertido ngram_range [1, 2] para tupla (1, 2)\n",
      "Fitting ProductVectorizerClassifier com 100 amostras...\n",
      "Fit concluído.\n",
      "Model Factory: Criando tipo 'PVBin' com params: {'method': 'binary', 'query': 'binary', 'norm': None, 'query_norm': None, 'ngram_range': [1, 2]}\n",
      "Model Factory (PVBin): Convertido ngram_range [1, 2] para tupla (1, 2)\n",
      "Fitting ProductVectorizerClassifier com 100 amostras...\n",
      "Fit concluído.\n",
      "Model Factory: Criando tipo 'PVBin' com params: {'method': 'binary', 'query': 'binary', 'norm': None, 'query_norm': None, 'ngram_range': [1, 2]}\n",
      "Model Factory (PVBin): Convertido ngram_range [1, 2] para tupla (1, 2)\n",
      "Fitting ProductVectorizerClassifier com 100 amostras...\n",
      "Fit concluído.\n",
      "Model Factory: Criando tipo 'PVBin' com params: {'method': 'binary', 'query': 'binary', 'norm': None, 'query_norm': None, 'ngram_range': [1, 2]}\n",
      "Model Factory (PVBin): Convertido ngram_range [1, 2] para tupla (1, 2)\n",
      "Fitting ProductVectorizerClassifier com 100 amostras...\n",
      "Fit concluído.\n",
      "Model Factory: Criando tipo 'PVBin' com params: {'method': 'binary', 'query': 'binary', 'norm': None, 'query_norm': None, 'ngram_range': [1, 2]}\n",
      "Model Factory (PVBin): Convertido ngram_range [1, 2] para tupla (1, 2)\n",
      "Fitting ProductVectorizerClassifier com 100 amostras...\n",
      "Fit concluído.\n",
      "    Novo melhor (Obj: maximize): Perf Real=0.0545\n",
      "    Acc Real Geração 83: Max=0.3106, Avg=0.3066, Min=0.2999\n",
      "    F1 Real Geração  83: Max=0.0545, Avg=0.0537, Min=0.0509\n",
      "    Duração Geração 83: 103.89s\n",
      "\n",
      "  Geração 84/100\n"
     ]
    },
    {
     "data": {
      "application/vnd.jupyter.widget-view+json": {
       "model_id": "ad25759ea5a8412584211c39f84258ac",
       "version_major": 2,
       "version_minor": 0
      },
      "text/plain": [
       "Fitness Calc Gen 84:   0%|          | 0/20 [00:00<?, ?it/s]"
      ]
     },
     "metadata": {},
     "output_type": "display_data"
    },
    {
     "name": "stdout",
     "output_type": "stream",
     "text": [
      "Model Factory: Criando tipo 'PVBin' com params: {'method': 'binary', 'query': 'binary', 'norm': None, 'query_norm': None, 'ngram_range': [1, 2]}\n",
      "Model Factory (PVBin): Convertido ngram_range [1, 2] para tupla (1, 2)\n",
      "Fitting ProductVectorizerClassifier com 100 amostras...\n",
      "Fit concluído.\n",
      "Model Factory: Criando tipo 'PVBin' com params: {'method': 'binary', 'query': 'binary', 'norm': None, 'query_norm': None, 'ngram_range': [1, 2]}\n",
      "Model Factory (PVBin): Convertido ngram_range [1, 2] para tupla (1, 2)\n",
      "Fitting ProductVectorizerClassifier com 100 amostras...\n",
      "Fit concluído.\n",
      "Model Factory: Criando tipo 'PVBin' com params: {'method': 'binary', 'query': 'binary', 'norm': None, 'query_norm': None, 'ngram_range': [1, 2]}\n",
      "Model Factory (PVBin): Convertido ngram_range [1, 2] para tupla (1, 2)\n",
      "Fitting ProductVectorizerClassifier com 100 amostras...\n",
      "Fit concluído.\n",
      "Model Factory: Criando tipo 'PVBin' com params: {'method': 'binary', 'query': 'binary', 'norm': None, 'query_norm': None, 'ngram_range': [1, 2]}\n",
      "Model Factory (PVBin): Convertido ngram_range [1, 2] para tupla (1, 2)\n",
      "Fitting ProductVectorizerClassifier com 100 amostras...\n",
      "Fit concluído.\n",
      "Model Factory: Criando tipo 'PVBin' com params: {'method': 'binary', 'query': 'binary', 'norm': None, 'query_norm': None, 'ngram_range': [1, 2]}\n",
      "Model Factory (PVBin): Convertido ngram_range [1, 2] para tupla (1, 2)\n",
      "Fitting ProductVectorizerClassifier com 100 amostras...\n",
      "Fit concluído.\n",
      "Model Factory: Criando tipo 'PVBin' com params: {'method': 'binary', 'query': 'binary', 'norm': None, 'query_norm': None, 'ngram_range': [1, 2]}\n",
      "Model Factory (PVBin): Convertido ngram_range [1, 2] para tupla (1, 2)\n",
      "Fitting ProductVectorizerClassifier com 100 amostras...\n",
      "Fit concluído.\n",
      "Model Factory: Criando tipo 'PVBin' com params: {'method': 'binary', 'query': 'binary', 'norm': None, 'query_norm': None, 'ngram_range': [1, 2]}\n",
      "Model Factory (PVBin): Convertido ngram_range [1, 2] para tupla (1, 2)\n",
      "Fitting ProductVectorizerClassifier com 100 amostras...\n",
      "Fit concluído.\n",
      "Model Factory: Criando tipo 'PVBin' com params: {'method': 'binary', 'query': 'binary', 'norm': None, 'query_norm': None, 'ngram_range': [1, 2]}\n",
      "Model Factory (PVBin): Convertido ngram_range [1, 2] para tupla (1, 2)\n",
      "Fitting ProductVectorizerClassifier com 100 amostras...\n",
      "Fit concluído.\n",
      "Model Factory: Criando tipo 'PVBin' com params: {'method': 'binary', 'query': 'binary', 'norm': None, 'query_norm': None, 'ngram_range': [1, 2]}\n",
      "Model Factory (PVBin): Convertido ngram_range [1, 2] para tupla (1, 2)\n",
      "Fitting ProductVectorizerClassifier com 100 amostras...\n",
      "Fit concluído.\n",
      "Model Factory: Criando tipo 'PVBin' com params: {'method': 'binary', 'query': 'binary', 'norm': None, 'query_norm': None, 'ngram_range': [1, 2]}\n",
      "Model Factory (PVBin): Convertido ngram_range [1, 2] para tupla (1, 2)\n",
      "Fitting ProductVectorizerClassifier com 100 amostras...\n",
      "Fit concluído.\n",
      "Model Factory: Criando tipo 'PVBin' com params: {'method': 'binary', 'query': 'binary', 'norm': None, 'query_norm': None, 'ngram_range': [1, 2]}\n",
      "Model Factory (PVBin): Convertido ngram_range [1, 2] para tupla (1, 2)\n",
      "Fitting ProductVectorizerClassifier com 100 amostras...\n",
      "Fit concluído.\n",
      "Model Factory: Criando tipo 'PVBin' com params: {'method': 'binary', 'query': 'binary', 'norm': None, 'query_norm': None, 'ngram_range': [1, 2]}\n",
      "Model Factory (PVBin): Convertido ngram_range [1, 2] para tupla (1, 2)\n",
      "Fitting ProductVectorizerClassifier com 100 amostras...\n",
      "Fit concluído.\n",
      "    Acc Real Geração 84: Max=0.3088, Avg=0.3050, Min=0.2951\n",
      "    F1 Real Geração  84: Max=0.0545, Avg=0.0531, Min=0.0478\n",
      "    Duração Geração 84: 282.32s\n",
      "\n",
      "  Geração 85/100\n"
     ]
    },
    {
     "data": {
      "application/vnd.jupyter.widget-view+json": {
       "model_id": "c6ee3fce6382433c9a57fab2a1a0e5f9",
       "version_major": 2,
       "version_minor": 0
      },
      "text/plain": [
       "Fitness Calc Gen 85:   0%|          | 0/20 [00:00<?, ?it/s]"
      ]
     },
     "metadata": {},
     "output_type": "display_data"
    },
    {
     "name": "stdout",
     "output_type": "stream",
     "text": [
      "Model Factory: Criando tipo 'PVBin' com params: {'method': 'binary', 'query': 'binary', 'norm': None, 'query_norm': None, 'ngram_range': [1, 2]}\n",
      "Model Factory (PVBin): Convertido ngram_range [1, 2] para tupla (1, 2)\n",
      "Fitting ProductVectorizerClassifier com 100 amostras...\n",
      "Fit concluído.\n",
      "Model Factory: Criando tipo 'PVBin' com params: {'method': 'binary', 'query': 'binary', 'norm': None, 'query_norm': None, 'ngram_range': [1, 2]}\n",
      "Model Factory (PVBin): Convertido ngram_range [1, 2] para tupla (1, 2)\n",
      "Fitting ProductVectorizerClassifier com 100 amostras...\n",
      "Fit concluído.\n",
      "Model Factory: Criando tipo 'PVBin' com params: {'method': 'binary', 'query': 'binary', 'norm': None, 'query_norm': None, 'ngram_range': [1, 2]}\n",
      "Model Factory (PVBin): Convertido ngram_range [1, 2] para tupla (1, 2)\n",
      "Fitting ProductVectorizerClassifier com 100 amostras...\n",
      "Fit concluído.\n",
      "Model Factory: Criando tipo 'PVBin' com params: {'method': 'binary', 'query': 'binary', 'norm': None, 'query_norm': None, 'ngram_range': [1, 2]}\n",
      "Model Factory (PVBin): Convertido ngram_range [1, 2] para tupla (1, 2)\n",
      "Fitting ProductVectorizerClassifier com 100 amostras...\n",
      "Fit concluído.\n",
      "Model Factory: Criando tipo 'PVBin' com params: {'method': 'binary', 'query': 'binary', 'norm': None, 'query_norm': None, 'ngram_range': [1, 2]}\n",
      "Model Factory (PVBin): Convertido ngram_range [1, 2] para tupla (1, 2)\n",
      "Fitting ProductVectorizerClassifier com 100 amostras...\n",
      "Fit concluído.\n",
      "Model Factory: Criando tipo 'PVBin' com params: {'method': 'binary', 'query': 'binary', 'norm': None, 'query_norm': None, 'ngram_range': [1, 2]}\n",
      "Model Factory (PVBin): Convertido ngram_range [1, 2] para tupla (1, 2)\n",
      "Fitting ProductVectorizerClassifier com 100 amostras...\n",
      "Fit concluído.\n",
      "Model Factory: Criando tipo 'PVBin' com params: {'method': 'binary', 'query': 'binary', 'norm': None, 'query_norm': None, 'ngram_range': [1, 2]}\n",
      "Model Factory (PVBin): Convertido ngram_range [1, 2] para tupla (1, 2)\n",
      "Fitting ProductVectorizerClassifier com 100 amostras...\n",
      "Fit concluído.\n",
      "Model Factory: Criando tipo 'PVBin' com params: {'method': 'binary', 'query': 'binary', 'norm': None, 'query_norm': None, 'ngram_range': [1, 2]}\n",
      "Model Factory (PVBin): Convertido ngram_range [1, 2] para tupla (1, 2)\n",
      "Fitting ProductVectorizerClassifier com 100 amostras...\n",
      "Fit concluído.\n",
      "Model Factory: Criando tipo 'PVBin' com params: {'method': 'binary', 'query': 'binary', 'norm': None, 'query_norm': None, 'ngram_range': [1, 2]}\n",
      "Model Factory (PVBin): Convertido ngram_range [1, 2] para tupla (1, 2)\n",
      "Fitting ProductVectorizerClassifier com 100 amostras...\n",
      "Fit concluído.\n",
      "Model Factory: Criando tipo 'PVBin' com params: {'method': 'binary', 'query': 'binary', 'norm': None, 'query_norm': None, 'ngram_range': [1, 2]}\n",
      "Model Factory (PVBin): Convertido ngram_range [1, 2] para tupla (1, 2)\n",
      "Fitting ProductVectorizerClassifier com 100 amostras...\n",
      "Fit concluído.\n",
      "Model Factory: Criando tipo 'PVBin' com params: {'method': 'binary', 'query': 'binary', 'norm': None, 'query_norm': None, 'ngram_range': [1, 2]}\n",
      "Model Factory (PVBin): Convertido ngram_range [1, 2] para tupla (1, 2)\n",
      "Fitting ProductVectorizerClassifier com 100 amostras...\n",
      "Fit concluído.\n",
      "    Acc Real Geração 85: Max=0.3104, Avg=0.3071, Min=0.2995\n",
      "    F1 Real Geração  85: Max=0.0545, Avg=0.0534, Min=0.0495\n",
      "    Duração Geração 85: 198.95s\n",
      "\n",
      "  Geração 86/100\n"
     ]
    },
    {
     "data": {
      "application/vnd.jupyter.widget-view+json": {
       "model_id": "c12384bc00bf464bb3228ce5b574cd3a",
       "version_major": 2,
       "version_minor": 0
      },
      "text/plain": [
       "Fitness Calc Gen 86:   0%|          | 0/20 [00:00<?, ?it/s]"
      ]
     },
     "metadata": {},
     "output_type": "display_data"
    },
    {
     "name": "stdout",
     "output_type": "stream",
     "text": [
      "Model Factory: Criando tipo 'PVBin' com params: {'method': 'binary', 'query': 'binary', 'norm': None, 'query_norm': None, 'ngram_range': [1, 2]}\n",
      "Model Factory (PVBin): Convertido ngram_range [1, 2] para tupla (1, 2)\n",
      "Fitting ProductVectorizerClassifier com 100 amostras...\n",
      "Fit concluído.\n",
      "Model Factory: Criando tipo 'PVBin' com params: {'method': 'binary', 'query': 'binary', 'norm': None, 'query_norm': None, 'ngram_range': [1, 2]}\n",
      "Model Factory (PVBin): Convertido ngram_range [1, 2] para tupla (1, 2)\n",
      "Fitting ProductVectorizerClassifier com 100 amostras...\n",
      "Fit concluído.\n",
      "Model Factory: Criando tipo 'PVBin' com params: {'method': 'binary', 'query': 'binary', 'norm': None, 'query_norm': None, 'ngram_range': [1, 2]}\n",
      "Model Factory (PVBin): Convertido ngram_range [1, 2] para tupla (1, 2)\n",
      "Fitting ProductVectorizerClassifier com 100 amostras...\n",
      "Fit concluído.\n",
      "Model Factory: Criando tipo 'PVBin' com params: {'method': 'binary', 'query': 'binary', 'norm': None, 'query_norm': None, 'ngram_range': [1, 2]}\n",
      "Model Factory (PVBin): Convertido ngram_range [1, 2] para tupla (1, 2)\n",
      "Fitting ProductVectorizerClassifier com 100 amostras...\n",
      "Fit concluído.\n",
      "Model Factory: Criando tipo 'PVBin' com params: {'method': 'binary', 'query': 'binary', 'norm': None, 'query_norm': None, 'ngram_range': [1, 2]}\n",
      "Model Factory (PVBin): Convertido ngram_range [1, 2] para tupla (1, 2)\n",
      "Fitting ProductVectorizerClassifier com 100 amostras...\n",
      "Fit concluído.\n",
      "    Acc Real Geração 86: Max=0.3088, Avg=0.3070, Min=0.2991\n",
      "    F1 Real Geração  86: Max=0.0545, Avg=0.0540, Min=0.0492\n",
      "    Duração Geração 86: 95.83s\n",
      "\n",
      "  Geração 87/100\n"
     ]
    },
    {
     "data": {
      "application/vnd.jupyter.widget-view+json": {
       "model_id": "0055dba32c3a4113a1e5efc9327a7c1f",
       "version_major": 2,
       "version_minor": 0
      },
      "text/plain": [
       "Fitness Calc Gen 87:   0%|          | 0/20 [00:00<?, ?it/s]"
      ]
     },
     "metadata": {},
     "output_type": "display_data"
    },
    {
     "name": "stdout",
     "output_type": "stream",
     "text": [
      "Model Factory: Criando tipo 'PVBin' com params: {'method': 'binary', 'query': 'binary', 'norm': None, 'query_norm': None, 'ngram_range': [1, 2]}\n",
      "Model Factory (PVBin): Convertido ngram_range [1, 2] para tupla (1, 2)\n",
      "Fitting ProductVectorizerClassifier com 100 amostras...\n",
      "Fit concluído.\n",
      "Model Factory: Criando tipo 'PVBin' com params: {'method': 'binary', 'query': 'binary', 'norm': None, 'query_norm': None, 'ngram_range': [1, 2]}\n",
      "Model Factory (PVBin): Convertido ngram_range [1, 2] para tupla (1, 2)\n",
      "Fitting ProductVectorizerClassifier com 100 amostras...\n",
      "Fit concluído.\n",
      "Model Factory: Criando tipo 'PVBin' com params: {'method': 'binary', 'query': 'binary', 'norm': None, 'query_norm': None, 'ngram_range': [1, 2]}\n",
      "Model Factory (PVBin): Convertido ngram_range [1, 2] para tupla (1, 2)\n",
      "Fitting ProductVectorizerClassifier com 100 amostras...\n",
      "Fit concluído.\n",
      "Model Factory: Criando tipo 'PVBin' com params: {'method': 'binary', 'query': 'binary', 'norm': None, 'query_norm': None, 'ngram_range': [1, 2]}\n",
      "Model Factory (PVBin): Convertido ngram_range [1, 2] para tupla (1, 2)\n",
      "Fitting ProductVectorizerClassifier com 100 amostras...\n",
      "Fit concluído.\n",
      "Model Factory: Criando tipo 'PVBin' com params: {'method': 'binary', 'query': 'binary', 'norm': None, 'query_norm': None, 'ngram_range': [1, 2]}\n",
      "Model Factory (PVBin): Convertido ngram_range [1, 2] para tupla (1, 2)\n",
      "Fitting ProductVectorizerClassifier com 100 amostras...\n",
      "Fit concluído.\n",
      "Model Factory: Criando tipo 'PVBin' com params: {'method': 'binary', 'query': 'binary', 'norm': None, 'query_norm': None, 'ngram_range': [1, 2]}\n",
      "Model Factory (PVBin): Convertido ngram_range [1, 2] para tupla (1, 2)\n",
      "Fitting ProductVectorizerClassifier com 100 amostras...\n",
      "Fit concluído.\n",
      "Model Factory: Criando tipo 'PVBin' com params: {'method': 'binary', 'query': 'binary', 'norm': None, 'query_norm': None, 'ngram_range': [1, 2]}\n",
      "Model Factory (PVBin): Convertido ngram_range [1, 2] para tupla (1, 2)\n",
      "Fitting ProductVectorizerClassifier com 100 amostras...\n",
      "Fit concluído.\n",
      "Model Factory: Criando tipo 'PVBin' com params: {'method': 'binary', 'query': 'binary', 'norm': None, 'query_norm': None, 'ngram_range': [1, 2]}\n",
      "Model Factory (PVBin): Convertido ngram_range [1, 2] para tupla (1, 2)\n",
      "Fitting ProductVectorizerClassifier com 100 amostras...\n",
      "Fit concluído.\n",
      "Model Factory: Criando tipo 'PVBin' com params: {'method': 'binary', 'query': 'binary', 'norm': None, 'query_norm': None, 'ngram_range': [1, 2]}\n",
      "Model Factory (PVBin): Convertido ngram_range [1, 2] para tupla (1, 2)\n",
      "Fitting ProductVectorizerClassifier com 100 amostras...\n",
      "Fit concluído.\n",
      "    Novo melhor (Obj: maximize): Perf Real=0.0549\n",
      "    Acc Real Geração 87: Max=0.3112, Avg=0.3064, Min=0.2881\n",
      "    F1 Real Geração  87: Max=0.0549, Avg=0.0532, Min=0.0477\n",
      "    Duração Geração 87: 156.17s\n",
      "\n",
      "  Geração 88/100\n"
     ]
    },
    {
     "data": {
      "application/vnd.jupyter.widget-view+json": {
       "model_id": "4e7256295ee34861967661f8ce732871",
       "version_major": 2,
       "version_minor": 0
      },
      "text/plain": [
       "Fitness Calc Gen 88:   0%|          | 0/20 [00:00<?, ?it/s]"
      ]
     },
     "metadata": {},
     "output_type": "display_data"
    },
    {
     "name": "stdout",
     "output_type": "stream",
     "text": [
      "Model Factory: Criando tipo 'PVBin' com params: {'method': 'binary', 'query': 'binary', 'norm': None, 'query_norm': None, 'ngram_range': [1, 2]}\n",
      "Model Factory (PVBin): Convertido ngram_range [1, 2] para tupla (1, 2)\n",
      "Fitting ProductVectorizerClassifier com 100 amostras...\n",
      "Fit concluído.\n",
      "Model Factory: Criando tipo 'PVBin' com params: {'method': 'binary', 'query': 'binary', 'norm': None, 'query_norm': None, 'ngram_range': [1, 2]}\n",
      "Model Factory (PVBin): Convertido ngram_range [1, 2] para tupla (1, 2)\n",
      "Fitting ProductVectorizerClassifier com 100 amostras...\n",
      "Fit concluído.\n",
      "Model Factory: Criando tipo 'PVBin' com params: {'method': 'binary', 'query': 'binary', 'norm': None, 'query_norm': None, 'ngram_range': [1, 2]}\n",
      "Model Factory (PVBin): Convertido ngram_range [1, 2] para tupla (1, 2)\n",
      "Fitting ProductVectorizerClassifier com 100 amostras...\n",
      "Fit concluído.\n",
      "Model Factory: Criando tipo 'PVBin' com params: {'method': 'binary', 'query': 'binary', 'norm': None, 'query_norm': None, 'ngram_range': [1, 2]}\n",
      "Model Factory (PVBin): Convertido ngram_range [1, 2] para tupla (1, 2)\n",
      "Fitting ProductVectorizerClassifier com 100 amostras...\n",
      "Fit concluído.\n",
      "Model Factory: Criando tipo 'PVBin' com params: {'method': 'binary', 'query': 'binary', 'norm': None, 'query_norm': None, 'ngram_range': [1, 2]}\n",
      "Model Factory (PVBin): Convertido ngram_range [1, 2] para tupla (1, 2)\n",
      "Fitting ProductVectorizerClassifier com 100 amostras...\n",
      "Fit concluído.\n",
      "Model Factory: Criando tipo 'PVBin' com params: {'method': 'binary', 'query': 'binary', 'norm': None, 'query_norm': None, 'ngram_range': [1, 2]}\n",
      "Model Factory (PVBin): Convertido ngram_range [1, 2] para tupla (1, 2)\n",
      "Fitting ProductVectorizerClassifier com 100 amostras...\n",
      "Fit concluído.\n",
      "Model Factory: Criando tipo 'PVBin' com params: {'method': 'binary', 'query': 'binary', 'norm': None, 'query_norm': None, 'ngram_range': [1, 2]}\n",
      "Model Factory (PVBin): Convertido ngram_range [1, 2] para tupla (1, 2)\n",
      "Fitting ProductVectorizerClassifier com 100 amostras...\n",
      "Fit concluído.\n",
      "Model Factory: Criando tipo 'PVBin' com params: {'method': 'binary', 'query': 'binary', 'norm': None, 'query_norm': None, 'ngram_range': [1, 2]}\n",
      "Model Factory (PVBin): Convertido ngram_range [1, 2] para tupla (1, 2)\n",
      "Fitting ProductVectorizerClassifier com 100 amostras...\n",
      "Fit concluído.\n",
      "Model Factory: Criando tipo 'PVBin' com params: {'method': 'binary', 'query': 'binary', 'norm': None, 'query_norm': None, 'ngram_range': [1, 2]}\n",
      "Model Factory (PVBin): Convertido ngram_range [1, 2] para tupla (1, 2)\n",
      "Fitting ProductVectorizerClassifier com 100 amostras...\n",
      "Fit concluído.\n",
      "    Acc Real Geração 88: Max=0.3112, Avg=0.3075, Min=0.2971\n",
      "    F1 Real Geração  88: Max=0.0549, Avg=0.0540, Min=0.0508\n",
      "    Duração Geração 88: 160.78s\n",
      "\n",
      "  Geração 89/100\n"
     ]
    },
    {
     "data": {
      "application/vnd.jupyter.widget-view+json": {
       "model_id": "66298342c7f344bc81b346335cc3843a",
       "version_major": 2,
       "version_minor": 0
      },
      "text/plain": [
       "Fitness Calc Gen 89:   0%|          | 0/20 [00:00<?, ?it/s]"
      ]
     },
     "metadata": {},
     "output_type": "display_data"
    },
    {
     "name": "stdout",
     "output_type": "stream",
     "text": [
      "Model Factory: Criando tipo 'PVBin' com params: {'method': 'binary', 'query': 'binary', 'norm': None, 'query_norm': None, 'ngram_range': [1, 2]}\n",
      "Model Factory (PVBin): Convertido ngram_range [1, 2] para tupla (1, 2)\n",
      "Fitting ProductVectorizerClassifier com 100 amostras...\n",
      "Fit concluído.\n",
      "Model Factory: Criando tipo 'PVBin' com params: {'method': 'binary', 'query': 'binary', 'norm': None, 'query_norm': None, 'ngram_range': [1, 2]}\n",
      "Model Factory (PVBin): Convertido ngram_range [1, 2] para tupla (1, 2)\n",
      "Fitting ProductVectorizerClassifier com 100 amostras...\n",
      "Fit concluído.\n",
      "Model Factory: Criando tipo 'PVBin' com params: {'method': 'binary', 'query': 'binary', 'norm': None, 'query_norm': None, 'ngram_range': [1, 2]}\n",
      "Model Factory (PVBin): Convertido ngram_range [1, 2] para tupla (1, 2)\n",
      "Fitting ProductVectorizerClassifier com 100 amostras...\n",
      "Fit concluído.\n",
      "Model Factory: Criando tipo 'PVBin' com params: {'method': 'binary', 'query': 'binary', 'norm': None, 'query_norm': None, 'ngram_range': [1, 2]}\n",
      "Model Factory (PVBin): Convertido ngram_range [1, 2] para tupla (1, 2)\n",
      "Fitting ProductVectorizerClassifier com 100 amostras...\n",
      "Fit concluído.\n",
      "Model Factory: Criando tipo 'PVBin' com params: {'method': 'binary', 'query': 'binary', 'norm': None, 'query_norm': None, 'ngram_range': [1, 2]}\n",
      "Model Factory (PVBin): Convertido ngram_range [1, 2] para tupla (1, 2)\n",
      "Fitting ProductVectorizerClassifier com 100 amostras...\n",
      "Fit concluído.\n",
      "Model Factory: Criando tipo 'PVBin' com params: {'method': 'binary', 'query': 'binary', 'norm': None, 'query_norm': None, 'ngram_range': [1, 2]}\n",
      "Model Factory (PVBin): Convertido ngram_range [1, 2] para tupla (1, 2)\n",
      "Fitting ProductVectorizerClassifier com 100 amostras...\n",
      "Fit concluído.\n",
      "Model Factory: Criando tipo 'PVBin' com params: {'method': 'binary', 'query': 'binary', 'norm': None, 'query_norm': None, 'ngram_range': [1, 2]}\n",
      "Model Factory (PVBin): Convertido ngram_range [1, 2] para tupla (1, 2)\n",
      "Fitting ProductVectorizerClassifier com 100 amostras...\n",
      "Fit concluído.\n",
      "Model Factory: Criando tipo 'PVBin' com params: {'method': 'binary', 'query': 'binary', 'norm': None, 'query_norm': None, 'ngram_range': [1, 2]}\n",
      "Model Factory (PVBin): Convertido ngram_range [1, 2] para tupla (1, 2)\n",
      "Fitting ProductVectorizerClassifier com 100 amostras...\n",
      "Fit concluído.\n",
      "    Acc Real Geração 89: Max=0.3122, Avg=0.3091, Min=0.2962\n",
      "    F1 Real Geração  89: Max=0.0549, Avg=0.0534, Min=0.0501\n",
      "    Duração Geração 89: 128.44s\n",
      "\n",
      "  Geração 90/100\n"
     ]
    },
    {
     "data": {
      "application/vnd.jupyter.widget-view+json": {
       "model_id": "b479ccadbc074e7994af2eba341eee29",
       "version_major": 2,
       "version_minor": 0
      },
      "text/plain": [
       "Fitness Calc Gen 90:   0%|          | 0/20 [00:00<?, ?it/s]"
      ]
     },
     "metadata": {},
     "output_type": "display_data"
    },
    {
     "name": "stdout",
     "output_type": "stream",
     "text": [
      "Model Factory: Criando tipo 'PVBin' com params: {'method': 'binary', 'query': 'binary', 'norm': None, 'query_norm': None, 'ngram_range': [1, 2]}\n",
      "Model Factory (PVBin): Convertido ngram_range [1, 2] para tupla (1, 2)\n",
      "Fitting ProductVectorizerClassifier com 100 amostras...\n",
      "Fit concluído.\n",
      "Model Factory: Criando tipo 'PVBin' com params: {'method': 'binary', 'query': 'binary', 'norm': None, 'query_norm': None, 'ngram_range': [1, 2]}\n",
      "Model Factory (PVBin): Convertido ngram_range [1, 2] para tupla (1, 2)\n",
      "Fitting ProductVectorizerClassifier com 100 amostras...\n",
      "Fit concluído.\n",
      "Model Factory: Criando tipo 'PVBin' com params: {'method': 'binary', 'query': 'binary', 'norm': None, 'query_norm': None, 'ngram_range': [1, 2]}\n",
      "Model Factory (PVBin): Convertido ngram_range [1, 2] para tupla (1, 2)\n",
      "Fitting ProductVectorizerClassifier com 100 amostras...\n",
      "Fit concluído.\n",
      "Model Factory: Criando tipo 'PVBin' com params: {'method': 'binary', 'query': 'binary', 'norm': None, 'query_norm': None, 'ngram_range': [1, 2]}\n",
      "Model Factory (PVBin): Convertido ngram_range [1, 2] para tupla (1, 2)\n",
      "Fitting ProductVectorizerClassifier com 100 amostras...\n",
      "Fit concluído.\n",
      "Model Factory: Criando tipo 'PVBin' com params: {'method': 'binary', 'query': 'binary', 'norm': None, 'query_norm': None, 'ngram_range': [1, 2]}\n",
      "Model Factory (PVBin): Convertido ngram_range [1, 2] para tupla (1, 2)\n",
      "Fitting ProductVectorizerClassifier com 100 amostras...\n",
      "Fit concluído.\n",
      "Model Factory: Criando tipo 'PVBin' com params: {'method': 'binary', 'query': 'binary', 'norm': None, 'query_norm': None, 'ngram_range': [1, 2]}\n",
      "Model Factory (PVBin): Convertido ngram_range [1, 2] para tupla (1, 2)\n",
      "Fitting ProductVectorizerClassifier com 100 amostras...\n",
      "Fit concluído.\n",
      "Model Factory: Criando tipo 'PVBin' com params: {'method': 'binary', 'query': 'binary', 'norm': None, 'query_norm': None, 'ngram_range': [1, 2]}\n",
      "Model Factory (PVBin): Convertido ngram_range [1, 2] para tupla (1, 2)\n",
      "Fitting ProductVectorizerClassifier com 100 amostras...\n",
      "Fit concluído.\n",
      "Model Factory: Criando tipo 'PVBin' com params: {'method': 'binary', 'query': 'binary', 'norm': None, 'query_norm': None, 'ngram_range': [1, 2]}\n",
      "Model Factory (PVBin): Convertido ngram_range [1, 2] para tupla (1, 2)\n",
      "Fitting ProductVectorizerClassifier com 100 amostras...\n",
      "Fit concluído.\n",
      "Model Factory: Criando tipo 'PVBin' com params: {'method': 'binary', 'query': 'binary', 'norm': None, 'query_norm': None, 'ngram_range': [1, 2]}\n",
      "Model Factory (PVBin): Convertido ngram_range [1, 2] para tupla (1, 2)\n",
      "Fitting ProductVectorizerClassifier com 100 amostras...\n",
      "Fit concluído.\n",
      "    Novo melhor (Obj: maximize): Perf Real=0.0551\n",
      "    Acc Real Geração 90: Max=0.3164, Avg=0.3091, Min=0.3010\n",
      "    F1 Real Geração  90: Max=0.0551, Avg=0.0536, Min=0.0502\n",
      "    Duração Geração 90: 93.11s\n",
      "\n",
      "  Geração 91/100\n"
     ]
    },
    {
     "data": {
      "application/vnd.jupyter.widget-view+json": {
       "model_id": "a3115b3663f240ff856259df2743d5e3",
       "version_major": 2,
       "version_minor": 0
      },
      "text/plain": [
       "Fitness Calc Gen 91:   0%|          | 0/20 [00:00<?, ?it/s]"
      ]
     },
     "metadata": {},
     "output_type": "display_data"
    },
    {
     "name": "stdout",
     "output_type": "stream",
     "text": [
      "Model Factory: Criando tipo 'PVBin' com params: {'method': 'binary', 'query': 'binary', 'norm': None, 'query_norm': None, 'ngram_range': [1, 2]}\n",
      "Model Factory (PVBin): Convertido ngram_range [1, 2] para tupla (1, 2)\n",
      "Fitting ProductVectorizerClassifier com 100 amostras...\n",
      "Fit concluído.\n",
      "Model Factory: Criando tipo 'PVBin' com params: {'method': 'binary', 'query': 'binary', 'norm': None, 'query_norm': None, 'ngram_range': [1, 2]}\n",
      "Model Factory (PVBin): Convertido ngram_range [1, 2] para tupla (1, 2)\n",
      "Fitting ProductVectorizerClassifier com 100 amostras...\n",
      "Fit concluído.\n",
      "Model Factory: Criando tipo 'PVBin' com params: {'method': 'binary', 'query': 'binary', 'norm': None, 'query_norm': None, 'ngram_range': [1, 2]}\n",
      "Model Factory (PVBin): Convertido ngram_range [1, 2] para tupla (1, 2)\n",
      "Fitting ProductVectorizerClassifier com 100 amostras...\n",
      "Fit concluído.\n",
      "Model Factory: Criando tipo 'PVBin' com params: {'method': 'binary', 'query': 'binary', 'norm': None, 'query_norm': None, 'ngram_range': [1, 2]}\n",
      "Model Factory (PVBin): Convertido ngram_range [1, 2] para tupla (1, 2)\n",
      "Fitting ProductVectorizerClassifier com 100 amostras...\n",
      "Fit concluído.\n",
      "Model Factory: Criando tipo 'PVBin' com params: {'method': 'binary', 'query': 'binary', 'norm': None, 'query_norm': None, 'ngram_range': [1, 2]}\n",
      "Model Factory (PVBin): Convertido ngram_range [1, 2] para tupla (1, 2)\n",
      "Fitting ProductVectorizerClassifier com 100 amostras...\n",
      "Fit concluído.\n",
      "Model Factory: Criando tipo 'PVBin' com params: {'method': 'binary', 'query': 'binary', 'norm': None, 'query_norm': None, 'ngram_range': [1, 2]}\n",
      "Model Factory (PVBin): Convertido ngram_range [1, 2] para tupla (1, 2)\n",
      "Fitting ProductVectorizerClassifier com 100 amostras...\n",
      "Fit concluído.\n",
      "Model Factory: Criando tipo 'PVBin' com params: {'method': 'binary', 'query': 'binary', 'norm': None, 'query_norm': None, 'ngram_range': [1, 2]}\n",
      "Model Factory (PVBin): Convertido ngram_range [1, 2] para tupla (1, 2)\n",
      "Fitting ProductVectorizerClassifier com 100 amostras...\n",
      "Fit concluído.\n",
      "    Acc Real Geração 91: Max=0.3144, Avg=0.3094, Min=0.2940\n",
      "    F1 Real Geração  91: Max=0.0551, Avg=0.0541, Min=0.0502\n",
      "    Duração Geração 91: 65.90s\n",
      "\n",
      "  Geração 92/100\n"
     ]
    },
    {
     "data": {
      "application/vnd.jupyter.widget-view+json": {
       "model_id": "4221edcfee8e4429a31d05071163880d",
       "version_major": 2,
       "version_minor": 0
      },
      "text/plain": [
       "Fitness Calc Gen 92:   0%|          | 0/20 [00:00<?, ?it/s]"
      ]
     },
     "metadata": {},
     "output_type": "display_data"
    },
    {
     "name": "stdout",
     "output_type": "stream",
     "text": [
      "Model Factory: Criando tipo 'PVBin' com params: {'method': 'binary', 'query': 'binary', 'norm': None, 'query_norm': None, 'ngram_range': [1, 2]}\n",
      "Model Factory (PVBin): Convertido ngram_range [1, 2] para tupla (1, 2)\n",
      "Fitting ProductVectorizerClassifier com 100 amostras...\n",
      "Fit concluído.\n",
      "Model Factory: Criando tipo 'PVBin' com params: {'method': 'binary', 'query': 'binary', 'norm': None, 'query_norm': None, 'ngram_range': [1, 2]}\n",
      "Model Factory (PVBin): Convertido ngram_range [1, 2] para tupla (1, 2)\n",
      "Fitting ProductVectorizerClassifier com 100 amostras...\n",
      "Fit concluído.\n",
      "Model Factory: Criando tipo 'PVBin' com params: {'method': 'binary', 'query': 'binary', 'norm': None, 'query_norm': None, 'ngram_range': [1, 2]}\n",
      "Model Factory (PVBin): Convertido ngram_range [1, 2] para tupla (1, 2)\n",
      "Fitting ProductVectorizerClassifier com 100 amostras...\n",
      "Fit concluído.\n",
      "Model Factory: Criando tipo 'PVBin' com params: {'method': 'binary', 'query': 'binary', 'norm': None, 'query_norm': None, 'ngram_range': [1, 2]}\n",
      "Model Factory (PVBin): Convertido ngram_range [1, 2] para tupla (1, 2)\n",
      "Fitting ProductVectorizerClassifier com 100 amostras...\n",
      "Fit concluído.\n",
      "Model Factory: Criando tipo 'PVBin' com params: {'method': 'binary', 'query': 'binary', 'norm': None, 'query_norm': None, 'ngram_range': [1, 2]}\n",
      "Model Factory (PVBin): Convertido ngram_range [1, 2] para tupla (1, 2)\n",
      "Fitting ProductVectorizerClassifier com 100 amostras...\n",
      "Fit concluído.\n",
      "Model Factory: Criando tipo 'PVBin' com params: {'method': 'binary', 'query': 'binary', 'norm': None, 'query_norm': None, 'ngram_range': [1, 2]}\n",
      "Model Factory (PVBin): Convertido ngram_range [1, 2] para tupla (1, 2)\n",
      "Fitting ProductVectorizerClassifier com 100 amostras...\n",
      "Fit concluído.\n",
      "Model Factory: Criando tipo 'PVBin' com params: {'method': 'binary', 'query': 'binary', 'norm': None, 'query_norm': None, 'ngram_range': [1, 2]}\n",
      "Model Factory (PVBin): Convertido ngram_range [1, 2] para tupla (1, 2)\n",
      "Fitting ProductVectorizerClassifier com 100 amostras...\n",
      "Fit concluído.\n",
      "Model Factory: Criando tipo 'PVBin' com params: {'method': 'binary', 'query': 'binary', 'norm': None, 'query_norm': None, 'ngram_range': [1, 2]}\n",
      "Model Factory (PVBin): Convertido ngram_range [1, 2] para tupla (1, 2)\n",
      "Fitting ProductVectorizerClassifier com 100 amostras...\n",
      "Fit concluído.\n",
      "    Acc Real Geração 92: Max=0.3144, Avg=0.3093, Min=0.2855\n",
      "    F1 Real Geração  92: Max=0.0551, Avg=0.0542, Min=0.0502\n",
      "    Duração Geração 92: 98.15s\n",
      "\n",
      "  Geração 93/100\n"
     ]
    },
    {
     "data": {
      "application/vnd.jupyter.widget-view+json": {
       "model_id": "1586e5623e7b40cfb5bbcb5672f2e055",
       "version_major": 2,
       "version_minor": 0
      },
      "text/plain": [
       "Fitness Calc Gen 93:   0%|          | 0/20 [00:00<?, ?it/s]"
      ]
     },
     "metadata": {},
     "output_type": "display_data"
    },
    {
     "name": "stdout",
     "output_type": "stream",
     "text": [
      "Model Factory: Criando tipo 'PVBin' com params: {'method': 'binary', 'query': 'binary', 'norm': None, 'query_norm': None, 'ngram_range': [1, 2]}\n",
      "Model Factory (PVBin): Convertido ngram_range [1, 2] para tupla (1, 2)\n",
      "Fitting ProductVectorizerClassifier com 100 amostras...\n",
      "Fit concluído.\n",
      "Model Factory: Criando tipo 'PVBin' com params: {'method': 'binary', 'query': 'binary', 'norm': None, 'query_norm': None, 'ngram_range': [1, 2]}\n",
      "Model Factory (PVBin): Convertido ngram_range [1, 2] para tupla (1, 2)\n",
      "Fitting ProductVectorizerClassifier com 100 amostras...\n",
      "Fit concluído.\n",
      "Model Factory: Criando tipo 'PVBin' com params: {'method': 'binary', 'query': 'binary', 'norm': None, 'query_norm': None, 'ngram_range': [1, 2]}\n",
      "Model Factory (PVBin): Convertido ngram_range [1, 2] para tupla (1, 2)\n",
      "Fitting ProductVectorizerClassifier com 100 amostras...\n",
      "Fit concluído.\n",
      "Model Factory: Criando tipo 'PVBin' com params: {'method': 'binary', 'query': 'binary', 'norm': None, 'query_norm': None, 'ngram_range': [1, 2]}\n",
      "Model Factory (PVBin): Convertido ngram_range [1, 2] para tupla (1, 2)\n",
      "Fitting ProductVectorizerClassifier com 100 amostras...\n",
      "Fit concluído.\n",
      "Model Factory: Criando tipo 'PVBin' com params: {'method': 'binary', 'query': 'binary', 'norm': None, 'query_norm': None, 'ngram_range': [1, 2]}\n",
      "Model Factory (PVBin): Convertido ngram_range [1, 2] para tupla (1, 2)\n",
      "Fitting ProductVectorizerClassifier com 100 amostras...\n",
      "Fit concluído.\n",
      "Model Factory: Criando tipo 'PVBin' com params: {'method': 'binary', 'query': 'binary', 'norm': None, 'query_norm': None, 'ngram_range': [1, 2]}\n",
      "Model Factory (PVBin): Convertido ngram_range [1, 2] para tupla (1, 2)\n",
      "Fitting ProductVectorizerClassifier com 100 amostras...\n",
      "Fit concluído.\n",
      "    Acc Real Geração 93: Max=0.3144, Avg=0.3110, Min=0.2832\n",
      "    F1 Real Geração  93: Max=0.0551, Avg=0.0540, Min=0.0492\n",
      "    Duração Geração 93: 52.70s\n",
      "\n",
      "  Geração 94/100\n"
     ]
    },
    {
     "data": {
      "application/vnd.jupyter.widget-view+json": {
       "model_id": "e43fb93e9baa46d68fd34dc4e9092d34",
       "version_major": 2,
       "version_minor": 0
      },
      "text/plain": [
       "Fitness Calc Gen 94:   0%|          | 0/20 [00:00<?, ?it/s]"
      ]
     },
     "metadata": {},
     "output_type": "display_data"
    },
    {
     "name": "stdout",
     "output_type": "stream",
     "text": [
      "Model Factory: Criando tipo 'PVBin' com params: {'method': 'binary', 'query': 'binary', 'norm': None, 'query_norm': None, 'ngram_range': [1, 2]}\n",
      "Model Factory (PVBin): Convertido ngram_range [1, 2] para tupla (1, 2)\n",
      "Fitting ProductVectorizerClassifier com 100 amostras...\n",
      "Fit concluído.\n",
      "    Novo melhor (Obj: maximize): Perf Real=0.0552\n",
      "    Acc Real Geração 94: Max=0.3144, Avg=0.3126, Min=0.2832\n",
      "    F1 Real Geração  94: Max=0.0552, Avg=0.0548, Min=0.0492\n",
      "    Duração Geração 94: 9.48s\n",
      "\n",
      "  Geração 95/100\n"
     ]
    },
    {
     "data": {
      "application/vnd.jupyter.widget-view+json": {
       "model_id": "83081cfbc4da47b0aedebe12be140f4f",
       "version_major": 2,
       "version_minor": 0
      },
      "text/plain": [
       "Fitness Calc Gen 95:   0%|          | 0/20 [00:00<?, ?it/s]"
      ]
     },
     "metadata": {},
     "output_type": "display_data"
    },
    {
     "name": "stdout",
     "output_type": "stream",
     "text": [
      "Model Factory: Criando tipo 'PVBin' com params: {'method': 'binary', 'query': 'binary', 'norm': None, 'query_norm': None, 'ngram_range': [1, 2]}\n",
      "Model Factory (PVBin): Convertido ngram_range [1, 2] para tupla (1, 2)\n",
      "Fitting ProductVectorizerClassifier com 100 amostras...\n",
      "Fit concluído.\n",
      "Model Factory: Criando tipo 'PVBin' com params: {'method': 'binary', 'query': 'binary', 'norm': None, 'query_norm': None, 'ngram_range': [1, 2]}\n",
      "Model Factory (PVBin): Convertido ngram_range [1, 2] para tupla (1, 2)\n",
      "Fitting ProductVectorizerClassifier com 100 amostras...\n",
      "Fit concluído.\n",
      "Model Factory: Criando tipo 'PVBin' com params: {'method': 'binary', 'query': 'binary', 'norm': None, 'query_norm': None, 'ngram_range': [1, 2]}\n",
      "Model Factory (PVBin): Convertido ngram_range [1, 2] para tupla (1, 2)\n",
      "Fitting ProductVectorizerClassifier com 100 amostras...\n",
      "Fit concluído.\n",
      "Model Factory: Criando tipo 'PVBin' com params: {'method': 'binary', 'query': 'binary', 'norm': None, 'query_norm': None, 'ngram_range': [1, 2]}\n",
      "Model Factory (PVBin): Convertido ngram_range [1, 2] para tupla (1, 2)\n",
      "Fitting ProductVectorizerClassifier com 100 amostras...\n",
      "Fit concluído.\n",
      "Model Factory: Criando tipo 'PVBin' com params: {'method': 'binary', 'query': 'binary', 'norm': None, 'query_norm': None, 'ngram_range': [1, 2]}\n",
      "Model Factory (PVBin): Convertido ngram_range [1, 2] para tupla (1, 2)\n",
      "Fitting ProductVectorizerClassifier com 100 amostras...\n",
      "Fit concluído.\n",
      "Model Factory: Criando tipo 'PVBin' com params: {'method': 'binary', 'query': 'binary', 'norm': None, 'query_norm': None, 'ngram_range': [1, 2]}\n",
      "Model Factory (PVBin): Convertido ngram_range [1, 2] para tupla (1, 2)\n",
      "Fitting ProductVectorizerClassifier com 100 amostras...\n",
      "Fit concluído.\n",
      "    Acc Real Geração 95: Max=0.3144, Avg=0.3118, Min=0.2975\n",
      "    F1 Real Geração  95: Max=0.0552, Avg=0.0543, Min=0.0508\n",
      "    Duração Geração 95: 51.61s\n",
      "\n",
      "  Geração 96/100\n"
     ]
    },
    {
     "data": {
      "application/vnd.jupyter.widget-view+json": {
       "model_id": "ac112fdab88842ec8f09f66927557b53",
       "version_major": 2,
       "version_minor": 0
      },
      "text/plain": [
       "Fitness Calc Gen 96:   0%|          | 0/20 [00:00<?, ?it/s]"
      ]
     },
     "metadata": {},
     "output_type": "display_data"
    },
    {
     "name": "stdout",
     "output_type": "stream",
     "text": [
      "Model Factory: Criando tipo 'PVBin' com params: {'method': 'binary', 'query': 'binary', 'norm': None, 'query_norm': None, 'ngram_range': [1, 2]}\n",
      "Model Factory (PVBin): Convertido ngram_range [1, 2] para tupla (1, 2)\n",
      "Fitting ProductVectorizerClassifier com 100 amostras...\n",
      "Fit concluído.\n",
      "Model Factory: Criando tipo 'PVBin' com params: {'method': 'binary', 'query': 'binary', 'norm': None, 'query_norm': None, 'ngram_range': [1, 2]}\n",
      "Model Factory (PVBin): Convertido ngram_range [1, 2] para tupla (1, 2)\n",
      "Fitting ProductVectorizerClassifier com 100 amostras...\n",
      "Fit concluído.\n",
      "Model Factory: Criando tipo 'PVBin' com params: {'method': 'binary', 'query': 'binary', 'norm': None, 'query_norm': None, 'ngram_range': [1, 2]}\n",
      "Model Factory (PVBin): Convertido ngram_range [1, 2] para tupla (1, 2)\n",
      "Fitting ProductVectorizerClassifier com 100 amostras...\n",
      "Fit concluído.\n",
      "Model Factory: Criando tipo 'PVBin' com params: {'method': 'binary', 'query': 'binary', 'norm': None, 'query_norm': None, 'ngram_range': [1, 2]}\n",
      "Model Factory (PVBin): Convertido ngram_range [1, 2] para tupla (1, 2)\n",
      "Fitting ProductVectorizerClassifier com 100 amostras...\n",
      "Fit concluído.\n",
      "    Novo melhor (Obj: maximize): Perf Real=0.0557\n",
      "    Acc Real Geração 96: Max=0.3149, Avg=0.3122, Min=0.2999\n",
      "    F1 Real Geração  96: Max=0.0557, Avg=0.0550, Min=0.0533\n",
      "    Duração Geração 96: 50.12s\n",
      "\n",
      "  Geração 97/100\n"
     ]
    },
    {
     "data": {
      "application/vnd.jupyter.widget-view+json": {
       "model_id": "fa3f5586f91d4823afe3f764130eebda",
       "version_major": 2,
       "version_minor": 0
      },
      "text/plain": [
       "Fitness Calc Gen 97:   0%|          | 0/20 [00:00<?, ?it/s]"
      ]
     },
     "metadata": {},
     "output_type": "display_data"
    },
    {
     "name": "stdout",
     "output_type": "stream",
     "text": [
      "Model Factory: Criando tipo 'PVBin' com params: {'method': 'binary', 'query': 'binary', 'norm': None, 'query_norm': None, 'ngram_range': [1, 2]}\n",
      "Model Factory (PVBin): Convertido ngram_range [1, 2] para tupla (1, 2)\n",
      "Fitting ProductVectorizerClassifier com 100 amostras...\n",
      "Fit concluído.\n",
      "Model Factory: Criando tipo 'PVBin' com params: {'method': 'binary', 'query': 'binary', 'norm': None, 'query_norm': None, 'ngram_range': [1, 2]}\n",
      "Model Factory (PVBin): Convertido ngram_range [1, 2] para tupla (1, 2)\n",
      "Fitting ProductVectorizerClassifier com 100 amostras...\n",
      "Fit concluído.\n",
      "Model Factory: Criando tipo 'PVBin' com params: {'method': 'binary', 'query': 'binary', 'norm': None, 'query_norm': None, 'ngram_range': [1, 2]}\n",
      "Model Factory (PVBin): Convertido ngram_range [1, 2] para tupla (1, 2)\n",
      "Fitting ProductVectorizerClassifier com 100 amostras...\n",
      "Fit concluído.\n",
      "Model Factory: Criando tipo 'PVBin' com params: {'method': 'binary', 'query': 'binary', 'norm': None, 'query_norm': None, 'ngram_range': [1, 2]}\n",
      "Model Factory (PVBin): Convertido ngram_range [1, 2] para tupla (1, 2)\n",
      "Fitting ProductVectorizerClassifier com 100 amostras...\n",
      "Fit concluído.\n",
      "Model Factory: Criando tipo 'PVBin' com params: {'method': 'binary', 'query': 'binary', 'norm': None, 'query_norm': None, 'ngram_range': [1, 2]}\n",
      "Model Factory (PVBin): Convertido ngram_range [1, 2] para tupla (1, 2)\n",
      "Fitting ProductVectorizerClassifier com 100 amostras...\n",
      "Fit concluído.\n",
      "Model Factory: Criando tipo 'PVBin' com params: {'method': 'binary', 'query': 'binary', 'norm': None, 'query_norm': None, 'ngram_range': [1, 2]}\n",
      "Model Factory (PVBin): Convertido ngram_range [1, 2] para tupla (1, 2)\n",
      "Fitting ProductVectorizerClassifier com 100 amostras...\n",
      "Fit concluído.\n",
      "Model Factory: Criando tipo 'PVBin' com params: {'method': 'binary', 'query': 'binary', 'norm': None, 'query_norm': None, 'ngram_range': [1, 2]}\n",
      "Model Factory (PVBin): Convertido ngram_range [1, 2] para tupla (1, 2)\n",
      "Fitting ProductVectorizerClassifier com 100 amostras...\n",
      "Fit concluído.\n",
      "Model Factory: Criando tipo 'PVBin' com params: {'method': 'binary', 'query': 'binary', 'norm': None, 'query_norm': None, 'ngram_range': [1, 2]}\n",
      "Model Factory (PVBin): Convertido ngram_range [1, 2] para tupla (1, 2)\n",
      "Fitting ProductVectorizerClassifier com 100 amostras...\n",
      "Fit concluído.\n",
      "Model Factory: Criando tipo 'PVBin' com params: {'method': 'binary', 'query': 'binary', 'norm': None, 'query_norm': None, 'ngram_range': [1, 2]}\n",
      "Model Factory (PVBin): Convertido ngram_range [1, 2] para tupla (1, 2)\n",
      "Fitting ProductVectorizerClassifier com 100 amostras...\n",
      "Fit concluído.\n",
      "    Acc Real Geração 97: Max=0.3144, Avg=0.3097, Min=0.2995\n",
      "    F1 Real Geração  97: Max=0.0557, Avg=0.0545, Min=0.0522\n",
      "    Duração Geração 97: 87.57s\n",
      "\n",
      "  Geração 98/100\n"
     ]
    },
    {
     "data": {
      "application/vnd.jupyter.widget-view+json": {
       "model_id": "a2e0508cacac41b0b2c729eeeac866d8",
       "version_major": 2,
       "version_minor": 0
      },
      "text/plain": [
       "Fitness Calc Gen 98:   0%|          | 0/20 [00:00<?, ?it/s]"
      ]
     },
     "metadata": {},
     "output_type": "display_data"
    },
    {
     "name": "stdout",
     "output_type": "stream",
     "text": [
      "Model Factory: Criando tipo 'PVBin' com params: {'method': 'binary', 'query': 'binary', 'norm': None, 'query_norm': None, 'ngram_range': [1, 2]}\n",
      "Model Factory (PVBin): Convertido ngram_range [1, 2] para tupla (1, 2)\n",
      "Fitting ProductVectorizerClassifier com 100 amostras...\n",
      "Fit concluído.\n",
      "Model Factory: Criando tipo 'PVBin' com params: {'method': 'binary', 'query': 'binary', 'norm': None, 'query_norm': None, 'ngram_range': [1, 2]}\n",
      "Model Factory (PVBin): Convertido ngram_range [1, 2] para tupla (1, 2)\n",
      "Fitting ProductVectorizerClassifier com 100 amostras...\n",
      "Fit concluído.\n",
      "Model Factory: Criando tipo 'PVBin' com params: {'method': 'binary', 'query': 'binary', 'norm': None, 'query_norm': None, 'ngram_range': [1, 2]}\n",
      "Model Factory (PVBin): Convertido ngram_range [1, 2] para tupla (1, 2)\n",
      "Fitting ProductVectorizerClassifier com 100 amostras...\n",
      "Fit concluído.\n",
      "Model Factory: Criando tipo 'PVBin' com params: {'method': 'binary', 'query': 'binary', 'norm': None, 'query_norm': None, 'ngram_range': [1, 2]}\n",
      "Model Factory (PVBin): Convertido ngram_range [1, 2] para tupla (1, 2)\n",
      "Fitting ProductVectorizerClassifier com 100 amostras...\n",
      "Fit concluído.\n",
      "    Acc Real Geração 98: Max=0.3136, Avg=0.3095, Min=0.3064\n",
      "    F1 Real Geração  98: Max=0.0557, Avg=0.0552, Min=0.0542\n",
      "    Duração Geração 98: 33.86s\n",
      "\n",
      "  Geração 99/100\n"
     ]
    },
    {
     "data": {
      "application/vnd.jupyter.widget-view+json": {
       "model_id": "844f6a501e03475a92749f2e71879b7a",
       "version_major": 2,
       "version_minor": 0
      },
      "text/plain": [
       "Fitness Calc Gen 99:   0%|          | 0/20 [00:00<?, ?it/s]"
      ]
     },
     "metadata": {},
     "output_type": "display_data"
    },
    {
     "name": "stdout",
     "output_type": "stream",
     "text": [
      "Model Factory: Criando tipo 'PVBin' com params: {'method': 'binary', 'query': 'binary', 'norm': None, 'query_norm': None, 'ngram_range': [1, 2]}\n",
      "Model Factory (PVBin): Convertido ngram_range [1, 2] para tupla (1, 2)\n",
      "Fitting ProductVectorizerClassifier com 100 amostras...\n",
      "Fit concluído.\n",
      "Model Factory: Criando tipo 'PVBin' com params: {'method': 'binary', 'query': 'binary', 'norm': None, 'query_norm': None, 'ngram_range': [1, 2]}\n",
      "Model Factory (PVBin): Convertido ngram_range [1, 2] para tupla (1, 2)\n",
      "Fitting ProductVectorizerClassifier com 100 amostras...\n",
      "Fit concluído.\n",
      "Model Factory: Criando tipo 'PVBin' com params: {'method': 'binary', 'query': 'binary', 'norm': None, 'query_norm': None, 'ngram_range': [1, 2]}\n",
      "Model Factory (PVBin): Convertido ngram_range [1, 2] para tupla (1, 2)\n",
      "Fitting ProductVectorizerClassifier com 100 amostras...\n",
      "Fit concluído.\n",
      "Model Factory: Criando tipo 'PVBin' com params: {'method': 'binary', 'query': 'binary', 'norm': None, 'query_norm': None, 'ngram_range': [1, 2]}\n",
      "Model Factory (PVBin): Convertido ngram_range [1, 2] para tupla (1, 2)\n",
      "Fitting ProductVectorizerClassifier com 100 amostras...\n",
      "Fit concluído.\n",
      "Model Factory: Criando tipo 'PVBin' com params: {'method': 'binary', 'query': 'binary', 'norm': None, 'query_norm': None, 'ngram_range': [1, 2]}\n",
      "Model Factory (PVBin): Convertido ngram_range [1, 2] para tupla (1, 2)\n",
      "Fitting ProductVectorizerClassifier com 100 amostras...\n",
      "Fit concluído.\n",
      "Model Factory: Criando tipo 'PVBin' com params: {'method': 'binary', 'query': 'binary', 'norm': None, 'query_norm': None, 'ngram_range': [1, 2]}\n",
      "Model Factory (PVBin): Convertido ngram_range [1, 2] para tupla (1, 2)\n",
      "Fitting ProductVectorizerClassifier com 100 amostras...\n",
      "Fit concluído.\n",
      "Model Factory: Criando tipo 'PVBin' com params: {'method': 'binary', 'query': 'binary', 'norm': None, 'query_norm': None, 'ngram_range': [1, 2]}\n",
      "Model Factory (PVBin): Convertido ngram_range [1, 2] para tupla (1, 2)\n",
      "Fitting ProductVectorizerClassifier com 100 amostras...\n",
      "Fit concluído.\n",
      "Model Factory: Criando tipo 'PVBin' com params: {'method': 'binary', 'query': 'binary', 'norm': None, 'query_norm': None, 'ngram_range': [1, 2]}\n",
      "Model Factory (PVBin): Convertido ngram_range [1, 2] para tupla (1, 2)\n",
      "Fitting ProductVectorizerClassifier com 100 amostras...\n",
      "Fit concluído.\n",
      "    Acc Real Geração 99: Max=0.3123, Avg=0.3094, Min=0.3056\n",
      "    F1 Real Geração  99: Max=0.0557, Avg=0.0552, Min=0.0541\n",
      "    Duração Geração 99: 66.61s\n",
      "\n",
      "  Geração 100/100\n"
     ]
    },
    {
     "data": {
      "application/vnd.jupyter.widget-view+json": {
       "model_id": "4a33090f48294e7f9aaf392ce61cf214",
       "version_major": 2,
       "version_minor": 0
      },
      "text/plain": [
       "Fitness Calc Gen 100:   0%|          | 0/20 [00:00<?, ?it/s]"
      ]
     },
     "metadata": {},
     "output_type": "display_data"
    },
    {
     "name": "stdout",
     "output_type": "stream",
     "text": [
      "Model Factory: Criando tipo 'PVBin' com params: {'method': 'binary', 'query': 'binary', 'norm': None, 'query_norm': None, 'ngram_range': [1, 2]}\n",
      "Model Factory (PVBin): Convertido ngram_range [1, 2] para tupla (1, 2)\n",
      "Fitting ProductVectorizerClassifier com 100 amostras...\n",
      "Fit concluído.\n",
      "Model Factory: Criando tipo 'PVBin' com params: {'method': 'binary', 'query': 'binary', 'norm': None, 'query_norm': None, 'ngram_range': [1, 2]}\n",
      "Model Factory (PVBin): Convertido ngram_range [1, 2] para tupla (1, 2)\n",
      "Fitting ProductVectorizerClassifier com 100 amostras...\n",
      "Fit concluído.\n",
      "Model Factory: Criando tipo 'PVBin' com params: {'method': 'binary', 'query': 'binary', 'norm': None, 'query_norm': None, 'ngram_range': [1, 2]}\n",
      "Model Factory (PVBin): Convertido ngram_range [1, 2] para tupla (1, 2)\n",
      "Fitting ProductVectorizerClassifier com 100 amostras...\n",
      "Fit concluído.\n",
      "Model Factory: Criando tipo 'PVBin' com params: {'method': 'binary', 'query': 'binary', 'norm': None, 'query_norm': None, 'ngram_range': [1, 2]}\n",
      "Model Factory (PVBin): Convertido ngram_range [1, 2] para tupla (1, 2)\n",
      "Fitting ProductVectorizerClassifier com 100 amostras...\n",
      "Fit concluído.\n",
      "Model Factory: Criando tipo 'PVBin' com params: {'method': 'binary', 'query': 'binary', 'norm': None, 'query_norm': None, 'ngram_range': [1, 2]}\n",
      "Model Factory (PVBin): Convertido ngram_range [1, 2] para tupla (1, 2)\n",
      "Fitting ProductVectorizerClassifier com 100 amostras...\n",
      "Fit concluído.\n",
      "Model Factory: Criando tipo 'PVBin' com params: {'method': 'binary', 'query': 'binary', 'norm': None, 'query_norm': None, 'ngram_range': [1, 2]}\n",
      "Model Factory (PVBin): Convertido ngram_range [1, 2] para tupla (1, 2)\n",
      "Fitting ProductVectorizerClassifier com 100 amostras...\n",
      "Fit concluído.\n",
      "Model Factory: Criando tipo 'PVBin' com params: {'method': 'binary', 'query': 'binary', 'norm': None, 'query_norm': None, 'ngram_range': [1, 2]}\n",
      "Model Factory (PVBin): Convertido ngram_range [1, 2] para tupla (1, 2)\n",
      "Fitting ProductVectorizerClassifier com 100 amostras...\n",
      "Fit concluído.\n",
      "    Acc Real Geração 100: Max=0.3119, Avg=0.3088, Min=0.3021\n",
      "    F1 Real Geração  100: Max=0.0557, Avg=0.0550, Min=0.0501\n",
      "    Duração Geração 100: 60.66s\n",
      "\n",
      "--- Otimização Genética Concluída (8838.81 seg) ---\n",
      "Melhor Performance Real Encontrada (f1_macro_on_full, Objetivo: maximize): 0.0557\n",
      "Salvando histórico da otimização (_F1_MAXIMIZE) em: ag_l0_opt_history_size100minmax_F1_MAXIMIZE.xlsx\n",
      "Salvando L0 (Objetivo: maximize, Perf: 0.0557) em: ag_l0_opt_best_l0_size100minmax_F1_MAXIMIZE.csv\n",
      "{'ACC_MAX': {'indices': array([ 74753,  38407, 223756, 206356,  74263, 216599,  22557, 120350,\n",
      "       138794, 189996, 219693, 228398,  44081, 115253,  48184,   2105,\n",
      "       159302,  65607, 100433,  70738, 112210, 154713,  91229, 156256,\n",
      "       134243, 116836,  45701,  50313,  14988,  21645, 147597, 117902,\n",
      "       213135, 184467,  58525, 126111, 104095,   3745, 170659,  96426,\n",
      "       183470, 232112, 221875, 115379, 164022,  29370, 249530, 111806,\n",
      "       132800,  58561,  40649,   7370,  94411,  66255,  14034, 161492,\n",
      "       246997,  83167, 200422, 164079,   6926,  16656, 218388,  80671,\n",
      "        85795,  20784, 106301, 119102, 248651,  27983, 109909, 108388,\n",
      "        61796, 241002, 145771,  73585, 204149, 230270, 107397,  95623,\n",
      "        15755,  76177, 100249,  74146,  22963,   8115, 183735, 137144,\n",
      "        61881,  62910, 160200,  60873, 186827, 228303,  75737,  87515,\n",
      "       115680,  67046,  88554, 211664], dtype=int64), 'performance': 0.3676871767219859, 'history':     generation   max_acc   avg_acc   min_acc    max_f1    avg_f1    min_f1  \\\n",
      "0            1  0.273820  0.248235  0.193649  0.039120  0.033707  0.027447   \n",
      "1            2  0.307188  0.263920  0.210205  0.042565  0.034466  0.029304   \n",
      "2            3  0.307188  0.274257  0.250598  0.042565  0.034850  0.030797   \n",
      "3            4  0.307188  0.288635  0.263100  0.042565  0.036601  0.031373   \n",
      "4            5  0.311361  0.304232  0.296184  0.042565  0.037547  0.035594   \n",
      "..         ...       ...       ...       ...       ...       ...       ...   \n",
      "95          96  0.367220  0.365092  0.353995  0.046174  0.045428  0.043219   \n",
      "96          97  0.367324  0.366761  0.362627  0.045998  0.045345  0.045137   \n",
      "97          98  0.367687  0.366621  0.357550  0.045612  0.045255  0.044588   \n",
      "98          99  0.367687  0.366786  0.357977  0.045612  0.045345  0.044748   \n",
      "99         100  0.367687  0.367213  0.363589  0.045612  0.045443  0.044975   \n",
      "\n",
      "    generation_time_sec  \n",
      "0            110.191120  \n",
      "1             82.949045  \n",
      "2             71.260969  \n",
      "3             44.313407  \n",
      "4             27.670244  \n",
      "..                  ...  \n",
      "95            37.072886  \n",
      "96            31.697511  \n",
      "97            43.062706  \n",
      "98            12.333839  \n",
      "99             6.464503  \n",
      "\n",
      "[100 rows x 8 columns]}, 'ACC_MIN': {'indices': array([121344, 118272, 186883, 195085,  85520, 108567, 239641, 120351,\n",
      "       168489,  33323, 107571,   8250, 224836, 108107, 209487, 130129,\n",
      "        48211,  51286,  75864,  61541,  62567,  79463, 229484, 213106,\n",
      "        66676,  97398,  66169, 195712,   6785, 229504,  23684,  48264,\n",
      "         2696, 156812, 111248, 229524,  81047, 118944, 159912,  19627,\n",
      "        75951, 105136,  43706,  91324, 116415, 194240,  66244, 132807,\n",
      "       158923, 179921,  60118,  29404, 218333, 104672, 138988, 126702,\n",
      "       119025, 209141,  78594, 128776,  78092,  37135,  47916, 143149,\n",
      "        90416, 171842,  27460, 249159,  60748, 127316,  33622,   5463,\n",
      "       131927, 215929,  38780, 202631, 183194,  66458, 146332, 112541,\n",
      "       210333, 198050, 128938, 211883,  52142, 188341, 205256,  70089,\n",
      "       211402, 211406,  70097, 154066,  71644, 196064,  69600, 167401,\n",
      "       176105,   6126, 208381, 160343], dtype=int64), 'performance': 0.09997803207317317, 'history':     generation   max_acc   avg_acc   min_acc    max_f1    avg_f1    min_f1  \\\n",
      "0            1  0.275965  0.250413  0.218277  0.040429  0.034234  0.030238   \n",
      "1            2  0.262273  0.236401  0.203036  0.035171  0.031923  0.028190   \n",
      "2            3  0.246596  0.223742  0.203036  0.035777  0.032076  0.028190   \n",
      "3            4  0.241204  0.209347  0.196022  0.036562  0.029523  0.027359   \n",
      "4            5  0.216144  0.201138  0.196022  0.031120  0.028323  0.026510   \n",
      "..         ...       ...       ...       ...       ...       ...       ...   \n",
      "95          96  0.115675  0.101344  0.099978  0.025309  0.023171  0.022857   \n",
      "96          97  0.099978  0.099978  0.099978  0.023040  0.023040  0.023040   \n",
      "97          98  0.105746  0.100537  0.099978  0.024462  0.023137  0.023040   \n",
      "98          99  0.124446  0.101250  0.099978  0.023964  0.023081  0.022941   \n",
      "99         100  0.118882  0.101735  0.099978  0.024327  0.023239  0.022941   \n",
      "\n",
      "    generation_time_sec  \n",
      "0            120.013818  \n",
      "1             94.164070  \n",
      "2             54.757246  \n",
      "3             47.989847  \n",
      "4             35.830570  \n",
      "..                  ...  \n",
      "95            18.111502  \n",
      "96             0.315311  \n",
      "97            12.547405  \n",
      "98            12.971432  \n",
      "99            24.665521  \n",
      "\n",
      "[100 rows x 8 columns]}, 'F1_MAX': {'indices': array([123413,  52800,  87114, 169553, 167506, 158290, 227412, 243799,\n",
      "       234583,  26718,  79454, 165472, 168555,  31340, 170094, 202353,\n",
      "         7800, 228987, 142978, 239755, 158347,  71822, 134286, 225426,\n",
      "       105107, 174745, 211614,  69282, 102054,  70823, 186043,    191,\n",
      "        64193, 129742, 247503,  98511, 108758, 230110, 124642, 210149,\n",
      "        79087, 249599,  87296,  16643, 127747,  54532, 120078,  77080,\n",
      "        28446, 171324, 128830, 164672,  49986, 127810,  53573, 108357,\n",
      "        13130,  84301,  30542, 139090, 210258,  18774,  50014, 217956,\n",
      "        95084, 189811, 185718, 123259, 220028, 172417, 242050, 126339,\n",
      "       240517, 191882, 156046, 187279, 243092, 191407,  44465, 240053,\n",
      "       204732,   4030,  83903,  30658, 186308,  52676,  45513, 221643,\n",
      "       214480, 183249, 186839, 165342, 161260, 184818, 236021, 164855,\n",
      "        90616,  24569,  65023,  90818], dtype=int64), 'performance': 0.055715697970472836, 'history':     generation   max_acc   avg_acc   min_acc    max_f1    avg_f1    min_f1  \\\n",
      "0            1  0.275534  0.246987  0.209087  0.038234  0.032822  0.026880   \n",
      "1            2  0.282180  0.255584  0.196098  0.038234  0.034640  0.027696   \n",
      "2            3  0.277739  0.260402  0.237178  0.038234  0.036031  0.032762   \n",
      "3            4  0.279943  0.258429  0.241176  0.040705  0.036917  0.032796   \n",
      "4            5  0.279943  0.261375  0.227823  0.042196  0.038192  0.033928   \n",
      "..         ...       ...       ...       ...       ...       ...       ...   \n",
      "95          96  0.314884  0.312169  0.299906  0.055716  0.055005  0.053287   \n",
      "96          97  0.314433  0.309737  0.299511  0.055716  0.054535  0.052179   \n",
      "97          98  0.313638  0.309504  0.306425  0.055716  0.055189  0.054231   \n",
      "98          99  0.312348  0.309409  0.305554  0.055716  0.055202  0.054116   \n",
      "99         100  0.311921  0.308849  0.302123  0.055716  0.054967  0.050110   \n",
      "\n",
      "    generation_time_sec  \n",
      "0            121.223499  \n",
      "1             97.649164  \n",
      "2             67.873335  \n",
      "3             86.081424  \n",
      "4             66.542336  \n",
      "..                  ...  \n",
      "95            50.115277  \n",
      "96            87.565160  \n",
      "97            33.856485  \n",
      "98            66.605833  \n",
      "99            60.655837  \n",
      "\n",
      "[100 rows x 8 columns]}}\n",
      "\n",
      "=============== Iniciando Otimização de L0 (Tamanho: 100) com AG - Objetivo: MINIMIZE - Métrica: f1_macro_on_full ===============\n",
      "GeneticL0Optimizer inicializado.\n",
      " - População: 20, Gerações: 100, L0 Size: 100\n",
      " - Objetivo: minimize, Métrica: f1_macro_on_full\n",
      " - Log Detalhado ATIVADO em: d:\\Nuvem\\ghdaru\\OneDrive\\030_DOUTORADO\\120_TESE\\130_TESEGIT\\Tese-Vers-o-Draft\\code\\codigos\\falco_library\\examples\\ag_detailed_fitness_size100minmax_F1_MINIMIZE.csv\n",
      "\n",
      "--- Iniciando Otimização Genética (Tam: 100, Obj: minimize, Métrica: f1_macro_on_full) ---\n",
      "Inicializando população...\n"
     ]
    },
    {
     "data": {
      "application/vnd.jupyter.widget-view+json": {
       "model_id": "91b2920f91834db5b8539418cb7a3428",
       "version_major": 2,
       "version_minor": 0
      },
      "text/plain": [
       "Criando População Inicial:   0%|          | 0/20 [00:00<?, ?it/s]"
      ]
     },
     "metadata": {},
     "output_type": "display_data"
    },
    {
     "data": {
      "application/vnd.jupyter.widget-view+json": {
       "model_id": "8ea2ae47296946e880369e1af2948f5d",
       "version_major": 2,
       "version_minor": 0
      },
      "text/plain": [
       "Gerações AG:   0%|          | 0/100 [00:00<?, ?it/s]"
      ]
     },
     "metadata": {},
     "output_type": "display_data"
    },
    {
     "name": "stdout",
     "output_type": "stream",
     "text": [
      "\n",
      "  Geração 1/100\n"
     ]
    },
    {
     "data": {
      "application/vnd.jupyter.widget-view+json": {
       "model_id": "6a7141d676324608b11b0cb1138a3e7f",
       "version_major": 2,
       "version_minor": 0
      },
      "text/plain": [
       "Fitness Calc Gen 1:   0%|          | 0/20 [00:00<?, ?it/s]"
      ]
     },
     "metadata": {},
     "output_type": "display_data"
    },
    {
     "name": "stdout",
     "output_type": "stream",
     "text": [
      "Model Factory: Criando tipo 'PVBin' com params: {'method': 'binary', 'query': 'binary', 'norm': None, 'query_norm': None, 'ngram_range': [1, 2]}\n",
      "Model Factory (PVBin): Convertido ngram_range [1, 2] para tupla (1, 2)\n",
      "Fitting ProductVectorizerClassifier com 100 amostras...\n",
      "Fit concluído.\n",
      "Model Factory: Criando tipo 'PVBin' com params: {'method': 'binary', 'query': 'binary', 'norm': None, 'query_norm': None, 'ngram_range': [1, 2]}\n",
      "Model Factory (PVBin): Convertido ngram_range [1, 2] para tupla (1, 2)\n",
      "Fitting ProductVectorizerClassifier com 100 amostras...\n",
      "Fit concluído.\n",
      "Model Factory: Criando tipo 'PVBin' com params: {'method': 'binary', 'query': 'binary', 'norm': None, 'query_norm': None, 'ngram_range': [1, 2]}\n",
      "Model Factory (PVBin): Convertido ngram_range [1, 2] para tupla (1, 2)\n",
      "Fitting ProductVectorizerClassifier com 100 amostras...\n",
      "Fit concluído.\n",
      "Model Factory: Criando tipo 'PVBin' com params: {'method': 'binary', 'query': 'binary', 'norm': None, 'query_norm': None, 'ngram_range': [1, 2]}\n",
      "Model Factory (PVBin): Convertido ngram_range [1, 2] para tupla (1, 2)\n",
      "Fitting ProductVectorizerClassifier com 100 amostras...\n",
      "Fit concluído.\n",
      "Model Factory: Criando tipo 'PVBin' com params: {'method': 'binary', 'query': 'binary', 'norm': None, 'query_norm': None, 'ngram_range': [1, 2]}\n",
      "Model Factory (PVBin): Convertido ngram_range [1, 2] para tupla (1, 2)\n",
      "Fitting ProductVectorizerClassifier com 100 amostras...\n",
      "Fit concluído.\n",
      "Model Factory: Criando tipo 'PVBin' com params: {'method': 'binary', 'query': 'binary', 'norm': None, 'query_norm': None, 'ngram_range': [1, 2]}\n",
      "Model Factory (PVBin): Convertido ngram_range [1, 2] para tupla (1, 2)\n",
      "Fitting ProductVectorizerClassifier com 100 amostras...\n",
      "Fit concluído.\n",
      "Model Factory: Criando tipo 'PVBin' com params: {'method': 'binary', 'query': 'binary', 'norm': None, 'query_norm': None, 'ngram_range': [1, 2]}\n",
      "Model Factory (PVBin): Convertido ngram_range [1, 2] para tupla (1, 2)\n",
      "Fitting ProductVectorizerClassifier com 100 amostras...\n",
      "Fit concluído.\n",
      "Model Factory: Criando tipo 'PVBin' com params: {'method': 'binary', 'query': 'binary', 'norm': None, 'query_norm': None, 'ngram_range': [1, 2]}\n",
      "Model Factory (PVBin): Convertido ngram_range [1, 2] para tupla (1, 2)\n",
      "Fitting ProductVectorizerClassifier com 100 amostras...\n",
      "Fit concluído.\n",
      "Model Factory: Criando tipo 'PVBin' com params: {'method': 'binary', 'query': 'binary', 'norm': None, 'query_norm': None, 'ngram_range': [1, 2]}\n",
      "Model Factory (PVBin): Convertido ngram_range [1, 2] para tupla (1, 2)\n",
      "Fitting ProductVectorizerClassifier com 100 amostras...\n",
      "Fit concluído.\n",
      "Model Factory: Criando tipo 'PVBin' com params: {'method': 'binary', 'query': 'binary', 'norm': None, 'query_norm': None, 'ngram_range': [1, 2]}\n",
      "Model Factory (PVBin): Convertido ngram_range [1, 2] para tupla (1, 2)\n",
      "Fitting ProductVectorizerClassifier com 100 amostras...\n",
      "Fit concluído.\n",
      "Model Factory: Criando tipo 'PVBin' com params: {'method': 'binary', 'query': 'binary', 'norm': None, 'query_norm': None, 'ngram_range': [1, 2]}\n",
      "Model Factory (PVBin): Convertido ngram_range [1, 2] para tupla (1, 2)\n",
      "Fitting ProductVectorizerClassifier com 100 amostras...\n",
      "Fit concluído.\n",
      "Model Factory: Criando tipo 'PVBin' com params: {'method': 'binary', 'query': 'binary', 'norm': None, 'query_norm': None, 'ngram_range': [1, 2]}\n",
      "Model Factory (PVBin): Convertido ngram_range [1, 2] para tupla (1, 2)\n",
      "Fitting ProductVectorizerClassifier com 100 amostras...\n",
      "Fit concluído.\n",
      "Model Factory: Criando tipo 'PVBin' com params: {'method': 'binary', 'query': 'binary', 'norm': None, 'query_norm': None, 'ngram_range': [1, 2]}\n",
      "Model Factory (PVBin): Convertido ngram_range [1, 2] para tupla (1, 2)\n",
      "Fitting ProductVectorizerClassifier com 100 amostras...\n",
      "Fit concluído.\n",
      "Model Factory: Criando tipo 'PVBin' com params: {'method': 'binary', 'query': 'binary', 'norm': None, 'query_norm': None, 'ngram_range': [1, 2]}\n",
      "Model Factory (PVBin): Convertido ngram_range [1, 2] para tupla (1, 2)\n",
      "Fitting ProductVectorizerClassifier com 100 amostras...\n",
      "Fit concluído.\n",
      "Model Factory: Criando tipo 'PVBin' com params: {'method': 'binary', 'query': 'binary', 'norm': None, 'query_norm': None, 'ngram_range': [1, 2]}\n",
      "Model Factory (PVBin): Convertido ngram_range [1, 2] para tupla (1, 2)\n",
      "Fitting ProductVectorizerClassifier com 100 amostras...\n",
      "Fit concluído.\n",
      "Model Factory: Criando tipo 'PVBin' com params: {'method': 'binary', 'query': 'binary', 'norm': None, 'query_norm': None, 'ngram_range': [1, 2]}\n",
      "Model Factory (PVBin): Convertido ngram_range [1, 2] para tupla (1, 2)\n",
      "Fitting ProductVectorizerClassifier com 100 amostras...\n",
      "Fit concluído.\n",
      "Model Factory: Criando tipo 'PVBin' com params: {'method': 'binary', 'query': 'binary', 'norm': None, 'query_norm': None, 'ngram_range': [1, 2]}\n",
      "Model Factory (PVBin): Convertido ngram_range [1, 2] para tupla (1, 2)\n",
      "Fitting ProductVectorizerClassifier com 100 amostras...\n",
      "Fit concluído.\n",
      "Model Factory: Criando tipo 'PVBin' com params: {'method': 'binary', 'query': 'binary', 'norm': None, 'query_norm': None, 'ngram_range': [1, 2]}\n",
      "Model Factory (PVBin): Convertido ngram_range [1, 2] para tupla (1, 2)\n",
      "Fitting ProductVectorizerClassifier com 100 amostras...\n",
      "Fit concluído.\n",
      "Model Factory: Criando tipo 'PVBin' com params: {'method': 'binary', 'query': 'binary', 'norm': None, 'query_norm': None, 'ngram_range': [1, 2]}\n",
      "Model Factory (PVBin): Convertido ngram_range [1, 2] para tupla (1, 2)\n",
      "Fitting ProductVectorizerClassifier com 100 amostras...\n",
      "Fit concluído.\n",
      "Model Factory: Criando tipo 'PVBin' com params: {'method': 'binary', 'query': 'binary', 'norm': None, 'query_norm': None, 'ngram_range': [1, 2]}\n",
      "Model Factory (PVBin): Convertido ngram_range [1, 2] para tupla (1, 2)\n",
      "Fitting ProductVectorizerClassifier com 100 amostras...\n",
      "Fit concluído.\n",
      "    Novo melhor (Obj: minimize): Perf Real=0.0261\n",
      "    Acc Real Geração 1: Max=0.2884, Avg=0.2458, Min=0.2063\n",
      "    F1 Real Geração  1: Max=0.0399, Avg=0.0335, Min=0.0261\n",
      "    Duração Geração 1: 174.64s\n",
      "\n",
      "  Geração 2/100\n"
     ]
    },
    {
     "data": {
      "application/vnd.jupyter.widget-view+json": {
       "model_id": "663881a2c13b45d7b778648693674e8b",
       "version_major": 2,
       "version_minor": 0
      },
      "text/plain": [
       "Fitness Calc Gen 2:   0%|          | 0/20 [00:00<?, ?it/s]"
      ]
     },
     "metadata": {},
     "output_type": "display_data"
    },
    {
     "name": "stdout",
     "output_type": "stream",
     "text": [
      "Model Factory: Criando tipo 'PVBin' com params: {'method': 'binary', 'query': 'binary', 'norm': None, 'query_norm': None, 'ngram_range': [1, 2]}\n",
      "Model Factory (PVBin): Convertido ngram_range [1, 2] para tupla (1, 2)\n",
      "Fitting ProductVectorizerClassifier com 100 amostras...\n",
      "Fit concluído.\n",
      "Model Factory: Criando tipo 'PVBin' com params: {'method': 'binary', 'query': 'binary', 'norm': None, 'query_norm': None, 'ngram_range': [1, 2]}\n",
      "Model Factory (PVBin): Convertido ngram_range [1, 2] para tupla (1, 2)\n",
      "Fitting ProductVectorizerClassifier com 100 amostras...\n",
      "Fit concluído.\n",
      "Model Factory: Criando tipo 'PVBin' com params: {'method': 'binary', 'query': 'binary', 'norm': None, 'query_norm': None, 'ngram_range': [1, 2]}\n",
      "Model Factory (PVBin): Convertido ngram_range [1, 2] para tupla (1, 2)\n",
      "Fitting ProductVectorizerClassifier com 100 amostras...\n",
      "Fit concluído.\n",
      "Model Factory: Criando tipo 'PVBin' com params: {'method': 'binary', 'query': 'binary', 'norm': None, 'query_norm': None, 'ngram_range': [1, 2]}\n",
      "Model Factory (PVBin): Convertido ngram_range [1, 2] para tupla (1, 2)\n",
      "Fitting ProductVectorizerClassifier com 100 amostras...\n",
      "Fit concluído.\n",
      "Model Factory: Criando tipo 'PVBin' com params: {'method': 'binary', 'query': 'binary', 'norm': None, 'query_norm': None, 'ngram_range': [1, 2]}\n",
      "Model Factory (PVBin): Convertido ngram_range [1, 2] para tupla (1, 2)\n",
      "Fitting ProductVectorizerClassifier com 100 amostras...\n",
      "Fit concluído.\n",
      "Model Factory: Criando tipo 'PVBin' com params: {'method': 'binary', 'query': 'binary', 'norm': None, 'query_norm': None, 'ngram_range': [1, 2]}\n",
      "Model Factory (PVBin): Convertido ngram_range [1, 2] para tupla (1, 2)\n",
      "Fitting ProductVectorizerClassifier com 100 amostras...\n",
      "Fit concluído.\n",
      "Model Factory: Criando tipo 'PVBin' com params: {'method': 'binary', 'query': 'binary', 'norm': None, 'query_norm': None, 'ngram_range': [1, 2]}\n",
      "Model Factory (PVBin): Convertido ngram_range [1, 2] para tupla (1, 2)\n",
      "Fitting ProductVectorizerClassifier com 100 amostras...\n",
      "Fit concluído.\n",
      "Model Factory: Criando tipo 'PVBin' com params: {'method': 'binary', 'query': 'binary', 'norm': None, 'query_norm': None, 'ngram_range': [1, 2]}\n",
      "Model Factory (PVBin): Convertido ngram_range [1, 2] para tupla (1, 2)\n",
      "Fitting ProductVectorizerClassifier com 100 amostras...\n",
      "Fit concluído.\n",
      "Model Factory: Criando tipo 'PVBin' com params: {'method': 'binary', 'query': 'binary', 'norm': None, 'query_norm': None, 'ngram_range': [1, 2]}\n",
      "Model Factory (PVBin): Convertido ngram_range [1, 2] para tupla (1, 2)\n",
      "Fitting ProductVectorizerClassifier com 100 amostras...\n",
      "Fit concluído.\n",
      "Model Factory: Criando tipo 'PVBin' com params: {'method': 'binary', 'query': 'binary', 'norm': None, 'query_norm': None, 'ngram_range': [1, 2]}\n",
      "Model Factory (PVBin): Convertido ngram_range [1, 2] para tupla (1, 2)\n",
      "Fitting ProductVectorizerClassifier com 100 amostras...\n",
      "Fit concluído.\n",
      "Model Factory: Criando tipo 'PVBin' com params: {'method': 'binary', 'query': 'binary', 'norm': None, 'query_norm': None, 'ngram_range': [1, 2]}\n",
      "Model Factory (PVBin): Convertido ngram_range [1, 2] para tupla (1, 2)\n",
      "Fitting ProductVectorizerClassifier com 100 amostras...\n",
      "Fit concluído.\n",
      "Model Factory: Criando tipo 'PVBin' com params: {'method': 'binary', 'query': 'binary', 'norm': None, 'query_norm': None, 'ngram_range': [1, 2]}\n",
      "Model Factory (PVBin): Convertido ngram_range [1, 2] para tupla (1, 2)\n",
      "Fitting ProductVectorizerClassifier com 100 amostras...\n",
      "Fit concluído.\n",
      "Model Factory: Criando tipo 'PVBin' com params: {'method': 'binary', 'query': 'binary', 'norm': None, 'query_norm': None, 'ngram_range': [1, 2]}\n",
      "Model Factory (PVBin): Convertido ngram_range [1, 2] para tupla (1, 2)\n",
      "Fitting ProductVectorizerClassifier com 100 amostras...\n",
      "Fit concluído.\n",
      "Model Factory: Criando tipo 'PVBin' com params: {'method': 'binary', 'query': 'binary', 'norm': None, 'query_norm': None, 'ngram_range': [1, 2]}\n",
      "Model Factory (PVBin): Convertido ngram_range [1, 2] para tupla (1, 2)\n",
      "Fitting ProductVectorizerClassifier com 100 amostras...\n",
      "Fit concluído.\n",
      "Model Factory: Criando tipo 'PVBin' com params: {'method': 'binary', 'query': 'binary', 'norm': None, 'query_norm': None, 'ngram_range': [1, 2]}\n",
      "Model Factory (PVBin): Convertido ngram_range [1, 2] para tupla (1, 2)\n",
      "Fitting ProductVectorizerClassifier com 100 amostras...\n",
      "Fit concluído.\n",
      "    Novo melhor (Obj: minimize): Perf Real=0.0246\n",
      "    Acc Real Geração 2: Max=0.2696, Avg=0.2345, Min=0.2077\n",
      "    F1 Real Geração  2: Max=0.0369, Avg=0.0309, Min=0.0246\n",
      "    Duração Geração 2: 152.49s\n",
      "\n",
      "  Geração 3/100\n"
     ]
    },
    {
     "data": {
      "application/vnd.jupyter.widget-view+json": {
       "model_id": "d0575b14bef6413f9ca3ba517d64bb4c",
       "version_major": 2,
       "version_minor": 0
      },
      "text/plain": [
       "Fitness Calc Gen 3:   0%|          | 0/20 [00:00<?, ?it/s]"
      ]
     },
     "metadata": {},
     "output_type": "display_data"
    },
    {
     "name": "stdout",
     "output_type": "stream",
     "text": [
      "Model Factory: Criando tipo 'PVBin' com params: {'method': 'binary', 'query': 'binary', 'norm': None, 'query_norm': None, 'ngram_range': [1, 2]}\n",
      "Model Factory (PVBin): Convertido ngram_range [1, 2] para tupla (1, 2)\n",
      "Fitting ProductVectorizerClassifier com 100 amostras...\n",
      "Fit concluído.\n",
      "Model Factory: Criando tipo 'PVBin' com params: {'method': 'binary', 'query': 'binary', 'norm': None, 'query_norm': None, 'ngram_range': [1, 2]}\n",
      "Model Factory (PVBin): Convertido ngram_range [1, 2] para tupla (1, 2)\n",
      "Fitting ProductVectorizerClassifier com 100 amostras...\n",
      "Fit concluído.\n",
      "Model Factory: Criando tipo 'PVBin' com params: {'method': 'binary', 'query': 'binary', 'norm': None, 'query_norm': None, 'ngram_range': [1, 2]}\n",
      "Model Factory (PVBin): Convertido ngram_range [1, 2] para tupla (1, 2)\n",
      "Fitting ProductVectorizerClassifier com 100 amostras...\n",
      "Fit concluído.\n",
      "Model Factory: Criando tipo 'PVBin' com params: {'method': 'binary', 'query': 'binary', 'norm': None, 'query_norm': None, 'ngram_range': [1, 2]}\n",
      "Model Factory (PVBin): Convertido ngram_range [1, 2] para tupla (1, 2)\n",
      "Fitting ProductVectorizerClassifier com 100 amostras...\n",
      "Fit concluído.\n",
      "Model Factory: Criando tipo 'PVBin' com params: {'method': 'binary', 'query': 'binary', 'norm': None, 'query_norm': None, 'ngram_range': [1, 2]}\n",
      "Model Factory (PVBin): Convertido ngram_range [1, 2] para tupla (1, 2)\n",
      "Fitting ProductVectorizerClassifier com 100 amostras...\n",
      "Fit concluído.\n",
      "Model Factory: Criando tipo 'PVBin' com params: {'method': 'binary', 'query': 'binary', 'norm': None, 'query_norm': None, 'ngram_range': [1, 2]}\n",
      "Model Factory (PVBin): Convertido ngram_range [1, 2] para tupla (1, 2)\n",
      "Fitting ProductVectorizerClassifier com 100 amostras...\n",
      "Fit concluído.\n",
      "Model Factory: Criando tipo 'PVBin' com params: {'method': 'binary', 'query': 'binary', 'norm': None, 'query_norm': None, 'ngram_range': [1, 2]}\n",
      "Model Factory (PVBin): Convertido ngram_range [1, 2] para tupla (1, 2)\n",
      "Fitting ProductVectorizerClassifier com 100 amostras...\n",
      "Fit concluído.\n",
      "Model Factory: Criando tipo 'PVBin' com params: {'method': 'binary', 'query': 'binary', 'norm': None, 'query_norm': None, 'ngram_range': [1, 2]}\n",
      "Model Factory (PVBin): Convertido ngram_range [1, 2] para tupla (1, 2)\n",
      "Fitting ProductVectorizerClassifier com 100 amostras...\n",
      "Fit concluído.\n",
      "Model Factory: Criando tipo 'PVBin' com params: {'method': 'binary', 'query': 'binary', 'norm': None, 'query_norm': None, 'ngram_range': [1, 2]}\n",
      "Model Factory (PVBin): Convertido ngram_range [1, 2] para tupla (1, 2)\n",
      "Fitting ProductVectorizerClassifier com 100 amostras...\n",
      "Fit concluído.\n",
      "Model Factory: Criando tipo 'PVBin' com params: {'method': 'binary', 'query': 'binary', 'norm': None, 'query_norm': None, 'ngram_range': [1, 2]}\n",
      "Model Factory (PVBin): Convertido ngram_range [1, 2] para tupla (1, 2)\n",
      "Fitting ProductVectorizerClassifier com 100 amostras...\n",
      "Fit concluído.\n",
      "Model Factory: Criando tipo 'PVBin' com params: {'method': 'binary', 'query': 'binary', 'norm': None, 'query_norm': None, 'ngram_range': [1, 2]}\n",
      "Model Factory (PVBin): Convertido ngram_range [1, 2] para tupla (1, 2)\n",
      "Fitting ProductVectorizerClassifier com 100 amostras...\n",
      "Fit concluído.\n",
      "Model Factory: Criando tipo 'PVBin' com params: {'method': 'binary', 'query': 'binary', 'norm': None, 'query_norm': None, 'ngram_range': [1, 2]}\n",
      "Model Factory (PVBin): Convertido ngram_range [1, 2] para tupla (1, 2)\n",
      "Fitting ProductVectorizerClassifier com 100 amostras...\n",
      "Fit concluído.\n",
      "Model Factory: Criando tipo 'PVBin' com params: {'method': 'binary', 'query': 'binary', 'norm': None, 'query_norm': None, 'ngram_range': [1, 2]}\n",
      "Model Factory (PVBin): Convertido ngram_range [1, 2] para tupla (1, 2)\n",
      "Fitting ProductVectorizerClassifier com 100 amostras...\n",
      "Fit concluído.\n",
      "Model Factory: Criando tipo 'PVBin' com params: {'method': 'binary', 'query': 'binary', 'norm': None, 'query_norm': None, 'ngram_range': [1, 2]}\n",
      "Model Factory (PVBin): Convertido ngram_range [1, 2] para tupla (1, 2)\n",
      "Fitting ProductVectorizerClassifier com 100 amostras...\n",
      "Fit concluído.\n",
      "    Acc Real Geração 3: Max=0.2491, Avg=0.2273, Min=0.2028\n",
      "    F1 Real Geração  3: Max=0.0341, Avg=0.0290, Min=0.0246\n",
      "    Duração Geração 3: 125.38s\n",
      "\n",
      "  Geração 4/100\n"
     ]
    },
    {
     "data": {
      "application/vnd.jupyter.widget-view+json": {
       "model_id": "610bd2b0667b4a3e887ff6f01c020898",
       "version_major": 2,
       "version_minor": 0
      },
      "text/plain": [
       "Fitness Calc Gen 4:   0%|          | 0/20 [00:00<?, ?it/s]"
      ]
     },
     "metadata": {},
     "output_type": "display_data"
    },
    {
     "name": "stdout",
     "output_type": "stream",
     "text": [
      "Model Factory: Criando tipo 'PVBin' com params: {'method': 'binary', 'query': 'binary', 'norm': None, 'query_norm': None, 'ngram_range': [1, 2]}\n",
      "Model Factory (PVBin): Convertido ngram_range [1, 2] para tupla (1, 2)\n",
      "Fitting ProductVectorizerClassifier com 100 amostras...\n",
      "Fit concluído.\n",
      "Model Factory: Criando tipo 'PVBin' com params: {'method': 'binary', 'query': 'binary', 'norm': None, 'query_norm': None, 'ngram_range': [1, 2]}\n",
      "Model Factory (PVBin): Convertido ngram_range [1, 2] para tupla (1, 2)\n",
      "Fitting ProductVectorizerClassifier com 100 amostras...\n",
      "Fit concluído.\n",
      "Model Factory: Criando tipo 'PVBin' com params: {'method': 'binary', 'query': 'binary', 'norm': None, 'query_norm': None, 'ngram_range': [1, 2]}\n",
      "Model Factory (PVBin): Convertido ngram_range [1, 2] para tupla (1, 2)\n",
      "Fitting ProductVectorizerClassifier com 100 amostras...\n",
      "Fit concluído.\n",
      "Model Factory: Criando tipo 'PVBin' com params: {'method': 'binary', 'query': 'binary', 'norm': None, 'query_norm': None, 'ngram_range': [1, 2]}\n",
      "Model Factory (PVBin): Convertido ngram_range [1, 2] para tupla (1, 2)\n",
      "Fitting ProductVectorizerClassifier com 100 amostras...\n",
      "Fit concluído.\n",
      "Model Factory: Criando tipo 'PVBin' com params: {'method': 'binary', 'query': 'binary', 'norm': None, 'query_norm': None, 'ngram_range': [1, 2]}\n",
      "Model Factory (PVBin): Convertido ngram_range [1, 2] para tupla (1, 2)\n",
      "Fitting ProductVectorizerClassifier com 100 amostras...\n",
      "Fit concluído.\n",
      "Model Factory: Criando tipo 'PVBin' com params: {'method': 'binary', 'query': 'binary', 'norm': None, 'query_norm': None, 'ngram_range': [1, 2]}\n",
      "Model Factory (PVBin): Convertido ngram_range [1, 2] para tupla (1, 2)\n",
      "Fitting ProductVectorizerClassifier com 100 amostras...\n",
      "Fit concluído.\n",
      "Model Factory: Criando tipo 'PVBin' com params: {'method': 'binary', 'query': 'binary', 'norm': None, 'query_norm': None, 'ngram_range': [1, 2]}\n",
      "Model Factory (PVBin): Convertido ngram_range [1, 2] para tupla (1, 2)\n",
      "Fitting ProductVectorizerClassifier com 100 amostras...\n",
      "Fit concluído.\n",
      "Model Factory: Criando tipo 'PVBin' com params: {'method': 'binary', 'query': 'binary', 'norm': None, 'query_norm': None, 'ngram_range': [1, 2]}\n",
      "Model Factory (PVBin): Convertido ngram_range [1, 2] para tupla (1, 2)\n",
      "Fitting ProductVectorizerClassifier com 100 amostras...\n",
      "Fit concluído.\n",
      "Model Factory: Criando tipo 'PVBin' com params: {'method': 'binary', 'query': 'binary', 'norm': None, 'query_norm': None, 'ngram_range': [1, 2]}\n",
      "Model Factory (PVBin): Convertido ngram_range [1, 2] para tupla (1, 2)\n",
      "Fitting ProductVectorizerClassifier com 100 amostras...\n",
      "Fit concluído.\n",
      "Model Factory: Criando tipo 'PVBin' com params: {'method': 'binary', 'query': 'binary', 'norm': None, 'query_norm': None, 'ngram_range': [1, 2]}\n",
      "Model Factory (PVBin): Convertido ngram_range [1, 2] para tupla (1, 2)\n",
      "Fitting ProductVectorizerClassifier com 100 amostras...\n",
      "Fit concluído.\n",
      "Model Factory: Criando tipo 'PVBin' com params: {'method': 'binary', 'query': 'binary', 'norm': None, 'query_norm': None, 'ngram_range': [1, 2]}\n",
      "Model Factory (PVBin): Convertido ngram_range [1, 2] para tupla (1, 2)\n",
      "Fitting ProductVectorizerClassifier com 100 amostras...\n",
      "Fit concluído.\n",
      "    Novo melhor (Obj: minimize): Perf Real=0.0244\n",
      "    Acc Real Geração 4: Max=0.2518, Avg=0.2287, Min=0.2032\n",
      "    F1 Real Geração  4: Max=0.0305, Avg=0.0268, Min=0.0244\n",
      "    Duração Geração 4: 100.20s\n",
      "\n",
      "  Geração 5/100\n"
     ]
    },
    {
     "data": {
      "application/vnd.jupyter.widget-view+json": {
       "model_id": "6f1fd31575434a678e847dea1f799863",
       "version_major": 2,
       "version_minor": 0
      },
      "text/plain": [
       "Fitness Calc Gen 5:   0%|          | 0/20 [00:00<?, ?it/s]"
      ]
     },
     "metadata": {},
     "output_type": "display_data"
    },
    {
     "name": "stdout",
     "output_type": "stream",
     "text": [
      "Model Factory: Criando tipo 'PVBin' com params: {'method': 'binary', 'query': 'binary', 'norm': None, 'query_norm': None, 'ngram_range': [1, 2]}\n",
      "Model Factory (PVBin): Convertido ngram_range [1, 2] para tupla (1, 2)\n",
      "Fitting ProductVectorizerClassifier com 100 amostras...\n",
      "Fit concluído.\n",
      "Model Factory: Criando tipo 'PVBin' com params: {'method': 'binary', 'query': 'binary', 'norm': None, 'query_norm': None, 'ngram_range': [1, 2]}\n",
      "Model Factory (PVBin): Convertido ngram_range [1, 2] para tupla (1, 2)\n",
      "Fitting ProductVectorizerClassifier com 100 amostras...\n",
      "Fit concluído.\n",
      "Model Factory: Criando tipo 'PVBin' com params: {'method': 'binary', 'query': 'binary', 'norm': None, 'query_norm': None, 'ngram_range': [1, 2]}\n",
      "Model Factory (PVBin): Convertido ngram_range [1, 2] para tupla (1, 2)\n",
      "Fitting ProductVectorizerClassifier com 100 amostras...\n",
      "Fit concluído.\n",
      "Model Factory: Criando tipo 'PVBin' com params: {'method': 'binary', 'query': 'binary', 'norm': None, 'query_norm': None, 'ngram_range': [1, 2]}\n",
      "Model Factory (PVBin): Convertido ngram_range [1, 2] para tupla (1, 2)\n",
      "Fitting ProductVectorizerClassifier com 100 amostras...\n",
      "Fit concluído.\n",
      "Model Factory: Criando tipo 'PVBin' com params: {'method': 'binary', 'query': 'binary', 'norm': None, 'query_norm': None, 'ngram_range': [1, 2]}\n",
      "Model Factory (PVBin): Convertido ngram_range [1, 2] para tupla (1, 2)\n",
      "Fitting ProductVectorizerClassifier com 100 amostras...\n",
      "Fit concluído.\n",
      "Model Factory: Criando tipo 'PVBin' com params: {'method': 'binary', 'query': 'binary', 'norm': None, 'query_norm': None, 'ngram_range': [1, 2]}\n",
      "Model Factory (PVBin): Convertido ngram_range [1, 2] para tupla (1, 2)\n",
      "Fitting ProductVectorizerClassifier com 100 amostras...\n",
      "Fit concluído.\n",
      "Model Factory: Criando tipo 'PVBin' com params: {'method': 'binary', 'query': 'binary', 'norm': None, 'query_norm': None, 'ngram_range': [1, 2]}\n",
      "Model Factory (PVBin): Convertido ngram_range [1, 2] para tupla (1, 2)\n",
      "Fitting ProductVectorizerClassifier com 100 amostras...\n",
      "Fit concluído.\n",
      "Model Factory: Criando tipo 'PVBin' com params: {'method': 'binary', 'query': 'binary', 'norm': None, 'query_norm': None, 'ngram_range': [1, 2]}\n",
      "Model Factory (PVBin): Convertido ngram_range [1, 2] para tupla (1, 2)\n",
      "Fitting ProductVectorizerClassifier com 100 amostras...\n",
      "Fit concluído.\n",
      "Model Factory: Criando tipo 'PVBin' com params: {'method': 'binary', 'query': 'binary', 'norm': None, 'query_norm': None, 'ngram_range': [1, 2]}\n",
      "Model Factory (PVBin): Convertido ngram_range [1, 2] para tupla (1, 2)\n",
      "Fitting ProductVectorizerClassifier com 100 amostras...\n",
      "Fit concluído.\n",
      "Model Factory: Criando tipo 'PVBin' com params: {'method': 'binary', 'query': 'binary', 'norm': None, 'query_norm': None, 'ngram_range': [1, 2]}\n",
      "Model Factory (PVBin): Convertido ngram_range [1, 2] para tupla (1, 2)\n",
      "Fitting ProductVectorizerClassifier com 100 amostras...\n",
      "Fit concluído.\n",
      "Model Factory: Criando tipo 'PVBin' com params: {'method': 'binary', 'query': 'binary', 'norm': None, 'query_norm': None, 'ngram_range': [1, 2]}\n",
      "Model Factory (PVBin): Convertido ngram_range [1, 2] para tupla (1, 2)\n",
      "Fitting ProductVectorizerClassifier com 100 amostras...\n",
      "Fit concluído.\n",
      "Model Factory: Criando tipo 'PVBin' com params: {'method': 'binary', 'query': 'binary', 'norm': None, 'query_norm': None, 'ngram_range': [1, 2]}\n",
      "Model Factory (PVBin): Convertido ngram_range [1, 2] para tupla (1, 2)\n",
      "Fitting ProductVectorizerClassifier com 100 amostras...\n",
      "Fit concluído.\n",
      "Model Factory: Criando tipo 'PVBin' com params: {'method': 'binary', 'query': 'binary', 'norm': None, 'query_norm': None, 'ngram_range': [1, 2]}\n",
      "Model Factory (PVBin): Convertido ngram_range [1, 2] para tupla (1, 2)\n",
      "Fitting ProductVectorizerClassifier com 100 amostras...\n",
      "Fit concluído.\n",
      "    Acc Real Geração 5: Max=0.2535, Avg=0.2296, Min=0.2027\n",
      "    F1 Real Geração  5: Max=0.0295, Avg=0.0259, Min=0.0244\n",
      "    Duração Geração 5: 119.28s\n",
      "\n",
      "  Geração 6/100\n"
     ]
    },
    {
     "data": {
      "application/vnd.jupyter.widget-view+json": {
       "model_id": "11c519f2c2d444d2b46398e4376a1d35",
       "version_major": 2,
       "version_minor": 0
      },
      "text/plain": [
       "Fitness Calc Gen 6:   0%|          | 0/20 [00:00<?, ?it/s]"
      ]
     },
     "metadata": {},
     "output_type": "display_data"
    },
    {
     "name": "stdout",
     "output_type": "stream",
     "text": [
      "Model Factory: Criando tipo 'PVBin' com params: {'method': 'binary', 'query': 'binary', 'norm': None, 'query_norm': None, 'ngram_range': [1, 2]}\n",
      "Model Factory (PVBin): Convertido ngram_range [1, 2] para tupla (1, 2)\n",
      "Fitting ProductVectorizerClassifier com 100 amostras...\n",
      "Fit concluído.\n",
      "Model Factory: Criando tipo 'PVBin' com params: {'method': 'binary', 'query': 'binary', 'norm': None, 'query_norm': None, 'ngram_range': [1, 2]}\n",
      "Model Factory (PVBin): Convertido ngram_range [1, 2] para tupla (1, 2)\n",
      "Fitting ProductVectorizerClassifier com 100 amostras...\n",
      "Fit concluído.\n",
      "Model Factory: Criando tipo 'PVBin' com params: {'method': 'binary', 'query': 'binary', 'norm': None, 'query_norm': None, 'ngram_range': [1, 2]}\n",
      "Model Factory (PVBin): Convertido ngram_range [1, 2] para tupla (1, 2)\n",
      "Fitting ProductVectorizerClassifier com 100 amostras...\n",
      "Fit concluído.\n",
      "Model Factory: Criando tipo 'PVBin' com params: {'method': 'binary', 'query': 'binary', 'norm': None, 'query_norm': None, 'ngram_range': [1, 2]}\n",
      "Model Factory (PVBin): Convertido ngram_range [1, 2] para tupla (1, 2)\n",
      "Fitting ProductVectorizerClassifier com 100 amostras...\n",
      "Fit concluído.\n",
      "Model Factory: Criando tipo 'PVBin' com params: {'method': 'binary', 'query': 'binary', 'norm': None, 'query_norm': None, 'ngram_range': [1, 2]}\n",
      "Model Factory (PVBin): Convertido ngram_range [1, 2] para tupla (1, 2)\n",
      "Fitting ProductVectorizerClassifier com 100 amostras...\n",
      "Fit concluído.\n",
      "Model Factory: Criando tipo 'PVBin' com params: {'method': 'binary', 'query': 'binary', 'norm': None, 'query_norm': None, 'ngram_range': [1, 2]}\n",
      "Model Factory (PVBin): Convertido ngram_range [1, 2] para tupla (1, 2)\n",
      "Fitting ProductVectorizerClassifier com 100 amostras...\n",
      "Fit concluído.\n",
      "Model Factory: Criando tipo 'PVBin' com params: {'method': 'binary', 'query': 'binary', 'norm': None, 'query_norm': None, 'ngram_range': [1, 2]}\n",
      "Model Factory (PVBin): Convertido ngram_range [1, 2] para tupla (1, 2)\n",
      "Fitting ProductVectorizerClassifier com 100 amostras...\n",
      "Fit concluído.\n",
      "Model Factory: Criando tipo 'PVBin' com params: {'method': 'binary', 'query': 'binary', 'norm': None, 'query_norm': None, 'ngram_range': [1, 2]}\n",
      "Model Factory (PVBin): Convertido ngram_range [1, 2] para tupla (1, 2)\n",
      "Fitting ProductVectorizerClassifier com 100 amostras...\n",
      "Fit concluído.\n",
      "Model Factory: Criando tipo 'PVBin' com params: {'method': 'binary', 'query': 'binary', 'norm': None, 'query_norm': None, 'ngram_range': [1, 2]}\n",
      "Model Factory (PVBin): Convertido ngram_range [1, 2] para tupla (1, 2)\n",
      "Fitting ProductVectorizerClassifier com 100 amostras...\n",
      "Fit concluído.\n",
      "Model Factory: Criando tipo 'PVBin' com params: {'method': 'binary', 'query': 'binary', 'norm': None, 'query_norm': None, 'ngram_range': [1, 2]}\n",
      "Model Factory (PVBin): Convertido ngram_range [1, 2] para tupla (1, 2)\n",
      "Fitting ProductVectorizerClassifier com 100 amostras...\n",
      "Fit concluído.\n",
      "Model Factory: Criando tipo 'PVBin' com params: {'method': 'binary', 'query': 'binary', 'norm': None, 'query_norm': None, 'ngram_range': [1, 2]}\n",
      "Model Factory (PVBin): Convertido ngram_range [1, 2] para tupla (1, 2)\n",
      "Fitting ProductVectorizerClassifier com 100 amostras...\n",
      "Fit concluído.\n",
      "Model Factory: Criando tipo 'PVBin' com params: {'method': 'binary', 'query': 'binary', 'norm': None, 'query_norm': None, 'ngram_range': [1, 2]}\n",
      "Model Factory (PVBin): Convertido ngram_range [1, 2] para tupla (1, 2)\n",
      "Fitting ProductVectorizerClassifier com 100 amostras...\n",
      "Fit concluído.\n",
      "Model Factory: Criando tipo 'PVBin' com params: {'method': 'binary', 'query': 'binary', 'norm': None, 'query_norm': None, 'ngram_range': [1, 2]}\n",
      "Model Factory (PVBin): Convertido ngram_range [1, 2] para tupla (1, 2)\n",
      "Fitting ProductVectorizerClassifier com 100 amostras...\n",
      "Fit concluído.\n",
      "    Novo melhor (Obj: minimize): Perf Real=0.0242\n",
      "    Acc Real Geração 6: Max=0.2573, Avg=0.2347, Min=0.2181\n",
      "    F1 Real Geração  6: Max=0.0285, Avg=0.0256, Min=0.0242\n",
      "    Duração Geração 6: 135.32s\n",
      "\n",
      "  Geração 7/100\n"
     ]
    },
    {
     "data": {
      "application/vnd.jupyter.widget-view+json": {
       "model_id": "5c6c998db51a4be5986f03eefee8146f",
       "version_major": 2,
       "version_minor": 0
      },
      "text/plain": [
       "Fitness Calc Gen 7:   0%|          | 0/20 [00:00<?, ?it/s]"
      ]
     },
     "metadata": {},
     "output_type": "display_data"
    },
    {
     "name": "stdout",
     "output_type": "stream",
     "text": [
      "Model Factory: Criando tipo 'PVBin' com params: {'method': 'binary', 'query': 'binary', 'norm': None, 'query_norm': None, 'ngram_range': [1, 2]}\n",
      "Model Factory (PVBin): Convertido ngram_range [1, 2] para tupla (1, 2)\n",
      "Fitting ProductVectorizerClassifier com 100 amostras...\n",
      "Fit concluído.\n",
      "Model Factory: Criando tipo 'PVBin' com params: {'method': 'binary', 'query': 'binary', 'norm': None, 'query_norm': None, 'ngram_range': [1, 2]}\n",
      "Model Factory (PVBin): Convertido ngram_range [1, 2] para tupla (1, 2)\n",
      "Fitting ProductVectorizerClassifier com 100 amostras...\n",
      "Fit concluído.\n",
      "Model Factory: Criando tipo 'PVBin' com params: {'method': 'binary', 'query': 'binary', 'norm': None, 'query_norm': None, 'ngram_range': [1, 2]}\n",
      "Model Factory (PVBin): Convertido ngram_range [1, 2] para tupla (1, 2)\n",
      "Fitting ProductVectorizerClassifier com 100 amostras...\n",
      "Fit concluído.\n",
      "Model Factory: Criando tipo 'PVBin' com params: {'method': 'binary', 'query': 'binary', 'norm': None, 'query_norm': None, 'ngram_range': [1, 2]}\n",
      "Model Factory (PVBin): Convertido ngram_range [1, 2] para tupla (1, 2)\n",
      "Fitting ProductVectorizerClassifier com 100 amostras...\n",
      "Fit concluído.\n",
      "Model Factory: Criando tipo 'PVBin' com params: {'method': 'binary', 'query': 'binary', 'norm': None, 'query_norm': None, 'ngram_range': [1, 2]}\n",
      "Model Factory (PVBin): Convertido ngram_range [1, 2] para tupla (1, 2)\n",
      "Fitting ProductVectorizerClassifier com 100 amostras...\n",
      "Fit concluído.\n",
      "Model Factory: Criando tipo 'PVBin' com params: {'method': 'binary', 'query': 'binary', 'norm': None, 'query_norm': None, 'ngram_range': [1, 2]}\n",
      "Model Factory (PVBin): Convertido ngram_range [1, 2] para tupla (1, 2)\n",
      "Fitting ProductVectorizerClassifier com 100 amostras...\n",
      "Fit concluído.\n",
      "Model Factory: Criando tipo 'PVBin' com params: {'method': 'binary', 'query': 'binary', 'norm': None, 'query_norm': None, 'ngram_range': [1, 2]}\n",
      "Model Factory (PVBin): Convertido ngram_range [1, 2] para tupla (1, 2)\n",
      "Fitting ProductVectorizerClassifier com 100 amostras...\n",
      "Fit concluído.\n",
      "Model Factory: Criando tipo 'PVBin' com params: {'method': 'binary', 'query': 'binary', 'norm': None, 'query_norm': None, 'ngram_range': [1, 2]}\n",
      "Model Factory (PVBin): Convertido ngram_range [1, 2] para tupla (1, 2)\n",
      "Fitting ProductVectorizerClassifier com 100 amostras...\n",
      "Fit concluído.\n",
      "Model Factory: Criando tipo 'PVBin' com params: {'method': 'binary', 'query': 'binary', 'norm': None, 'query_norm': None, 'ngram_range': [1, 2]}\n",
      "Model Factory (PVBin): Convertido ngram_range [1, 2] para tupla (1, 2)\n",
      "Fitting ProductVectorizerClassifier com 100 amostras...\n",
      "Fit concluído.\n",
      "Model Factory: Criando tipo 'PVBin' com params: {'method': 'binary', 'query': 'binary', 'norm': None, 'query_norm': None, 'ngram_range': [1, 2]}\n",
      "Model Factory (PVBin): Convertido ngram_range [1, 2] para tupla (1, 2)\n",
      "Fitting ProductVectorizerClassifier com 100 amostras...\n",
      "Fit concluído.\n",
      "    Novo melhor (Obj: minimize): Perf Real=0.0235\n",
      "    Acc Real Geração 7: Max=0.2469, Avg=0.2292, Min=0.2181\n",
      "    F1 Real Geração  7: Max=0.0260, Avg=0.0244, Min=0.0235\n",
      "    Duração Geração 7: 128.41s\n",
      "\n",
      "  Geração 8/100\n"
     ]
    },
    {
     "data": {
      "application/vnd.jupyter.widget-view+json": {
       "model_id": "30643921122143a28e8708eba3b51bed",
       "version_major": 2,
       "version_minor": 0
      },
      "text/plain": [
       "Fitness Calc Gen 8:   0%|          | 0/20 [00:00<?, ?it/s]"
      ]
     },
     "metadata": {},
     "output_type": "display_data"
    },
    {
     "name": "stdout",
     "output_type": "stream",
     "text": [
      "Model Factory: Criando tipo 'PVBin' com params: {'method': 'binary', 'query': 'binary', 'norm': None, 'query_norm': None, 'ngram_range': [1, 2]}\n",
      "Model Factory (PVBin): Convertido ngram_range [1, 2] para tupla (1, 2)\n",
      "Fitting ProductVectorizerClassifier com 100 amostras...\n",
      "Fit concluído.\n",
      "Model Factory: Criando tipo 'PVBin' com params: {'method': 'binary', 'query': 'binary', 'norm': None, 'query_norm': None, 'ngram_range': [1, 2]}\n",
      "Model Factory (PVBin): Convertido ngram_range [1, 2] para tupla (1, 2)\n",
      "Fitting ProductVectorizerClassifier com 100 amostras...\n",
      "Fit concluído.\n",
      "Model Factory: Criando tipo 'PVBin' com params: {'method': 'binary', 'query': 'binary', 'norm': None, 'query_norm': None, 'ngram_range': [1, 2]}\n",
      "Model Factory (PVBin): Convertido ngram_range [1, 2] para tupla (1, 2)\n",
      "Fitting ProductVectorizerClassifier com 100 amostras...\n",
      "Fit concluído.\n",
      "Model Factory: Criando tipo 'PVBin' com params: {'method': 'binary', 'query': 'binary', 'norm': None, 'query_norm': None, 'ngram_range': [1, 2]}\n",
      "Model Factory (PVBin): Convertido ngram_range [1, 2] para tupla (1, 2)\n",
      "Fitting ProductVectorizerClassifier com 100 amostras...\n",
      "Fit concluído.\n",
      "Model Factory: Criando tipo 'PVBin' com params: {'method': 'binary', 'query': 'binary', 'norm': None, 'query_norm': None, 'ngram_range': [1, 2]}\n",
      "Model Factory (PVBin): Convertido ngram_range [1, 2] para tupla (1, 2)\n",
      "Fitting ProductVectorizerClassifier com 100 amostras...\n",
      "Fit concluído.\n",
      "Model Factory: Criando tipo 'PVBin' com params: {'method': 'binary', 'query': 'binary', 'norm': None, 'query_norm': None, 'ngram_range': [1, 2]}\n",
      "Model Factory (PVBin): Convertido ngram_range [1, 2] para tupla (1, 2)\n",
      "Fitting ProductVectorizerClassifier com 100 amostras...\n",
      "Fit concluído.\n",
      "Model Factory: Criando tipo 'PVBin' com params: {'method': 'binary', 'query': 'binary', 'norm': None, 'query_norm': None, 'ngram_range': [1, 2]}\n",
      "Model Factory (PVBin): Convertido ngram_range [1, 2] para tupla (1, 2)\n",
      "Fitting ProductVectorizerClassifier com 100 amostras...\n",
      "Fit concluído.\n",
      "Model Factory: Criando tipo 'PVBin' com params: {'method': 'binary', 'query': 'binary', 'norm': None, 'query_norm': None, 'ngram_range': [1, 2]}\n",
      "Model Factory (PVBin): Convertido ngram_range [1, 2] para tupla (1, 2)\n",
      "Fitting ProductVectorizerClassifier com 100 amostras...\n",
      "Fit concluído.\n",
      "Model Factory: Criando tipo 'PVBin' com params: {'method': 'binary', 'query': 'binary', 'norm': None, 'query_norm': None, 'ngram_range': [1, 2]}\n",
      "Model Factory (PVBin): Convertido ngram_range [1, 2] para tupla (1, 2)\n",
      "Fitting ProductVectorizerClassifier com 100 amostras...\n",
      "Fit concluído.\n",
      "    Novo melhor (Obj: minimize): Perf Real=0.0230\n",
      "    Acc Real Geração 8: Max=0.2481, Avg=0.2321, Min=0.2201\n",
      "    F1 Real Geração  8: Max=0.0257, Avg=0.0241, Min=0.0230\n",
      "    Duração Geração 8: 104.22s\n",
      "\n",
      "  Geração 9/100\n"
     ]
    },
    {
     "data": {
      "application/vnd.jupyter.widget-view+json": {
       "model_id": "fde21c9b02f34ee6b29cb44009f36e0a",
       "version_major": 2,
       "version_minor": 0
      },
      "text/plain": [
       "Fitness Calc Gen 9:   0%|          | 0/20 [00:00<?, ?it/s]"
      ]
     },
     "metadata": {},
     "output_type": "display_data"
    },
    {
     "name": "stdout",
     "output_type": "stream",
     "text": [
      "Model Factory: Criando tipo 'PVBin' com params: {'method': 'binary', 'query': 'binary', 'norm': None, 'query_norm': None, 'ngram_range': [1, 2]}\n",
      "Model Factory (PVBin): Convertido ngram_range [1, 2] para tupla (1, 2)\n",
      "Fitting ProductVectorizerClassifier com 100 amostras...\n",
      "Fit concluído.\n",
      "Model Factory: Criando tipo 'PVBin' com params: {'method': 'binary', 'query': 'binary', 'norm': None, 'query_norm': None, 'ngram_range': [1, 2]}\n",
      "Model Factory (PVBin): Convertido ngram_range [1, 2] para tupla (1, 2)\n",
      "Fitting ProductVectorizerClassifier com 100 amostras...\n",
      "Fit concluído.\n",
      "Model Factory: Criando tipo 'PVBin' com params: {'method': 'binary', 'query': 'binary', 'norm': None, 'query_norm': None, 'ngram_range': [1, 2]}\n",
      "Model Factory (PVBin): Convertido ngram_range [1, 2] para tupla (1, 2)\n",
      "Fitting ProductVectorizerClassifier com 100 amostras...\n",
      "Fit concluído.\n",
      "Model Factory: Criando tipo 'PVBin' com params: {'method': 'binary', 'query': 'binary', 'norm': None, 'query_norm': None, 'ngram_range': [1, 2]}\n",
      "Model Factory (PVBin): Convertido ngram_range [1, 2] para tupla (1, 2)\n",
      "Fitting ProductVectorizerClassifier com 100 amostras...\n",
      "Fit concluído.\n",
      "Model Factory: Criando tipo 'PVBin' com params: {'method': 'binary', 'query': 'binary', 'norm': None, 'query_norm': None, 'ngram_range': [1, 2]}\n",
      "Model Factory (PVBin): Convertido ngram_range [1, 2] para tupla (1, 2)\n",
      "Fitting ProductVectorizerClassifier com 100 amostras...\n",
      "Fit concluído.\n",
      "Model Factory: Criando tipo 'PVBin' com params: {'method': 'binary', 'query': 'binary', 'norm': None, 'query_norm': None, 'ngram_range': [1, 2]}\n",
      "Model Factory (PVBin): Convertido ngram_range [1, 2] para tupla (1, 2)\n",
      "Fitting ProductVectorizerClassifier com 100 amostras...\n",
      "Fit concluído.\n",
      "Model Factory: Criando tipo 'PVBin' com params: {'method': 'binary', 'query': 'binary', 'norm': None, 'query_norm': None, 'ngram_range': [1, 2]}\n",
      "Model Factory (PVBin): Convertido ngram_range [1, 2] para tupla (1, 2)\n",
      "Fitting ProductVectorizerClassifier com 100 amostras...\n",
      "Fit concluído.\n",
      "Model Factory: Criando tipo 'PVBin' com params: {'method': 'binary', 'query': 'binary', 'norm': None, 'query_norm': None, 'ngram_range': [1, 2]}\n",
      "Model Factory (PVBin): Convertido ngram_range [1, 2] para tupla (1, 2)\n",
      "Fitting ProductVectorizerClassifier com 100 amostras...\n",
      "Fit concluído.\n",
      "Model Factory: Criando tipo 'PVBin' com params: {'method': 'binary', 'query': 'binary', 'norm': None, 'query_norm': None, 'ngram_range': [1, 2]}\n",
      "Model Factory (PVBin): Convertido ngram_range [1, 2] para tupla (1, 2)\n",
      "Fitting ProductVectorizerClassifier com 100 amostras...\n",
      "Fit concluído.\n",
      "Model Factory: Criando tipo 'PVBin' com params: {'method': 'binary', 'query': 'binary', 'norm': None, 'query_norm': None, 'ngram_range': [1, 2]}\n",
      "Model Factory (PVBin): Convertido ngram_range [1, 2] para tupla (1, 2)\n",
      "Fitting ProductVectorizerClassifier com 100 amostras...\n",
      "Fit concluído.\n",
      "    Novo melhor (Obj: minimize): Perf Real=0.0216\n",
      "    Acc Real Geração 9: Max=0.2508, Avg=0.2278, Min=0.2137\n",
      "    F1 Real Geração  9: Max=0.0249, Avg=0.0235, Min=0.0216\n",
      "    Duração Geração 9: 155.06s\n",
      "\n",
      "  Geração 10/100\n"
     ]
    },
    {
     "data": {
      "application/vnd.jupyter.widget-view+json": {
       "model_id": "b6f533cf73204a698469e36a66edbc92",
       "version_major": 2,
       "version_minor": 0
      },
      "text/plain": [
       "Fitness Calc Gen 10:   0%|          | 0/20 [00:00<?, ?it/s]"
      ]
     },
     "metadata": {},
     "output_type": "display_data"
    },
    {
     "name": "stdout",
     "output_type": "stream",
     "text": [
      "Model Factory: Criando tipo 'PVBin' com params: {'method': 'binary', 'query': 'binary', 'norm': None, 'query_norm': None, 'ngram_range': [1, 2]}\n",
      "Model Factory (PVBin): Convertido ngram_range [1, 2] para tupla (1, 2)\n",
      "Fitting ProductVectorizerClassifier com 100 amostras...\n",
      "Fit concluído.\n",
      "Model Factory: Criando tipo 'PVBin' com params: {'method': 'binary', 'query': 'binary', 'norm': None, 'query_norm': None, 'ngram_range': [1, 2]}\n",
      "Model Factory (PVBin): Convertido ngram_range [1, 2] para tupla (1, 2)\n",
      "Fitting ProductVectorizerClassifier com 100 amostras...\n",
      "Fit concluído.\n",
      "Model Factory: Criando tipo 'PVBin' com params: {'method': 'binary', 'query': 'binary', 'norm': None, 'query_norm': None, 'ngram_range': [1, 2]}\n",
      "Model Factory (PVBin): Convertido ngram_range [1, 2] para tupla (1, 2)\n",
      "Fitting ProductVectorizerClassifier com 100 amostras...\n",
      "Fit concluído.\n",
      "Model Factory: Criando tipo 'PVBin' com params: {'method': 'binary', 'query': 'binary', 'norm': None, 'query_norm': None, 'ngram_range': [1, 2]}\n",
      "Model Factory (PVBin): Convertido ngram_range [1, 2] para tupla (1, 2)\n",
      "Fitting ProductVectorizerClassifier com 100 amostras...\n",
      "Fit concluído.\n",
      "Model Factory: Criando tipo 'PVBin' com params: {'method': 'binary', 'query': 'binary', 'norm': None, 'query_norm': None, 'ngram_range': [1, 2]}\n",
      "Model Factory (PVBin): Convertido ngram_range [1, 2] para tupla (1, 2)\n",
      "Fitting ProductVectorizerClassifier com 100 amostras...\n",
      "Fit concluído.\n",
      "Model Factory: Criando tipo 'PVBin' com params: {'method': 'binary', 'query': 'binary', 'norm': None, 'query_norm': None, 'ngram_range': [1, 2]}\n",
      "Model Factory (PVBin): Convertido ngram_range [1, 2] para tupla (1, 2)\n",
      "Fitting ProductVectorizerClassifier com 100 amostras...\n",
      "Fit concluído.\n",
      "Model Factory: Criando tipo 'PVBin' com params: {'method': 'binary', 'query': 'binary', 'norm': None, 'query_norm': None, 'ngram_range': [1, 2]}\n",
      "Model Factory (PVBin): Convertido ngram_range [1, 2] para tupla (1, 2)\n",
      "Fitting ProductVectorizerClassifier com 100 amostras...\n",
      "Fit concluído.\n",
      "Model Factory: Criando tipo 'PVBin' com params: {'method': 'binary', 'query': 'binary', 'norm': None, 'query_norm': None, 'ngram_range': [1, 2]}\n",
      "Model Factory (PVBin): Convertido ngram_range [1, 2] para tupla (1, 2)\n",
      "Fitting ProductVectorizerClassifier com 100 amostras...\n",
      "Fit concluído.\n",
      "Model Factory: Criando tipo 'PVBin' com params: {'method': 'binary', 'query': 'binary', 'norm': None, 'query_norm': None, 'ngram_range': [1, 2]}\n",
      "Model Factory (PVBin): Convertido ngram_range [1, 2] para tupla (1, 2)\n",
      "Fitting ProductVectorizerClassifier com 100 amostras...\n",
      "Fit concluído.\n",
      "Model Factory: Criando tipo 'PVBin' com params: {'method': 'binary', 'query': 'binary', 'norm': None, 'query_norm': None, 'ngram_range': [1, 2]}\n",
      "Model Factory (PVBin): Convertido ngram_range [1, 2] para tupla (1, 2)\n",
      "Fitting ProductVectorizerClassifier com 100 amostras...\n",
      "Fit concluído.\n",
      "Model Factory: Criando tipo 'PVBin' com params: {'method': 'binary', 'query': 'binary', 'norm': None, 'query_norm': None, 'ngram_range': [1, 2]}\n",
      "Model Factory (PVBin): Convertido ngram_range [1, 2] para tupla (1, 2)\n",
      "Fitting ProductVectorizerClassifier com 100 amostras...\n",
      "Fit concluído.\n",
      "Model Factory: Criando tipo 'PVBin' com params: {'method': 'binary', 'query': 'binary', 'norm': None, 'query_norm': None, 'ngram_range': [1, 2]}\n",
      "Model Factory (PVBin): Convertido ngram_range [1, 2] para tupla (1, 2)\n",
      "Fitting ProductVectorizerClassifier com 100 amostras...\n",
      "Fit concluído.\n",
      "    Novo melhor (Obj: minimize): Perf Real=0.0214\n",
      "    Acc Real Geração 10: Max=0.2272, Avg=0.2207, Min=0.2097\n",
      "    F1 Real Geração  10: Max=0.0253, Avg=0.0228, Min=0.0214\n",
      "    Duração Geração 10: 213.77s\n",
      "\n",
      "  Geração 11/100\n"
     ]
    },
    {
     "data": {
      "application/vnd.jupyter.widget-view+json": {
       "model_id": "59a73abc259044089d026f5c8185c4d3",
       "version_major": 2,
       "version_minor": 0
      },
      "text/plain": [
       "Fitness Calc Gen 11:   0%|          | 0/20 [00:00<?, ?it/s]"
      ]
     },
     "metadata": {},
     "output_type": "display_data"
    },
    {
     "name": "stdout",
     "output_type": "stream",
     "text": [
      "Model Factory: Criando tipo 'PVBin' com params: {'method': 'binary', 'query': 'binary', 'norm': None, 'query_norm': None, 'ngram_range': [1, 2]}\n",
      "Model Factory (PVBin): Convertido ngram_range [1, 2] para tupla (1, 2)\n",
      "Fitting ProductVectorizerClassifier com 100 amostras...\n",
      "Fit concluído.\n",
      "Model Factory: Criando tipo 'PVBin' com params: {'method': 'binary', 'query': 'binary', 'norm': None, 'query_norm': None, 'ngram_range': [1, 2]}\n",
      "Model Factory (PVBin): Convertido ngram_range [1, 2] para tupla (1, 2)\n",
      "Fitting ProductVectorizerClassifier com 100 amostras...\n",
      "Fit concluído.\n",
      "Model Factory: Criando tipo 'PVBin' com params: {'method': 'binary', 'query': 'binary', 'norm': None, 'query_norm': None, 'ngram_range': [1, 2]}\n",
      "Model Factory (PVBin): Convertido ngram_range [1, 2] para tupla (1, 2)\n",
      "Fitting ProductVectorizerClassifier com 100 amostras...\n",
      "Fit concluído.\n",
      "Model Factory: Criando tipo 'PVBin' com params: {'method': 'binary', 'query': 'binary', 'norm': None, 'query_norm': None, 'ngram_range': [1, 2]}\n",
      "Model Factory (PVBin): Convertido ngram_range [1, 2] para tupla (1, 2)\n",
      "Fitting ProductVectorizerClassifier com 100 amostras...\n",
      "Fit concluído.\n",
      "Model Factory: Criando tipo 'PVBin' com params: {'method': 'binary', 'query': 'binary', 'norm': None, 'query_norm': None, 'ngram_range': [1, 2]}\n",
      "Model Factory (PVBin): Convertido ngram_range [1, 2] para tupla (1, 2)\n",
      "Fitting ProductVectorizerClassifier com 100 amostras...\n",
      "Fit concluído.\n",
      "Model Factory: Criando tipo 'PVBin' com params: {'method': 'binary', 'query': 'binary', 'norm': None, 'query_norm': None, 'ngram_range': [1, 2]}\n",
      "Model Factory (PVBin): Convertido ngram_range [1, 2] para tupla (1, 2)\n",
      "Fitting ProductVectorizerClassifier com 100 amostras...\n",
      "Fit concluído.\n",
      "Model Factory: Criando tipo 'PVBin' com params: {'method': 'binary', 'query': 'binary', 'norm': None, 'query_norm': None, 'ngram_range': [1, 2]}\n",
      "Model Factory (PVBin): Convertido ngram_range [1, 2] para tupla (1, 2)\n",
      "Fitting ProductVectorizerClassifier com 100 amostras...\n",
      "Fit concluído.\n",
      "Model Factory: Criando tipo 'PVBin' com params: {'method': 'binary', 'query': 'binary', 'norm': None, 'query_norm': None, 'ngram_range': [1, 2]}\n",
      "Model Factory (PVBin): Convertido ngram_range [1, 2] para tupla (1, 2)\n",
      "Fitting ProductVectorizerClassifier com 100 amostras...\n",
      "Fit concluído.\n",
      "    Novo melhor (Obj: minimize): Perf Real=0.0213\n",
      "    Acc Real Geração 11: Max=0.2249, Avg=0.2171, Min=0.2059\n",
      "    F1 Real Geração  11: Max=0.0231, Avg=0.0221, Min=0.0213\n",
      "    Duração Geração 11: 120.55s\n",
      "\n",
      "  Geração 12/100\n"
     ]
    },
    {
     "data": {
      "application/vnd.jupyter.widget-view+json": {
       "model_id": "e92e647d2b564bdd89dd83b4394b9e31",
       "version_major": 2,
       "version_minor": 0
      },
      "text/plain": [
       "Fitness Calc Gen 12:   0%|          | 0/20 [00:00<?, ?it/s]"
      ]
     },
     "metadata": {},
     "output_type": "display_data"
    },
    {
     "name": "stdout",
     "output_type": "stream",
     "text": [
      "Model Factory: Criando tipo 'PVBin' com params: {'method': 'binary', 'query': 'binary', 'norm': None, 'query_norm': None, 'ngram_range': [1, 2]}\n",
      "Model Factory (PVBin): Convertido ngram_range [1, 2] para tupla (1, 2)\n",
      "Fitting ProductVectorizerClassifier com 100 amostras...\n",
      "Fit concluído.\n",
      "Model Factory: Criando tipo 'PVBin' com params: {'method': 'binary', 'query': 'binary', 'norm': None, 'query_norm': None, 'ngram_range': [1, 2]}\n",
      "Model Factory (PVBin): Convertido ngram_range [1, 2] para tupla (1, 2)\n",
      "Fitting ProductVectorizerClassifier com 100 amostras...\n",
      "Fit concluído.\n",
      "Model Factory: Criando tipo 'PVBin' com params: {'method': 'binary', 'query': 'binary', 'norm': None, 'query_norm': None, 'ngram_range': [1, 2]}\n",
      "Model Factory (PVBin): Convertido ngram_range [1, 2] para tupla (1, 2)\n",
      "Fitting ProductVectorizerClassifier com 100 amostras...\n",
      "Fit concluído.\n",
      "Model Factory: Criando tipo 'PVBin' com params: {'method': 'binary', 'query': 'binary', 'norm': None, 'query_norm': None, 'ngram_range': [1, 2]}\n",
      "Model Factory (PVBin): Convertido ngram_range [1, 2] para tupla (1, 2)\n",
      "Fitting ProductVectorizerClassifier com 100 amostras...\n",
      "Fit concluído.\n",
      "Model Factory: Criando tipo 'PVBin' com params: {'method': 'binary', 'query': 'binary', 'norm': None, 'query_norm': None, 'ngram_range': [1, 2]}\n",
      "Model Factory (PVBin): Convertido ngram_range [1, 2] para tupla (1, 2)\n",
      "Fitting ProductVectorizerClassifier com 100 amostras...\n",
      "Fit concluído.\n",
      "Model Factory: Criando tipo 'PVBin' com params: {'method': 'binary', 'query': 'binary', 'norm': None, 'query_norm': None, 'ngram_range': [1, 2]}\n",
      "Model Factory (PVBin): Convertido ngram_range [1, 2] para tupla (1, 2)\n",
      "Fitting ProductVectorizerClassifier com 100 amostras...\n",
      "Fit concluído.\n",
      "Model Factory: Criando tipo 'PVBin' com params: {'method': 'binary', 'query': 'binary', 'norm': None, 'query_norm': None, 'ngram_range': [1, 2]}\n",
      "Model Factory (PVBin): Convertido ngram_range [1, 2] para tupla (1, 2)\n",
      "Fitting ProductVectorizerClassifier com 100 amostras...\n",
      "Fit concluído.\n",
      "Model Factory: Criando tipo 'PVBin' com params: {'method': 'binary', 'query': 'binary', 'norm': None, 'query_norm': None, 'ngram_range': [1, 2]}\n",
      "Model Factory (PVBin): Convertido ngram_range [1, 2] para tupla (1, 2)\n",
      "Fitting ProductVectorizerClassifier com 100 amostras...\n",
      "Fit concluído.\n",
      "Model Factory: Criando tipo 'PVBin' com params: {'method': 'binary', 'query': 'binary', 'norm': None, 'query_norm': None, 'ngram_range': [1, 2]}\n",
      "Model Factory (PVBin): Convertido ngram_range [1, 2] para tupla (1, 2)\n",
      "Fitting ProductVectorizerClassifier com 100 amostras...\n",
      "Fit concluído.\n",
      "Model Factory: Criando tipo 'PVBin' com params: {'method': 'binary', 'query': 'binary', 'norm': None, 'query_norm': None, 'ngram_range': [1, 2]}\n",
      "Model Factory (PVBin): Convertido ngram_range [1, 2] para tupla (1, 2)\n",
      "Fitting ProductVectorizerClassifier com 100 amostras...\n",
      "Fit concluído.\n",
      "Model Factory: Criando tipo 'PVBin' com params: {'method': 'binary', 'query': 'binary', 'norm': None, 'query_norm': None, 'ngram_range': [1, 2]}\n",
      "Model Factory (PVBin): Convertido ngram_range [1, 2] para tupla (1, 2)\n",
      "Fitting ProductVectorizerClassifier com 100 amostras...\n",
      "Fit concluído.\n",
      "Model Factory: Criando tipo 'PVBin' com params: {'method': 'binary', 'query': 'binary', 'norm': None, 'query_norm': None, 'ngram_range': [1, 2]}\n",
      "Model Factory (PVBin): Convertido ngram_range [1, 2] para tupla (1, 2)\n",
      "Fitting ProductVectorizerClassifier com 100 amostras...\n",
      "Fit concluído.\n",
      "Model Factory: Criando tipo 'PVBin' com params: {'method': 'binary', 'query': 'binary', 'norm': None, 'query_norm': None, 'ngram_range': [1, 2]}\n",
      "Model Factory (PVBin): Convertido ngram_range [1, 2] para tupla (1, 2)\n",
      "Fitting ProductVectorizerClassifier com 100 amostras...\n",
      "Fit concluído.\n",
      "    Novo melhor (Obj: minimize): Perf Real=0.0203\n",
      "    Acc Real Geração 12: Max=0.2210, Avg=0.2134, Min=0.2059\n",
      "    F1 Real Geração  12: Max=0.0231, Avg=0.0216, Min=0.0203\n",
      "    Duração Geração 12: 204.49s\n",
      "\n",
      "  Geração 13/100\n"
     ]
    },
    {
     "data": {
      "application/vnd.jupyter.widget-view+json": {
       "model_id": "df3b68cbf3c0491c8de84d5c8a92aac7",
       "version_major": 2,
       "version_minor": 0
      },
      "text/plain": [
       "Fitness Calc Gen 13:   0%|          | 0/20 [00:00<?, ?it/s]"
      ]
     },
     "metadata": {},
     "output_type": "display_data"
    },
    {
     "name": "stdout",
     "output_type": "stream",
     "text": [
      "Model Factory: Criando tipo 'PVBin' com params: {'method': 'binary', 'query': 'binary', 'norm': None, 'query_norm': None, 'ngram_range': [1, 2]}\n",
      "Model Factory (PVBin): Convertido ngram_range [1, 2] para tupla (1, 2)\n",
      "Fitting ProductVectorizerClassifier com 100 amostras...\n",
      "Fit concluído.\n",
      "Model Factory: Criando tipo 'PVBin' com params: {'method': 'binary', 'query': 'binary', 'norm': None, 'query_norm': None, 'ngram_range': [1, 2]}\n",
      "Model Factory (PVBin): Convertido ngram_range [1, 2] para tupla (1, 2)\n",
      "Fitting ProductVectorizerClassifier com 100 amostras...\n",
      "Fit concluído.\n",
      "Model Factory: Criando tipo 'PVBin' com params: {'method': 'binary', 'query': 'binary', 'norm': None, 'query_norm': None, 'ngram_range': [1, 2]}\n",
      "Model Factory (PVBin): Convertido ngram_range [1, 2] para tupla (1, 2)\n",
      "Fitting ProductVectorizerClassifier com 100 amostras...\n",
      "Fit concluído.\n",
      "Model Factory: Criando tipo 'PVBin' com params: {'method': 'binary', 'query': 'binary', 'norm': None, 'query_norm': None, 'ngram_range': [1, 2]}\n",
      "Model Factory (PVBin): Convertido ngram_range [1, 2] para tupla (1, 2)\n",
      "Fitting ProductVectorizerClassifier com 100 amostras...\n",
      "Fit concluído.\n",
      "Model Factory: Criando tipo 'PVBin' com params: {'method': 'binary', 'query': 'binary', 'norm': None, 'query_norm': None, 'ngram_range': [1, 2]}\n",
      "Model Factory (PVBin): Convertido ngram_range [1, 2] para tupla (1, 2)\n",
      "Fitting ProductVectorizerClassifier com 100 amostras...\n",
      "Fit concluído.\n",
      "Model Factory: Criando tipo 'PVBin' com params: {'method': 'binary', 'query': 'binary', 'norm': None, 'query_norm': None, 'ngram_range': [1, 2]}\n",
      "Model Factory (PVBin): Convertido ngram_range [1, 2] para tupla (1, 2)\n",
      "Fitting ProductVectorizerClassifier com 100 amostras...\n",
      "Fit concluído.\n",
      "Model Factory: Criando tipo 'PVBin' com params: {'method': 'binary', 'query': 'binary', 'norm': None, 'query_norm': None, 'ngram_range': [1, 2]}\n",
      "Model Factory (PVBin): Convertido ngram_range [1, 2] para tupla (1, 2)\n",
      "Fitting ProductVectorizerClassifier com 100 amostras...\n",
      "Fit concluído.\n",
      "Model Factory: Criando tipo 'PVBin' com params: {'method': 'binary', 'query': 'binary', 'norm': None, 'query_norm': None, 'ngram_range': [1, 2]}\n",
      "Model Factory (PVBin): Convertido ngram_range [1, 2] para tupla (1, 2)\n",
      "Fitting ProductVectorizerClassifier com 100 amostras...\n",
      "Fit concluído.\n",
      "Model Factory: Criando tipo 'PVBin' com params: {'method': 'binary', 'query': 'binary', 'norm': None, 'query_norm': None, 'ngram_range': [1, 2]}\n",
      "Model Factory (PVBin): Convertido ngram_range [1, 2] para tupla (1, 2)\n",
      "Fitting ProductVectorizerClassifier com 100 amostras...\n",
      "Fit concluído.\n",
      "Model Factory: Criando tipo 'PVBin' com params: {'method': 'binary', 'query': 'binary', 'norm': None, 'query_norm': None, 'ngram_range': [1, 2]}\n",
      "Model Factory (PVBin): Convertido ngram_range [1, 2] para tupla (1, 2)\n",
      "Fitting ProductVectorizerClassifier com 100 amostras...\n",
      "Fit concluído.\n",
      "Model Factory: Criando tipo 'PVBin' com params: {'method': 'binary', 'query': 'binary', 'norm': None, 'query_norm': None, 'ngram_range': [1, 2]}\n",
      "Model Factory (PVBin): Convertido ngram_range [1, 2] para tupla (1, 2)\n",
      "Fitting ProductVectorizerClassifier com 100 amostras...\n",
      "Fit concluído.\n",
      "Model Factory: Criando tipo 'PVBin' com params: {'method': 'binary', 'query': 'binary', 'norm': None, 'query_norm': None, 'ngram_range': [1, 2]}\n",
      "Model Factory (PVBin): Convertido ngram_range [1, 2] para tupla (1, 2)\n",
      "Fitting ProductVectorizerClassifier com 100 amostras...\n",
      "Fit concluído.\n",
      "    Acc Real Geração 13: Max=0.2227, Avg=0.2124, Min=0.2059\n",
      "    F1 Real Geração  13: Max=0.0221, Avg=0.0213, Min=0.0203\n",
      "    Duração Geração 13: 183.36s\n",
      "\n",
      "  Geração 14/100\n"
     ]
    },
    {
     "data": {
      "application/vnd.jupyter.widget-view+json": {
       "model_id": "78af247e97fb477486ac934d7d449e0a",
       "version_major": 2,
       "version_minor": 0
      },
      "text/plain": [
       "Fitness Calc Gen 14:   0%|          | 0/20 [00:00<?, ?it/s]"
      ]
     },
     "metadata": {},
     "output_type": "display_data"
    },
    {
     "name": "stdout",
     "output_type": "stream",
     "text": [
      "Model Factory: Criando tipo 'PVBin' com params: {'method': 'binary', 'query': 'binary', 'norm': None, 'query_norm': None, 'ngram_range': [1, 2]}\n",
      "Model Factory (PVBin): Convertido ngram_range [1, 2] para tupla (1, 2)\n",
      "Fitting ProductVectorizerClassifier com 100 amostras...\n",
      "Fit concluído.\n",
      "Model Factory: Criando tipo 'PVBin' com params: {'method': 'binary', 'query': 'binary', 'norm': None, 'query_norm': None, 'ngram_range': [1, 2]}\n",
      "Model Factory (PVBin): Convertido ngram_range [1, 2] para tupla (1, 2)\n",
      "Fitting ProductVectorizerClassifier com 100 amostras...\n",
      "Fit concluído.\n",
      "Model Factory: Criando tipo 'PVBin' com params: {'method': 'binary', 'query': 'binary', 'norm': None, 'query_norm': None, 'ngram_range': [1, 2]}\n",
      "Model Factory (PVBin): Convertido ngram_range [1, 2] para tupla (1, 2)\n",
      "Fitting ProductVectorizerClassifier com 100 amostras...\n",
      "Fit concluído.\n",
      "Model Factory: Criando tipo 'PVBin' com params: {'method': 'binary', 'query': 'binary', 'norm': None, 'query_norm': None, 'ngram_range': [1, 2]}\n",
      "Model Factory (PVBin): Convertido ngram_range [1, 2] para tupla (1, 2)\n",
      "Fitting ProductVectorizerClassifier com 100 amostras...\n",
      "Fit concluído.\n",
      "Model Factory: Criando tipo 'PVBin' com params: {'method': 'binary', 'query': 'binary', 'norm': None, 'query_norm': None, 'ngram_range': [1, 2]}\n",
      "Model Factory (PVBin): Convertido ngram_range [1, 2] para tupla (1, 2)\n",
      "Fitting ProductVectorizerClassifier com 100 amostras...\n",
      "Fit concluído.\n",
      "Model Factory: Criando tipo 'PVBin' com params: {'method': 'binary', 'query': 'binary', 'norm': None, 'query_norm': None, 'ngram_range': [1, 2]}\n",
      "Model Factory (PVBin): Convertido ngram_range [1, 2] para tupla (1, 2)\n",
      "Fitting ProductVectorizerClassifier com 100 amostras...\n",
      "Fit concluído.\n",
      "    Novo melhor (Obj: minimize): Perf Real=0.0190\n",
      "    Acc Real Geração 14: Max=0.2227, Avg=0.2135, Min=0.2014\n",
      "    F1 Real Geração  14: Max=0.0219, Avg=0.0208, Min=0.0190\n",
      "    Duração Geração 14: 107.68s\n",
      "\n",
      "  Geração 15/100\n"
     ]
    },
    {
     "data": {
      "application/vnd.jupyter.widget-view+json": {
       "model_id": "2babd987057740e1b6ae7469b084bd3c",
       "version_major": 2,
       "version_minor": 0
      },
      "text/plain": [
       "Fitness Calc Gen 15:   0%|          | 0/20 [00:00<?, ?it/s]"
      ]
     },
     "metadata": {},
     "output_type": "display_data"
    },
    {
     "name": "stdout",
     "output_type": "stream",
     "text": [
      "Model Factory: Criando tipo 'PVBin' com params: {'method': 'binary', 'query': 'binary', 'norm': None, 'query_norm': None, 'ngram_range': [1, 2]}\n",
      "Model Factory (PVBin): Convertido ngram_range [1, 2] para tupla (1, 2)\n",
      "Fitting ProductVectorizerClassifier com 100 amostras...\n",
      "Fit concluído.\n",
      "Model Factory: Criando tipo 'PVBin' com params: {'method': 'binary', 'query': 'binary', 'norm': None, 'query_norm': None, 'ngram_range': [1, 2]}\n",
      "Model Factory (PVBin): Convertido ngram_range [1, 2] para tupla (1, 2)\n",
      "Fitting ProductVectorizerClassifier com 100 amostras...\n",
      "Fit concluído.\n",
      "Model Factory: Criando tipo 'PVBin' com params: {'method': 'binary', 'query': 'binary', 'norm': None, 'query_norm': None, 'ngram_range': [1, 2]}\n",
      "Model Factory (PVBin): Convertido ngram_range [1, 2] para tupla (1, 2)\n",
      "Fitting ProductVectorizerClassifier com 100 amostras...\n",
      "Fit concluído.\n",
      "Model Factory: Criando tipo 'PVBin' com params: {'method': 'binary', 'query': 'binary', 'norm': None, 'query_norm': None, 'ngram_range': [1, 2]}\n",
      "Model Factory (PVBin): Convertido ngram_range [1, 2] para tupla (1, 2)\n",
      "Fitting ProductVectorizerClassifier com 100 amostras...\n",
      "Fit concluído.\n",
      "Model Factory: Criando tipo 'PVBin' com params: {'method': 'binary', 'query': 'binary', 'norm': None, 'query_norm': None, 'ngram_range': [1, 2]}\n",
      "Model Factory (PVBin): Convertido ngram_range [1, 2] para tupla (1, 2)\n",
      "Fitting ProductVectorizerClassifier com 100 amostras...\n",
      "Fit concluído.\n",
      "Model Factory: Criando tipo 'PVBin' com params: {'method': 'binary', 'query': 'binary', 'norm': None, 'query_norm': None, 'ngram_range': [1, 2]}\n",
      "Model Factory (PVBin): Convertido ngram_range [1, 2] para tupla (1, 2)\n",
      "Fitting ProductVectorizerClassifier com 100 amostras...\n",
      "Fit concluído.\n",
      "    Novo melhor (Obj: minimize): Perf Real=0.0185\n",
      "    Acc Real Geração 15: Max=0.2219, Avg=0.2122, Min=0.2014\n",
      "    F1 Real Geração  15: Max=0.0214, Avg=0.0202, Min=0.0185\n",
      "    Duração Geração 15: 86.66s\n",
      "\n",
      "  Geração 16/100\n"
     ]
    },
    {
     "data": {
      "application/vnd.jupyter.widget-view+json": {
       "model_id": "4b80109142864b70a131bd75f608de1a",
       "version_major": 2,
       "version_minor": 0
      },
      "text/plain": [
       "Fitness Calc Gen 16:   0%|          | 0/20 [00:00<?, ?it/s]"
      ]
     },
     "metadata": {},
     "output_type": "display_data"
    },
    {
     "name": "stdout",
     "output_type": "stream",
     "text": [
      "Model Factory: Criando tipo 'PVBin' com params: {'method': 'binary', 'query': 'binary', 'norm': None, 'query_norm': None, 'ngram_range': [1, 2]}\n",
      "Model Factory (PVBin): Convertido ngram_range [1, 2] para tupla (1, 2)\n",
      "Fitting ProductVectorizerClassifier com 100 amostras...\n",
      "Fit concluído.\n",
      "Model Factory: Criando tipo 'PVBin' com params: {'method': 'binary', 'query': 'binary', 'norm': None, 'query_norm': None, 'ngram_range': [1, 2]}\n",
      "Model Factory (PVBin): Convertido ngram_range [1, 2] para tupla (1, 2)\n",
      "Fitting ProductVectorizerClassifier com 100 amostras...\n",
      "Fit concluído.\n",
      "Model Factory: Criando tipo 'PVBin' com params: {'method': 'binary', 'query': 'binary', 'norm': None, 'query_norm': None, 'ngram_range': [1, 2]}\n",
      "Model Factory (PVBin): Convertido ngram_range [1, 2] para tupla (1, 2)\n",
      "Fitting ProductVectorizerClassifier com 100 amostras...\n",
      "Fit concluído.\n",
      "Model Factory: Criando tipo 'PVBin' com params: {'method': 'binary', 'query': 'binary', 'norm': None, 'query_norm': None, 'ngram_range': [1, 2]}\n",
      "Model Factory (PVBin): Convertido ngram_range [1, 2] para tupla (1, 2)\n",
      "Fitting ProductVectorizerClassifier com 100 amostras...\n",
      "Fit concluído.\n",
      "Model Factory: Criando tipo 'PVBin' com params: {'method': 'binary', 'query': 'binary', 'norm': None, 'query_norm': None, 'ngram_range': [1, 2]}\n",
      "Model Factory (PVBin): Convertido ngram_range [1, 2] para tupla (1, 2)\n",
      "Fitting ProductVectorizerClassifier com 100 amostras...\n",
      "Fit concluído.\n",
      "Model Factory: Criando tipo 'PVBin' com params: {'method': 'binary', 'query': 'binary', 'norm': None, 'query_norm': None, 'ngram_range': [1, 2]}\n",
      "Model Factory (PVBin): Convertido ngram_range [1, 2] para tupla (1, 2)\n",
      "Fitting ProductVectorizerClassifier com 100 amostras...\n",
      "Fit concluído.\n",
      "Model Factory: Criando tipo 'PVBin' com params: {'method': 'binary', 'query': 'binary', 'norm': None, 'query_norm': None, 'ngram_range': [1, 2]}\n",
      "Model Factory (PVBin): Convertido ngram_range [1, 2] para tupla (1, 2)\n",
      "Fitting ProductVectorizerClassifier com 100 amostras...\n",
      "Fit concluído.\n",
      "Model Factory: Criando tipo 'PVBin' com params: {'method': 'binary', 'query': 'binary', 'norm': None, 'query_norm': None, 'ngram_range': [1, 2]}\n",
      "Model Factory (PVBin): Convertido ngram_range [1, 2] para tupla (1, 2)\n",
      "Fitting ProductVectorizerClassifier com 100 amostras...\n",
      "Fit concluído.\n",
      "Model Factory: Criando tipo 'PVBin' com params: {'method': 'binary', 'query': 'binary', 'norm': None, 'query_norm': None, 'ngram_range': [1, 2]}\n",
      "Model Factory (PVBin): Convertido ngram_range [1, 2] para tupla (1, 2)\n",
      "Fitting ProductVectorizerClassifier com 100 amostras...\n",
      "Fit concluído.\n",
      "    Acc Real Geração 16: Max=0.2243, Avg=0.2078, Min=0.2014\n",
      "    F1 Real Geração  16: Max=0.0212, Avg=0.0195, Min=0.0185\n",
      "    Duração Geração 16: 136.69s\n",
      "\n",
      "  Geração 17/100\n"
     ]
    },
    {
     "data": {
      "application/vnd.jupyter.widget-view+json": {
       "model_id": "0274178d25a8475ebfc5bb104d691129",
       "version_major": 2,
       "version_minor": 0
      },
      "text/plain": [
       "Fitness Calc Gen 17:   0%|          | 0/20 [00:00<?, ?it/s]"
      ]
     },
     "metadata": {},
     "output_type": "display_data"
    },
    {
     "name": "stdout",
     "output_type": "stream",
     "text": [
      "Model Factory: Criando tipo 'PVBin' com params: {'method': 'binary', 'query': 'binary', 'norm': None, 'query_norm': None, 'ngram_range': [1, 2]}\n",
      "Model Factory (PVBin): Convertido ngram_range [1, 2] para tupla (1, 2)\n",
      "Fitting ProductVectorizerClassifier com 100 amostras...\n",
      "Fit concluído.\n",
      "Model Factory: Criando tipo 'PVBin' com params: {'method': 'binary', 'query': 'binary', 'norm': None, 'query_norm': None, 'ngram_range': [1, 2]}\n",
      "Model Factory (PVBin): Convertido ngram_range [1, 2] para tupla (1, 2)\n",
      "Fitting ProductVectorizerClassifier com 100 amostras...\n",
      "Fit concluído.\n",
      "Model Factory: Criando tipo 'PVBin' com params: {'method': 'binary', 'query': 'binary', 'norm': None, 'query_norm': None, 'ngram_range': [1, 2]}\n",
      "Model Factory (PVBin): Convertido ngram_range [1, 2] para tupla (1, 2)\n",
      "Fitting ProductVectorizerClassifier com 100 amostras...\n",
      "Fit concluído.\n",
      "Model Factory: Criando tipo 'PVBin' com params: {'method': 'binary', 'query': 'binary', 'norm': None, 'query_norm': None, 'ngram_range': [1, 2]}\n",
      "Model Factory (PVBin): Convertido ngram_range [1, 2] para tupla (1, 2)\n",
      "Fitting ProductVectorizerClassifier com 100 amostras...\n",
      "Fit concluído.\n",
      "Model Factory: Criando tipo 'PVBin' com params: {'method': 'binary', 'query': 'binary', 'norm': None, 'query_norm': None, 'ngram_range': [1, 2]}\n",
      "Model Factory (PVBin): Convertido ngram_range [1, 2] para tupla (1, 2)\n",
      "Fitting ProductVectorizerClassifier com 100 amostras...\n",
      "Fit concluído.\n",
      "Model Factory: Criando tipo 'PVBin' com params: {'method': 'binary', 'query': 'binary', 'norm': None, 'query_norm': None, 'ngram_range': [1, 2]}\n",
      "Model Factory (PVBin): Convertido ngram_range [1, 2] para tupla (1, 2)\n",
      "Fitting ProductVectorizerClassifier com 100 amostras...\n",
      "Fit concluído.\n",
      "Model Factory: Criando tipo 'PVBin' com params: {'method': 'binary', 'query': 'binary', 'norm': None, 'query_norm': None, 'ngram_range': [1, 2]}\n",
      "Model Factory (PVBin): Convertido ngram_range [1, 2] para tupla (1, 2)\n",
      "Fitting ProductVectorizerClassifier com 100 amostras...\n",
      "Fit concluído.\n",
      "Model Factory: Criando tipo 'PVBin' com params: {'method': 'binary', 'query': 'binary', 'norm': None, 'query_norm': None, 'ngram_range': [1, 2]}\n",
      "Model Factory (PVBin): Convertido ngram_range [1, 2] para tupla (1, 2)\n",
      "Fitting ProductVectorizerClassifier com 100 amostras...\n",
      "Fit concluído.\n",
      "Model Factory: Criando tipo 'PVBin' com params: {'method': 'binary', 'query': 'binary', 'norm': None, 'query_norm': None, 'ngram_range': [1, 2]}\n",
      "Model Factory (PVBin): Convertido ngram_range [1, 2] para tupla (1, 2)\n",
      "Fitting ProductVectorizerClassifier com 100 amostras...\n",
      "Fit concluído.\n",
      "Model Factory: Criando tipo 'PVBin' com params: {'method': 'binary', 'query': 'binary', 'norm': None, 'query_norm': None, 'ngram_range': [1, 2]}\n",
      "Model Factory (PVBin): Convertido ngram_range [1, 2] para tupla (1, 2)\n",
      "Fitting ProductVectorizerClassifier com 100 amostras...\n",
      "Fit concluído.\n",
      "    Novo melhor (Obj: minimize): Perf Real=0.0178\n",
      "    Acc Real Geração 17: Max=0.2069, Avg=0.2034, Min=0.1978\n",
      "    F1 Real Geração  17: Max=0.0198, Avg=0.0185, Min=0.0178\n",
      "    Duração Geração 17: 147.00s\n",
      "\n",
      "  Geração 18/100\n"
     ]
    },
    {
     "data": {
      "application/vnd.jupyter.widget-view+json": {
       "model_id": "3ee43e9d6ac84d0fbb2198045f3a9a8b",
       "version_major": 2,
       "version_minor": 0
      },
      "text/plain": [
       "Fitness Calc Gen 18:   0%|          | 0/20 [00:00<?, ?it/s]"
      ]
     },
     "metadata": {},
     "output_type": "display_data"
    },
    {
     "name": "stdout",
     "output_type": "stream",
     "text": [
      "Model Factory: Criando tipo 'PVBin' com params: {'method': 'binary', 'query': 'binary', 'norm': None, 'query_norm': None, 'ngram_range': [1, 2]}\n",
      "Model Factory (PVBin): Convertido ngram_range [1, 2] para tupla (1, 2)\n",
      "Fitting ProductVectorizerClassifier com 100 amostras...\n",
      "Fit concluído.\n",
      "Model Factory: Criando tipo 'PVBin' com params: {'method': 'binary', 'query': 'binary', 'norm': None, 'query_norm': None, 'ngram_range': [1, 2]}\n",
      "Model Factory (PVBin): Convertido ngram_range [1, 2] para tupla (1, 2)\n",
      "Fitting ProductVectorizerClassifier com 100 amostras...\n",
      "Fit concluído.\n",
      "Model Factory: Criando tipo 'PVBin' com params: {'method': 'binary', 'query': 'binary', 'norm': None, 'query_norm': None, 'ngram_range': [1, 2]}\n",
      "Model Factory (PVBin): Convertido ngram_range [1, 2] para tupla (1, 2)\n",
      "Fitting ProductVectorizerClassifier com 100 amostras...\n",
      "Fit concluído.\n",
      "Model Factory: Criando tipo 'PVBin' com params: {'method': 'binary', 'query': 'binary', 'norm': None, 'query_norm': None, 'ngram_range': [1, 2]}\n",
      "Model Factory (PVBin): Convertido ngram_range [1, 2] para tupla (1, 2)\n",
      "Fitting ProductVectorizerClassifier com 100 amostras...\n",
      "Fit concluído.\n",
      "Model Factory: Criando tipo 'PVBin' com params: {'method': 'binary', 'query': 'binary', 'norm': None, 'query_norm': None, 'ngram_range': [1, 2]}\n",
      "Model Factory (PVBin): Convertido ngram_range [1, 2] para tupla (1, 2)\n",
      "Fitting ProductVectorizerClassifier com 100 amostras...\n",
      "Fit concluído.\n",
      "Model Factory: Criando tipo 'PVBin' com params: {'method': 'binary', 'query': 'binary', 'norm': None, 'query_norm': None, 'ngram_range': [1, 2]}\n",
      "Model Factory (PVBin): Convertido ngram_range [1, 2] para tupla (1, 2)\n",
      "Fitting ProductVectorizerClassifier com 100 amostras...\n",
      "Fit concluído.\n",
      "    Acc Real Geração 18: Max=0.2145, Avg=0.2032, Min=0.1944\n",
      "    F1 Real Geração  18: Max=0.0201, Avg=0.0185, Min=0.0178\n",
      "    Duração Geração 18: 79.68s\n",
      "\n",
      "  Geração 19/100\n"
     ]
    },
    {
     "data": {
      "application/vnd.jupyter.widget-view+json": {
       "model_id": "0efbf9bbcbdc4964a82dcdf909a81051",
       "version_major": 2,
       "version_minor": 0
      },
      "text/plain": [
       "Fitness Calc Gen 19:   0%|          | 0/20 [00:00<?, ?it/s]"
      ]
     },
     "metadata": {},
     "output_type": "display_data"
    },
    {
     "name": "stdout",
     "output_type": "stream",
     "text": [
      "Model Factory: Criando tipo 'PVBin' com params: {'method': 'binary', 'query': 'binary', 'norm': None, 'query_norm': None, 'ngram_range': [1, 2]}\n",
      "Model Factory (PVBin): Convertido ngram_range [1, 2] para tupla (1, 2)\n",
      "Fitting ProductVectorizerClassifier com 100 amostras...\n",
      "Fit concluído.\n",
      "Model Factory: Criando tipo 'PVBin' com params: {'method': 'binary', 'query': 'binary', 'norm': None, 'query_norm': None, 'ngram_range': [1, 2]}\n",
      "Model Factory (PVBin): Convertido ngram_range [1, 2] para tupla (1, 2)\n",
      "Fitting ProductVectorizerClassifier com 100 amostras...\n",
      "Fit concluído.\n",
      "Model Factory: Criando tipo 'PVBin' com params: {'method': 'binary', 'query': 'binary', 'norm': None, 'query_norm': None, 'ngram_range': [1, 2]}\n",
      "Model Factory (PVBin): Convertido ngram_range [1, 2] para tupla (1, 2)\n",
      "Fitting ProductVectorizerClassifier com 100 amostras...\n",
      "Fit concluído.\n",
      "Model Factory: Criando tipo 'PVBin' com params: {'method': 'binary', 'query': 'binary', 'norm': None, 'query_norm': None, 'ngram_range': [1, 2]}\n",
      "Model Factory (PVBin): Convertido ngram_range [1, 2] para tupla (1, 2)\n",
      "Fitting ProductVectorizerClassifier com 100 amostras...\n",
      "Fit concluído.\n",
      "Model Factory: Criando tipo 'PVBin' com params: {'method': 'binary', 'query': 'binary', 'norm': None, 'query_norm': None, 'ngram_range': [1, 2]}\n",
      "Model Factory (PVBin): Convertido ngram_range [1, 2] para tupla (1, 2)\n",
      "Fitting ProductVectorizerClassifier com 100 amostras...\n",
      "Fit concluído.\n",
      "Model Factory: Criando tipo 'PVBin' com params: {'method': 'binary', 'query': 'binary', 'norm': None, 'query_norm': None, 'ngram_range': [1, 2]}\n",
      "Model Factory (PVBin): Convertido ngram_range [1, 2] para tupla (1, 2)\n",
      "Fitting ProductVectorizerClassifier com 100 amostras...\n",
      "Fit concluído.\n",
      "    Novo melhor (Obj: minimize): Perf Real=0.0176\n",
      "    Acc Real Geração 19: Max=0.2077, Avg=0.2021, Min=0.1969\n",
      "    F1 Real Geração  19: Max=0.0197, Avg=0.0182, Min=0.0176\n",
      "    Duração Geração 19: 55.89s\n",
      "\n",
      "  Geração 20/100\n"
     ]
    },
    {
     "data": {
      "application/vnd.jupyter.widget-view+json": {
       "model_id": "ca4e7d16d8a043458d1c851d888ba197",
       "version_major": 2,
       "version_minor": 0
      },
      "text/plain": [
       "Fitness Calc Gen 20:   0%|          | 0/20 [00:00<?, ?it/s]"
      ]
     },
     "metadata": {},
     "output_type": "display_data"
    },
    {
     "name": "stdout",
     "output_type": "stream",
     "text": [
      "Model Factory: Criando tipo 'PVBin' com params: {'method': 'binary', 'query': 'binary', 'norm': None, 'query_norm': None, 'ngram_range': [1, 2]}\n",
      "Model Factory (PVBin): Convertido ngram_range [1, 2] para tupla (1, 2)\n",
      "Fitting ProductVectorizerClassifier com 100 amostras...\n",
      "Fit concluído.\n",
      "Model Factory: Criando tipo 'PVBin' com params: {'method': 'binary', 'query': 'binary', 'norm': None, 'query_norm': None, 'ngram_range': [1, 2]}\n",
      "Model Factory (PVBin): Convertido ngram_range [1, 2] para tupla (1, 2)\n",
      "Fitting ProductVectorizerClassifier com 100 amostras...\n",
      "Fit concluído.\n",
      "Model Factory: Criando tipo 'PVBin' com params: {'method': 'binary', 'query': 'binary', 'norm': None, 'query_norm': None, 'ngram_range': [1, 2]}\n",
      "Model Factory (PVBin): Convertido ngram_range [1, 2] para tupla (1, 2)\n",
      "Fitting ProductVectorizerClassifier com 100 amostras...\n",
      "Fit concluído.\n",
      "Model Factory: Criando tipo 'PVBin' com params: {'method': 'binary', 'query': 'binary', 'norm': None, 'query_norm': None, 'ngram_range': [1, 2]}\n",
      "Model Factory (PVBin): Convertido ngram_range [1, 2] para tupla (1, 2)\n",
      "Fitting ProductVectorizerClassifier com 100 amostras...\n",
      "Fit concluído.\n",
      "Model Factory: Criando tipo 'PVBin' com params: {'method': 'binary', 'query': 'binary', 'norm': None, 'query_norm': None, 'ngram_range': [1, 2]}\n",
      "Model Factory (PVBin): Convertido ngram_range [1, 2] para tupla (1, 2)\n",
      "Fitting ProductVectorizerClassifier com 100 amostras...\n",
      "Fit concluído.\n",
      "Model Factory: Criando tipo 'PVBin' com params: {'method': 'binary', 'query': 'binary', 'norm': None, 'query_norm': None, 'ngram_range': [1, 2]}\n",
      "Model Factory (PVBin): Convertido ngram_range [1, 2] para tupla (1, 2)\n",
      "Fitting ProductVectorizerClassifier com 100 amostras...\n",
      "Fit concluído.\n",
      "Model Factory: Criando tipo 'PVBin' com params: {'method': 'binary', 'query': 'binary', 'norm': None, 'query_norm': None, 'ngram_range': [1, 2]}\n",
      "Model Factory (PVBin): Convertido ngram_range [1, 2] para tupla (1, 2)\n",
      "Fitting ProductVectorizerClassifier com 100 amostras...\n",
      "Fit concluído.\n",
      "Model Factory: Criando tipo 'PVBin' com params: {'method': 'binary', 'query': 'binary', 'norm': None, 'query_norm': None, 'ngram_range': [1, 2]}\n",
      "Model Factory (PVBin): Convertido ngram_range [1, 2] para tupla (1, 2)\n",
      "Fitting ProductVectorizerClassifier com 100 amostras...\n",
      "Fit concluído.\n",
      "    Novo melhor (Obj: minimize): Perf Real=0.0166\n",
      "    Acc Real Geração 20: Max=0.2048, Avg=0.1996, Min=0.1969\n",
      "    F1 Real Geração  20: Max=0.0190, Avg=0.0179, Min=0.0166\n",
      "    Duração Geração 20: 78.07s\n",
      "\n",
      "  Geração 21/100\n"
     ]
    },
    {
     "data": {
      "application/vnd.jupyter.widget-view+json": {
       "model_id": "a55ca501729848e2ac868633ab4b265e",
       "version_major": 2,
       "version_minor": 0
      },
      "text/plain": [
       "Fitness Calc Gen 21:   0%|          | 0/20 [00:00<?, ?it/s]"
      ]
     },
     "metadata": {},
     "output_type": "display_data"
    },
    {
     "name": "stdout",
     "output_type": "stream",
     "text": [
      "Model Factory: Criando tipo 'PVBin' com params: {'method': 'binary', 'query': 'binary', 'norm': None, 'query_norm': None, 'ngram_range': [1, 2]}\n",
      "Model Factory (PVBin): Convertido ngram_range [1, 2] para tupla (1, 2)\n",
      "Fitting ProductVectorizerClassifier com 100 amostras...\n",
      "Fit concluído.\n",
      "Model Factory: Criando tipo 'PVBin' com params: {'method': 'binary', 'query': 'binary', 'norm': None, 'query_norm': None, 'ngram_range': [1, 2]}\n",
      "Model Factory (PVBin): Convertido ngram_range [1, 2] para tupla (1, 2)\n",
      "Fitting ProductVectorizerClassifier com 100 amostras...\n",
      "Fit concluído.\n",
      "Model Factory: Criando tipo 'PVBin' com params: {'method': 'binary', 'query': 'binary', 'norm': None, 'query_norm': None, 'ngram_range': [1, 2]}\n",
      "Model Factory (PVBin): Convertido ngram_range [1, 2] para tupla (1, 2)\n",
      "Fitting ProductVectorizerClassifier com 100 amostras...\n",
      "Fit concluído.\n",
      "Model Factory: Criando tipo 'PVBin' com params: {'method': 'binary', 'query': 'binary', 'norm': None, 'query_norm': None, 'ngram_range': [1, 2]}\n",
      "Model Factory (PVBin): Convertido ngram_range [1, 2] para tupla (1, 2)\n",
      "Fitting ProductVectorizerClassifier com 100 amostras...\n",
      "Fit concluído.\n",
      "Model Factory: Criando tipo 'PVBin' com params: {'method': 'binary', 'query': 'binary', 'norm': None, 'query_norm': None, 'ngram_range': [1, 2]}\n",
      "Model Factory (PVBin): Convertido ngram_range [1, 2] para tupla (1, 2)\n",
      "Fitting ProductVectorizerClassifier com 100 amostras...\n",
      "Fit concluído.\n",
      "Model Factory: Criando tipo 'PVBin' com params: {'method': 'binary', 'query': 'binary', 'norm': None, 'query_norm': None, 'ngram_range': [1, 2]}\n",
      "Model Factory (PVBin): Convertido ngram_range [1, 2] para tupla (1, 2)\n",
      "Fitting ProductVectorizerClassifier com 100 amostras...\n",
      "Fit concluído.\n",
      "Model Factory: Criando tipo 'PVBin' com params: {'method': 'binary', 'query': 'binary', 'norm': None, 'query_norm': None, 'ngram_range': [1, 2]}\n",
      "Model Factory (PVBin): Convertido ngram_range [1, 2] para tupla (1, 2)\n",
      "Fitting ProductVectorizerClassifier com 100 amostras...\n",
      "Fit concluído.\n",
      "    Acc Real Geração 21: Max=0.2136, Avg=0.2008, Min=0.1967\n",
      "    F1 Real Geração  21: Max=0.0203, Avg=0.0177, Min=0.0166\n",
      "    Duração Geração 21: 67.35s\n",
      "\n",
      "  Geração 22/100\n"
     ]
    },
    {
     "data": {
      "application/vnd.jupyter.widget-view+json": {
       "model_id": "769c7f06d91a4453b87aadac69f45866",
       "version_major": 2,
       "version_minor": 0
      },
      "text/plain": [
       "Fitness Calc Gen 22:   0%|          | 0/20 [00:00<?, ?it/s]"
      ]
     },
     "metadata": {},
     "output_type": "display_data"
    },
    {
     "name": "stdout",
     "output_type": "stream",
     "text": [
      "Model Factory: Criando tipo 'PVBin' com params: {'method': 'binary', 'query': 'binary', 'norm': None, 'query_norm': None, 'ngram_range': [1, 2]}\n",
      "Model Factory (PVBin): Convertido ngram_range [1, 2] para tupla (1, 2)\n",
      "Fitting ProductVectorizerClassifier com 100 amostras...\n",
      "Fit concluído.\n",
      "Model Factory: Criando tipo 'PVBin' com params: {'method': 'binary', 'query': 'binary', 'norm': None, 'query_norm': None, 'ngram_range': [1, 2]}\n",
      "Model Factory (PVBin): Convertido ngram_range [1, 2] para tupla (1, 2)\n",
      "Fitting ProductVectorizerClassifier com 100 amostras...\n",
      "Fit concluído.\n",
      "Model Factory: Criando tipo 'PVBin' com params: {'method': 'binary', 'query': 'binary', 'norm': None, 'query_norm': None, 'ngram_range': [1, 2]}\n",
      "Model Factory (PVBin): Convertido ngram_range [1, 2] para tupla (1, 2)\n",
      "Fitting ProductVectorizerClassifier com 100 amostras...\n",
      "Fit concluído.\n",
      "Model Factory: Criando tipo 'PVBin' com params: {'method': 'binary', 'query': 'binary', 'norm': None, 'query_norm': None, 'ngram_range': [1, 2]}\n",
      "Model Factory (PVBin): Convertido ngram_range [1, 2] para tupla (1, 2)\n",
      "Fitting ProductVectorizerClassifier com 100 amostras...\n",
      "Fit concluído.\n",
      "Model Factory: Criando tipo 'PVBin' com params: {'method': 'binary', 'query': 'binary', 'norm': None, 'query_norm': None, 'ngram_range': [1, 2]}\n",
      "Model Factory (PVBin): Convertido ngram_range [1, 2] para tupla (1, 2)\n",
      "Fitting ProductVectorizerClassifier com 100 amostras...\n",
      "Fit concluído.\n",
      "Model Factory: Criando tipo 'PVBin' com params: {'method': 'binary', 'query': 'binary', 'norm': None, 'query_norm': None, 'ngram_range': [1, 2]}\n",
      "Model Factory (PVBin): Convertido ngram_range [1, 2] para tupla (1, 2)\n",
      "Fitting ProductVectorizerClassifier com 100 amostras...\n",
      "Fit concluído.\n",
      "Model Factory: Criando tipo 'PVBin' com params: {'method': 'binary', 'query': 'binary', 'norm': None, 'query_norm': None, 'ngram_range': [1, 2]}\n",
      "Model Factory (PVBin): Convertido ngram_range [1, 2] para tupla (1, 2)\n",
      "Fitting ProductVectorizerClassifier com 100 amostras...\n",
      "Fit concluído.\n",
      "Model Factory: Criando tipo 'PVBin' com params: {'method': 'binary', 'query': 'binary', 'norm': None, 'query_norm': None, 'ngram_range': [1, 2]}\n",
      "Model Factory (PVBin): Convertido ngram_range [1, 2] para tupla (1, 2)\n",
      "Fitting ProductVectorizerClassifier com 100 amostras...\n",
      "Fit concluído.\n",
      "Model Factory: Criando tipo 'PVBin' com params: {'method': 'binary', 'query': 'binary', 'norm': None, 'query_norm': None, 'ngram_range': [1, 2]}\n",
      "Model Factory (PVBin): Convertido ngram_range [1, 2] para tupla (1, 2)\n",
      "Fitting ProductVectorizerClassifier com 100 amostras...\n",
      "Fit concluído.\n",
      "Model Factory: Criando tipo 'PVBin' com params: {'method': 'binary', 'query': 'binary', 'norm': None, 'query_norm': None, 'ngram_range': [1, 2]}\n",
      "Model Factory (PVBin): Convertido ngram_range [1, 2] para tupla (1, 2)\n",
      "Fitting ProductVectorizerClassifier com 100 amostras...\n",
      "Fit concluído.\n",
      "Model Factory: Criando tipo 'PVBin' com params: {'method': 'binary', 'query': 'binary', 'norm': None, 'query_norm': None, 'ngram_range': [1, 2]}\n",
      "Model Factory (PVBin): Convertido ngram_range [1, 2] para tupla (1, 2)\n",
      "Fitting ProductVectorizerClassifier com 100 amostras...\n",
      "Fit concluído.\n",
      "Model Factory: Criando tipo 'PVBin' com params: {'method': 'binary', 'query': 'binary', 'norm': None, 'query_norm': None, 'ngram_range': [1, 2]}\n",
      "Model Factory (PVBin): Convertido ngram_range [1, 2] para tupla (1, 2)\n",
      "Fitting ProductVectorizerClassifier com 100 amostras...\n",
      "Fit concluído.\n",
      "    Acc Real Geração 22: Max=0.2094, Avg=0.2011, Min=0.1933\n",
      "    F1 Real Geração  22: Max=0.0190, Avg=0.0174, Min=0.0166\n",
      "    Duração Geração 22: 136.88s\n",
      "\n",
      "  Geração 23/100\n"
     ]
    },
    {
     "data": {
      "application/vnd.jupyter.widget-view+json": {
       "model_id": "7c607697d21a43b7b1ea2f3ef891aedf",
       "version_major": 2,
       "version_minor": 0
      },
      "text/plain": [
       "Fitness Calc Gen 23:   0%|          | 0/20 [00:00<?, ?it/s]"
      ]
     },
     "metadata": {},
     "output_type": "display_data"
    },
    {
     "name": "stdout",
     "output_type": "stream",
     "text": [
      "Model Factory: Criando tipo 'PVBin' com params: {'method': 'binary', 'query': 'binary', 'norm': None, 'query_norm': None, 'ngram_range': [1, 2]}\n",
      "Model Factory (PVBin): Convertido ngram_range [1, 2] para tupla (1, 2)\n",
      "Fitting ProductVectorizerClassifier com 100 amostras...\n",
      "Fit concluído.\n",
      "Model Factory: Criando tipo 'PVBin' com params: {'method': 'binary', 'query': 'binary', 'norm': None, 'query_norm': None, 'ngram_range': [1, 2]}\n",
      "Model Factory (PVBin): Convertido ngram_range [1, 2] para tupla (1, 2)\n",
      "Fitting ProductVectorizerClassifier com 100 amostras...\n",
      "Fit concluído.\n",
      "Model Factory: Criando tipo 'PVBin' com params: {'method': 'binary', 'query': 'binary', 'norm': None, 'query_norm': None, 'ngram_range': [1, 2]}\n",
      "Model Factory (PVBin): Convertido ngram_range [1, 2] para tupla (1, 2)\n",
      "Fitting ProductVectorizerClassifier com 100 amostras...\n",
      "Fit concluído.\n",
      "Model Factory: Criando tipo 'PVBin' com params: {'method': 'binary', 'query': 'binary', 'norm': None, 'query_norm': None, 'ngram_range': [1, 2]}\n",
      "Model Factory (PVBin): Convertido ngram_range [1, 2] para tupla (1, 2)\n",
      "Fitting ProductVectorizerClassifier com 100 amostras...\n",
      "Fit concluído.\n",
      "Model Factory: Criando tipo 'PVBin' com params: {'method': 'binary', 'query': 'binary', 'norm': None, 'query_norm': None, 'ngram_range': [1, 2]}\n",
      "Model Factory (PVBin): Convertido ngram_range [1, 2] para tupla (1, 2)\n",
      "Fitting ProductVectorizerClassifier com 100 amostras...\n",
      "Fit concluído.\n",
      "Model Factory: Criando tipo 'PVBin' com params: {'method': 'binary', 'query': 'binary', 'norm': None, 'query_norm': None, 'ngram_range': [1, 2]}\n",
      "Model Factory (PVBin): Convertido ngram_range [1, 2] para tupla (1, 2)\n",
      "Fitting ProductVectorizerClassifier com 100 amostras...\n",
      "Fit concluído.\n",
      "Model Factory: Criando tipo 'PVBin' com params: {'method': 'binary', 'query': 'binary', 'norm': None, 'query_norm': None, 'ngram_range': [1, 2]}\n",
      "Model Factory (PVBin): Convertido ngram_range [1, 2] para tupla (1, 2)\n",
      "Fitting ProductVectorizerClassifier com 100 amostras...\n",
      "Fit concluído.\n",
      "    Acc Real Geração 23: Max=0.2050, Avg=0.2000, Min=0.1982\n",
      "    F1 Real Geração  23: Max=0.0190, Avg=0.0172, Min=0.0166\n",
      "    Duração Geração 23: 65.18s\n",
      "\n",
      "  Geração 24/100\n"
     ]
    },
    {
     "data": {
      "application/vnd.jupyter.widget-view+json": {
       "model_id": "783ac96d2a5c4309bbc04bd243e8adcd",
       "version_major": 2,
       "version_minor": 0
      },
      "text/plain": [
       "Fitness Calc Gen 24:   0%|          | 0/20 [00:00<?, ?it/s]"
      ]
     },
     "metadata": {},
     "output_type": "display_data"
    },
    {
     "name": "stdout",
     "output_type": "stream",
     "text": [
      "Model Factory: Criando tipo 'PVBin' com params: {'method': 'binary', 'query': 'binary', 'norm': None, 'query_norm': None, 'ngram_range': [1, 2]}\n",
      "Model Factory (PVBin): Convertido ngram_range [1, 2] para tupla (1, 2)\n",
      "Fitting ProductVectorizerClassifier com 100 amostras...\n",
      "Fit concluído.\n",
      "Model Factory: Criando tipo 'PVBin' com params: {'method': 'binary', 'query': 'binary', 'norm': None, 'query_norm': None, 'ngram_range': [1, 2]}\n",
      "Model Factory (PVBin): Convertido ngram_range [1, 2] para tupla (1, 2)\n",
      "Fitting ProductVectorizerClassifier com 100 amostras...\n",
      "Fit concluído.\n",
      "Model Factory: Criando tipo 'PVBin' com params: {'method': 'binary', 'query': 'binary', 'norm': None, 'query_norm': None, 'ngram_range': [1, 2]}\n",
      "Model Factory (PVBin): Convertido ngram_range [1, 2] para tupla (1, 2)\n",
      "Fitting ProductVectorizerClassifier com 100 amostras...\n",
      "Fit concluído.\n",
      "Model Factory: Criando tipo 'PVBin' com params: {'method': 'binary', 'query': 'binary', 'norm': None, 'query_norm': None, 'ngram_range': [1, 2]}\n",
      "Model Factory (PVBin): Convertido ngram_range [1, 2] para tupla (1, 2)\n",
      "Fitting ProductVectorizerClassifier com 100 amostras...\n",
      "Fit concluído.\n",
      "Model Factory: Criando tipo 'PVBin' com params: {'method': 'binary', 'query': 'binary', 'norm': None, 'query_norm': None, 'ngram_range': [1, 2]}\n",
      "Model Factory (PVBin): Convertido ngram_range [1, 2] para tupla (1, 2)\n",
      "Fitting ProductVectorizerClassifier com 100 amostras...\n",
      "Fit concluído.\n",
      "    Acc Real Geração 24: Max=0.2097, Avg=0.1989, Min=0.1967\n",
      "    F1 Real Geração  24: Max=0.0192, Avg=0.0169, Min=0.0166\n",
      "    Duração Geração 24: 48.62s\n",
      "\n",
      "  Geração 25/100\n"
     ]
    },
    {
     "data": {
      "application/vnd.jupyter.widget-view+json": {
       "model_id": "b01710e50de643189d267e2ad09abac3",
       "version_major": 2,
       "version_minor": 0
      },
      "text/plain": [
       "Fitness Calc Gen 25:   0%|          | 0/20 [00:00<?, ?it/s]"
      ]
     },
     "metadata": {},
     "output_type": "display_data"
    },
    {
     "name": "stdout",
     "output_type": "stream",
     "text": [
      "Model Factory: Criando tipo 'PVBin' com params: {'method': 'binary', 'query': 'binary', 'norm': None, 'query_norm': None, 'ngram_range': [1, 2]}\n",
      "Model Factory (PVBin): Convertido ngram_range [1, 2] para tupla (1, 2)\n",
      "Fitting ProductVectorizerClassifier com 100 amostras...\n",
      "Fit concluído.\n",
      "Model Factory: Criando tipo 'PVBin' com params: {'method': 'binary', 'query': 'binary', 'norm': None, 'query_norm': None, 'ngram_range': [1, 2]}\n",
      "Model Factory (PVBin): Convertido ngram_range [1, 2] para tupla (1, 2)\n",
      "Fitting ProductVectorizerClassifier com 100 amostras...\n",
      "Fit concluído.\n",
      "Model Factory: Criando tipo 'PVBin' com params: {'method': 'binary', 'query': 'binary', 'norm': None, 'query_norm': None, 'ngram_range': [1, 2]}\n",
      "Model Factory (PVBin): Convertido ngram_range [1, 2] para tupla (1, 2)\n",
      "Fitting ProductVectorizerClassifier com 100 amostras...\n",
      "Fit concluído.\n",
      "Model Factory: Criando tipo 'PVBin' com params: {'method': 'binary', 'query': 'binary', 'norm': None, 'query_norm': None, 'ngram_range': [1, 2]}\n",
      "Model Factory (PVBin): Convertido ngram_range [1, 2] para tupla (1, 2)\n",
      "Fitting ProductVectorizerClassifier com 100 amostras...\n",
      "Fit concluído.\n",
      "    Novo melhor (Obj: minimize): Perf Real=0.0165\n",
      "    Acc Real Geração 25: Max=0.2077, Avg=0.1986, Min=0.1946\n",
      "    F1 Real Geração  25: Max=0.0173, Avg=0.0167, Min=0.0165\n",
      "    Duração Geração 25: 37.76s\n",
      "\n",
      "  Geração 26/100\n"
     ]
    },
    {
     "data": {
      "application/vnd.jupyter.widget-view+json": {
       "model_id": "e73bd084221b4e54bb2c923dbbad3ab1",
       "version_major": 2,
       "version_minor": 0
      },
      "text/plain": [
       "Fitness Calc Gen 26:   0%|          | 0/20 [00:00<?, ?it/s]"
      ]
     },
     "metadata": {},
     "output_type": "display_data"
    },
    {
     "name": "stdout",
     "output_type": "stream",
     "text": [
      "Model Factory: Criando tipo 'PVBin' com params: {'method': 'binary', 'query': 'binary', 'norm': None, 'query_norm': None, 'ngram_range': [1, 2]}\n",
      "Model Factory (PVBin): Convertido ngram_range [1, 2] para tupla (1, 2)\n",
      "Fitting ProductVectorizerClassifier com 100 amostras...\n",
      "Fit concluído.\n",
      "Model Factory: Criando tipo 'PVBin' com params: {'method': 'binary', 'query': 'binary', 'norm': None, 'query_norm': None, 'ngram_range': [1, 2]}\n",
      "Model Factory (PVBin): Convertido ngram_range [1, 2] para tupla (1, 2)\n",
      "Fitting ProductVectorizerClassifier com 100 amostras...\n",
      "Fit concluído.\n",
      "Model Factory: Criando tipo 'PVBin' com params: {'method': 'binary', 'query': 'binary', 'norm': None, 'query_norm': None, 'ngram_range': [1, 2]}\n",
      "Model Factory (PVBin): Convertido ngram_range [1, 2] para tupla (1, 2)\n",
      "Fitting ProductVectorizerClassifier com 100 amostras...\n",
      "Fit concluído.\n",
      "Model Factory: Criando tipo 'PVBin' com params: {'method': 'binary', 'query': 'binary', 'norm': None, 'query_norm': None, 'ngram_range': [1, 2]}\n",
      "Model Factory (PVBin): Convertido ngram_range [1, 2] para tupla (1, 2)\n",
      "Fitting ProductVectorizerClassifier com 100 amostras...\n",
      "Fit concluído.\n",
      "Model Factory: Criando tipo 'PVBin' com params: {'method': 'binary', 'query': 'binary', 'norm': None, 'query_norm': None, 'ngram_range': [1, 2]}\n",
      "Model Factory (PVBin): Convertido ngram_range [1, 2] para tupla (1, 2)\n",
      "Fitting ProductVectorizerClassifier com 100 amostras...\n",
      "Fit concluído.\n",
      "Model Factory: Criando tipo 'PVBin' com params: {'method': 'binary', 'query': 'binary', 'norm': None, 'query_norm': None, 'ngram_range': [1, 2]}\n",
      "Model Factory (PVBin): Convertido ngram_range [1, 2] para tupla (1, 2)\n",
      "Fitting ProductVectorizerClassifier com 100 amostras...\n",
      "Fit concluído.\n",
      "    Novo melhor (Obj: minimize): Perf Real=0.0158\n",
      "    Acc Real Geração 26: Max=0.2012, Avg=0.1973, Min=0.1929\n",
      "    F1 Real Geração  26: Max=0.0182, Avg=0.0167, Min=0.0158\n",
      "    Duração Geração 26: 58.57s\n",
      "\n",
      "  Geração 27/100\n"
     ]
    },
    {
     "data": {
      "application/vnd.jupyter.widget-view+json": {
       "model_id": "e424b96e3c8e4cf28451418acbd605db",
       "version_major": 2,
       "version_minor": 0
      },
      "text/plain": [
       "Fitness Calc Gen 27:   0%|          | 0/20 [00:00<?, ?it/s]"
      ]
     },
     "metadata": {},
     "output_type": "display_data"
    },
    {
     "name": "stdout",
     "output_type": "stream",
     "text": [
      "Model Factory: Criando tipo 'PVBin' com params: {'method': 'binary', 'query': 'binary', 'norm': None, 'query_norm': None, 'ngram_range': [1, 2]}\n",
      "Model Factory (PVBin): Convertido ngram_range [1, 2] para tupla (1, 2)\n",
      "Fitting ProductVectorizerClassifier com 100 amostras...\n",
      "Fit concluído.\n",
      "Model Factory: Criando tipo 'PVBin' com params: {'method': 'binary', 'query': 'binary', 'norm': None, 'query_norm': None, 'ngram_range': [1, 2]}\n",
      "Model Factory (PVBin): Convertido ngram_range [1, 2] para tupla (1, 2)\n",
      "Fitting ProductVectorizerClassifier com 100 amostras...\n",
      "Fit concluído.\n",
      "Model Factory: Criando tipo 'PVBin' com params: {'method': 'binary', 'query': 'binary', 'norm': None, 'query_norm': None, 'ngram_range': [1, 2]}\n",
      "Model Factory (PVBin): Convertido ngram_range [1, 2] para tupla (1, 2)\n",
      "Fitting ProductVectorizerClassifier com 100 amostras...\n",
      "Fit concluído.\n",
      "Model Factory: Criando tipo 'PVBin' com params: {'method': 'binary', 'query': 'binary', 'norm': None, 'query_norm': None, 'ngram_range': [1, 2]}\n",
      "Model Factory (PVBin): Convertido ngram_range [1, 2] para tupla (1, 2)\n",
      "Fitting ProductVectorizerClassifier com 100 amostras...\n",
      "Fit concluído.\n",
      "Model Factory: Criando tipo 'PVBin' com params: {'method': 'binary', 'query': 'binary', 'norm': None, 'query_norm': None, 'ngram_range': [1, 2]}\n",
      "Model Factory (PVBin): Convertido ngram_range [1, 2] para tupla (1, 2)\n",
      "Fitting ProductVectorizerClassifier com 100 amostras...\n",
      "Fit concluído.\n",
      "Model Factory: Criando tipo 'PVBin' com params: {'method': 'binary', 'query': 'binary', 'norm': None, 'query_norm': None, 'ngram_range': [1, 2]}\n",
      "Model Factory (PVBin): Convertido ngram_range [1, 2] para tupla (1, 2)\n",
      "Fitting ProductVectorizerClassifier com 100 amostras...\n",
      "Fit concluído.\n",
      "Model Factory: Criando tipo 'PVBin' com params: {'method': 'binary', 'query': 'binary', 'norm': None, 'query_norm': None, 'ngram_range': [1, 2]}\n",
      "Model Factory (PVBin): Convertido ngram_range [1, 2] para tupla (1, 2)\n",
      "Fitting ProductVectorizerClassifier com 100 amostras...\n",
      "Fit concluído.\n",
      "Model Factory: Criando tipo 'PVBin' com params: {'method': 'binary', 'query': 'binary', 'norm': None, 'query_norm': None, 'ngram_range': [1, 2]}\n",
      "Model Factory (PVBin): Convertido ngram_range [1, 2] para tupla (1, 2)\n",
      "Fitting ProductVectorizerClassifier com 100 amostras...\n",
      "Fit concluído.\n",
      "Model Factory: Criando tipo 'PVBin' com params: {'method': 'binary', 'query': 'binary', 'norm': None, 'query_norm': None, 'ngram_range': [1, 2]}\n",
      "Model Factory (PVBin): Convertido ngram_range [1, 2] para tupla (1, 2)\n",
      "Fitting ProductVectorizerClassifier com 100 amostras...\n",
      "Fit concluído.\n",
      "Model Factory: Criando tipo 'PVBin' com params: {'method': 'binary', 'query': 'binary', 'norm': None, 'query_norm': None, 'ngram_range': [1, 2]}\n",
      "Model Factory (PVBin): Convertido ngram_range [1, 2] para tupla (1, 2)\n",
      "Fitting ProductVectorizerClassifier com 100 amostras...\n",
      "Fit concluído.\n",
      "Model Factory: Criando tipo 'PVBin' com params: {'method': 'binary', 'query': 'binary', 'norm': None, 'query_norm': None, 'ngram_range': [1, 2]}\n",
      "Model Factory (PVBin): Convertido ngram_range [1, 2] para tupla (1, 2)\n",
      "Fitting ProductVectorizerClassifier com 100 amostras...\n",
      "Fit concluído.\n",
      "    Acc Real Geração 27: Max=0.2042, Avg=0.1962, Min=0.1884\n",
      "    F1 Real Geração  27: Max=0.0182, Avg=0.0167, Min=0.0158\n",
      "    Duração Geração 27: 113.75s\n",
      "\n",
      "  Geração 28/100\n"
     ]
    },
    {
     "data": {
      "application/vnd.jupyter.widget-view+json": {
       "model_id": "4f7d284cc6c8438b97f1d428efffc932",
       "version_major": 2,
       "version_minor": 0
      },
      "text/plain": [
       "Fitness Calc Gen 28:   0%|          | 0/20 [00:00<?, ?it/s]"
      ]
     },
     "metadata": {},
     "output_type": "display_data"
    },
    {
     "name": "stdout",
     "output_type": "stream",
     "text": [
      "Model Factory: Criando tipo 'PVBin' com params: {'method': 'binary', 'query': 'binary', 'norm': None, 'query_norm': None, 'ngram_range': [1, 2]}\n",
      "Model Factory (PVBin): Convertido ngram_range [1, 2] para tupla (1, 2)\n",
      "Fitting ProductVectorizerClassifier com 100 amostras...\n",
      "Fit concluído.\n",
      "Model Factory: Criando tipo 'PVBin' com params: {'method': 'binary', 'query': 'binary', 'norm': None, 'query_norm': None, 'ngram_range': [1, 2]}\n",
      "Model Factory (PVBin): Convertido ngram_range [1, 2] para tupla (1, 2)\n",
      "Fitting ProductVectorizerClassifier com 100 amostras...\n",
      "Fit concluído.\n",
      "Model Factory: Criando tipo 'PVBin' com params: {'method': 'binary', 'query': 'binary', 'norm': None, 'query_norm': None, 'ngram_range': [1, 2]}\n",
      "Model Factory (PVBin): Convertido ngram_range [1, 2] para tupla (1, 2)\n",
      "Fitting ProductVectorizerClassifier com 100 amostras...\n",
      "Fit concluído.\n",
      "Model Factory: Criando tipo 'PVBin' com params: {'method': 'binary', 'query': 'binary', 'norm': None, 'query_norm': None, 'ngram_range': [1, 2]}\n",
      "Model Factory (PVBin): Convertido ngram_range [1, 2] para tupla (1, 2)\n",
      "Fitting ProductVectorizerClassifier com 100 amostras...\n",
      "Fit concluído.\n",
      "Model Factory: Criando tipo 'PVBin' com params: {'method': 'binary', 'query': 'binary', 'norm': None, 'query_norm': None, 'ngram_range': [1, 2]}\n",
      "Model Factory (PVBin): Convertido ngram_range [1, 2] para tupla (1, 2)\n",
      "Fitting ProductVectorizerClassifier com 100 amostras...\n",
      "Fit concluído.\n",
      "Model Factory: Criando tipo 'PVBin' com params: {'method': 'binary', 'query': 'binary', 'norm': None, 'query_norm': None, 'ngram_range': [1, 2]}\n",
      "Model Factory (PVBin): Convertido ngram_range [1, 2] para tupla (1, 2)\n",
      "Fitting ProductVectorizerClassifier com 100 amostras...\n",
      "Fit concluído.\n",
      "Model Factory: Criando tipo 'PVBin' com params: {'method': 'binary', 'query': 'binary', 'norm': None, 'query_norm': None, 'ngram_range': [1, 2]}\n",
      "Model Factory (PVBin): Convertido ngram_range [1, 2] para tupla (1, 2)\n",
      "Fitting ProductVectorizerClassifier com 100 amostras...\n",
      "Fit concluído.\n",
      "    Acc Real Geração 28: Max=0.1979, Avg=0.1932, Min=0.1884\n",
      "    F1 Real Geração  28: Max=0.0180, Avg=0.0166, Min=0.0158\n",
      "    Duração Geração 28: 66.43s\n",
      "\n",
      "  Geração 29/100\n"
     ]
    },
    {
     "data": {
      "application/vnd.jupyter.widget-view+json": {
       "model_id": "a6eaa39653b9441085452440fe2be68c",
       "version_major": 2,
       "version_minor": 0
      },
      "text/plain": [
       "Fitness Calc Gen 29:   0%|          | 0/20 [00:00<?, ?it/s]"
      ]
     },
     "metadata": {},
     "output_type": "display_data"
    },
    {
     "name": "stdout",
     "output_type": "stream",
     "text": [
      "Model Factory: Criando tipo 'PVBin' com params: {'method': 'binary', 'query': 'binary', 'norm': None, 'query_norm': None, 'ngram_range': [1, 2]}\n",
      "Model Factory (PVBin): Convertido ngram_range [1, 2] para tupla (1, 2)\n",
      "Fitting ProductVectorizerClassifier com 100 amostras...\n",
      "Fit concluído.\n",
      "Model Factory: Criando tipo 'PVBin' com params: {'method': 'binary', 'query': 'binary', 'norm': None, 'query_norm': None, 'ngram_range': [1, 2]}\n",
      "Model Factory (PVBin): Convertido ngram_range [1, 2] para tupla (1, 2)\n",
      "Fitting ProductVectorizerClassifier com 100 amostras...\n",
      "Fit concluído.\n",
      "Model Factory: Criando tipo 'PVBin' com params: {'method': 'binary', 'query': 'binary', 'norm': None, 'query_norm': None, 'ngram_range': [1, 2]}\n",
      "Model Factory (PVBin): Convertido ngram_range [1, 2] para tupla (1, 2)\n",
      "Fitting ProductVectorizerClassifier com 100 amostras...\n",
      "Fit concluído.\n",
      "Model Factory: Criando tipo 'PVBin' com params: {'method': 'binary', 'query': 'binary', 'norm': None, 'query_norm': None, 'ngram_range': [1, 2]}\n",
      "Model Factory (PVBin): Convertido ngram_range [1, 2] para tupla (1, 2)\n",
      "Fitting ProductVectorizerClassifier com 100 amostras...\n",
      "Fit concluído.\n",
      "Model Factory: Criando tipo 'PVBin' com params: {'method': 'binary', 'query': 'binary', 'norm': None, 'query_norm': None, 'ngram_range': [1, 2]}\n",
      "Model Factory (PVBin): Convertido ngram_range [1, 2] para tupla (1, 2)\n",
      "Fitting ProductVectorizerClassifier com 100 amostras...\n",
      "Fit concluído.\n",
      "Model Factory: Criando tipo 'PVBin' com params: {'method': 'binary', 'query': 'binary', 'norm': None, 'query_norm': None, 'ngram_range': [1, 2]}\n",
      "Model Factory (PVBin): Convertido ngram_range [1, 2] para tupla (1, 2)\n",
      "Fitting ProductVectorizerClassifier com 100 amostras...\n",
      "Fit concluído.\n",
      "Model Factory: Criando tipo 'PVBin' com params: {'method': 'binary', 'query': 'binary', 'norm': None, 'query_norm': None, 'ngram_range': [1, 2]}\n",
      "Model Factory (PVBin): Convertido ngram_range [1, 2] para tupla (1, 2)\n",
      "Fitting ProductVectorizerClassifier com 100 amostras...\n",
      "Fit concluído.\n",
      "Model Factory: Criando tipo 'PVBin' com params: {'method': 'binary', 'query': 'binary', 'norm': None, 'query_norm': None, 'ngram_range': [1, 2]}\n",
      "Model Factory (PVBin): Convertido ngram_range [1, 2] para tupla (1, 2)\n",
      "Fitting ProductVectorizerClassifier com 100 amostras...\n",
      "Fit concluído.\n",
      "Model Factory: Criando tipo 'PVBin' com params: {'method': 'binary', 'query': 'binary', 'norm': None, 'query_norm': None, 'ngram_range': [1, 2]}\n",
      "Model Factory (PVBin): Convertido ngram_range [1, 2] para tupla (1, 2)\n",
      "Fitting ProductVectorizerClassifier com 100 amostras...\n",
      "Fit concluído.\n",
      "    Novo melhor (Obj: minimize): Perf Real=0.0155\n",
      "    Acc Real Geração 29: Max=0.1971, Avg=0.1931, Min=0.1884\n",
      "    F1 Real Geração  29: Max=0.0180, Avg=0.0165, Min=0.0155\n",
      "    Duração Geração 29: 85.42s\n",
      "\n",
      "  Geração 30/100\n"
     ]
    },
    {
     "data": {
      "application/vnd.jupyter.widget-view+json": {
       "model_id": "33c3ef3bfa704876908aed248e963eff",
       "version_major": 2,
       "version_minor": 0
      },
      "text/plain": [
       "Fitness Calc Gen 30:   0%|          | 0/20 [00:00<?, ?it/s]"
      ]
     },
     "metadata": {},
     "output_type": "display_data"
    },
    {
     "name": "stdout",
     "output_type": "stream",
     "text": [
      "Model Factory: Criando tipo 'PVBin' com params: {'method': 'binary', 'query': 'binary', 'norm': None, 'query_norm': None, 'ngram_range': [1, 2]}\n",
      "Model Factory (PVBin): Convertido ngram_range [1, 2] para tupla (1, 2)\n",
      "Fitting ProductVectorizerClassifier com 100 amostras...\n",
      "Fit concluído.\n",
      "Model Factory: Criando tipo 'PVBin' com params: {'method': 'binary', 'query': 'binary', 'norm': None, 'query_norm': None, 'ngram_range': [1, 2]}\n",
      "Model Factory (PVBin): Convertido ngram_range [1, 2] para tupla (1, 2)\n",
      "Fitting ProductVectorizerClassifier com 100 amostras...\n",
      "Fit concluído.\n",
      "Model Factory: Criando tipo 'PVBin' com params: {'method': 'binary', 'query': 'binary', 'norm': None, 'query_norm': None, 'ngram_range': [1, 2]}\n",
      "Model Factory (PVBin): Convertido ngram_range [1, 2] para tupla (1, 2)\n",
      "Fitting ProductVectorizerClassifier com 100 amostras...\n",
      "Fit concluído.\n",
      "Model Factory: Criando tipo 'PVBin' com params: {'method': 'binary', 'query': 'binary', 'norm': None, 'query_norm': None, 'ngram_range': [1, 2]}\n",
      "Model Factory (PVBin): Convertido ngram_range [1, 2] para tupla (1, 2)\n",
      "Fitting ProductVectorizerClassifier com 100 amostras...\n",
      "Fit concluído.\n",
      "Model Factory: Criando tipo 'PVBin' com params: {'method': 'binary', 'query': 'binary', 'norm': None, 'query_norm': None, 'ngram_range': [1, 2]}\n",
      "Model Factory (PVBin): Convertido ngram_range [1, 2] para tupla (1, 2)\n",
      "Fitting ProductVectorizerClassifier com 100 amostras...\n",
      "Fit concluído.\n",
      "Model Factory: Criando tipo 'PVBin' com params: {'method': 'binary', 'query': 'binary', 'norm': None, 'query_norm': None, 'ngram_range': [1, 2]}\n",
      "Model Factory (PVBin): Convertido ngram_range [1, 2] para tupla (1, 2)\n",
      "Fitting ProductVectorizerClassifier com 100 amostras...\n",
      "Fit concluído.\n",
      "Model Factory: Criando tipo 'PVBin' com params: {'method': 'binary', 'query': 'binary', 'norm': None, 'query_norm': None, 'ngram_range': [1, 2]}\n",
      "Model Factory (PVBin): Convertido ngram_range [1, 2] para tupla (1, 2)\n",
      "Fitting ProductVectorizerClassifier com 100 amostras...\n",
      "Fit concluído.\n",
      "Model Factory: Criando tipo 'PVBin' com params: {'method': 'binary', 'query': 'binary', 'norm': None, 'query_norm': None, 'ngram_range': [1, 2]}\n",
      "Model Factory (PVBin): Convertido ngram_range [1, 2] para tupla (1, 2)\n",
      "Fitting ProductVectorizerClassifier com 100 amostras...\n",
      "Fit concluído.\n",
      "Model Factory: Criando tipo 'PVBin' com params: {'method': 'binary', 'query': 'binary', 'norm': None, 'query_norm': None, 'ngram_range': [1, 2]}\n",
      "Model Factory (PVBin): Convertido ngram_range [1, 2] para tupla (1, 2)\n",
      "Fitting ProductVectorizerClassifier com 100 amostras...\n",
      "Fit concluído.\n",
      "Model Factory: Criando tipo 'PVBin' com params: {'method': 'binary', 'query': 'binary', 'norm': None, 'query_norm': None, 'ngram_range': [1, 2]}\n",
      "Model Factory (PVBin): Convertido ngram_range [1, 2] para tupla (1, 2)\n",
      "Fitting ProductVectorizerClassifier com 100 amostras...\n",
      "Fit concluído.\n",
      "    Novo melhor (Obj: minimize): Perf Real=0.0155\n",
      "    Acc Real Geração 30: Max=0.2011, Avg=0.1938, Min=0.1884\n",
      "    F1 Real Geração  30: Max=0.0187, Avg=0.0163, Min=0.0155\n",
      "    Duração Geração 30: 100.97s\n",
      "\n",
      "  Geração 31/100\n"
     ]
    },
    {
     "data": {
      "application/vnd.jupyter.widget-view+json": {
       "model_id": "67684df147e4492bac7d6032eadc1572",
       "version_major": 2,
       "version_minor": 0
      },
      "text/plain": [
       "Fitness Calc Gen 31:   0%|          | 0/20 [00:00<?, ?it/s]"
      ]
     },
     "metadata": {},
     "output_type": "display_data"
    },
    {
     "name": "stdout",
     "output_type": "stream",
     "text": [
      "Model Factory: Criando tipo 'PVBin' com params: {'method': 'binary', 'query': 'binary', 'norm': None, 'query_norm': None, 'ngram_range': [1, 2]}\n",
      "Model Factory (PVBin): Convertido ngram_range [1, 2] para tupla (1, 2)\n",
      "Fitting ProductVectorizerClassifier com 100 amostras...\n",
      "Fit concluído.\n",
      "Model Factory: Criando tipo 'PVBin' com params: {'method': 'binary', 'query': 'binary', 'norm': None, 'query_norm': None, 'ngram_range': [1, 2]}\n",
      "Model Factory (PVBin): Convertido ngram_range [1, 2] para tupla (1, 2)\n",
      "Fitting ProductVectorizerClassifier com 100 amostras...\n",
      "Fit concluído.\n",
      "Model Factory: Criando tipo 'PVBin' com params: {'method': 'binary', 'query': 'binary', 'norm': None, 'query_norm': None, 'ngram_range': [1, 2]}\n",
      "Model Factory (PVBin): Convertido ngram_range [1, 2] para tupla (1, 2)\n",
      "Fitting ProductVectorizerClassifier com 100 amostras...\n",
      "Fit concluído.\n",
      "Model Factory: Criando tipo 'PVBin' com params: {'method': 'binary', 'query': 'binary', 'norm': None, 'query_norm': None, 'ngram_range': [1, 2]}\n",
      "Model Factory (PVBin): Convertido ngram_range [1, 2] para tupla (1, 2)\n",
      "Fitting ProductVectorizerClassifier com 100 amostras...\n",
      "Fit concluído.\n",
      "Model Factory: Criando tipo 'PVBin' com params: {'method': 'binary', 'query': 'binary', 'norm': None, 'query_norm': None, 'ngram_range': [1, 2]}\n",
      "Model Factory (PVBin): Convertido ngram_range [1, 2] para tupla (1, 2)\n",
      "Fitting ProductVectorizerClassifier com 100 amostras...\n",
      "Fit concluído.\n",
      "Model Factory: Criando tipo 'PVBin' com params: {'method': 'binary', 'query': 'binary', 'norm': None, 'query_norm': None, 'ngram_range': [1, 2]}\n",
      "Model Factory (PVBin): Convertido ngram_range [1, 2] para tupla (1, 2)\n",
      "Fitting ProductVectorizerClassifier com 100 amostras...\n",
      "Fit concluído.\n",
      "Model Factory: Criando tipo 'PVBin' com params: {'method': 'binary', 'query': 'binary', 'norm': None, 'query_norm': None, 'ngram_range': [1, 2]}\n",
      "Model Factory (PVBin): Convertido ngram_range [1, 2] para tupla (1, 2)\n",
      "Fitting ProductVectorizerClassifier com 100 amostras...\n",
      "Fit concluído.\n",
      "Model Factory: Criando tipo 'PVBin' com params: {'method': 'binary', 'query': 'binary', 'norm': None, 'query_norm': None, 'ngram_range': [1, 2]}\n",
      "Model Factory (PVBin): Convertido ngram_range [1, 2] para tupla (1, 2)\n",
      "Fitting ProductVectorizerClassifier com 100 amostras...\n",
      "Fit concluído.\n",
      "    Novo melhor (Obj: minimize): Perf Real=0.0150\n",
      "    Acc Real Geração 31: Max=0.2060, Avg=0.1934, Min=0.1895\n",
      "    F1 Real Geração  31: Max=0.0179, Avg=0.0160, Min=0.0150\n",
      "    Duração Geração 31: 74.74s\n",
      "\n",
      "  Geração 32/100\n"
     ]
    },
    {
     "data": {
      "application/vnd.jupyter.widget-view+json": {
       "model_id": "7e51a18ce0764b64865377619bd7190a",
       "version_major": 2,
       "version_minor": 0
      },
      "text/plain": [
       "Fitness Calc Gen 32:   0%|          | 0/20 [00:00<?, ?it/s]"
      ]
     },
     "metadata": {},
     "output_type": "display_data"
    },
    {
     "name": "stdout",
     "output_type": "stream",
     "text": [
      "Model Factory: Criando tipo 'PVBin' com params: {'method': 'binary', 'query': 'binary', 'norm': None, 'query_norm': None, 'ngram_range': [1, 2]}\n",
      "Model Factory (PVBin): Convertido ngram_range [1, 2] para tupla (1, 2)\n",
      "Fitting ProductVectorizerClassifier com 100 amostras...\n",
      "Fit concluído.\n",
      "Model Factory: Criando tipo 'PVBin' com params: {'method': 'binary', 'query': 'binary', 'norm': None, 'query_norm': None, 'ngram_range': [1, 2]}\n",
      "Model Factory (PVBin): Convertido ngram_range [1, 2] para tupla (1, 2)\n",
      "Fitting ProductVectorizerClassifier com 100 amostras...\n",
      "Fit concluído.\n",
      "Model Factory: Criando tipo 'PVBin' com params: {'method': 'binary', 'query': 'binary', 'norm': None, 'query_norm': None, 'ngram_range': [1, 2]}\n",
      "Model Factory (PVBin): Convertido ngram_range [1, 2] para tupla (1, 2)\n",
      "Fitting ProductVectorizerClassifier com 100 amostras...\n",
      "Fit concluído.\n",
      "Model Factory: Criando tipo 'PVBin' com params: {'method': 'binary', 'query': 'binary', 'norm': None, 'query_norm': None, 'ngram_range': [1, 2]}\n",
      "Model Factory (PVBin): Convertido ngram_range [1, 2] para tupla (1, 2)\n",
      "Fitting ProductVectorizerClassifier com 100 amostras...\n",
      "Fit concluído.\n",
      "Model Factory: Criando tipo 'PVBin' com params: {'method': 'binary', 'query': 'binary', 'norm': None, 'query_norm': None, 'ngram_range': [1, 2]}\n",
      "Model Factory (PVBin): Convertido ngram_range [1, 2] para tupla (1, 2)\n",
      "Fitting ProductVectorizerClassifier com 100 amostras...\n",
      "Fit concluído.\n",
      "Model Factory: Criando tipo 'PVBin' com params: {'method': 'binary', 'query': 'binary', 'norm': None, 'query_norm': None, 'ngram_range': [1, 2]}\n",
      "Model Factory (PVBin): Convertido ngram_range [1, 2] para tupla (1, 2)\n",
      "Fitting ProductVectorizerClassifier com 100 amostras...\n",
      "Fit concluído.\n",
      "Model Factory: Criando tipo 'PVBin' com params: {'method': 'binary', 'query': 'binary', 'norm': None, 'query_norm': None, 'ngram_range': [1, 2]}\n",
      "Model Factory (PVBin): Convertido ngram_range [1, 2] para tupla (1, 2)\n",
      "Fitting ProductVectorizerClassifier com 100 amostras...\n",
      "Fit concluído.\n",
      "Model Factory: Criando tipo 'PVBin' com params: {'method': 'binary', 'query': 'binary', 'norm': None, 'query_norm': None, 'ngram_range': [1, 2]}\n",
      "Model Factory (PVBin): Convertido ngram_range [1, 2] para tupla (1, 2)\n",
      "Fitting ProductVectorizerClassifier com 100 amostras...\n",
      "Fit concluído.\n",
      "Model Factory: Criando tipo 'PVBin' com params: {'method': 'binary', 'query': 'binary', 'norm': None, 'query_norm': None, 'ngram_range': [1, 2]}\n",
      "Model Factory (PVBin): Convertido ngram_range [1, 2] para tupla (1, 2)\n",
      "Fitting ProductVectorizerClassifier com 100 amostras...\n",
      "Fit concluído.\n",
      "    Acc Real Geração 32: Max=0.1955, Avg=0.1918, Min=0.1894\n",
      "    F1 Real Geração  32: Max=0.0164, Avg=0.0156, Min=0.0150\n",
      "    Duração Geração 32: 85.95s\n",
      "\n",
      "  Geração 33/100\n"
     ]
    },
    {
     "data": {
      "application/vnd.jupyter.widget-view+json": {
       "model_id": "adf9fa7e902a49fc82e55b08298d63b1",
       "version_major": 2,
       "version_minor": 0
      },
      "text/plain": [
       "Fitness Calc Gen 33:   0%|          | 0/20 [00:00<?, ?it/s]"
      ]
     },
     "metadata": {},
     "output_type": "display_data"
    },
    {
     "name": "stdout",
     "output_type": "stream",
     "text": [
      "Model Factory: Criando tipo 'PVBin' com params: {'method': 'binary', 'query': 'binary', 'norm': None, 'query_norm': None, 'ngram_range': [1, 2]}\n",
      "Model Factory (PVBin): Convertido ngram_range [1, 2] para tupla (1, 2)\n",
      "Fitting ProductVectorizerClassifier com 100 amostras...\n",
      "Fit concluído.\n",
      "Model Factory: Criando tipo 'PVBin' com params: {'method': 'binary', 'query': 'binary', 'norm': None, 'query_norm': None, 'ngram_range': [1, 2]}\n",
      "Model Factory (PVBin): Convertido ngram_range [1, 2] para tupla (1, 2)\n",
      "Fitting ProductVectorizerClassifier com 100 amostras...\n",
      "Fit concluído.\n",
      "Model Factory: Criando tipo 'PVBin' com params: {'method': 'binary', 'query': 'binary', 'norm': None, 'query_norm': None, 'ngram_range': [1, 2]}\n",
      "Model Factory (PVBin): Convertido ngram_range [1, 2] para tupla (1, 2)\n",
      "Fitting ProductVectorizerClassifier com 100 amostras...\n",
      "Fit concluído.\n",
      "Model Factory: Criando tipo 'PVBin' com params: {'method': 'binary', 'query': 'binary', 'norm': None, 'query_norm': None, 'ngram_range': [1, 2]}\n",
      "Model Factory (PVBin): Convertido ngram_range [1, 2] para tupla (1, 2)\n",
      "Fitting ProductVectorizerClassifier com 100 amostras...\n",
      "Fit concluído.\n",
      "Model Factory: Criando tipo 'PVBin' com params: {'method': 'binary', 'query': 'binary', 'norm': None, 'query_norm': None, 'ngram_range': [1, 2]}\n",
      "Model Factory (PVBin): Convertido ngram_range [1, 2] para tupla (1, 2)\n",
      "Fitting ProductVectorizerClassifier com 100 amostras...\n",
      "Fit concluído.\n",
      "Model Factory: Criando tipo 'PVBin' com params: {'method': 'binary', 'query': 'binary', 'norm': None, 'query_norm': None, 'ngram_range': [1, 2]}\n",
      "Model Factory (PVBin): Convertido ngram_range [1, 2] para tupla (1, 2)\n",
      "Fitting ProductVectorizerClassifier com 100 amostras...\n",
      "Fit concluído.\n",
      "Model Factory: Criando tipo 'PVBin' com params: {'method': 'binary', 'query': 'binary', 'norm': None, 'query_norm': None, 'ngram_range': [1, 2]}\n",
      "Model Factory (PVBin): Convertido ngram_range [1, 2] para tupla (1, 2)\n",
      "Fitting ProductVectorizerClassifier com 100 amostras...\n",
      "Fit concluído.\n",
      "Model Factory: Criando tipo 'PVBin' com params: {'method': 'binary', 'query': 'binary', 'norm': None, 'query_norm': None, 'ngram_range': [1, 2]}\n",
      "Model Factory (PVBin): Convertido ngram_range [1, 2] para tupla (1, 2)\n",
      "Fitting ProductVectorizerClassifier com 100 amostras...\n",
      "Fit concluído.\n",
      "Model Factory: Criando tipo 'PVBin' com params: {'method': 'binary', 'query': 'binary', 'norm': None, 'query_norm': None, 'ngram_range': [1, 2]}\n",
      "Model Factory (PVBin): Convertido ngram_range [1, 2] para tupla (1, 2)\n",
      "Fitting ProductVectorizerClassifier com 100 amostras...\n",
      "Fit concluído.\n",
      "    Acc Real Geração 33: Max=0.1959, Avg=0.1907, Min=0.1879\n",
      "    F1 Real Geração  33: Max=0.0181, Avg=0.0157, Min=0.0150\n",
      "    Duração Geração 33: 83.79s\n",
      "\n",
      "  Geração 34/100\n"
     ]
    },
    {
     "data": {
      "application/vnd.jupyter.widget-view+json": {
       "model_id": "5feca1ddae6546ffbb60405eebe7bd51",
       "version_major": 2,
       "version_minor": 0
      },
      "text/plain": [
       "Fitness Calc Gen 34:   0%|          | 0/20 [00:00<?, ?it/s]"
      ]
     },
     "metadata": {},
     "output_type": "display_data"
    },
    {
     "name": "stdout",
     "output_type": "stream",
     "text": [
      "Model Factory: Criando tipo 'PVBin' com params: {'method': 'binary', 'query': 'binary', 'norm': None, 'query_norm': None, 'ngram_range': [1, 2]}\n",
      "Model Factory (PVBin): Convertido ngram_range [1, 2] para tupla (1, 2)\n",
      "Fitting ProductVectorizerClassifier com 100 amostras...\n",
      "Fit concluído.\n",
      "Model Factory: Criando tipo 'PVBin' com params: {'method': 'binary', 'query': 'binary', 'norm': None, 'query_norm': None, 'ngram_range': [1, 2]}\n",
      "Model Factory (PVBin): Convertido ngram_range [1, 2] para tupla (1, 2)\n",
      "Fitting ProductVectorizerClassifier com 100 amostras...\n",
      "Fit concluído.\n",
      "Model Factory: Criando tipo 'PVBin' com params: {'method': 'binary', 'query': 'binary', 'norm': None, 'query_norm': None, 'ngram_range': [1, 2]}\n",
      "Model Factory (PVBin): Convertido ngram_range [1, 2] para tupla (1, 2)\n",
      "Fitting ProductVectorizerClassifier com 100 amostras...\n",
      "Fit concluído.\n",
      "Model Factory: Criando tipo 'PVBin' com params: {'method': 'binary', 'query': 'binary', 'norm': None, 'query_norm': None, 'ngram_range': [1, 2]}\n",
      "Model Factory (PVBin): Convertido ngram_range [1, 2] para tupla (1, 2)\n",
      "Fitting ProductVectorizerClassifier com 100 amostras...\n",
      "Fit concluído.\n",
      "Model Factory: Criando tipo 'PVBin' com params: {'method': 'binary', 'query': 'binary', 'norm': None, 'query_norm': None, 'ngram_range': [1, 2]}\n",
      "Model Factory (PVBin): Convertido ngram_range [1, 2] para tupla (1, 2)\n",
      "Fitting ProductVectorizerClassifier com 100 amostras...\n",
      "Fit concluído.\n",
      "Model Factory: Criando tipo 'PVBin' com params: {'method': 'binary', 'query': 'binary', 'norm': None, 'query_norm': None, 'ngram_range': [1, 2]}\n",
      "Model Factory (PVBin): Convertido ngram_range [1, 2] para tupla (1, 2)\n",
      "Fitting ProductVectorizerClassifier com 100 amostras...\n",
      "Fit concluído.\n",
      "Model Factory: Criando tipo 'PVBin' com params: {'method': 'binary', 'query': 'binary', 'norm': None, 'query_norm': None, 'ngram_range': [1, 2]}\n",
      "Model Factory (PVBin): Convertido ngram_range [1, 2] para tupla (1, 2)\n",
      "Fitting ProductVectorizerClassifier com 100 amostras...\n",
      "Fit concluído.\n",
      "    Novo melhor (Obj: minimize): Perf Real=0.0148\n",
      "    Acc Real Geração 34: Max=0.1967, Avg=0.1908, Min=0.1879\n",
      "    F1 Real Geração  34: Max=0.0163, Avg=0.0154, Min=0.0148\n",
      "    Duração Geração 34: 66.78s\n",
      "\n",
      "  Geração 35/100\n"
     ]
    },
    {
     "data": {
      "application/vnd.jupyter.widget-view+json": {
       "model_id": "b84a55cc81414795927aa642786d6314",
       "version_major": 2,
       "version_minor": 0
      },
      "text/plain": [
       "Fitness Calc Gen 35:   0%|          | 0/20 [00:00<?, ?it/s]"
      ]
     },
     "metadata": {},
     "output_type": "display_data"
    },
    {
     "name": "stdout",
     "output_type": "stream",
     "text": [
      "Model Factory: Criando tipo 'PVBin' com params: {'method': 'binary', 'query': 'binary', 'norm': None, 'query_norm': None, 'ngram_range': [1, 2]}\n",
      "Model Factory (PVBin): Convertido ngram_range [1, 2] para tupla (1, 2)\n",
      "Fitting ProductVectorizerClassifier com 100 amostras...\n",
      "Fit concluído.\n",
      "Model Factory: Criando tipo 'PVBin' com params: {'method': 'binary', 'query': 'binary', 'norm': None, 'query_norm': None, 'ngram_range': [1, 2]}\n",
      "Model Factory (PVBin): Convertido ngram_range [1, 2] para tupla (1, 2)\n",
      "Fitting ProductVectorizerClassifier com 100 amostras...\n",
      "Fit concluído.\n",
      "Model Factory: Criando tipo 'PVBin' com params: {'method': 'binary', 'query': 'binary', 'norm': None, 'query_norm': None, 'ngram_range': [1, 2]}\n",
      "Model Factory (PVBin): Convertido ngram_range [1, 2] para tupla (1, 2)\n",
      "Fitting ProductVectorizerClassifier com 100 amostras...\n",
      "Fit concluído.\n",
      "Model Factory: Criando tipo 'PVBin' com params: {'method': 'binary', 'query': 'binary', 'norm': None, 'query_norm': None, 'ngram_range': [1, 2]}\n",
      "Model Factory (PVBin): Convertido ngram_range [1, 2] para tupla (1, 2)\n",
      "Fitting ProductVectorizerClassifier com 100 amostras...\n",
      "Fit concluído.\n",
      "Model Factory: Criando tipo 'PVBin' com params: {'method': 'binary', 'query': 'binary', 'norm': None, 'query_norm': None, 'ngram_range': [1, 2]}\n",
      "Model Factory (PVBin): Convertido ngram_range [1, 2] para tupla (1, 2)\n",
      "Fitting ProductVectorizerClassifier com 100 amostras...\n",
      "Fit concluído.\n",
      "Model Factory: Criando tipo 'PVBin' com params: {'method': 'binary', 'query': 'binary', 'norm': None, 'query_norm': None, 'ngram_range': [1, 2]}\n",
      "Model Factory (PVBin): Convertido ngram_range [1, 2] para tupla (1, 2)\n",
      "Fitting ProductVectorizerClassifier com 100 amostras...\n",
      "Fit concluído.\n",
      "Model Factory: Criando tipo 'PVBin' com params: {'method': 'binary', 'query': 'binary', 'norm': None, 'query_norm': None, 'ngram_range': [1, 2]}\n",
      "Model Factory (PVBin): Convertido ngram_range [1, 2] para tupla (1, 2)\n",
      "Fitting ProductVectorizerClassifier com 100 amostras...\n",
      "Fit concluído.\n",
      "    Acc Real Geração 35: Max=0.2052, Avg=0.1907, Min=0.1865\n",
      "    F1 Real Geração  35: Max=0.0173, Avg=0.0154, Min=0.0148\n",
      "    Duração Geração 35: 67.80s\n",
      "\n",
      "  Geração 36/100\n"
     ]
    },
    {
     "data": {
      "application/vnd.jupyter.widget-view+json": {
       "model_id": "3b215bacee1d4af3b40523cf33d5024b",
       "version_major": 2,
       "version_minor": 0
      },
      "text/plain": [
       "Fitness Calc Gen 36:   0%|          | 0/20 [00:00<?, ?it/s]"
      ]
     },
     "metadata": {},
     "output_type": "display_data"
    },
    {
     "name": "stdout",
     "output_type": "stream",
     "text": [
      "Model Factory: Criando tipo 'PVBin' com params: {'method': 'binary', 'query': 'binary', 'norm': None, 'query_norm': None, 'ngram_range': [1, 2]}\n",
      "Model Factory (PVBin): Convertido ngram_range [1, 2] para tupla (1, 2)\n",
      "Fitting ProductVectorizerClassifier com 100 amostras...\n",
      "Fit concluído.\n",
      "Model Factory: Criando tipo 'PVBin' com params: {'method': 'binary', 'query': 'binary', 'norm': None, 'query_norm': None, 'ngram_range': [1, 2]}\n",
      "Model Factory (PVBin): Convertido ngram_range [1, 2] para tupla (1, 2)\n",
      "Fitting ProductVectorizerClassifier com 100 amostras...\n",
      "Fit concluído.\n",
      "Model Factory: Criando tipo 'PVBin' com params: {'method': 'binary', 'query': 'binary', 'norm': None, 'query_norm': None, 'ngram_range': [1, 2]}\n",
      "Model Factory (PVBin): Convertido ngram_range [1, 2] para tupla (1, 2)\n",
      "Fitting ProductVectorizerClassifier com 100 amostras...\n",
      "Fit concluído.\n",
      "Model Factory: Criando tipo 'PVBin' com params: {'method': 'binary', 'query': 'binary', 'norm': None, 'query_norm': None, 'ngram_range': [1, 2]}\n",
      "Model Factory (PVBin): Convertido ngram_range [1, 2] para tupla (1, 2)\n",
      "Fitting ProductVectorizerClassifier com 100 amostras...\n",
      "Fit concluído.\n",
      "Model Factory: Criando tipo 'PVBin' com params: {'method': 'binary', 'query': 'binary', 'norm': None, 'query_norm': None, 'ngram_range': [1, 2]}\n",
      "Model Factory (PVBin): Convertido ngram_range [1, 2] para tupla (1, 2)\n",
      "Fitting ProductVectorizerClassifier com 100 amostras...\n",
      "Fit concluído.\n",
      "Model Factory: Criando tipo 'PVBin' com params: {'method': 'binary', 'query': 'binary', 'norm': None, 'query_norm': None, 'ngram_range': [1, 2]}\n",
      "Model Factory (PVBin): Convertido ngram_range [1, 2] para tupla (1, 2)\n",
      "Fitting ProductVectorizerClassifier com 100 amostras...\n",
      "Fit concluído.\n",
      "Model Factory: Criando tipo 'PVBin' com params: {'method': 'binary', 'query': 'binary', 'norm': None, 'query_norm': None, 'ngram_range': [1, 2]}\n",
      "Model Factory (PVBin): Convertido ngram_range [1, 2] para tupla (1, 2)\n",
      "Fitting ProductVectorizerClassifier com 100 amostras...\n",
      "Fit concluído.\n",
      "    Novo melhor (Obj: minimize): Perf Real=0.0148\n",
      "    Acc Real Geração 36: Max=0.2013, Avg=0.1907, Min=0.1883\n",
      "    F1 Real Geração  36: Max=0.0169, Avg=0.0152, Min=0.0148\n",
      "    Duração Geração 36: 72.01s\n",
      "\n",
      "  Geração 37/100\n"
     ]
    },
    {
     "data": {
      "application/vnd.jupyter.widget-view+json": {
       "model_id": "ee5b00e17ec04bec99a2ccecf835e65e",
       "version_major": 2,
       "version_minor": 0
      },
      "text/plain": [
       "Fitness Calc Gen 37:   0%|          | 0/20 [00:00<?, ?it/s]"
      ]
     },
     "metadata": {},
     "output_type": "display_data"
    },
    {
     "name": "stdout",
     "output_type": "stream",
     "text": [
      "Model Factory: Criando tipo 'PVBin' com params: {'method': 'binary', 'query': 'binary', 'norm': None, 'query_norm': None, 'ngram_range': [1, 2]}\n",
      "Model Factory (PVBin): Convertido ngram_range [1, 2] para tupla (1, 2)\n",
      "Fitting ProductVectorizerClassifier com 100 amostras...\n",
      "Fit concluído.\n",
      "Model Factory: Criando tipo 'PVBin' com params: {'method': 'binary', 'query': 'binary', 'norm': None, 'query_norm': None, 'ngram_range': [1, 2]}\n",
      "Model Factory (PVBin): Convertido ngram_range [1, 2] para tupla (1, 2)\n",
      "Fitting ProductVectorizerClassifier com 100 amostras...\n",
      "Fit concluído.\n",
      "Model Factory: Criando tipo 'PVBin' com params: {'method': 'binary', 'query': 'binary', 'norm': None, 'query_norm': None, 'ngram_range': [1, 2]}\n",
      "Model Factory (PVBin): Convertido ngram_range [1, 2] para tupla (1, 2)\n",
      "Fitting ProductVectorizerClassifier com 100 amostras...\n",
      "Fit concluído.\n",
      "Model Factory: Criando tipo 'PVBin' com params: {'method': 'binary', 'query': 'binary', 'norm': None, 'query_norm': None, 'ngram_range': [1, 2]}\n",
      "Model Factory (PVBin): Convertido ngram_range [1, 2] para tupla (1, 2)\n",
      "Fitting ProductVectorizerClassifier com 100 amostras...\n",
      "Fit concluído.\n",
      "Model Factory: Criando tipo 'PVBin' com params: {'method': 'binary', 'query': 'binary', 'norm': None, 'query_norm': None, 'ngram_range': [1, 2]}\n",
      "Model Factory (PVBin): Convertido ngram_range [1, 2] para tupla (1, 2)\n",
      "Fitting ProductVectorizerClassifier com 100 amostras...\n",
      "Fit concluído.\n",
      "Model Factory: Criando tipo 'PVBin' com params: {'method': 'binary', 'query': 'binary', 'norm': None, 'query_norm': None, 'ngram_range': [1, 2]}\n",
      "Model Factory (PVBin): Convertido ngram_range [1, 2] para tupla (1, 2)\n",
      "Fitting ProductVectorizerClassifier com 100 amostras...\n",
      "Fit concluído.\n",
      "Model Factory: Criando tipo 'PVBin' com params: {'method': 'binary', 'query': 'binary', 'norm': None, 'query_norm': None, 'ngram_range': [1, 2]}\n",
      "Model Factory (PVBin): Convertido ngram_range [1, 2] para tupla (1, 2)\n",
      "Fitting ProductVectorizerClassifier com 100 amostras...\n",
      "Fit concluído.\n",
      "Model Factory: Criando tipo 'PVBin' com params: {'method': 'binary', 'query': 'binary', 'norm': None, 'query_norm': None, 'ngram_range': [1, 2]}\n",
      "Model Factory (PVBin): Convertido ngram_range [1, 2] para tupla (1, 2)\n",
      "Fitting ProductVectorizerClassifier com 100 amostras...\n",
      "Fit concluído.\n",
      "    Novo melhor (Obj: minimize): Perf Real=0.0146\n",
      "    Acc Real Geração 37: Max=0.1978, Avg=0.1903, Min=0.1883\n",
      "    F1 Real Geração  37: Max=0.0164, Avg=0.0150, Min=0.0146\n",
      "    Duração Geração 37: 76.75s\n",
      "\n",
      "  Geração 38/100\n"
     ]
    },
    {
     "data": {
      "application/vnd.jupyter.widget-view+json": {
       "model_id": "7aa3d040e1d94f0e9ae61303abecedb2",
       "version_major": 2,
       "version_minor": 0
      },
      "text/plain": [
       "Fitness Calc Gen 38:   0%|          | 0/20 [00:00<?, ?it/s]"
      ]
     },
     "metadata": {},
     "output_type": "display_data"
    },
    {
     "name": "stdout",
     "output_type": "stream",
     "text": [
      "Model Factory: Criando tipo 'PVBin' com params: {'method': 'binary', 'query': 'binary', 'norm': None, 'query_norm': None, 'ngram_range': [1, 2]}\n",
      "Model Factory (PVBin): Convertido ngram_range [1, 2] para tupla (1, 2)\n",
      "Fitting ProductVectorizerClassifier com 100 amostras...\n",
      "Fit concluído.\n",
      "Model Factory: Criando tipo 'PVBin' com params: {'method': 'binary', 'query': 'binary', 'norm': None, 'query_norm': None, 'ngram_range': [1, 2]}\n",
      "Model Factory (PVBin): Convertido ngram_range [1, 2] para tupla (1, 2)\n",
      "Fitting ProductVectorizerClassifier com 100 amostras...\n",
      "Fit concluído.\n",
      "Model Factory: Criando tipo 'PVBin' com params: {'method': 'binary', 'query': 'binary', 'norm': None, 'query_norm': None, 'ngram_range': [1, 2]}\n",
      "Model Factory (PVBin): Convertido ngram_range [1, 2] para tupla (1, 2)\n",
      "Fitting ProductVectorizerClassifier com 100 amostras...\n",
      "Fit concluído.\n",
      "Model Factory: Criando tipo 'PVBin' com params: {'method': 'binary', 'query': 'binary', 'norm': None, 'query_norm': None, 'ngram_range': [1, 2]}\n",
      "Model Factory (PVBin): Convertido ngram_range [1, 2] para tupla (1, 2)\n",
      "Fitting ProductVectorizerClassifier com 100 amostras...\n",
      "Fit concluído.\n",
      "Model Factory: Criando tipo 'PVBin' com params: {'method': 'binary', 'query': 'binary', 'norm': None, 'query_norm': None, 'ngram_range': [1, 2]}\n",
      "Model Factory (PVBin): Convertido ngram_range [1, 2] para tupla (1, 2)\n",
      "Fitting ProductVectorizerClassifier com 100 amostras...\n",
      "Fit concluído.\n",
      "Model Factory: Criando tipo 'PVBin' com params: {'method': 'binary', 'query': 'binary', 'norm': None, 'query_norm': None, 'ngram_range': [1, 2]}\n",
      "Model Factory (PVBin): Convertido ngram_range [1, 2] para tupla (1, 2)\n",
      "Fitting ProductVectorizerClassifier com 100 amostras...\n",
      "Fit concluído.\n",
      "Model Factory: Criando tipo 'PVBin' com params: {'method': 'binary', 'query': 'binary', 'norm': None, 'query_norm': None, 'ngram_range': [1, 2]}\n",
      "Model Factory (PVBin): Convertido ngram_range [1, 2] para tupla (1, 2)\n",
      "Fitting ProductVectorizerClassifier com 100 amostras...\n",
      "Fit concluído.\n",
      "Model Factory: Criando tipo 'PVBin' com params: {'method': 'binary', 'query': 'binary', 'norm': None, 'query_norm': None, 'ngram_range': [1, 2]}\n",
      "Model Factory (PVBin): Convertido ngram_range [1, 2] para tupla (1, 2)\n",
      "Fitting ProductVectorizerClassifier com 100 amostras...\n",
      "Fit concluído.\n",
      "Model Factory: Criando tipo 'PVBin' com params: {'method': 'binary', 'query': 'binary', 'norm': None, 'query_norm': None, 'ngram_range': [1, 2]}\n",
      "Model Factory (PVBin): Convertido ngram_range [1, 2] para tupla (1, 2)\n",
      "Fitting ProductVectorizerClassifier com 100 amostras...\n",
      "Fit concluído.\n",
      "    Acc Real Geração 38: Max=0.1991, Avg=0.1904, Min=0.1829\n",
      "    F1 Real Geração  38: Max=0.0168, Avg=0.0151, Min=0.0146\n",
      "    Duração Geração 38: 34252.37s\n",
      "\n",
      "  Geração 39/100\n"
     ]
    },
    {
     "data": {
      "application/vnd.jupyter.widget-view+json": {
       "model_id": "8b465ea927aa4fab8aaad96069d0d21f",
       "version_major": 2,
       "version_minor": 0
      },
      "text/plain": [
       "Fitness Calc Gen 39:   0%|          | 0/20 [00:00<?, ?it/s]"
      ]
     },
     "metadata": {},
     "output_type": "display_data"
    },
    {
     "name": "stdout",
     "output_type": "stream",
     "text": [
      "Model Factory: Criando tipo 'PVBin' com params: {'method': 'binary', 'query': 'binary', 'norm': None, 'query_norm': None, 'ngram_range': [1, 2]}\n",
      "Model Factory (PVBin): Convertido ngram_range [1, 2] para tupla (1, 2)\n",
      "Fitting ProductVectorizerClassifier com 100 amostras...\n",
      "Fit concluído.\n",
      "Model Factory: Criando tipo 'PVBin' com params: {'method': 'binary', 'query': 'binary', 'norm': None, 'query_norm': None, 'ngram_range': [1, 2]}\n",
      "Model Factory (PVBin): Convertido ngram_range [1, 2] para tupla (1, 2)\n",
      "Fitting ProductVectorizerClassifier com 100 amostras...\n",
      "Fit concluído.\n",
      "Model Factory: Criando tipo 'PVBin' com params: {'method': 'binary', 'query': 'binary', 'norm': None, 'query_norm': None, 'ngram_range': [1, 2]}\n",
      "Model Factory (PVBin): Convertido ngram_range [1, 2] para tupla (1, 2)\n",
      "Fitting ProductVectorizerClassifier com 100 amostras...\n",
      "Fit concluído.\n",
      "Model Factory: Criando tipo 'PVBin' com params: {'method': 'binary', 'query': 'binary', 'norm': None, 'query_norm': None, 'ngram_range': [1, 2]}\n",
      "Model Factory (PVBin): Convertido ngram_range [1, 2] para tupla (1, 2)\n",
      "Fitting ProductVectorizerClassifier com 100 amostras...\n",
      "Fit concluído.\n",
      "Model Factory: Criando tipo 'PVBin' com params: {'method': 'binary', 'query': 'binary', 'norm': None, 'query_norm': None, 'ngram_range': [1, 2]}\n",
      "Model Factory (PVBin): Convertido ngram_range [1, 2] para tupla (1, 2)\n",
      "Fitting ProductVectorizerClassifier com 100 amostras...\n",
      "Fit concluído.\n",
      "    Novo melhor (Obj: minimize): Perf Real=0.0144\n",
      "    Acc Real Geração 39: Max=0.1930, Avg=0.1892, Min=0.1876\n",
      "    F1 Real Geração  39: Max=0.0156, Avg=0.0147, Min=0.0144\n",
      "    Duração Geração 39: 73.70s\n",
      "\n",
      "  Geração 40/100\n"
     ]
    },
    {
     "data": {
      "application/vnd.jupyter.widget-view+json": {
       "model_id": "4a929345a9be4a009fb55a65e1cd6d81",
       "version_major": 2,
       "version_minor": 0
      },
      "text/plain": [
       "Fitness Calc Gen 40:   0%|          | 0/20 [00:00<?, ?it/s]"
      ]
     },
     "metadata": {},
     "output_type": "display_data"
    },
    {
     "name": "stdout",
     "output_type": "stream",
     "text": [
      "Model Factory: Criando tipo 'PVBin' com params: {'method': 'binary', 'query': 'binary', 'norm': None, 'query_norm': None, 'ngram_range': [1, 2]}\n",
      "Model Factory (PVBin): Convertido ngram_range [1, 2] para tupla (1, 2)\n",
      "Fitting ProductVectorizerClassifier com 100 amostras...\n",
      "Fit concluído.\n",
      "Model Factory: Criando tipo 'PVBin' com params: {'method': 'binary', 'query': 'binary', 'norm': None, 'query_norm': None, 'ngram_range': [1, 2]}\n",
      "Model Factory (PVBin): Convertido ngram_range [1, 2] para tupla (1, 2)\n",
      "Fitting ProductVectorizerClassifier com 100 amostras...\n",
      "Fit concluído.\n",
      "Model Factory: Criando tipo 'PVBin' com params: {'method': 'binary', 'query': 'binary', 'norm': None, 'query_norm': None, 'ngram_range': [1, 2]}\n",
      "Model Factory (PVBin): Convertido ngram_range [1, 2] para tupla (1, 2)\n",
      "Fitting ProductVectorizerClassifier com 100 amostras...\n",
      "Fit concluído.\n",
      "Model Factory: Criando tipo 'PVBin' com params: {'method': 'binary', 'query': 'binary', 'norm': None, 'query_norm': None, 'ngram_range': [1, 2]}\n",
      "Model Factory (PVBin): Convertido ngram_range [1, 2] para tupla (1, 2)\n",
      "Fitting ProductVectorizerClassifier com 100 amostras...\n",
      "Fit concluído.\n",
      "Model Factory: Criando tipo 'PVBin' com params: {'method': 'binary', 'query': 'binary', 'norm': None, 'query_norm': None, 'ngram_range': [1, 2]}\n",
      "Model Factory (PVBin): Convertido ngram_range [1, 2] para tupla (1, 2)\n",
      "Fitting ProductVectorizerClassifier com 100 amostras...\n",
      "Fit concluído.\n",
      "    Novo melhor (Obj: minimize): Perf Real=0.0139\n",
      "    Acc Real Geração 40: Max=0.2013, Avg=0.1898, Min=0.1841\n",
      "    F1 Real Geração  40: Max=0.0164, Avg=0.0148, Min=0.0139\n",
      "    Duração Geração 40: 80.62s\n",
      "\n",
      "  Geração 41/100\n"
     ]
    },
    {
     "data": {
      "application/vnd.jupyter.widget-view+json": {
       "model_id": "ccf6e400b0f848d3876b2600b41c8b89",
       "version_major": 2,
       "version_minor": 0
      },
      "text/plain": [
       "Fitness Calc Gen 41:   0%|          | 0/20 [00:00<?, ?it/s]"
      ]
     },
     "metadata": {},
     "output_type": "display_data"
    },
    {
     "name": "stdout",
     "output_type": "stream",
     "text": [
      "Model Factory: Criando tipo 'PVBin' com params: {'method': 'binary', 'query': 'binary', 'norm': None, 'query_norm': None, 'ngram_range': [1, 2]}\n",
      "Model Factory (PVBin): Convertido ngram_range [1, 2] para tupla (1, 2)\n",
      "Fitting ProductVectorizerClassifier com 100 amostras...\n",
      "Fit concluído.\n"
     ]
    }
   ],
   "source": [
    "# %%\n",
    "# =============================================================================\n",
    "# Célula 4: Executar Otimizações (Maximizar e Minimizar para cada Métrica)\n",
    "# =============================================================================\n",
    "\n",
    "# Resultados das otimizações serão armazenados aqui\n",
    "optimization_results = {}\n",
    "\n",
    "# --- Otimizar para ACURÁCIA ---\n",
    "# Maximizar Acurácia\n",
    "res_acc_max = run_and_save_optimization(df_full_ag, 'maximize', 'accuracy_on_full', seed_offset=0)\n",
    "optimization_results['ACC_MAX'] = {'indices': res_acc_max[0], 'performance': res_acc_max[1], 'history': res_acc_max[2]}\n",
    "print(optimization_results)\n",
    "# Minimizar Acurácia\n",
    "res_acc_min = run_and_save_optimization(df_full_ag, 'minimize', 'accuracy_on_full', seed_offset=100) # Seed diferente\n",
    "optimization_results['ACC_MIN'] = {'indices': res_acc_min[0], 'performance': res_acc_min[1], 'history': res_acc_min[2]}\n",
    "\n",
    "\n",
    "# --- Otimizar para F1-SCORE ---\n",
    "# Maximizar F1-Score\n",
    "res_f1_max = run_and_save_optimization(df_full_ag, 'maximize', 'f1_macro_on_full', seed_offset=200)\n",
    "optimization_results['F1_MAX'] = {'indices': res_f1_max[0], 'performance': res_f1_max[1], 'history': res_f1_max[2]}\n",
    "print(optimization_results)\n",
    "# Minimizar F1-Score\n",
    "res_f1_min = run_and_save_optimization(df_full_ag, 'minimize', 'f1_macro_on_full', seed_offset=300)\n",
    "optimization_results['F1_MIN'] = {'indices': res_f1_min[0], 'performance': res_f1_min[1], 'history': res_f1_min[2]}\n",
    "\n",
    "print(\"\\n--- Todas as Otimizações Concluídas ---\")"
   ]
  },
  {
   "cell_type": "code",
   "execution_count": null,
   "id": "eab62654",
   "metadata": {},
   "outputs": [],
   "source": [
    "# %%\n",
    "# =============================================================================\n",
    "# Célula 5: Plotar Evolução do Fitness de Todas as Otimizações\n",
    "# =============================================================================\n",
    "print(\"\\n--- Plotando Evolução do Fitness (AG) para Todas as Otimizações ---\")\n",
    "\n",
    "# Configurar o backend de plotagem (se não estiver configurado na Célula 1)\n",
    "# %matplotlib inline # Se estiver rodando em Jupyter Notebook / Lab\n",
    "# ou\n",
    "# %matplotlib notebook # Se quiser gráficos interativos (pode precisar instalar widgets)\n",
    "\n",
    "\n",
    "num_optimizations = len(optimization_results)\n",
    "if num_optimizations > 0:\n",
    "    # Verificar se há pelo menos um histórico válido para plotar\n",
    "    has_valid_history = any(result.get('history') is not None and not result['history'].empty for result in optimization_results.values())\n",
    "\n",
    "    if has_valid_history:\n",
    "        # Determinar o número de linhas e colunas para os subplots (2x2 para Acc/F1 vs Max/Min)\n",
    "        fig, axes = plt.subplots(2, 2, figsize=(18, 10), sharey=False) # 2x2 grid\n",
    "        axes_flat = axes.flatten() # Para facilitar a iteração\n",
    "        plot_idx = 0 # Índice para percorrer os eixos\n",
    "\n",
    "        # Iterar sobre os resultados das otimizações\n",
    "        for key, result in optimization_results.items():\n",
    "            history_df = result.get('history') # Usar .get() para segurança\n",
    "            goal = \"Maximizar\" if \"MAX\" in key else \"Minimizar\"\n",
    "            metric_base_name = \"Acurácia\" if \"ACC\" in key else \"F1-Macro\"\n",
    "            title = f\"AG {goal} {metric_base_name}\\nL0 Tam: {L0_SIZE_TO_OPTIMIZE}\"\n",
    "\n",
    "\n",
    "            # --- VERIFICAR SE HÁ DADOS VÁLIDOS PARA ESTE PLOT ESPECÍFICO ---\n",
    "            plot_this_one = False\n",
    "            if history_df is not None and not history_df.empty:\n",
    "                 # Verificar se as colunas de plotagem existem e contêm pelo menos um valor não-NaN/inf\n",
    "                 cols_to_check = []\n",
    "                 if \"ACC\" in key: cols_to_check = ['max_acc', 'avg_acc', 'min_acc']\n",
    "                 elif \"F1\" in key: cols_to_check = ['max_f1', 'avg_f1', 'min_f1']\n",
    "\n",
    "                 if all(col in history_df.columns for col in cols_to_check):\n",
    "                      # Verifica se alguma linha tem dados válidos em qualquer uma das colunas relevantes\n",
    "                      if not history_df[cols_to_check].dropna(how='all').empty:\n",
    "                           plot_this_one = True\n",
    "                      else:\n",
    "                           print(f\"AVISO Plot: Dados de histórico para '{key}' existem, mas todas as colunas de plotagem estão vazias/NaN/Inf.\")\n",
    "                 else:\n",
    "                      print(f\"AVISO Plot: Colunas de plotagem {cols_to_check} ausentes no histórico para '{key}'.\")\n",
    "\n",
    "\n",
    "            # --- REALIZAR A PLOTAGEM SE HOUVER DADOS ---\n",
    "            if plot_this_one and plot_idx < len(axes_flat):\n",
    "                ax = axes_flat[plot_idx]\n",
    "\n",
    "                if \"ACC\" in key:\n",
    "                    ax.plot(history_df['generation'], history_df['max_acc'], label='Max Acc (Real)')\n",
    "                    ax.plot(history_df['generation'], history_df['avg_acc'], label='Avg Acc (Real)')\n",
    "                    ax.plot(history_df['generation'], history_df['min_acc'], label='Min Acc (Real)', linestyle='--')\n",
    "                    ax.set_ylabel(f'Acurácia (Real)')\n",
    "                elif \"F1\" in key:\n",
    "                    ax.plot(history_df['generation'], history_df['max_f1'], label='Max F1 (Real)')\n",
    "                    ax.plot(history_df['generation'], history_df['avg_f1'], label='Avg F1 (Real)')\n",
    "                    ax.plot(history_df['generation'], history_df['min_f1'], label='Min F1 (Real)', linestyle='--')\n",
    "                    ax.set_ylabel(f'F1-Macro (Real)')\n",
    "\n",
    "                ax.set_xlabel('Geração')\n",
    "                ax.set_title(title)\n",
    "                ax.legend()\n",
    "                ax.grid(True)\n",
    "                plot_idx += 1\n",
    "            # --- Adicionar placeholder nos eixos se não houver dados ---\n",
    "            elif plot_idx < len(axes_flat):\n",
    "                 ax = axes_flat[plot_idx]\n",
    "                 ax.set_title(f\"{title}\\n(Sem Dados Válidos para Plotar)\")\n",
    "                 ax.text(0.5, 0.5, \"Verificar logs detalhados/erros.\", ha='center', va='center', wrap=True)\n",
    "                 ax.set_xlabel('Geração') # Manter labels do eixo\n",
    "                 ax.set_ylabel(f'{metric_base_name} (Real)')\n",
    "                 ax.grid(True) # Manter grid\n",
    "                 plot_idx += 1\n",
    "\n",
    "\n",
    "        # Remover eixos não utilizados (se menos de 4 plots foram feitos)\n",
    "        for i in range(plot_idx, len(axes_flat)):\n",
    "            fig.delaxes(axes_flat[i])\n",
    "\n",
    "        # Ajustar layout e mostrar figura\n",
    "        fig.suptitle(f'Evolução do Fitness - L0 Tamanho {L0_SIZE_TO_OPTIMIZE} - Classificador: {CLASSIFIER_CONFIG_AG[\"type\"]}', fontsize=16, y=1.02)\n",
    "        plt.tight_layout(rect=[0, 0, 1, 0.98]) # Ajustar para o super título\n",
    "        plt.show() # Forçar a exibição\n",
    "\n",
    "    else:\n",
    "        print(\"Nenhum resultado de otimização válido (status 'COMPLETED' com history_data) encontrado para plotar.\")\n",
    "\n",
    "else:\n",
    "    print(\"\\nDataFrame 'optimization_results' vazio. Nenhuma otimização foi executada.\")"
   ]
  },
  {
   "cell_type": "code",
   "execution_count": null,
   "id": "c334f717",
   "metadata": {},
   "outputs": [
    {
     "data": {
      "text/plain": [
       "{'ACC_MAX': {'indices': array([185856, 182403, 229129, 217098, 198927, 223761, 244377, 149274,\n",
       "         125979, 185754,  38299, 204317,   6687, 237984,  48420, 240549,\n",
       "          73896,  38955,  96043, 101803, 179117, 209454, 229677,  72370,\n",
       "         103474,   8119,  71735, 236473, 189369, 104379, 208324,  92234,\n",
       "         236490, 204749,  39631,  95313, 139217, 138451, 130006, 185818,\n",
       "         106743,  79197,  67933,  36588,  65015, 226426, 189692,   8317,\n",
       "         237823,  84343], dtype=int64),\n",
       "  'performance': 0.3176562219160026,\n",
       "  'history':     generation   max_acc   avg_acc   min_acc    max_f1    avg_f1    min_f1  \\\n",
       "  0            1  0.216795  0.174488  0.107882  0.021796  0.017756  0.013497   \n",
       "  1            2  0.224544  0.197702  0.166553  0.021796  0.018034  0.015705   \n",
       "  2            3  0.226250  0.212865  0.194891  0.021185  0.018713  0.016107   \n",
       "  3            4  0.231889  0.210617  0.176510  0.021092  0.018393  0.014689   \n",
       "  4            5  0.231889  0.218476  0.203970  0.021174  0.019031  0.014900   \n",
       "  ..         ...       ...       ...       ...       ...       ...       ...   \n",
       "  95          96  0.314900  0.311898  0.299495  0.026010  0.025143  0.023484   \n",
       "  96          97  0.314900  0.311569  0.293755  0.025861  0.025407  0.024247   \n",
       "  97          98  0.317061  0.314881  0.312588  0.026990  0.025924  0.025272   \n",
       "  98          99  0.317656  0.315236  0.314225  0.026641  0.026023  0.025861   \n",
       "  99         100  0.317656  0.313357  0.302702  0.027038  0.026058  0.024669   \n",
       "  \n",
       "      generation_time_sec  \n",
       "  0            184.107128  \n",
       "  1            151.226549  \n",
       "  2             86.192087  \n",
       "  3             93.239984  \n",
       "  4             49.689374  \n",
       "  ..                  ...  \n",
       "  95            25.081829  \n",
       "  96            25.788563  \n",
       "  97            15.561652  \n",
       "  98            16.723262  \n",
       "  99            36.860885  \n",
       "  \n",
       "  [100 rows x 8 columns]},\n",
       " 'ACC_MIN': {'indices': array([188039, 157448, 104969, 151180,  18065, 246035,    281,  34330,\n",
       "         124825,  73884, 150429, 120223, 155810,  49447, 189480,   9770,\n",
       "         125738, 145962,   7469,  71726,  70447, 214064, 149052, 123965,\n",
       "         192061,  74817,  96706, 189387,  33233,  56402,  99027, 196059,\n",
       "         171483, 168540, 232158,  99680, 140520,  54122, 116715, 200303,\n",
       "         155504, 148080,    627, 243829, 153334, 185336, 216569, 171770,\n",
       "         128637,    657], dtype=int64),\n",
       "  'performance': 0.03984981926387474,\n",
       "  'history':     generation   max_acc   avg_acc   min_acc    max_f1    avg_f1    min_f1  \\\n",
       "  0            1  0.207441  0.185765  0.153871  0.020727  0.017853  0.015300   \n",
       "  1            2  0.200799  0.169380  0.140834  0.020472  0.016466  0.014399   \n",
       "  2            3  0.190282  0.155114  0.126276  0.019330  0.015486  0.011901   \n",
       "  3            4  0.185349  0.144583  0.122329  0.018345  0.015093  0.011901   \n",
       "  4            5  0.149582  0.133822  0.114501  0.016961  0.014542  0.011590   \n",
       "  ..         ...       ...       ...       ...       ...       ...       ...   \n",
       "  95          96  0.044112  0.040252  0.039850  0.008539  0.007350  0.007281   \n",
       "  96          97  0.041232  0.039919  0.039850  0.007878  0.007311  0.007281   \n",
       "  97          98  0.049907  0.040954  0.039850  0.008351  0.007397  0.007281   \n",
       "  98          99  0.044339  0.040074  0.039850  0.007860  0.007310  0.007281   \n",
       "  99         100  0.044303  0.040174  0.039850  0.007796  0.007317  0.007281   \n",
       "  \n",
       "      generation_time_sec  \n",
       "  0            102.252875  \n",
       "  1             76.724872  \n",
       "  2             57.408805  \n",
       "  3             70.805315  \n",
       "  4            100.835827  \n",
       "  ..                  ...  \n",
       "  95            10.511611  \n",
       "  96             5.306890  \n",
       "  97            15.723748  \n",
       "  98             0.417794  \n",
       "  99            10.779712  \n",
       "  \n",
       "  [100 rows x 8 columns]},\n",
       " 'F1_MAX': {'indices': array([ 20864, 207624, 201608, 232969, 194571,  57230, 149519,  45074,\n",
       "           8211, 198166,  46365,  57379,  87076, 221993, 203309, 207793,\n",
       "         151095,  53561, 192447, 249025, 148931, 247748,  31045, 214727,\n",
       "          78920, 190927, 250324,  46805, 107734, 209495, 213592, 179931,\n",
       "         233948, 114267, 186206,  13407,   1632, 126305, 121561, 139747,\n",
       "          42847,  92646, 220644, 114412,  99956, 224116,  89332, 124662,\n",
       "         220024, 155514], dtype=int64),\n",
       "  'performance': 0.03546872069696781,\n",
       "  'history':     generation   max_acc   avg_acc   min_acc    max_f1    avg_f1    min_f1  \\\n",
       "  0            1  0.216224  0.178063  0.136708  0.020991  0.017511  0.012722   \n",
       "  1            2  0.216728  0.187024  0.153260  0.021570  0.018879  0.016490   \n",
       "  2            3  0.216728  0.188835  0.161444  0.022547  0.020121  0.017401   \n",
       "  3            4  0.216728  0.195887  0.184179  0.022875  0.021485  0.020147   \n",
       "  4            5  0.227025  0.196439  0.177996  0.023353  0.022189  0.020224   \n",
       "  ..         ...       ...       ...       ...       ...       ...       ...   \n",
       "  95          96  0.257376  0.257155  0.252951  0.035371  0.035348  0.034912   \n",
       "  96          97  0.257376  0.257376  0.257376  0.035371  0.035371  0.035371   \n",
       "  97          98  0.257376  0.253711  0.215238  0.035371  0.035042  0.033391   \n",
       "  98          99  0.257376  0.256473  0.246145  0.035371  0.035189  0.033532   \n",
       "  99         100  0.257376  0.255634  0.240796  0.035469  0.035124  0.033662   \n",
       "  \n",
       "      generation_time_sec  \n",
       "  0            104.631169  \n",
       "  1             82.717270  \n",
       "  2             72.319349  \n",
       "  3             36.582797  \n",
       "  4             70.426402  \n",
       "  ..                  ...  \n",
       "  95             6.015653  \n",
       "  96             0.262573  \n",
       "  97            29.414956  \n",
       "  98            12.813313  \n",
       "  99            27.311388  \n",
       "  \n",
       "  [100 rows x 8 columns]}}"
      ]
     },
     "execution_count": 7,
     "metadata": {},
     "output_type": "execute_result"
    }
   ],
   "source": [
    "optimization_results"
   ]
  },
  {
   "cell_type": "code",
   "execution_count": null,
   "id": "a75619de",
   "metadata": {},
   "outputs": [],
   "source": []
  }
 ],
 "metadata": {
  "kernelspec": {
   "display_name": ".venv",
   "language": "python",
   "name": "python3"
  },
  "language_info": {
   "codemirror_mode": {
    "name": "ipython",
    "version": 3
   },
   "file_extension": ".py",
   "mimetype": "text/x-python",
   "name": "python",
   "nbconvert_exporter": "python",
   "pygments_lexer": "ipython3",
   "version": "3.11.0"
  }
 },
 "nbformat": 4,
 "nbformat_minor": 5
}
