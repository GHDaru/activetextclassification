{
 "cells": [
  {
   "cell_type": "code",
   "execution_count": 11,
   "id": "ec39d8a5",
   "metadata": {},
   "outputs": [
    {
     "name": "stdout",
     "output_type": "stream",
     "text": [
      "Módulos da biblioteca activetextclassification importados.\n",
      "Experimento de Otimização de L0 com AG\n",
      "Resultados serão salvos em: d:\\Nuvem\\ghdaru\\OneDrive\\030_DOUTORADO\\120_TESE\\130_TESEGIT\\activetextclassification\\examples\\ag_optimization_results_L0_100\n"
     ]
    }
   ],
   "source": [
    "# %%\n",
    "# =============================================================================\n",
    "# Célula 1: Imports e Configurações Globais\n",
    "# =============================================================================\n",
    "import pandas as pd\n",
    "import numpy as np\n",
    "import time\n",
    "import os\n",
    "import matplotlib.pyplot as plt\n",
    "import seaborn as sns\n",
    "import json\n",
    "import traceback\n",
    "import glob # Para encontrar arquivos de log\n",
    "\n",
    "# --- Imports da Biblioteca ---\n",
    "try:\n",
    "    from activetextclassification.data_preparation import load_and_prepare_data\n",
    "    from activetextclassification.models import get_model # BaseTextClassifier, BaseFeatureClassifier não são mais usados diretamente aqui\n",
    "    from activetextclassification.embeddings import get_embedder # BaseEmbedder\n",
    "    from activetextclassification.optimization.genetic_l0_optimizer import GeneticL0Optimizer\n",
    "    from activetextclassification.utils import preprocess_label\n",
    "    # --- NOVO IMPORT DE VISUALIZAÇÃO ---\n",
    "    from activetextclassification.visualization.ag_plots import (\n",
    "        plot_ag_convergence,\n",
    "        plot_ag_population_evolution_boxplots,\n",
    "        plot_ag_time_stats\n",
    "    )\n",
    "    print(\"Módulos da biblioteca activetextclassification importados.\")\n",
    "except Exception as e: \n",
    "    print(f\"ERRO ao importar biblioteca: {e}\") \n",
    "    raise e\n",
    "\n",
    "# --- Autoreload ---\n",
    "try: \n",
    "    %load_ext autoreload; \n",
    "    %autoreload 2; \n",
    "    print(\"Autoreload ativado.\")\n",
    "except Exception: pass\n",
    "\n",
    "# --- Parâmetros do Experimento de Otimização ---\n",
    "# <<< MUDE AQUI CONFORME NECESSÁRIO >>>\n",
    "DATA_FILE = r'../data/dataset.csv'\n",
    "TEXT_COLUMN = 'nm_item'\n",
    "LABEL_COLUMN = 'nm_product'\n",
    "MIN_SAMPLES_PREPROC = 5\n",
    "RARE_LABEL_PREPROC = \"_RARE_\"\n",
    "CLASSIFIER_CONFIG_AG = {\n",
    "    'type': 'PVBin',\n",
    "    'params': {'method':'binary', 'query':'binary', 'norm':None, 'query_norm':None, 'ngram_range': [1,2]}\n",
    "}\n",
    "GLOBAL_EMBEDDER_CONFIG_AG = None\n",
    "L0_SIZE_TO_OPTIMIZE = 100 # Teste com tamanho pequeno\n",
    "POPULATION_SIZE_AG = 10   # População pequena para teste\n",
    "N_GENERATIONS_AG = 5    # Poucas gerações para teste\n",
    "CROSSOVER_RATE_AG = 0.8\n",
    "MUTATION_RATE_AG = 0.2\n",
    "MUTATION_STRENGTH_AG = 1 # Mutar 1 gene\n",
    "ELITISM_RATE_AG = 0.1\n",
    "TOURNAMENT_SIZE_AG = 3\n",
    "LOG_DETAILED_FITNESS_AG = True # Ativar log detalhado\n",
    "\n",
    "# Nomes base para arquivos de saída (serão sufixados)\n",
    "OPTIMIZATION_DIR = f\"ag_optimization_results_L0_{L0_SIZE_TO_OPTIMIZE}\" # Diretório para organizar\n",
    "os.makedirs(OPTIMIZATION_DIR, exist_ok=True) # Criar diretório\n",
    "\n",
    "OPTIMIZATION_HISTORY_BASE_FILE = os.path.join(OPTIMIZATION_DIR, f\"ag_history\")\n",
    "BEST_L0_BASE_FILE = os.path.join(OPTIMIZATION_DIR, f\"ag_best_l0\")\n",
    "DETAILED_FITNESS_LOG_BASE_FILE = os.path.join(OPTIMIZATION_DIR, f\"ag_detailed_fitness\")\n",
    "# <<< FIM MUDE AQUI >>>\n",
    "\n",
    "print(f\"Experimento de Otimização de L0 com AG\") # ... (outros prints de config)\n",
    "print(f\"Resultados serão salvos em: {os.path.abspath(OPTIMIZATION_DIR)}\")\n",
    "\n",
    "#"
   ]
  },
  {
   "cell_type": "code",
   "execution_count": 12,
   "id": "a0429871",
   "metadata": {},
   "outputs": [
    {
     "name": "stdout",
     "output_type": "stream",
     "text": [
      "\n",
      "--- Carregando e Preparando Dataset Completo para AG ---\n",
      "--- Iniciando Preparação de Dados ---\n",
      "Carregando dados de: ../data/dataset.csv\n",
      "Shape inicial: (250365, 2)\n",
      "Shape após remover NaNs: (250365, 2) (0 linhas removidas)\n",
      "Pré-processando rótulos...\n",
      "Verificando classes com menos de 5 amostras...\n",
      "Agrupando 174 classes raras em '_RARE_': ['soquete', 'jabuticaba', 'jogo de carta', 'farinha sem gluten', 'escada', 'maria mole', 'impressora', 'analgesico veterinario', 'estojo', 'quadro']...\n",
      "Distribuição de classes após agrupamento:\n",
      "nm_product\n",
      "biscoito                                 14292\n",
      "iogurte                                   7520\n",
      "chocolate                                 6732\n",
      "padaria e confeitaria industrializado     6046\n",
      "aperitivo                                 5186\n",
      "Name: count, dtype: int64\n",
      "Mapeamento de rótulos finalizado: 622 classes (incluindo '_RARE_' se criado).\n",
      "Dividindo em População (P = 99%) e Pool (U)...\n",
      "Tamanho População P: 247861\n",
      "Tamanho Pool U inicial: 2504\n",
      "--- Preparação de Dados Concluída ---\n",
      "Dataset AG preparado: 250365 amostras.\n"
     ]
    }
   ],
   "source": [
    "# =============================================================================\n",
    "# Célula 2: Carregar Dados e Preparar Embedder Global (se necessário)\n",
    "# =============================================================================\n",
    "# ... (Código da Célula 2 como na sua última versão, carregando df_full_ag,\n",
    "#      all_possible_labels_ag, e preparando embedder_instance_ag se necessário) ...\n",
    "print(\"\\n--- Carregando e Preparando Dataset Completo para AG ---\")\n",
    "df_full_ag = None; all_possible_labels_ag = []; embedder_instance_ag = None\n",
    "try:\n",
    "    _, _, _, _, all_possible_labels_ag = load_and_prepare_data(file_path=DATA_FILE, text_column=TEXT_COLUMN, label_column=LABEL_COLUMN,min_samples_per_class=MIN_SAMPLES_PREPROC, rare_group_label=RARE_LABEL_PREPROC,population_size=0.99)\n",
    "    if not all_possible_labels_ag: raise ValueError(\"Labels não carregados.\")\n",
    "    file_ext_ag = os.path.splitext(DATA_FILE)[1].lower()\n",
    "    if file_ext_ag == '.csv': df_full_ag = pd.read_csv(DATA_FILE)\n",
    "    elif file_ext_ag in ['.xlsx', '.xls']: df_full_ag = pd.read_excel(DATA_FILE)\n",
    "    df_full_ag.dropna(subset=[TEXT_COLUMN, LABEL_COLUMN], inplace=True)\n",
    "    df_full_ag[LABEL_COLUMN] = df_full_ag[LABEL_COLUMN].apply(preprocess_label).astype(str)\n",
    "    if MIN_SAMPLES_PREPROC > 1:\n",
    "        counts = df_full_ag[LABEL_COLUMN].value_counts(); rare = counts[counts < MIN_SAMPLES_PREPROC].index.tolist()\n",
    "        if rare: df_full_ag[LABEL_COLUMN] = df_full_ag[LABEL_COLUMN].replace(rare, RARE_LABEL_PREPROC)\n",
    "    df_full_ag = df_full_ag[df_full_ag[LABEL_COLUMN].isin(all_possible_labels_ag)].copy().reset_index(drop=True)\n",
    "    if df_full_ag.empty or L0_SIZE_TO_OPTIMIZE > len(df_full_ag): raise ValueError(\"Dataset AG inválido ou L0 muito grande.\")\n",
    "    clf_type_ag = CLASSIFIER_CONFIG_AG.get('type')\n",
    "    if clf_type_ag in ['GNB', 'LSVC', 'LR', 'SGD'] and GLOBAL_EMBEDDER_CONFIG_AG:\n",
    "        embedder_instance_ag = get_embedder(GLOBAL_EMBEDDER_CONFIG_AG)\n",
    "        embedder_instance_ag.fit(df_full_ag[TEXT_COLUMN].tolist(), df_full_ag[LABEL_COLUMN].tolist())\n",
    "    elif clf_type_ag in ['GNB', 'LSVC', 'LR', 'SGD'] and not GLOBAL_EMBEDDER_CONFIG_AG: raise ValueError(\"Embedder config ausente.\")\n",
    "    print(f\"Dataset AG preparado: {len(df_full_ag)} amostras.\")\n",
    "except Exception as e: print(f\"ERRO dados AG: {e}\"); raise SystemExit(\"Falha dados AG.\")\n",
    "\n",
    "\n"
   ]
  },
  {
   "cell_type": "code",
   "execution_count": 13,
   "id": "1966bf9a",
   "metadata": {},
   "outputs": [],
   "source": [
    "# %%\n",
    "# =============================================================================\n",
    "# Célula 3: Função para Executar e Salvar Otimização (com checagem de existência)\n",
    "# =============================================================================\n",
    "\n",
    "def run_and_save_optimization_with_resume(\n",
    "    df_full, optimization_goal, fitness_metric_to_optimize, seed_offset=0, force_rerun=False\n",
    "):\n",
    "    \"\"\"\n",
    "    Executa o AG, salva resultados, e pula se o arquivo de histórico já existir (a menos que force_rerun).\n",
    "    \"\"\"\n",
    "    goal_suffix = f\"_{fitness_metric_to_optimize.split('_')[0].upper()}_{optimization_goal.upper()}\"\n",
    "    file_hist_check = f\"{OPTIMIZATION_HISTORY_BASE_FILE}{goal_suffix}.xlsx\"\n",
    "    file_best_l0_check = f\"{BEST_L0_BASE_FILE}{goal_suffix}.csv\"\n",
    "    detailed_log_check = f\"{DETAILED_FITNESS_LOG_BASE_FILE}{fitness_metric_to_optimize.split('_')[0].upper()}_{optimization_goal.upper()}.csv\"\n",
    "\n",
    "    # --- LÓGICA DE \"NÃO REFAZER\" ---\n",
    "    if os.path.exists(file_hist_check) and os.path.exists(file_best_l0_check) and not force_rerun:\n",
    "        print(f\"\\n{'='*10} Otimização para {goal_suffix} JÁ EXISTE. Pulando. {'='*10}\")\n",
    "        print(f\" - Histórico: {file_hist_check}\")\n",
    "        print(f\" - Melhor L0: {file_best_l0_check}\")\n",
    "        # Tentar carregar resultados existentes para retorno\n",
    "        try:\n",
    "            history_df = pd.read_excel(file_hist_check)\n",
    "            # Para best_l0_indices e best_actual_perf, precisaríamos de uma forma de recuperá-los\n",
    "            # do arquivo best_l0 ou de um log de sumário. Por simplicidade, retornamos None se pulado.\n",
    "            # Ou, se o CSV do melhor L0 tem a performance, podemos lê-la.\n",
    "            best_l0_df_saved = pd.read_csv(file_best_l0_check)\n",
    "            best_perf_saved = best_l0_df_saved['metric_value'].iloc[0] if not best_l0_df_saved.empty else np.nan\n",
    "            # Índices não são diretamente salvos, apenas o conteúdo.\n",
    "            # Poderíamos salvar os índices no CSV do melhor L0 se quisermos reconstruir.\n",
    "            # Por ora, retornaremos None para índices se pulado.\n",
    "            return None, best_perf_saved, history_df\n",
    "        except Exception as e_load:\n",
    "            print(f\"AVISO: Falha ao carregar resultados existentes para {goal_suffix}: {e_load}\")\n",
    "            return None, np.nan, pd.DataFrame()\n",
    "    # --- FIM \"NÃO REFAZER\" ---\n",
    "\n",
    "\n",
    "    print(f\"\\n{'='*15} Iniciando Otimização (L0Tam: {L0_SIZE_TO_OPTIMIZE}, Obj: {optimization_goal.upper()}, Métrica: {fitness_metric_to_optimize}) {'='*15}\")\n",
    "\n",
    "    ag_optimizer = GeneticL0Optimizer(\n",
    "        df_full=df_full, text_column=TEXT_COLUMN, label_column=LABEL_COLUMN,\n",
    "        classifier_config=CLASSIFIER_CONFIG_AG, initial_l0_size=L0_SIZE_TO_OPTIMIZE,\n",
    "        all_possible_labels=all_possible_labels_ag, population_size=POPULATION_SIZE_AG,\n",
    "        n_generations=N_GENERATIONS_AG, crossover_rate=CROSSOVER_RATE_AG,\n",
    "        mutation_rate=MUTATION_RATE_AG, mutation_strength=MUTATION_STRENGTH_AG,\n",
    "        elitism_rate=ELITISM_RATE_AG, fitness_metric=fitness_metric_to_optimize,\n",
    "        optimization_goal=optimization_goal, tournament_size=TOURNAMENT_SIZE_AG,\n",
    "        random_seed=42 + seed_offset, embedder=embedder_instance_ag,\n",
    "        log_detailed_fitness=LOG_DETAILED_FITNESS_AG, # Usar config global\n",
    "        detailed_log_file=detailed_log_check # Passar o nome do arquivo correto\n",
    "    )\n",
    "\n",
    "    best_l0_indices, best_actual_perf, history_df = ag_optimizer.run_optimization()\n",
    "\n",
    "    # Salvar Histórico\n",
    "    if history_df is not None and not history_df.empty:\n",
    "        print(f\"Salvando histórico ({goal_suffix}) em: {file_hist_check}\")\n",
    "        try: history_df.to_excel(file_hist_check, index=False)\n",
    "        except Exception as e: print(f\"Erro salvar histórico AG ({goal_suffix}): {e}\")\n",
    "    else: print(f\"Nenhum histórico de otimização para salvar ({goal_suffix}).\")\n",
    "\n",
    "    # Salvar Melhor/Pior L0\n",
    "    if best_l0_indices is not None and len(best_l0_indices) > 0:\n",
    "        print(f\"Salvando L0 (Obj: {optimization_goal}, Perf: {best_actual_perf:.4f}) em: {file_best_l0_check}\")\n",
    "        best_l0_df = df_full.iloc[best_l0_indices][[TEXT_COLUMN, LABEL_COLUMN]].copy()\n",
    "        best_l0_df['metric_value'] = best_actual_perf\n",
    "        best_l0_df['metric_type'] = fitness_metric_to_optimize\n",
    "        best_l0_df['optimization_goal'] = optimization_goal\n",
    "        best_l0_df['l0_indices_str'] = \",\".join(map(str, best_l0_indices)) # Salvar os índices também\n",
    "        try: best_l0_df.to_csv(file_best_l0_check, index=False, encoding='utf-8-sig')\n",
    "        except Exception as e: print(f\"Erro salvar L0 ({goal_suffix}): {e}\")\n",
    "    else: print(f\"Nenhum L0 encontrado (Obj: {optimization_goal}, {goal_suffix}).\")\n",
    "\n",
    "    return best_l0_indices, best_actual_perf, history_df\n",
    "\n"
   ]
  },
  {
   "cell_type": "code",
   "execution_count": null,
   "id": "d9251073",
   "metadata": {},
   "outputs": [
    {
     "name": "stdout",
     "output_type": "stream",
     "text": [
      "\n",
      "=============== Iniciando Otimização (L0Tam: 100, Obj: MAXIMIZE, Métrica: accuracy_on_full) ===============\n",
      "GeneticL0Optimizer inicializado.\n",
      " - População: 10, Gerações: 5, L0 Size: 100\n",
      " - Objetivo: maximize, Métrica: accuracy_on_full\n",
      " - Log Detalhado ATIVADO em: d:\\Nuvem\\ghdaru\\OneDrive\\030_DOUTORADO\\120_TESE\\130_TESEGIT\\activetextclassification\\examples\\ag_optimization_results_L0_100\\ag_detailed_fitnessACCURACY_MAXIMIZE.csv\n",
      "\n",
      "--- Iniciando Otimização Genética (Tam: 100, Obj: maximize, Métrica: accuracy_on_full) ---\n",
      "Inicializando população...\n"
     ]
    },
    {
     "data": {
      "application/vnd.jupyter.widget-view+json": {
       "model_id": "8d357f74519647ccafce849f18e74e8e",
       "version_major": 2,
       "version_minor": 0
      },
      "text/plain": [
       "Criando População Inicial:   0%|          | 0/10 [00:00<?, ?it/s]"
      ]
     },
     "metadata": {},
     "output_type": "display_data"
    },
    {
     "data": {
      "application/vnd.jupyter.widget-view+json": {
       "model_id": "a25305f94db54a2ba2ebad0fec41ed48",
       "version_major": 2,
       "version_minor": 0
      },
      "text/plain": [
       "Gerações AG:   0%|          | 0/5 [00:00<?, ?it/s]"
      ]
     },
     "metadata": {},
     "output_type": "display_data"
    },
    {
     "name": "stdout",
     "output_type": "stream",
     "text": [
      "\n",
      "  Geração 1/5\n"
     ]
    },
    {
     "data": {
      "application/vnd.jupyter.widget-view+json": {
       "model_id": "e2da34a5b3d54b8e8fc4d9357f75e2c8",
       "version_major": 2,
       "version_minor": 0
      },
      "text/plain": [
       "Fitness Calc Gen 1:   0%|          | 0/10 [00:00<?, ?it/s]"
      ]
     },
     "metadata": {},
     "output_type": "display_data"
    },
    {
     "name": "stdout",
     "output_type": "stream",
     "text": [
      "Model Factory: Criando tipo 'PVBin' com params: {'method': 'binary', 'query': 'binary', 'norm': None, 'query_norm': None, 'ngram_range': [1, 2]}\n",
      "Model Factory (PVBin): Convertido ngram_range [1, 2] para tupla (1, 2)\n",
      "Fitting ProductVectorizerClassifier com 100 amostras...\n",
      "Fit concluído.\n",
      "Model Factory: Criando tipo 'PVBin' com params: {'method': 'binary', 'query': 'binary', 'norm': None, 'query_norm': None, 'ngram_range': [1, 2]}\n",
      "Model Factory (PVBin): Convertido ngram_range [1, 2] para tupla (1, 2)\n",
      "Fitting ProductVectorizerClassifier com 100 amostras...\n",
      "Fit concluído.\n",
      "Model Factory: Criando tipo 'PVBin' com params: {'method': 'binary', 'query': 'binary', 'norm': None, 'query_norm': None, 'ngram_range': [1, 2]}\n",
      "Model Factory (PVBin): Convertido ngram_range [1, 2] para tupla (1, 2)\n",
      "Fitting ProductVectorizerClassifier com 100 amostras...\n",
      "Fit concluído.\n",
      "Model Factory: Criando tipo 'PVBin' com params: {'method': 'binary', 'query': 'binary', 'norm': None, 'query_norm': None, 'ngram_range': [1, 2]}\n",
      "Model Factory (PVBin): Convertido ngram_range [1, 2] para tupla (1, 2)\n",
      "Fitting ProductVectorizerClassifier com 100 amostras...\n",
      "Fit concluído.\n",
      "Model Factory: Criando tipo 'PVBin' com params: {'method': 'binary', 'query': 'binary', 'norm': None, 'query_norm': None, 'ngram_range': [1, 2]}\n",
      "Model Factory (PVBin): Convertido ngram_range [1, 2] para tupla (1, 2)\n",
      "Fitting ProductVectorizerClassifier com 100 amostras...\n",
      "Fit concluído.\n",
      "Model Factory: Criando tipo 'PVBin' com params: {'method': 'binary', 'query': 'binary', 'norm': None, 'query_norm': None, 'ngram_range': [1, 2]}\n",
      "Model Factory (PVBin): Convertido ngram_range [1, 2] para tupla (1, 2)\n",
      "Fitting ProductVectorizerClassifier com 100 amostras...\n",
      "Fit concluído.\n",
      "Model Factory: Criando tipo 'PVBin' com params: {'method': 'binary', 'query': 'binary', 'norm': None, 'query_norm': None, 'ngram_range': [1, 2]}\n",
      "Model Factory (PVBin): Convertido ngram_range [1, 2] para tupla (1, 2)\n",
      "Fitting ProductVectorizerClassifier com 100 amostras...\n",
      "Fit concluído.\n",
      "Model Factory: Criando tipo 'PVBin' com params: {'method': 'binary', 'query': 'binary', 'norm': None, 'query_norm': None, 'ngram_range': [1, 2]}\n",
      "Model Factory (PVBin): Convertido ngram_range [1, 2] para tupla (1, 2)\n",
      "Fitting ProductVectorizerClassifier com 100 amostras...\n",
      "Fit concluído.\n",
      "Model Factory: Criando tipo 'PVBin' com params: {'method': 'binary', 'query': 'binary', 'norm': None, 'query_norm': None, 'ngram_range': [1, 2]}\n",
      "Model Factory (PVBin): Convertido ngram_range [1, 2] para tupla (1, 2)\n",
      "Fitting ProductVectorizerClassifier com 100 amostras...\n",
      "Fit concluído.\n",
      "Model Factory: Criando tipo 'PVBin' com params: {'method': 'binary', 'query': 'binary', 'norm': None, 'query_norm': None, 'ngram_range': [1, 2]}\n",
      "Model Factory (PVBin): Convertido ngram_range [1, 2] para tupla (1, 2)\n",
      "Fitting ProductVectorizerClassifier com 100 amostras...\n",
      "Fit concluído.\n",
      "    Novo melhor (Obj: maximize): Perf Real=0.2706\n",
      "    Acc Real Geração 1: Max=0.2706, Avg=0.2473, Min=0.2024\n",
      "    F1 Real Geração  1: Max=0.0414, Avg=0.0342, Min=0.0283\n",
      "    Duração Geração 1: 64.17s\n",
      "\n",
      "  Geração 2/5\n"
     ]
    },
    {
     "data": {
      "application/vnd.jupyter.widget-view+json": {
       "model_id": "2d31a3583b7a4e0a8292f28cd40e5504",
       "version_major": 2,
       "version_minor": 0
      },
      "text/plain": [
       "Fitness Calc Gen 2:   0%|          | 0/10 [00:00<?, ?it/s]"
      ]
     },
     "metadata": {},
     "output_type": "display_data"
    },
    {
     "name": "stdout",
     "output_type": "stream",
     "text": [
      "Model Factory: Criando tipo 'PVBin' com params: {'method': 'binary', 'query': 'binary', 'norm': None, 'query_norm': None, 'ngram_range': [1, 2]}\n",
      "Model Factory (PVBin): Convertido ngram_range [1, 2] para tupla (1, 2)\n",
      "Fitting ProductVectorizerClassifier com 100 amostras...\n",
      "Fit concluído.\n",
      "Model Factory: Criando tipo 'PVBin' com params: {'method': 'binary', 'query': 'binary', 'norm': None, 'query_norm': None, 'ngram_range': [1, 2]}\n",
      "Model Factory (PVBin): Convertido ngram_range [1, 2] para tupla (1, 2)\n",
      "Fitting ProductVectorizerClassifier com 100 amostras...\n",
      "Fit concluído.\n",
      "Model Factory: Criando tipo 'PVBin' com params: {'method': 'binary', 'query': 'binary', 'norm': None, 'query_norm': None, 'ngram_range': [1, 2]}\n",
      "Model Factory (PVBin): Convertido ngram_range [1, 2] para tupla (1, 2)\n",
      "Fitting ProductVectorizerClassifier com 100 amostras...\n",
      "Fit concluído.\n",
      "Model Factory: Criando tipo 'PVBin' com params: {'method': 'binary', 'query': 'binary', 'norm': None, 'query_norm': None, 'ngram_range': [1, 2]}\n",
      "Model Factory (PVBin): Convertido ngram_range [1, 2] para tupla (1, 2)\n",
      "Fitting ProductVectorizerClassifier com 100 amostras...\n",
      "Fit concluído.\n",
      "Model Factory: Criando tipo 'PVBin' com params: {'method': 'binary', 'query': 'binary', 'norm': None, 'query_norm': None, 'ngram_range': [1, 2]}\n",
      "Model Factory (PVBin): Convertido ngram_range [1, 2] para tupla (1, 2)\n",
      "Fitting ProductVectorizerClassifier com 100 amostras...\n",
      "Fit concluído.\n",
      "Model Factory: Criando tipo 'PVBin' com params: {'method': 'binary', 'query': 'binary', 'norm': None, 'query_norm': None, 'ngram_range': [1, 2]}\n",
      "Model Factory (PVBin): Convertido ngram_range [1, 2] para tupla (1, 2)\n",
      "Fitting ProductVectorizerClassifier com 100 amostras...\n",
      "Fit concluído.\n",
      "Model Factory: Criando tipo 'PVBin' com params: {'method': 'binary', 'query': 'binary', 'norm': None, 'query_norm': None, 'ngram_range': [1, 2]}\n",
      "Model Factory (PVBin): Convertido ngram_range [1, 2] para tupla (1, 2)\n",
      "Fitting ProductVectorizerClassifier com 100 amostras...\n",
      "Fit concluído.\n",
      "Model Factory: Criando tipo 'PVBin' com params: {'method': 'binary', 'query': 'binary', 'norm': None, 'query_norm': None, 'ngram_range': [1, 2]}\n",
      "Model Factory (PVBin): Convertido ngram_range [1, 2] para tupla (1, 2)\n",
      "Fitting ProductVectorizerClassifier com 100 amostras...\n",
      "Fit concluído.\n",
      "Model Factory: Criando tipo 'PVBin' com params: {'method': 'binary', 'query': 'binary', 'norm': None, 'query_norm': None, 'ngram_range': [1, 2]}\n",
      "Model Factory (PVBin): Convertido ngram_range [1, 2] para tupla (1, 2)\n",
      "Fitting ProductVectorizerClassifier com 100 amostras...\n",
      "Fit concluído.\n",
      "    Acc Real Geração 2: Max=0.2706, Avg=0.2583, Min=0.2373\n",
      "    F1 Real Geração  2: Max=0.0375, Avg=0.0345, Min=0.0330\n",
      "    Duração Geração 2: 57.43s\n",
      "\n",
      "  Geração 3/5\n"
     ]
    },
    {
     "data": {
      "application/vnd.jupyter.widget-view+json": {
       "model_id": "f36e43ed314c45a0a9c473f0a88b21ef",
       "version_major": 2,
       "version_minor": 0
      },
      "text/plain": [
       "Fitness Calc Gen 3:   0%|          | 0/10 [00:00<?, ?it/s]"
      ]
     },
     "metadata": {},
     "output_type": "display_data"
    },
    {
     "name": "stdout",
     "output_type": "stream",
     "text": [
      "Model Factory: Criando tipo 'PVBin' com params: {'method': 'binary', 'query': 'binary', 'norm': None, 'query_norm': None, 'ngram_range': [1, 2]}\n",
      "Model Factory (PVBin): Convertido ngram_range [1, 2] para tupla (1, 2)\n",
      "Fitting ProductVectorizerClassifier com 100 amostras...\n",
      "Fit concluído.\n",
      "Model Factory: Criando tipo 'PVBin' com params: {'method': 'binary', 'query': 'binary', 'norm': None, 'query_norm': None, 'ngram_range': [1, 2]}\n",
      "Model Factory (PVBin): Convertido ngram_range [1, 2] para tupla (1, 2)\n",
      "Fitting ProductVectorizerClassifier com 100 amostras...\n",
      "Fit concluído.\n",
      "Model Factory: Criando tipo 'PVBin' com params: {'method': 'binary', 'query': 'binary', 'norm': None, 'query_norm': None, 'ngram_range': [1, 2]}\n",
      "Model Factory (PVBin): Convertido ngram_range [1, 2] para tupla (1, 2)\n",
      "Fitting ProductVectorizerClassifier com 100 amostras...\n",
      "Fit concluído.\n",
      "Model Factory: Criando tipo 'PVBin' com params: {'method': 'binary', 'query': 'binary', 'norm': None, 'query_norm': None, 'ngram_range': [1, 2]}\n",
      "Model Factory (PVBin): Convertido ngram_range [1, 2] para tupla (1, 2)\n",
      "Fitting ProductVectorizerClassifier com 100 amostras...\n",
      "Fit concluído.\n",
      "Model Factory: Criando tipo 'PVBin' com params: {'method': 'binary', 'query': 'binary', 'norm': None, 'query_norm': None, 'ngram_range': [1, 2]}\n",
      "Model Factory (PVBin): Convertido ngram_range [1, 2] para tupla (1, 2)\n",
      "Fitting ProductVectorizerClassifier com 100 amostras...\n",
      "Fit concluído.\n",
      "    Acc Real Geração 3: Max=0.2706, Avg=0.2650, Min=0.2473\n",
      "    F1 Real Geração  3: Max=0.0375, Avg=0.0356, Min=0.0321\n",
      "    Duração Geração 3: 33.47s\n",
      "\n",
      "  Geração 4/5\n"
     ]
    },
    {
     "data": {
      "application/vnd.jupyter.widget-view+json": {
       "model_id": "1950b04e81cd4b99b01b2f1f6568428e",
       "version_major": 2,
       "version_minor": 0
      },
      "text/plain": [
       "Fitness Calc Gen 4:   0%|          | 0/10 [00:00<?, ?it/s]"
      ]
     },
     "metadata": {},
     "output_type": "display_data"
    },
    {
     "name": "stdout",
     "output_type": "stream",
     "text": [
      "Model Factory: Criando tipo 'PVBin' com params: {'method': 'binary', 'query': 'binary', 'norm': None, 'query_norm': None, 'ngram_range': [1, 2]}\n",
      "Model Factory (PVBin): Convertido ngram_range [1, 2] para tupla (1, 2)\n",
      "Fitting ProductVectorizerClassifier com 100 amostras...\n",
      "Fit concluído.\n",
      "Model Factory: Criando tipo 'PVBin' com params: {'method': 'binary', 'query': 'binary', 'norm': None, 'query_norm': None, 'ngram_range': [1, 2]}\n",
      "Model Factory (PVBin): Convertido ngram_range [1, 2] para tupla (1, 2)\n",
      "Fitting ProductVectorizerClassifier com 100 amostras...\n",
      "Fit concluído.\n",
      "Model Factory: Criando tipo 'PVBin' com params: {'method': 'binary', 'query': 'binary', 'norm': None, 'query_norm': None, 'ngram_range': [1, 2]}\n",
      "Model Factory (PVBin): Convertido ngram_range [1, 2] para tupla (1, 2)\n",
      "Fitting ProductVectorizerClassifier com 100 amostras...\n",
      "Fit concluído.\n",
      "Model Factory: Criando tipo 'PVBin' com params: {'method': 'binary', 'query': 'binary', 'norm': None, 'query_norm': None, 'ngram_range': [1, 2]}\n",
      "Model Factory (PVBin): Convertido ngram_range [1, 2] para tupla (1, 2)\n",
      "Fitting ProductVectorizerClassifier com 100 amostras...\n",
      "Fit concluído.\n",
      "Model Factory: Criando tipo 'PVBin' com params: {'method': 'binary', 'query': 'binary', 'norm': None, 'query_norm': None, 'ngram_range': [1, 2]}\n",
      "Model Factory (PVBin): Convertido ngram_range [1, 2] para tupla (1, 2)\n",
      "Fitting ProductVectorizerClassifier com 100 amostras...\n",
      "Fit concluído.\n",
      "Model Factory: Criando tipo 'PVBin' com params: {'method': 'binary', 'query': 'binary', 'norm': None, 'query_norm': None, 'ngram_range': [1, 2]}\n",
      "Model Factory (PVBin): Convertido ngram_range [1, 2] para tupla (1, 2)\n",
      "Fitting ProductVectorizerClassifier com 100 amostras...\n",
      "Fit concluído.\n",
      "Model Factory: Criando tipo 'PVBin' com params: {'method': 'binary', 'query': 'binary', 'norm': None, 'query_norm': None, 'ngram_range': [1, 2]}\n",
      "Model Factory (PVBin): Convertido ngram_range [1, 2] para tupla (1, 2)\n",
      "Fitting ProductVectorizerClassifier com 100 amostras...\n",
      "Fit concluído.\n",
      "    Novo melhor (Obj: maximize): Perf Real=0.2794\n",
      "    Acc Real Geração 4: Max=0.2794, Avg=0.2686, Min=0.2548\n",
      "    F1 Real Geração  4: Max=0.0374, Avg=0.0356, Min=0.0317\n",
      "    Duração Geração 4: 71.95s\n",
      "\n",
      "  Geração 5/5\n"
     ]
    },
    {
     "data": {
      "application/vnd.jupyter.widget-view+json": {
       "model_id": "c66e528b36304cd2b65d6a91cdac818c",
       "version_major": 2,
       "version_minor": 0
      },
      "text/plain": [
       "Fitness Calc Gen 5:   0%|          | 0/10 [00:00<?, ?it/s]"
      ]
     },
     "metadata": {},
     "output_type": "display_data"
    },
    {
     "name": "stdout",
     "output_type": "stream",
     "text": [
      "Model Factory: Criando tipo 'PVBin' com params: {'method': 'binary', 'query': 'binary', 'norm': None, 'query_norm': None, 'ngram_range': [1, 2]}\n",
      "Model Factory (PVBin): Convertido ngram_range [1, 2] para tupla (1, 2)\n",
      "Fitting ProductVectorizerClassifier com 100 amostras...\n",
      "Fit concluído.\n",
      "Model Factory: Criando tipo 'PVBin' com params: {'method': 'binary', 'query': 'binary', 'norm': None, 'query_norm': None, 'ngram_range': [1, 2]}\n",
      "Model Factory (PVBin): Convertido ngram_range [1, 2] para tupla (1, 2)\n",
      "Fitting ProductVectorizerClassifier com 100 amostras...\n",
      "Fit concluído.\n",
      "Model Factory: Criando tipo 'PVBin' com params: {'method': 'binary', 'query': 'binary', 'norm': None, 'query_norm': None, 'ngram_range': [1, 2]}\n",
      "Model Factory (PVBin): Convertido ngram_range [1, 2] para tupla (1, 2)\n",
      "Fitting ProductVectorizerClassifier com 100 amostras...\n",
      "Fit concluído.\n",
      "Model Factory: Criando tipo 'PVBin' com params: {'method': 'binary', 'query': 'binary', 'norm': None, 'query_norm': None, 'ngram_range': [1, 2]}\n",
      "Model Factory (PVBin): Convertido ngram_range [1, 2] para tupla (1, 2)\n",
      "Fitting ProductVectorizerClassifier com 100 amostras...\n",
      "Fit concluído.\n",
      "Model Factory: Criando tipo 'PVBin' com params: {'method': 'binary', 'query': 'binary', 'norm': None, 'query_norm': None, 'ngram_range': [1, 2]}\n",
      "Model Factory (PVBin): Convertido ngram_range [1, 2] para tupla (1, 2)\n",
      "Fitting ProductVectorizerClassifier com 100 amostras...\n",
      "Fit concluído.\n",
      "Model Factory: Criando tipo 'PVBin' com params: {'method': 'binary', 'query': 'binary', 'norm': None, 'query_norm': None, 'ngram_range': [1, 2]}\n",
      "Model Factory (PVBin): Convertido ngram_range [1, 2] para tupla (1, 2)\n",
      "Fitting ProductVectorizerClassifier com 100 amostras...\n",
      "Fit concluído.\n",
      "Model Factory: Criando tipo 'PVBin' com params: {'method': 'binary', 'query': 'binary', 'norm': None, 'query_norm': None, 'ngram_range': [1, 2]}\n",
      "Model Factory (PVBin): Convertido ngram_range [1, 2] para tupla (1, 2)\n",
      "Fitting ProductVectorizerClassifier com 100 amostras...\n",
      "Fit concluído.\n",
      "Model Factory: Criando tipo 'PVBin' com params: {'method': 'binary', 'query': 'binary', 'norm': None, 'query_norm': None, 'ngram_range': [1, 2]}\n",
      "Model Factory (PVBin): Convertido ngram_range [1, 2] para tupla (1, 2)\n",
      "Fitting ProductVectorizerClassifier com 100 amostras...\n",
      "Fit concluído.\n",
      "    Novo melhor (Obj: maximize): Perf Real=0.2833\n",
      "    Acc Real Geração 5: Max=0.2833, Avg=0.2740, Min=0.2647\n",
      "    F1 Real Geração  5: Max=0.0364, Avg=0.0341, Min=0.0310\n",
      "    Duração Geração 5: 87.93s\n",
      "\n",
      "--- Otimização Genética Concluída (315.29 seg) ---\n",
      "Melhor Performance Real Encontrada (accuracy_on_full, Objetivo: maximize): 0.2833\n",
      "Salvando histórico (_ACCURACY_MAXIMIZE) em: ag_optimization_results_L0_100\\ag_history_ACCURACY_MAXIMIZE.xlsx\n",
      "Salvando L0 (Obj: maximize, Perf: 0.2833) em: ag_optimization_results_L0_100\\ag_best_l0_ACCURACY_MAXIMIZE.csv\n",
      "\n",
      "=============== Iniciando Otimização (L0Tam: 100, Obj: MINIMIZE, Métrica: accuracy_on_full) ===============\n",
      "GeneticL0Optimizer inicializado.\n",
      " - População: 10, Gerações: 5, L0 Size: 100\n",
      " - Objetivo: minimize, Métrica: accuracy_on_full\n",
      " - Log Detalhado ATIVADO em: d:\\Nuvem\\ghdaru\\OneDrive\\030_DOUTORADO\\120_TESE\\130_TESEGIT\\activetextclassification\\examples\\ag_optimization_results_L0_100\\ag_detailed_fitnessACCURACY_MINIMIZE.csv\n",
      "\n",
      "--- Iniciando Otimização Genética (Tam: 100, Obj: minimize, Métrica: accuracy_on_full) ---\n",
      "Inicializando população...\n"
     ]
    },
    {
     "data": {
      "application/vnd.jupyter.widget-view+json": {
       "model_id": "7671c916c7e54df396c7b80518748f24",
       "version_major": 2,
       "version_minor": 0
      },
      "text/plain": [
       "Criando População Inicial:   0%|          | 0/10 [00:00<?, ?it/s]"
      ]
     },
     "metadata": {},
     "output_type": "display_data"
    },
    {
     "data": {
      "application/vnd.jupyter.widget-view+json": {
       "model_id": "42518cc9f74a4430983c29f710d9f24a",
       "version_major": 2,
       "version_minor": 0
      },
      "text/plain": [
       "Gerações AG:   0%|          | 0/5 [00:00<?, ?it/s]"
      ]
     },
     "metadata": {},
     "output_type": "display_data"
    },
    {
     "name": "stdout",
     "output_type": "stream",
     "text": [
      "\n",
      "  Geração 1/5\n"
     ]
    },
    {
     "data": {
      "application/vnd.jupyter.widget-view+json": {
       "model_id": "5bf55ed862074bd68233b681183ddfd7",
       "version_major": 2,
       "version_minor": 0
      },
      "text/plain": [
       "Fitness Calc Gen 1:   0%|          | 0/10 [00:00<?, ?it/s]"
      ]
     },
     "metadata": {},
     "output_type": "display_data"
    },
    {
     "name": "stdout",
     "output_type": "stream",
     "text": [
      "Model Factory: Criando tipo 'PVBin' com params: {'method': 'binary', 'query': 'binary', 'norm': None, 'query_norm': None, 'ngram_range': [1, 2]}\n",
      "Model Factory (PVBin): Convertido ngram_range [1, 2] para tupla (1, 2)\n",
      "Fitting ProductVectorizerClassifier com 100 amostras...\n",
      "Fit concluído.\n",
      "Model Factory: Criando tipo 'PVBin' com params: {'method': 'binary', 'query': 'binary', 'norm': None, 'query_norm': None, 'ngram_range': [1, 2]}\n",
      "Model Factory (PVBin): Convertido ngram_range [1, 2] para tupla (1, 2)\n",
      "Fitting ProductVectorizerClassifier com 100 amostras...\n",
      "Fit concluído.\n",
      "Model Factory: Criando tipo 'PVBin' com params: {'method': 'binary', 'query': 'binary', 'norm': None, 'query_norm': None, 'ngram_range': [1, 2]}\n",
      "Model Factory (PVBin): Convertido ngram_range [1, 2] para tupla (1, 2)\n",
      "Fitting ProductVectorizerClassifier com 100 amostras...\n",
      "Fit concluído.\n",
      "Model Factory: Criando tipo 'PVBin' com params: {'method': 'binary', 'query': 'binary', 'norm': None, 'query_norm': None, 'ngram_range': [1, 2]}\n",
      "Model Factory (PVBin): Convertido ngram_range [1, 2] para tupla (1, 2)\n",
      "Fitting ProductVectorizerClassifier com 100 amostras...\n",
      "Fit concluído.\n",
      "Model Factory: Criando tipo 'PVBin' com params: {'method': 'binary', 'query': 'binary', 'norm': None, 'query_norm': None, 'ngram_range': [1, 2]}\n",
      "Model Factory (PVBin): Convertido ngram_range [1, 2] para tupla (1, 2)\n",
      "Fitting ProductVectorizerClassifier com 100 amostras...\n",
      "Fit concluído.\n",
      "Model Factory: Criando tipo 'PVBin' com params: {'method': 'binary', 'query': 'binary', 'norm': None, 'query_norm': None, 'ngram_range': [1, 2]}\n",
      "Model Factory (PVBin): Convertido ngram_range [1, 2] para tupla (1, 2)\n",
      "Fitting ProductVectorizerClassifier com 100 amostras...\n",
      "Fit concluído.\n",
      "Model Factory: Criando tipo 'PVBin' com params: {'method': 'binary', 'query': 'binary', 'norm': None, 'query_norm': None, 'ngram_range': [1, 2]}\n",
      "Model Factory (PVBin): Convertido ngram_range [1, 2] para tupla (1, 2)\n",
      "Fitting ProductVectorizerClassifier com 100 amostras...\n",
      "Fit concluído.\n",
      "Model Factory: Criando tipo 'PVBin' com params: {'method': 'binary', 'query': 'binary', 'norm': None, 'query_norm': None, 'ngram_range': [1, 2]}\n",
      "Model Factory (PVBin): Convertido ngram_range [1, 2] para tupla (1, 2)\n",
      "Fitting ProductVectorizerClassifier com 100 amostras...\n",
      "Fit concluído.\n",
      "Model Factory: Criando tipo 'PVBin' com params: {'method': 'binary', 'query': 'binary', 'norm': None, 'query_norm': None, 'ngram_range': [1, 2]}\n",
      "Model Factory (PVBin): Convertido ngram_range [1, 2] para tupla (1, 2)\n",
      "Fitting ProductVectorizerClassifier com 100 amostras...\n",
      "Fit concluído.\n",
      "Model Factory: Criando tipo 'PVBin' com params: {'method': 'binary', 'query': 'binary', 'norm': None, 'query_norm': None, 'ngram_range': [1, 2]}\n",
      "Model Factory (PVBin): Convertido ngram_range [1, 2] para tupla (1, 2)\n",
      "Fitting ProductVectorizerClassifier com 100 amostras...\n",
      "Fit concluído.\n",
      "    Novo melhor (Obj: minimize): Perf Real=0.2198\n",
      "    Acc Real Geração 1: Max=0.2620, Avg=0.2395, Min=0.2198\n",
      "    F1 Real Geração  1: Max=0.0379, Avg=0.0329, Min=0.0298\n",
      "    Duração Geração 1: 103.70s\n",
      "\n",
      "  Geração 2/5\n"
     ]
    },
    {
     "data": {
      "application/vnd.jupyter.widget-view+json": {
       "model_id": "cfb02446e1f84776a551728841f8642c",
       "version_major": 2,
       "version_minor": 0
      },
      "text/plain": [
       "Fitness Calc Gen 2:   0%|          | 0/10 [00:00<?, ?it/s]"
      ]
     },
     "metadata": {},
     "output_type": "display_data"
    },
    {
     "name": "stdout",
     "output_type": "stream",
     "text": [
      "Model Factory: Criando tipo 'PVBin' com params: {'method': 'binary', 'query': 'binary', 'norm': None, 'query_norm': None, 'ngram_range': [1, 2]}\n",
      "Model Factory (PVBin): Convertido ngram_range [1, 2] para tupla (1, 2)\n",
      "Fitting ProductVectorizerClassifier com 100 amostras...\n",
      "Fit concluído.\n",
      "Model Factory: Criando tipo 'PVBin' com params: {'method': 'binary', 'query': 'binary', 'norm': None, 'query_norm': None, 'ngram_range': [1, 2]}\n",
      "Model Factory (PVBin): Convertido ngram_range [1, 2] para tupla (1, 2)\n",
      "Fitting ProductVectorizerClassifier com 100 amostras...\n",
      "Fit concluído.\n",
      "Model Factory: Criando tipo 'PVBin' com params: {'method': 'binary', 'query': 'binary', 'norm': None, 'query_norm': None, 'ngram_range': [1, 2]}\n",
      "Model Factory (PVBin): Convertido ngram_range [1, 2] para tupla (1, 2)\n",
      "Fitting ProductVectorizerClassifier com 100 amostras...\n",
      "Fit concluído.\n",
      "Model Factory: Criando tipo 'PVBin' com params: {'method': 'binary', 'query': 'binary', 'norm': None, 'query_norm': None, 'ngram_range': [1, 2]}\n",
      "Model Factory (PVBin): Convertido ngram_range [1, 2] para tupla (1, 2)\n",
      "Fitting ProductVectorizerClassifier com 100 amostras...\n",
      "Fit concluído.\n",
      "Model Factory: Criando tipo 'PVBin' com params: {'method': 'binary', 'query': 'binary', 'norm': None, 'query_norm': None, 'ngram_range': [1, 2]}\n",
      "Model Factory (PVBin): Convertido ngram_range [1, 2] para tupla (1, 2)\n",
      "Fitting ProductVectorizerClassifier com 100 amostras...\n",
      "Fit concluído.\n",
      "Model Factory: Criando tipo 'PVBin' com params: {'method': 'binary', 'query': 'binary', 'norm': None, 'query_norm': None, 'ngram_range': [1, 2]}\n",
      "Model Factory (PVBin): Convertido ngram_range [1, 2] para tupla (1, 2)\n",
      "Fitting ProductVectorizerClassifier com 100 amostras...\n",
      "Fit concluído.\n",
      "Model Factory: Criando tipo 'PVBin' com params: {'method': 'binary', 'query': 'binary', 'norm': None, 'query_norm': None, 'ngram_range': [1, 2]}\n",
      "Model Factory (PVBin): Convertido ngram_range [1, 2] para tupla (1, 2)\n",
      "Fitting ProductVectorizerClassifier com 100 amostras...\n",
      "Fit concluído.\n",
      "Model Factory: Criando tipo 'PVBin' com params: {'method': 'binary', 'query': 'binary', 'norm': None, 'query_norm': None, 'ngram_range': [1, 2]}\n",
      "Model Factory (PVBin): Convertido ngram_range [1, 2] para tupla (1, 2)\n",
      "Fitting ProductVectorizerClassifier com 100 amostras...\n",
      "Fit concluído.\n",
      "Model Factory: Criando tipo 'PVBin' com params: {'method': 'binary', 'query': 'binary', 'norm': None, 'query_norm': None, 'ngram_range': [1, 2]}\n",
      "Model Factory (PVBin): Convertido ngram_range [1, 2] para tupla (1, 2)\n",
      "Fitting ProductVectorizerClassifier com 100 amostras...\n",
      "Fit concluído.\n",
      "    Novo melhor (Obj: minimize): Perf Real=0.2185\n",
      "    Acc Real Geração 2: Max=0.2530, Avg=0.2323, Min=0.2185\n",
      "    F1 Real Geração  2: Max=0.0344, Avg=0.0322, Min=0.0291\n",
      "    Duração Geração 2: 86.69s\n",
      "\n",
      "  Geração 3/5\n"
     ]
    },
    {
     "data": {
      "application/vnd.jupyter.widget-view+json": {
       "model_id": "397d65651464459ca7138e013a0764f6",
       "version_major": 2,
       "version_minor": 0
      },
      "text/plain": [
       "Fitness Calc Gen 3:   0%|          | 0/10 [00:00<?, ?it/s]"
      ]
     },
     "metadata": {},
     "output_type": "display_data"
    },
    {
     "name": "stdout",
     "output_type": "stream",
     "text": [
      "Model Factory: Criando tipo 'PVBin' com params: {'method': 'binary', 'query': 'binary', 'norm': None, 'query_norm': None, 'ngram_range': [1, 2]}\n",
      "Model Factory (PVBin): Convertido ngram_range [1, 2] para tupla (1, 2)\n",
      "Fitting ProductVectorizerClassifier com 100 amostras...\n",
      "Fit concluído.\n",
      "Model Factory: Criando tipo 'PVBin' com params: {'method': 'binary', 'query': 'binary', 'norm': None, 'query_norm': None, 'ngram_range': [1, 2]}\n",
      "Model Factory (PVBin): Convertido ngram_range [1, 2] para tupla (1, 2)\n",
      "Fitting ProductVectorizerClassifier com 100 amostras...\n",
      "Fit concluído.\n",
      "Model Factory: Criando tipo 'PVBin' com params: {'method': 'binary', 'query': 'binary', 'norm': None, 'query_norm': None, 'ngram_range': [1, 2]}\n",
      "Model Factory (PVBin): Convertido ngram_range [1, 2] para tupla (1, 2)\n",
      "Fitting ProductVectorizerClassifier com 100 amostras...\n",
      "Fit concluído.\n",
      "Model Factory: Criando tipo 'PVBin' com params: {'method': 'binary', 'query': 'binary', 'norm': None, 'query_norm': None, 'ngram_range': [1, 2]}\n",
      "Model Factory (PVBin): Convertido ngram_range [1, 2] para tupla (1, 2)\n",
      "Fitting ProductVectorizerClassifier com 100 amostras...\n",
      "Fit concluído.\n",
      "Model Factory: Criando tipo 'PVBin' com params: {'method': 'binary', 'query': 'binary', 'norm': None, 'query_norm': None, 'ngram_range': [1, 2]}\n",
      "Model Factory (PVBin): Convertido ngram_range [1, 2] para tupla (1, 2)\n",
      "Fitting ProductVectorizerClassifier com 100 amostras...\n",
      "Fit concluído.\n",
      "Model Factory: Criando tipo 'PVBin' com params: {'method': 'binary', 'query': 'binary', 'norm': None, 'query_norm': None, 'ngram_range': [1, 2]}\n",
      "Model Factory (PVBin): Convertido ngram_range [1, 2] para tupla (1, 2)\n",
      "Fitting ProductVectorizerClassifier com 100 amostras...\n",
      "Fit concluído.\n",
      "Model Factory: Criando tipo 'PVBin' com params: {'method': 'binary', 'query': 'binary', 'norm': None, 'query_norm': None, 'ngram_range': [1, 2]}\n",
      "Model Factory (PVBin): Convertido ngram_range [1, 2] para tupla (1, 2)\n",
      "Fitting ProductVectorizerClassifier com 100 amostras...\n",
      "Fit concluído.\n",
      "    Novo melhor (Obj: minimize): Perf Real=0.2164\n",
      "    Acc Real Geração 3: Max=0.2477, Avg=0.2275, Min=0.2164\n",
      "    F1 Real Geração  3: Max=0.0350, Avg=0.0323, Min=0.0299\n",
      "    Duração Geração 3: 71.44s\n",
      "\n",
      "  Geração 4/5\n"
     ]
    },
    {
     "data": {
      "application/vnd.jupyter.widget-view+json": {
       "model_id": "b357435e32a24b9193780fd754b7c1d3",
       "version_major": 2,
       "version_minor": 0
      },
      "text/plain": [
       "Fitness Calc Gen 4:   0%|          | 0/10 [00:00<?, ?it/s]"
      ]
     },
     "metadata": {},
     "output_type": "display_data"
    },
    {
     "name": "stdout",
     "output_type": "stream",
     "text": [
      "Model Factory: Criando tipo 'PVBin' com params: {'method': 'binary', 'query': 'binary', 'norm': None, 'query_norm': None, 'ngram_range': [1, 2]}\n",
      "Model Factory (PVBin): Convertido ngram_range [1, 2] para tupla (1, 2)\n",
      "Fitting ProductVectorizerClassifier com 100 amostras...\n",
      "Fit concluído.\n",
      "Model Factory: Criando tipo 'PVBin' com params: {'method': 'binary', 'query': 'binary', 'norm': None, 'query_norm': None, 'ngram_range': [1, 2]}\n",
      "Model Factory (PVBin): Convertido ngram_range [1, 2] para tupla (1, 2)\n",
      "Fitting ProductVectorizerClassifier com 100 amostras...\n",
      "Fit concluído.\n",
      "Model Factory: Criando tipo 'PVBin' com params: {'method': 'binary', 'query': 'binary', 'norm': None, 'query_norm': None, 'ngram_range': [1, 2]}\n",
      "Model Factory (PVBin): Convertido ngram_range [1, 2] para tupla (1, 2)\n",
      "Fitting ProductVectorizerClassifier com 100 amostras...\n",
      "Fit concluído.\n",
      "Model Factory: Criando tipo 'PVBin' com params: {'method': 'binary', 'query': 'binary', 'norm': None, 'query_norm': None, 'ngram_range': [1, 2]}\n",
      "Model Factory (PVBin): Convertido ngram_range [1, 2] para tupla (1, 2)\n",
      "Fitting ProductVectorizerClassifier com 100 amostras...\n",
      "Fit concluído.\n",
      "Model Factory: Criando tipo 'PVBin' com params: {'method': 'binary', 'query': 'binary', 'norm': None, 'query_norm': None, 'ngram_range': [1, 2]}\n",
      "Model Factory (PVBin): Convertido ngram_range [1, 2] para tupla (1, 2)\n",
      "Fitting ProductVectorizerClassifier com 100 amostras...\n",
      "Fit concluído.\n",
      "    Novo melhor (Obj: minimize): Perf Real=0.2052\n",
      "    Acc Real Geração 4: Max=0.2329, Avg=0.2202, Min=0.2052\n",
      "    F1 Real Geração  4: Max=0.0350, Avg=0.0324, Min=0.0307\n",
      "    Duração Geração 4: 47.96s\n",
      "\n",
      "  Geração 5/5\n"
     ]
    },
    {
     "data": {
      "application/vnd.jupyter.widget-view+json": {
       "model_id": "13ae8606231e4a589f1edd219c5b64a5",
       "version_major": 2,
       "version_minor": 0
      },
      "text/plain": [
       "Fitness Calc Gen 5:   0%|          | 0/10 [00:00<?, ?it/s]"
      ]
     },
     "metadata": {},
     "output_type": "display_data"
    },
    {
     "name": "stdout",
     "output_type": "stream",
     "text": [
      "Model Factory: Criando tipo 'PVBin' com params: {'method': 'binary', 'query': 'binary', 'norm': None, 'query_norm': None, 'ngram_range': [1, 2]}\n",
      "Model Factory (PVBin): Convertido ngram_range [1, 2] para tupla (1, 2)\n",
      "Fitting ProductVectorizerClassifier com 100 amostras...\n",
      "Fit concluído.\n",
      "Model Factory: Criando tipo 'PVBin' com params: {'method': 'binary', 'query': 'binary', 'norm': None, 'query_norm': None, 'ngram_range': [1, 2]}\n",
      "Model Factory (PVBin): Convertido ngram_range [1, 2] para tupla (1, 2)\n",
      "Fitting ProductVectorizerClassifier com 100 amostras...\n",
      "Fit concluído.\n",
      "Model Factory: Criando tipo 'PVBin' com params: {'method': 'binary', 'query': 'binary', 'norm': None, 'query_norm': None, 'ngram_range': [1, 2]}\n",
      "Model Factory (PVBin): Convertido ngram_range [1, 2] para tupla (1, 2)\n",
      "Fitting ProductVectorizerClassifier com 100 amostras...\n",
      "Fit concluído.\n",
      "Model Factory: Criando tipo 'PVBin' com params: {'method': 'binary', 'query': 'binary', 'norm': None, 'query_norm': None, 'ngram_range': [1, 2]}\n",
      "Model Factory (PVBin): Convertido ngram_range [1, 2] para tupla (1, 2)\n",
      "Fitting ProductVectorizerClassifier com 100 amostras...\n",
      "Fit concluído.\n",
      "Model Factory: Criando tipo 'PVBin' com params: {'method': 'binary', 'query': 'binary', 'norm': None, 'query_norm': None, 'ngram_range': [1, 2]}\n",
      "Model Factory (PVBin): Convertido ngram_range [1, 2] para tupla (1, 2)\n",
      "Fitting ProductVectorizerClassifier com 100 amostras...\n",
      "Fit concluído.\n",
      "Model Factory: Criando tipo 'PVBin' com params: {'method': 'binary', 'query': 'binary', 'norm': None, 'query_norm': None, 'ngram_range': [1, 2]}\n",
      "Model Factory (PVBin): Convertido ngram_range [1, 2] para tupla (1, 2)\n",
      "Fitting ProductVectorizerClassifier com 100 amostras...\n",
      "Fit concluído.\n",
      "Model Factory: Criando tipo 'PVBin' com params: {'method': 'binary', 'query': 'binary', 'norm': None, 'query_norm': None, 'ngram_range': [1, 2]}\n",
      "Model Factory (PVBin): Convertido ngram_range [1, 2] para tupla (1, 2)\n",
      "Fitting ProductVectorizerClassifier com 100 amostras...\n",
      "Fit concluído.\n",
      "Model Factory: Criando tipo 'PVBin' com params: {'method': 'binary', 'query': 'binary', 'norm': None, 'query_norm': None, 'ngram_range': [1, 2]}\n",
      "Model Factory (PVBin): Convertido ngram_range [1, 2] para tupla (1, 2)\n",
      "Fitting ProductVectorizerClassifier com 100 amostras...\n",
      "Fit concluído.\n",
      "    Acc Real Geração 5: Max=0.2325, Avg=0.2185, Min=0.2052\n",
      "    F1 Real Geração  5: Max=0.0355, Avg=0.0321, Min=0.0301\n",
      "    Duração Geração 5: 81.22s\n",
      "\n",
      "--- Otimização Genética Concluída (391.46 seg) ---\n",
      "Melhor Performance Real Encontrada (accuracy_on_full, Objetivo: minimize): 0.2052\n",
      "Salvando histórico (_ACCURACY_MINIMIZE) em: ag_optimization_results_L0_100\\ag_history_ACCURACY_MINIMIZE.xlsx\n",
      "Salvando L0 (Obj: minimize, Perf: 0.2052) em: ag_optimization_results_L0_100\\ag_best_l0_ACCURACY_MINIMIZE.csv\n",
      "\n",
      "=============== Iniciando Otimização (L0Tam: 100, Obj: MAXIMIZE, Métrica: f1_macro_on_full) ===============\n",
      "GeneticL0Optimizer inicializado.\n",
      " - População: 10, Gerações: 5, L0 Size: 100\n",
      " - Objetivo: maximize, Métrica: f1_macro_on_full\n",
      " - Log Detalhado ATIVADO em: d:\\Nuvem\\ghdaru\\OneDrive\\030_DOUTORADO\\120_TESE\\130_TESEGIT\\activetextclassification\\examples\\ag_optimization_results_L0_100\\ag_detailed_fitnessF1_MAXIMIZE.csv\n",
      "\n",
      "--- Iniciando Otimização Genética (Tam: 100, Obj: maximize, Métrica: f1_macro_on_full) ---\n",
      "Inicializando população...\n"
     ]
    },
    {
     "data": {
      "application/vnd.jupyter.widget-view+json": {
       "model_id": "4aa92802be924d818cec4af0e0773200",
       "version_major": 2,
       "version_minor": 0
      },
      "text/plain": [
       "Criando População Inicial:   0%|          | 0/10 [00:00<?, ?it/s]"
      ]
     },
     "metadata": {},
     "output_type": "display_data"
    },
    {
     "data": {
      "application/vnd.jupyter.widget-view+json": {
       "model_id": "3691a25fe9e74a38a59303a453f4bdca",
       "version_major": 2,
       "version_minor": 0
      },
      "text/plain": [
       "Gerações AG:   0%|          | 0/5 [00:00<?, ?it/s]"
      ]
     },
     "metadata": {},
     "output_type": "display_data"
    },
    {
     "name": "stdout",
     "output_type": "stream",
     "text": [
      "\n",
      "  Geração 1/5\n"
     ]
    },
    {
     "data": {
      "application/vnd.jupyter.widget-view+json": {
       "model_id": "78a6aa678b934708b91c23d2c6754654",
       "version_major": 2,
       "version_minor": 0
      },
      "text/plain": [
       "Fitness Calc Gen 1:   0%|          | 0/10 [00:00<?, ?it/s]"
      ]
     },
     "metadata": {},
     "output_type": "display_data"
    },
    {
     "name": "stdout",
     "output_type": "stream",
     "text": [
      "Model Factory: Criando tipo 'PVBin' com params: {'method': 'binary', 'query': 'binary', 'norm': None, 'query_norm': None, 'ngram_range': [1, 2]}\n",
      "Model Factory (PVBin): Convertido ngram_range [1, 2] para tupla (1, 2)\n",
      "Fitting ProductVectorizerClassifier com 100 amostras...\n",
      "Fit concluído.\n",
      "Model Factory: Criando tipo 'PVBin' com params: {'method': 'binary', 'query': 'binary', 'norm': None, 'query_norm': None, 'ngram_range': [1, 2]}\n",
      "Model Factory (PVBin): Convertido ngram_range [1, 2] para tupla (1, 2)\n",
      "Fitting ProductVectorizerClassifier com 100 amostras...\n",
      "Fit concluído.\n",
      "Model Factory: Criando tipo 'PVBin' com params: {'method': 'binary', 'query': 'binary', 'norm': None, 'query_norm': None, 'ngram_range': [1, 2]}\n",
      "Model Factory (PVBin): Convertido ngram_range [1, 2] para tupla (1, 2)\n",
      "Fitting ProductVectorizerClassifier com 100 amostras...\n",
      "Fit concluído.\n",
      "Model Factory: Criando tipo 'PVBin' com params: {'method': 'binary', 'query': 'binary', 'norm': None, 'query_norm': None, 'ngram_range': [1, 2]}\n",
      "Model Factory (PVBin): Convertido ngram_range [1, 2] para tupla (1, 2)\n",
      "Fitting ProductVectorizerClassifier com 100 amostras...\n",
      "Fit concluído.\n",
      "Model Factory: Criando tipo 'PVBin' com params: {'method': 'binary', 'query': 'binary', 'norm': None, 'query_norm': None, 'ngram_range': [1, 2]}\n",
      "Model Factory (PVBin): Convertido ngram_range [1, 2] para tupla (1, 2)\n",
      "Fitting ProductVectorizerClassifier com 100 amostras...\n",
      "Fit concluído.\n",
      "Model Factory: Criando tipo 'PVBin' com params: {'method': 'binary', 'query': 'binary', 'norm': None, 'query_norm': None, 'ngram_range': [1, 2]}\n",
      "Model Factory (PVBin): Convertido ngram_range [1, 2] para tupla (1, 2)\n",
      "Fitting ProductVectorizerClassifier com 100 amostras...\n",
      "Fit concluído.\n",
      "Model Factory: Criando tipo 'PVBin' com params: {'method': 'binary', 'query': 'binary', 'norm': None, 'query_norm': None, 'ngram_range': [1, 2]}\n",
      "Model Factory (PVBin): Convertido ngram_range [1, 2] para tupla (1, 2)\n",
      "Fitting ProductVectorizerClassifier com 100 amostras...\n",
      "Fit concluído.\n",
      "Model Factory: Criando tipo 'PVBin' com params: {'method': 'binary', 'query': 'binary', 'norm': None, 'query_norm': None, 'ngram_range': [1, 2]}\n",
      "Model Factory (PVBin): Convertido ngram_range [1, 2] para tupla (1, 2)\n",
      "Fitting ProductVectorizerClassifier com 100 amostras...\n",
      "Fit concluído.\n",
      "Model Factory: Criando tipo 'PVBin' com params: {'method': 'binary', 'query': 'binary', 'norm': None, 'query_norm': None, 'ngram_range': [1, 2]}\n",
      "Model Factory (PVBin): Convertido ngram_range [1, 2] para tupla (1, 2)\n",
      "Fitting ProductVectorizerClassifier com 100 amostras...\n",
      "Fit concluído.\n",
      "Model Factory: Criando tipo 'PVBin' com params: {'method': 'binary', 'query': 'binary', 'norm': None, 'query_norm': None, 'ngram_range': [1, 2]}\n",
      "Model Factory (PVBin): Convertido ngram_range [1, 2] para tupla (1, 2)\n",
      "Fitting ProductVectorizerClassifier com 100 amostras...\n",
      "Fit concluído.\n",
      "    Novo melhor (Obj: maximize): Perf Real=0.0366\n",
      "    Acc Real Geração 1: Max=0.2678, Avg=0.2456, Min=0.2116\n",
      "    F1 Real Geração  1: Max=0.0366, Avg=0.0323, Min=0.0273\n",
      "    Duração Geração 1: 120.34s\n",
      "\n",
      "  Geração 2/5\n"
     ]
    },
    {
     "data": {
      "application/vnd.jupyter.widget-view+json": {
       "model_id": "ecf98b2c41e94a41b5b4306a88ed80d2",
       "version_major": 2,
       "version_minor": 0
      },
      "text/plain": [
       "Fitness Calc Gen 2:   0%|          | 0/10 [00:00<?, ?it/s]"
      ]
     },
     "metadata": {},
     "output_type": "display_data"
    },
    {
     "name": "stdout",
     "output_type": "stream",
     "text": [
      "Model Factory: Criando tipo 'PVBin' com params: {'method': 'binary', 'query': 'binary', 'norm': None, 'query_norm': None, 'ngram_range': [1, 2]}\n",
      "Model Factory (PVBin): Convertido ngram_range [1, 2] para tupla (1, 2)\n",
      "Fitting ProductVectorizerClassifier com 100 amostras...\n",
      "Fit concluído.\n",
      "Model Factory: Criando tipo 'PVBin' com params: {'method': 'binary', 'query': 'binary', 'norm': None, 'query_norm': None, 'ngram_range': [1, 2]}\n",
      "Model Factory (PVBin): Convertido ngram_range [1, 2] para tupla (1, 2)\n",
      "Fitting ProductVectorizerClassifier com 100 amostras...\n",
      "Fit concluído.\n",
      "Model Factory: Criando tipo 'PVBin' com params: {'method': 'binary', 'query': 'binary', 'norm': None, 'query_norm': None, 'ngram_range': [1, 2]}\n",
      "Model Factory (PVBin): Convertido ngram_range [1, 2] para tupla (1, 2)\n",
      "Fitting ProductVectorizerClassifier com 100 amostras...\n",
      "Fit concluído.\n",
      "Model Factory: Criando tipo 'PVBin' com params: {'method': 'binary', 'query': 'binary', 'norm': None, 'query_norm': None, 'ngram_range': [1, 2]}\n",
      "Model Factory (PVBin): Convertido ngram_range [1, 2] para tupla (1, 2)\n",
      "Fitting ProductVectorizerClassifier com 100 amostras...\n",
      "Fit concluído.\n",
      "Model Factory: Criando tipo 'PVBin' com params: {'method': 'binary', 'query': 'binary', 'norm': None, 'query_norm': None, 'ngram_range': [1, 2]}\n",
      "Model Factory (PVBin): Convertido ngram_range [1, 2] para tupla (1, 2)\n",
      "Fitting ProductVectorizerClassifier com 100 amostras...\n",
      "Fit concluído.\n"
     ]
    }
   ],
   "source": [
    "# %%\n",
    "# =============================================================================\n",
    "# Célula 4: Executar Otimizações\n",
    "# =============================================================================\n",
    "FORCE_RERUN_OPTIMIZATIONS = False # Mude para True para re-rodar tudo\n",
    "optimization_results = {}\n",
    "\n",
    "if df_full_ag is not None and not df_full_ag.empty:\n",
    "    # --- Otimizar para ACURÁCIA ---\n",
    "    res_acc_max = run_and_save_optimization_with_resume(df_full_ag, 'maximize', 'accuracy_on_full', 0, FORCE_RERUN_OPTIMIZATIONS)\n",
    "    optimization_results['ACC_MAX'] = {'indices': res_acc_max[0], 'performance': res_acc_max[1], 'history_df': res_acc_max[2]}\n",
    "\n",
    "    res_acc_min = run_and_save_optimization_with_resume(df_full_ag, 'minimize', 'accuracy_on_full', 100, FORCE_RERUN_OPTIMIZATIONS)\n",
    "    optimization_results['ACC_MIN'] = {'indices': res_acc_min[0], 'performance': res_acc_min[1], 'history_df': res_acc_min[2]}\n",
    "\n",
    "    # --- Otimizar para F1-SCORE ---\n",
    "    res_f1_max = run_and_save_optimization_with_resume(df_full_ag, 'maximize', 'f1_macro_on_full', 200, FORCE_RERUN_OPTIMIZATIONS)\n",
    "    optimization_results['F1_MAX'] = {'indices': res_f1_max[0], 'performance': res_f1_max[1], 'history_df': res_f1_max[2]}\n",
    "\n",
    "    res_f1_min = run_and_save_optimization_with_resume(df_full_ag, 'minimize', 'f1_macro_on_full', 300, FORCE_RERUN_OPTIMIZATIONS)\n",
    "    optimization_results['F1_MIN'] = {'indices': res_f1_min[0], 'performance': res_f1_min[1], 'history_df': res_f1_min[2]}\n",
    "\n",
    "    print(\"\\n--- Todas as Otimizações Programadas Concluídas/Puladas ---\")\n",
    "else:\n",
    "    print(\"ERRO: df_full_ag não está definido ou está vazio. Não é possível executar otimizações.\")\n",
    "\n",
    "x"
   ]
  },
  {
   "cell_type": "code",
   "execution_count": null,
   "id": "f09ce59c",
   "metadata": {},
   "outputs": [],
   "source": [
    "# %%\n",
    "# =============================================================================\n",
    "# Célula 4: Executar Otimizações\n",
    "# =============================================================================\n",
    "FORCE_RERUN_OPTIMIZATIONS = False # Mude para True para re-rodar tudo\n",
    "optimization_results = {}\n",
    "\n",
    "if df_full_ag is not None and not df_full_ag.empty:\n",
    "    # --- Otimizar para ACURÁCIA ---\n",
    "    res_acc_max = run_and_save_optimization_with_resume(df_full_ag, 'maximize', 'accuracy_on_full', 0, FORCE_RERUN_OPTIMIZATIONS)\n",
    "    optimization_results['ACC_MAX'] = {'indices': res_acc_max[0], 'performance': res_acc_max[1], 'history_df': res_acc_max[2]}\n",
    "\n",
    "    res_acc_min = run_and_save_optimization_with_resume(df_full_ag, 'minimize', 'accuracy_on_full', 100, FORCE_RERUN_OPTIMIZATIONS)\n",
    "    optimization_results['ACC_MIN'] = {'indices': res_acc_min[0], 'performance': res_acc_min[1], 'history_df': res_acc_min[2]}\n",
    "\n",
    "    # --- Otimizar para F1-SCORE ---\n",
    "    res_f1_max = run_and_save_optimization_with_resume(df_full_ag, 'maximize', 'f1_macro_on_full', 200, FORCE_RERUN_OPTIMIZATIONS)\n",
    "    optimization_results['F1_MAX'] = {'indices': res_f1_max[0], 'performance': res_f1_max[1], 'history_df': res_f1_max[2]}\n",
    "\n",
    "    res_f1_min = run_and_save_optimization_with_resume(df_full_ag, 'minimize', 'f1_macro_on_full', 300, FORCE_RERUN_OPTIMIZATIONS)\n",
    "    optimization_results['F1_MIN'] = {'indices': res_f1_min[0], 'performance': res_f1_min[1], 'history_df': res_f1_min[2]}\n",
    "\n",
    "    print(\"\\n--- Todas as Otimizações Programadas Concluídas/Puladas ---\")\n",
    "else:\n",
    "    print(\"ERRO: df_full_ag não está definido ou está vazio. Não é possível executar otimizações.\")\n",
    "\n"
   ]
  },
  {
   "cell_type": "code",
   "execution_count": null,
   "id": "cfc162b7",
   "metadata": {},
   "outputs": [],
   "source": [
    "# %%\n",
    "# =============================================================================\n",
    "# Célula 5: Visualização dos Resultados da Otimização AG\n",
    "# =============================================================================\n",
    "print(\"\\n--- Carregando e Plotando Resultados da Otimização AG ---\")\n",
    "\n",
    "# Loop para carregar e plotar cada resultado salvo (se não já em optimization_results)\n",
    "plot_configs = [\n",
    "    {'goal': 'maximize', 'metric': 'accuracy_on_full', 'key': 'ACC_MAX', 'title_metric': 'Acurácia'},\n",
    "    {'goal': 'minimize', 'metric': 'accuracy_on_full', 'key': 'ACC_MIN', 'title_metric': 'Acurácia'},\n",
    "    {'goal': 'maximize', 'metric': 'f1_macro_on_full', 'key': 'F1_MAX', 'title_metric': 'F1-Macro'},\n",
    "    {'goal': 'minimize', 'metric': 'f1_macro_on_full', 'key': 'F1_MIN', 'title_metric': 'F1-Macro'}\n",
    "]\n",
    "\n",
    "for p_config in plot_configs:\n",
    "    goal_suffix = f\"_{p_config['metric'].split('_')[0].upper()}_{p_config['goal'].upper()}\"\n",
    "    history_file = f\"{OPTIMIZATION_HISTORY_BASE_FILE}{goal_suffix}.xlsx\"\n",
    "    detailed_log_file = f\"{DETAILED_FITNESS_LOG_BASE_FILE}{p_config['metric'].split('_')[0].upper()}_{p_config['goal'].upper()}.csv\"\n",
    "    title_prefix = f\"AG {p_config['goal'].capitalize()} {p_config['title_metric']}\"\n",
    "\n",
    "    print(f\"\\n--- Visualizando para: {title_prefix} ---\")\n",
    "\n",
    "    # Carregar histórico se não estiver já no dict optimization_results ou se estiver vazio\n",
    "    history_df_plot = optimization_results.get(p_config['key'], {}).get('history_df')\n",
    "    if history_df_plot is None or history_df_plot.empty:\n",
    "        if os.path.exists(history_file):\n",
    "            try: history_df_plot = pd.read_excel(history_file)\n",
    "            except Exception as e: print(f\"  Erro ao carregar {history_file}: {e}\")\n",
    "        else: print(f\"  Arquivo de histórico {history_file} não encontrado.\")\n",
    "\n",
    "    # Plotar convergência\n",
    "    if history_df_plot is not None and not history_df_plot.empty:\n",
    "        plot_ag_convergence(history_df_plot, title_prefix=f\"Convergência - {title_prefix}\", l0_size=L0_SIZE_TO_OPTIMIZE)\n",
    "        plot_ag_time_stats(history_df_plot, title_prefix=f\"Tempo/Geração - {title_prefix}\", l0_size=L0_SIZE_TO_OPTIMIZE)\n",
    "\n",
    "    # Carregar e plotar boxplots da população\n",
    "    if LOG_DETAILED_FITNESS_AG and os.path.exists(detailed_log_file):\n",
    "        try:\n",
    "            df_detailed_plot = pd.read_csv(detailed_log_file)\n",
    "            # A métrica a ser plotada no boxplot é a que foi otimizada\n",
    "            metric_col_for_boxplot = p_config['metric'] # 'accuracy_on_full' ou 'f1_macro_on_full'\n",
    "            plot_ag_population_evolution_boxplots(\n",
    "                df_detailed_plot,\n",
    "                metric_to_plot=metric_col_for_boxplot,\n",
    "                title_prefix=f\"Evolução População - {title_prefix}\",\n",
    "                l0_size=L0_SIZE_TO_OPTIMIZE,\n",
    "                generation_step=max(1, N_GENERATIONS_AG // 5) # Plotar ~5 boxplots\n",
    "            )\n",
    "        except Exception as e:\n",
    "            print(f\"  Erro ao carregar ou plotar log detalhado {detailed_log_file}: {e}\")\n",
    "    elif LOG_DETAILED_FITNESS_AG:\n",
    "        print(f\"  Arquivo de log detalhado {detailed_log_file} não encontrado.\")"
   ]
  }
 ],
 "metadata": {
  "kernelspec": {
   "display_name": ".venv",
   "language": "python",
   "name": "python3"
  },
  "language_info": {
   "codemirror_mode": {
    "name": "ipython",
    "version": 3
   },
   "file_extension": ".py",
   "mimetype": "text/x-python",
   "name": "python",
   "nbconvert_exporter": "python",
   "pygments_lexer": "ipython3",
   "version": "3.11.0"
  }
 },
 "nbformat": 4,
 "nbformat_minor": 5
}
